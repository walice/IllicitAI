{
 "cells": [
  {
   "cell_type": "markdown",
   "id": "0dcbfa94-b9c5-435b-9f89-6f5b4c43be46",
   "metadata": {
    "papermill": {
     "duration": 0.012854,
     "end_time": "2021-08-25T04:30:52.046180",
     "exception": false,
     "start_time": "2021-08-25T04:30:52.033326",
     "status": "completed"
    },
    "tags": []
   },
   "source": [
    "# Linear Model"
   ]
  },
  {
   "cell_type": "markdown",
   "id": "99c44811-2186-4277-911a-ff940e34ff01",
   "metadata": {
    "papermill": {
     "duration": 0.012582,
     "end_time": "2021-08-25T04:30:52.072441",
     "exception": false,
     "start_time": "2021-08-25T04:30:52.059859",
     "status": "completed"
    },
    "tags": []
   },
   "source": [
    "## Data wrangling"
   ]
  },
  {
   "cell_type": "code",
   "execution_count": 1,
   "id": "d2f5d343-55f4-43d0-9b14-5d79fc7094ee",
   "metadata": {
    "papermill": {
     "duration": 1.90378,
     "end_time": "2021-08-25T04:30:53.987733",
     "exception": false,
     "start_time": "2021-08-25T04:30:52.083953",
     "status": "completed"
    },
    "tags": []
   },
   "outputs": [],
   "source": [
    "# Preamble\n",
    "import pandas as pd\n",
    "import numpy as np\n",
    "pd.set_option(\"mode.chained_assignment\", None)\n",
    "import random\n",
    "random.seed(1509)\n",
    "import matplotlib.pyplot as plt\n",
    "import lightgbm as lgb\n",
    "import pyarrow.feather as feather\n",
    "from os import chdir, getcwd\n",
    "import statsmodels.api as sm\n",
    "from pprint import pprint\n",
    "from nested_cv import NestedCV\n",
    "\n",
    "# sci-kit\n",
    "from sklearn.linear_model import LinearRegression\n",
    "from sklearn.neural_network import MLPRegressor\n",
    "from sklearn.ensemble import RandomForestRegressor\n",
    "from sklearn import svm\n",
    "from sklearn.preprocessing import StandardScaler\n",
    "from sklearn.model_selection import train_test_split, GridSearchCV, RandomizedSearchCV, cross_val_score, cross_val_predict\n",
    "from sklearn import metrics\n",
    "from sklearn.metrics import r2_score, mean_squared_error, explained_variance_score\n",
    "from sklearn import tree"
   ]
  },
  {
   "cell_type": "code",
   "execution_count": 2,
   "id": "6cbed92b-623c-4293-9927-1ae51e505de2",
   "metadata": {
    "papermill": {
     "duration": 0.019207,
     "end_time": "2021-08-25T04:30:54.023305",
     "exception": false,
     "start_time": "2021-08-25T04:30:54.004098",
     "status": "completed"
    },
    "tags": []
   },
   "outputs": [],
   "source": [
    "data_dir = '/home/jovyan/work/Data/'\n",
    "results_dir = '/home/jovyan/work/Results/'"
   ]
  },
  {
   "cell_type": "code",
   "execution_count": 3,
   "id": "aa5789cf-f1d7-4d3d-a2a3-6568a164c189",
   "metadata": {},
   "outputs": [],
   "source": [
    "select_features = ['reporter.ISO', 'partner.ISO', 'year',\n",
    "                   'ln.Tot_IFF_t', 'ln.In_Tot_IFF_t',\n",
    "                   'ln.gdp_o', 'ln.gdp_d', 'ln.pop_o', 'ln.pop_d', \n",
    "                   'dist', 'contig', \n",
    "                   'comlang', 'comcol', 'col45', \n",
    "                   'ihs.entry_cost_o', 'ihs.entry_cost_d', 'rta',\n",
    "                   'rCorrCont', 'pCorrCont',\n",
    "                   'rRegQual', 'pRegQual', \n",
    "                   'rRuleLaw', 'pRuleLaw',\n",
    "                   'pSecrecyScore',\n",
    "                   'pFSI.rank',\n",
    "                   'pKFSI13',\n",
    "                   'pKFSI17',\n",
    "                   'pKFSI20',\n",
    "                   'rFATF', 'pFATF',\n",
    "                   'ihs.tariff',\n",
    "                   'kai_o', 'kai_d', 'kao_o', 'kao_d',\n",
    "                   'cc_o', 'cc_d', 'cci_o', 'cci_d', 'cco_o', 'cco_d',\n",
    "                   'di_o', 'di_d', 'dii_o', 'dii_d', 'dio_o', 'dio_d']\n",
    "\n",
    "features = [       'ln.gdp_o', 'ln.gdp_d', 'ln.pop_o', 'ln.pop_d', \n",
    "                   'dist', 'contig', \n",
    "                   'comlang', 'comcol', 'col45', \n",
    "                   'ihs.entry_cost_o', 'ihs.entry_cost_d', 'rta',\n",
    "                   'rCorrCont', 'pCorrCont',\n",
    "                   'rRegQual', 'pRegQual', \n",
    "                   'rRuleLaw', 'pRuleLaw',\n",
    "                   'pSecrecyScore',\n",
    "                   'pFSI.rank',\n",
    "                   'pKFSI13',\n",
    "                   'pKFSI17',\n",
    "                   'pKFSI20',\n",
    "                   'rFATF', 'pFATF',\n",
    "                   'ihs.tariff',\n",
    "                   'kai_o', 'kai_d', 'kao_o', 'kao_d',\n",
    "                   'cc_o', 'cc_d', 'cci_o', 'cci_d', 'cco_o', 'cco_d',\n",
    "                   'di_o', 'di_d', 'dii_o', 'dii_d', 'dio_o', 'dio_d']\n",
    "\n",
    "ids = [       'reporter.ISO', 'partner.ISO', 'year']"
   ]
  },
  {
   "cell_type": "code",
   "execution_count": 4,
   "id": "bd653092-80a0-47a9-bf07-9970ec82973a",
   "metadata": {},
   "outputs": [],
   "source": [
    "def create_smp(data, features):\n",
    "    \"\"\"\n",
    "    Create train and test samples that are complete.\n",
    "    \"\"\"\n",
    "    smp = data[features]\n",
    "    smp.dropna(axis=0, how='any', inplace=True)\n",
    "    return smp"
   ]
  },
  {
   "cell_type": "markdown",
   "id": "a6cbf9da-0af7-4d89-9227-d63c9f5e9b04",
   "metadata": {
    "papermill": {
     "duration": 0.011902,
     "end_time": "2021-08-25T04:30:54.080630",
     "exception": false,
     "start_time": "2021-08-25T04:30:54.068728",
     "status": "completed"
    },
    "tags": []
   },
   "source": [
    "## Samples"
   ]
  },
  {
   "cell_type": "markdown",
   "id": "dd3b6c06",
   "metadata": {},
   "source": [
    "### Import full sample"
   ]
  },
  {
   "cell_type": "code",
   "execution_count": 5,
   "id": "a8e7b267",
   "metadata": {},
   "outputs": [],
   "source": [
    "data = feather.read_feather(results_dir + 'Africa_agg.feather')"
   ]
  },
  {
   "cell_type": "code",
   "execution_count": 6,
   "id": "d6662b7c",
   "metadata": {},
   "outputs": [],
   "source": [
    "data_smp = create_smp(data, select_features)"
   ]
  },
  {
   "cell_type": "code",
   "execution_count": 35,
   "id": "f4437d65-8428-456d-89e7-82db487c5d36",
   "metadata": {},
   "outputs": [],
   "source": [
    "idx = data_smp[ids]\n",
    "X = data_smp[features]\n",
    "Y_out = data_smp[['ln.Tot_IFF_t']]\n",
    "Y_in = data_smp[['ln.In_Tot_IFF_t']]"
   ]
  },
  {
   "cell_type": "code",
   "execution_count": 36,
   "id": "5a71e5f2-4143-4868-b073-71bc74b148c0",
   "metadata": {},
   "outputs": [
    {
     "name": "stdout",
     "output_type": "stream",
     "text": [
      "X:  (5333, 42) \n",
      "Y_out:  (5333, 1)\n"
     ]
    }
   ],
   "source": [
    "print('X: ', X.shape, '\\nY_out: ',  Y_out.shape)"
   ]
  },
  {
   "cell_type": "markdown",
   "id": "06000ef4-a2d9-4d96-bc75-9c35f1b68710",
   "metadata": {},
   "source": [
    "### Import training and test sets"
   ]
  },
  {
   "cell_type": "code",
   "execution_count": 7,
   "id": "717e9296",
   "metadata": {
    "papermill": {
     "duration": 0.198678,
     "end_time": "2021-08-25T04:30:54.291158",
     "exception": false,
     "start_time": "2021-08-25T04:30:54.092480",
     "status": "completed"
    },
    "tags": []
   },
   "outputs": [],
   "source": [
    "train_agg = feather.read_feather(results_dir + 'train_agg.feather')\n",
    "test_agg = feather.read_feather(results_dir + 'test_agg.feather')"
   ]
  },
  {
   "cell_type": "code",
   "execution_count": 8,
   "id": "bf7ed85f-c229-46f8-b066-8b845fc60be6",
   "metadata": {
    "tags": []
   },
   "outputs": [],
   "source": [
    "train_agg_smp = create_smp(train_agg, select_features)\n",
    "test_agg_smp = create_smp(test_agg, select_features)"
   ]
  },
  {
   "cell_type": "code",
   "execution_count": 9,
   "id": "8bc33b86-f009-4ac6-81c6-1fdce1bdafbc",
   "metadata": {
    "papermill": {
     "duration": 0.030357,
     "end_time": "2021-08-25T04:30:54.432522",
     "exception": false,
     "start_time": "2021-08-25T04:30:54.402165",
     "status": "completed"
    },
    "tags": []
   },
   "outputs": [],
   "source": [
    "feather.write_feather(train_agg_smp, results_dir + 'train_agg_smp.feather')\n",
    "feather.write_feather(test_agg_smp, results_dir + 'test_agg_smp.feather')"
   ]
  },
  {
   "cell_type": "code",
   "execution_count": 10,
   "id": "2d815891",
   "metadata": {
    "papermill": {
     "duration": 0.198678,
     "end_time": "2021-08-25T04:30:54.291158",
     "exception": false,
     "start_time": "2021-08-25T04:30:54.092480",
     "status": "completed"
    },
    "tags": []
   },
   "outputs": [
    {
     "name": "stdout",
     "output_type": "stream",
     "text": [
      "Training set:  (4256, 47) \n",
      "Test set:  (1077, 47)\n"
     ]
    }
   ],
   "source": [
    "print('Training set: ', train_agg_smp.shape, '\\nTest set: ',  test_agg_smp.shape)"
   ]
  },
  {
   "cell_type": "markdown",
   "id": "f6a3240e-6f61-4c42-930f-43c801694af4",
   "metadata": {},
   "source": [
    "### Create feature set and vector of outcome labels"
   ]
  },
  {
   "cell_type": "code",
   "execution_count": 11,
   "id": "93054b4b-2432-4ebd-844f-6461091406f6",
   "metadata": {},
   "outputs": [],
   "source": [
    "# Training set\n",
    "Y_train_out = train_agg_smp[['ln.Tot_IFF_t']]\n",
    "Y_train_in = train_agg_smp[['ln.In_Tot_IFF_t']]\n",
    "X_train = train_agg_smp[features]\n",
    "\n",
    "# Test set\n",
    "Y_test_out = test_agg_smp[['ln.Tot_IFF_t']]\n",
    "Y_test_in = test_agg_smp[['ln.In_Tot_IFF_t']]\n",
    "X_test = test_agg_smp[features]"
   ]
  },
  {
   "cell_type": "code",
   "execution_count": 12,
   "id": "162d5e90-06b2-418b-8e9c-143989679f34",
   "metadata": {},
   "outputs": [],
   "source": [
    "idx = train_agg_smp[ids]"
   ]
  },
  {
   "cell_type": "markdown",
   "id": "51afba86-15dc-4121-b287-b2858a51389b",
   "metadata": {
    "papermill": {
     "duration": 0.011466,
     "end_time": "2021-08-25T04:30:54.492337",
     "exception": false,
     "start_time": "2021-08-25T04:30:54.480871",
     "status": "completed"
    },
    "tags": []
   },
   "source": [
    "## Linear regression"
   ]
  },
  {
   "cell_type": "markdown",
   "id": "4eb1b8a3-f0ba-471c-b84c-59989f9229fa",
   "metadata": {},
   "source": [
    "### Fit linear regression model"
   ]
  },
  {
   "cell_type": "code",
   "execution_count": 13,
   "id": "139e74e4-3543-459d-9488-33a700c40a2b",
   "metadata": {
    "papermill": {
     "duration": 0.037,
     "end_time": "2021-08-25T04:30:54.540674",
     "exception": false,
     "start_time": "2021-08-25T04:30:54.503674",
     "status": "completed"
    },
    "tags": []
   },
   "outputs": [
    {
     "data": {
      "text/plain": [
       "LinearRegression()"
      ]
     },
     "execution_count": 13,
     "metadata": {},
     "output_type": "execute_result"
    }
   ],
   "source": [
    "linear_mod_out = LinearRegression()  \n",
    "linear_mod_out.fit(X_train.values, Y_train_out.values)"
   ]
  },
  {
   "cell_type": "code",
   "execution_count": 14,
   "id": "63f20a44-a031-4061-951d-567235db6d1f",
   "metadata": {},
   "outputs": [
    {
     "data": {
      "text/plain": [
       "LinearRegression()"
      ]
     },
     "execution_count": 14,
     "metadata": {},
     "output_type": "execute_result"
    }
   ],
   "source": [
    "linear_mod_in = LinearRegression()  \n",
    "linear_mod_in.fit(X_train.values, Y_train_in.values)"
   ]
  },
  {
   "cell_type": "markdown",
   "id": "9be92a19-73e3-46f6-9807-862cbf86821e",
   "metadata": {},
   "source": [
    "### Print coefficients"
   ]
  },
  {
   "cell_type": "code",
   "execution_count": 15,
   "id": "ebd838fc-d161-42c6-bcb2-34265c0044a9",
   "metadata": {
    "papermill": {
     "duration": 0.034715,
     "end_time": "2021-08-25T04:30:54.596530",
     "exception": false,
     "start_time": "2021-08-25T04:30:54.561815",
     "status": "completed"
    },
    "tags": []
   },
   "outputs": [
    {
     "name": "stdout",
     "output_type": "stream",
     "text": [
      "[-31.76690854]\n",
      "[[ 1.44017621e+00  4.73285338e-01 -6.53251608e-01  7.80489825e-01\n",
      "  -2.19969261e-04  3.20234393e+00  4.92334684e-01 -4.68218951e-02\n",
      "   4.08187955e-01  3.73398260e-01  2.67072904e-01  5.93048923e-01\n",
      "  -3.75487341e-03  2.58208547e-02 -1.02622238e-02  9.90414719e-03\n",
      "   2.38703745e-02 -6.29400188e-03 -2.27177124e-02 -6.89098597e-03\n",
      "   1.15326900e+00 -1.60963323e+00  1.83543200e+00  3.54464689e+00\n",
      "   9.92499305e-01 -1.92548570e-01  1.19257406e+00 -2.84898815e-01\n",
      "   4.00270172e+00  9.04923521e-01  1.93546485e-01 -8.56771122e-02\n",
      "  -3.48350370e-01 -5.82263401e-01  7.35443340e-01  4.10909177e-01\n",
      "  -1.57394039e+00 -4.34301715e-03  5.97881435e-01  8.61853165e-02\n",
      "  -3.74576221e+00 -9.48713508e-02]]\n"
     ]
    }
   ],
   "source": [
    "print(linear_mod_out.intercept_)\n",
    "print(linear_mod_out.coef_)"
   ]
  },
  {
   "cell_type": "code",
   "execution_count": 16,
   "id": "51bfb9c6-856f-4c92-85f4-46bb055e788f",
   "metadata": {
    "papermill": {
     "duration": 0.034715,
     "end_time": "2021-08-25T04:30:54.596530",
     "exception": false,
     "start_time": "2021-08-25T04:30:54.561815",
     "status": "completed"
    },
    "tags": []
   },
   "outputs": [
    {
     "name": "stdout",
     "output_type": "stream",
     "text": [
      "[-25.31188105]\n",
      "[[ 1.14106241e+00  2.92109996e-01 -3.44411560e-01  8.82678096e-01\n",
      "  -2.46086687e-04  2.75474686e+00  5.63761313e-01 -1.47046144e-02\n",
      "   1.17458517e+00  1.56377306e-01  1.56810073e-01  8.65111119e-01\n",
      "  -1.14229593e-02  4.21426180e-02 -1.04543855e-02  5.03802594e-03\n",
      "   2.71894170e-02 -2.03280029e-02 -8.89087311e-03 -7.48900155e-03\n",
      "   1.05182561e+00 -1.68239571e+00  1.09670453e+00  2.53443942e+00\n",
      "   1.38546764e+00 -1.89947113e-01  5.25340039e-01 -3.75436307e-01\n",
      "   3.05504120e+00  8.49604257e-01  1.52924380e-01 -2.05325935e-01\n",
      "   1.20206969e-01 -6.33621215e-01  1.85641792e-01  2.22969344e-01\n",
      "  -1.25261476e+00 -3.88369572e-02  1.38789072e-01 -3.37708301e-01\n",
      "  -2.64401859e+00  2.60034387e-01]]\n"
     ]
    }
   ],
   "source": [
    "print(linear_mod_in.intercept_)\n",
    "print(linear_mod_in.coef_)"
   ]
  },
  {
   "cell_type": "code",
   "execution_count": 17,
   "id": "3238d645-0834-4f5f-a4e9-ec27d7ac58b3",
   "metadata": {
    "papermill": {
     "duration": 0.289043,
     "end_time": "2021-08-25T04:30:54.907396",
     "exception": false,
     "start_time": "2021-08-25T04:30:54.618353",
     "status": "completed"
    },
    "tags": []
   },
   "outputs": [
    {
     "name": "stdout",
     "output_type": "stream",
     "text": [
      "                            OLS Regression Results                            \n",
      "==============================================================================\n",
      "Dep. Variable:           ln.Tot_IFF_t   R-squared:                       0.581\n",
      "Model:                            OLS   Adj. R-squared:                  0.577\n",
      "Method:                 Least Squares   F-statistic:                     153.6\n",
      "Date:                Tue, 12 Oct 2021   Prob (F-statistic):               0.00\n",
      "Time:                        06:36:12   Log-Likelihood:                -9092.6\n",
      "No. Observations:                4256   AIC:                         1.826e+04\n",
      "Df Residuals:                    4217   BIC:                         1.851e+04\n",
      "Df Model:                          38                                         \n",
      "Covariance Type:            nonrobust                                         \n",
      "====================================================================================\n",
      "                       coef    std err          t      P>|t|      [0.025      0.975]\n",
      "------------------------------------------------------------------------------------\n",
      "const              -31.7669      1.734    -18.322      0.000     -35.166     -28.368\n",
      "ln.gdp_o             1.4402      0.068     21.033      0.000       1.306       1.574\n",
      "ln.gdp_d             0.4733      0.082      5.775      0.000       0.313       0.634\n",
      "ln.pop_o            -0.6533      0.074     -8.785      0.000      -0.799      -0.507\n",
      "ln.pop_d             0.7805      0.080      9.696      0.000       0.623       0.938\n",
      "dist                -0.0002   1.29e-05    -17.074      0.000      -0.000      -0.000\n",
      "contig               3.2023      0.295     10.847      0.000       2.624       3.781\n",
      "comlang              0.4923      0.090      5.449      0.000       0.315       0.669\n",
      "comcol              -0.0468      0.156     -0.300      0.764      -0.353       0.259\n",
      "col45                0.4082      0.217      1.879      0.060      -0.018       0.834\n",
      "ihs.entry_cost_o     0.3734      0.057      6.553      0.000       0.262       0.485\n",
      "ihs.entry_cost_d     0.2671      0.037      7.126      0.000       0.194       0.341\n",
      "rta                  0.5930      0.102      5.821      0.000       0.393       0.793\n",
      "rCorrCont           -0.0038      0.005     -0.822      0.411      -0.013       0.005\n",
      "pCorrCont            0.0258      0.006      4.388      0.000       0.014       0.037\n",
      "rRegQual            -0.0103      0.005     -2.119      0.034      -0.020      -0.001\n",
      "pRegQual             0.0099      0.007      1.502      0.133      -0.003       0.023\n",
      "rRuleLaw             0.0239      0.005      4.360      0.000       0.013       0.035\n",
      "pRuleLaw            -0.0063      0.006     -0.978      0.328      -0.019       0.006\n",
      "pSecrecyScore       -0.0227      0.008     -2.963      0.003      -0.038      -0.008\n",
      "pFSI.rank           -0.0069      0.003     -2.386      0.017      -0.013      -0.001\n",
      "pKFSI13              1.1533      0.148      7.779      0.000       0.863       1.444\n",
      "pKFSI17             -1.6096      0.494     -3.256      0.001      -2.579      -0.640\n",
      "pKFSI20              1.8354      0.644      2.849      0.004       0.572       3.099\n",
      "rFATF                3.5446      0.240     14.777      0.000       3.074       4.015\n",
      "pFATF                0.9925      0.128      7.764      0.000       0.742       1.243\n",
      "ihs.tariff          -0.1925      0.048     -3.999      0.000      -0.287      -0.098\n",
      "kai_o                1.1926      0.372      3.203      0.001       0.463       1.923\n",
      "kai_d               -0.2849      0.366     -0.778      0.437      -1.003       0.433\n",
      "kao_o                4.0027      0.425      9.417      0.000       3.169       4.836\n",
      "kao_d                0.9049      0.251      3.599      0.000       0.412       1.398\n",
      "cc_o                 0.1935      0.051      3.824      0.000       0.094       0.293\n",
      "cc_d                -0.0857      0.060     -1.434      0.152      -0.203       0.031\n",
      "cci_o               -0.3484      0.146     -2.383      0.017      -0.635      -0.062\n",
      "cci_d               -0.5823      0.151     -3.859      0.000      -0.878      -0.286\n",
      "cco_o                0.7354      0.179      4.113      0.000       0.385       1.086\n",
      "cco_d                0.4109      0.127      3.235      0.001       0.162       0.660\n",
      "di_o                -1.5739      0.152    -10.383      0.000      -1.871      -1.277\n",
      "di_d                -0.0043      0.051     -0.086      0.932      -0.104       0.095\n",
      "dii_o                0.5979      0.108      5.560      0.000       0.387       0.809\n",
      "dii_d                0.0862      0.085      1.011      0.312      -0.081       0.253\n",
      "dio_o               -3.7458      0.333    -11.255      0.000      -4.398      -3.093\n",
      "dio_d               -0.0949      0.113     -0.842      0.400      -0.316       0.126\n",
      "==============================================================================\n",
      "Omnibus:                      531.810   Durbin-Watson:                   1.966\n",
      "Prob(Omnibus):                  0.000   Jarque-Bera (JB):             1473.552\n",
      "Skew:                          -0.680   Prob(JB):                         0.00\n",
      "Kurtosis:                       5.541   Cond. No.                     1.14e+16\n",
      "==============================================================================\n",
      "\n",
      "Notes:\n",
      "[1] Standard Errors assume that the covariance matrix of the errors is correctly specified.\n",
      "[2] The smallest eigenvalue is 1.93e-21. This might indicate that there are\n",
      "strong multicollinearity problems or that the design matrix is singular.\n"
     ]
    },
    {
     "name": "stderr",
     "output_type": "stream",
     "text": [
      "/opt/conda/lib/python3.9/site-packages/statsmodels/tsa/tsatools.py:142: FutureWarning: In a future version of pandas all arguments of concat except for the argument 'objs' will be keyword-only\n",
      "  x = pd.concat(x[::order], 1)\n"
     ]
    }
   ],
   "source": [
    "Xconst = sm.add_constant(X_train)\n",
    "est = sm.OLS(Y_train_out, Xconst)\n",
    "est2 = est.fit()\n",
    "print(est2.summary())"
   ]
  },
  {
   "cell_type": "code",
   "execution_count": 18,
   "id": "548c5979-cb95-4010-97cc-b1352007b938",
   "metadata": {},
   "outputs": [
    {
     "name": "stderr",
     "output_type": "stream",
     "text": [
      "/opt/conda/lib/python3.9/site-packages/statsmodels/tsa/tsatools.py:142: FutureWarning: In a future version of pandas all arguments of concat except for the argument 'objs' will be keyword-only\n",
      "  x = pd.concat(x[::order], 1)\n"
     ]
    },
    {
     "name": "stdout",
     "output_type": "stream",
     "text": [
      "                            OLS Regression Results                            \n",
      "==============================================================================\n",
      "Dep. Variable:        ln.In_Tot_IFF_t   R-squared:                       0.534\n",
      "Model:                            OLS   Adj. R-squared:                  0.530\n",
      "Method:                 Least Squares   F-statistic:                     127.2\n",
      "Date:                Tue, 12 Oct 2021   Prob (F-statistic):               0.00\n",
      "Time:                        06:36:12   Log-Likelihood:                -9345.6\n",
      "No. Observations:                4256   AIC:                         1.877e+04\n",
      "Df Residuals:                    4217   BIC:                         1.902e+04\n",
      "Df Model:                          38                                         \n",
      "Covariance Type:            nonrobust                                         \n",
      "====================================================================================\n",
      "                       coef    std err          t      P>|t|      [0.025      0.975]\n",
      "------------------------------------------------------------------------------------\n",
      "const              -25.3119      1.840    -13.757      0.000     -28.919     -21.705\n",
      "ln.gdp_o             1.1411      0.073     15.702      0.000       0.999       1.284\n",
      "ln.gdp_d             0.2921      0.087      3.359      0.001       0.122       0.463\n",
      "ln.pop_o            -0.3444      0.079     -4.365      0.000      -0.499      -0.190\n",
      "ln.pop_d             0.8827      0.085     10.333      0.000       0.715       1.050\n",
      "dist                -0.0002   1.37e-05    -17.998      0.000      -0.000      -0.000\n",
      "contig               2.7547      0.313      8.792      0.000       2.140       3.369\n",
      "comlang              0.5638      0.096      5.880      0.000       0.376       0.752\n",
      "comcol              -0.0147      0.166     -0.089      0.929      -0.339       0.310\n",
      "col45                1.1746      0.231      5.094      0.000       0.723       1.627\n",
      "ihs.entry_cost_o     0.1564      0.060      2.586      0.010       0.038       0.275\n",
      "ihs.entry_cost_d     0.1568      0.040      3.943      0.000       0.079       0.235\n",
      "rta                  0.8651      0.108      8.001      0.000       0.653       1.077\n",
      "rCorrCont           -0.0114      0.005     -2.356      0.019      -0.021      -0.002\n",
      "pCorrCont            0.0421      0.006      6.748      0.000       0.030       0.054\n",
      "rRegQual            -0.0105      0.005     -2.034      0.042      -0.021      -0.000\n",
      "pRegQual             0.0050      0.007      0.720      0.471      -0.009       0.019\n",
      "rRuleLaw             0.0272      0.006      4.680      0.000       0.016       0.039\n",
      "pRuleLaw            -0.0203      0.007     -2.977      0.003      -0.034      -0.007\n",
      "pSecrecyScore       -0.0089      0.008     -1.093      0.275      -0.025       0.007\n",
      "pFSI.rank           -0.0075      0.003     -2.443      0.015      -0.013      -0.001\n",
      "pKFSI13              1.0518      0.157      6.686      0.000       0.743       1.360\n",
      "pKFSI17             -1.6824      0.525     -3.207      0.001      -2.711      -0.654\n",
      "pKFSI20              1.0967      0.684      1.604      0.109      -0.244       2.437\n",
      "rFATF                2.5344      0.255      9.956      0.000       2.035       3.034\n",
      "pFATF                1.3855      0.136     10.212      0.000       1.119       1.651\n",
      "ihs.tariff          -0.1899      0.051     -3.717      0.000      -0.290      -0.090\n",
      "kai_o                0.5253      0.395      1.329      0.184      -0.249       1.300\n",
      "kai_d               -0.3754      0.389     -0.966      0.334      -1.138       0.387\n",
      "kao_o                3.0550      0.451      6.773      0.000       2.171       3.939\n",
      "kao_d                0.8496      0.267      3.184      0.001       0.327       1.373\n",
      "cc_o                 0.1529      0.054      2.847      0.004       0.048       0.258\n",
      "cc_d                -0.2053      0.063     -3.239      0.001      -0.330      -0.081\n",
      "cci_o                0.1202      0.155      0.775      0.438      -0.184       0.424\n",
      "cci_d               -0.6336      0.160     -3.957      0.000      -0.948      -0.320\n",
      "cco_o                0.1856      0.190      0.978      0.328      -0.186       0.558\n",
      "cco_d                0.2230      0.135      1.654      0.098      -0.041       0.487\n",
      "di_o                -1.2526      0.161     -7.786      0.000      -1.568      -0.937\n",
      "di_d                -0.0388      0.054     -0.723      0.470      -0.144       0.067\n",
      "dii_o                0.1388      0.114      1.216      0.224      -0.085       0.363\n",
      "dii_d               -0.3377      0.090     -3.734      0.000      -0.515      -0.160\n",
      "dio_o               -2.6440      0.353     -7.486      0.000      -3.336      -1.952\n",
      "dio_d                0.2600      0.120      2.175      0.030       0.026       0.494\n",
      "==============================================================================\n",
      "Omnibus:                      557.795   Durbin-Watson:                   1.948\n",
      "Prob(Omnibus):                  0.000   Jarque-Bera (JB):             1183.224\n",
      "Skew:                          -0.795   Prob(JB):                    1.16e-257\n",
      "Kurtosis:                       5.035   Cond. No.                     1.14e+16\n",
      "==============================================================================\n",
      "\n",
      "Notes:\n",
      "[1] Standard Errors assume that the covariance matrix of the errors is correctly specified.\n",
      "[2] The smallest eigenvalue is 1.93e-21. This might indicate that there are\n",
      "strong multicollinearity problems or that the design matrix is singular.\n"
     ]
    }
   ],
   "source": [
    "Xconst = sm.add_constant(X_train)\n",
    "est = sm.OLS(Y_train_in, Xconst)\n",
    "est2 = est.fit()\n",
    "print(est2.summary())"
   ]
  },
  {
   "cell_type": "markdown",
   "id": "98c093da-59af-4ba3-9410-1a4010a4e64b",
   "metadata": {},
   "source": [
    "### Predictions"
   ]
  },
  {
   "cell_type": "code",
   "execution_count": 19,
   "id": "7e6e9b13-5423-42ee-93b4-a26df5e213d9",
   "metadata": {
    "papermill": {
     "duration": 0.035714,
     "end_time": "2021-08-25T04:30:54.966104",
     "exception": false,
     "start_time": "2021-08-25T04:30:54.930390",
     "status": "completed"
    },
    "tags": []
   },
   "outputs": [],
   "source": [
    "preds_LM_train_out = linear_mod_out.predict(X_train)\n",
    "preds_LM_test_out = linear_mod_out.predict(X_test)"
   ]
  },
  {
   "cell_type": "code",
   "execution_count": 20,
   "id": "7ebbd45f-3469-4e54-829a-2e0242cf6d1c",
   "metadata": {
    "papermill": {
     "duration": 0.035714,
     "end_time": "2021-08-25T04:30:54.966104",
     "exception": false,
     "start_time": "2021-08-25T04:30:54.930390",
     "status": "completed"
    },
    "tags": []
   },
   "outputs": [],
   "source": [
    "preds_LM_train_in = linear_mod_in.predict(X_train)\n",
    "preds_LM_test_in = linear_mod_in.predict(X_test)"
   ]
  },
  {
   "cell_type": "code",
   "execution_count": 21,
   "id": "20c84e50-70f4-4f78-b046-89abca108c02",
   "metadata": {},
   "outputs": [],
   "source": [
    "feather.write_feather(pd.DataFrame(preds_LM_train_out), results_dir + 'preds.LM.train_out_agg.feather')\n",
    "feather.write_feather(pd.DataFrame(preds_LM_test_out), results_dir + 'preds.LM.test_out_agg.feather')"
   ]
  },
  {
   "cell_type": "code",
   "execution_count": 22,
   "id": "b8534754-dac6-42c5-af67-351df8ce9bb7",
   "metadata": {},
   "outputs": [],
   "source": [
    "feather.write_feather(pd.DataFrame(preds_LM_train_in), results_dir + 'preds.LM.train_in_agg.feather')\n",
    "feather.write_feather(pd.DataFrame(preds_LM_test_in), results_dir + 'preds.LM.test_in_agg.feather')"
   ]
  },
  {
   "cell_type": "markdown",
   "id": "db258e7b-c5ab-4de3-a250-85978442863f",
   "metadata": {},
   "source": [
    "### Predictive accuracy"
   ]
  },
  {
   "cell_type": "code",
   "execution_count": 33,
   "id": "a6e4edc9-1ecf-4572-8e1b-1c0208729f1a",
   "metadata": {
    "papermill": {
     "duration": 0.295035,
     "end_time": "2021-08-25T04:30:57.344235",
     "exception": false,
     "start_time": "2021-08-25T04:30:57.049200",
     "status": "completed"
    },
    "tags": []
   },
   "outputs": [
    {
     "name": "stdout",
     "output_type": "stream",
     "text": [
      "MSE of the training set (outflows): 4.199509548761939\n",
      "R^2 of the training set (outflows): 0.5805291191489295\n",
      "MSE of the test set (outflows): 4.275250958229833\n",
      "R^2 of the test set (outflows): 0.5838053963543813\n"
     ]
    }
   ],
   "source": [
    "print(\"MSE of the training set (outflows):\", (mean_squared_error(Y_train_out, preds_LM_train_out)))\n",
    "print(\"R^2 of the training set (outflows):\", r2_score(Y_train_out, preds_LM_train_out))\n",
    "print(\"MSE of the test set (outflows):\", (mean_squared_error(Y_test_out, preds_LM_test_out)))\n",
    "print(\"R^2 of the test set (outflows):\", r2_score(Y_test_out, preds_LM_test_out))"
   ]
  },
  {
   "cell_type": "code",
   "execution_count": 34,
   "id": "33ded127-d107-4d35-84b4-4efcd318249f",
   "metadata": {
    "papermill": {
     "duration": 0.295035,
     "end_time": "2021-08-25T04:30:57.344235",
     "exception": false,
     "start_time": "2021-08-25T04:30:57.049200",
     "status": "completed"
    },
    "tags": []
   },
   "outputs": [
    {
     "name": "stdout",
     "output_type": "stream",
     "text": [
      "MSE of the training set (inflows): 4.729761399361896\n",
      "R^2 of the training set (inflows): 0.5340113721982074\n",
      "MSE of the test set (inflows): 4.609102779487201\n",
      "R^2 of the test set (inflows): 0.5659306281217347\n"
     ]
    }
   ],
   "source": [
    "print(\"MSE of the training set (inflows):\", (mean_squared_error(Y_train_in, preds_LM_train_in)))\n",
    "print(\"R^2 of the training set (inflows):\", r2_score(Y_train_in, preds_LM_train_in))\n",
    "print(\"MSE of the test set (inflows):\", (mean_squared_error(Y_test_in, preds_LM_test_in)))\n",
    "print(\"R^2 of the test set (inflows):\", r2_score(Y_test_in, preds_LM_test_in))"
   ]
  },
  {
   "cell_type": "markdown",
   "id": "a983d1d2-8400-45bc-8583-37d2d1d307c3",
   "metadata": {},
   "source": [
    "### Cross-validation"
   ]
  },
  {
   "cell_type": "code",
   "execution_count": 37,
   "id": "a47e7909-b39e-4cee-a69d-d17da20bd061",
   "metadata": {},
   "outputs": [
    {
     "data": {
      "text/plain": [
       "LinearRegression()"
      ]
     },
     "execution_count": 37,
     "metadata": {},
     "output_type": "execute_result"
    }
   ],
   "source": [
    "linear_mod_out = LinearRegression()  \n",
    "linear_mod_out.fit(X.values, Y_out.values)"
   ]
  },
  {
   "cell_type": "code",
   "execution_count": 39,
   "id": "76505e33-b321-4a34-83b9-90b11c54f109",
   "metadata": {},
   "outputs": [
    {
     "name": "stdout",
     "output_type": "stream",
     "text": [
      "Cross-validated scores: [0.3260559  0.3998275  0.53365486 0.56711401 0.41115843 0.00178382]\n"
     ]
    }
   ],
   "source": [
    "CV_scores_out = cross_val_score(linear_mod_out, X, Y_out.values.ravel(), cv = 6)\n",
    "print('Cross-validated scores:', CV_scores_out)"
   ]
  },
  {
   "cell_type": "code",
   "execution_count": 40,
   "id": "72cf7a75-17bd-4692-b596-1a8255f5bec9",
   "metadata": {},
   "outputs": [
    {
     "data": {
      "text/plain": [
       "0.3732657533440225"
      ]
     },
     "execution_count": 40,
     "metadata": {},
     "output_type": "execute_result"
    }
   ],
   "source": [
    "CV_scores_out.mean()"
   ]
  },
  {
   "cell_type": "code",
   "execution_count": 41,
   "id": "98c4a2b3-c4d7-4c30-af9e-8f3240712fe1",
   "metadata": {
    "tags": []
   },
   "outputs": [
    {
     "data": {
      "text/plain": [
       "0.49905493879044427"
      ]
     },
     "execution_count": 41,
     "metadata": {},
     "output_type": "execute_result"
    }
   ],
   "source": [
    "predictions = cross_val_predict(linear_mod_out, X, Y_out.values.ravel(), cv = 6)\n",
    "r2_score(Y_out, predictions)"
   ]
  },
  {
   "cell_type": "code",
   "execution_count": 29,
   "id": "ae160626-069f-469d-b61a-5a09772b33bd",
   "metadata": {},
   "outputs": [
    {
     "data": {
      "text/plain": [
       "LinearRegression()"
      ]
     },
     "execution_count": 29,
     "metadata": {},
     "output_type": "execute_result"
    }
   ],
   "source": [
    "linear_mod_out = LinearRegression()  \n",
    "linear_mod_out.fit(X_train.values, Y_train_out.values)"
   ]
  },
  {
   "cell_type": "code",
   "execution_count": 31,
   "id": "639e4ced-7284-4b51-8240-93293708a40d",
   "metadata": {},
   "outputs": [
    {
     "name": "stdout",
     "output_type": "stream",
     "text": [
      "Cross-validated scores: [0.56387324 0.55694373 0.55167506 0.58997033 0.58388886]\n"
     ]
    }
   ],
   "source": [
    "CV_scores_out = cross_val_score(linear_mod_out, X_train, Y_train_out.values.ravel())\n",
    "print('Cross-validated scores:', CV_scores_out)"
   ]
  },
  {
   "cell_type": "code",
   "execution_count": 32,
   "id": "24e04234-167c-48a1-926a-f64b619f7a19",
   "metadata": {},
   "outputs": [
    {
     "data": {
      "text/plain": [
       "0.569270244316766"
      ]
     },
     "execution_count": 32,
     "metadata": {},
     "output_type": "execute_result"
    }
   ],
   "source": [
    "CV_scores_out.mean()"
   ]
  },
  {
   "cell_type": "code",
   "execution_count": 45,
   "id": "fcfea78d-835b-4116-a1fb-e9e73a65c319",
   "metadata": {},
   "outputs": [
    {
     "data": {
      "text/plain": [
       "0.5703527724676976"
      ]
     },
     "execution_count": 45,
     "metadata": {},
     "output_type": "execute_result"
    }
   ],
   "source": [
    "predictions_CV = cross_val_predict(linear_mod_out, X_train, Y_train_out.values.ravel())\n",
    "r2_score(Y_train_out, predictions_CV)"
   ]
  },
  {
   "cell_type": "code",
   "execution_count": 46,
   "id": "6d6cca35-fd5d-4798-8181-48240bf35007",
   "metadata": {},
   "outputs": [
    {
     "data": {
      "text/plain": [
       "4.301389481339472"
      ]
     },
     "execution_count": 46,
     "metadata": {},
     "output_type": "execute_result"
    }
   ],
   "source": [
    "(mean_squared_error(Y_train_out, predictions_CV))"
   ]
  },
  {
   "cell_type": "code",
   "execution_count": 47,
   "id": "d80b395e-40f6-4930-961f-8610d3afc8a6",
   "metadata": {},
   "outputs": [],
   "source": [
    "preds_test = linear_mod_out.predict(X_test)"
   ]
  },
  {
   "cell_type": "code",
   "execution_count": 48,
   "id": "06e5258f-c6d6-45b0-aae9-ac5aece9a01b",
   "metadata": {},
   "outputs": [
    {
     "data": {
      "text/plain": [
       "4.191281430466131"
      ]
     },
     "execution_count": 48,
     "metadata": {},
     "output_type": "execute_result"
    }
   ],
   "source": [
    "(mean_squared_error(Y_test_out, preds_test))"
   ]
  }
 ],
 "metadata": {
  "kernelspec": {
   "display_name": "Python 3 (ipykernel)",
   "language": "python",
   "name": "python3"
  },
  "language_info": {
   "codemirror_mode": {
    "name": "ipython",
    "version": 3
   },
   "file_extension": ".py",
   "mimetype": "text/x-python",
   "name": "python",
   "nbconvert_exporter": "python",
   "pygments_lexer": "ipython3",
   "version": "3.9.6"
  },
  "papermill": {
   "default_parameters": {},
   "duration": 8.293491,
   "end_time": "2021-08-25T04:30:59.376719",
   "environment_variables": {},
   "exception": null,
   "input_path": "Scripts/Predictions.ipynb",
   "output_path": "Scripts/Predictions.ipynb",
   "parameters": {},
   "start_time": "2021-08-25T04:30:51.083228",
   "version": "2.3.3"
  },
  "toc": {
   "base_numbering": 1,
   "nav_menu": {},
   "number_sections": true,
   "sideBar": true,
   "skip_h1_title": true,
   "title_cell": "Table of Contents",
   "title_sidebar": "Contents",
   "toc_cell": false,
   "toc_position": {
    "height": "745px",
    "left": "177px",
    "top": "218px",
    "width": "165px"
   },
   "toc_section_display": true,
   "toc_window_display": true
  }
 },
 "nbformat": 4,
 "nbformat_minor": 5
}
