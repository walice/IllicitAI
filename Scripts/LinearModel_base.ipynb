{
 "cells": [
  {
   "cell_type": "markdown",
   "id": "0dcbfa94-b9c5-435b-9f89-6f5b4c43be46",
   "metadata": {
    "papermill": {
     "duration": 0.012854,
     "end_time": "2021-08-25T04:30:52.046180",
     "exception": false,
     "start_time": "2021-08-25T04:30:52.033326",
     "status": "completed"
    },
    "tags": []
   },
   "source": [
    "# Linear Model (base)"
   ]
  },
  {
   "cell_type": "markdown",
   "id": "99c44811-2186-4277-911a-ff940e34ff01",
   "metadata": {
    "papermill": {
     "duration": 0.012582,
     "end_time": "2021-08-25T04:30:52.072441",
     "exception": false,
     "start_time": "2021-08-25T04:30:52.059859",
     "status": "completed"
    },
    "tags": []
   },
   "source": [
    "## Data wrangling"
   ]
  },
  {
   "cell_type": "code",
   "execution_count": 1,
   "id": "d2f5d343-55f4-43d0-9b14-5d79fc7094ee",
   "metadata": {
    "papermill": {
     "duration": 1.90378,
     "end_time": "2021-08-25T04:30:53.987733",
     "exception": false,
     "start_time": "2021-08-25T04:30:52.083953",
     "status": "completed"
    },
    "tags": []
   },
   "outputs": [],
   "source": [
    "# Preamble\n",
    "import pandas as pd\n",
    "import numpy as np\n",
    "pd.set_option(\"mode.chained_assignment\", None)\n",
    "import random\n",
    "random.seed(1509)\n",
    "import matplotlib.pyplot as plt\n",
    "import lightgbm as lgb\n",
    "import pyarrow.feather as feather\n",
    "from os import chdir, getcwd\n",
    "import statsmodels.api as sm\n",
    "from pprint import pprint\n",
    "from nested_cv import NestedCV\n",
    "\n",
    "# sci-kit\n",
    "from sklearn.linear_model import LinearRegression\n",
    "from sklearn.neural_network import MLPRegressor\n",
    "from sklearn.ensemble import RandomForestRegressor\n",
    "from sklearn import svm\n",
    "from sklearn.preprocessing import StandardScaler\n",
    "from sklearn.model_selection import train_test_split, GridSearchCV, RandomizedSearchCV, cross_val_score, cross_val_predict\n",
    "from sklearn import metrics\n",
    "from sklearn.metrics import r2_score, mean_squared_error, explained_variance_score\n",
    "from sklearn import tree"
   ]
  },
  {
   "cell_type": "code",
   "execution_count": 2,
   "id": "6cbed92b-623c-4293-9927-1ae51e505de2",
   "metadata": {
    "papermill": {
     "duration": 0.019207,
     "end_time": "2021-08-25T04:30:54.023305",
     "exception": false,
     "start_time": "2021-08-25T04:30:54.004098",
     "status": "completed"
    },
    "tags": []
   },
   "outputs": [],
   "source": [
    "data_dir = '/home/jovyan/work/Data/'\n",
    "results_dir = '/home/jovyan/work/Results/'"
   ]
  },
  {
   "cell_type": "code",
   "execution_count": 3,
   "id": "aa5789cf-f1d7-4d3d-a2a3-6568a164c189",
   "metadata": {},
   "outputs": [],
   "source": [
    "select_out_features = ['reporter.ISO', 'partner.ISO', 'year',\n",
    "                       'ln.Tot_IFF_t',\n",
    "                       'ln.gdp_o',\n",
    "                       'ln.gdp_d',\n",
    "                       'comlang',\n",
    "                       'comcol',\n",
    "                       'rta',\n",
    "                       'rCorrCont',\n",
    "                       'pCorrCont',\n",
    "                       'pRegQual',\n",
    "                       'rFATF',\n",
    "                       'pFATF',\n",
    "                       'ihs.tariff',\n",
    "                       'kao_o',\n",
    "                       'kai_d'  ]\n",
    "\n",
    "select_in_features = ['reporter.ISO', 'partner.ISO', 'year',\n",
    "                      'ln.In_Tot_IFF_t',\n",
    "                      'ln.gdp_o',\n",
    "                      'ln.gdp_d',\n",
    "                      'comlang',\n",
    "                      'comcol',\n",
    "                      'rta',\n",
    "                      'rCorrCont',\n",
    "                      'pCorrCont',\n",
    "                      'rRegQual',\n",
    "                      'rFATF',\n",
    "                      'pFATF',\n",
    "                      'ihs.tariff',\n",
    "                      'kai_o',\n",
    "                      'kao_d'  ]\n",
    "\n",
    "out_features = ['ln.gdp_o',\n",
    "                'ln.gdp_d',\n",
    "                'comlang',\n",
    "                'comcol',\n",
    "                'rta',\n",
    "                'rCorrCont',\n",
    "                'pCorrCont',\n",
    "                'pRegQual',\n",
    "                'rFATF',\n",
    "                'pFATF',\n",
    "                'ihs.tariff',\n",
    "                'kao_o',\n",
    "                'kai_d'  ]\n",
    "\n",
    "\n",
    "in_features = ['ln.gdp_o',\n",
    "               'ln.gdp_d',\n",
    "               'comlang',\n",
    "               'comcol',\n",
    "               'rta',\n",
    "               'rCorrCont',\n",
    "               'pCorrCont',\n",
    "               'rRegQual',\n",
    "               'rFATF',\n",
    "               'pFATF',\n",
    "               'ihs.tariff',\n",
    "               'kai_o',\n",
    "               'kao_d'  ]\n",
    "\n",
    "ids = [       'reporter.ISO', 'partner.ISO', 'year']"
   ]
  },
  {
   "cell_type": "code",
   "execution_count": 4,
   "id": "bd653092-80a0-47a9-bf07-9970ec82973a",
   "metadata": {},
   "outputs": [],
   "source": [
    "def create_smp(data, features):\n",
    "    \"\"\"\n",
    "    Create train and test samples that are complete.\n",
    "    \"\"\"\n",
    "    smp = data[features]\n",
    "    smp.dropna(axis=0, how='any', inplace=True)\n",
    "    return smp"
   ]
  },
  {
   "cell_type": "markdown",
   "id": "a6cbf9da-0af7-4d89-9227-d63c9f5e9b04",
   "metadata": {
    "papermill": {
     "duration": 0.011902,
     "end_time": "2021-08-25T04:30:54.080630",
     "exception": false,
     "start_time": "2021-08-25T04:30:54.068728",
     "status": "completed"
    },
    "tags": []
   },
   "source": [
    "## Samples"
   ]
  },
  {
   "cell_type": "markdown",
   "id": "dd3b6c06",
   "metadata": {},
   "source": [
    "### Import full sample"
   ]
  },
  {
   "cell_type": "code",
   "execution_count": 5,
   "id": "a8e7b267",
   "metadata": {},
   "outputs": [],
   "source": [
    "data = feather.read_feather(results_dir + 'Africa_agg.feather')"
   ]
  },
  {
   "cell_type": "code",
   "execution_count": 6,
   "id": "d6662b7c",
   "metadata": {},
   "outputs": [],
   "source": [
    "data_out_smp = create_smp(data, select_out_features)\n",
    "data_in_smp = create_smp(data, select_in_features)"
   ]
  },
  {
   "cell_type": "code",
   "execution_count": 7,
   "id": "f4437d65-8428-456d-89e7-82db487c5d36",
   "metadata": {},
   "outputs": [],
   "source": [
    "# idx = data_smp[ids]\n",
    "X_out = data_out_smp[out_features]\n",
    "X_in = data_in_smp[in_features]\n",
    "Y_out = data_out_smp[['ln.Tot_IFF_t']]\n",
    "Y_in = data_in_smp[['ln.In_Tot_IFF_t']]"
   ]
  },
  {
   "cell_type": "code",
   "execution_count": 8,
   "id": "5a71e5f2-4143-4868-b073-71bc74b148c0",
   "metadata": {},
   "outputs": [
    {
     "name": "stdout",
     "output_type": "stream",
     "text": [
      "X_out:  (7695, 13) \n",
      "Y_out:  (7695, 1) \n",
      "X_in:  (7342, 13) \n",
      "Y_in:  (7342, 1)\n"
     ]
    }
   ],
   "source": [
    "print('X_out: ', X_out.shape, '\\nY_out: ',  Y_out.shape,\n",
    "      '\\nX_in: ', X_in.shape, '\\nY_in: ',  Y_in.shape)"
   ]
  },
  {
   "cell_type": "markdown",
   "id": "06000ef4-a2d9-4d96-bc75-9c35f1b68710",
   "metadata": {},
   "source": [
    "### Import training and test sets"
   ]
  },
  {
   "cell_type": "code",
   "execution_count": 9,
   "id": "717e9296",
   "metadata": {
    "papermill": {
     "duration": 0.198678,
     "end_time": "2021-08-25T04:30:54.291158",
     "exception": false,
     "start_time": "2021-08-25T04:30:54.092480",
     "status": "completed"
    },
    "tags": []
   },
   "outputs": [],
   "source": [
    "train_agg = feather.read_feather(results_dir + 'train_agg.feather')\n",
    "test_agg = feather.read_feather(results_dir + 'test_agg.feather')"
   ]
  },
  {
   "cell_type": "code",
   "execution_count": 10,
   "id": "bf7ed85f-c229-46f8-b066-8b845fc60be6",
   "metadata": {
    "tags": []
   },
   "outputs": [],
   "source": [
    "train_agg_out_smp = create_smp(train_agg, select_out_features)\n",
    "train_agg_in_smp = create_smp(train_agg, select_in_features)\n",
    "test_agg_out_smp = create_smp(test_agg, select_out_features)\n",
    "test_agg_in_smp = create_smp(test_agg, select_in_features)"
   ]
  },
  {
   "cell_type": "code",
   "execution_count": 11,
   "id": "8bc33b86-f009-4ac6-81c6-1fdce1bdafbc",
   "metadata": {
    "papermill": {
     "duration": 0.030357,
     "end_time": "2021-08-25T04:30:54.432522",
     "exception": false,
     "start_time": "2021-08-25T04:30:54.402165",
     "status": "completed"
    },
    "tags": []
   },
   "outputs": [],
   "source": [
    "# feather.write_feather(train_agg_smp, results_dir + 'train_agg_smp.feather')\n",
    "# feather.write_feather(test_agg_smp, results_dir + 'test_agg_smp.feather')"
   ]
  },
  {
   "cell_type": "code",
   "execution_count": 12,
   "id": "2d815891",
   "metadata": {
    "papermill": {
     "duration": 0.198678,
     "end_time": "2021-08-25T04:30:54.291158",
     "exception": false,
     "start_time": "2021-08-25T04:30:54.092480",
     "status": "completed"
    },
    "tags": []
   },
   "outputs": [
    {
     "name": "stdout",
     "output_type": "stream",
     "text": [
      "Training set out:  (6165, 17) \n",
      "Test set out:  (1530, 17) \n",
      "Training set in:  (5874, 17) \n",
      "Test set in:  (1468, 17)\n"
     ]
    }
   ],
   "source": [
    "print('Training set out: ', train_agg_out_smp.shape, '\\nTest set out: ',  test_agg_out_smp.shape,\n",
    "      '\\nTraining set in: ', train_agg_in_smp.shape, '\\nTest set in: ',  test_agg_in_smp.shape)"
   ]
  },
  {
   "cell_type": "markdown",
   "id": "f6a3240e-6f61-4c42-930f-43c801694af4",
   "metadata": {},
   "source": [
    "### Create feature set and vector of outcome labels"
   ]
  },
  {
   "cell_type": "code",
   "execution_count": 13,
   "id": "93054b4b-2432-4ebd-844f-6461091406f6",
   "metadata": {},
   "outputs": [],
   "source": [
    "# Training set\n",
    "Y_train_out = train_agg_out_smp[['ln.Tot_IFF_t']]\n",
    "Y_train_in = train_agg_in_smp[['ln.In_Tot_IFF_t']]\n",
    "X_train_out = train_agg_out_smp[out_features]\n",
    "X_train_in = train_agg_in_smp[in_features]\n",
    "\n",
    "# Test set\n",
    "Y_test_out = test_agg_out_smp[['ln.Tot_IFF_t']]\n",
    "Y_test_in = test_agg_in_smp[['ln.In_Tot_IFF_t']]\n",
    "X_test_out = test_agg_out_smp[out_features]\n",
    "X_test_in = test_agg_in_smp[in_features]"
   ]
  },
  {
   "cell_type": "code",
   "execution_count": 14,
   "id": "162d5e90-06b2-418b-8e9c-143989679f34",
   "metadata": {},
   "outputs": [],
   "source": [
    "# idx = train_agg_smp[ids]"
   ]
  },
  {
   "cell_type": "markdown",
   "id": "51afba86-15dc-4121-b287-b2858a51389b",
   "metadata": {
    "papermill": {
     "duration": 0.011466,
     "end_time": "2021-08-25T04:30:54.492337",
     "exception": false,
     "start_time": "2021-08-25T04:30:54.480871",
     "status": "completed"
    },
    "tags": []
   },
   "source": [
    "## Linear regression"
   ]
  },
  {
   "cell_type": "markdown",
   "id": "4eb1b8a3-f0ba-471c-b84c-59989f9229fa",
   "metadata": {},
   "source": [
    "### Fit linear regression model"
   ]
  },
  {
   "cell_type": "code",
   "execution_count": 15,
   "id": "139e74e4-3543-459d-9488-33a700c40a2b",
   "metadata": {
    "papermill": {
     "duration": 0.037,
     "end_time": "2021-08-25T04:30:54.540674",
     "exception": false,
     "start_time": "2021-08-25T04:30:54.503674",
     "status": "completed"
    },
    "tags": []
   },
   "outputs": [
    {
     "data": {
      "text/plain": [
       "LinearRegression()"
      ]
     },
     "execution_count": 15,
     "metadata": {},
     "output_type": "execute_result"
    }
   ],
   "source": [
    "linear_mod_out = LinearRegression()  \n",
    "linear_mod_out.fit(X_train_out.values, Y_train_out.values)"
   ]
  },
  {
   "cell_type": "code",
   "execution_count": 16,
   "id": "63f20a44-a031-4061-951d-567235db6d1f",
   "metadata": {},
   "outputs": [
    {
     "data": {
      "text/plain": [
       "LinearRegression()"
      ]
     },
     "execution_count": 16,
     "metadata": {},
     "output_type": "execute_result"
    }
   ],
   "source": [
    "linear_mod_in = LinearRegression()  \n",
    "linear_mod_in.fit(X_train_in.values, Y_train_in.values)"
   ]
  },
  {
   "cell_type": "markdown",
   "id": "9be92a19-73e3-46f6-9807-862cbf86821e",
   "metadata": {},
   "source": [
    "### Print coefficients"
   ]
  },
  {
   "cell_type": "code",
   "execution_count": 17,
   "id": "ebd838fc-d161-42c6-bcb2-34265c0044a9",
   "metadata": {
    "papermill": {
     "duration": 0.034715,
     "end_time": "2021-08-25T04:30:54.596530",
     "exception": false,
     "start_time": "2021-08-25T04:30:54.561815",
     "status": "completed"
    },
    "tags": []
   },
   "outputs": [
    {
     "name": "stdout",
     "output_type": "stream",
     "text": [
      "[-25.75850241]\n",
      "[[ 7.47678566e-01  9.73665232e-01  7.14276875e-01  1.14636256e+00\n",
      "   1.86879791e+00 -7.88709899e-03 -7.99694386e-04 -4.31802907e-03\n",
      "   1.89981495e+00  8.84608524e-01 -3.43001552e-02  2.67954923e-01\n",
      "   4.12362257e-01]]\n"
     ]
    }
   ],
   "source": [
    "print(linear_mod_out.intercept_)\n",
    "print(linear_mod_out.coef_)"
   ]
  },
  {
   "cell_type": "code",
   "execution_count": 18,
   "id": "51bfb9c6-856f-4c92-85f4-46bb055e788f",
   "metadata": {
    "papermill": {
     "duration": 0.034715,
     "end_time": "2021-08-25T04:30:54.596530",
     "exception": false,
     "start_time": "2021-08-25T04:30:54.561815",
     "status": "completed"
    },
    "tags": []
   },
   "outputs": [
    {
     "name": "stdout",
     "output_type": "stream",
     "text": [
      "[-22.5391019]\n",
      "[[ 6.64663495e-01  8.84948094e-01  9.76499302e-01  1.03643124e+00\n",
      "   2.32941258e+00 -3.67595175e-03  4.03197186e-04 -1.42880206e-02\n",
      "   1.32772959e+00  1.19378115e+00  3.52201236e-02 -4.33533093e-01\n",
      "   8.64279487e-01]]\n"
     ]
    }
   ],
   "source": [
    "print(linear_mod_in.intercept_)\n",
    "print(linear_mod_in.coef_)"
   ]
  },
  {
   "cell_type": "code",
   "execution_count": 38,
   "id": "3238d645-0834-4f5f-a4e9-ec27d7ac58b3",
   "metadata": {
    "papermill": {
     "duration": 0.289043,
     "end_time": "2021-08-25T04:30:54.907396",
     "exception": false,
     "start_time": "2021-08-25T04:30:54.618353",
     "status": "completed"
    },
    "tags": []
   },
   "outputs": [
    {
     "name": "stdout",
     "output_type": "stream",
     "text": [
      "                            OLS Regression Results                            \n",
      "==============================================================================\n",
      "Dep. Variable:           ln.Tot_IFF_t   R-squared:                       0.431\n",
      "Model:                            OLS   Adj. R-squared:                  0.430\n",
      "Method:                 Least Squares   F-statistic:                     358.5\n",
      "Date:                Tue, 12 Oct 2021   Prob (F-statistic):               0.00\n",
      "Time:                        08:04:43   Log-Likelihood:                -14272.\n",
      "No. Observations:                6165   AIC:                         2.857e+04\n",
      "Df Residuals:                    6151   BIC:                         2.867e+04\n",
      "Df Model:                          13                                         \n",
      "Covariance Type:            nonrobust                                         \n",
      "==============================================================================\n",
      "                 coef    std err          t      P>|t|      [0.025      0.975]\n",
      "------------------------------------------------------------------------------\n",
      "const        -25.7585      0.767    -33.565      0.000     -27.263     -24.254\n",
      "ln.gdp_o       0.7477      0.032     23.428      0.000       0.685       0.810\n",
      "ln.gdp_d       0.9737      0.027     36.140      0.000       0.921       1.026\n",
      "comlang        0.7143      0.077      9.268      0.000       0.563       0.865\n",
      "comcol         1.1464      0.126      9.097      0.000       0.899       1.393\n",
      "rta            1.8688      0.079     23.779      0.000       1.715       2.023\n",
      "rCorrCont     -0.0079      0.002     -3.822      0.000      -0.012      -0.004\n",
      "pCorrCont     -0.0008      0.003     -0.233      0.816      -0.008       0.006\n",
      "pRegQual      -0.0043      0.004     -1.072      0.284      -0.012       0.004\n",
      "rFATF          1.8998      0.132     14.342      0.000       1.640       2.159\n",
      "pFATF          0.8846      0.108      8.196      0.000       0.673       1.096\n",
      "ihs.tariff    -0.0343      0.038     -0.909      0.363      -0.108       0.040\n",
      "kao_o          0.2680      0.083      3.239      0.001       0.106       0.430\n",
      "kai_d          0.4124      0.145      2.843      0.004       0.128       0.697\n",
      "==============================================================================\n",
      "Omnibus:                      610.041   Durbin-Watson:                   1.985\n",
      "Prob(Omnibus):                  0.000   Jarque-Bera (JB):             1134.548\n",
      "Skew:                          -0.669   Prob(JB):                    4.33e-247\n",
      "Kurtosis:                       4.620   Cond. No.                     2.86e+03\n",
      "==============================================================================\n",
      "\n",
      "Notes:\n",
      "[1] Standard Errors assume that the covariance matrix of the errors is correctly specified.\n",
      "[2] The condition number is large, 2.86e+03. This might indicate that there are\n",
      "strong multicollinearity or other numerical problems.\n"
     ]
    },
    {
     "name": "stderr",
     "output_type": "stream",
     "text": [
      "/opt/conda/lib/python3.9/site-packages/statsmodels/tsa/tsatools.py:142: FutureWarning: In a future version of pandas all arguments of concat except for the argument 'objs' will be keyword-only\n",
      "  x = pd.concat(x[::order], 1)\n"
     ]
    }
   ],
   "source": [
    "Xconst = sm.add_constant(X_train_out)\n",
    "est = sm.OLS(Y_train_out, Xconst)\n",
    "est2 = est.fit()\n",
    "print(est2.summary())"
   ]
  },
  {
   "cell_type": "code",
   "execution_count": 20,
   "id": "548c5979-cb95-4010-97cc-b1352007b938",
   "metadata": {},
   "outputs": [
    {
     "name": "stdout",
     "output_type": "stream",
     "text": [
      "                            OLS Regression Results                            \n",
      "==============================================================================\n",
      "Dep. Variable:        ln.In_Tot_IFF_t   R-squared:                       0.403\n",
      "Model:                            OLS   Adj. R-squared:                  0.402\n",
      "Method:                 Least Squares   F-statistic:                     304.6\n",
      "Date:                Tue, 12 Oct 2021   Prob (F-statistic):               0.00\n",
      "Time:                        08:00:29   Log-Likelihood:                -13757.\n",
      "No. Observations:                5874   AIC:                         2.754e+04\n",
      "Df Residuals:                    5860   BIC:                         2.764e+04\n",
      "Df Model:                          13                                         \n",
      "Covariance Type:            nonrobust                                         \n",
      "==============================================================================\n",
      "                 coef    std err          t      P>|t|      [0.025      0.975]\n",
      "------------------------------------------------------------------------------\n",
      "const        -22.5391      0.845    -26.659      0.000     -24.197     -20.882\n",
      "ln.gdp_o       0.6647      0.035     19.177      0.000       0.597       0.733\n",
      "ln.gdp_d       0.8849      0.028     31.205      0.000       0.829       0.941\n",
      "comlang        0.9765      0.081     12.111      0.000       0.818       1.135\n",
      "comcol         1.0364      0.132      7.871      0.000       0.778       1.295\n",
      "rta            2.3294      0.081     28.809      0.000       2.171       2.488\n",
      "rCorrCont     -0.0037      0.003     -1.216      0.224      -0.010       0.002\n",
      "pCorrCont      0.0004      0.002      0.216      0.829      -0.003       0.004\n",
      "rRegQual      -0.0143      0.003     -4.204      0.000      -0.021      -0.008\n",
      "rFATF          1.3277      0.142      9.371      0.000       1.050       1.605\n",
      "pFATF          1.1938      0.114     10.446      0.000       0.970       1.418\n",
      "ihs.tariff     0.0352      0.040      0.885      0.376      -0.043       0.113\n",
      "kai_o         -0.4335      0.119     -3.655      0.000      -0.666      -0.201\n",
      "kao_d          0.8643      0.115      7.508      0.000       0.639       1.090\n",
      "==============================================================================\n",
      "Omnibus:                      671.221   Durbin-Watson:                   1.980\n",
      "Prob(Omnibus):                  0.000   Jarque-Bera (JB):             1154.270\n",
      "Skew:                          -0.782   Prob(JB):                    2.26e-251\n",
      "Kurtosis:                       4.507   Cond. No.                     2.58e+03\n",
      "==============================================================================\n",
      "\n",
      "Notes:\n",
      "[1] Standard Errors assume that the covariance matrix of the errors is correctly specified.\n",
      "[2] The condition number is large, 2.58e+03. This might indicate that there are\n",
      "strong multicollinearity or other numerical problems.\n"
     ]
    },
    {
     "name": "stderr",
     "output_type": "stream",
     "text": [
      "/opt/conda/lib/python3.9/site-packages/statsmodels/tsa/tsatools.py:142: FutureWarning: In a future version of pandas all arguments of concat except for the argument 'objs' will be keyword-only\n",
      "  x = pd.concat(x[::order], 1)\n"
     ]
    }
   ],
   "source": [
    "Xconst = sm.add_constant(X_train_in)\n",
    "est = sm.OLS(Y_train_in, Xconst)\n",
    "est2 = est.fit()\n",
    "print(est2.summary())"
   ]
  },
  {
   "cell_type": "markdown",
   "id": "98c093da-59af-4ba3-9410-1a4010a4e64b",
   "metadata": {},
   "source": [
    "### Predictions"
   ]
  },
  {
   "cell_type": "code",
   "execution_count": 21,
   "id": "7e6e9b13-5423-42ee-93b4-a26df5e213d9",
   "metadata": {
    "papermill": {
     "duration": 0.035714,
     "end_time": "2021-08-25T04:30:54.966104",
     "exception": false,
     "start_time": "2021-08-25T04:30:54.930390",
     "status": "completed"
    },
    "tags": []
   },
   "outputs": [],
   "source": [
    "preds_LM_train_out = linear_mod_out.predict(X_train_out)\n",
    "preds_LM_test_out = linear_mod_out.predict(X_test_out)"
   ]
  },
  {
   "cell_type": "code",
   "execution_count": 22,
   "id": "7ebbd45f-3469-4e54-829a-2e0242cf6d1c",
   "metadata": {
    "papermill": {
     "duration": 0.035714,
     "end_time": "2021-08-25T04:30:54.966104",
     "exception": false,
     "start_time": "2021-08-25T04:30:54.930390",
     "status": "completed"
    },
    "tags": []
   },
   "outputs": [],
   "source": [
    "preds_LM_train_in = linear_mod_in.predict(X_train_in)\n",
    "preds_LM_test_in = linear_mod_in.predict(X_test_in)"
   ]
  },
  {
   "cell_type": "code",
   "execution_count": 23,
   "id": "20c84e50-70f4-4f78-b046-89abca108c02",
   "metadata": {},
   "outputs": [],
   "source": [
    "# feather.write_feather(pd.DataFrame(preds_LM_train_out), results_dir + 'preds.LM.train_out_agg.feather')\n",
    "# feather.write_feather(pd.DataFrame(preds_LM_test_out), results_dir + 'preds.LM.test_out_agg.feather')"
   ]
  },
  {
   "cell_type": "code",
   "execution_count": 24,
   "id": "b8534754-dac6-42c5-af67-351df8ce9bb7",
   "metadata": {},
   "outputs": [],
   "source": [
    "# feather.write_feather(pd.DataFrame(preds_LM_train_in), results_dir + 'preds.LM.train_in_agg.feather')\n",
    "# feather.write_feather(pd.DataFrame(preds_LM_test_in), results_dir + 'preds.LM.test_in_agg.feather')"
   ]
  },
  {
   "cell_type": "markdown",
   "id": "db258e7b-c5ab-4de3-a250-85978442863f",
   "metadata": {},
   "source": [
    "### Predictive accuracy"
   ]
  },
  {
   "cell_type": "code",
   "execution_count": 40,
   "id": "a6e4edc9-1ecf-4572-8e1b-1c0208729f1a",
   "metadata": {
    "papermill": {
     "duration": 0.295035,
     "end_time": "2021-08-25T04:30:57.344235",
     "exception": false,
     "start_time": "2021-08-25T04:30:57.049200",
     "status": "completed"
    },
    "tags": []
   },
   "outputs": [
    {
     "name": "stdout",
     "output_type": "stream",
     "text": [
      "MSE of the training set (outflows): 6.002425580558888\n",
      "R^2 of the training set (outflows): 0.4310349784778611\n",
      "MSE of the test set (outflows): 5.733935786541133\n",
      "R^2 of the test set (outflows): 0.4449508815928588\n"
     ]
    }
   ],
   "source": [
    "print(\"MSE of the training set (outflows):\", (mean_squared_error(Y_train_out, preds_LM_train_out)))\n",
    "print(\"R^2 of the training set (outflows):\", r2_score(Y_train_out, preds_LM_train_out))\n",
    "print(\"MSE of the test set (outflows):\", (mean_squared_error(Y_test_out, preds_LM_test_out)))\n",
    "print(\"R^2 of the test set (outflows):\", r2_score(Y_test_out, preds_LM_test_out))"
   ]
  },
  {
   "cell_type": "code",
   "execution_count": 26,
   "id": "33ded127-d107-4d35-84b4-4efcd318249f",
   "metadata": {
    "papermill": {
     "duration": 0.295035,
     "end_time": "2021-08-25T04:30:57.344235",
     "exception": false,
     "start_time": "2021-08-25T04:30:57.049200",
     "status": "completed"
    },
    "tags": []
   },
   "outputs": [
    {
     "name": "stdout",
     "output_type": "stream",
     "text": [
      "MSE of the training set (inflows): 6.335397353800778\n",
      "R^2 of the training set (inflows): 0.4032852743834341\n",
      "MSE of the test set (inflows): 6.444884104740987\n",
      "R^2 of the test set (inflows): 0.3887680880549481\n"
     ]
    }
   ],
   "source": [
    "print(\"MSE of the training set (inflows):\", (mean_squared_error(Y_train_in, preds_LM_train_in)))\n",
    "print(\"R^2 of the training set (inflows):\", r2_score(Y_train_in, preds_LM_train_in))\n",
    "print(\"MSE of the test set (inflows):\", (mean_squared_error(Y_test_in, preds_LM_test_in)))\n",
    "print(\"R^2 of the test set (inflows):\", r2_score(Y_test_in, preds_LM_test_in))"
   ]
  },
  {
   "cell_type": "markdown",
   "id": "a983d1d2-8400-45bc-8583-37d2d1d307c3",
   "metadata": {},
   "source": [
    "### Cross-validation"
   ]
  },
  {
   "cell_type": "code",
   "execution_count": 27,
   "id": "a47e7909-b39e-4cee-a69d-d17da20bd061",
   "metadata": {},
   "outputs": [
    {
     "data": {
      "text/plain": [
       "LinearRegression()"
      ]
     },
     "execution_count": 27,
     "metadata": {},
     "output_type": "execute_result"
    }
   ],
   "source": [
    "linear_mod_out = LinearRegression()  \n",
    "linear_mod_out.fit(X_out.values, Y_out.values)"
   ]
  },
  {
   "cell_type": "code",
   "execution_count": 28,
   "id": "76505e33-b321-4a34-83b9-90b11c54f109",
   "metadata": {},
   "outputs": [
    {
     "name": "stdout",
     "output_type": "stream",
     "text": [
      "Cross-validated scores: [ 0.29142436  0.20750024  0.52432337  0.49375608 -0.22217336]\n"
     ]
    }
   ],
   "source": [
    "CV_scores_out = cross_val_score(linear_mod_out, X_out, Y_out.values.ravel())\n",
    "print('Cross-validated scores:', CV_scores_out)"
   ]
  },
  {
   "cell_type": "code",
   "execution_count": 29,
   "id": "72cf7a75-17bd-4692-b596-1a8255f5bec9",
   "metadata": {},
   "outputs": [
    {
     "data": {
      "text/plain": [
       "0.2589661402904098"
      ]
     },
     "execution_count": 29,
     "metadata": {},
     "output_type": "execute_result"
    }
   ],
   "source": [
    "CV_scores_out.mean()"
   ]
  },
  {
   "cell_type": "code",
   "execution_count": 30,
   "id": "98c4a2b3-c4d7-4c30-af9e-8f3240712fe1",
   "metadata": {
    "tags": []
   },
   "outputs": [
    {
     "data": {
      "text/plain": [
       "0.3733821431659239"
      ]
     },
     "execution_count": 30,
     "metadata": {},
     "output_type": "execute_result"
    }
   ],
   "source": [
    "predictions = cross_val_predict(linear_mod_out, X_out, Y_out.values.ravel())\n",
    "r2_score(Y_out, predictions)"
   ]
  },
  {
   "cell_type": "code",
   "execution_count": 31,
   "id": "ae160626-069f-469d-b61a-5a09772b33bd",
   "metadata": {},
   "outputs": [
    {
     "data": {
      "text/plain": [
       "LinearRegression()"
      ]
     },
     "execution_count": 31,
     "metadata": {},
     "output_type": "execute_result"
    }
   ],
   "source": [
    "linear_mod_out = LinearRegression()  \n",
    "linear_mod_out.fit(X_train_out.values, Y_train_out.values)"
   ]
  },
  {
   "cell_type": "code",
   "execution_count": 32,
   "id": "639e4ced-7284-4b51-8240-93293708a40d",
   "metadata": {},
   "outputs": [
    {
     "name": "stdout",
     "output_type": "stream",
     "text": [
      "Cross-validated scores: [0.42139936 0.42728439 0.4025989  0.42570633 0.45792348]\n"
     ]
    }
   ],
   "source": [
    "CV_scores_out = cross_val_score(linear_mod_out, X_train_out, Y_train_out.values.ravel())\n",
    "print('Cross-validated scores:', CV_scores_out)"
   ]
  },
  {
   "cell_type": "code",
   "execution_count": 33,
   "id": "24e04234-167c-48a1-926a-f64b619f7a19",
   "metadata": {},
   "outputs": [
    {
     "data": {
      "text/plain": [
       "0.42698249103482666"
      ]
     },
     "execution_count": 33,
     "metadata": {},
     "output_type": "execute_result"
    }
   ],
   "source": [
    "CV_scores_out.mean()"
   ]
  },
  {
   "cell_type": "code",
   "execution_count": 34,
   "id": "128adcf8-9b69-475b-9941-9b347aa866db",
   "metadata": {},
   "outputs": [
    {
     "data": {
      "text/plain": [
       "0.4274052405772063"
      ]
     },
     "execution_count": 34,
     "metadata": {},
     "output_type": "execute_result"
    }
   ],
   "source": [
    "predictions_CV = cross_val_predict(linear_mod_out, X_train_out, Y_train_out.values.ravel())\n",
    "r2_score(Y_train_out, predictions_CV)"
   ]
  },
  {
   "cell_type": "code",
   "execution_count": 35,
   "id": "a3629742-2ecc-43df-8b69-79c8d15dabba",
   "metadata": {},
   "outputs": [
    {
     "data": {
      "text/plain": [
       "6.0407183240518485"
      ]
     },
     "execution_count": 35,
     "metadata": {},
     "output_type": "execute_result"
    }
   ],
   "source": [
    "(mean_squared_error(Y_train_out, predictions_CV))"
   ]
  },
  {
   "cell_type": "code",
   "execution_count": 36,
   "id": "d220bb1b-2a9c-4564-b6de-c80eb16b72ea",
   "metadata": {},
   "outputs": [],
   "source": [
    "preds_test = linear_mod_out.predict(X_test_out)"
   ]
  },
  {
   "cell_type": "code",
   "execution_count": 37,
   "id": "f22fd705-004c-45e8-bd5a-f02dab6ee39e",
   "metadata": {},
   "outputs": [
    {
     "data": {
      "text/plain": [
       "5.733935786541133"
      ]
     },
     "execution_count": 37,
     "metadata": {},
     "output_type": "execute_result"
    }
   ],
   "source": [
    "(mean_squared_error(Y_test_out, preds_test))"
   ]
  }
 ],
 "metadata": {
  "kernelspec": {
   "display_name": "Python 3 (ipykernel)",
   "language": "python",
   "name": "python3"
  },
  "language_info": {
   "codemirror_mode": {
    "name": "ipython",
    "version": 3
   },
   "file_extension": ".py",
   "mimetype": "text/x-python",
   "name": "python",
   "nbconvert_exporter": "python",
   "pygments_lexer": "ipython3",
   "version": "3.9.6"
  },
  "papermill": {
   "default_parameters": {},
   "duration": 8.293491,
   "end_time": "2021-08-25T04:30:59.376719",
   "environment_variables": {},
   "exception": null,
   "input_path": "Scripts/Predictions.ipynb",
   "output_path": "Scripts/Predictions.ipynb",
   "parameters": {},
   "start_time": "2021-08-25T04:30:51.083228",
   "version": "2.3.3"
  },
  "toc": {
   "base_numbering": 1,
   "nav_menu": {},
   "number_sections": true,
   "sideBar": true,
   "skip_h1_title": true,
   "title_cell": "Table of Contents",
   "title_sidebar": "Contents",
   "toc_cell": false,
   "toc_position": {
    "height": "745px",
    "left": "177px",
    "top": "218px",
    "width": "165px"
   },
   "toc_section_display": true,
   "toc_window_display": true
  }
 },
 "nbformat": 4,
 "nbformat_minor": 5
}
