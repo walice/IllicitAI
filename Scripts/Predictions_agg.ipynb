{
 "cells": [
  {
   "cell_type": "markdown",
   "id": "0dcbfa94-b9c5-435b-9f89-6f5b4c43be46",
   "metadata": {
    "papermill": {
     "duration": 0.012854,
     "end_time": "2021-08-25T04:30:52.046180",
     "exception": false,
     "start_time": "2021-08-25T04:30:52.033326",
     "status": "completed"
    },
    "tags": []
   },
   "source": [
    "# Predictions"
   ]
  },
  {
   "cell_type": "markdown",
   "id": "99c44811-2186-4277-911a-ff940e34ff01",
   "metadata": {
    "papermill": {
     "duration": 0.012582,
     "end_time": "2021-08-25T04:30:52.072441",
     "exception": false,
     "start_time": "2021-08-25T04:30:52.059859",
     "status": "completed"
    },
    "tags": []
   },
   "source": [
    "## Data wrangling"
   ]
  },
  {
   "cell_type": "code",
   "execution_count": 1,
   "id": "d2f5d343-55f4-43d0-9b14-5d79fc7094ee",
   "metadata": {
    "papermill": {
     "duration": 1.90378,
     "end_time": "2021-08-25T04:30:53.987733",
     "exception": false,
     "start_time": "2021-08-25T04:30:52.083953",
     "status": "completed"
    },
    "tags": []
   },
   "outputs": [],
   "source": [
    "# Preamble\n",
    "import pandas as pd\n",
    "import numpy as np\n",
    "pd.set_option(\"mode.chained_assignment\", None)\n",
    "import random\n",
    "random.seed(1509)\n",
    "import matplotlib.pyplot as plt\n",
    "import lightgbm as lgb\n",
    "import pyarrow.feather as feather\n",
    "from os import chdir, getcwd\n",
    "import statsmodels.api as sm\n",
    "\n",
    "# sci-kit\n",
    "from sklearn.linear_model import LinearRegression\n",
    "from sklearn.neural_network import MLPRegressor\n",
    "from sklearn.ensemble import RandomForestRegressor\n",
    "from sklearn import svm\n",
    "from sklearn.preprocessing import StandardScaler\n",
    "from sklearn.model_selection import GridSearchCV\n",
    "from sklearn import metrics\n",
    "from sklearn.metrics import r2_score\n",
    "from sklearn.metrics import mean_squared_error"
   ]
  },
  {
   "cell_type": "code",
   "execution_count": 2,
   "id": "6cbed92b-623c-4293-9927-1ae51e505de2",
   "metadata": {
    "papermill": {
     "duration": 0.019207,
     "end_time": "2021-08-25T04:30:54.023305",
     "exception": false,
     "start_time": "2021-08-25T04:30:54.004098",
     "status": "completed"
    },
    "tags": []
   },
   "outputs": [],
   "source": [
    "data_dir = '/home/jovyan/work/Data/'\n",
    "results_dir = '/home/jovyan/work/Results/'"
   ]
  },
  {
   "cell_type": "code",
   "execution_count": 3,
   "id": "aa5789cf-f1d7-4d3d-a2a3-6568a164c189",
   "metadata": {},
   "outputs": [],
   "source": [
    "select_features = ['reporter.ISO', 'partner.ISO', 'year',\n",
    "                   'ln.Tot_IFF_t', 'ln.In_Tot_IFF_t',\n",
    "                   'ln.gdp_o', 'ln.gdp_d', 'ln.pop_o', 'ln.pop_d', \n",
    "                   'dist', 'contig', \n",
    "                   'comlang', 'comcol', 'col45', \n",
    "                   'ihs.entry_cost_o', 'ihs.entry_cost_d', 'rta',\n",
    "                   'rCorrCont', 'pCorrCont',\n",
    "                   'rRegQual', 'pRegQual', \n",
    "                   'rRuleLaw', 'pRuleLaw',\n",
    "                   'rSecrecyScore', 'pSecrecyScore',\n",
    "                   'rFSI.rank', 'pFSI.rank',\n",
    "                   'rKFSI13', 'pKFSI13',\n",
    "                   'rKFSI17', 'pKFSI17',\n",
    "                   'rKFSI20', 'pKFSI20',\n",
    "                   'rFATF', 'pFATF',\n",
    "                   'ihs.tariff',\n",
    "                   'kai_o', 'kai_d', 'kao_o', 'kao_d',\n",
    "                   'cc_o', 'cc_d', 'cci_o', 'cci_d', 'cco_o', 'cco_d',\n",
    "                   'di_o', 'di_d', 'dii_o', 'dii_d', 'dio_o', 'dio_d']\n",
    "features = [       'ln.gdp_o', 'ln.gdp_d', 'ln.pop_o', 'ln.pop_d', \n",
    "                   'dist', 'contig', \n",
    "                   'comlang', 'comcol', 'col45', \n",
    "                   'ihs.entry_cost_o', 'ihs.entry_cost_d', 'rta',\n",
    "                   'rCorrCont', 'pCorrCont',\n",
    "                   'rRegQual', 'pRegQual', \n",
    "                   'rRuleLaw', 'pRuleLaw',\n",
    "                   'rSecrecyScore', 'pSecrecyScore',\n",
    "                   'rFSI.rank', 'pFSI.rank',\n",
    "                   'rKFSI13', 'pKFSI13',\n",
    "                   'rKFSI17', 'pKFSI17',\n",
    "                   'rKFSI20', 'pKFSI20',\n",
    "                   'rFATF', 'pFATF',\n",
    "                   'ihs.tariff',\n",
    "                   'kai_o', 'kai_d', 'kao_o', 'kao_d',\n",
    "                   'cc_o', 'cc_d', 'cci_o', 'cci_d', 'cco_o', 'cco_d',\n",
    "                   'di_o', 'di_d', 'dii_o', 'dii_d', 'dio_o', 'dio_d']"
   ]
  },
  {
   "cell_type": "markdown",
   "id": "a6cbf9da-0af7-4d89-9227-d63c9f5e9b04",
   "metadata": {
    "papermill": {
     "duration": 0.011902,
     "end_time": "2021-08-25T04:30:54.080630",
     "exception": false,
     "start_time": "2021-08-25T04:30:54.068728",
     "status": "completed"
    },
    "tags": []
   },
   "source": [
    "## Subset from training and test samples"
   ]
  },
  {
   "cell_type": "code",
   "execution_count": 4,
   "id": "33ac487b-644b-4af0-a233-1bedf9b5a998",
   "metadata": {
    "papermill": {
     "duration": 0.198678,
     "end_time": "2021-08-25T04:30:54.291158",
     "exception": false,
     "start_time": "2021-08-25T04:30:54.092480",
     "status": "completed"
    },
    "tags": []
   },
   "outputs": [],
   "source": [
    "train_agg = feather.read_feather(results_dir + 'train_agg.feather')\n",
    "test_agg = feather.read_feather(results_dir + 'test_agg.feather')"
   ]
  },
  {
   "cell_type": "code",
   "execution_count": 5,
   "id": "d0c5dcdb-b4bd-41ad-866f-d7c825166f23",
   "metadata": {},
   "outputs": [],
   "source": [
    "def create_smp(data, features):\n",
    "    \"\"\"\n",
    "    Create train and test samples that are complete.\n",
    "    \"\"\"\n",
    "    smp = data[features]\n",
    "    smp.dropna(axis=0, how='any', inplace=True)\n",
    "    return smp"
   ]
  },
  {
   "cell_type": "code",
   "execution_count": 6,
   "id": "bf7ed85f-c229-46f8-b066-8b845fc60be6",
   "metadata": {},
   "outputs": [],
   "source": [
    "train_agg_smp = create_smp(train_agg, select_features)\n",
    "test_agg_smp = create_smp(test_agg, select_features)"
   ]
  },
  {
   "cell_type": "code",
   "execution_count": 7,
   "id": "8bc33b86-f009-4ac6-81c6-1fdce1bdafbc",
   "metadata": {
    "papermill": {
     "duration": 0.030357,
     "end_time": "2021-08-25T04:30:54.432522",
     "exception": false,
     "start_time": "2021-08-25T04:30:54.402165",
     "status": "completed"
    },
    "tags": []
   },
   "outputs": [],
   "source": [
    "feather.write_feather(train_agg_smp, results_dir + 'train_agg_smp.feather')\n",
    "feather.write_feather(test_agg_smp, results_dir + 'test_agg_smp.feather')"
   ]
  },
  {
   "cell_type": "code",
   "execution_count": 8,
   "id": "1cf54c33-88da-44d5-878c-926ad6c6d9cd",
   "metadata": {
    "papermill": {
     "duration": 0.023873,
     "end_time": "2021-08-25T04:30:54.469044",
     "exception": false,
     "start_time": "2021-08-25T04:30:54.445171",
     "status": "completed"
    },
    "tags": []
   },
   "outputs": [],
   "source": [
    "Y_train_out = train_agg_smp[['ln.Tot_IFF_t']]\n",
    "Y_train_in = train_agg_smp[['ln.In_Tot_IFF_t']]\n",
    "X_train = train_agg_smp[features]\n",
    "Y_test_out = test_agg_smp[['ln.Tot_IFF_t']]\n",
    "Y_test_in = test_agg_smp[['ln.In_Tot_IFF_t']]\n",
    "X_test = test_agg_smp[features]"
   ]
  },
  {
   "cell_type": "code",
   "execution_count": 9,
   "id": "fbaff0be-6136-415c-9c11-b1f1e62d3a0c",
   "metadata": {},
   "outputs": [
    {
     "name": "stdout",
     "output_type": "stream",
     "text": [
      "X_train:  (26512, 47) \n",
      "X_test:  (6341, 47)\n"
     ]
    }
   ],
   "source": [
    "print('X_train: ', X_train.shape, '\\nX_test: ',  X_test.shape)"
   ]
  },
  {
   "cell_type": "markdown",
   "id": "51afba86-15dc-4121-b287-b2858a51389b",
   "metadata": {
    "papermill": {
     "duration": 0.011466,
     "end_time": "2021-08-25T04:30:54.492337",
     "exception": false,
     "start_time": "2021-08-25T04:30:54.480871",
     "status": "completed"
    },
    "tags": []
   },
   "source": [
    "## Linear regression"
   ]
  },
  {
   "cell_type": "code",
   "execution_count": 10,
   "id": "139e74e4-3543-459d-9488-33a700c40a2b",
   "metadata": {
    "papermill": {
     "duration": 0.037,
     "end_time": "2021-08-25T04:30:54.540674",
     "exception": false,
     "start_time": "2021-08-25T04:30:54.503674",
     "status": "completed"
    },
    "tags": []
   },
   "outputs": [
    {
     "data": {
      "text/plain": [
       "LinearRegression()"
      ]
     },
     "execution_count": 10,
     "metadata": {},
     "output_type": "execute_result"
    }
   ],
   "source": [
    "linear_mod_out = LinearRegression()  \n",
    "linear_mod_out.fit(X_train.values, Y_train_out.values)"
   ]
  },
  {
   "cell_type": "code",
   "execution_count": 11,
   "id": "63f20a44-a031-4061-951d-567235db6d1f",
   "metadata": {},
   "outputs": [
    {
     "data": {
      "text/plain": [
       "LinearRegression()"
      ]
     },
     "execution_count": 11,
     "metadata": {},
     "output_type": "execute_result"
    }
   ],
   "source": [
    "linear_mod_in = LinearRegression()  \n",
    "linear_mod_in.fit(X_train.values, Y_train_in.values)"
   ]
  },
  {
   "cell_type": "code",
   "execution_count": 12,
   "id": "ebd838fc-d161-42c6-bcb2-34265c0044a9",
   "metadata": {
    "papermill": {
     "duration": 0.034715,
     "end_time": "2021-08-25T04:30:54.596530",
     "exception": false,
     "start_time": "2021-08-25T04:30:54.561815",
     "status": "completed"
    },
    "tags": []
   },
   "outputs": [
    {
     "name": "stdout",
     "output_type": "stream",
     "text": [
      "[-28.85119758]\n",
      "[[ 2.17308662e-01  9.60829131e-01  5.88134034e-01  4.78570759e-01\n",
      "  -1.16657363e-04  1.84338633e+00  9.24942991e-01  2.18544215e-01\n",
      "  -2.27526435e-01 -3.07376216e-01  6.35565820e-03  5.69511855e-01\n",
      "   1.64621734e-02 -9.29167853e-03  1.96694253e-02  1.51657766e-02\n",
      "  -8.87163517e-03  1.74365700e-02  9.06745475e-03  3.08066673e-02\n",
      "  -1.37184510e-03  8.17889715e-03  3.94521513e-03  2.03277150e-01\n",
      "  -1.02251614e+00 -2.21847373e+00  1.55280466e+00 -5.11358335e-01\n",
      "   4.37288687e-01  3.40714953e-01 -2.67608948e-02 -6.95523900e-01\n",
      "  -6.91157432e-01  1.22199600e+00  1.29719684e+00 -1.67159639e-01\n",
      "  -6.95430454e-02 -4.88380085e-01 -2.28557777e-01  1.54060808e-01\n",
      "   8.94716866e-02  1.57316600e-02  9.33156167e-03  7.72829674e-02\n",
      "   1.65190648e-03 -4.58196473e-02  1.70112169e-02]]\n"
     ]
    }
   ],
   "source": [
    "print(linear_mod_out.intercept_)\n",
    "print(linear_mod_out.coef_)"
   ]
  },
  {
   "cell_type": "code",
   "execution_count": 13,
   "id": "51bfb9c6-856f-4c92-85f4-46bb055e788f",
   "metadata": {
    "papermill": {
     "duration": 0.034715,
     "end_time": "2021-08-25T04:30:54.596530",
     "exception": false,
     "start_time": "2021-08-25T04:30:54.561815",
     "status": "completed"
    },
    "tags": []
   },
   "outputs": [
    {
     "name": "stdout",
     "output_type": "stream",
     "text": [
      "[-21.42376807]\n",
      "[[ 2.45175681e-01  7.49589737e-01  4.12086852e-01  4.68765397e-01\n",
      "  -1.62572287e-04  1.35260147e+00  7.78706249e-01  3.68380237e-01\n",
      "   5.81126199e-01 -1.61183608e-01  2.14463868e-02  8.50875313e-01\n",
      "  -7.17001973e-04  9.38258697e-03  2.40049258e-02  9.31667235e-03\n",
      "  -5.18837532e-03  1.20074115e-02 -1.44769534e-03  1.72182920e-02\n",
      "  -6.11284229e-03 -2.21378222e-03 -9.10189857e-02  2.55336262e-01\n",
      "  -1.65729725e+00 -1.55678294e+00  1.31444383e+00 -9.00712637e-01\n",
      "   5.73042250e-01  4.94133291e-01  1.21407557e-01  6.35712991e-02\n",
      "  -1.29434409e+00  7.29932923e-01  1.50080442e+00 -5.79974339e-02\n",
      "  -6.76068084e-02 -3.16283475e-01 -1.92695070e-01  2.00288607e-01\n",
      "   5.74814529e-02 -1.34985325e-01 -1.96559281e-02 -1.00215820e-01\n",
      "  -6.23377505e-02 -1.69754830e-01  2.30258944e-02]]\n"
     ]
    }
   ],
   "source": [
    "print(linear_mod_in.intercept_)\n",
    "print(linear_mod_in.coef_)"
   ]
  },
  {
   "cell_type": "code",
   "execution_count": 14,
   "id": "3238d645-0834-4f5f-a4e9-ec27d7ac58b3",
   "metadata": {
    "papermill": {
     "duration": 0.289043,
     "end_time": "2021-08-25T04:30:54.907396",
     "exception": false,
     "start_time": "2021-08-25T04:30:54.618353",
     "status": "completed"
    },
    "tags": []
   },
   "outputs": [
    {
     "name": "stdout",
     "output_type": "stream",
     "text": [
      "                            OLS Regression Results                            \n",
      "==============================================================================\n",
      "Dep. Variable:           ln.Tot_IFF_t   R-squared:                       0.636\n",
      "Model:                            OLS   Adj. R-squared:                  0.635\n",
      "Method:                 Least Squares   F-statistic:                     1074.\n",
      "Date:                Mon, 20 Sep 2021   Prob (F-statistic):               0.00\n",
      "Time:                        21:21:47   Log-Likelihood:                -56517.\n",
      "No. Observations:               26512   AIC:                         1.131e+05\n",
      "Df Residuals:                   26468   BIC:                         1.135e+05\n",
      "Df Model:                          43                                         \n",
      "Covariance Type:            nonrobust                                         \n",
      "====================================================================================\n",
      "                       coef    std err          t      P>|t|      [0.025      0.975]\n",
      "------------------------------------------------------------------------------------\n",
      "const              -28.8512      0.695    -41.506      0.000     -30.214     -27.489\n",
      "ln.gdp_o             0.2173      0.028      7.676      0.000       0.162       0.273\n",
      "ln.gdp_d             0.9608      0.028     33.814      0.000       0.905       1.017\n",
      "ln.pop_o             0.5881      0.028     21.034      0.000       0.533       0.643\n",
      "ln.pop_d             0.4786      0.028     17.093      0.000       0.424       0.533\n",
      "dist                -0.0001   3.36e-06    -34.705      0.000      -0.000      -0.000\n",
      "contig               1.8434      0.086     21.436      0.000       1.675       2.012\n",
      "comlang              0.9249      0.040     22.904      0.000       0.846       1.004\n",
      "comcol               0.2185      0.078      2.788      0.005       0.065       0.372\n",
      "col45               -0.2275      0.115     -1.973      0.048      -0.454      -0.002\n",
      "ihs.entry_cost_o    -0.3074      0.015    -20.860      0.000      -0.336      -0.278\n",
      "ihs.entry_cost_d     0.0064      0.015      0.436      0.663      -0.022       0.035\n",
      "rta                  0.5695      0.035     16.295      0.000       0.501       0.638\n",
      "rCorrCont            0.0165      0.002      8.063      0.000       0.012       0.020\n",
      "pCorrCont           -0.0093      0.002     -4.558      0.000      -0.013      -0.005\n",
      "rRegQual             0.0197      0.002      8.803      0.000       0.015       0.024\n",
      "pRegQual             0.0152      0.002      6.925      0.000       0.011       0.019\n",
      "rRuleLaw            -0.0089      0.002     -3.716      0.000      -0.014      -0.004\n",
      "pRuleLaw             0.0174      0.002      7.323      0.000       0.013       0.022\n",
      "rSecrecyScore        0.0091      0.003      3.070      0.002       0.003       0.015\n",
      "pSecrecyScore        0.0308      0.003     10.403      0.000       0.025       0.037\n",
      "rFSI.rank           -0.0014      0.001     -1.371      0.170      -0.003       0.001\n",
      "pFSI.rank            0.0082      0.001      8.114      0.000       0.006       0.010\n",
      "rKFSI13              0.0039      0.053      0.075      0.941      -0.100       0.108\n",
      "pKFSI13              0.2033      0.053      3.849      0.000       0.100       0.307\n",
      "rKFSI17             -1.0225      0.176     -5.808      0.000      -1.368      -0.677\n",
      "pKFSI17             -2.2185      0.176    -12.638      0.000      -2.563      -1.874\n",
      "rKFSI20              1.5528      0.223      6.952      0.000       1.115       1.991\n",
      "pKFSI20             -0.5114      0.224     -2.286      0.022      -0.950      -0.073\n",
      "rFATF                0.4373      0.046      9.549      0.000       0.348       0.527\n",
      "pFATF                0.3407      0.046      7.447      0.000       0.251       0.430\n",
      "ihs.tariff          -0.0268      0.017     -1.609      0.108      -0.059       0.006\n",
      "kai_o               -0.6955      0.128     -5.433      0.000      -0.946      -0.445\n",
      "kai_d               -0.6912      0.128     -5.401      0.000      -0.942      -0.440\n",
      "kao_o                1.2220      0.103     11.856      0.000       1.020       1.424\n",
      "kao_d                1.2972      0.103     12.592      0.000       1.095       1.499\n",
      "cc_o                -0.1672      0.020     -8.208      0.000      -0.207      -0.127\n",
      "cc_d                -0.0695      0.020     -3.435      0.001      -0.109      -0.030\n",
      "cci_o               -0.4884      0.050     -9.691      0.000      -0.587      -0.390\n",
      "cci_d               -0.2286      0.050     -4.556      0.000      -0.327      -0.130\n",
      "cco_o                0.1541      0.046      3.327      0.001       0.063       0.245\n",
      "cco_d                0.0895      0.046      1.936      0.053      -0.001       0.180\n",
      "di_o                 0.0157      0.020      0.778      0.436      -0.024       0.055\n",
      "di_d                 0.0093      0.020      0.462      0.644      -0.030       0.049\n",
      "dii_o                0.0773      0.033      2.336      0.020       0.012       0.142\n",
      "dii_d                0.0017      0.033      0.050      0.960      -0.063       0.067\n",
      "dio_o               -0.0458      0.041     -1.114      0.265      -0.126       0.035\n",
      "dio_d                0.0170      0.041      0.414      0.679      -0.064       0.098\n",
      "==============================================================================\n",
      "Omnibus:                     6182.189   Durbin-Watson:                   1.501\n",
      "Prob(Omnibus):                  0.000   Jarque-Bera (JB):            25675.433\n",
      "Skew:                          -1.099   Prob(JB):                         0.00\n",
      "Kurtosis:                       7.291   Cond. No.                     1.14e+16\n",
      "==============================================================================\n",
      "\n",
      "Notes:\n",
      "[1] Standard Errors assume that the covariance matrix of the errors is correctly specified.\n",
      "[2] The smallest eigenvalue is 1.82e-20. This might indicate that there are\n",
      "strong multicollinearity problems or that the design matrix is singular.\n"
     ]
    },
    {
     "name": "stderr",
     "output_type": "stream",
     "text": [
      "/opt/conda/lib/python3.9/site-packages/statsmodels/tsa/tsatools.py:142: FutureWarning: In a future version of pandas all arguments of concat except for the argument 'objs' will be keyword-only\n",
      "  x = pd.concat(x[::order], 1)\n"
     ]
    }
   ],
   "source": [
    "Xconst = sm.add_constant(X_train)\n",
    "est = sm.OLS(Y_train_out, Xconst)\n",
    "est2 = est.fit()\n",
    "print(est2.summary())"
   ]
  },
  {
   "cell_type": "code",
   "execution_count": 15,
   "id": "548c5979-cb95-4010-97cc-b1352007b938",
   "metadata": {},
   "outputs": [
    {
     "name": "stdout",
     "output_type": "stream",
     "text": [
      "                            OLS Regression Results                            \n",
      "==============================================================================\n",
      "Dep. Variable:        ln.In_Tot_IFF_t   R-squared:                       0.624\n",
      "Model:                            OLS   Adj. R-squared:                  0.623\n",
      "Method:                 Least Squares   F-statistic:                     1020.\n",
      "Date:                Mon, 20 Sep 2021   Prob (F-statistic):               0.00\n",
      "Time:                        21:21:50   Log-Likelihood:                -56553.\n",
      "No. Observations:               26512   AIC:                         1.132e+05\n",
      "Df Residuals:                   26468   BIC:                         1.136e+05\n",
      "Df Model:                          43                                         \n",
      "Covariance Type:            nonrobust                                         \n",
      "====================================================================================\n",
      "                       coef    std err          t      P>|t|      [0.025      0.975]\n",
      "------------------------------------------------------------------------------------\n",
      "const              -21.4238      0.696    -30.778      0.000     -22.788     -20.059\n",
      "ln.gdp_o             0.2452      0.028      8.649      0.000       0.190       0.301\n",
      "ln.gdp_d             0.7496      0.028     26.343      0.000       0.694       0.805\n",
      "ln.pop_o             0.4121      0.028     14.717      0.000       0.357       0.467\n",
      "ln.pop_d             0.4688      0.028     16.720      0.000       0.414       0.524\n",
      "dist                -0.0002   3.37e-06    -48.297      0.000      -0.000      -0.000\n",
      "contig               1.3526      0.086     15.707      0.000       1.184       1.521\n",
      "comlang              0.7787      0.040     19.256      0.000       0.699       0.858\n",
      "comcol               0.3684      0.078      4.693      0.000       0.215       0.522\n",
      "col45                0.5811      0.115      5.033      0.000       0.355       0.807\n",
      "ihs.entry_cost_o    -0.1612      0.015    -10.924      0.000      -0.190      -0.132\n",
      "ihs.entry_cost_d     0.0214      0.015      1.470      0.141      -0.007       0.050\n",
      "rta                  0.8509      0.035     24.312      0.000       0.782       0.919\n",
      "rCorrCont           -0.0007      0.002     -0.351      0.726      -0.005       0.003\n",
      "pCorrCont            0.0094      0.002      4.596      0.000       0.005       0.013\n",
      "rRegQual             0.0240      0.002     10.729      0.000       0.020       0.028\n",
      "pRegQual             0.0093      0.002      4.248      0.000       0.005       0.014\n",
      "rRuleLaw            -0.0052      0.002     -2.170      0.030      -0.010      -0.001\n",
      "pRuleLaw             0.0120      0.002      5.036      0.000       0.007       0.017\n",
      "rSecrecyScore       -0.0014      0.003     -0.489      0.625      -0.007       0.004\n",
      "pSecrecyScore        0.0172      0.003      5.806      0.000       0.011       0.023\n",
      "rFSI.rank           -0.0061      0.001     -6.099      0.000      -0.008      -0.004\n",
      "pFSI.rank           -0.0022      0.001     -2.193      0.028      -0.004      -0.000\n",
      "rKFSI13             -0.0910      0.053     -1.716      0.086      -0.195       0.013\n",
      "pKFSI13              0.2553      0.053      4.828      0.000       0.152       0.359\n",
      "rKFSI17             -1.6573      0.176     -9.400      0.000      -2.003      -1.312\n",
      "pKFSI17             -1.5568      0.176     -8.856      0.000      -1.901      -1.212\n",
      "rKFSI20              1.3144      0.224      5.876      0.000       0.876       1.753\n",
      "pKFSI20             -0.9007      0.224     -4.020      0.000      -1.340      -0.462\n",
      "rFATF                0.5730      0.046     12.495      0.000       0.483       0.663\n",
      "pFATF                0.4941      0.046     10.786      0.000       0.404       0.584\n",
      "ihs.tariff           0.1214      0.017      7.289      0.000       0.089       0.154\n",
      "kai_o                0.0636      0.128      0.496      0.620      -0.188       0.315\n",
      "kai_d               -1.2943      0.128    -10.101      0.000      -1.546      -1.043\n",
      "kao_o                0.7299      0.103      7.072      0.000       0.528       0.932\n",
      "kao_d                1.5008      0.103     14.548      0.000       1.299       1.703\n",
      "cc_o                -0.0580      0.020     -2.844      0.004      -0.098      -0.018\n",
      "cc_d                -0.0676      0.020     -3.335      0.001      -0.107      -0.028\n",
      "cci_o               -0.3163      0.050     -6.268      0.000      -0.415      -0.217\n",
      "cci_d               -0.1927      0.050     -3.836      0.000      -0.291      -0.094\n",
      "cco_o                0.2003      0.046      4.319      0.000       0.109       0.291\n",
      "cco_d                0.0575      0.046      1.242      0.214      -0.033       0.148\n",
      "di_o                -0.1350      0.020     -6.668      0.000      -0.175      -0.095\n",
      "di_d                -0.0197      0.020     -0.972      0.331      -0.059       0.020\n",
      "dii_o               -0.1002      0.033     -3.025      0.002      -0.165      -0.035\n",
      "dii_d               -0.0623      0.033     -1.879      0.060      -0.127       0.003\n",
      "dio_o               -0.1698      0.041     -4.122      0.000      -0.250      -0.089\n",
      "dio_d                0.0230      0.041      0.559      0.576      -0.058       0.104\n",
      "==============================================================================\n",
      "Omnibus:                     3533.288   Durbin-Watson:                   1.702\n",
      "Prob(Omnibus):                  0.000   Jarque-Bera (JB):             8728.822\n",
      "Skew:                          -0.766   Prob(JB):                         0.00\n",
      "Kurtosis:                       5.357   Cond. No.                     1.14e+16\n",
      "==============================================================================\n",
      "\n",
      "Notes:\n",
      "[1] Standard Errors assume that the covariance matrix of the errors is correctly specified.\n",
      "[2] The smallest eigenvalue is 1.82e-20. This might indicate that there are\n",
      "strong multicollinearity problems or that the design matrix is singular.\n"
     ]
    },
    {
     "name": "stderr",
     "output_type": "stream",
     "text": [
      "/opt/conda/lib/python3.9/site-packages/statsmodels/tsa/tsatools.py:142: FutureWarning: In a future version of pandas all arguments of concat except for the argument 'objs' will be keyword-only\n",
      "  x = pd.concat(x[::order], 1)\n"
     ]
    }
   ],
   "source": [
    "Xconst = sm.add_constant(X_train)\n",
    "est = sm.OLS(Y_train_in, Xconst)\n",
    "est2 = est.fit()\n",
    "print(est2.summary())"
   ]
  },
  {
   "cell_type": "code",
   "execution_count": 16,
   "id": "7e6e9b13-5423-42ee-93b4-a26df5e213d9",
   "metadata": {
    "papermill": {
     "duration": 0.035714,
     "end_time": "2021-08-25T04:30:54.966104",
     "exception": false,
     "start_time": "2021-08-25T04:30:54.930390",
     "status": "completed"
    },
    "tags": []
   },
   "outputs": [],
   "source": [
    "preds_LM_train_out = linear_mod_out.predict(X_train)\n",
    "preds_LM_test_out = linear_mod_out.predict(X_test)"
   ]
  },
  {
   "cell_type": "code",
   "execution_count": 17,
   "id": "7ebbd45f-3469-4e54-829a-2e0242cf6d1c",
   "metadata": {
    "papermill": {
     "duration": 0.035714,
     "end_time": "2021-08-25T04:30:54.966104",
     "exception": false,
     "start_time": "2021-08-25T04:30:54.930390",
     "status": "completed"
    },
    "tags": []
   },
   "outputs": [],
   "source": [
    "preds_LM_train_in = linear_mod_in.predict(X_train)\n",
    "preds_LM_test_in = linear_mod_in.predict(X_test)"
   ]
  },
  {
   "cell_type": "code",
   "execution_count": 18,
   "id": "20c84e50-70f4-4f78-b046-89abca108c02",
   "metadata": {},
   "outputs": [],
   "source": [
    "feather.write_feather(pd.DataFrame(preds_LM_train_out), results_dir + 'preds.LM.train_out_agg.feather')\n",
    "feather.write_feather(pd.DataFrame(preds_LM_test_out), results_dir + 'preds.LM.test_out_agg.feather')"
   ]
  },
  {
   "cell_type": "code",
   "execution_count": 19,
   "id": "b8534754-dac6-42c5-af67-351df8ce9bb7",
   "metadata": {},
   "outputs": [],
   "source": [
    "feather.write_feather(pd.DataFrame(preds_LM_train_in), results_dir + 'preds.LM.train_in_agg.feather')\n",
    "feather.write_feather(pd.DataFrame(preds_LM_test_in), results_dir + 'preds.LM.test_in_agg.feather')"
   ]
  },
  {
   "cell_type": "code",
   "execution_count": 20,
   "id": "a6e4edc9-1ecf-4572-8e1b-1c0208729f1a",
   "metadata": {
    "papermill": {
     "duration": 0.295035,
     "end_time": "2021-08-25T04:30:57.344235",
     "exception": false,
     "start_time": "2021-08-25T04:30:57.049200",
     "status": "completed"
    },
    "tags": []
   },
   "outputs": [
    {
     "name": "stdout",
     "output_type": "stream",
     "text": [
      "RMSE of the training set (outflows): 2.0396856398535785\n",
      "R^2 of the training set (outflows): 0.6357268982678015\n",
      "RMSE of the test set (outflows): 2.017611822697327\n",
      "R^2 of the test set (outflows): 0.6313543564710884\n"
     ]
    }
   ],
   "source": [
    "print(\"RMSE of the training set (outflows):\", np.sqrt(mean_squared_error(Y_train_out, preds_LM_train_out)))\n",
    "print(\"R^2 of the training set (outflows):\", r2_score(Y_train_out, preds_LM_train_out))\n",
    "print(\"RMSE of the test set (outflows):\", np.sqrt(mean_squared_error(Y_test_out, preds_LM_test_out)))\n",
    "print(\"R^2 of the test set (outflows):\", r2_score(Y_test_out, preds_LM_test_out))"
   ]
  },
  {
   "cell_type": "code",
   "execution_count": 21,
   "id": "33ded127-d107-4d35-84b4-4efcd318249f",
   "metadata": {
    "papermill": {
     "duration": 0.295035,
     "end_time": "2021-08-25T04:30:57.344235",
     "exception": false,
     "start_time": "2021-08-25T04:30:57.049200",
     "status": "completed"
    },
    "tags": []
   },
   "outputs": [
    {
     "name": "stdout",
     "output_type": "stream",
     "text": [
      "RMSE of the training set (inflows): 2.0425145706906696\n",
      "R^2 of the training set (inflows): 0.6235542291404486\n",
      "RMSE of the test set (inflows): 2.0764764896445476\n",
      "R^2 of the test set (inflows): 0.6031990791998948\n"
     ]
    }
   ],
   "source": [
    "print(\"RMSE of the training set (inflows):\", np.sqrt(mean_squared_error(Y_train_in, preds_LM_train_in)))\n",
    "print(\"R^2 of the training set (inflows):\", r2_score(Y_train_in, preds_LM_train_in))\n",
    "print(\"RMSE of the test set (inflows):\", np.sqrt(mean_squared_error(Y_test_in, preds_LM_test_in)))\n",
    "print(\"R^2 of the test set (inflows):\", r2_score(Y_test_in, preds_LM_test_in))"
   ]
  },
  {
   "cell_type": "code",
   "execution_count": 23,
   "id": "522f38b2",
   "metadata": {},
   "outputs": [
    {
     "name": "stdout",
     "output_type": "stream",
     "text": [
      "Mean Absolute Error (outflows): 1.434556017825243\n",
      "Mean Squared Error (outflows): 4.070757467088031\n",
      "Dollar Mean Squared Error (outflows): 532788028.5053485\n"
     ]
    }
   ],
   "source": [
    "print('Mean Absolute Error (outflows):', metrics.mean_absolute_error(Y_test_out, preds_LM_test_out))  \n",
    "print('Mean Squared Error (outflows):', mean_squared_error(Y_test_out, preds_LM_test_out))\n",
    "print('Dollar Mean Squared Error (outflows):', np.mean(np.square(np.exp(Y_test_out.values)/10**3 - np.exp(preds_LM_test_out)/10**3)))"
   ]
  },
  {
   "cell_type": "code",
   "execution_count": 24,
   "id": "6fd4b8c0-8d5f-49c9-a511-a70be10269b2",
   "metadata": {
    "papermill": {
     "duration": 0.040683,
     "end_time": "2021-08-25T04:30:55.028165",
     "exception": false,
     "start_time": "2021-08-25T04:30:54.987482",
     "status": "completed"
    },
    "tags": []
   },
   "outputs": [
    {
     "name": "stdout",
     "output_type": "stream",
     "text": [
      "Mean Absolute Error (inflows): 1.5207723058371316\n",
      "Mean Squared Error (inflows): 4.311754612046542\n",
      "Dollar Mean Squared Error (inflows): 110029301.58844204\n"
     ]
    }
   ],
   "source": [
    "print('Mean Absolute Error (inflows):', metrics.mean_absolute_error(Y_test_in, preds_LM_test_in))  \n",
    "print('Mean Squared Error (inflows):', mean_squared_error(Y_test_in, preds_LM_test_in))\n",
    "print('Dollar Mean Squared Error (inflows):', np.mean(np.square(np.exp(Y_test_in.values)/10**3 - np.exp(preds_LM_test_in)/10**3)))"
   ]
  },
  {
   "cell_type": "markdown",
   "id": "8ef95a54-1665-41a1-8495-a60d4a5ea881",
   "metadata": {
    "papermill": {
     "duration": 0.023734,
     "end_time": "2021-08-25T04:30:55.074967",
     "exception": false,
     "start_time": "2021-08-25T04:30:55.051233",
     "status": "completed"
    },
    "tags": []
   },
   "source": [
    "## Light GBM"
   ]
  },
  {
   "cell_type": "code",
   "execution_count": 25,
   "id": "357fe607-33d1-4ad1-a266-74c0fefda200",
   "metadata": {
    "papermill": {
     "duration": 0.020547,
     "end_time": "2021-08-25T04:30:55.112011",
     "exception": false,
     "start_time": "2021-08-25T04:30:55.091464",
     "status": "completed"
    },
    "tags": []
   },
   "outputs": [],
   "source": [
    "lightGBM_train_out = lgb.Dataset(X_train, Y_train_out)\n",
    "lightGBM_test_out = lgb.Dataset(X_test, Y_test_out)\n",
    "lightGBM_train_in = lgb.Dataset(X_train, Y_train_in)\n",
    "lightGBM_test_in = lgb.Dataset(X_test, Y_test_in)"
   ]
  },
  {
   "cell_type": "code",
   "execution_count": 28,
   "id": "78d8f53c-faeb-49f1-b7ad-3d31a6fb8e97",
   "metadata": {
    "papermill": {
     "duration": 1.909577,
     "end_time": "2021-08-25T04:30:57.034838",
     "exception": false,
     "start_time": "2021-08-25T04:30:55.125261",
     "status": "completed"
    },
    "tags": []
   },
   "outputs": [
    {
     "name": "stdout",
     "output_type": "stream",
     "text": [
      "Training until validation scores don't improve for 50 rounds\n",
      "Early stopping, best iteration is:\n",
      "[310]\ttrain's rmse: 0.718891\ttest's rmse: 1.31108\n"
     ]
    }
   ],
   "source": [
    "params = {\n",
    "    'objective' : 'regression',\n",
    "    'metric' : 'rmse',\n",
    "    'num_leaves' : 100,\n",
    "    'max_depth': 10,\n",
    "    'learning_rate' : 0.1,\n",
    "    'feature_fraction' : 0.6,\n",
    "    'verbosity' : -1\n",
    "}\n",
    "lightGBM_mod_out = lgb.train(\n",
    "    params,\n",
    "    lightGBM_train_out,\n",
    "    500,\n",
    "    valid_sets = [lightGBM_train_out, lightGBM_test_out],\n",
    "    valid_names = [\"train\", \"test\"],\n",
    "    early_stopping_rounds = 50,\n",
    "    verbose_eval = 500\n",
    ")"
   ]
  },
  {
   "cell_type": "code",
   "execution_count": 29,
   "id": "a8176e38",
   "metadata": {},
   "outputs": [
    {
     "name": "stdout",
     "output_type": "stream",
     "text": [
      "Training until validation scores don't improve for 50 rounds\n",
      "Early stopping, best iteration is:\n",
      "[221]\ttrain's rmse: 0.843101\ttest's rmse: 1.49165\n"
     ]
    }
   ],
   "source": [
    "params = {\n",
    "    'objective' : 'regression',\n",
    "    'metric' : 'rmse',\n",
    "    'num_leaves' : 100,\n",
    "    'max_depth': 10,\n",
    "    'learning_rate' : 0.1,\n",
    "    'feature_fraction' : 0.6,\n",
    "    'verbosity' : -1\n",
    "}\n",
    "lightGBM_mod_in = lgb.train(\n",
    "    params,\n",
    "    lightGBM_train_in,\n",
    "    500,\n",
    "    valid_sets = [lightGBM_train_in, lightGBM_test_in],\n",
    "    valid_names = [\"train\", \"test\"],\n",
    "    early_stopping_rounds = 50,\n",
    "    verbose_eval = 500\n",
    ")"
   ]
  },
  {
   "cell_type": "code",
   "execution_count": 30,
   "id": "fa979ff7-2bfa-45b9-90a3-586b98265885",
   "metadata": {
    "papermill": {
     "duration": 0.161112,
     "end_time": "2021-08-25T04:30:57.996472",
     "exception": false,
     "start_time": "2021-08-25T04:30:57.835360",
     "status": "completed"
    },
    "tags": []
   },
   "outputs": [],
   "source": [
    "preds_lightGBM_train_out = pd.DataFrame(lightGBM_mod_out.predict(X_train))\n",
    "preds_lightGBM_test_out = pd.DataFrame(lightGBM_mod_out.predict(X_test))"
   ]
  },
  {
   "cell_type": "code",
   "execution_count": 31,
   "id": "ce77d7c3",
   "metadata": {},
   "outputs": [],
   "source": [
    "preds_lightGBM_train_in = pd.DataFrame(lightGBM_mod_in.predict(X_train))\n",
    "preds_lightGBM_test_in = pd.DataFrame(lightGBM_mod_in.predict(X_test))"
   ]
  },
  {
   "cell_type": "code",
   "execution_count": 32,
   "id": "93e9d44a-dc72-470c-8791-eb37221bfed6",
   "metadata": {
    "papermill": {
     "duration": 0.024682,
     "end_time": "2021-08-25T04:30:58.037404",
     "exception": false,
     "start_time": "2021-08-25T04:30:58.012722",
     "status": "completed"
    },
    "tags": []
   },
   "outputs": [],
   "source": [
    "feather.write_feather(preds_lightGBM_train_out, results_dir + 'preds.lightGBM.train_out_agg.feather')\n",
    "feather.write_feather(preds_lightGBM_test_out, results_dir + 'preds.lightGBM.test_out_agg.feather')"
   ]
  },
  {
   "cell_type": "code",
   "execution_count": 33,
   "id": "7a9eee20",
   "metadata": {},
   "outputs": [],
   "source": [
    "feather.write_feather(preds_lightGBM_train_in, results_dir + 'preds.lightGBM.train_in_agg.feather')\n",
    "feather.write_feather(preds_lightGBM_test_in, results_dir + 'preds.lightGBM.test_in_agg.feather')"
   ]
  },
  {
   "cell_type": "code",
   "execution_count": 34,
   "id": "d8df4914-dbce-4532-8cb2-bfb452610389",
   "metadata": {
    "papermill": {
     "duration": 0.295035,
     "end_time": "2021-08-25T04:30:57.344235",
     "exception": false,
     "start_time": "2021-08-25T04:30:57.049200",
     "status": "completed"
    },
    "tags": []
   },
   "outputs": [
    {
     "name": "stdout",
     "output_type": "stream",
     "text": [
      "RMSE of the training set (outflows): 0.7188911956283466\n",
      "R^2 of the training set (outflows): 0.9547491275819805\n",
      "RMSE of the test set (outflows): 1.3110833069221723\n",
      "R^2 of the test set (outflows): 0.8443337535292312\n"
     ]
    }
   ],
   "source": [
    "print(\"RMSE of the training set (outflows):\", np.sqrt(mean_squared_error(Y_train_out, preds_lightGBM_train_out)))\n",
    "print(\"R^2 of the training set (outflows):\", r2_score(Y_train_out, preds_lightGBM_train_out))\n",
    "print(\"RMSE of the test set (outflows):\", np.sqrt(mean_squared_error(Y_test_out, preds_lightGBM_test_out)))\n",
    "print(\"R^2 of the test set (outflows):\", r2_score(Y_test_out, preds_lightGBM_test_out))"
   ]
  },
  {
   "cell_type": "code",
   "execution_count": 35,
   "id": "a11f24ac-8e85-4041-8fb7-800f3e2be752",
   "metadata": {},
   "outputs": [
    {
     "name": "stdout",
     "output_type": "stream",
     "text": [
      "RMSE of the training set (inflows): 0.8431014272907036\n",
      "R^2 of the training set (inflows): 0.935859588062987\n",
      "RMSE of the test set (inflows): 1.4916525723288068\n",
      "R^2 of the test set (inflows): 0.7952358148388347\n"
     ]
    }
   ],
   "source": [
    "print(\"RMSE of the training set (inflows):\", np.sqrt(mean_squared_error(Y_train_in, preds_lightGBM_train_in)))\n",
    "print(\"R^2 of the training set (inflows):\", r2_score(Y_train_in, preds_lightGBM_train_in))\n",
    "print(\"RMSE of the test set (inflows):\", np.sqrt(mean_squared_error(Y_test_in, preds_lightGBM_test_in)))\n",
    "print(\"R^2 of the test set (inflows):\", r2_score(Y_test_in, preds_lightGBM_test_in))"
   ]
  },
  {
   "cell_type": "code",
   "execution_count": 37,
   "id": "53a26cd6-e48c-4dc0-8e22-fa278910edaa",
   "metadata": {},
   "outputs": [
    {
     "name": "stdout",
     "output_type": "stream",
     "text": [
      "Mean Absolute Error (outflows): 0.8449448297513281\n",
      "Mean Squared Error (outflows): 1.7189394376899791\n",
      "Dollar Mean Squared Error (outflows): 0    4.484915e+06\n",
      "dtype: float64\n"
     ]
    }
   ],
   "source": [
    "print('Mean Absolute Error (outflows):', metrics.mean_absolute_error(Y_test_out, preds_lightGBM_test_out))  \n",
    "print('Mean Squared Error (outflows):', mean_squared_error(Y_test_out, preds_lightGBM_test_out))\n",
    "print('Dollar Mean Squared Error (outflows):', np.mean(np.square(np.exp(Y_test_out.values)/10**3 - np.exp(preds_lightGBM_test_out)/10**3)))"
   ]
  },
  {
   "cell_type": "code",
   "execution_count": 38,
   "id": "6db0f39c-6f3f-4c7a-bf5e-40d7a7516f40",
   "metadata": {},
   "outputs": [
    {
     "name": "stdout",
     "output_type": "stream",
     "text": [
      "Mean Absolute Error (inflows): 0.9911706190149681\n",
      "Mean Squared Error (inflows): 2.2250273965351464\n",
      "Dollar Mean Squared Error (inflows): 0    1.410258e+07\n",
      "dtype: float64\n"
     ]
    }
   ],
   "source": [
    "print('Mean Absolute Error (inflows):', metrics.mean_absolute_error(Y_test_in, preds_lightGBM_test_in))  \n",
    "print('Mean Squared Error (inflows):', mean_squared_error(Y_test_in, preds_lightGBM_test_in))\n",
    "print('Dollar Mean Squared Error (inflows):', np.mean(np.square(np.exp(Y_test_in.values)/10**3 - np.exp(preds_lightGBM_test_in)/10**3)))"
   ]
  },
  {
   "cell_type": "code",
   "execution_count": 39,
   "id": "1df252cc-2d7d-40f3-9bce-ccb275ec1c3a",
   "metadata": {
    "papermill": {
     "duration": 0.462821,
     "end_time": "2021-08-25T04:30:57.820356",
     "exception": false,
     "start_time": "2021-08-25T04:30:57.357535",
     "status": "completed"
    },
    "tags": []
   },
   "outputs": [
    {
     "data": {
      "image/png": "[encoded data removed]",
      "text/plain": [
       "<Figure size 720x720 with 1 Axes>"
      ]
     },
     "metadata": {
      "needs_background": "light"
     },
     "output_type": "display_data"
    }
   ],
   "source": [
    "fig, ax = plt.subplots(figsize = (10,10))\n",
    "lgb.plot_importance(lightGBM_mod_out, height = 0.8, ax = ax)\n",
    "ax.grid(False)\n",
    "plt.title(\"LightGBM - Feature Importance for gross outflows\", fontsize = 15)\n",
    "plt.savefig(results_dir + 'LightGBM_feature_importance_out.png')"
   ]
  },
  {
   "cell_type": "code",
   "execution_count": 40,
   "id": "48560228-5bca-41ed-8335-fc303a1f029f",
   "metadata": {
    "papermill": {
     "duration": 0.462821,
     "end_time": "2021-08-25T04:30:57.820356",
     "exception": false,
     "start_time": "2021-08-25T04:30:57.357535",
     "status": "completed"
    },
    "tags": []
   },
   "outputs": [
    {
     "data": {
      "image/png": "[encoded data removed]",
      "text/plain": [
       "<Figure size 720x720 with 1 Axes>"
      ]
     },
     "metadata": {
      "needs_background": "light"
     },
     "output_type": "display_data"
    }
   ],
   "source": [
    "fig, ax = plt.subplots(figsize = (10,10))\n",
    "lgb.plot_importance(lightGBM_mod_in, height = 0.8, ax = ax)\n",
    "ax.grid(False)\n",
    "plt.title(\"LightGBM - Feature Importance for gross inflows\", fontsize = 15)\n",
    "plt.savefig(results_dir + 'LightGBM_feature_importance_in.png')"
   ]
  },
  {
   "cell_type": "markdown",
   "id": "50f9b539-e070-4e6f-8941-68faf427afe2",
   "metadata": {},
   "source": [
    "## Random Forests"
   ]
  },
  {
   "cell_type": "code",
   "execution_count": 41,
   "id": "5556592f-f801-45bb-bb1c-67d9f1710024",
   "metadata": {},
   "outputs": [
    {
     "data": {
      "text/plain": [
       "RandomForestRegressor(max_depth=10, random_state=1509)"
      ]
     },
     "execution_count": 41,
     "metadata": {},
     "output_type": "execute_result"
    }
   ],
   "source": [
    "RF_mod_out = RandomForestRegressor(max_depth = 10, random_state = 1509)\n",
    "RF_mod_out.fit(X_train, Y_train_out.values.ravel())"
   ]
  },
  {
   "cell_type": "code",
   "execution_count": 42,
   "id": "3a062aa8-f872-448e-a05e-1e42b88bad23",
   "metadata": {},
   "outputs": [
    {
     "data": {
      "text/plain": [
       "RandomForestRegressor(max_depth=10, random_state=1509)"
      ]
     },
     "execution_count": 42,
     "metadata": {},
     "output_type": "execute_result"
    }
   ],
   "source": [
    "RF_mod_in = RandomForestRegressor(max_depth = 10, random_state = 1509)\n",
    "RF_mod_in.fit(X_train, Y_train_in.values.ravel())"
   ]
  },
  {
   "cell_type": "code",
   "execution_count": 43,
   "id": "bb6d4f7f-b93a-4b24-b691-f5717fb34cea",
   "metadata": {},
   "outputs": [],
   "source": [
    "preds_RF_train_out = RF_mod_out.predict(X_train)\n",
    "preds_RF_test_out = RF_mod_out.predict(X_test)"
   ]
  },
  {
   "cell_type": "code",
   "execution_count": 44,
   "id": "92e9f3f4-c5c8-42f0-86b8-f4332c95e0db",
   "metadata": {},
   "outputs": [],
   "source": [
    "preds_RF_train_in = RF_mod_in.predict(X_train)\n",
    "preds_RF_test_in = RF_mod_in.predict(X_test)"
   ]
  },
  {
   "cell_type": "code",
   "execution_count": 45,
   "id": "52136ead-9ace-4aef-8eaa-b02b19d0e259",
   "metadata": {},
   "outputs": [],
   "source": [
    "feather.write_feather(pd.DataFrame(preds_RF_train_out), results_dir + 'preds.RF.train_out_agg.feather')\n",
    "feather.write_feather(pd.DataFrame(preds_RF_test_out), results_dir + 'preds.RF.test_out_agg.feather')"
   ]
  },
  {
   "cell_type": "code",
   "execution_count": 46,
   "id": "50fcb669-2ee7-4ce8-b4bb-da0c290c2f00",
   "metadata": {},
   "outputs": [],
   "source": [
    "feather.write_feather(pd.DataFrame(preds_RF_train_in), results_dir + 'preds.RF.train_in_agg.feather')\n",
    "feather.write_feather(pd.DataFrame(preds_RF_test_in), results_dir + 'preds.RF.test_in_agg.feather')"
   ]
  },
  {
   "cell_type": "code",
   "execution_count": 47,
   "id": "72d6c5cb-f39c-4ac4-8085-78962f82643a",
   "metadata": {
    "papermill": {
     "duration": 0.295035,
     "end_time": "2021-08-25T04:30:57.344235",
     "exception": false,
     "start_time": "2021-08-25T04:30:57.049200",
     "status": "completed"
    },
    "tags": []
   },
   "outputs": [
    {
     "name": "stdout",
     "output_type": "stream",
     "text": [
      "RMSE of the training set (outflows): 1.308071168840158\n",
      "R^2 of the training set (outflows): 0.8501822142473304\n",
      "RMSE of the test set (outflows): 1.475163031106335\n",
      "R^2 of the test set (outflows): 0.8029329942712846\n"
     ]
    }
   ],
   "source": [
    "print(\"RMSE of the training set (outflows):\", np.sqrt(mean_squared_error(Y_train_out, preds_RF_train_out)))\n",
    "print(\"R^2 of the training set (outflows):\", r2_score(Y_train_out, preds_RF_train_out))\n",
    "print(\"RMSE of the test set (outflows):\", np.sqrt(mean_squared_error(Y_test_out, preds_RF_test_out)))\n",
    "print(\"R^2 of the test set (outflows):\", r2_score(Y_test_out, preds_RF_test_out))"
   ]
  },
  {
   "cell_type": "code",
   "execution_count": 48,
   "id": "f3df0397-98f5-43b2-b6cc-82429c1b7bc5",
   "metadata": {},
   "outputs": [
    {
     "name": "stdout",
     "output_type": "stream",
     "text": [
      "RMSE of the training set (inflows): 1.3444297582806901\n",
      "R^2 of the training set (inflows): 0.8369021149682602\n",
      "RMSE of the test set (inflows): 1.6086537390964604\n",
      "R^2 of the test set (inflows): 0.7618537319022352\n"
     ]
    }
   ],
   "source": [
    "print(\"RMSE of the training set (inflows):\", np.sqrt(mean_squared_error(Y_train_in, preds_RF_train_in)))\n",
    "print(\"R^2 of the training set (inflows):\", r2_score(Y_train_in, preds_RF_train_in))\n",
    "print(\"RMSE of the test set (inflows):\", np.sqrt(mean_squared_error(Y_test_in, preds_RF_test_in)))\n",
    "print(\"R^2 of the test set (inflows):\", r2_score(Y_test_in, preds_RF_test_in))"
   ]
  },
  {
   "cell_type": "code",
   "execution_count": 49,
   "id": "5cf03290-1dc7-44f2-bb87-0484939cf1b2",
   "metadata": {},
   "outputs": [
    {
     "name": "stdout",
     "output_type": "stream",
     "text": [
      "Mean Absolute Error (outflows): 1.0041782202207592\n",
      "Mean Squared Error (outflows): 2.17610596834283\n",
      "Dollar Mean Squared Error (outflows): 16809639.143300068\n"
     ]
    }
   ],
   "source": [
    "print('Mean Absolute Error (outflows):', metrics.mean_absolute_error(Y_test_out, preds_RF_test_out))  \n",
    "print('Mean Squared Error (outflows):', mean_squared_error(Y_test_out, preds_RF_test_out))\n",
    "print('Dollar Mean Squared Error (outflows):', np.mean(np.square(np.exp(Y_test_out.values)/10**3 - np.exp(preds_RF_test_out)/10**3)))"
   ]
  },
  {
   "cell_type": "code",
   "execution_count": 50,
   "id": "e7fed726-f1b5-4b40-9fa5-77b591ce46a6",
   "metadata": {},
   "outputs": [
    {
     "name": "stdout",
     "output_type": "stream",
     "text": [
      "Mean Absolute Error (inflows): 1.1264033934936384\n",
      "Mean Squared Error (inflows): 2.5877668523090227\n",
      "Dollar Mean Squared Error (inflows): 16725134.560078852\n"
     ]
    }
   ],
   "source": [
    "print('Mean Absolute Error (inflows):', metrics.mean_absolute_error(Y_test_in, preds_RF_test_in))  \n",
    "print('Mean Squared Error (inflows):', mean_squared_error(Y_test_in, preds_RF_test_in))\n",
    "print('Dollar Mean Squared Error (inflows):', np.mean(np.square(np.exp(Y_test_in.values)/10**3 - np.exp(preds_RF_test_in)/10**3)))"
   ]
  },
  {
   "cell_type": "markdown",
   "id": "94310759-1589-4b81-8ca1-3a7a4683b892",
   "metadata": {},
   "source": [
    "## Support Vector Machine"
   ]
  },
  {
   "cell_type": "code",
   "execution_count": null,
   "id": "abcfd779-0faa-4276-b78d-a30c2e58c985",
   "metadata": {},
   "outputs": [],
   "source": [
    "SVM_mod = svm.SVR()\n",
    "SVM_mod.fit(X_train, Y_train.values.ravel())"
   ]
  },
  {
   "cell_type": "code",
   "execution_count": null,
   "id": "89d54095-7607-4358-ad0c-3d542d4767ce",
   "metadata": {},
   "outputs": [],
   "source": [
    "preds_SVM_train = SVM_mod.predict(X_train)\n",
    "preds_SVM_test = SVM_mod.predict(X_test)"
   ]
  },
  {
   "cell_type": "code",
   "execution_count": null,
   "id": "842505a8-c615-4f2b-9ca9-ad4cdb6314f4",
   "metadata": {},
   "outputs": [],
   "source": [
    "feather.write_feather(pd.DataFrame(preds_SVM_train), results_dir + 'preds.SVM.train_agg.feather')\n",
    "feather.write_feather(pd.DataFrame(preds_SVM_test), results_dir + 'preds.SVM.test_agg.feather')"
   ]
  },
  {
   "cell_type": "code",
   "execution_count": null,
   "id": "b0d088ee-6350-48ce-aa23-09a95f1cc6f0",
   "metadata": {},
   "outputs": [],
   "source": [
    "print(\"RMSE of the training set:\", np.sqrt(mean_squared_error(Y_train, preds_SVM_train)))\n",
    "print(\"R^2 of the training set:\", r2_score(Y_train, preds_SVM_train))"
   ]
  },
  {
   "cell_type": "code",
   "execution_count": null,
   "id": "043c8b61-fdae-450c-8e76-7fb75c4418ad",
   "metadata": {
    "papermill": {
     "duration": 0.295035,
     "end_time": "2021-08-25T04:30:57.344235",
     "exception": false,
     "start_time": "2021-08-25T04:30:57.049200",
     "status": "completed"
    },
    "tags": []
   },
   "outputs": [],
   "source": [
    "print(\"RMSE of the test set:\", np.sqrt(mean_squared_error(Y_test, preds_SVM_test)))\n",
    "print(\"R^2 of the test set:\", r2_score(Y_test, preds_SVM_test))"
   ]
  },
  {
   "cell_type": "markdown",
   "id": "7a0ef060-aa01-4029-8610-2969bbec8029",
   "metadata": {},
   "source": [
    "## Neural Networks"
   ]
  },
  {
   "cell_type": "code",
   "execution_count": null,
   "id": "1705a77b-05ce-4032-9b91-c999a2948912",
   "metadata": {},
   "outputs": [],
   "source": [
    "Y_train = train_agg_smp[['Tot_IFF_t']]\n",
    "X_train = train_agg_smp[features]\n",
    "Y_test = test_agg_smp[['Tot_IFF_t']]\n",
    "X_test = test_agg_smp[features]"
   ]
  },
  {
   "cell_type": "code",
   "execution_count": null,
   "id": "45e0fecf-42c9-4c58-baaa-f97fd09a375d",
   "metadata": {},
   "outputs": [],
   "source": [
    "std_sc = StandardScaler()\n",
    "NN_train = std_sc.fit_transform(X_train)\n",
    "NN_test = std_sc.transform(X_test)"
   ]
  },
  {
   "cell_type": "code",
   "execution_count": null,
   "id": "0cf14354-ebee-4465-9fa1-09349daebca7",
   "metadata": {
    "tags": []
   },
   "outputs": [],
   "source": [
    "NN_mod = MLPRegressor(hidden_layer_sizes = (10),\n",
    "                      activation = \"logistic\",\n",
    "                      random_state = 1, \n",
    "                      max_iter = 1000).fit(NN_train, Y_train.values.ravel())"
   ]
  },
  {
   "cell_type": "code",
   "execution_count": null,
   "id": "c443a9f0-4ab7-4aca-a993-b4db34307f24",
   "metadata": {},
   "outputs": [],
   "source": [
    "preds_NN_train = NN_mod.predict(NN_train)\n",
    "preds_NN_test = NN_mod.predict(NN_test)"
   ]
  },
  {
   "cell_type": "code",
   "execution_count": null,
   "id": "f15770c9-a899-4efb-9774-681863925c9b",
   "metadata": {},
   "outputs": [],
   "source": [
    "feather.write_feather(pd.DataFrame(preds_NN_train), results_dir + 'preds.NN.train_agg.feather')\n",
    "feather.write_feather(pd.DataFrame(preds_NN_test), results_dir + 'preds.NN.test_agg.feather')"
   ]
  },
  {
   "cell_type": "code",
   "execution_count": null,
   "id": "b69aff8e-ef6b-443f-a661-c09da937fd73",
   "metadata": {},
   "outputs": [],
   "source": [
    "print(\"RMSE of the training set:\", np.sqrt(mean_squared_error(Y_train, preds_NN_train)))\n",
    "print(\"R^2 of the training set:\", r2_score(Y_train, preds_NN_train))"
   ]
  },
  {
   "cell_type": "code",
   "execution_count": null,
   "id": "44dbe499-b30c-4a08-8494-a5412ed598fe",
   "metadata": {
    "papermill": {
     "duration": 0.295035,
     "end_time": "2021-08-25T04:30:57.344235",
     "exception": false,
     "start_time": "2021-08-25T04:30:57.049200",
     "status": "completed"
    },
    "tags": []
   },
   "outputs": [],
   "source": [
    "print(\"RMSE of the test set:\", np.sqrt(mean_squared_error(Y_test, preds_NN_test)))\n",
    "print(\"R^2 of the test set:\", r2_score(Y_test, preds_NN_test))"
   ]
  },
  {
   "cell_type": "markdown",
   "id": "31d23caf-5455-4bfd-9d80-133874c3d4db",
   "metadata": {},
   "source": [
    "### Tuning hyperparameters"
   ]
  },
  {
   "cell_type": "code",
   "execution_count": null,
   "id": "e8c0f93a-8ef5-46f7-9eca-07cbac992d13",
   "metadata": {},
   "outputs": [],
   "source": [
    "NN = MLPRegressor(max_iter = 1000)\n",
    "parameter_space = {\n",
    "    'hidden_layer_sizes': [(10,20)],\n",
    "    'activation': ['logistic', 'relu'],\n",
    "    #'solver': ['sgd', 'adam'],\n",
    "    #'alpha': [0.0001, 0.05],\n",
    "    #'learning_rate': ['constant','adaptive'],\n",
    "}"
   ]
  },
  {
   "cell_type": "code",
   "execution_count": null,
   "id": "261f1028-87c7-4d70-a397-d70da481c9b1",
   "metadata": {},
   "outputs": [],
   "source": [
    "NN_mod_tuned = GridSearchCV(NN, parameter_space, n_jobs = -1, cv = 3)"
   ]
  },
  {
   "cell_type": "code",
   "execution_count": null,
   "id": "e91cceef-36c3-4a63-b137-84ba09be23be",
   "metadata": {},
   "outputs": [],
   "source": [
    "NN_mod_tuned.fit(NN_train, Y_train.values.ravel())"
   ]
  },
  {
   "cell_type": "code",
   "execution_count": null,
   "id": "128630b9-4723-458e-a583-471118068247",
   "metadata": {},
   "outputs": [],
   "source": [
    "print('Best parameters found:\\n', NN_mod_tuned.best_params_)"
   ]
  },
  {
   "cell_type": "code",
   "execution_count": null,
   "id": "5e80f1c2-8194-405c-a7b5-da2eb98b41d0",
   "metadata": {},
   "outputs": [],
   "source": [
    "# All results\n",
    "means = NN_mod_tuned.cv_results_['mean_test_score']\n",
    "stds = NN_mod_tuned.cv_results_['std_test_score']\n",
    "for mean, std, params in zip(means, stds, NN_mod_tuned.cv_results_['params']):\n",
    "    print(\"%0.3f (+/-%0.03f) for %r\" % (mean, std * 2, params))"
   ]
  },
  {
   "cell_type": "code",
   "execution_count": null,
   "id": "c2701d02-8992-44f5-86b9-a29fa3fac1dc",
   "metadata": {},
   "outputs": [],
   "source": [
    "preds_NN_train = NN_mod_tuned.predict(NN_train)\n",
    "preds_NN_test = NN_mod_tuned.predict(NN_test)"
   ]
  },
  {
   "cell_type": "code",
   "execution_count": null,
   "id": "fdbbceb2-71db-4344-9b03-667f8866233c",
   "metadata": {},
   "outputs": [],
   "source": [
    "feather.write_feather(pd.DataFrame(preds_NN_train), results_dir + 'preds.NN.train_agg.feather')\n",
    "feather.write_feather(pd.DataFrame(preds_NN_test), results_dir + 'preds.NN.test_agg.feather')"
   ]
  },
  {
   "cell_type": "code",
   "execution_count": null,
   "id": "363b0f8c-2d6c-4aef-b206-69b59329693c",
   "metadata": {},
   "outputs": [],
   "source": [
    "print(\"RMSE of the training set:\", np.sqrt(mean_squared_error(Y_train, preds_NN_train)))\n",
    "print(\"R^2 of the training set:\", r2_score(Y_train, preds_NN_train))"
   ]
  },
  {
   "cell_type": "code",
   "execution_count": null,
   "id": "7e86c305-607f-4091-8fea-918aab40f80e",
   "metadata": {
    "papermill": {
     "duration": 0.295035,
     "end_time": "2021-08-25T04:30:57.344235",
     "exception": false,
     "start_time": "2021-08-25T04:30:57.049200",
     "status": "completed"
    },
    "tags": []
   },
   "outputs": [],
   "source": [
    "print(\"RMSE of the test set:\", np.sqrt(mean_squared_error(Y_test, preds_NN_test)))\n",
    "print(\"R^2 of the test set:\", r2_score(Y_test, preds_NN_test))"
   ]
  }
 ],
 "metadata": {
  "kernelspec": {
   "display_name": "Python 3 (ipykernel)",
   "language": "python",
   "name": "python3"
  },
  "language_info": {
   "codemirror_mode": {
    "name": "ipython",
    "version": 3
   },
   "file_extension": ".py",
   "mimetype": "text/x-python",
   "name": "python",
   "nbconvert_exporter": "python",
   "pygments_lexer": "ipython3",
   "version": "3.9.6"
  },
  "papermill": {
   "default_parameters": {},
   "duration": 8.293491,
   "end_time": "2021-08-25T04:30:59.376719",
   "environment_variables": {},
   "exception": null,
   "input_path": "Scripts/Predictions.ipynb",
   "output_path": "Scripts/Predictions.ipynb",
   "parameters": {},
   "start_time": "2021-08-25T04:30:51.083228",
   "version": "2.3.3"
  },
  "toc": {
   "base_numbering": 1,
   "nav_menu": {},
   "number_sections": true,
   "sideBar": true,
   "skip_h1_title": true,
   "title_cell": "Table of Contents",
   "title_sidebar": "Contents",
   "toc_cell": false,
   "toc_position": {},
   "toc_section_display": true,
   "toc_window_display": true
  }
 },
 "nbformat": 4,
 "nbformat_minor": 5
}
