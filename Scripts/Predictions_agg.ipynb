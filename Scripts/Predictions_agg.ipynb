{
 "cells": [
  {
   "cell_type": "markdown",
   "id": "0dcbfa94-b9c5-435b-9f89-6f5b4c43be46",
   "metadata": {
    "papermill": {
     "duration": 0.012854,
     "end_time": "2021-08-25T04:30:52.046180",
     "exception": false,
     "start_time": "2021-08-25T04:30:52.033326",
     "status": "completed"
    },
    "tags": []
   },
   "source": [
    "# Predictions"
   ]
  },
  {
   "cell_type": "markdown",
   "id": "99c44811-2186-4277-911a-ff940e34ff01",
   "metadata": {
    "papermill": {
     "duration": 0.012582,
     "end_time": "2021-08-25T04:30:52.072441",
     "exception": false,
     "start_time": "2021-08-25T04:30:52.059859",
     "status": "completed"
    },
    "tags": []
   },
   "source": [
    "## Data wrangling"
   ]
  },
  {
   "cell_type": "code",
   "execution_count": 1,
   "id": "d2f5d343-55f4-43d0-9b14-5d79fc7094ee",
   "metadata": {
    "papermill": {
     "duration": 1.90378,
     "end_time": "2021-08-25T04:30:53.987733",
     "exception": false,
     "start_time": "2021-08-25T04:30:52.083953",
     "status": "completed"
    },
    "tags": []
   },
   "outputs": [],
   "source": [
    "# Preamble\n",
    "import pandas as pd\n",
    "import numpy as np\n",
    "pd.set_option(\"mode.chained_assignment\", None)\n",
    "import random\n",
    "random.seed(1509)\n",
    "import matplotlib.pyplot as plt\n",
    "import lightgbm as lgb\n",
    "import pyarrow.feather as feather\n",
    "from os import chdir, getcwd\n",
    "import statsmodels.api as sm\n",
    "from pprint import pprint\n",
    "from nested_cv import NestedCV\n",
    "\n",
    "# sci-kit\n",
    "from sklearn.linear_model import LinearRegression\n",
    "from sklearn.neural_network import MLPRegressor\n",
    "from sklearn.ensemble import RandomForestRegressor\n",
    "from sklearn import svm\n",
    "from sklearn.preprocessing import StandardScaler\n",
    "from sklearn.model_selection import train_test_split, GridSearchCV, RandomizedSearchCV, cross_val_score, cross_val_predict\n",
    "from sklearn import metrics\n",
    "from sklearn.metrics import r2_score, mean_squared_error, explained_variance_score\n",
    "from sklearn import tree"
   ]
  },
  {
   "cell_type": "code",
   "execution_count": 2,
   "id": "6cbed92b-623c-4293-9927-1ae51e505de2",
   "metadata": {
    "papermill": {
     "duration": 0.019207,
     "end_time": "2021-08-25T04:30:54.023305",
     "exception": false,
     "start_time": "2021-08-25T04:30:54.004098",
     "status": "completed"
    },
    "tags": []
   },
   "outputs": [],
   "source": [
    "data_dir = '/home/jovyan/work/Data/'\n",
    "results_dir = '/home/jovyan/work/Results/'"
   ]
  },
  {
   "cell_type": "code",
   "execution_count": 3,
   "id": "aa5789cf-f1d7-4d3d-a2a3-6568a164c189",
   "metadata": {},
   "outputs": [],
   "source": [
    "# select_features = ['reporter.ISO', 'partner.ISO', 'year',\n",
    "#                    'ln.Tot_IFF_t', 'ln.In_Tot_IFF_t',\n",
    "#                    'ln.gdp_o', 'ln.gdp_d', 'ln.pop_o', 'ln.pop_d', \n",
    "#                    'dist', 'contig', \n",
    "#                    'comlang', 'comcol', 'col45', \n",
    "#                    'ihs.entry_cost_o', 'ihs.entry_cost_d', 'rta',\n",
    "#                    'rCorrCont', 'pCorrCont',\n",
    "#                    'rRegQual', 'pRegQual', \n",
    "#                    'rRuleLaw', 'pRuleLaw',\n",
    "#                    'rSecrecyScore', 'pSecrecyScore',\n",
    "#                    'rFSI.rank', 'pFSI.rank',\n",
    "#                    'rKFSI13', 'pKFSI13',\n",
    "#                    'rKFSI17', 'pKFSI17',\n",
    "#                    'rKFSI20', 'pKFSI20',\n",
    "#                    'rFATF', 'pFATF',\n",
    "#                    'ihs.tariff',\n",
    "#                    'kai_o', 'kai_d', 'kao_o', 'kao_d',\n",
    "#                    'cc_o', 'cc_d', 'cci_o', 'cci_d', 'cco_o', 'cco_d',\n",
    "#                    'di_o', 'di_d', 'dii_o', 'dii_d', 'dio_o', 'dio_d']\n",
    "select_features = ['reporter.ISO', 'partner.ISO', 'year',\n",
    "                   'ln.Tot_IFF_t', 'ln.In_Tot_IFF_t',\n",
    "                   'ln.gdp_o', 'ln.gdp_d', 'ln.pop_o', 'ln.pop_d', \n",
    "                   'dist', 'contig', \n",
    "                   'comlang', 'comcol', 'col45', \n",
    "                   'ihs.entry_cost_o', 'ihs.entry_cost_d', 'rta',\n",
    "                   'rCorrCont', 'pCorrCont',\n",
    "                   'rRegQual', 'pRegQual', \n",
    "                   'rRuleLaw', 'pRuleLaw',\n",
    "                   'pSecrecyScore',\n",
    "                   'pFSI.rank',\n",
    "                   'pKFSI13',\n",
    "                   'pKFSI17',\n",
    "                   'pKFSI20',\n",
    "                   'rFATF', 'pFATF',\n",
    "                   'ihs.tariff',\n",
    "                   'kai_o', 'kai_d', 'kao_o', 'kao_d',\n",
    "                   'cc_o', 'cc_d', 'cci_o', 'cci_d', 'cco_o', 'cco_d',\n",
    "                   'di_o', 'di_d', 'dii_o', 'dii_d', 'dio_o', 'dio_d']\n",
    "\n",
    "features = [       'ln.gdp_o', 'ln.gdp_d', 'ln.pop_o', 'ln.pop_d', \n",
    "                   'dist', 'contig', \n",
    "                   'comlang', 'comcol', 'col45', \n",
    "                   'ihs.entry_cost_o', 'ihs.entry_cost_d', 'rta',\n",
    "                   'rCorrCont', 'pCorrCont',\n",
    "                   'rRegQual', 'pRegQual', \n",
    "                   'rRuleLaw', 'pRuleLaw',\n",
    "                   'pSecrecyScore',\n",
    "                   'pFSI.rank',\n",
    "                   'pKFSI13',\n",
    "                   'pKFSI17',\n",
    "                   'pKFSI20',\n",
    "                   'rFATF', 'pFATF',\n",
    "                   'ihs.tariff',\n",
    "                   'kai_o', 'kai_d', 'kao_o', 'kao_d',\n",
    "                   'cc_o', 'cc_d', 'cci_o', 'cci_d', 'cco_o', 'cco_d',\n",
    "                   'di_o', 'di_d', 'dii_o', 'dii_d', 'dio_o', 'dio_d']\n",
    "\n",
    "ids = [       'reporter.ISO', 'partner.ISO', 'year']"
   ]
  },
  {
   "cell_type": "markdown",
   "id": "a6cbf9da-0af7-4d89-9227-d63c9f5e9b04",
   "metadata": {
    "papermill": {
     "duration": 0.011902,
     "end_time": "2021-08-25T04:30:54.080630",
     "exception": false,
     "start_time": "2021-08-25T04:30:54.068728",
     "status": "completed"
    },
    "tags": []
   },
   "source": [
    "## Subset sample"
   ]
  },
  {
   "cell_type": "code",
   "execution_count": 72,
   "id": "1fde298e-5a63-4156-ab1b-60d602b5ceac",
   "metadata": {},
   "outputs": [],
   "source": [
    "data = feather.read_feather(results_dir + 'Africa.feather')"
   ]
  },
  {
   "cell_type": "code",
   "execution_count": 5,
   "id": "d0c5dcdb-b4bd-41ad-866f-d7c825166f23",
   "metadata": {},
   "outputs": [],
   "source": [
    "def create_smp(data, features):\n",
    "    \"\"\"\n",
    "    Create train and test samples that are complete.\n",
    "    \"\"\"\n",
    "    smp = data[features]\n",
    "    smp.dropna(axis=0, how='any', inplace=True)\n",
    "    return smp"
   ]
  },
  {
   "cell_type": "code",
   "execution_count": 73,
   "id": "b51ac6c8-48d2-4ce6-ae58-53f8c8112d82",
   "metadata": {},
   "outputs": [],
   "source": [
    "data_smp = create_smp(data, select_features)"
   ]
  },
  {
   "cell_type": "code",
   "execution_count": 74,
   "id": "162d5e90-06b2-418b-8e9c-143989679f34",
   "metadata": {},
   "outputs": [],
   "source": [
    "idx = data_smp[ids]\n",
    "X = data_smp[features]\n",
    "Y_out = data_smp[['ln.Tot_IFF_t']]\n",
    "Y_in = data_smp[['ln.In_Tot_IFF_t']]"
   ]
  },
  {
   "cell_type": "code",
   "execution_count": 75,
   "id": "93054b4b-2432-4ebd-844f-6461091406f6",
   "metadata": {},
   "outputs": [],
   "source": [
    "feather.write_feather(idx, results_dir + 'idx.feather')\n",
    "feather.write_feather(X, results_dir + 'X.feather')\n",
    "feather.write_feather(Y_out, results_dir + 'Y_out.feather')\n",
    "feather.write_feather(Y_in, results_dir + 'Y_in.feather')"
   ]
  },
  {
   "cell_type": "code",
   "execution_count": 76,
   "id": "9d6b722e-b6a0-4b4d-a289-d3d20fe65e27",
   "metadata": {},
   "outputs": [
    {
     "name": "stdout",
     "output_type": "stream",
     "text": [
      "X:  (54662, 42)\n",
      "Y_out:  (54662, 1)\n",
      "idx:  (54662, 3)\n"
     ]
    }
   ],
   "source": [
    "print('X: ', X.shape)\n",
    "print('Y_out: ', Y_out.shape)\n",
    "print('idx: ', idx.shape)"
   ]
  },
  {
   "cell_type": "markdown",
   "id": "bde62c3a-2860-47ad-a22e-60356599132c",
   "metadata": {},
   "source": [
    "### Train/test split"
   ]
  },
  {
   "cell_type": "code",
   "execution_count": null,
   "id": "26357f19-1800-4c07-a313-05e753130740",
   "metadata": {},
   "outputs": [],
   "source": [
    "train_agg_smp = create_smp(train_agg, select_features)\n",
    "test_agg_smp = create_smp(test_agg, select_features)"
   ]
  },
  {
   "cell_type": "code",
   "execution_count": null,
   "id": "f5eb095d-a8da-414e-80fa-84e5c43f2e09",
   "metadata": {},
   "outputs": [],
   "source": [
    "feather.write_feather(train_agg_smp, results_dir + 'train_agg_smp.feather')\n",
    "feather.write_feather(test_agg_smp, results_dir + 'test_agg_smp.feather')"
   ]
  },
  {
   "cell_type": "code",
   "execution_count": null,
   "id": "ad700cd4-4ad0-4f2e-b2cc-85cc1fe6da19",
   "metadata": {},
   "outputs": [],
   "source": [
    "Y_train_out = train_agg_smp[['ln.Tot_IFF_t']]\n",
    "Y_train_in = train_agg_smp[['ln.In_Tot_IFF_t']]\n",
    "X_train = train_agg_smp[features]\n",
    "Y_test_out = test_agg_smp[['ln.Tot_IFF_t']]\n",
    "Y_test_in = test_agg_smp[['ln.In_Tot_IFF_t']]\n",
    "X_test = test_agg_smp[features]"
   ]
  },
  {
   "cell_type": "code",
   "execution_count": null,
   "id": "d3ce18a5-c88a-47e6-9a13-31e79574129a",
   "metadata": {},
   "outputs": [],
   "source": [
    "print('X_train: ', X_train.shape, '\\nX_test: ',  X_test.shape)"
   ]
  },
  {
   "cell_type": "markdown",
   "id": "51afba86-15dc-4121-b287-b2858a51389b",
   "metadata": {
    "papermill": {
     "duration": 0.011466,
     "end_time": "2021-08-25T04:30:54.492337",
     "exception": false,
     "start_time": "2021-08-25T04:30:54.480871",
     "status": "completed"
    },
    "tags": []
   },
   "source": [
    "## Linear regression"
   ]
  },
  {
   "cell_type": "markdown",
   "id": "4eb1b8a3-f0ba-471c-b84c-59989f9229fa",
   "metadata": {},
   "source": [
    "### Fit linear regression model"
   ]
  },
  {
   "cell_type": "code",
   "execution_count": 39,
   "id": "139e74e4-3543-459d-9488-33a700c40a2b",
   "metadata": {
    "papermill": {
     "duration": 0.037,
     "end_time": "2021-08-25T04:30:54.540674",
     "exception": false,
     "start_time": "2021-08-25T04:30:54.503674",
     "status": "completed"
    },
    "tags": []
   },
   "outputs": [
    {
     "data": {
      "text/plain": [
       "LinearRegression()"
      ]
     },
     "execution_count": 39,
     "metadata": {},
     "output_type": "execute_result"
    }
   ],
   "source": [
    "linear_mod_out = LinearRegression()  \n",
    "linear_mod_out.fit(X.values, Y_out.values)"
   ]
  },
  {
   "cell_type": "code",
   "execution_count": null,
   "id": "63f20a44-a031-4061-951d-567235db6d1f",
   "metadata": {},
   "outputs": [],
   "source": [
    "linear_mod_in = LinearRegression()  \n",
    "linear_mod_in.fit(X_train.values, Y_train_in.values)"
   ]
  },
  {
   "cell_type": "markdown",
   "id": "9be92a19-73e3-46f6-9807-862cbf86821e",
   "metadata": {},
   "source": [
    "### Print coefficients"
   ]
  },
  {
   "cell_type": "code",
   "execution_count": null,
   "id": "ebd838fc-d161-42c6-bcb2-34265c0044a9",
   "metadata": {
    "papermill": {
     "duration": 0.034715,
     "end_time": "2021-08-25T04:30:54.596530",
     "exception": false,
     "start_time": "2021-08-25T04:30:54.561815",
     "status": "completed"
    },
    "tags": []
   },
   "outputs": [],
   "source": [
    "print(linear_mod_out.intercept_)\n",
    "print(linear_mod_out.coef_)"
   ]
  },
  {
   "cell_type": "code",
   "execution_count": null,
   "id": "51bfb9c6-856f-4c92-85f4-46bb055e788f",
   "metadata": {
    "papermill": {
     "duration": 0.034715,
     "end_time": "2021-08-25T04:30:54.596530",
     "exception": false,
     "start_time": "2021-08-25T04:30:54.561815",
     "status": "completed"
    },
    "tags": []
   },
   "outputs": [],
   "source": [
    "print(linear_mod_in.intercept_)\n",
    "print(linear_mod_in.coef_)"
   ]
  },
  {
   "cell_type": "code",
   "execution_count": null,
   "id": "3238d645-0834-4f5f-a4e9-ec27d7ac58b3",
   "metadata": {
    "papermill": {
     "duration": 0.289043,
     "end_time": "2021-08-25T04:30:54.907396",
     "exception": false,
     "start_time": "2021-08-25T04:30:54.618353",
     "status": "completed"
    },
    "tags": []
   },
   "outputs": [],
   "source": [
    "# Xconst = sm.add_constant(X_train)\n",
    "# est = sm.OLS(Y_train_out, Xconst)\n",
    "# est2 = est.fit()\n",
    "# print(est2.summary())"
   ]
  },
  {
   "cell_type": "code",
   "execution_count": null,
   "id": "548c5979-cb95-4010-97cc-b1352007b938",
   "metadata": {},
   "outputs": [],
   "source": [
    "# Xconst = sm.add_constant(X_train)\n",
    "# est = sm.OLS(Y_train_in, Xconst)\n",
    "# est2 = est.fit()\n",
    "# print(est2.summary())"
   ]
  },
  {
   "cell_type": "markdown",
   "id": "98c093da-59af-4ba3-9410-1a4010a4e64b",
   "metadata": {},
   "source": [
    "### Predictions"
   ]
  },
  {
   "cell_type": "code",
   "execution_count": null,
   "id": "7e6e9b13-5423-42ee-93b4-a26df5e213d9",
   "metadata": {
    "papermill": {
     "duration": 0.035714,
     "end_time": "2021-08-25T04:30:54.966104",
     "exception": false,
     "start_time": "2021-08-25T04:30:54.930390",
     "status": "completed"
    },
    "tags": []
   },
   "outputs": [],
   "source": [
    "preds_LM_train_out = linear_mod_out.predict(X_train)\n",
    "preds_LM_test_out = linear_mod_out.predict(X_test)"
   ]
  },
  {
   "cell_type": "code",
   "execution_count": null,
   "id": "7ebbd45f-3469-4e54-829a-2e0242cf6d1c",
   "metadata": {
    "papermill": {
     "duration": 0.035714,
     "end_time": "2021-08-25T04:30:54.966104",
     "exception": false,
     "start_time": "2021-08-25T04:30:54.930390",
     "status": "completed"
    },
    "tags": []
   },
   "outputs": [],
   "source": [
    "preds_LM_train_in = linear_mod_in.predict(X_train)\n",
    "preds_LM_test_in = linear_mod_in.predict(X_test)"
   ]
  },
  {
   "cell_type": "code",
   "execution_count": null,
   "id": "20c84e50-70f4-4f78-b046-89abca108c02",
   "metadata": {},
   "outputs": [],
   "source": [
    "feather.write_feather(pd.DataFrame(preds_LM_train_out), results_dir + 'preds.LM.train_out_agg.feather')\n",
    "feather.write_feather(pd.DataFrame(preds_LM_test_out), results_dir + 'preds.LM.test_out_agg.feather')"
   ]
  },
  {
   "cell_type": "code",
   "execution_count": null,
   "id": "b8534754-dac6-42c5-af67-351df8ce9bb7",
   "metadata": {},
   "outputs": [],
   "source": [
    "feather.write_feather(pd.DataFrame(preds_LM_train_in), results_dir + 'preds.LM.train_in_agg.feather')\n",
    "feather.write_feather(pd.DataFrame(preds_LM_test_in), results_dir + 'preds.LM.test_in_agg.feather')"
   ]
  },
  {
   "cell_type": "markdown",
   "id": "db258e7b-c5ab-4de3-a250-85978442863f",
   "metadata": {},
   "source": [
    "### Predictive accuracy"
   ]
  },
  {
   "cell_type": "code",
   "execution_count": null,
   "id": "a6e4edc9-1ecf-4572-8e1b-1c0208729f1a",
   "metadata": {
    "papermill": {
     "duration": 0.295035,
     "end_time": "2021-08-25T04:30:57.344235",
     "exception": false,
     "start_time": "2021-08-25T04:30:57.049200",
     "status": "completed"
    },
    "tags": []
   },
   "outputs": [],
   "source": [
    "print(\"RMSE of the training set (outflows):\", np.sqrt(mean_squared_error(Y_train_out, preds_LM_train_out)))\n",
    "print(\"R^2 of the training set (outflows):\", r2_score(Y_train_out, preds_LM_train_out))\n",
    "print(\"RMSE of the test set (outflows):\", np.sqrt(mean_squared_error(Y_test_out, preds_LM_test_out)))\n",
    "print(\"R^2 of the test set (outflows):\", r2_score(Y_test_out, preds_LM_test_out))"
   ]
  },
  {
   "cell_type": "code",
   "execution_count": null,
   "id": "33ded127-d107-4d35-84b4-4efcd318249f",
   "metadata": {
    "papermill": {
     "duration": 0.295035,
     "end_time": "2021-08-25T04:30:57.344235",
     "exception": false,
     "start_time": "2021-08-25T04:30:57.049200",
     "status": "completed"
    },
    "tags": []
   },
   "outputs": [],
   "source": [
    "print(\"RMSE of the training set (inflows):\", np.sqrt(mean_squared_error(Y_train_in, preds_LM_train_in)))\n",
    "print(\"R^2 of the training set (inflows):\", r2_score(Y_train_in, preds_LM_train_in))\n",
    "print(\"RMSE of the test set (inflows):\", np.sqrt(mean_squared_error(Y_test_in, preds_LM_test_in)))\n",
    "print(\"R^2 of the test set (inflows):\", r2_score(Y_test_in, preds_LM_test_in))"
   ]
  },
  {
   "cell_type": "code",
   "execution_count": null,
   "id": "522f38b2",
   "metadata": {
    "scrolled": true
   },
   "outputs": [],
   "source": [
    "print('Mean Absolute Error (outflows):', metrics.mean_absolute_error(Y_test_out, preds_LM_test_out))  \n",
    "print('Mean Squared Error of the training set (outflows):', mean_squared_error(Y_train_out, preds_LM_train_out))\n",
    "print('Mean Squared Error of the test set (outflows):', mean_squared_error(Y_test_out, preds_LM_test_out))\n",
    "print('Dollar RMSE of the training set (outflows):', np.mean(np.square((np.exp(Y_train_out.values)*10**3 - np.exp(preds_LM_train_out)*10**3))) / 10**9)\n",
    "print('Dollar RMSE of the test set (outflows):', np.mean(np.square((np.exp(Y_test_out.values)*10**3 - np.exp(preds_LM_test_out)*10**3))) / 10**6)"
   ]
  },
  {
   "cell_type": "code",
   "execution_count": null,
   "id": "6fd4b8c0-8d5f-49c9-a511-a70be10269b2",
   "metadata": {
    "papermill": {
     "duration": 0.040683,
     "end_time": "2021-08-25T04:30:55.028165",
     "exception": false,
     "start_time": "2021-08-25T04:30:54.987482",
     "status": "completed"
    },
    "scrolled": true,
    "tags": []
   },
   "outputs": [],
   "source": [
    "print('Mean Absolute Error (inflows):', metrics.mean_absolute_error(Y_test_in, preds_LM_test_in))\n",
    "print('Mean Squared Error of the training set (inflows):', mean_squared_error(Y_train_in, preds_LM_train_in))\n",
    "print('Mean Squared Error of the test set (inflows):', mean_squared_error(Y_test_in, preds_LM_test_in))\n",
    "print('Dollar RMSE of the test set (inflows):', np.mean(np.square((np.exp(Y_train_in.values)*10**3 - np.exp(preds_LM_train_in)*10**3))) / 10**9)\n",
    "print('Dollar RMSE of the test set (inflows):', np.mean(np.square((np.exp(Y_test_in.values)*10**3 - np.exp(preds_LM_test_in)*10**3))) / 10**9)"
   ]
  },
  {
   "cell_type": "markdown",
   "id": "a983d1d2-8400-45bc-8583-37d2d1d307c3",
   "metadata": {},
   "source": [
    "### Cross-validation"
   ]
  },
  {
   "cell_type": "code",
   "execution_count": null,
   "id": "a47e7909-b39e-4cee-a69d-d17da20bd061",
   "metadata": {},
   "outputs": [],
   "source": [
    "linear_mod_out = LinearRegression()  \n",
    "linear_mod_out.fit(X.values, Y_out.values)"
   ]
  },
  {
   "cell_type": "code",
   "execution_count": 45,
   "id": "76505e33-b321-4a34-83b9-90b11c54f109",
   "metadata": {},
   "outputs": [
    {
     "name": "stdout",
     "output_type": "stream",
     "text": [
      "Cross-validated scores: [ 0.45186556  0.4127257   0.52329192  0.55024428  0.51445511  0.51008895\n",
      "  0.41924502  0.50052528  0.48595955 -0.0046091 ]\n"
     ]
    }
   ],
   "source": [
    "scores = cross_val_score(linear_mod_out, X, Y_out.values.ravel(), cv = 10)\n",
    "print('Cross-validated scores:', scores)"
   ]
  },
  {
   "cell_type": "code",
   "execution_count": 46,
   "id": "e197eb4c-914c-476e-8472-24614a648f51",
   "metadata": {},
   "outputs": [
    {
     "data": {
      "text/plain": [
       "0.43637922845408933"
      ]
     },
     "execution_count": 46,
     "metadata": {},
     "output_type": "execute_result"
    }
   ],
   "source": [
    "scores.mean()"
   ]
  },
  {
   "cell_type": "code",
   "execution_count": null,
   "id": "98c4a2b3-c4d7-4c30-af9e-8f3240712fe1",
   "metadata": {},
   "outputs": [],
   "source": [
    "predictions = cross_val_predict(linear_mod_out, X, Y_out.values.ravel(), cv = 6)\n",
    "r2_score(Y_out, predictions)"
   ]
  },
  {
   "cell_type": "code",
   "execution_count": null,
   "id": "b8c9f50e-ab62-4f5b-b375-dd65e7d8b3f5",
   "metadata": {},
   "outputs": [],
   "source": [
    "feather.write_feather(pd.DataFrame(predictions), results_dir + 'preds.LM.CV_out.feather')"
   ]
  },
  {
   "cell_type": "markdown",
   "id": "50f9b539-e070-4e6f-8941-68faf427afe2",
   "metadata": {},
   "source": [
    "## Random Forests"
   ]
  },
  {
   "cell_type": "markdown",
   "id": "fd4e11ca-bfbd-47a9-8c85-3e8236bdcd42",
   "metadata": {},
   "source": [
    "### Fit baseline random forests regression"
   ]
  },
  {
   "cell_type": "code",
   "execution_count": 10,
   "id": "5556592f-f801-45bb-bb1c-67d9f1710024",
   "metadata": {},
   "outputs": [],
   "source": [
    "RF_0_mod_out = RandomForestRegressor(random_state = 1509)\n",
    "RF_0_mod_out.fit(X, Y_out.values.ravel())"
   ]
  },
  {
   "cell_type": "code",
   "execution_count": 11,
   "id": "3a062aa8-f872-448e-a05e-1e42b88bad23",
   "metadata": {},
   "outputs": [],
   "source": [
    "RF_0_mod_in = RandomForestRegressor(random_state = 1509)\n",
    "RF_0_mod_in.fit(X, Y_in.values.ravel())"
   ]
  },
  {
   "cell_type": "markdown",
   "id": "c3e699c3-a01d-452c-886b-74fd31084b5b",
   "metadata": {},
   "source": [
    "### Tune hyperparameters with randomized search"
   ]
  },
  {
   "cell_type": "code",
   "execution_count": 12,
   "id": "75fd3b0f-71a0-4e56-9459-5c4a5fa0a00b",
   "metadata": {
    "tags": []
   },
   "outputs": [],
   "source": [
    "# Number of trees in random forest\n",
    "n_estimators = [int(x) for x in np.linspace(start = 10, stop = 3000, num = 100)]\n",
    "\n",
    "# Maximum number of levels in tree\n",
    "max_depth = [int(x) for x in np.linspace(5, 500, num = 100)]\n",
    "max_depth.append(None)\n",
    "\n",
    "# Minimum number of samples required to split a node\n",
    "min_samples_split = [int(x) for x in np.linspace(2, 50, num = 10)]\n",
    "\n",
    "# Minimum number of samples required at each leaf node\n",
    "min_samples_leaf = [int(x) for x in np.linspace(1, 100, num = 10)]\n",
    "\n",
    "# Number of features to consider at every split\n",
    "max_features = ['auto', 'sqrt']\n",
    "\n",
    "# Method of selecting samples for training each tree\n",
    "bootstrap = [True, False]\n",
    "\n",
    "# Create the random grid\n",
    "random_grid = {'n_estimators': n_estimators,\n",
    "               'max_depth': max_depth,\n",
    "               'min_samples_split': min_samples_split,\n",
    "               'min_samples_leaf': min_samples_leaf,\n",
    "               'max_features': max_features,\n",
    "               'bootstrap': bootstrap}\n",
    "print(random_grid)"
   ]
  },
  {
   "cell_type": "code",
   "execution_count": 13,
   "id": "72dd44d9-cb2b-4fa9-9435-55f9acfdea45",
   "metadata": {},
   "outputs": [],
   "source": [
    "# Create the base model to tune\n",
    "RF_0_mod_out = RandomForestRegressor(random_state = 1509)\n",
    "\n",
    "# Random search of parameters on base model using 3 fold cross validation \n",
    "# Search across 100 different combinations, and use all available cores\n",
    "RF_random_out = RandomizedSearchCV(random_state = 1509,\n",
    "                                   estimator = RF_0_mod_out, \n",
    "                                   param_distributions = random_grid,\n",
    "                                   scoring = 'r2',\n",
    "                                   n_iter = 100, cv = 3, \n",
    "                                   verbose = 3, n_jobs = -1)"
   ]
  },
  {
   "cell_type": "code",
   "execution_count": 14,
   "id": "97404f67-5f9c-4de9-95d6-9b81fe45ec33",
   "metadata": {},
   "outputs": [],
   "source": [
    "# Fit the random search model\n",
    "RF_random_out.fit(X, Y_out.values.ravel())"
   ]
  },
  {
   "cell_type": "code",
   "execution_count": 24,
   "id": "ebe23e9d-578f-4645-a5d8-599d6de0509c",
   "metadata": {
    "tags": []
   },
   "outputs": [
    {
     "name": "stdout",
     "output_type": "stream",
     "text": [
      "Best Score: 0.42809867095426846\n"
     ]
    }
   ],
   "source": [
    "print('Best Score: %s' % RF_random_out.best_score_)"
   ]
  },
  {
   "cell_type": "code",
   "execution_count": 26,
   "id": "ccc92a18-8821-4751-8194-7ff67c1397a0",
   "metadata": {
    "tags": []
   },
   "outputs": [
    {
     "data": {
      "text/plain": [
       "{'n_estimators': 1278,\n",
       " 'min_samples_split': 23,\n",
       " 'min_samples_leaf': 23,\n",
       " 'max_features': 'auto',\n",
       " 'max_depth': 125,\n",
       " 'bootstrap': True}"
      ]
     },
     "execution_count": 26,
     "metadata": {},
     "output_type": "execute_result"
    }
   ],
   "source": [
    "RF_random_out.best_params_"
   ]
  },
  {
   "cell_type": "code",
   "execution_count": null,
   "id": "2ff56bff-db89-4689-90cf-e300757259c7",
   "metadata": {},
   "outputs": [],
   "source": [
    "RF_random_out.cv_results_"
   ]
  },
  {
   "cell_type": "code",
   "execution_count": 32,
   "id": "fdc578a8-eea9-43f8-b668-95b697cf8155",
   "metadata": {},
   "outputs": [
    {
     "data": {
      "text/plain": [
       "0.42809867095426846"
      ]
     },
     "execution_count": 32,
     "metadata": {},
     "output_type": "execute_result"
    }
   ],
   "source": [
    "RF_random_out.best_score_"
   ]
  },
  {
   "cell_type": "code",
   "execution_count": 59,
   "id": "f2934fd9-73e8-4613-8664-e50867afa528",
   "metadata": {},
   "outputs": [
    {
     "name": "stdout",
     "output_type": "stream",
     "text": [
      "0.6225641819292647\n"
     ]
    }
   ],
   "source": [
    "best_random = RF_random_out.best_estimator_\n",
    "print(best_random.score(X, Y_out))"
   ]
  },
  {
   "cell_type": "code",
   "execution_count": 33,
   "id": "13128b77-8164-4929-8a77-a79fc08cc533",
   "metadata": {},
   "outputs": [
    {
     "data": {
      "text/plain": [
       "0.7514533672429826"
      ]
     },
     "execution_count": 33,
     "metadata": {},
     "output_type": "execute_result"
    }
   ],
   "source": [
    "best_random"
   ]
  },
  {
   "cell_type": "code",
   "execution_count": 60,
   "id": "cc2c43ba-f726-4656-b8b5-bb2919a98057",
   "metadata": {},
   "outputs": [
    {
     "data": {
      "text/plain": [
       "array([ 0.17849742, -0.12171697,  0.22869577])"
      ]
     },
     "execution_count": 60,
     "metadata": {},
     "output_type": "execute_result"
    }
   ],
   "source": [
    "cross_val_score(RF_random_out.best_estimator_, X, Y_out.values.ravel(), cv = 3)"
   ]
  },
  {
   "cell_type": "code",
   "execution_count": 30,
   "id": "e662429d-2d34-4e34-9418-7daa6bd4a0b8",
   "metadata": {},
   "outputs": [
    {
     "data": {
      "text/plain": [
       "0.7514533672429826"
      ]
     },
     "execution_count": 30,
     "metadata": {},
     "output_type": "execute_result"
    }
   ],
   "source": [
    "best_random.score(X, Y_out)"
   ]
  },
  {
   "cell_type": "code",
   "execution_count": 20,
   "id": "83b92334-2e34-4255-aa69-fd4ec9c3b645",
   "metadata": {},
   "outputs": [
    {
     "name": "stdout",
     "output_type": "stream",
     "text": [
      "Cross-validated scores: [0.47272326 0.48149061 0.33351371 0.43778015 0.52023699 0.24338979]\n"
     ]
    }
   ],
   "source": [
    "scores = cross_val_score(best_random, X, Y_out.values.ravel(), cv = 6)\n",
    "print('Cross-validated scores:', scores)"
   ]
  },
  {
   "cell_type": "code",
   "execution_count": 21,
   "id": "3c73dee5-16c1-4dd0-a67f-772a9d23e50d",
   "metadata": {},
   "outputs": [
    {
     "data": {
      "text/plain": [
       "0.41485575057312524"
      ]
     },
     "execution_count": 21,
     "metadata": {},
     "output_type": "execute_result"
    }
   ],
   "source": [
    "scores.mean()"
   ]
  },
  {
   "cell_type": "code",
   "execution_count": 22,
   "id": "ebf77d28-8983-4237-b2c4-9dc2048c662c",
   "metadata": {},
   "outputs": [
    {
     "data": {
      "text/plain": [
       "0.494455408385449"
      ]
     },
     "execution_count": 22,
     "metadata": {},
     "output_type": "execute_result"
    }
   ],
   "source": [
    "predictions = cross_val_predict(best_random, X, Y_out.values.ravel(), cv = 6)\n",
    "r2_score(Y_out, predictions)"
   ]
  },
  {
   "cell_type": "code",
   "execution_count": null,
   "id": "01608c99-11a7-4f92-9c01-89aa898e7b11",
   "metadata": {},
   "outputs": [],
   "source": [
    "feather.write_feather(pd.DataFrame(predictions), results_dir + 'preds.RF.CV_out.feather')"
   ]
  },
  {
   "cell_type": "markdown",
   "id": "008a7b43-7574-4965-a618-9994652679e9",
   "metadata": {},
   "source": [
    "### Tune hyperparameters with grid search"
   ]
  },
  {
   "cell_type": "code",
   "execution_count": 47,
   "id": "b085dd6c-1716-4dae-b3b9-8988e73756c6",
   "metadata": {},
   "outputs": [],
   "source": [
    "# Create the base model to tune (with some parameters from random search)\n",
    "RF_base_mod_out  = RandomForestRegressor(random_state = 1509,\n",
    "                                         max_features = 'auto',\n",
    "                                         bootstrap = True)\n",
    "\n",
    "# Create the parameter grid based on the results of random search \n",
    "param_grid = {\n",
    "    'n_estimators': [500, 2500],\n",
    "    'max_depth': [10, 300],\n",
    "    'min_samples_split': [8, 80],\n",
    "    'min_samples_leaf': [8, 80],\n",
    "}\n",
    "\n",
    "# Grid search of parameters on base model using 3 fold cross validation \n",
    "# Search all possible cominations, and use all available cores\n",
    "RF_grid_out = GridSearchCV(estimator = RF_base_mod_out, \n",
    "                           param_grid = param_grid,\n",
    "                           scoring = 'r2',\n",
    "                           verbose = 3, n_jobs = -1)"
   ]
  },
  {
   "cell_type": "code",
   "execution_count": 48,
   "id": "54639df1-5ddf-4a34-9003-2374d3a0a829",
   "metadata": {},
   "outputs": [
    {
     "name": "stdout",
     "output_type": "stream",
     "text": [
      "Fitting 5 folds for each of 16 candidates, totalling 80 fits\n"
     ]
    },
    {
     "data": {
      "text/plain": [
       "GridSearchCV(estimator=RandomForestRegressor(random_state=1509), n_jobs=-1,\n",
       "             param_grid={'max_depth': [10, 300], 'min_samples_leaf': [8, 80],\n",
       "                         'min_samples_split': [8, 80],\n",
       "                         'n_estimators': [500, 2500]},\n",
       "             scoring='r2', verbose=3)"
      ]
     },
     "execution_count": 48,
     "metadata": {},
     "output_type": "execute_result"
    },
    {
     "name": "stdout",
     "output_type": "stream",
     "text": [
      "[CV 2/5] END max_depth=10, min_samples_leaf=8, min_samples_split=8, n_estimators=500;, score=0.296 total time=  40.2s\n",
      "[CV 4/5] END max_depth=10, min_samples_leaf=8, min_samples_split=8, n_estimators=500;, score=0.381 total time=  39.9s\n",
      "[CV 1/5] END max_depth=10, min_samples_leaf=8, min_samples_split=8, n_estimators=2500;, score=0.481 total time= 3.3min\n",
      "[CV 3/5] END max_depth=10, min_samples_leaf=8, min_samples_split=8, n_estimators=2500;, score=0.552 total time= 3.3min\n",
      "[CV 5/5] END max_depth=10, min_samples_leaf=8, min_samples_split=8, n_estimators=2500;, score=0.448 total time= 3.3min\n",
      "[CV 1/5] END max_depth=10, min_samples_leaf=8, min_samples_split=80, n_estimators=2500;, score=0.490 total time= 2.8min\n",
      "[CV 3/5] END max_depth=10, min_samples_leaf=8, min_samples_split=80, n_estimators=2500;, score=0.543 total time= 2.8min\n",
      "[CV 5/5] END max_depth=10, min_samples_leaf=8, min_samples_split=80, n_estimators=2500;, score=0.417 total time= 2.8min\n",
      "[CV 2/5] END max_depth=10, min_samples_leaf=80, min_samples_split=8, n_estimators=2500;, score=0.353 total time= 2.2min\n",
      "[CV 4/5] END max_depth=10, min_samples_leaf=80, min_samples_split=8, n_estimators=2500;, score=0.350 total time= 2.2min\n",
      "[CV 1/5] END max_depth=10, min_samples_leaf=80, min_samples_split=80, n_estimators=500;, score=0.459 total time=  26.2s\n",
      "[CV 2/5] END max_depth=10, min_samples_leaf=80, min_samples_split=80, n_estimators=500;, score=0.353 total time=  25.9s\n",
      "[CV 3/5] END max_depth=10, min_samples_leaf=80, min_samples_split=80, n_estimators=500;, score=0.515 total time=  26.8s\n",
      "[CV 4/5] END max_depth=10, min_samples_leaf=80, min_samples_split=80, n_estimators=500;, score=0.351 total time=  26.7s\n",
      "[CV 5/5] END max_depth=10, min_samples_leaf=80, min_samples_split=80, n_estimators=500;, score=0.319 total time=  25.6s\n",
      "[CV 2/5] END max_depth=10, min_samples_leaf=80, min_samples_split=80, n_estimators=2500;, score=0.353 total time= 2.2min\n",
      "[CV 4/5] END max_depth=10, min_samples_leaf=80, min_samples_split=80, n_estimators=2500;, score=0.350 total time= 2.2min\n",
      "[CV 1/5] END max_depth=300, min_samples_leaf=8, min_samples_split=8, n_estimators=500;, score=0.479 total time=  44.8s\n",
      "[CV 2/5] END max_depth=300, min_samples_leaf=8, min_samples_split=8, n_estimators=500;, score=0.293 total time=  45.0s\n",
      "[CV 3/5] END max_depth=300, min_samples_leaf=8, min_samples_split=8, n_estimators=500;, score=0.555 total time=  44.4s\n",
      "[CV 5/5] END max_depth=300, min_samples_leaf=8, min_samples_split=8, n_estimators=500;, score=0.463 total time=  44.5s\n",
      "[CV 2/5] END max_depth=300, min_samples_leaf=8, min_samples_split=8, n_estimators=2500;, score=0.299 total time= 3.9min\n",
      "[CV 4/5] END max_depth=300, min_samples_leaf=8, min_samples_split=8, n_estimators=2500;, score=0.379 total time= 3.7min\n",
      "[CV 1/5] END max_depth=300, min_samples_leaf=8, min_samples_split=80, n_estimators=500;, score=0.492 total time=  35.3s\n",
      "[CV 2/5] END max_depth=300, min_samples_leaf=8, min_samples_split=80, n_estimators=500;, score=0.345 total time=  35.5s\n",
      "[CV 3/5] END max_depth=300, min_samples_leaf=8, min_samples_split=80, n_estimators=500;, score=0.545 total time=  41.8s\n",
      "[CV 4/5] END max_depth=300, min_samples_leaf=8, min_samples_split=80, n_estimators=500;, score=0.387 total time=  35.2s\n",
      "[CV 5/5] END max_depth=300, min_samples_leaf=8, min_samples_split=80, n_estimators=500;, score=0.422 total time=  37.1s\n",
      "[CV 1/5] END max_depth=300, min_samples_leaf=8, min_samples_split=80, n_estimators=2500;, score=0.492 total time= 2.9min\n",
      "[CV 3/5] END max_depth=300, min_samples_leaf=8, min_samples_split=80, n_estimators=2500;, score=0.545 total time= 2.9min\n",
      "[CV 5/5] END max_depth=300, min_samples_leaf=8, min_samples_split=80, n_estimators=2500;, score=0.422 total time= 2.9min\n",
      "[CV 2/5] END max_depth=300, min_samples_leaf=80, min_samples_split=8, n_estimators=2500;, score=0.353 total time= 2.2min\n",
      "[CV 4/5] END max_depth=300, min_samples_leaf=80, min_samples_split=8, n_estimators=2500;, score=0.350 total time= 2.2min\n",
      "[CV 1/5] END max_depth=300, min_samples_leaf=80, min_samples_split=80, n_estimators=500;, score=0.459 total time=  26.1s\n",
      "[CV 2/5] END max_depth=300, min_samples_leaf=80, min_samples_split=80, n_estimators=500;, score=0.353 total time=  25.9s\n",
      "[CV 3/5] END max_depth=300, min_samples_leaf=80, min_samples_split=80, n_estimators=500;, score=0.515 total time=  26.2s\n",
      "[CV 4/5] END max_depth=300, min_samples_leaf=80, min_samples_split=80, n_estimators=500;, score=0.351 total time=  26.3s\n",
      "[CV 5/5] END max_depth=300, min_samples_leaf=80, min_samples_split=80, n_estimators=500;, score=0.319 total time=  26.6s\n",
      "[CV 2/5] END max_depth=300, min_samples_leaf=80, min_samples_split=80, n_estimators=2500;, score=0.353 total time= 2.2min\n",
      "[CV 4/5] END max_depth=300, min_samples_leaf=80, min_samples_split=80, n_estimators=2500;, score=0.350 total time= 2.2min\n",
      "[CV 1/5] END max_depth=10, min_samples_leaf=8, min_samples_split=8, n_estimators=500;, score=0.482 total time=  39.7s\n",
      "[CV 3/5] END max_depth=10, min_samples_leaf=8, min_samples_split=8, n_estimators=500;, score=0.552 total time=  40.0s\n",
      "[CV 5/5] END max_depth=10, min_samples_leaf=8, min_samples_split=8, n_estimators=500;, score=0.448 total time=  39.5s\n",
      "[CV 2/5] END max_depth=10, min_samples_leaf=8, min_samples_split=8, n_estimators=2500;, score=0.301 total time= 3.3min\n",
      "[CV 4/5] END max_depth=10, min_samples_leaf=8, min_samples_split=8, n_estimators=2500;, score=0.380 total time= 3.3min\n",
      "[CV 1/5] END max_depth=10, min_samples_leaf=8, min_samples_split=80, n_estimators=500;, score=0.490 total time=  33.8s\n",
      "[CV 2/5] END max_depth=10, min_samples_leaf=8, min_samples_split=80, n_estimators=500;, score=0.344 total time=  36.0s\n",
      "[CV 3/5] END max_depth=10, min_samples_leaf=8, min_samples_split=80, n_estimators=500;, score=0.543 total time=  33.8s\n",
      "[CV 4/5] END max_depth=10, min_samples_leaf=8, min_samples_split=80, n_estimators=500;, score=0.387 total time=  34.0s\n",
      "[CV 5/5] END max_depth=10, min_samples_leaf=8, min_samples_split=80, n_estimators=500;, score=0.416 total time=  33.5s\n",
      "[CV 2/5] END max_depth=10, min_samples_leaf=8, min_samples_split=80, n_estimators=2500;, score=0.347 total time= 2.8min\n",
      "[CV 4/5] END max_depth=10, min_samples_leaf=8, min_samples_split=80, n_estimators=2500;, score=0.384 total time= 2.8min\n",
      "[CV 1/5] END max_depth=10, min_samples_leaf=80, min_samples_split=8, n_estimators=500;, score=0.459 total time=  26.2s\n",
      "[CV 2/5] END max_depth=10, min_samples_leaf=80, min_samples_split=8, n_estimators=500;, score=0.353 total time=  26.1s\n",
      "[CV 3/5] END max_depth=10, min_samples_leaf=80, min_samples_split=8, n_estimators=500;, score=0.515 total time=  25.9s\n",
      "[CV 4/5] END max_depth=10, min_samples_leaf=80, min_samples_split=8, n_estimators=500;, score=0.351 total time=  26.2s\n",
      "[CV 5/5] END max_depth=10, min_samples_leaf=80, min_samples_split=8, n_estimators=500;, score=0.319 total time=  25.8s\n",
      "[CV 1/5] END max_depth=10, min_samples_leaf=80, min_samples_split=8, n_estimators=2500;, score=0.459 total time= 2.2min\n",
      "[CV 3/5] END max_depth=10, min_samples_leaf=80, min_samples_split=8, n_estimators=2500;, score=0.515 total time= 2.2min\n",
      "[CV 5/5] END max_depth=10, min_samples_leaf=80, min_samples_split=8, n_estimators=2500;, score=0.319 total time= 2.2min\n",
      "[CV 1/5] END max_depth=10, min_samples_leaf=80, min_samples_split=80, n_estimators=2500;, score=0.459 total time= 2.2min\n",
      "[CV 3/5] END max_depth=10, min_samples_leaf=80, min_samples_split=80, n_estimators=2500;, score=0.515 total time= 2.2min\n",
      "[CV 5/5] END max_depth=10, min_samples_leaf=80, min_samples_split=80, n_estimators=2500;, score=0.319 total time= 2.1min\n",
      "[CV 4/5] END max_depth=300, min_samples_leaf=8, min_samples_split=8, n_estimators=500;, score=0.380 total time=  45.4s\n",
      "[CV 1/5] END max_depth=300, min_samples_leaf=8, min_samples_split=8, n_estimators=2500;, score=0.478 total time= 3.8min\n",
      "[CV 3/5] END max_depth=300, min_samples_leaf=8, min_samples_split=8, n_estimators=2500;, score=0.556 total time= 3.8min\n",
      "[CV 5/5] END max_depth=300, min_samples_leaf=8, min_samples_split=8, n_estimators=2500;, score=0.463 total time= 3.8min\n",
      "[CV 2/5] END max_depth=300, min_samples_leaf=8, min_samples_split=80, n_estimators=2500;, score=0.349 total time= 3.0min\n",
      "[CV 4/5] END max_depth=300, min_samples_leaf=8, min_samples_split=80, n_estimators=2500;, score=0.385 total time= 2.9min\n",
      "[CV 1/5] END max_depth=300, min_samples_leaf=80, min_samples_split=8, n_estimators=500;, score=0.459 total time=  26.2s\n",
      "[CV 2/5] END max_depth=300, min_samples_leaf=80, min_samples_split=8, n_estimators=500;, score=0.353 total time=  25.9s\n",
      "[CV 3/5] END max_depth=300, min_samples_leaf=80, min_samples_split=8, n_estimators=500;, score=0.515 total time=  25.9s\n",
      "[CV 4/5] END max_depth=300, min_samples_leaf=80, min_samples_split=8, n_estimators=500;, score=0.351 total time=  26.2s\n",
      "[CV 5/5] END max_depth=300, min_samples_leaf=80, min_samples_split=8, n_estimators=500;, score=0.319 total time=  25.8s\n",
      "[CV 1/5] END max_depth=300, min_samples_leaf=80, min_samples_split=8, n_estimators=2500;, score=0.459 total time= 2.2min\n",
      "[CV 3/5] END max_depth=300, min_samples_leaf=80, min_samples_split=8, n_estimators=2500;, score=0.515 total time= 2.2min\n",
      "[CV 5/5] END max_depth=300, min_samples_leaf=80, min_samples_split=8, n_estimators=2500;, score=0.319 total time= 2.2min\n",
      "[CV 1/5] END max_depth=300, min_samples_leaf=80, min_samples_split=80, n_estimators=2500;, score=0.459 total time= 2.2min\n",
      "[CV 3/5] END max_depth=300, min_samples_leaf=80, min_samples_split=80, n_estimators=2500;, score=0.515 total time= 2.2min\n",
      "[CV 5/5] END max_depth=300, min_samples_leaf=80, min_samples_split=80, n_estimators=2500;, score=0.319 total time= 1.6min\n"
     ]
    }
   ],
   "source": [
    "# Fit the grid search model\n",
    "RF_grid_out.fit(X, Y_out.values.ravel())"
   ]
  },
  {
   "cell_type": "code",
   "execution_count": 49,
   "id": "274c6405-4e0a-466d-8c9b-17c517ba3f02",
   "metadata": {},
   "outputs": [
    {
     "name": "stdout",
     "output_type": "stream",
     "text": [
      "Best Score: 0.4384566873340452\n"
     ]
    }
   ],
   "source": [
    "print('Best Score: %s' % RF_grid_out.best_score_)"
   ]
  },
  {
   "cell_type": "code",
   "execution_count": 50,
   "id": "3adb22e9-46fb-4622-ba35-11f2cc19a760",
   "metadata": {},
   "outputs": [
    {
     "data": {
      "text/plain": [
       "{'max_depth': 300,\n",
       " 'min_samples_leaf': 8,\n",
       " 'min_samples_split': 80,\n",
       " 'n_estimators': 2500}"
      ]
     },
     "execution_count": 50,
     "metadata": {},
     "output_type": "execute_result"
    }
   ],
   "source": [
    "RF_grid_out.best_params_"
   ]
  },
  {
   "cell_type": "code",
   "execution_count": 65,
   "id": "e15613d1-2d2c-415a-9942-0dd6ee1a74d5",
   "metadata": {},
   "outputs": [
    {
     "name": "stdout",
     "output_type": "stream",
     "text": [
      "0.6113986943864123\n"
     ]
    }
   ],
   "source": [
    "best_grid = RF_grid_out.best_estimator_\n",
    "print(best_grid.score(X, Y_out))"
   ]
  },
  {
   "cell_type": "code",
   "execution_count": 66,
   "id": "2588905f-f9ed-4d24-9efe-246e60c5428b",
   "metadata": {},
   "outputs": [
    {
     "data": {
      "text/plain": [
       "RandomForestRegressor(max_depth=300, min_samples_leaf=8, min_samples_split=80,\n",
       "                      n_estimators=2500, random_state=1509)"
      ]
     },
     "execution_count": 66,
     "metadata": {},
     "output_type": "execute_result"
    }
   ],
   "source": [
    "best_grid.fit(X, Y_out.values.ravel())"
   ]
  },
  {
   "cell_type": "code",
   "execution_count": 67,
   "id": "74dc8772-9af3-436c-a4ab-38c0d744a933",
   "metadata": {},
   "outputs": [
    {
     "data": {
      "text/plain": [
       "0.7057793564482469"
      ]
     },
     "execution_count": 67,
     "metadata": {},
     "output_type": "execute_result"
    }
   ],
   "source": [
    "preds_RF_out = best_grid.predict(X)\n",
    "r2_score(Y_out, preds_RF_out)"
   ]
  },
  {
   "cell_type": "code",
   "execution_count": 52,
   "id": "c4d763c4-d087-474c-989b-1d33bfe4a2f8",
   "metadata": {},
   "outputs": [
    {
     "name": "stdout",
     "output_type": "stream",
     "text": [
      "Cross-validated scores: [0.37440636 0.3426772  0.48558579]\n"
     ]
    }
   ],
   "source": [
    "scores = cross_val_score(best_grid, X, Y_out.values.ravel(), cv = 3)\n",
    "print('Cross-validated scores:', scores)"
   ]
  },
  {
   "cell_type": "code",
   "execution_count": 53,
   "id": "73787aca-c8c7-4d70-b294-53c2fc889ba0",
   "metadata": {},
   "outputs": [
    {
     "data": {
      "text/plain": [
       "0.4008897832777349"
      ]
     },
     "execution_count": 53,
     "metadata": {},
     "output_type": "execute_result"
    }
   ],
   "source": [
    "scores.mean()"
   ]
  },
  {
   "cell_type": "markdown",
   "id": "65a36a0b-f65f-4e08-bf3e-2e4c9e5fe435",
   "metadata": {},
   "source": [
    "### Manually configure hyperparameters"
   ]
  },
  {
   "cell_type": "code",
   "execution_count": 77,
   "id": "9843a3aa-a239-400d-94a6-1e304cb73c6d",
   "metadata": {},
   "outputs": [],
   "source": [
    "RF_mod_out = RandomForestRegressor(random_state = 1509,\n",
    "                                   n_estimators = 1278,\n",
    "                                   max_depth = 125,\n",
    "                                   min_samples_split = 23,\n",
    "                                   min_samples_leaf = 23,\n",
    "                                   max_features = 'auto',\n",
    "                                   bootstrap = True)"
   ]
  },
  {
   "cell_type": "code",
   "execution_count": 78,
   "id": "e962ef11-2a32-4806-b53d-b18b1668c5b4",
   "metadata": {},
   "outputs": [
    {
     "data": {
      "text/plain": [
       "RandomForestRegressor(max_depth=125, min_samples_leaf=23, min_samples_split=23,\n",
       "                      n_estimators=1278, random_state=1509)"
      ]
     },
     "execution_count": 78,
     "metadata": {},
     "output_type": "execute_result"
    }
   ],
   "source": [
    "# Fit the manually configured model\n",
    "RF_mod_out.fit(X, Y_out.values.ravel())"
   ]
  },
  {
   "cell_type": "code",
   "execution_count": 80,
   "id": "7321559c-147b-4456-a5db-25988ed3b577",
   "metadata": {},
   "outputs": [
    {
     "name": "stdout",
     "output_type": "stream",
     "text": [
      "{'bootstrap': True, 'ccp_alpha': 0.0, 'criterion': 'mse', 'max_depth': 125, 'max_features': 'auto', 'max_leaf_nodes': None, 'max_samples': None, 'min_impurity_decrease': 0.0, 'min_impurity_split': None, 'min_samples_leaf': 23, 'min_samples_split': 23, 'min_weight_fraction_leaf': 0.0, 'n_estimators': 1278, 'n_jobs': None, 'oob_score': False, 'random_state': 1509, 'verbose': 0, 'warm_start': False}\n"
     ]
    }
   ],
   "source": [
    "print(RF_mod_out.get_params())"
   ]
  },
  {
   "cell_type": "code",
   "execution_count": 81,
   "id": "f58e5197-83f0-44e5-8a17-89d578f4bcb7",
   "metadata": {},
   "outputs": [
    {
     "data": {
      "text/plain": [
       "0.34594088525523703"
      ]
     },
     "execution_count": 81,
     "metadata": {},
     "output_type": "execute_result"
    }
   ],
   "source": [
    "preds_RF_out = RF_mod_out.predict(X)\n",
    "r2_score(Y_out, preds_RF_out)"
   ]
  },
  {
   "cell_type": "code",
   "execution_count": null,
   "id": "38bc5f1a-f41e-46f5-a469-5a4157080e7f",
   "metadata": {},
   "outputs": [],
   "source": [
    "predictions = cross_val_predict(RF_mod_out, X, Y_out.values.ravel(), cv = 6)\n",
    "r2_score(Y_out, predictions)"
   ]
  },
  {
   "cell_type": "code",
   "execution_count": 64,
   "id": "8ae3ff40-d2da-4997-b7d1-2ff5f45f97d7",
   "metadata": {},
   "outputs": [
    {
     "name": "stdout",
     "output_type": "stream",
     "text": [
      "Cross-validated scores: [ 0.17849742 -0.12171697  0.22869577]\n"
     ]
    }
   ],
   "source": [
    "scores = cross_val_score(RF_mod_out, X, Y_out.values.ravel(), cv = 3)\n",
    "print('Cross-validated scores:', scores)"
   ]
  },
  {
   "cell_type": "markdown",
   "id": "42fe5908-ee05-4e14-ab13-87e581d7f863",
   "metadata": {},
   "source": [
    "### Predictions"
   ]
  },
  {
   "cell_type": "code",
   "execution_count": null,
   "id": "51c74294-93e2-4a5f-9a03-43bb21f4ffaf",
   "metadata": {},
   "outputs": [],
   "source": [
    "# Base model\n",
    "# preds_RF_train_out = RF_0.predict(X_train)\n",
    "# preds_RF_test_out = RF_0.predict(X_test)"
   ]
  },
  {
   "cell_type": "code",
   "execution_count": null,
   "id": "48f6b206-5fcc-4442-952e-834c23aa2ffc",
   "metadata": {
    "tags": []
   },
   "outputs": [],
   "source": [
    "# Manually configured model (outflows)\n",
    "preds_RF_train_out = RF_mod_out.predict(X_train)\n",
    "preds_RF_test_out = RF_mod_out.predict(X_test)"
   ]
  },
  {
   "cell_type": "code",
   "execution_count": null,
   "id": "bb6d4f7f-b93a-4b24-b691-f5717fb34cea",
   "metadata": {
    "tags": []
   },
   "outputs": [],
   "source": [
    "# Model tuned with randomized and grid search (outflows)\n",
    "preds_RF_train_out = RF_grid_out.predict(X_train)\n",
    "preds_RF_test_out = RF_grid_out.predict(X_test)"
   ]
  },
  {
   "cell_type": "code",
   "execution_count": null,
   "id": "92e9f3f4-c5c8-42f0-86b8-f4332c95e0db",
   "metadata": {},
   "outputs": [],
   "source": [
    "# Manually configured model (inflows)\n",
    "preds_RF_train_in = RF_mod_in.predict(X_train)\n",
    "preds_RF_test_in = RF_mod_in.predict(X_test)"
   ]
  },
  {
   "cell_type": "code",
   "execution_count": null,
   "id": "52136ead-9ace-4aef-8eaa-b02b19d0e259",
   "metadata": {},
   "outputs": [],
   "source": [
    "feather.write_feather(pd.DataFrame(preds_RF_train_out), results_dir + 'preds.RF.train_out_agg.feather')\n",
    "feather.write_feather(pd.DataFrame(preds_RF_test_out), results_dir + 'preds.RF.test_out_agg.feather')"
   ]
  },
  {
   "cell_type": "code",
   "execution_count": null,
   "id": "2d3bb413-7535-4bed-b1e4-18adcb05918e",
   "metadata": {},
   "outputs": [],
   "source": [
    "feather.write_feather(pd.DataFrame(preds_RF_train_in), results_dir + 'preds.RF.train_in_agg.feather')\n",
    "feather.write_feather(pd.DataFrame(preds_RF_test_in), results_dir + 'preds.RF.test_in_agg.feather')"
   ]
  },
  {
   "cell_type": "markdown",
   "id": "48670034-eb80-43af-a7eb-d8e445d50621",
   "metadata": {},
   "source": [
    "### Predictive accuracy"
   ]
  },
  {
   "cell_type": "code",
   "execution_count": null,
   "id": "bba1fde2-ba27-4bd2-978d-c46f5137afa8",
   "metadata": {
    "papermill": {
     "duration": 0.295035,
     "end_time": "2021-08-25T04:30:57.344235",
     "exception": false,
     "start_time": "2021-08-25T04:30:57.049200",
     "status": "completed"
    },
    "tags": []
   },
   "outputs": [],
   "source": [
    "print(\"RMSE of the training set (outflows):\", np.sqrt(mean_squared_error(Y_train_out, preds_RF_train_out)))\n",
    "print(\"R^2 of the training set (outflows):\", r2_score(Y_train_out, preds_RF_train_out))\n",
    "print(\"RMSE of the test set (outflows):\", np.sqrt(mean_squared_error(Y_test_out, preds_RF_test_out)))\n",
    "print(\"R^2 of the test set (outflows):\", r2_score(Y_test_out, preds_RF_test_out))"
   ]
  },
  {
   "cell_type": "code",
   "execution_count": null,
   "id": "f3df0397-98f5-43b2-b6cc-82429c1b7bc5",
   "metadata": {},
   "outputs": [],
   "source": [
    "print(\"RMSE of the training set (inflows):\", np.sqrt(mean_squared_error(Y_train_in, preds_RF_train_in)))\n",
    "print(\"R^2 of the training set (inflows):\", r2_score(Y_train_in, preds_RF_train_in))\n",
    "print(\"RMSE of the test set (inflows):\", np.sqrt(mean_squared_error(Y_test_in, preds_RF_test_in)))\n",
    "print(\"R^2 of the test set (inflows):\", r2_score(Y_test_in, preds_RF_test_in))"
   ]
  },
  {
   "cell_type": "code",
   "execution_count": null,
   "id": "5cf03290-1dc7-44f2-bb87-0484939cf1b2",
   "metadata": {},
   "outputs": [],
   "source": [
    "print('Mean Absolute Error (outflows):', metrics.mean_absolute_error(Y_test_out, preds_RF_test_out))\n",
    "print('Mean Squared Error of the training set (outflows):', mean_squared_error(Y_train_out, preds_RF_train_out))\n",
    "print('Mean Squared Error of the test set (outflows):', mean_squared_error(Y_test_out, preds_RF_test_out))\n",
    "# print('Dollar RMSE of the training set (outflows):', np.mean(np.square((np.exp(Y_train_out.values) - np.exp(preds_RF_train_out)))))\n",
    "# print('Dollar RMSE of the test set (outflows):', np.mean(np.square((np.exp(Y_test_out.values) - np.exp(preds_RF_test_out)))))"
   ]
  },
  {
   "cell_type": "code",
   "execution_count": null,
   "id": "e7fed726-f1b5-4b40-9fa5-77b591ce46a6",
   "metadata": {},
   "outputs": [],
   "source": [
    "print('Mean Absolute Error (inflows):', metrics.mean_absolute_error(Y_test_in, preds_RF_test_in))  \n",
    "print('Mean Squared Error of the training set (inflows):', mean_squared_error(Y_train_in, preds_RF_train_in))\n",
    "print('Mean Squared Error of the test set (inflows):', mean_squared_error(Y_test_in, preds_RF_test_in))\n",
    "#print('Dollar RMSE of the training set (inflows):', np.mean(np.square(np.exp(Y_train_in.values)/10**3 - np.exp(preds_RF_train_in)/10**3)))\n",
    "#print('Dollar RMSE of the test set (inflows):', np.mean(np.square(np.exp(Y_test_in.values)/10**3 - np.exp(preds_RF_test_in)/10**3)))"
   ]
  },
  {
   "cell_type": "markdown",
   "id": "3765c220-fe39-410f-9792-26a34b2588d0",
   "metadata": {},
   "source": [
    "### Cross-validation"
   ]
  },
  {
   "cell_type": "code",
   "execution_count": null,
   "id": "429acb56-83da-4fba-a5ad-73cc75774060",
   "metadata": {},
   "outputs": [],
   "source": [
    "RF_mod_CV = RandomForestRegressor(random_state = 1509,\n",
    "                                  n_estimators = 1278,\n",
    "                                  max_depth = 125,\n",
    "                                  min_samples_split = 23,\n",
    "                                  min_samples_leaf = 23,\n",
    "                                  max_features = 'auto',\n",
    "                                  bootstrap = True)"
   ]
  },
  {
   "cell_type": "code",
   "execution_count": null,
   "id": "78bb96be-1bb9-48f1-9a47-efab1a649b82",
   "metadata": {},
   "outputs": [],
   "source": [
    "scores = cross_val_score(RF_mod_CV, X, Y_out.values.ravel(), cv = 6)\n",
    "print('Cross-validated scores:', scores)"
   ]
  },
  {
   "cell_type": "code",
   "execution_count": null,
   "id": "3a1f4c58-30de-421d-b51a-662d5044e43a",
   "metadata": {},
   "outputs": [],
   "source": [
    "scores.mean()"
   ]
  },
  {
   "cell_type": "code",
   "execution_count": 68,
   "id": "35a46e19-a310-4eb9-a2d5-9d9271738c45",
   "metadata": {},
   "outputs": [
    {
     "data": {
      "text/plain": [
       "0.21085539345854087"
      ]
     },
     "execution_count": 68,
     "metadata": {},
     "output_type": "execute_result"
    }
   ],
   "source": [
    "predictions = cross_val_predict(best_grid, X, Y_out.values.ravel(), cv = 3)\n",
    "r2_score(Y_out, predictions)"
   ]
  },
  {
   "cell_type": "code",
   "execution_count": 69,
   "id": "17d0bbef-d144-4457-b048-fe14f8f9dd86",
   "metadata": {},
   "outputs": [],
   "source": [
    "feather.write_feather(pd.DataFrame(predictions), results_dir + 'preds.RF.CV_out.feather')"
   ]
  },
  {
   "cell_type": "markdown",
   "id": "e37aaf38-8ff0-4364-97e8-7769611be552",
   "metadata": {},
   "source": [
    "### Visualize results"
   ]
  },
  {
   "cell_type": "code",
   "execution_count": null,
   "id": "288fa3d7-075e-496f-8266-2b9d8e1e6fac",
   "metadata": {
    "tags": []
   },
   "outputs": [],
   "source": [
    "feat_importances = pd.Series(best_random.feature_importances_, index = X.columns)\n",
    "indices = np.argsort(-1*feat_importances)\n",
    "names = [X_train.columns[i] for i in indices]\n",
    "fig, ax = plt.subplots(figsize = (10, 10))\n",
    "plt.barh(range(X_train.shape[1]), feat_importances[indices], color = 'red')\n",
    "plt.yticks(range(X_train.shape[1]), names, fontsize = 12)\n",
    "plt.gca().invert_yaxis()\n",
    "ax.set_xlabel('Feature importance')\n",
    "plt.title(\"Random Forest - Feature importance for illicit outflows\", fontsize = 16)\n",
    "plt.savefig(results_dir + 'RF_feature_importance_out.png')"
   ]
  },
  {
   "cell_type": "code",
   "execution_count": null,
   "id": "9260cc6c-368c-43c0-a7d2-43643cfaeeaf",
   "metadata": {},
   "outputs": [],
   "source": [
    "feat_importances = pd.Series(RF_mod_in.feature_importances_, index=X_train.columns)\n",
    "indices = np.argsort(-1*feat_importances)\n",
    "names = [X_train.columns[i] for i in indices]\n",
    "fig, ax = plt.subplots(figsize = (10, 10))\n",
    "plt.barh(range(X_train.shape[1]), feat_importances[indices], color = 'red')\n",
    "plt.yticks(range(X_train.shape[1]), names, fontsize = 12)\n",
    "plt.gca().invert_yaxis()\n",
    "ax.set_xlabel('Feature importance')\n",
    "plt.title(\"Random Forest - Feature importance for illicit inflows\", fontsize = 16)\n",
    "plt.savefig(results_dir + 'RF_feature_importance_in.png')"
   ]
  },
  {
   "cell_type": "code",
   "execution_count": null,
   "id": "cbf4fa8f-e5d5-415b-96d3-fee7b5d6e049",
   "metadata": {
    "tags": []
   },
   "outputs": [],
   "source": [
    "tree.export_graphviz(RF_mod_out.estimators_[0])"
   ]
  },
  {
   "cell_type": "code",
   "execution_count": null,
   "id": "0d5e52a2-90c0-42f3-bf14-ef5f976a55ba",
   "metadata": {},
   "outputs": [],
   "source": [
    "tree.plot_tree(RF_mod_out.estimators_[0])"
   ]
  },
  {
   "cell_type": "markdown",
   "id": "549e2901-c77b-4274-9d6a-4982fcc397c2",
   "metadata": {},
   "source": [
    "### Nested cross-validation"
   ]
  },
  {
   "cell_type": "code",
   "execution_count": null,
   "id": "e9fd304a-ef39-4cc2-9957-80cc29dc6ff5",
   "metadata": {},
   "outputs": [],
   "source": [
    "# Number of trees in random forest\n",
    "n_estimators = [int(x) for x in np.linspace(start = 10, stop = 3000, num = 100)]\n",
    "\n",
    "# Maximum number of levels in tree\n",
    "max_depth = [int(x) for x in np.linspace(5, 500, num = 100)]\n",
    "max_depth.append(None)\n",
    "\n",
    "# Minimum number of samples required to split a node\n",
    "min_samples_split = [int(x) for x in np.linspace(2, 50, num = 10)]\n",
    "\n",
    "# Minimum number of samples required at each leaf node\n",
    "min_samples_leaf = [int(x) for x in np.linspace(1, 100, num = 10)]\n",
    "\n",
    "# Number of features to consider at every split\n",
    "max_features = ['auto', 'sqrt']\n",
    "\n",
    "# Method of selecting samples for training each tree\n",
    "bootstrap = [True, False]\n",
    "\n",
    "# Create the parameter grid\n",
    "param_grid = {'n_estimators': n_estimators,\n",
    "              'max_depth': max_depth,\n",
    "              'min_samples_split': min_samples_split,\n",
    "              'min_samples_leaf': min_samples_leaf,\n",
    "              'max_features': max_features,\n",
    "              'bootstrap': bootstrap}"
   ]
  },
  {
   "cell_type": "code",
   "execution_count": null,
   "id": "59a747e8-a126-4690-a8c3-f00c29efbb7c",
   "metadata": {},
   "outputs": [],
   "source": [
    "# Perform nested cross-validation\n",
    "RF_mod_NCV = NestedCV(model = RandomForestRegressor(random_state = 1509), \n",
    "                      params_grid = param_grid,\n",
    "                      outer_kfolds = 5, inner_kfolds = 5,\n",
    "                      n_jobs = -1,\n",
    "                      cv_options={'metric': r2_score,\n",
    "                                  'randomized_search': True,\n",
    "                                  'randomized_search_iter': 10})"
   ]
  },
  {
   "cell_type": "code",
   "execution_count": null,
   "id": "bcc57124-5678-4737-b8cc-1f2464c3df88",
   "metadata": {},
   "outputs": [],
   "source": [
    "# Fit the nested cross-validated model\n",
    "RF_mod_NCV.fit(X = X, y = Y_out.values.ravel())"
   ]
  },
  {
   "cell_type": "code",
   "execution_count": null,
   "id": "a8d37a9d-75da-4b1e-83d9-f7715d41b54f",
   "metadata": {},
   "outputs": [],
   "source": [
    "RF_mod_NCV.outer_scores"
   ]
  },
  {
   "cell_type": "code",
   "execution_count": null,
   "id": "23350025-9e01-416d-b2a9-0dd3860c155a",
   "metadata": {},
   "outputs": [],
   "source": [
    "np.mean(RF_mod_NCV.outer_scores)"
   ]
  },
  {
   "cell_type": "code",
   "execution_count": null,
   "id": "cb8d8f24-e112-464d-9e02-64e3cc8ddad9",
   "metadata": {
    "papermill": {
     "duration": 0.295035,
     "end_time": "2021-08-25T04:30:57.344235",
     "exception": false,
     "start_time": "2021-08-25T04:30:57.049200",
     "status": "completed"
    },
    "tags": []
   },
   "outputs": [],
   "source": [
    "RF_mod_NCV.best_params"
   ]
  },
  {
   "cell_type": "markdown",
   "id": "b1562274",
   "metadata": {
    "papermill": {
     "duration": 0.023734,
     "end_time": "2021-08-25T04:30:55.074967",
     "exception": false,
     "start_time": "2021-08-25T04:30:55.051233",
     "status": "completed"
    },
    "tags": []
   },
   "source": [
    "## Light GBM"
   ]
  },
  {
   "cell_type": "code",
   "execution_count": null,
   "id": "c6a76a8b",
   "metadata": {
    "papermill": {
     "duration": 0.020547,
     "end_time": "2021-08-25T04:30:55.112011",
     "exception": false,
     "start_time": "2021-08-25T04:30:55.091464",
     "status": "completed"
    },
    "tags": []
   },
   "outputs": [],
   "source": [
    "lightGBM_train_out = lgb.Dataset(X_train, Y_train_out)\n",
    "lightGBM_test_out = lgb.Dataset(X_test, Y_test_out)\n",
    "lightGBM_train_in = lgb.Dataset(X_train, Y_train_in)\n",
    "lightGBM_test_in = lgb.Dataset(X_test, Y_test_in)"
   ]
  },
  {
   "cell_type": "code",
   "execution_count": null,
   "id": "21a10b8a",
   "metadata": {
    "papermill": {
     "duration": 1.909577,
     "end_time": "2021-08-25T04:30:57.034838",
     "exception": false,
     "start_time": "2021-08-25T04:30:55.125261",
     "status": "completed"
    },
    "tags": []
   },
   "outputs": [],
   "source": [
    "params = {\n",
    "    'objective' : 'regression',\n",
    "    'metric' : 'rmse',\n",
    "    'num_leaves' : 100,\n",
    "    'max_depth': 10,\n",
    "    'learning_rate' : 0.1,\n",
    "    'feature_fraction' : 0.6,\n",
    "    'verbosity' : -1,\n",
    "    'random_state' : 1509\n",
    "}\n",
    "lightGBM_mod_out = lgb.train(\n",
    "    params,\n",
    "    lightGBM_train_out,\n",
    "    500,\n",
    "    valid_sets = [lightGBM_train_out, lightGBM_test_out],\n",
    "    valid_names = [\"train\", \"test\"],\n",
    "    early_stopping_rounds = 50,\n",
    "    verbose_eval = 500\n",
    ")"
   ]
  },
  {
   "cell_type": "code",
   "execution_count": null,
   "id": "4dba9d36",
   "metadata": {},
   "outputs": [],
   "source": [
    "params = {\n",
    "    'objective' : 'regression',\n",
    "    'metric' : 'rmse',\n",
    "    'num_leaves' : 100,\n",
    "    'max_depth': 10,\n",
    "    'learning_rate' : 0.1,\n",
    "    'feature_fraction' : 0.6,\n",
    "    'verbosity' : -1,\n",
    "    'random_state' : 1509\n",
    "}\n",
    "lightGBM_mod_in = lgb.train(\n",
    "    params,\n",
    "    lightGBM_train_in,\n",
    "    500,\n",
    "    valid_sets = [lightGBM_train_in, lightGBM_test_in],\n",
    "    valid_names = [\"train\", \"test\"],\n",
    "    early_stopping_rounds = 50,\n",
    "    verbose_eval = 500\n",
    ")"
   ]
  },
  {
   "cell_type": "code",
   "execution_count": 63,
   "id": "5f5a7ed6-0a4c-4048-b270-ea981a0573b0",
   "metadata": {},
   "outputs": [
    {
     "data": {
      "text/plain": [
       "0.722053692562466"
      ]
     },
     "execution_count": 63,
     "metadata": {},
     "output_type": "execute_result"
    }
   ],
   "source": [
    "preds_lightGBM_out = lightGBM_mod_out.predict(X)\n",
    "r2_score(Y_out, preds_lightGBM_out)"
   ]
  },
  {
   "cell_type": "code",
   "execution_count": null,
   "id": "a21c6eb9-595c-47b3-a03a-720611f31d1c",
   "metadata": {},
   "outputs": [],
   "source": [
    "predictions = cross_val_predict(lightGBM_mod_out, X, Y_out.values.ravel(), cv = 6)\n",
    "r2_score(Y_out, predictions)"
   ]
  },
  {
   "cell_type": "code",
   "execution_count": 64,
   "id": "1a5023db-3d20-4454-9673-1c074aa5bf3a",
   "metadata": {},
   "outputs": [
    {
     "name": "stdout",
     "output_type": "stream",
     "text": [
      "Cross-validated scores: [ 0.17849742 -0.12171697  0.22869577]\n"
     ]
    }
   ],
   "source": [
    "scores = cross_val_score(lightGBM_mod_out, X, Y_out.values.ravel(), cv = 3)\n",
    "print('Cross-validated scores:', scores)"
   ]
  },
  {
   "cell_type": "code",
   "execution_count": null,
   "id": "155c4e14",
   "metadata": {
    "papermill": {
     "duration": 0.161112,
     "end_time": "2021-08-25T04:30:57.996472",
     "exception": false,
     "start_time": "2021-08-25T04:30:57.835360",
     "status": "completed"
    },
    "tags": []
   },
   "outputs": [],
   "source": [
    "preds_lightGBM_train_out = pd.DataFrame(lightGBM_mod_out.predict(X_train))\n",
    "preds_lightGBM_test_out = pd.DataFrame(lightGBM_mod_out.predict(X_test))"
   ]
  },
  {
   "cell_type": "code",
   "execution_count": null,
   "id": "bb66fbab",
   "metadata": {},
   "outputs": [],
   "source": [
    "preds_lightGBM_train_in = pd.DataFrame(lightGBM_mod_in.predict(X_train))\n",
    "preds_lightGBM_test_in = pd.DataFrame(lightGBM_mod_in.predict(X_test))"
   ]
  },
  {
   "cell_type": "code",
   "execution_count": null,
   "id": "7737bf27",
   "metadata": {
    "papermill": {
     "duration": 0.024682,
     "end_time": "2021-08-25T04:30:58.037404",
     "exception": false,
     "start_time": "2021-08-25T04:30:58.012722",
     "status": "completed"
    },
    "tags": []
   },
   "outputs": [],
   "source": [
    "feather.write_feather(preds_lightGBM_train_out, results_dir + 'preds.lightGBM.train_out_agg.feather')\n",
    "feather.write_feather(preds_lightGBM_test_out, results_dir + 'preds.lightGBM.test_out_agg.feather')"
   ]
  },
  {
   "cell_type": "code",
   "execution_count": null,
   "id": "ef229528",
   "metadata": {},
   "outputs": [],
   "source": [
    "feather.write_feather(preds_lightGBM_train_in, results_dir + 'preds.lightGBM.train_in_agg.feather')\n",
    "feather.write_feather(preds_lightGBM_test_in, results_dir + 'preds.lightGBM.test_in_agg.feather')"
   ]
  },
  {
   "cell_type": "code",
   "execution_count": null,
   "id": "1bf6d0a6",
   "metadata": {
    "papermill": {
     "duration": 0.295035,
     "end_time": "2021-08-25T04:30:57.344235",
     "exception": false,
     "start_time": "2021-08-25T04:30:57.049200",
     "status": "completed"
    },
    "tags": []
   },
   "outputs": [],
   "source": [
    "print(\"RMSE of the training set (outflows):\", np.sqrt(mean_squared_error(Y_train_out, preds_lightGBM_train_out)))\n",
    "print(\"R^2 of the training set (outflows):\", r2_score(Y_train_out, preds_lightGBM_train_out))\n",
    "print(\"RMSE of the test set (outflows):\", np.sqrt(mean_squared_error(Y_test_out, preds_lightGBM_test_out)))\n",
    "print(\"R^2 of the test set (outflows):\", r2_score(Y_test_out, preds_lightGBM_test_out))"
   ]
  },
  {
   "cell_type": "code",
   "execution_count": null,
   "id": "28599536",
   "metadata": {
    "scrolled": true
   },
   "outputs": [],
   "source": [
    "print(\"RMSE of the training set (inflows):\", np.sqrt(mean_squared_error(Y_train_in, preds_lightGBM_train_in)))\n",
    "print(\"R^2 of the training set (inflows):\", r2_score(Y_train_in, preds_lightGBM_train_in))\n",
    "print(\"RMSE of the test set (inflows):\", np.sqrt(mean_squared_error(Y_test_in, preds_lightGBM_test_in)))\n",
    "print(\"R^2 of the test set (inflows):\", r2_score(Y_test_in, preds_lightGBM_test_in))"
   ]
  },
  {
   "cell_type": "code",
   "execution_count": null,
   "id": "f65b515c",
   "metadata": {},
   "outputs": [],
   "source": [
    "print('Mean Absolute Error (outflows):', metrics.mean_absolute_error(Y_test_out, preds_lightGBM_test_out))\n",
    "print('Mean Squared Error of the training set (outflows):', mean_squared_error(Y_train_out, preds_lightGBM_train_out))\n",
    "print('Mean Squared Error of the test set (outflows):', mean_squared_error(Y_test_out, preds_lightGBM_test_out))\n",
    "#print('Dollar RMSE of the training set (outflows):', np.mean(np.square(np.exp(Y_train_out.values)*10**3 - np.exp(preds_lightGBM_train_out)*10**3)) / 10**6)\n",
    "#print('Dollar RMSE of the test set (outflows):', np.mean(np.square(np.exp(Y_test_out.values)*10**3 - np.exp(preds_lightGBM_test_out)*10**3)) / 10**6)"
   ]
  },
  {
   "cell_type": "code",
   "execution_count": null,
   "id": "41d60f8e",
   "metadata": {},
   "outputs": [],
   "source": [
    "print('Mean Absolute Error (inflows):', metrics.mean_absolute_error(Y_test_in, preds_lightGBM_test_in))\n",
    "print('Mean Squared Error of the training set (inflows):', mean_squared_error(Y_train_in, preds_lightGBM_train_in))\n",
    "print('Mean Squared Error of the test set (inflows):', mean_squared_error(Y_test_in, preds_lightGBM_test_in))\n",
    "#print('Dollar RMSE of the training set (inflows):', np.mean(np.square(np.exp(Y_train_in.values)/10**3 - np.exp(preds_lightGBM_train_in)/10**3)))\n",
    "#print('Dollar RMSE of the test set (inflows):', np.mean(np.square(np.exp(Y_test_in.values)/10**3 - np.exp(preds_lightGBM_test_in)/10**3)))"
   ]
  },
  {
   "cell_type": "code",
   "execution_count": null,
   "id": "9622c0b0",
   "metadata": {
    "papermill": {
     "duration": 0.462821,
     "end_time": "2021-08-25T04:30:57.820356",
     "exception": false,
     "start_time": "2021-08-25T04:30:57.357535",
     "status": "completed"
    },
    "tags": []
   },
   "outputs": [],
   "source": [
    "fig, ax = plt.subplots(figsize = (10, 10))\n",
    "lgb.plot_importance(lightGBM_mod_out, height = 0.8, ax = ax)\n",
    "ax.grid(False)\n",
    "plt.title(\"LightGBM - Feature importance for illicit outflows\", fontsize = 16)\n",
    "plt.savefig(results_dir + 'LightGBM_feature_importance_out.png')"
   ]
  },
  {
   "cell_type": "code",
   "execution_count": null,
   "id": "b5dc5581",
   "metadata": {
    "papermill": {
     "duration": 0.462821,
     "end_time": "2021-08-25T04:30:57.820356",
     "exception": false,
     "start_time": "2021-08-25T04:30:57.357535",
     "status": "completed"
    },
    "tags": []
   },
   "outputs": [],
   "source": [
    "fig, ax = plt.subplots(figsize = (10,10))\n",
    "lgb.plot_importance(lightGBM_mod_in, height = 0.8, ax = ax)\n",
    "ax.grid(False)\n",
    "plt.title(\"LightGBM - Feature importance for illicit inflows\", fontsize = 16)\n",
    "plt.savefig(results_dir + 'LightGBM_feature_importance_in.png')"
   ]
  },
  {
   "cell_type": "markdown",
   "id": "94310759-1589-4b81-8ca1-3a7a4683b892",
   "metadata": {},
   "source": [
    "## Support Vector Machine"
   ]
  },
  {
   "cell_type": "code",
   "execution_count": null,
   "id": "abcfd779-0faa-4276-b78d-a30c2e58c985",
   "metadata": {},
   "outputs": [],
   "source": [
    "SVM_mod = svm.SVR()\n",
    "SVM_mod.fit(X_train, Y_train.values.ravel())"
   ]
  },
  {
   "cell_type": "code",
   "execution_count": null,
   "id": "89d54095-7607-4358-ad0c-3d542d4767ce",
   "metadata": {},
   "outputs": [],
   "source": [
    "preds_SVM_train = SVM_mod.predict(X_train)\n",
    "preds_SVM_test = SVM_mod.predict(X_test)"
   ]
  },
  {
   "cell_type": "code",
   "execution_count": null,
   "id": "842505a8-c615-4f2b-9ca9-ad4cdb6314f4",
   "metadata": {},
   "outputs": [],
   "source": [
    "feather.write_feather(pd.DataFrame(preds_SVM_train), results_dir + 'preds.SVM.train_agg.feather')\n",
    "feather.write_feather(pd.DataFrame(preds_SVM_test), results_dir + 'preds.SVM.test_agg.feather')"
   ]
  },
  {
   "cell_type": "code",
   "execution_count": null,
   "id": "b0d088ee-6350-48ce-aa23-09a95f1cc6f0",
   "metadata": {},
   "outputs": [],
   "source": [
    "print(\"RMSE of the training set:\", np.sqrt(mean_squared_error(Y_train, preds_SVM_train)))\n",
    "print(\"R^2 of the training set:\", r2_score(Y_train, preds_SVM_train))"
   ]
  },
  {
   "cell_type": "code",
   "execution_count": null,
   "id": "043c8b61-fdae-450c-8e76-7fb75c4418ad",
   "metadata": {
    "papermill": {
     "duration": 0.295035,
     "end_time": "2021-08-25T04:30:57.344235",
     "exception": false,
     "start_time": "2021-08-25T04:30:57.049200",
     "status": "completed"
    },
    "tags": []
   },
   "outputs": [],
   "source": [
    "print(\"RMSE of the test set:\", np.sqrt(mean_squared_error(Y_test, preds_SVM_test)))\n",
    "print(\"R^2 of the test set:\", r2_score(Y_test, preds_SVM_test))"
   ]
  },
  {
   "cell_type": "markdown",
   "id": "7a0ef060-aa01-4029-8610-2969bbec8029",
   "metadata": {},
   "source": [
    "## Neural Networks"
   ]
  },
  {
   "cell_type": "code",
   "execution_count": null,
   "id": "1705a77b-05ce-4032-9b91-c999a2948912",
   "metadata": {},
   "outputs": [],
   "source": [
    "Y_train = train_agg_smp[['Tot_IFF_t']]\n",
    "X_train = train_agg_smp[features]\n",
    "Y_test = test_agg_smp[['Tot_IFF_t']]\n",
    "X_test = test_agg_smp[features]"
   ]
  },
  {
   "cell_type": "code",
   "execution_count": null,
   "id": "45e0fecf-42c9-4c58-baaa-f97fd09a375d",
   "metadata": {},
   "outputs": [],
   "source": [
    "std_sc = StandardScaler()\n",
    "NN_train = std_sc.fit_transform(X_train)\n",
    "NN_test = std_sc.transform(X_test)"
   ]
  },
  {
   "cell_type": "code",
   "execution_count": null,
   "id": "0cf14354-ebee-4465-9fa1-09349daebca7",
   "metadata": {
    "tags": []
   },
   "outputs": [],
   "source": [
    "NN_mod = MLPRegressor(hidden_layer_sizes = (10),\n",
    "                      activation = \"logistic\",\n",
    "                      random_state = 1, \n",
    "                      max_iter = 1000).fit(NN_train, Y_train.values.ravel())"
   ]
  },
  {
   "cell_type": "code",
   "execution_count": null,
   "id": "c443a9f0-4ab7-4aca-a993-b4db34307f24",
   "metadata": {},
   "outputs": [],
   "source": [
    "preds_NN_train = NN_mod.predict(NN_train)\n",
    "preds_NN_test = NN_mod.predict(NN_test)"
   ]
  },
  {
   "cell_type": "code",
   "execution_count": null,
   "id": "f15770c9-a899-4efb-9774-681863925c9b",
   "metadata": {},
   "outputs": [],
   "source": [
    "feather.write_feather(pd.DataFrame(preds_NN_train), results_dir + 'preds.NN.train_agg.feather')\n",
    "feather.write_feather(pd.DataFrame(preds_NN_test), results_dir + 'preds.NN.test_agg.feather')"
   ]
  },
  {
   "cell_type": "code",
   "execution_count": null,
   "id": "b69aff8e-ef6b-443f-a661-c09da937fd73",
   "metadata": {},
   "outputs": [],
   "source": [
    "print(\"RMSE of the training set:\", np.sqrt(mean_squared_error(Y_train, preds_NN_train)))\n",
    "print(\"R^2 of the training set:\", r2_score(Y_train, preds_NN_train))"
   ]
  },
  {
   "cell_type": "code",
   "execution_count": null,
   "id": "44dbe499-b30c-4a08-8494-a5412ed598fe",
   "metadata": {
    "papermill": {
     "duration": 0.295035,
     "end_time": "2021-08-25T04:30:57.344235",
     "exception": false,
     "start_time": "2021-08-25T04:30:57.049200",
     "status": "completed"
    },
    "tags": []
   },
   "outputs": [],
   "source": [
    "print(\"RMSE of the test set:\", np.sqrt(mean_squared_error(Y_test, preds_NN_test)))\n",
    "print(\"R^2 of the test set:\", r2_score(Y_test, preds_NN_test))"
   ]
  },
  {
   "cell_type": "markdown",
   "id": "31d23caf-5455-4bfd-9d80-133874c3d4db",
   "metadata": {},
   "source": [
    "### Tuning hyperparameters"
   ]
  },
  {
   "cell_type": "code",
   "execution_count": null,
   "id": "e8c0f93a-8ef5-46f7-9eca-07cbac992d13",
   "metadata": {},
   "outputs": [],
   "source": [
    "NN = MLPRegressor(max_iter = 1000)\n",
    "parameter_space = {\n",
    "    'hidden_layer_sizes': [(10,20)],\n",
    "    'activation': ['logistic', 'relu'],\n",
    "    #'solver': ['sgd', 'adam'],\n",
    "    #'alpha': [0.0001, 0.05],\n",
    "    #'learning_rate': ['constant','adaptive'],\n",
    "}"
   ]
  },
  {
   "cell_type": "code",
   "execution_count": null,
   "id": "261f1028-87c7-4d70-a397-d70da481c9b1",
   "metadata": {},
   "outputs": [],
   "source": [
    "NN_mod_tuned = GridSearchCV(NN, parameter_space, n_jobs = -1, cv = 3)"
   ]
  },
  {
   "cell_type": "code",
   "execution_count": null,
   "id": "e91cceef-36c3-4a63-b137-84ba09be23be",
   "metadata": {},
   "outputs": [],
   "source": [
    "NN_mod_tuned.fit(NN_train, Y_train.values.ravel())"
   ]
  },
  {
   "cell_type": "code",
   "execution_count": null,
   "id": "128630b9-4723-458e-a583-471118068247",
   "metadata": {},
   "outputs": [],
   "source": [
    "print('Best parameters found:\\n', NN_mod_tuned.best_params_)"
   ]
  },
  {
   "cell_type": "code",
   "execution_count": null,
   "id": "5e80f1c2-8194-405c-a7b5-da2eb98b41d0",
   "metadata": {},
   "outputs": [],
   "source": [
    "# All results\n",
    "means = NN_mod_tuned.cv_results_['mean_test_score']\n",
    "stds = NN_mod_tuned.cv_results_['std_test_score']\n",
    "for mean, std, params in zip(means, stds, NN_mod_tuned.cv_results_['params']):\n",
    "    print(\"%0.3f (+/-%0.03f) for %r\" % (mean, std * 2, params))"
   ]
  },
  {
   "cell_type": "code",
   "execution_count": null,
   "id": "c2701d02-8992-44f5-86b9-a29fa3fac1dc",
   "metadata": {},
   "outputs": [],
   "source": [
    "preds_NN_train = NN_mod_tuned.predict(NN_train)\n",
    "preds_NN_test = NN_mod_tuned.predict(NN_test)"
   ]
  },
  {
   "cell_type": "code",
   "execution_count": null,
   "id": "fdbbceb2-71db-4344-9b03-667f8866233c",
   "metadata": {},
   "outputs": [],
   "source": [
    "feather.write_feather(pd.DataFrame(preds_NN_train), results_dir + 'preds.NN.train_agg.feather')\n",
    "feather.write_feather(pd.DataFrame(preds_NN_test), results_dir + 'preds.NN.test_agg.feather')"
   ]
  },
  {
   "cell_type": "code",
   "execution_count": null,
   "id": "363b0f8c-2d6c-4aef-b206-69b59329693c",
   "metadata": {},
   "outputs": [],
   "source": [
    "print(\"RMSE of the training set:\", np.sqrt(mean_squared_error(Y_train, preds_NN_train)))\n",
    "print(\"R^2 of the training set:\", r2_score(Y_train, preds_NN_train))"
   ]
  },
  {
   "cell_type": "code",
   "execution_count": null,
   "id": "7e86c305-607f-4091-8fea-918aab40f80e",
   "metadata": {
    "papermill": {
     "duration": 0.295035,
     "end_time": "2021-08-25T04:30:57.344235",
     "exception": false,
     "start_time": "2021-08-25T04:30:57.049200",
     "status": "completed"
    },
    "tags": []
   },
   "outputs": [],
   "source": [
    "print(\"RMSE of the test set:\", np.sqrt(mean_squared_error(Y_test, preds_NN_test)))\n",
    "print(\"R^2 of the test set:\", r2_score(Y_test, preds_NN_test))"
   ]
  }
 ],
 "metadata": {
  "kernelspec": {
   "display_name": "Python 3 (ipykernel)",
   "language": "python",
   "name": "python3"
  },
  "language_info": {
   "codemirror_mode": {
    "name": "ipython",
    "version": 3
   },
   "file_extension": ".py",
   "mimetype": "text/x-python",
   "name": "python",
   "nbconvert_exporter": "python",
   "pygments_lexer": "ipython3",
   "version": "3.9.6"
  },
  "papermill": {
   "default_parameters": {},
   "duration": 8.293491,
   "end_time": "2021-08-25T04:30:59.376719",
   "environment_variables": {},
   "exception": null,
   "input_path": "Scripts/Predictions.ipynb",
   "output_path": "Scripts/Predictions.ipynb",
   "parameters": {},
   "start_time": "2021-08-25T04:30:51.083228",
   "version": "2.3.3"
  },
  "toc": {
   "base_numbering": 1,
   "nav_menu": {},
   "number_sections": true,
   "sideBar": false,
   "skip_h1_title": true,
   "title_cell": "Table of Contents",
   "title_sidebar": "Contents",
   "toc_cell": false,
   "toc_position": {
    "height": "745px",
    "left": "177px",
    "top": "218px",
    "width": "165px"
   },
   "toc_section_display": false,
   "toc_window_display": true
  }
 },
 "nbformat": 4,
 "nbformat_minor": 5
}
