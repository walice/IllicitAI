{
 "cells": [
  {
   "cell_type": "markdown",
   "id": "0dcbfa94-b9c5-435b-9f89-6f5b4c43be46",
   "metadata": {
    "papermill": {
     "duration": 0.012854,
     "end_time": "2021-08-25T04:30:52.046180",
     "exception": false,
     "start_time": "2021-08-25T04:30:52.033326",
     "status": "completed"
    },
    "tags": []
   },
   "source": [
    "# Predictions"
   ]
  },
  {
   "cell_type": "markdown",
   "id": "99c44811-2186-4277-911a-ff940e34ff01",
   "metadata": {
    "papermill": {
     "duration": 0.012582,
     "end_time": "2021-08-25T04:30:52.072441",
     "exception": false,
     "start_time": "2021-08-25T04:30:52.059859",
     "status": "completed"
    },
    "tags": []
   },
   "source": [
    "## Data wrangling"
   ]
  },
  {
   "cell_type": "code",
   "execution_count": 1,
   "id": "d2f5d343-55f4-43d0-9b14-5d79fc7094ee",
   "metadata": {
    "papermill": {
     "duration": 1.90378,
     "end_time": "2021-08-25T04:30:53.987733",
     "exception": false,
     "start_time": "2021-08-25T04:30:52.083953",
     "status": "completed"
    },
    "tags": []
   },
   "outputs": [],
   "source": [
    "# Preamble\n",
    "import pandas as pd\n",
    "import numpy as np\n",
    "pd.set_option(\"mode.chained_assignment\", None)\n",
    "import matplotlib.pyplot as plt\n",
    "import lightgbm as lgb\n",
    "import pyarrow.feather as feather\n",
    "from os import chdir, getcwd\n",
    "\n",
    "# sci-kit\n",
    "from sklearn.linear_model import LinearRegression\n",
    "from sklearn.neural_network import MLPRegressor\n",
    "from sklearn.ensemble import RandomForestRegressor\n",
    "from sklearn import svm\n",
    "from sklearn.preprocessing import StandardScaler\n",
    "from sklearn.model_selection import GridSearchCV\n",
    "from sklearn import metrics\n",
    "from sklearn.metrics import r2_score\n",
    "from sklearn.metrics import mean_squared_error"
   ]
  },
  {
   "cell_type": "code",
   "execution_count": 2,
   "id": "6cbed92b-623c-4293-9927-1ae51e505de2",
   "metadata": {
    "papermill": {
     "duration": 0.019207,
     "end_time": "2021-08-25T04:30:54.023305",
     "exception": false,
     "start_time": "2021-08-25T04:30:54.004098",
     "status": "completed"
    },
    "tags": []
   },
   "outputs": [],
   "source": [
    "data_dir = '/home/jovyan/work/Data/'\n",
    "results_dir = '/home/jovyan/work/Results/'"
   ]
  },
  {
   "cell_type": "code",
   "execution_count": 3,
   "id": "aa5789cf-f1d7-4d3d-a2a3-6568a164c189",
   "metadata": {},
   "outputs": [],
   "source": [
    "select_features = ['reporter.ISO', 'partner.ISO', 'year',\n",
    "                   'ln.Tot_IFF_t',\n",
    "                   'ln.gdp_o', 'ln.gdp_d', 'ln.pop_o', 'ln.pop_d', \n",
    "                   'dist', 'contig', \n",
    "                   'comlang_off', 'comcol', 'col45', \n",
    "                   'ihs.entry_cost_o', 'ihs.entry_cost_d', 'rta',\n",
    "                   'rCorrCont', 'pCorrCont',\n",
    "                   'rRegQual', 'pRegQual', \n",
    "                   'rRuleLaw', 'pRuleLaw',\n",
    "                   'rSecrecyScore', 'pSecrecyScore',\n",
    "                   'rFSI.rank', 'pFSI.rank',\n",
    "                   'rKFSI13', 'pKFSI13',\n",
    "                   'rKFSI17', 'pKFSI17',\n",
    "                   'rKFSI20', 'pKFSI20',\n",
    "                   'rFATF', 'pFATF',\n",
    "                   'ihs.tariff',\n",
    "                   'kai_o', 'kai_d', 'kao_o', 'kao_d',\n",
    "                   'cc_o', 'cc_d', 'cci_o', 'cci_d', 'cco_o', 'cco_d',\n",
    "                   'di_o', 'di_d', 'dii_o', 'dii_d', 'dio_o', 'dio_d']\n",
    "features = [       'ln.gdp_o', 'ln.gdp_d', 'ln.pop_o', 'ln.pop_d', \n",
    "                   'dist', 'contig', \n",
    "                   'comlang_off', 'comcol', 'col45', \n",
    "                   'ihs.entry_cost_o', 'ihs.entry_cost_d', 'rta',\n",
    "                   'rCorrCont', 'pCorrCont',\n",
    "                   'rRegQual', 'pRegQual', \n",
    "                   'rRuleLaw', 'pRuleLaw',\n",
    "                   'rSecrecyScore', 'pSecrecyScore',\n",
    "                   'rFSI.rank', 'pFSI.rank',\n",
    "                   'rKFSI13', 'pKFSI13',\n",
    "                   'rKFSI17', 'pKFSI17',\n",
    "                   'rKFSI20', 'pKFSI20',\n",
    "                   'rFATF', 'pFATF',\n",
    "                   'ihs.tariff',\n",
    "                   'kai_o', 'kai_d', 'kao_o', 'kao_d',\n",
    "                   'cc_o', 'cc_d', 'cci_o', 'cci_d', 'cco_o', 'cco_d',\n",
    "                   'di_o', 'di_d', 'dii_o', 'dii_d', 'dio_o', 'dio_d']"
   ]
  },
  {
   "cell_type": "markdown",
   "id": "a6cbf9da-0af7-4d89-9227-d63c9f5e9b04",
   "metadata": {
    "papermill": {
     "duration": 0.011902,
     "end_time": "2021-08-25T04:30:54.080630",
     "exception": false,
     "start_time": "2021-08-25T04:30:54.068728",
     "status": "completed"
    },
    "tags": []
   },
   "source": [
    "## Split into training and test samples"
   ]
  },
  {
   "cell_type": "code",
   "execution_count": 4,
   "id": "33ac487b-644b-4af0-a233-1bedf9b5a998",
   "metadata": {
    "papermill": {
     "duration": 0.198678,
     "end_time": "2021-08-25T04:30:54.291158",
     "exception": false,
     "start_time": "2021-08-25T04:30:54.092480",
     "status": "completed"
    },
    "tags": []
   },
   "outputs": [],
   "source": [
    "train_agg = feather.read_feather(results_dir + 'train_agg.feather')\n",
    "test_agg = feather.read_feather(results_dir + 'test_agg.feather')"
   ]
  },
  {
   "cell_type": "code",
   "execution_count": 5,
   "id": "d0c5dcdb-b4bd-41ad-866f-d7c825166f23",
   "metadata": {},
   "outputs": [],
   "source": [
    "def create_smp(data, features):\n",
    "    \"\"\"\n",
    "    Create train and test samples that are complete.\n",
    "    \"\"\"\n",
    "    smp = data[features]\n",
    "    smp.dropna(axis=0, how='any', inplace=True)\n",
    "    return smp"
   ]
  },
  {
   "cell_type": "code",
   "execution_count": 6,
   "id": "bf7ed85f-c229-46f8-b066-8b845fc60be6",
   "metadata": {},
   "outputs": [],
   "source": [
    "train_agg_smp = create_smp(train_agg, select_features)\n",
    "test_agg_smp = create_smp(test_agg, select_features)"
   ]
  },
  {
   "cell_type": "code",
   "execution_count": 25,
   "id": "8bc33b86-f009-4ac6-81c6-1fdce1bdafbc",
   "metadata": {
    "papermill": {
     "duration": 0.030357,
     "end_time": "2021-08-25T04:30:54.432522",
     "exception": false,
     "start_time": "2021-08-25T04:30:54.402165",
     "status": "completed"
    },
    "tags": []
   },
   "outputs": [],
   "source": [
    "feather.write_feather(train_agg_smp, results_dir + 'train_agg_smp.feather')\n",
    "feather.write_feather(test_agg_smp, results_dir + 'test_agg_smp.feather')"
   ]
  },
  {
   "cell_type": "code",
   "execution_count": 7,
   "id": "1cf54c33-88da-44d5-878c-926ad6c6d9cd",
   "metadata": {
    "papermill": {
     "duration": 0.023873,
     "end_time": "2021-08-25T04:30:54.469044",
     "exception": false,
     "start_time": "2021-08-25T04:30:54.445171",
     "status": "completed"
    },
    "tags": []
   },
   "outputs": [],
   "source": [
    "Y_train = train_agg_smp[['ln.Tot_IFF_t']]\n",
    "X_train = train_agg_smp[features]\n",
    "Y_test = test_agg_smp[['ln.Tot_IFF_t']]\n",
    "X_test = test_agg_smp[features]"
   ]
  },
  {
   "cell_type": "code",
   "execution_count": 8,
   "id": "fbaff0be-6136-415c-9c11-b1f1e62d3a0c",
   "metadata": {},
   "outputs": [
    {
     "name": "stdout",
     "output_type": "stream",
     "text": [
      "X_train:  (27100, 47) \n",
      "X_test:  (6454, 47)\n"
     ]
    }
   ],
   "source": [
    "print('X_train: ', X_train.shape, '\\nX_test: ',  X_test.shape)"
   ]
  },
  {
   "cell_type": "markdown",
   "id": "51afba86-15dc-4121-b287-b2858a51389b",
   "metadata": {
    "papermill": {
     "duration": 0.011466,
     "end_time": "2021-08-25T04:30:54.492337",
     "exception": false,
     "start_time": "2021-08-25T04:30:54.480871",
     "status": "completed"
    },
    "tags": []
   },
   "source": [
    "## Linear regression"
   ]
  },
  {
   "cell_type": "code",
   "execution_count": 9,
   "id": "139e74e4-3543-459d-9488-33a700c40a2b",
   "metadata": {
    "papermill": {
     "duration": 0.037,
     "end_time": "2021-08-25T04:30:54.540674",
     "exception": false,
     "start_time": "2021-08-25T04:30:54.503674",
     "status": "completed"
    },
    "tags": []
   },
   "outputs": [
    {
     "data": {
      "text/plain": [
       "LinearRegression()"
      ]
     },
     "execution_count": 9,
     "metadata": {},
     "output_type": "execute_result"
    }
   ],
   "source": [
    "linear_mod = LinearRegression()  \n",
    "linear_mod.fit(X_train.values, Y_train.values)"
   ]
  },
  {
   "cell_type": "code",
   "execution_count": 10,
   "id": "ebd838fc-d161-42c6-bcb2-34265c0044a9",
   "metadata": {
    "papermill": {
     "duration": 0.034715,
     "end_time": "2021-08-25T04:30:54.596530",
     "exception": false,
     "start_time": "2021-08-25T04:30:54.561815",
     "status": "completed"
    },
    "tags": []
   },
   "outputs": [
    {
     "name": "stdout",
     "output_type": "stream",
     "text": [
      "[-21.87122891]\n",
      "[[ 2.14052740e-01  9.52225739e-01  5.95008987e-01  4.87602849e-01\n",
      "  -1.16431371e-04  1.86561325e+00  9.30155695e-01  2.14501772e-01\n",
      "  -2.20057652e-01 -3.02766760e-01  2.39097196e-03  5.70295512e-01\n",
      "   1.66372622e-02 -8.80368343e-03  1.96727642e-02  1.42637644e-02\n",
      "  -9.01509677e-03  1.80885428e-02  9.23986035e-03  3.12142918e-02\n",
      "  -1.63916717e-03  7.91540799e-03  7.42703695e-03  1.65741739e-01\n",
      "  -1.00765047e+00 -2.26762867e+00  1.49373443e+00 -4.97851089e-01\n",
      "   4.62982154e-01  3.39921672e-01 -2.80243331e-02 -7.00979047e-01\n",
      "  -7.34581940e-01  1.22370492e+00  1.29528585e+00 -1.67431678e-01\n",
      "  -7.47814532e-02 -4.80425513e-01 -2.31866704e-01  1.45562157e-01\n",
      "   8.23037975e-02  7.63147198e-03  1.75841244e-02  6.25404564e-02\n",
      "  -3.66824203e-03 -4.72775124e-02  3.88364908e-02]]\n"
     ]
    }
   ],
   "source": [
    "print(linear_mod.intercept_)\n",
    "print(linear_mod.coef_)"
   ]
  },
  {
   "cell_type": "code",
   "execution_count": 11,
   "id": "3238d645-0834-4f5f-a4e9-ec27d7ac58b3",
   "metadata": {
    "papermill": {
     "duration": 0.289043,
     "end_time": "2021-08-25T04:30:54.907396",
     "exception": false,
     "start_time": "2021-08-25T04:30:54.618353",
     "status": "completed"
    },
    "tags": []
   },
   "outputs": [
    {
     "name": "stdout",
     "output_type": "stream",
     "text": [
      "                            OLS Regression Results                            \n",
      "==============================================================================\n",
      "Dep. Variable:           ln.Tot_IFF_t   R-squared:                       0.640\n",
      "Model:                            OLS   Adj. R-squared:                  0.640\n",
      "Method:                 Least Squares   F-statistic:                     1119.\n",
      "Date:                Mon, 20 Sep 2021   Prob (F-statistic):               0.00\n",
      "Time:                        05:57:24   Log-Likelihood:                -57878.\n",
      "No. Observations:               27100   AIC:                         1.158e+05\n",
      "Df Residuals:                   27056   BIC:                         1.162e+05\n",
      "Df Model:                          43                                         \n",
      "Covariance Type:            nonrobust                                         \n",
      "====================================================================================\n",
      "                       coef    std err          t      P>|t|      [0.025      0.975]\n",
      "------------------------------------------------------------------------------------\n",
      "const              -21.8712      0.687    -31.820      0.000     -23.218     -20.524\n",
      "ln.gdp_o             0.2141      0.028      7.619      0.000       0.159       0.269\n",
      "ln.gdp_d             0.9522      0.028     33.938      0.000       0.897       1.007\n",
      "ln.pop_o             0.5950      0.028     21.431      0.000       0.541       0.649\n",
      "ln.pop_d             0.4876      0.028     17.629      0.000       0.433       0.542\n",
      "dist                -0.0001   3.32e-06    -35.027      0.000      -0.000      -0.000\n",
      "contig               1.8656      0.086     21.635      0.000       1.697       2.035\n",
      "comlang_off          0.9302      0.040     23.172      0.000       0.851       1.009\n",
      "comcol               0.2145      0.077      2.775      0.006       0.063       0.366\n",
      "col45               -0.2201      0.116     -1.902      0.057      -0.447       0.007\n",
      "ihs.entry_cost_o    -0.3028      0.015    -20.677      0.000      -0.331      -0.274\n",
      "ihs.entry_cost_d     0.0024      0.014      0.165      0.869      -0.026       0.031\n",
      "rta                  0.5703      0.035     16.407      0.000       0.502       0.638\n",
      "rCorrCont            0.0166      0.002      8.236      0.000       0.013       0.021\n",
      "pCorrCont           -0.0088      0.002     -4.369      0.000      -0.013      -0.005\n",
      "rRegQual             0.0197      0.002      8.886      0.000       0.015       0.024\n",
      "pRegQual             0.0143      0.002      6.599      0.000       0.010       0.019\n",
      "rRuleLaw            -0.0090      0.002     -3.806      0.000      -0.014      -0.004\n",
      "pRuleLaw             0.0181      0.002      7.667      0.000       0.013       0.023\n",
      "rSecrecyScore        0.0092      0.003      3.145      0.002       0.003       0.015\n",
      "pSecrecyScore        0.0312      0.003     10.621      0.000       0.025       0.037\n",
      "rFSI.rank           -0.0016      0.001     -1.654      0.098      -0.004       0.000\n",
      "pFSI.rank            0.0079      0.001      7.986      0.000       0.006       0.010\n",
      "rKFSI13              0.0074      0.053      0.141      0.888      -0.096       0.110\n",
      "pKFSI13              0.1657      0.052      3.174      0.002       0.063       0.268\n",
      "rKFSI17             -1.0077      0.175     -5.763      0.000      -1.350      -0.665\n",
      "pKFSI17             -2.2676      0.174    -13.037      0.000      -2.609      -1.927\n",
      "rKFSI20              1.4937      0.222      6.739      0.000       1.059       1.928\n",
      "pKFSI20             -0.4979      0.222     -2.242      0.025      -0.933      -0.063\n",
      "rFATF                0.4630      0.045     10.217      0.000       0.374       0.552\n",
      "pFATF                0.3399      0.045      7.495      0.000       0.251       0.429\n",
      "ihs.tariff          -0.0280      0.016     -1.704      0.088      -0.060       0.004\n",
      "kai_o               -0.7010      0.127     -5.522      0.000      -0.950      -0.452\n",
      "kai_d               -0.7346      0.127     -5.804      0.000      -0.983      -0.486\n",
      "kao_o                1.2237      0.102     11.971      0.000       1.023       1.424\n",
      "kao_d                1.2953      0.102     12.673      0.000       1.095       1.496\n",
      "cc_o                -0.1674      0.020     -8.268      0.000      -0.207      -0.128\n",
      "cc_d                -0.0748      0.020     -3.732      0.000      -0.114      -0.036\n",
      "cci_o               -0.4804      0.050     -9.607      0.000      -0.578      -0.382\n",
      "cci_d               -0.2319      0.050     -4.665      0.000      -0.329      -0.134\n",
      "cco_o                0.1456      0.046      3.166      0.002       0.055       0.236\n",
      "cco_d                0.0823      0.046      1.793      0.073      -0.008       0.172\n",
      "di_o                 0.0076      0.020      0.379      0.705      -0.032       0.047\n",
      "di_d                 0.0176      0.020      0.876      0.381      -0.022       0.057\n",
      "dii_o                0.0625      0.033      1.902      0.057      -0.002       0.127\n",
      "dii_d               -0.0037      0.033     -0.112      0.911      -0.068       0.061\n",
      "dio_o               -0.0473      0.041     -1.156      0.248      -0.127       0.033\n",
      "dio_d                0.0388      0.041      0.954      0.340      -0.041       0.119\n",
      "==============================================================================\n",
      "Omnibus:                     6096.656   Durbin-Watson:                   1.519\n",
      "Prob(Omnibus):                  0.000   Jarque-Bera (JB):            24340.810\n",
      "Skew:                          -1.072   Prob(JB):                         0.00\n",
      "Kurtosis:                       7.119   Cond. No.                     1.14e+16\n",
      "==============================================================================\n",
      "\n",
      "Notes:\n",
      "[1] Standard Errors assume that the covariance matrix of the errors is correctly specified.\n",
      "[2] The smallest eigenvalue is 1.87e-20. This might indicate that there are\n",
      "strong multicollinearity problems or that the design matrix is singular.\n"
     ]
    },
    {
     "name": "stderr",
     "output_type": "stream",
     "text": [
      "/opt/conda/lib/python3.9/site-packages/statsmodels/tsa/tsatools.py:142: FutureWarning: In a future version of pandas all arguments of concat except for the argument 'objs' will be keyword-only\n",
      "  x = pd.concat(x[::order], 1)\n"
     ]
    }
   ],
   "source": [
    "import statsmodels.api as sm\n",
    "Xconst = sm.add_constant(X_train)\n",
    "est = sm.OLS(Y_train, Xconst)\n",
    "est2 = est.fit()\n",
    "print(est2.summary())"
   ]
  },
  {
   "cell_type": "code",
   "execution_count": 12,
   "id": "7e6e9b13-5423-42ee-93b4-a26df5e213d9",
   "metadata": {
    "papermill": {
     "duration": 0.035714,
     "end_time": "2021-08-25T04:30:54.966104",
     "exception": false,
     "start_time": "2021-08-25T04:30:54.930390",
     "status": "completed"
    },
    "tags": []
   },
   "outputs": [],
   "source": [
    "preds_LM_train = linear_mod.predict(X_train)\n",
    "preds_LM_test = linear_mod.predict(X_test)"
   ]
  },
  {
   "cell_type": "code",
   "execution_count": 13,
   "id": "20c84e50-70f4-4f78-b046-89abca108c02",
   "metadata": {},
   "outputs": [],
   "source": [
    "feather.write_feather(pd.DataFrame(preds_LM_train), results_dir + 'preds.LM.train_agg.feather')\n",
    "feather.write_feather(pd.DataFrame(preds_LM_test), results_dir + 'preds.LM.test_agg.feather')"
   ]
  },
  {
   "cell_type": "code",
   "execution_count": 14,
   "id": "375b2663-16df-46b1-bbce-489c9a7021e4",
   "metadata": {},
   "outputs": [
    {
     "name": "stdout",
     "output_type": "stream",
     "text": [
      "RMSE of the training set: 2.0478330090803865\n",
      "R^2 of the training set: 0.6401083904935426\n"
     ]
    }
   ],
   "source": [
    "print(\"RMSE of the training set:\", np.sqrt(mean_squared_error(Y_train, preds_LM_train)))\n",
    "print(\"R^2 of the training set:\", r2_score(Y_train, preds_LM_train))"
   ]
  },
  {
   "cell_type": "code",
   "execution_count": 15,
   "id": "3cb993bb-427d-4181-b630-331ba4b1f970",
   "metadata": {
    "papermill": {
     "duration": 0.295035,
     "end_time": "2021-08-25T04:30:57.344235",
     "exception": false,
     "start_time": "2021-08-25T04:30:57.049200",
     "status": "completed"
    },
    "tags": []
   },
   "outputs": [
    {
     "name": "stdout",
     "output_type": "stream",
     "text": [
      "RMSE of the test set: 2.0283947993280735\n",
      "R^2 of the test set: 0.6342326635967441\n"
     ]
    }
   ],
   "source": [
    "print(\"RMSE of the test set:\", np.sqrt(mean_squared_error(Y_test, preds_LM_test)))\n",
    "print(\"R^2 of the test set:\", r2_score(Y_test, preds_LM_test))"
   ]
  },
  {
   "cell_type": "code",
   "execution_count": 16,
   "id": "c228299d-c84c-4218-839a-5f5b9422f010",
   "metadata": {
    "papermill": {
     "duration": 0.040683,
     "end_time": "2021-08-25T04:30:55.028165",
     "exception": false,
     "start_time": "2021-08-25T04:30:54.987482",
     "status": "completed"
    },
    "tags": []
   },
   "outputs": [
    {
     "name": "stdout",
     "output_type": "stream",
     "text": [
      "Mean Absolute Error: 1.4455687233320378\n",
      "Mean Squared Error: 4.1143854619411755\n",
      "Dollar Mean Squared Error: 5.610483353695106e+20\n"
     ]
    }
   ],
   "source": [
    "print('Mean Absolute Error:', metrics.mean_absolute_error(Y_test, preds_LM_test))  \n",
    "print('Mean Squared Error:', mean_squared_error(Y_test, preds_LM_test))\n",
    "print('Dollar Mean Squared Error:', mean_squared_error(np.exp(Y_test), np.exp(preds_LM_test)))  "
   ]
  },
  {
   "cell_type": "markdown",
   "id": "8ef95a54-1665-41a1-8495-a60d4a5ea881",
   "metadata": {
    "papermill": {
     "duration": 0.023734,
     "end_time": "2021-08-25T04:30:55.074967",
     "exception": false,
     "start_time": "2021-08-25T04:30:55.051233",
     "status": "completed"
    },
    "tags": []
   },
   "source": [
    "## Light GBM"
   ]
  },
  {
   "cell_type": "code",
   "execution_count": 17,
   "id": "217c2af6-ce0a-434a-bf19-a5f65cedc355",
   "metadata": {},
   "outputs": [],
   "source": [
    "Y_train = train_agg_smp[['ln.Tot_IFF_t']]\n",
    "X_train = train_agg_smp[features]\n",
    "Y_test = test_agg_smp[['ln.Tot_IFF_t']]\n",
    "X_test = test_agg_smp[features]"
   ]
  },
  {
   "cell_type": "code",
   "execution_count": 18,
   "id": "357fe607-33d1-4ad1-a266-74c0fefda200",
   "metadata": {
    "papermill": {
     "duration": 0.020547,
     "end_time": "2021-08-25T04:30:55.112011",
     "exception": false,
     "start_time": "2021-08-25T04:30:55.091464",
     "status": "completed"
    },
    "tags": []
   },
   "outputs": [],
   "source": [
    "lightGBM_train = lgb.Dataset(X_train, Y_train)\n",
    "lightGBM_test = lgb.Dataset(X_test, Y_test)"
   ]
  },
  {
   "cell_type": "code",
   "execution_count": 19,
   "id": "78d8f53c-faeb-49f1-b7ad-3d31a6fb8e97",
   "metadata": {
    "papermill": {
     "duration": 1.909577,
     "end_time": "2021-08-25T04:30:57.034838",
     "exception": false,
     "start_time": "2021-08-25T04:30:55.125261",
     "status": "completed"
    },
    "tags": []
   },
   "outputs": [
    {
     "name": "stdout",
     "output_type": "stream",
     "text": [
      "Training until validation scores don't improve for 50 rounds\n",
      "Early stopping, best iteration is:\n",
      "[299]\ttrain's rmse: 0.756709\ttest's rmse: 1.33498\n"
     ]
    }
   ],
   "source": [
    "params = {\n",
    "    'objective' : 'regression',\n",
    "    'metric' : 'rmse',\n",
    "    'num_leaves' : 100,\n",
    "    'max_depth': 10,\n",
    "    'learning_rate' : 0.1,\n",
    "    'feature_fraction' : 0.6,\n",
    "    'verbosity' : -1\n",
    "}\n",
    "lightGBM_mod = lgb.train(\n",
    "    params,\n",
    "    lightGBM_train,\n",
    "    500,\n",
    "    valid_sets = [lightGBM_train, lightGBM_test],\n",
    "    valid_names = [\"train\", \"test\"],\n",
    "    early_stopping_rounds = 50,\n",
    "    verbose_eval = 500\n",
    ")"
   ]
  },
  {
   "cell_type": "code",
   "execution_count": 20,
   "id": "fa979ff7-2bfa-45b9-90a3-586b98265885",
   "metadata": {
    "papermill": {
     "duration": 0.161112,
     "end_time": "2021-08-25T04:30:57.996472",
     "exception": false,
     "start_time": "2021-08-25T04:30:57.835360",
     "status": "completed"
    },
    "tags": []
   },
   "outputs": [],
   "source": [
    "preds_lightGBM_train = pd.DataFrame(lightGBM_mod.predict(X_train))\n",
    "preds_lightGBM_test = pd.DataFrame(lightGBM_mod.predict(X_test))"
   ]
  },
  {
   "cell_type": "code",
   "execution_count": 21,
   "id": "93e9d44a-dc72-470c-8791-eb37221bfed6",
   "metadata": {
    "papermill": {
     "duration": 0.024682,
     "end_time": "2021-08-25T04:30:58.037404",
     "exception": false,
     "start_time": "2021-08-25T04:30:58.012722",
     "status": "completed"
    },
    "tags": []
   },
   "outputs": [],
   "source": [
    "feather.write_feather(preds_lightGBM_train, results_dir + 'preds.lightGBM.train_agg.feather')\n",
    "feather.write_feather(preds_lightGBM_test, results_dir + 'preds.lightGBM.test_agg.feather')"
   ]
  },
  {
   "cell_type": "code",
   "execution_count": 22,
   "id": "d8df4914-dbce-4532-8cb2-bfb452610389",
   "metadata": {
    "papermill": {
     "duration": 0.295035,
     "end_time": "2021-08-25T04:30:57.344235",
     "exception": false,
     "start_time": "2021-08-25T04:30:57.049200",
     "status": "completed"
    },
    "tags": []
   },
   "outputs": [
    {
     "name": "stdout",
     "output_type": "stream",
     "text": [
      "RMSE of the training set: 0.756708998795843\n",
      "R^2 of the training set: 0.9508594016041788\n"
     ]
    }
   ],
   "source": [
    "print(\"RMSE of the training set:\", np.sqrt(mean_squared_error(Y_train, preds_lightGBM_train)))\n",
    "print(\"R^2 of the training set:\", r2_score(Y_train, preds_lightGBM_train))"
   ]
  },
  {
   "cell_type": "code",
   "execution_count": 23,
   "id": "091b14b2-4c65-4dd3-a637-40403bc9f772",
   "metadata": {
    "papermill": {
     "duration": 0.295035,
     "end_time": "2021-08-25T04:30:57.344235",
     "exception": false,
     "start_time": "2021-08-25T04:30:57.049200",
     "status": "completed"
    },
    "tags": []
   },
   "outputs": [
    {
     "name": "stdout",
     "output_type": "stream",
     "text": [
      "RMSE of the test set: 1.3349810501290316\n",
      "R^2 of the test set: 0.8415653587002359\n"
     ]
    }
   ],
   "source": [
    "print(\"RMSE of the test set:\", np.sqrt(mean_squared_error(Y_test, preds_lightGBM_test)))\n",
    "print(\"R^2 of the test set:\", r2_score(Y_test, preds_lightGBM_test))"
   ]
  },
  {
   "cell_type": "code",
   "execution_count": 24,
   "id": "1df252cc-2d7d-40f3-9bce-ccb275ec1c3a",
   "metadata": {
    "papermill": {
     "duration": 0.462821,
     "end_time": "2021-08-25T04:30:57.820356",
     "exception": false,
     "start_time": "2021-08-25T04:30:57.357535",
     "status": "completed"
    },
    "tags": []
   },
   "outputs": [
    {
     "data": {
      "image/png": "[encoded data removed]",
      "text/plain": [
       "<Figure size 720x720 with 1 Axes>"
      ]
     },
     "metadata": {
      "needs_background": "light"
     },
     "output_type": "display_data"
    }
   ],
   "source": [
    "fig, ax = plt.subplots(figsize = (10,10))\n",
    "lgb.plot_importance(lightGBM_mod, height = 0.8, ax = ax)\n",
    "ax.grid(False)\n",
    "plt.title(\"LightGBM - Feature Importance\", fontsize = 15)\n",
    "plt.show()"
   ]
  },
  {
   "cell_type": "markdown",
   "id": "f740ea20-aebd-45dd-9725-6656e0287aac",
   "metadata": {},
   "source": [
    "## Neural Networks"
   ]
  },
  {
   "cell_type": "code",
   "execution_count": null,
   "id": "8f6a5338-8227-4a55-9696-6c0f78826b31",
   "metadata": {},
   "outputs": [],
   "source": [
    "Y_train = train_agg_smp[['ln.Tot_IFF']]\n",
    "X_train = train_agg_smp[features]\n",
    "Y_test = test_agg_smp[['ln.Tot_IFF']]\n",
    "X_test = test_agg_smp[features]"
   ]
  },
  {
   "cell_type": "code",
   "execution_count": null,
   "id": "e4323aed-87af-4ed5-bbb0-bc9b4304176d",
   "metadata": {},
   "outputs": [],
   "source": [
    "std_sc = StandardScaler()\n",
    "NN_train = std_sc.fit_transform(X_train)\n",
    "NN_test = std_sc.transform(X_test)"
   ]
  },
  {
   "cell_type": "code",
   "execution_count": null,
   "id": "291db1e3-52dc-4283-a4c1-513390b32875",
   "metadata": {
    "tags": []
   },
   "outputs": [],
   "source": [
    "NN_mod = MLPRegressor(hidden_layer_sizes = (10),\n",
    "                      activation = \"logistic\",\n",
    "                      random_state = 1, \n",
    "                      max_iter = 1000).fit(NN_train, Y_train.values.ravel())"
   ]
  },
  {
   "cell_type": "code",
   "execution_count": null,
   "id": "83904370-9308-4cc0-9672-bab7e0f0968e",
   "metadata": {},
   "outputs": [],
   "source": [
    "preds_NN_train = NN_mod.predict(NN_train)\n",
    "preds_NN_test = NN_mod.predict(NN_test)"
   ]
  },
  {
   "cell_type": "code",
   "execution_count": null,
   "id": "4511d9d0-8785-4fd0-81ce-3fc60fedbed7",
   "metadata": {},
   "outputs": [],
   "source": [
    "feather.write_feather(pd.DataFrame(preds_NN_train), results_dir + 'preds.NN.train_agg.feather')\n",
    "feather.write_feather(pd.DataFrame(preds_NN_test), results_dir + 'preds.NN.test_agg.feather')"
   ]
  },
  {
   "cell_type": "code",
   "execution_count": null,
   "id": "6ae8f1a6-89c2-4f42-b6bb-4d996a534fa0",
   "metadata": {},
   "outputs": [],
   "source": [
    "print(\"RMSE of the training set:\", np.sqrt(mean_squared_error(Y_train, preds_NN_train)))\n",
    "print(\"R^2 of the training set:\", r2_score(Y_train, preds_NN_train))"
   ]
  },
  {
   "cell_type": "code",
   "execution_count": null,
   "id": "dff9934d-7b0c-4f24-8876-57bc2d57792f",
   "metadata": {
    "papermill": {
     "duration": 0.295035,
     "end_time": "2021-08-25T04:30:57.344235",
     "exception": false,
     "start_time": "2021-08-25T04:30:57.049200",
     "status": "completed"
    },
    "tags": []
   },
   "outputs": [],
   "source": [
    "print(\"RMSE of the test set:\", np.sqrt(mean_squared_error(Y_test, preds_NN_test)))\n",
    "print(\"R^2 of the test set:\", r2_score(Y_test, preds_NN_test))"
   ]
  },
  {
   "cell_type": "markdown",
   "id": "7c56947b-4442-4fd6-8d36-1bc9cd34663f",
   "metadata": {},
   "source": [
    "### Tuning hyperparameters"
   ]
  },
  {
   "cell_type": "code",
   "execution_count": null,
   "id": "556adf38-f70f-475a-ac1b-8f3d68831875",
   "metadata": {},
   "outputs": [],
   "source": [
    "NN = MLPRegressor(max_iter = 1000)\n",
    "parameter_space = {\n",
    "    'hidden_layer_sizes': [(10,20)],\n",
    "    'activation': ['logistic', 'relu'],\n",
    "    #'solver': ['sgd', 'adam'],\n",
    "    #'alpha': [0.0001, 0.05],\n",
    "    #'learning_rate': ['constant','adaptive'],\n",
    "}"
   ]
  },
  {
   "cell_type": "code",
   "execution_count": null,
   "id": "9a5a3d53-c2a3-4aa8-9983-c3560bf6e976",
   "metadata": {},
   "outputs": [],
   "source": [
    "NN_mod_tuned = GridSearchCV(NN, parameter_space, n_jobs = -1, cv = 3)"
   ]
  },
  {
   "cell_type": "code",
   "execution_count": null,
   "id": "135e7771-458a-41c2-8eeb-a74199e7d2a2",
   "metadata": {},
   "outputs": [],
   "source": [
    "NN_mod_tuned.fit(NN_train, Y_train.values.ravel())"
   ]
  },
  {
   "cell_type": "code",
   "execution_count": null,
   "id": "b18e4362-f1a8-4cfa-bb51-55ef44fdd692",
   "metadata": {},
   "outputs": [],
   "source": [
    "print('Best parameters found:\\n', NN_mod_tuned.best_params_)"
   ]
  },
  {
   "cell_type": "code",
   "execution_count": null,
   "id": "aa7996e5-616f-4123-bd56-a9a72c749a72",
   "metadata": {},
   "outputs": [],
   "source": [
    "# All results\n",
    "means = NN_mod_tuned.cv_results_['mean_test_score']\n",
    "stds = NN_mod_tuned.cv_results_['std_test_score']\n",
    "for mean, std, params in zip(means, stds, NN_mod_tuned.cv_results_['params']):\n",
    "    print(\"%0.3f (+/-%0.03f) for %r\" % (mean, std * 2, params))"
   ]
  },
  {
   "cell_type": "code",
   "execution_count": null,
   "id": "d1a394bb-977b-45b4-b072-7e04b69fdba0",
   "metadata": {},
   "outputs": [],
   "source": [
    "preds_NN_train = NN_mod_tuned.predict(NN_train)\n",
    "preds_NN_test = NN_mod_tuned.predict(NN_test)"
   ]
  },
  {
   "cell_type": "code",
   "execution_count": null,
   "id": "82df7e77-fa56-49c5-97b7-834df4d24103",
   "metadata": {},
   "outputs": [],
   "source": [
    "feather.write_feather(pd.DataFrame(preds_NN_train), results_dir + 'preds.NN.train_agg.feather')\n",
    "feather.write_feather(pd.DataFrame(preds_NN_test), results_dir + 'preds.NN.test_agg.feather')"
   ]
  },
  {
   "cell_type": "code",
   "execution_count": null,
   "id": "aa239306-a191-47dd-aace-c5302c85ace0",
   "metadata": {},
   "outputs": [],
   "source": [
    "print(\"RMSE of the training set:\", np.sqrt(mean_squared_error(Y_train, preds_NN_train)))\n",
    "print(\"R^2 of the training set:\", r2_score(Y_train, preds_NN_train))"
   ]
  },
  {
   "cell_type": "code",
   "execution_count": null,
   "id": "1aae62e4-4e53-4bb0-9a75-fa982d7c20cb",
   "metadata": {
    "papermill": {
     "duration": 0.295035,
     "end_time": "2021-08-25T04:30:57.344235",
     "exception": false,
     "start_time": "2021-08-25T04:30:57.049200",
     "status": "completed"
    },
    "tags": []
   },
   "outputs": [],
   "source": [
    "print(\"RMSE of the test set:\", np.sqrt(mean_squared_error(Y_test, preds_NN_test)))\n",
    "print(\"R^2 of the test set:\", r2_score(Y_test, preds_NN_test))"
   ]
  },
  {
   "cell_type": "markdown",
   "id": "c8ae901a-2c79-4b41-a8fe-3bb62d571e7b",
   "metadata": {},
   "source": [
    "## Support Vector Machine"
   ]
  },
  {
   "cell_type": "code",
   "execution_count": null,
   "id": "462e7b05-9ad0-42fe-811e-b9df2787dd9e",
   "metadata": {},
   "outputs": [],
   "source": [
    "SVM_mod = svm.SVR()\n",
    "SVM_mod.fit(X_train, Y_train.values.ravel())"
   ]
  },
  {
   "cell_type": "code",
   "execution_count": null,
   "id": "0b181af9-2544-4728-b9e4-21bc1f54abb0",
   "metadata": {},
   "outputs": [],
   "source": [
    "preds_SVM_train = SVM_mod.predict(X_train)\n",
    "preds_SVM_test = SVM_mod.predict(X_test)"
   ]
  },
  {
   "cell_type": "code",
   "execution_count": null,
   "id": "e33a3529-3773-478b-8218-a2321a37807b",
   "metadata": {},
   "outputs": [],
   "source": [
    "feather.write_feather(pd.DataFrame(preds_SVM_train), results_dir + 'preds.SVM.train_agg.feather')\n",
    "feather.write_feather(pd.DataFrame(preds_SVM_test), results_dir + 'preds.SVM.test_agg.feather')"
   ]
  },
  {
   "cell_type": "code",
   "execution_count": null,
   "id": "f4d395d6-d76e-4292-8c8f-6006ec6c459d",
   "metadata": {},
   "outputs": [],
   "source": [
    "print(\"RMSE of the training set:\", np.sqrt(mean_squared_error(Y_train, preds_SVM_train)))\n",
    "print(\"R^2 of the training set:\", r2_score(Y_train, preds_SVM_train))"
   ]
  },
  {
   "cell_type": "code",
   "execution_count": null,
   "id": "dbb68fd7-8089-4f61-aecc-174d32847b4b",
   "metadata": {
    "papermill": {
     "duration": 0.295035,
     "end_time": "2021-08-25T04:30:57.344235",
     "exception": false,
     "start_time": "2021-08-25T04:30:57.049200",
     "status": "completed"
    },
    "tags": []
   },
   "outputs": [],
   "source": [
    "print(\"RMSE of the test set:\", np.sqrt(mean_squared_error(Y_test, preds_SVM_test)))\n",
    "print(\"R^2 of the test set:\", r2_score(Y_test, preds_SVM_test))"
   ]
  },
  {
   "cell_type": "markdown",
   "id": "50f9b539-e070-4e6f-8941-68faf427afe2",
   "metadata": {},
   "source": [
    "## Random Forests"
   ]
  },
  {
   "cell_type": "code",
   "execution_count": null,
   "id": "5556592f-f801-45bb-bb1c-67d9f1710024",
   "metadata": {},
   "outputs": [],
   "source": [
    "RF_mod = RandomForestRegressor(max_depth = 10, random_state = 1)\n",
    "RF_mod.fit(X_train, Y_train.values.ravel())"
   ]
  },
  {
   "cell_type": "code",
   "execution_count": null,
   "id": "bb6d4f7f-b93a-4b24-b691-f5717fb34cea",
   "metadata": {},
   "outputs": [],
   "source": [
    "preds_RF_train = RF_mod.predict(X_train)\n",
    "preds_RF_test = RF_mod.predict(X_test)"
   ]
  },
  {
   "cell_type": "code",
   "execution_count": null,
   "id": "52136ead-9ace-4aef-8eaa-b02b19d0e259",
   "metadata": {},
   "outputs": [],
   "source": [
    "feather.write_feather(pd.DataFrame(preds_RF_train), results_dir + 'preds.RF.train_agg.feather')\n",
    "feather.write_feather(pd.DataFrame(preds_RF_test), results_dir + 'preds.RF.test_agg.feather')"
   ]
  },
  {
   "cell_type": "code",
   "execution_count": null,
   "id": "21eac590-c2e5-460f-b693-e235c51ecdad",
   "metadata": {},
   "outputs": [],
   "source": [
    "print(\"RMSE of the training set:\", np.sqrt(mean_squared_error(Y_train, preds_RF_train)))\n",
    "print(\"R^2 of the training set:\", r2_score(Y_train, preds_RF_train))"
   ]
  },
  {
   "cell_type": "code",
   "execution_count": null,
   "id": "32fcd47d-5f3e-42b5-98b1-157bc04f0a15",
   "metadata": {
    "papermill": {
     "duration": 0.295035,
     "end_time": "2021-08-25T04:30:57.344235",
     "exception": false,
     "start_time": "2021-08-25T04:30:57.049200",
     "status": "completed"
    },
    "tags": []
   },
   "outputs": [],
   "source": [
    "print(\"RMSE of the test set:\", np.sqrt(mean_squared_error(Y_test, preds_RF_test)))\n",
    "print(\"R^2 of the test set:\", r2_score(Y_test, preds_RF_test))"
   ]
  }
 ],
 "metadata": {
  "kernelspec": {
   "display_name": "Python 3 (ipykernel)",
   "language": "python",
   "name": "python3"
  },
  "language_info": {
   "codemirror_mode": {
    "name": "ipython",
    "version": 3
   },
   "file_extension": ".py",
   "mimetype": "text/x-python",
   "name": "python",
   "nbconvert_exporter": "python",
   "pygments_lexer": "ipython3",
   "version": "3.9.6"
  },
  "papermill": {
   "default_parameters": {},
   "duration": 8.293491,
   "end_time": "2021-08-25T04:30:59.376719",
   "environment_variables": {},
   "exception": null,
   "input_path": "Scripts/Predictions.ipynb",
   "output_path": "Scripts/Predictions.ipynb",
   "parameters": {},
   "start_time": "2021-08-25T04:30:51.083228",
   "version": "2.3.3"
  },
  "toc": {
   "base_numbering": 1,
   "nav_menu": {},
   "number_sections": true,
   "sideBar": true,
   "skip_h1_title": true,
   "title_cell": "Table of Contents",
   "title_sidebar": "Contents",
   "toc_cell": false,
   "toc_position": {},
   "toc_section_display": true,
   "toc_window_display": true
  }
 },
 "nbformat": 4,
 "nbformat_minor": 5
}
