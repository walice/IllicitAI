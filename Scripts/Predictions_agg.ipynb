{
 "cells": [
  {
   "cell_type": "markdown",
   "id": "0dcbfa94-b9c5-435b-9f89-6f5b4c43be46",
   "metadata": {
    "papermill": {
     "duration": 0.012854,
     "end_time": "2021-08-25T04:30:52.046180",
     "exception": false,
     "start_time": "2021-08-25T04:30:52.033326",
     "status": "completed"
    },
    "tags": []
   },
   "source": [
    "# Predictions"
   ]
  },
  {
   "cell_type": "markdown",
   "id": "99c44811-2186-4277-911a-ff940e34ff01",
   "metadata": {
    "papermill": {
     "duration": 0.012582,
     "end_time": "2021-08-25T04:30:52.072441",
     "exception": false,
     "start_time": "2021-08-25T04:30:52.059859",
     "status": "completed"
    },
    "tags": []
   },
   "source": [
    "## Data wrangling"
   ]
  },
  {
   "cell_type": "code",
   "execution_count": 16,
   "id": "d2f5d343-55f4-43d0-9b14-5d79fc7094ee",
   "metadata": {
    "papermill": {
     "duration": 1.90378,
     "end_time": "2021-08-25T04:30:53.987733",
     "exception": false,
     "start_time": "2021-08-25T04:30:52.083953",
     "status": "completed"
    },
    "tags": []
   },
   "outputs": [],
   "source": [
    "# Preamble\n",
    "import pandas as pd\n",
    "import numpy as np\n",
    "pd.set_option(\"mode.chained_assignment\", None)\n",
    "import random\n",
    "random.seed(1509)\n",
    "import matplotlib.pyplot as plt\n",
    "import lightgbm as lgb\n",
    "import pyarrow.feather as feather\n",
    "from os import chdir, getcwd\n",
    "import statsmodels.api as sm\n",
    "\n",
    "# sci-kit\n",
    "from sklearn.linear_model import LinearRegression\n",
    "from sklearn.neural_network import MLPRegressor\n",
    "from sklearn.ensemble import RandomForestRegressor\n",
    "from sklearn import svm\n",
    "from sklearn.preprocessing import StandardScaler\n",
    "from sklearn.model_selection import GridSearchCV\n",
    "from sklearn import metrics\n",
    "from sklearn.metrics import r2_score\n",
    "from sklearn.metrics import mean_squared_error\n",
    "from sklearn import tree"
   ]
  },
  {
   "cell_type": "code",
   "execution_count": 2,
   "id": "6cbed92b-623c-4293-9927-1ae51e505de2",
   "metadata": {
    "papermill": {
     "duration": 0.019207,
     "end_time": "2021-08-25T04:30:54.023305",
     "exception": false,
     "start_time": "2021-08-25T04:30:54.004098",
     "status": "completed"
    },
    "tags": []
   },
   "outputs": [],
   "source": [
    "data_dir = '/home/jovyan/work/Data/'\n",
    "results_dir = '/home/jovyan/work/Results/'"
   ]
  },
  {
   "cell_type": "code",
   "execution_count": 3,
   "id": "aa5789cf-f1d7-4d3d-a2a3-6568a164c189",
   "metadata": {},
   "outputs": [],
   "source": [
    "select_features = ['reporter.ISO', 'partner.ISO', 'year',\n",
    "                   'ln.Tot_IFF_t', 'ln.In_Tot_IFF_t',\n",
    "                   'ln.gdp_o', 'ln.gdp_d', 'ln.pop_o', 'ln.pop_d', \n",
    "                   'dist', 'contig', \n",
    "                   'comlang', 'comcol', 'col45', \n",
    "                   'ihs.entry_cost_o', 'ihs.entry_cost_d', 'rta',\n",
    "                   'rCorrCont', 'pCorrCont',\n",
    "                   'rRegQual', 'pRegQual', \n",
    "                   'rRuleLaw', 'pRuleLaw',\n",
    "                   'rSecrecyScore', 'pSecrecyScore',\n",
    "                   'rFSI.rank', 'pFSI.rank',\n",
    "                   'rKFSI13', 'pKFSI13',\n",
    "                   'rKFSI17', 'pKFSI17',\n",
    "                   'rKFSI20', 'pKFSI20',\n",
    "                   'rFATF', 'pFATF',\n",
    "                   'ihs.tariff',\n",
    "                   'kai_o', 'kai_d', 'kao_o', 'kao_d',\n",
    "                   'cc_o', 'cc_d', 'cci_o', 'cci_d', 'cco_o', 'cco_d',\n",
    "                   'di_o', 'di_d', 'dii_o', 'dii_d', 'dio_o', 'dio_d']\n",
    "features = [       'ln.gdp_o', 'ln.gdp_d', 'ln.pop_o', 'ln.pop_d', \n",
    "                   'dist', 'contig', \n",
    "                   'comlang', 'comcol', 'col45', \n",
    "                   'ihs.entry_cost_o', 'ihs.entry_cost_d', 'rta',\n",
    "                   'rCorrCont', 'pCorrCont',\n",
    "                   'rRegQual', 'pRegQual', \n",
    "                   'rRuleLaw', 'pRuleLaw',\n",
    "                   'rSecrecyScore', 'pSecrecyScore',\n",
    "                   'rFSI.rank', 'pFSI.rank',\n",
    "                   'rKFSI13', 'pKFSI13',\n",
    "                   'rKFSI17', 'pKFSI17',\n",
    "                   'rKFSI20', 'pKFSI20',\n",
    "                   'rFATF', 'pFATF',\n",
    "                   'ihs.tariff',\n",
    "                   'kai_o', 'kai_d', 'kao_o', 'kao_d',\n",
    "                   'cc_o', 'cc_d', 'cci_o', 'cci_d', 'cco_o', 'cco_d',\n",
    "                   'di_o', 'di_d', 'dii_o', 'dii_d', 'dio_o', 'dio_d']"
   ]
  },
  {
   "cell_type": "markdown",
   "id": "a6cbf9da-0af7-4d89-9227-d63c9f5e9b04",
   "metadata": {
    "papermill": {
     "duration": 0.011902,
     "end_time": "2021-08-25T04:30:54.080630",
     "exception": false,
     "start_time": "2021-08-25T04:30:54.068728",
     "status": "completed"
    },
    "tags": []
   },
   "source": [
    "## Subset from training and test samples"
   ]
  },
  {
   "cell_type": "code",
   "execution_count": 4,
   "id": "33ac487b-644b-4af0-a233-1bedf9b5a998",
   "metadata": {
    "papermill": {
     "duration": 0.198678,
     "end_time": "2021-08-25T04:30:54.291158",
     "exception": false,
     "start_time": "2021-08-25T04:30:54.092480",
     "status": "completed"
    },
    "tags": []
   },
   "outputs": [],
   "source": [
    "train_agg = feather.read_feather(results_dir + 'train_agg.feather')\n",
    "test_agg = feather.read_feather(results_dir + 'test_agg.feather')"
   ]
  },
  {
   "cell_type": "code",
   "execution_count": 5,
   "id": "d0c5dcdb-b4bd-41ad-866f-d7c825166f23",
   "metadata": {},
   "outputs": [],
   "source": [
    "def create_smp(data, features):\n",
    "    \"\"\"\n",
    "    Create train and test samples that are complete.\n",
    "    \"\"\"\n",
    "    smp = data[features]\n",
    "    smp.dropna(axis=0, how='any', inplace=True)\n",
    "    return smp"
   ]
  },
  {
   "cell_type": "code",
   "execution_count": 6,
   "id": "bf7ed85f-c229-46f8-b066-8b845fc60be6",
   "metadata": {},
   "outputs": [],
   "source": [
    "train_agg_smp = create_smp(train_agg, select_features)\n",
    "test_agg_smp = create_smp(test_agg, select_features)"
   ]
  },
  {
   "cell_type": "code",
   "execution_count": 7,
   "id": "8bc33b86-f009-4ac6-81c6-1fdce1bdafbc",
   "metadata": {
    "papermill": {
     "duration": 0.030357,
     "end_time": "2021-08-25T04:30:54.432522",
     "exception": false,
     "start_time": "2021-08-25T04:30:54.402165",
     "status": "completed"
    },
    "tags": []
   },
   "outputs": [],
   "source": [
    "feather.write_feather(train_agg_smp, results_dir + 'train_agg_smp.feather')\n",
    "feather.write_feather(test_agg_smp, results_dir + 'test_agg_smp.feather')"
   ]
  },
  {
   "cell_type": "code",
   "execution_count": 8,
   "id": "1cf54c33-88da-44d5-878c-926ad6c6d9cd",
   "metadata": {
    "papermill": {
     "duration": 0.023873,
     "end_time": "2021-08-25T04:30:54.469044",
     "exception": false,
     "start_time": "2021-08-25T04:30:54.445171",
     "status": "completed"
    },
    "tags": []
   },
   "outputs": [],
   "source": [
    "Y_train_out = train_agg_smp[['ln.Tot_IFF_t']]\n",
    "Y_train_in = train_agg_smp[['ln.In_Tot_IFF_t']]\n",
    "X_train = train_agg_smp[features]\n",
    "Y_test_out = test_agg_smp[['ln.Tot_IFF_t']]\n",
    "Y_test_in = test_agg_smp[['ln.In_Tot_IFF_t']]\n",
    "X_test = test_agg_smp[features]"
   ]
  },
  {
   "cell_type": "code",
   "execution_count": 9,
   "id": "fbaff0be-6136-415c-9c11-b1f1e62d3a0c",
   "metadata": {},
   "outputs": [
    {
     "name": "stdout",
     "output_type": "stream",
     "text": [
      "X_train:  (26512, 47) \n",
      "X_test:  (6341, 47)\n"
     ]
    }
   ],
   "source": [
    "print('X_train: ', X_train.shape, '\\nX_test: ',  X_test.shape)"
   ]
  },
  {
   "cell_type": "markdown",
   "id": "51afba86-15dc-4121-b287-b2858a51389b",
   "metadata": {
    "papermill": {
     "duration": 0.011466,
     "end_time": "2021-08-25T04:30:54.492337",
     "exception": false,
     "start_time": "2021-08-25T04:30:54.480871",
     "status": "completed"
    },
    "tags": []
   },
   "source": [
    "## Linear regression"
   ]
  },
  {
   "cell_type": "code",
   "execution_count": null,
   "id": "139e74e4-3543-459d-9488-33a700c40a2b",
   "metadata": {
    "papermill": {
     "duration": 0.037,
     "end_time": "2021-08-25T04:30:54.540674",
     "exception": false,
     "start_time": "2021-08-25T04:30:54.503674",
     "status": "completed"
    },
    "tags": []
   },
   "outputs": [],
   "source": [
    "linear_mod_out = LinearRegression()  \n",
    "linear_mod_out.fit(X_train.values, Y_train_out.values)"
   ]
  },
  {
   "cell_type": "code",
   "execution_count": null,
   "id": "63f20a44-a031-4061-951d-567235db6d1f",
   "metadata": {},
   "outputs": [],
   "source": [
    "linear_mod_in = LinearRegression()  \n",
    "linear_mod_in.fit(X_train.values, Y_train_in.values)"
   ]
  },
  {
   "cell_type": "code",
   "execution_count": null,
   "id": "ebd838fc-d161-42c6-bcb2-34265c0044a9",
   "metadata": {
    "papermill": {
     "duration": 0.034715,
     "end_time": "2021-08-25T04:30:54.596530",
     "exception": false,
     "start_time": "2021-08-25T04:30:54.561815",
     "status": "completed"
    },
    "tags": []
   },
   "outputs": [],
   "source": [
    "print(linear_mod_out.intercept_)\n",
    "print(linear_mod_out.coef_)"
   ]
  },
  {
   "cell_type": "code",
   "execution_count": null,
   "id": "51bfb9c6-856f-4c92-85f4-46bb055e788f",
   "metadata": {
    "papermill": {
     "duration": 0.034715,
     "end_time": "2021-08-25T04:30:54.596530",
     "exception": false,
     "start_time": "2021-08-25T04:30:54.561815",
     "status": "completed"
    },
    "tags": []
   },
   "outputs": [],
   "source": [
    "print(linear_mod_in.intercept_)\n",
    "print(linear_mod_in.coef_)"
   ]
  },
  {
   "cell_type": "code",
   "execution_count": null,
   "id": "3238d645-0834-4f5f-a4e9-ec27d7ac58b3",
   "metadata": {
    "papermill": {
     "duration": 0.289043,
     "end_time": "2021-08-25T04:30:54.907396",
     "exception": false,
     "start_time": "2021-08-25T04:30:54.618353",
     "status": "completed"
    },
    "tags": []
   },
   "outputs": [],
   "source": [
    "Xconst = sm.add_constant(X_train)\n",
    "est = sm.OLS(Y_train_out, Xconst)\n",
    "est2 = est.fit()\n",
    "print(est2.summary())"
   ]
  },
  {
   "cell_type": "code",
   "execution_count": null,
   "id": "548c5979-cb95-4010-97cc-b1352007b938",
   "metadata": {},
   "outputs": [],
   "source": [
    "Xconst = sm.add_constant(X_train)\n",
    "est = sm.OLS(Y_train_in, Xconst)\n",
    "est2 = est.fit()\n",
    "print(est2.summary())"
   ]
  },
  {
   "cell_type": "code",
   "execution_count": null,
   "id": "7e6e9b13-5423-42ee-93b4-a26df5e213d9",
   "metadata": {
    "papermill": {
     "duration": 0.035714,
     "end_time": "2021-08-25T04:30:54.966104",
     "exception": false,
     "start_time": "2021-08-25T04:30:54.930390",
     "status": "completed"
    },
    "tags": []
   },
   "outputs": [],
   "source": [
    "preds_LM_train_out = linear_mod_out.predict(X_train)\n",
    "preds_LM_test_out = linear_mod_out.predict(X_test)"
   ]
  },
  {
   "cell_type": "code",
   "execution_count": null,
   "id": "7ebbd45f-3469-4e54-829a-2e0242cf6d1c",
   "metadata": {
    "papermill": {
     "duration": 0.035714,
     "end_time": "2021-08-25T04:30:54.966104",
     "exception": false,
     "start_time": "2021-08-25T04:30:54.930390",
     "status": "completed"
    },
    "tags": []
   },
   "outputs": [],
   "source": [
    "preds_LM_train_in = linear_mod_in.predict(X_train)\n",
    "preds_LM_test_in = linear_mod_in.predict(X_test)"
   ]
  },
  {
   "cell_type": "code",
   "execution_count": null,
   "id": "20c84e50-70f4-4f78-b046-89abca108c02",
   "metadata": {},
   "outputs": [],
   "source": [
    "feather.write_feather(pd.DataFrame(preds_LM_train_out), results_dir + 'preds.LM.train_out_agg.feather')\n",
    "feather.write_feather(pd.DataFrame(preds_LM_test_out), results_dir + 'preds.LM.test_out_agg.feather')"
   ]
  },
  {
   "cell_type": "code",
   "execution_count": null,
   "id": "b8534754-dac6-42c5-af67-351df8ce9bb7",
   "metadata": {},
   "outputs": [],
   "source": [
    "feather.write_feather(pd.DataFrame(preds_LM_train_in), results_dir + 'preds.LM.train_in_agg.feather')\n",
    "feather.write_feather(pd.DataFrame(preds_LM_test_in), results_dir + 'preds.LM.test_in_agg.feather')"
   ]
  },
  {
   "cell_type": "code",
   "execution_count": null,
   "id": "a6e4edc9-1ecf-4572-8e1b-1c0208729f1a",
   "metadata": {
    "papermill": {
     "duration": 0.295035,
     "end_time": "2021-08-25T04:30:57.344235",
     "exception": false,
     "start_time": "2021-08-25T04:30:57.049200",
     "status": "completed"
    },
    "tags": []
   },
   "outputs": [],
   "source": [
    "print(\"RMSE of the training set (outflows):\", np.sqrt(mean_squared_error(Y_train_out, preds_LM_train_out)))\n",
    "print(\"R^2 of the training set (outflows):\", r2_score(Y_train_out, preds_LM_train_out))\n",
    "print(\"RMSE of the test set (outflows):\", np.sqrt(mean_squared_error(Y_test_out, preds_LM_test_out)))\n",
    "print(\"R^2 of the test set (outflows):\", r2_score(Y_test_out, preds_LM_test_out))"
   ]
  },
  {
   "cell_type": "code",
   "execution_count": null,
   "id": "33ded127-d107-4d35-84b4-4efcd318249f",
   "metadata": {
    "papermill": {
     "duration": 0.295035,
     "end_time": "2021-08-25T04:30:57.344235",
     "exception": false,
     "start_time": "2021-08-25T04:30:57.049200",
     "status": "completed"
    },
    "tags": []
   },
   "outputs": [],
   "source": [
    "print(\"RMSE of the training set (inflows):\", np.sqrt(mean_squared_error(Y_train_in, preds_LM_train_in)))\n",
    "print(\"R^2 of the training set (inflows):\", r2_score(Y_train_in, preds_LM_train_in))\n",
    "print(\"RMSE of the test set (inflows):\", np.sqrt(mean_squared_error(Y_test_in, preds_LM_test_in)))\n",
    "print(\"R^2 of the test set (inflows):\", r2_score(Y_test_in, preds_LM_test_in))"
   ]
  },
  {
   "cell_type": "code",
   "execution_count": null,
   "id": "522f38b2",
   "metadata": {
    "scrolled": true
   },
   "outputs": [],
   "source": [
    "print('Mean Absolute Error (outflows):', metrics.mean_absolute_error(Y_test_out, preds_LM_test_out))  \n",
    "print('Mean Squared Error of the training set (outflows):', mean_squared_error(Y_train_out, preds_LM_train_out))\n",
    "print('Mean Squared Error of the test set (outflows):', mean_squared_error(Y_test_out, preds_LM_test_out))\n",
    "print('Dollar RMSE of the training set (outflows):', np.mean(np.square((np.exp(Y_train_out.values)*10**3 - np.exp(preds_LM_train_out)*10**3))) / 10**9)\n",
    "print('Dollar RMSE of the test set (outflows):', np.mean(np.square((np.exp(Y_test_out.values)*10**3 - np.exp(preds_LM_test_out)*10**3))) / 10**6)"
   ]
  },
  {
   "cell_type": "code",
   "execution_count": null,
   "id": "6fd4b8c0-8d5f-49c9-a511-a70be10269b2",
   "metadata": {
    "papermill": {
     "duration": 0.040683,
     "end_time": "2021-08-25T04:30:55.028165",
     "exception": false,
     "start_time": "2021-08-25T04:30:54.987482",
     "status": "completed"
    },
    "scrolled": true,
    "tags": []
   },
   "outputs": [],
   "source": [
    "print('Mean Absolute Error (inflows):', metrics.mean_absolute_error(Y_test_in, preds_LM_test_in))\n",
    "print('Mean Squared Error of the training set (inflows):', mean_squared_error(Y_train_in, preds_LM_train_in))\n",
    "print('Mean Squared Error of the test set (inflows):', mean_squared_error(Y_test_in, preds_LM_test_in))\n",
    "print('Dollar RMSE of the test set (inflows):', np.mean(np.square((np.exp(Y_train_in.values)*10**3 - np.exp(preds_LM_train_in)*10**3))) / 10**9)\n",
    "print('Dollar RMSE of the test set (inflows):', np.mean(np.square((np.exp(Y_test_in.values)*10**3 - np.exp(preds_LM_test_in)*10**3))) / 10**9)"
   ]
  },
  {
   "cell_type": "markdown",
   "id": "50f9b539-e070-4e6f-8941-68faf427afe2",
   "metadata": {},
   "source": [
    "## Random Forests"
   ]
  },
  {
   "cell_type": "code",
   "execution_count": 12,
   "id": "5556592f-f801-45bb-bb1c-67d9f1710024",
   "metadata": {},
   "outputs": [
    {
     "data": {
      "text/plain": [
       "RandomForestRegressor(max_depth=10, random_state=1509)"
      ]
     },
     "execution_count": 12,
     "metadata": {},
     "output_type": "execute_result"
    }
   ],
   "source": [
    "RF_mod_out = RandomForestRegressor(max_depth = 10, random_state = 1509)\n",
    "RF_mod_out.fit(X_train, Y_train_out.values.ravel())"
   ]
  },
  {
   "cell_type": "code",
   "execution_count": 13,
   "id": "3a062aa8-f872-448e-a05e-1e42b88bad23",
   "metadata": {},
   "outputs": [
    {
     "data": {
      "text/plain": [
       "RandomForestRegressor(max_depth=10, random_state=1509)"
      ]
     },
     "execution_count": 13,
     "metadata": {},
     "output_type": "execute_result"
    }
   ],
   "source": [
    "RF_mod_in = RandomForestRegressor(max_depth = 10, random_state = 1509)\n",
    "RF_mod_in.fit(X_train, Y_train_in.values.ravel())"
   ]
  },
  {
   "cell_type": "code",
   "execution_count": 91,
   "id": "3364ba3a-cb69-49bc-bb08-e8e88d0c3177",
   "metadata": {},
   "outputs": [
    {
     "data": {
      "image/png": "[encoded data removed]",
      "text/plain": [
       "<Figure size 720x720 with 1 Axes>"
      ]
     },
     "metadata": {
      "needs_background": "light"
     },
     "output_type": "display_data"
    }
   ],
   "source": [
    "feat_importances = pd.Series(RF_mod_out.feature_importances_, index=X_train.columns)\n",
    "#feat_importances.nlargest(20).plot(kind='barh')\n",
    "indices = np.argsort(-1*feat_importances)\n",
    "names = [X_train.columns[i] for i in indices]\n",
    "fig, ax = plt.subplots(figsize = (10, 10))\n",
    "plt.barh(range(X_train.shape[1]), feat_importances[indices], color = 'red')\n",
    "plt.yticks(range(X_train.shape[1]), names, fontsize = 12)\n",
    "plt.gca().invert_yaxis()\n",
    "ax.set_xlabel('Feature importance')\n",
    "plt.title(\"Random Forest - Feature importance for illicit outflows\", fontsize = 16)\n",
    "plt.savefig(results_dir + 'RF_feature_importance_out.png')"
   ]
  },
  {
   "cell_type": "code",
   "execution_count": 90,
   "id": "239dcb53-c801-41a0-b79d-d4cfc503e215",
   "metadata": {},
   "outputs": [
    {
     "data": {
      "image/png": "[encoded data removed]",
      "text/plain": [
       "<Figure size 720x720 with 1 Axes>"
      ]
     },
     "metadata": {
      "needs_background": "light"
     },
     "output_type": "display_data"
    }
   ],
   "source": [
    "feat_importances = pd.Series(RF_mod_in.feature_importances_, index=X_train.columns)\n",
    "#feat_importances.nlargest(46).plot(kind='barh')\n",
    "indices = np.argsort(-1*feat_importances)\n",
    "names = [X_train.columns[i] for i in indices]\n",
    "fig, ax = plt.subplots(figsize = (10, 10))\n",
    "plt.barh(range(X_train.shape[1]), feat_importances[indices], color = 'red')\n",
    "plt.yticks(range(X_train.shape[1]), names, fontsize = 12)\n",
    "plt.gca().invert_yaxis()\n",
    "ax.set_xlabel('Feature importance')\n",
    "plt.title(\"Random Forest - Feature importance for illicit inflows\", fontsize = 16)\n",
    "plt.savefig(results_dir + 'RF_feature_importance_in.png')"
   ]
  },
  {
   "cell_type": "code",
   "execution_count": null,
   "id": "881e425e-8fc1-4272-b438-3cc9609be66a",
   "metadata": {
    "tags": []
   },
   "outputs": [],
   "source": [
    "tree.export_graphviz(RF_mod_out.estimators_[0])"
   ]
  },
  {
   "cell_type": "code",
   "execution_count": null,
   "id": "7a405ec3-781c-43a5-a9a8-0c773ab9d7e2",
   "metadata": {},
   "outputs": [],
   "source": [
    "tree.plot_tree(RF_mod_out.estimators_[0])"
   ]
  },
  {
   "cell_type": "code",
   "execution_count": null,
   "id": "bb6d4f7f-b93a-4b24-b691-f5717fb34cea",
   "metadata": {},
   "outputs": [],
   "source": [
    "preds_RF_train_out = RF_mod_out.predict(X_train)\n",
    "preds_RF_test_out = RF_mod_out.predict(X_test)"
   ]
  },
  {
   "cell_type": "code",
   "execution_count": null,
   "id": "92e9f3f4-c5c8-42f0-86b8-f4332c95e0db",
   "metadata": {},
   "outputs": [],
   "source": [
    "preds_RF_train_in = RF_mod_in.predict(X_train)\n",
    "preds_RF_test_in = RF_mod_in.predict(X_test)"
   ]
  },
  {
   "cell_type": "code",
   "execution_count": null,
   "id": "52136ead-9ace-4aef-8eaa-b02b19d0e259",
   "metadata": {},
   "outputs": [],
   "source": [
    "feather.write_feather(pd.DataFrame(preds_RF_train_out), results_dir + 'preds.RF.train_out_agg.feather')\n",
    "feather.write_feather(pd.DataFrame(preds_RF_test_out), results_dir + 'preds.RF.test_out_agg.feather')"
   ]
  },
  {
   "cell_type": "code",
   "execution_count": null,
   "id": "50fcb669-2ee7-4ce8-b4bb-da0c290c2f00",
   "metadata": {},
   "outputs": [],
   "source": [
    "feather.write_feather(pd.DataFrame(preds_RF_train_in), results_dir + 'preds.RF.train_in_agg.feather')\n",
    "feather.write_feather(pd.DataFrame(preds_RF_test_in), results_dir + 'preds.RF.test_in_agg.feather')"
   ]
  },
  {
   "cell_type": "code",
   "execution_count": null,
   "id": "72d6c5cb-f39c-4ac4-8085-78962f82643a",
   "metadata": {
    "papermill": {
     "duration": 0.295035,
     "end_time": "2021-08-25T04:30:57.344235",
     "exception": false,
     "start_time": "2021-08-25T04:30:57.049200",
     "status": "completed"
    },
    "tags": []
   },
   "outputs": [],
   "source": [
    "print(\"RMSE of the training set (outflows):\", np.sqrt(mean_squared_error(Y_train_out, preds_RF_train_out)))\n",
    "print(\"R^2 of the training set (outflows):\", r2_score(Y_train_out, preds_RF_train_out))\n",
    "print(\"RMSE of the test set (outflows):\", np.sqrt(mean_squared_error(Y_test_out, preds_RF_test_out)))\n",
    "print(\"R^2 of the test set (outflows):\", r2_score(Y_test_out, preds_RF_test_out))"
   ]
  },
  {
   "cell_type": "code",
   "execution_count": null,
   "id": "f3df0397-98f5-43b2-b6cc-82429c1b7bc5",
   "metadata": {},
   "outputs": [],
   "source": [
    "print(\"RMSE of the training set (inflows):\", np.sqrt(mean_squared_error(Y_train_in, preds_RF_train_in)))\n",
    "print(\"R^2 of the training set (inflows):\", r2_score(Y_train_in, preds_RF_train_in))\n",
    "print(\"RMSE of the test set (inflows):\", np.sqrt(mean_squared_error(Y_test_in, preds_RF_test_in)))\n",
    "print(\"R^2 of the test set (inflows):\", r2_score(Y_test_in, preds_RF_test_in))"
   ]
  },
  {
   "cell_type": "code",
   "execution_count": null,
   "id": "5cf03290-1dc7-44f2-bb87-0484939cf1b2",
   "metadata": {},
   "outputs": [],
   "source": [
    "print('Mean Absolute Error (outflows):', metrics.mean_absolute_error(Y_test_out, preds_RF_test_out))\n",
    "print('Mean Squared Error of the training set (outflows):', mean_squared_error(Y_train_out, preds_RF_train_out))\n",
    "print('Mean Squared Error of the test set (outflows):', mean_squared_error(Y_test_out, preds_RF_test_out))\n",
    "print('Dollar RMSE of the training set (outflows):', np.mean(np.square((np.exp(Y_train_out.values) - np.exp(preds_RF_train_out)))))\n",
    "print('Dollar RMSE of the test set (outflows):', np.mean(np.square((np.exp(Y_test_out.values) - np.exp(preds_RF_test_out)))))"
   ]
  },
  {
   "cell_type": "code",
   "execution_count": null,
   "id": "e7fed726-f1b5-4b40-9fa5-77b591ce46a6",
   "metadata": {},
   "outputs": [],
   "source": [
    "print('Mean Absolute Error (inflows):', metrics.mean_absolute_error(Y_test_in, preds_RF_test_in))  \n",
    "print('Mean Squared Error of the training set (inflows):', mean_squared_error(Y_train_in, preds_RF_train_in))\n",
    "print('Mean Squared Error of the test set (inflows):', mean_squared_error(Y_test_in, preds_RF_test_in))\n",
    "#print('Dollar RMSE of the training set (inflows):', np.mean(np.square(np.exp(Y_train_in.values)/10**3 - np.exp(preds_RF_train_in)/10**3)))\n",
    "#print('Dollar RMSE of the test set (inflows):', np.mean(np.square(np.exp(Y_test_in.values)/10**3 - np.exp(preds_RF_test_in)/10**3)))"
   ]
  },
  {
   "cell_type": "markdown",
   "id": "b1562274",
   "metadata": {
    "papermill": {
     "duration": 0.023734,
     "end_time": "2021-08-25T04:30:55.074967",
     "exception": false,
     "start_time": "2021-08-25T04:30:55.051233",
     "status": "completed"
    },
    "tags": []
   },
   "source": [
    "## Light GBM"
   ]
  },
  {
   "cell_type": "code",
   "execution_count": 85,
   "id": "c6a76a8b",
   "metadata": {
    "papermill": {
     "duration": 0.020547,
     "end_time": "2021-08-25T04:30:55.112011",
     "exception": false,
     "start_time": "2021-08-25T04:30:55.091464",
     "status": "completed"
    },
    "tags": []
   },
   "outputs": [],
   "source": [
    "lightGBM_train_out = lgb.Dataset(X_train, Y_train_out)\n",
    "lightGBM_test_out = lgb.Dataset(X_test, Y_test_out)\n",
    "lightGBM_train_in = lgb.Dataset(X_train, Y_train_in)\n",
    "lightGBM_test_in = lgb.Dataset(X_test, Y_test_in)"
   ]
  },
  {
   "cell_type": "code",
   "execution_count": 86,
   "id": "21a10b8a",
   "metadata": {
    "papermill": {
     "duration": 1.909577,
     "end_time": "2021-08-25T04:30:57.034838",
     "exception": false,
     "start_time": "2021-08-25T04:30:55.125261",
     "status": "completed"
    },
    "tags": []
   },
   "outputs": [
    {
     "name": "stdout",
     "output_type": "stream",
     "text": [
      "Training until validation scores don't improve for 50 rounds\n",
      "Early stopping, best iteration is:\n",
      "[439]\ttrain's rmse: 0.619447\ttest's rmse: 1.2811\n"
     ]
    }
   ],
   "source": [
    "params = {\n",
    "    'objective' : 'regression',\n",
    "    'metric' : 'rmse',\n",
    "    'num_leaves' : 100,\n",
    "    'max_depth': 10,\n",
    "    'learning_rate' : 0.1,\n",
    "    'feature_fraction' : 0.6,\n",
    "    'verbosity' : -1,\n",
    "    'random_state' : 1509\n",
    "}\n",
    "lightGBM_mod_out = lgb.train(\n",
    "    params,\n",
    "    lightGBM_train_out,\n",
    "    500,\n",
    "    valid_sets = [lightGBM_train_out, lightGBM_test_out],\n",
    "    valid_names = [\"train\", \"test\"],\n",
    "    early_stopping_rounds = 50,\n",
    "    verbose_eval = 500\n",
    ")"
   ]
  },
  {
   "cell_type": "code",
   "execution_count": 87,
   "id": "4dba9d36",
   "metadata": {},
   "outputs": [
    {
     "name": "stdout",
     "output_type": "stream",
     "text": [
      "Training until validation scores don't improve for 50 rounds\n",
      "Early stopping, best iteration is:\n",
      "[295]\ttrain's rmse: 0.758735\ttest's rmse: 1.4808\n"
     ]
    }
   ],
   "source": [
    "params = {\n",
    "    'objective' : 'regression',\n",
    "    'metric' : 'rmse',\n",
    "    'num_leaves' : 100,\n",
    "    'max_depth': 10,\n",
    "    'learning_rate' : 0.1,\n",
    "    'feature_fraction' : 0.6,\n",
    "    'verbosity' : -1,\n",
    "    'random_state' : 1509\n",
    "}\n",
    "lightGBM_mod_in = lgb.train(\n",
    "    params,\n",
    "    lightGBM_train_in,\n",
    "    500,\n",
    "    valid_sets = [lightGBM_train_in, lightGBM_test_in],\n",
    "    valid_names = [\"train\", \"test\"],\n",
    "    early_stopping_rounds = 50,\n",
    "    verbose_eval = 500\n",
    ")"
   ]
  },
  {
   "cell_type": "code",
   "execution_count": null,
   "id": "155c4e14",
   "metadata": {
    "papermill": {
     "duration": 0.161112,
     "end_time": "2021-08-25T04:30:57.996472",
     "exception": false,
     "start_time": "2021-08-25T04:30:57.835360",
     "status": "completed"
    },
    "tags": []
   },
   "outputs": [],
   "source": [
    "preds_lightGBM_train_out = pd.DataFrame(lightGBM_mod_out.predict(X_train))\n",
    "preds_lightGBM_test_out = pd.DataFrame(lightGBM_mod_out.predict(X_test))"
   ]
  },
  {
   "cell_type": "code",
   "execution_count": null,
   "id": "bb66fbab",
   "metadata": {},
   "outputs": [],
   "source": [
    "preds_lightGBM_train_in = pd.DataFrame(lightGBM_mod_in.predict(X_train))\n",
    "preds_lightGBM_test_in = pd.DataFrame(lightGBM_mod_in.predict(X_test))"
   ]
  },
  {
   "cell_type": "code",
   "execution_count": null,
   "id": "7737bf27",
   "metadata": {
    "papermill": {
     "duration": 0.024682,
     "end_time": "2021-08-25T04:30:58.037404",
     "exception": false,
     "start_time": "2021-08-25T04:30:58.012722",
     "status": "completed"
    },
    "tags": []
   },
   "outputs": [],
   "source": [
    "feather.write_feather(preds_lightGBM_train_out, results_dir + 'preds.lightGBM.train_out_agg.feather')\n",
    "feather.write_feather(preds_lightGBM_test_out, results_dir + 'preds.lightGBM.test_out_agg.feather')"
   ]
  },
  {
   "cell_type": "code",
   "execution_count": null,
   "id": "ef229528",
   "metadata": {},
   "outputs": [],
   "source": [
    "feather.write_feather(preds_lightGBM_train_in, results_dir + 'preds.lightGBM.train_in_agg.feather')\n",
    "feather.write_feather(preds_lightGBM_test_in, results_dir + 'preds.lightGBM.test_in_agg.feather')"
   ]
  },
  {
   "cell_type": "code",
   "execution_count": null,
   "id": "1bf6d0a6",
   "metadata": {
    "papermill": {
     "duration": 0.295035,
     "end_time": "2021-08-25T04:30:57.344235",
     "exception": false,
     "start_time": "2021-08-25T04:30:57.049200",
     "status": "completed"
    },
    "tags": []
   },
   "outputs": [],
   "source": [
    "print(\"RMSE of the training set (outflows):\", np.sqrt(mean_squared_error(Y_train_out, preds_lightGBM_train_out)))\n",
    "print(\"R^2 of the training set (outflows):\", r2_score(Y_train_out, preds_lightGBM_train_out))\n",
    "print(\"RMSE of the test set (outflows):\", np.sqrt(mean_squared_error(Y_test_out, preds_lightGBM_test_out)))\n",
    "print(\"R^2 of the test set (outflows):\", r2_score(Y_test_out, preds_lightGBM_test_out))"
   ]
  },
  {
   "cell_type": "code",
   "execution_count": null,
   "id": "28599536",
   "metadata": {
    "scrolled": true
   },
   "outputs": [],
   "source": [
    "print(\"RMSE of the training set (inflows):\", np.sqrt(mean_squared_error(Y_train_in, preds_lightGBM_train_in)))\n",
    "print(\"R^2 of the training set (inflows):\", r2_score(Y_train_in, preds_lightGBM_train_in))\n",
    "print(\"RMSE of the test set (inflows):\", np.sqrt(mean_squared_error(Y_test_in, preds_lightGBM_test_in)))\n",
    "print(\"R^2 of the test set (inflows):\", r2_score(Y_test_in, preds_lightGBM_test_in))"
   ]
  },
  {
   "cell_type": "code",
   "execution_count": null,
   "id": "f65b515c",
   "metadata": {},
   "outputs": [],
   "source": [
    "print('Mean Absolute Error (outflows):', metrics.mean_absolute_error(Y_test_out, preds_lightGBM_test_out))\n",
    "print('Mean Squared Error of the training set (outflows):', mean_squared_error(Y_train_out, preds_lightGBM_train_out))\n",
    "print('Mean Squared Error of the test set (outflows):', mean_squared_error(Y_test_out, preds_lightGBM_test_out))\n",
    "#print('Dollar RMSE of the training set (outflows):', np.mean(np.square(np.exp(Y_train_out.values)*10**3 - np.exp(preds_lightGBM_train_out)*10**3)) / 10**6)\n",
    "#print('Dollar RMSE of the test set (outflows):', np.mean(np.square(np.exp(Y_test_out.values)*10**3 - np.exp(preds_lightGBM_test_out)*10**3)) / 10**6)"
   ]
  },
  {
   "cell_type": "code",
   "execution_count": null,
   "id": "41d60f8e",
   "metadata": {},
   "outputs": [],
   "source": [
    "print('Mean Absolute Error (inflows):', metrics.mean_absolute_error(Y_test_in, preds_lightGBM_test_in))\n",
    "print('Mean Squared Error of the training set (inflows):', mean_squared_error(Y_train_in, preds_lightGBM_train_in))\n",
    "print('Mean Squared Error of the test set (inflows):', mean_squared_error(Y_test_in, preds_lightGBM_test_in))\n",
    "#print('Dollar RMSE of the training set (inflows):', np.mean(np.square(np.exp(Y_train_in.values)/10**3 - np.exp(preds_lightGBM_train_in)/10**3)))\n",
    "#print('Dollar RMSE of the test set (inflows):', np.mean(np.square(np.exp(Y_test_in.values)/10**3 - np.exp(preds_lightGBM_test_in)/10**3)))"
   ]
  },
  {
   "cell_type": "code",
   "execution_count": 88,
   "id": "9622c0b0",
   "metadata": {
    "papermill": {
     "duration": 0.462821,
     "end_time": "2021-08-25T04:30:57.820356",
     "exception": false,
     "start_time": "2021-08-25T04:30:57.357535",
     "status": "completed"
    },
    "tags": []
   },
   "outputs": [
    {
     "data": {
      "image/png": "[encoded data removed]",
      "text/plain": [
       "<Figure size 720x720 with 1 Axes>"
      ]
     },
     "metadata": {
      "needs_background": "light"
     },
     "output_type": "display_data"
    }
   ],
   "source": [
    "fig, ax = plt.subplots(figsize = (10, 10))\n",
    "lgb.plot_importance(lightGBM_mod_out, height = 0.8, ax = ax)\n",
    "ax.grid(False)\n",
    "plt.title(\"LightGBM - Feature importance for illicit outflows\", fontsize = 16)\n",
    "plt.savefig(results_dir + 'LightGBM_feature_importance_out.png')"
   ]
  },
  {
   "cell_type": "code",
   "execution_count": 89,
   "id": "b5dc5581",
   "metadata": {
    "papermill": {
     "duration": 0.462821,
     "end_time": "2021-08-25T04:30:57.820356",
     "exception": false,
     "start_time": "2021-08-25T04:30:57.357535",
     "status": "completed"
    },
    "tags": []
   },
   "outputs": [
    {
     "data": {
      "image/png": "[encoded data removed]",
      "text/plain": [
       "<Figure size 720x720 with 1 Axes>"
      ]
     },
     "metadata": {
      "needs_background": "light"
     },
     "output_type": "display_data"
    }
   ],
   "source": [
    "fig, ax = plt.subplots(figsize = (10,10))\n",
    "lgb.plot_importance(lightGBM_mod_in, height = 0.8, ax = ax)\n",
    "ax.grid(False)\n",
    "plt.title(\"LightGBM - Feature importance for illicit inflows\", fontsize = 16)\n",
    "plt.savefig(results_dir + 'LightGBM_feature_importance_in.png')"
   ]
  },
  {
   "cell_type": "markdown",
   "id": "94310759-1589-4b81-8ca1-3a7a4683b892",
   "metadata": {},
   "source": [
    "## Support Vector Machine"
   ]
  },
  {
   "cell_type": "code",
   "execution_count": null,
   "id": "abcfd779-0faa-4276-b78d-a30c2e58c985",
   "metadata": {},
   "outputs": [],
   "source": [
    "SVM_mod = svm.SVR()\n",
    "SVM_mod.fit(X_train, Y_train.values.ravel())"
   ]
  },
  {
   "cell_type": "code",
   "execution_count": null,
   "id": "89d54095-7607-4358-ad0c-3d542d4767ce",
   "metadata": {},
   "outputs": [],
   "source": [
    "preds_SVM_train = SVM_mod.predict(X_train)\n",
    "preds_SVM_test = SVM_mod.predict(X_test)"
   ]
  },
  {
   "cell_type": "code",
   "execution_count": null,
   "id": "842505a8-c615-4f2b-9ca9-ad4cdb6314f4",
   "metadata": {},
   "outputs": [],
   "source": [
    "feather.write_feather(pd.DataFrame(preds_SVM_train), results_dir + 'preds.SVM.train_agg.feather')\n",
    "feather.write_feather(pd.DataFrame(preds_SVM_test), results_dir + 'preds.SVM.test_agg.feather')"
   ]
  },
  {
   "cell_type": "code",
   "execution_count": null,
   "id": "b0d088ee-6350-48ce-aa23-09a95f1cc6f0",
   "metadata": {},
   "outputs": [],
   "source": [
    "print(\"RMSE of the training set:\", np.sqrt(mean_squared_error(Y_train, preds_SVM_train)))\n",
    "print(\"R^2 of the training set:\", r2_score(Y_train, preds_SVM_train))"
   ]
  },
  {
   "cell_type": "code",
   "execution_count": null,
   "id": "043c8b61-fdae-450c-8e76-7fb75c4418ad",
   "metadata": {
    "papermill": {
     "duration": 0.295035,
     "end_time": "2021-08-25T04:30:57.344235",
     "exception": false,
     "start_time": "2021-08-25T04:30:57.049200",
     "status": "completed"
    },
    "tags": []
   },
   "outputs": [],
   "source": [
    "print(\"RMSE of the test set:\", np.sqrt(mean_squared_error(Y_test, preds_SVM_test)))\n",
    "print(\"R^2 of the test set:\", r2_score(Y_test, preds_SVM_test))"
   ]
  },
  {
   "cell_type": "markdown",
   "id": "7a0ef060-aa01-4029-8610-2969bbec8029",
   "metadata": {},
   "source": [
    "## Neural Networks"
   ]
  },
  {
   "cell_type": "code",
   "execution_count": null,
   "id": "1705a77b-05ce-4032-9b91-c999a2948912",
   "metadata": {},
   "outputs": [],
   "source": [
    "Y_train = train_agg_smp[['Tot_IFF_t']]\n",
    "X_train = train_agg_smp[features]\n",
    "Y_test = test_agg_smp[['Tot_IFF_t']]\n",
    "X_test = test_agg_smp[features]"
   ]
  },
  {
   "cell_type": "code",
   "execution_count": null,
   "id": "45e0fecf-42c9-4c58-baaa-f97fd09a375d",
   "metadata": {},
   "outputs": [],
   "source": [
    "std_sc = StandardScaler()\n",
    "NN_train = std_sc.fit_transform(X_train)\n",
    "NN_test = std_sc.transform(X_test)"
   ]
  },
  {
   "cell_type": "code",
   "execution_count": null,
   "id": "0cf14354-ebee-4465-9fa1-09349daebca7",
   "metadata": {
    "tags": []
   },
   "outputs": [],
   "source": [
    "NN_mod = MLPRegressor(hidden_layer_sizes = (10),\n",
    "                      activation = \"logistic\",\n",
    "                      random_state = 1, \n",
    "                      max_iter = 1000).fit(NN_train, Y_train.values.ravel())"
   ]
  },
  {
   "cell_type": "code",
   "execution_count": null,
   "id": "c443a9f0-4ab7-4aca-a993-b4db34307f24",
   "metadata": {},
   "outputs": [],
   "source": [
    "preds_NN_train = NN_mod.predict(NN_train)\n",
    "preds_NN_test = NN_mod.predict(NN_test)"
   ]
  },
  {
   "cell_type": "code",
   "execution_count": null,
   "id": "f15770c9-a899-4efb-9774-681863925c9b",
   "metadata": {},
   "outputs": [],
   "source": [
    "feather.write_feather(pd.DataFrame(preds_NN_train), results_dir + 'preds.NN.train_agg.feather')\n",
    "feather.write_feather(pd.DataFrame(preds_NN_test), results_dir + 'preds.NN.test_agg.feather')"
   ]
  },
  {
   "cell_type": "code",
   "execution_count": null,
   "id": "b69aff8e-ef6b-443f-a661-c09da937fd73",
   "metadata": {},
   "outputs": [],
   "source": [
    "print(\"RMSE of the training set:\", np.sqrt(mean_squared_error(Y_train, preds_NN_train)))\n",
    "print(\"R^2 of the training set:\", r2_score(Y_train, preds_NN_train))"
   ]
  },
  {
   "cell_type": "code",
   "execution_count": null,
   "id": "44dbe499-b30c-4a08-8494-a5412ed598fe",
   "metadata": {
    "papermill": {
     "duration": 0.295035,
     "end_time": "2021-08-25T04:30:57.344235",
     "exception": false,
     "start_time": "2021-08-25T04:30:57.049200",
     "status": "completed"
    },
    "tags": []
   },
   "outputs": [],
   "source": [
    "print(\"RMSE of the test set:\", np.sqrt(mean_squared_error(Y_test, preds_NN_test)))\n",
    "print(\"R^2 of the test set:\", r2_score(Y_test, preds_NN_test))"
   ]
  },
  {
   "cell_type": "markdown",
   "id": "31d23caf-5455-4bfd-9d80-133874c3d4db",
   "metadata": {},
   "source": [
    "### Tuning hyperparameters"
   ]
  },
  {
   "cell_type": "code",
   "execution_count": null,
   "id": "e8c0f93a-8ef5-46f7-9eca-07cbac992d13",
   "metadata": {},
   "outputs": [],
   "source": [
    "NN = MLPRegressor(max_iter = 1000)\n",
    "parameter_space = {\n",
    "    'hidden_layer_sizes': [(10,20)],\n",
    "    'activation': ['logistic', 'relu'],\n",
    "    #'solver': ['sgd', 'adam'],\n",
    "    #'alpha': [0.0001, 0.05],\n",
    "    #'learning_rate': ['constant','adaptive'],\n",
    "}"
   ]
  },
  {
   "cell_type": "code",
   "execution_count": null,
   "id": "261f1028-87c7-4d70-a397-d70da481c9b1",
   "metadata": {},
   "outputs": [],
   "source": [
    "NN_mod_tuned = GridSearchCV(NN, parameter_space, n_jobs = -1, cv = 3)"
   ]
  },
  {
   "cell_type": "code",
   "execution_count": null,
   "id": "e91cceef-36c3-4a63-b137-84ba09be23be",
   "metadata": {},
   "outputs": [],
   "source": [
    "NN_mod_tuned.fit(NN_train, Y_train.values.ravel())"
   ]
  },
  {
   "cell_type": "code",
   "execution_count": null,
   "id": "128630b9-4723-458e-a583-471118068247",
   "metadata": {},
   "outputs": [],
   "source": [
    "print('Best parameters found:\\n', NN_mod_tuned.best_params_)"
   ]
  },
  {
   "cell_type": "code",
   "execution_count": null,
   "id": "5e80f1c2-8194-405c-a7b5-da2eb98b41d0",
   "metadata": {},
   "outputs": [],
   "source": [
    "# All results\n",
    "means = NN_mod_tuned.cv_results_['mean_test_score']\n",
    "stds = NN_mod_tuned.cv_results_['std_test_score']\n",
    "for mean, std, params in zip(means, stds, NN_mod_tuned.cv_results_['params']):\n",
    "    print(\"%0.3f (+/-%0.03f) for %r\" % (mean, std * 2, params))"
   ]
  },
  {
   "cell_type": "code",
   "execution_count": null,
   "id": "c2701d02-8992-44f5-86b9-a29fa3fac1dc",
   "metadata": {},
   "outputs": [],
   "source": [
    "preds_NN_train = NN_mod_tuned.predict(NN_train)\n",
    "preds_NN_test = NN_mod_tuned.predict(NN_test)"
   ]
  },
  {
   "cell_type": "code",
   "execution_count": null,
   "id": "fdbbceb2-71db-4344-9b03-667f8866233c",
   "metadata": {},
   "outputs": [],
   "source": [
    "feather.write_feather(pd.DataFrame(preds_NN_train), results_dir + 'preds.NN.train_agg.feather')\n",
    "feather.write_feather(pd.DataFrame(preds_NN_test), results_dir + 'preds.NN.test_agg.feather')"
   ]
  },
  {
   "cell_type": "code",
   "execution_count": null,
   "id": "363b0f8c-2d6c-4aef-b206-69b59329693c",
   "metadata": {},
   "outputs": [],
   "source": [
    "print(\"RMSE of the training set:\", np.sqrt(mean_squared_error(Y_train, preds_NN_train)))\n",
    "print(\"R^2 of the training set:\", r2_score(Y_train, preds_NN_train))"
   ]
  },
  {
   "cell_type": "code",
   "execution_count": null,
   "id": "7e86c305-607f-4091-8fea-918aab40f80e",
   "metadata": {
    "papermill": {
     "duration": 0.295035,
     "end_time": "2021-08-25T04:30:57.344235",
     "exception": false,
     "start_time": "2021-08-25T04:30:57.049200",
     "status": "completed"
    },
    "tags": []
   },
   "outputs": [],
   "source": [
    "print(\"RMSE of the test set:\", np.sqrt(mean_squared_error(Y_test, preds_NN_test)))\n",
    "print(\"R^2 of the test set:\", r2_score(Y_test, preds_NN_test))"
   ]
  }
 ],
 "metadata": {
  "kernelspec": {
   "display_name": "Python 3 (ipykernel)",
   "language": "python",
   "name": "python3"
  },
  "language_info": {
   "codemirror_mode": {
    "name": "ipython",
    "version": 3
   },
   "file_extension": ".py",
   "mimetype": "text/x-python",
   "name": "python",
   "nbconvert_exporter": "python",
   "pygments_lexer": "ipython3",
   "version": "3.9.6"
  },
  "papermill": {
   "default_parameters": {},
   "duration": 8.293491,
   "end_time": "2021-08-25T04:30:59.376719",
   "environment_variables": {},
   "exception": null,
   "input_path": "Scripts/Predictions.ipynb",
   "output_path": "Scripts/Predictions.ipynb",
   "parameters": {},
   "start_time": "2021-08-25T04:30:51.083228",
   "version": "2.3.3"
  },
  "toc": {
   "base_numbering": 1,
   "nav_menu": {},
   "number_sections": true,
   "sideBar": false,
   "skip_h1_title": true,
   "title_cell": "Table of Contents",
   "title_sidebar": "Contents",
   "toc_cell": false,
   "toc_position": {
    "height": "745px",
    "left": "177px",
    "top": "218px",
    "width": "165px"
   },
   "toc_section_display": false,
   "toc_window_display": true
  }
 },
 "nbformat": 4,
 "nbformat_minor": 5
}
