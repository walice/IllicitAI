{
 "cells": [
  {
   "cell_type": "markdown",
   "id": "0dcbfa94-b9c5-435b-9f89-6f5b4c43be46",
   "metadata": {
    "papermill": {
     "duration": 0.012854,
     "end_time": "2021-08-25T04:30:52.046180",
     "exception": false,
     "start_time": "2021-08-25T04:30:52.033326",
     "status": "completed"
    },
    "tags": []
   },
   "source": [
    "# Predictions"
   ]
  },
  {
   "cell_type": "markdown",
   "id": "99c44811-2186-4277-911a-ff940e34ff01",
   "metadata": {
    "papermill": {
     "duration": 0.012582,
     "end_time": "2021-08-25T04:30:52.072441",
     "exception": false,
     "start_time": "2021-08-25T04:30:52.059859",
     "status": "completed"
    },
    "tags": []
   },
   "source": [
    "## Data wrangling"
   ]
  },
  {
   "cell_type": "code",
   "execution_count": 1,
   "id": "d2f5d343-55f4-43d0-9b14-5d79fc7094ee",
   "metadata": {
    "papermill": {
     "duration": 1.90378,
     "end_time": "2021-08-25T04:30:53.987733",
     "exception": false,
     "start_time": "2021-08-25T04:30:52.083953",
     "status": "completed"
    },
    "tags": []
   },
   "outputs": [],
   "source": [
    "# Preamble\n",
    "import pandas as pd\n",
    "import numpy as np\n",
    "pd.set_option(\"mode.chained_assignment\", None)\n",
    "import random\n",
    "random.seed(1509)\n",
    "import matplotlib.pyplot as plt\n",
    "import lightgbm as lgb\n",
    "import pyarrow.feather as feather\n",
    "from os import chdir, getcwd\n",
    "import statsmodels.api as sm\n",
    "from pprint import pprint\n",
    "from nested_cv import NestedCV\n",
    "\n",
    "# sci-kit\n",
    "from sklearn.linear_model import LinearRegression\n",
    "from sklearn.neural_network import MLPRegressor\n",
    "from sklearn.ensemble import RandomForestRegressor\n",
    "from sklearn import svm\n",
    "from sklearn.preprocessing import StandardScaler\n",
    "from sklearn.model_selection import train_test_split, GridSearchCV, RandomizedSearchCV, cross_val_score, cross_val_predict\n",
    "from sklearn import metrics\n",
    "from sklearn.metrics import r2_score, mean_squared_error, explained_variance_score\n",
    "from sklearn import tree"
   ]
  },
  {
   "cell_type": "code",
   "execution_count": 2,
   "id": "6cbed92b-623c-4293-9927-1ae51e505de2",
   "metadata": {
    "papermill": {
     "duration": 0.019207,
     "end_time": "2021-08-25T04:30:54.023305",
     "exception": false,
     "start_time": "2021-08-25T04:30:54.004098",
     "status": "completed"
    },
    "tags": []
   },
   "outputs": [],
   "source": [
    "data_dir = '/home/jovyan/work/Data/'\n",
    "results_dir = '/home/jovyan/work/Results/'"
   ]
  },
  {
   "cell_type": "code",
   "execution_count": 3,
   "id": "aa5789cf-f1d7-4d3d-a2a3-6568a164c189",
   "metadata": {},
   "outputs": [],
   "source": [
    "# select_features = ['reporter.ISO', 'partner.ISO', 'year',\n",
    "#                    'ln.Tot_IFF_t', 'ln.In_Tot_IFF_t',\n",
    "#                    'ln.gdp_o', 'ln.gdp_d', 'ln.pop_o', 'ln.pop_d', \n",
    "#                    'dist', 'contig', \n",
    "#                    'comlang', 'comcol', 'col45', \n",
    "#                    'ihs.entry_cost_o', 'ihs.entry_cost_d', 'rta',\n",
    "#                    'rCorrCont', 'pCorrCont',\n",
    "#                    'rRegQual', 'pRegQual', \n",
    "#                    'rRuleLaw', 'pRuleLaw',\n",
    "#                    'rSecrecyScore', 'pSecrecyScore',\n",
    "#                    'rFSI.rank', 'pFSI.rank',\n",
    "#                    'rKFSI13', 'pKFSI13',\n",
    "#                    'rKFSI17', 'pKFSI17',\n",
    "#                    'rKFSI20', 'pKFSI20',\n",
    "#                    'rFATF', 'pFATF',\n",
    "#                    'ihs.tariff',\n",
    "#                    'kai_o', 'kai_d', 'kao_o', 'kao_d',\n",
    "#                    'cc_o', 'cc_d', 'cci_o', 'cci_d', 'cco_o', 'cco_d',\n",
    "#                    'di_o', 'di_d', 'dii_o', 'dii_d', 'dio_o', 'dio_d']\n",
    "select_features = ['reporter.ISO', 'partner.ISO', 'year',\n",
    "                   'ln.Tot_IFF_t', 'ln.In_Tot_IFF_t',\n",
    "                   'ln.gdp_o', 'ln.gdp_d', 'ln.pop_o', 'ln.pop_d', \n",
    "                   'dist', 'contig', \n",
    "                   'comlang', 'comcol', 'col45', \n",
    "                   'ihs.entry_cost_o', 'ihs.entry_cost_d', 'rta',\n",
    "                   'rCorrCont', 'pCorrCont',\n",
    "                   'rRegQual', 'pRegQual', \n",
    "                   'rRuleLaw', 'pRuleLaw',\n",
    "                   'pSecrecyScore',\n",
    "                   'pFSI.rank',\n",
    "                   'pKFSI13',\n",
    "                   'pKFSI17',\n",
    "                   'pKFSI20',\n",
    "                   'rFATF', 'pFATF',\n",
    "                   'ihs.tariff',\n",
    "                   'kai_o', 'kai_d', 'kao_o', 'kao_d',\n",
    "                   'cc_o', 'cc_d', 'cci_o', 'cci_d', 'cco_o', 'cco_d',\n",
    "                   'di_o', 'di_d', 'dii_o', 'dii_d', 'dio_o', 'dio_d']\n",
    "# features = [       'ln.gdp_o', 'ln.gdp_d', 'ln.pop_o', 'ln.pop_d', \n",
    "#                    'dist', 'contig', \n",
    "#                    'comlang', 'comcol', 'col45', \n",
    "#                    'ihs.entry_cost_o', 'ihs.entry_cost_d', 'rta',\n",
    "#                    'rCorrCont', 'pCorrCont',\n",
    "#                    'rRegQual', 'pRegQual', \n",
    "#                    'rRuleLaw', 'pRuleLaw',\n",
    "#                    'rSecrecyScore', 'pSecrecyScore',\n",
    "#                    'rFSI.rank', 'pFSI.rank',\n",
    "#                    'rKFSI13', 'pKFSI13',\n",
    "#                    'rKFSI17', 'pKFSI17',\n",
    "#                    'rKFSI20', 'pKFSI20',\n",
    "#                    'rFATF', 'pFATF',\n",
    "#                    'ihs.tariff',\n",
    "#                    'kai_o', 'kai_d', 'kao_o', 'kao_d',\n",
    "#                    'cc_o', 'cc_d', 'cci_o', 'cci_d', 'cco_o', 'cco_d',\n",
    "#                    'di_o', 'di_d', 'dii_o', 'dii_d', 'dio_o', 'dio_d']\n",
    "features = [       'ln.gdp_o', 'ln.gdp_d', 'ln.pop_o', 'ln.pop_d', \n",
    "                   'dist', 'contig', \n",
    "                   'comlang', 'comcol', 'col45', \n",
    "                   'ihs.entry_cost_o', 'ihs.entry_cost_d', 'rta',\n",
    "                   'rCorrCont', 'pCorrCont',\n",
    "                   'rRegQual', 'pRegQual', \n",
    "                   'rRuleLaw', 'pRuleLaw',\n",
    "                   'pSecrecyScore',\n",
    "                   'pFSI.rank',\n",
    "                   'pKFSI13',\n",
    "                   'pKFSI17',\n",
    "                   'pKFSI20',\n",
    "                   'rFATF', 'pFATF',\n",
    "                   'ihs.tariff',\n",
    "                   'kai_o', 'kai_d', 'kao_o', 'kao_d',\n",
    "                   'cc_o', 'cc_d', 'cci_o', 'cci_d', 'cco_o', 'cco_d',\n",
    "                   'di_o', 'di_d', 'dii_o', 'dii_d', 'dio_o', 'dio_d']"
   ]
  },
  {
   "cell_type": "markdown",
   "id": "a6cbf9da-0af7-4d89-9227-d63c9f5e9b04",
   "metadata": {
    "papermill": {
     "duration": 0.011902,
     "end_time": "2021-08-25T04:30:54.080630",
     "exception": false,
     "start_time": "2021-08-25T04:30:54.068728",
     "status": "completed"
    },
    "tags": []
   },
   "source": [
    "## Subset from training and test samples"
   ]
  },
  {
   "cell_type": "code",
   "execution_count": 4,
   "id": "33ac487b-644b-4af0-a233-1bedf9b5a998",
   "metadata": {
    "papermill": {
     "duration": 0.198678,
     "end_time": "2021-08-25T04:30:54.291158",
     "exception": false,
     "start_time": "2021-08-25T04:30:54.092480",
     "status": "completed"
    },
    "tags": []
   },
   "outputs": [],
   "source": [
    "train_agg = feather.read_feather(results_dir + 'train_agg.feather')\n",
    "test_agg = feather.read_feather(results_dir + 'test_agg.feather')"
   ]
  },
  {
   "cell_type": "code",
   "execution_count": 5,
   "id": "1fde298e-5a63-4156-ab1b-60d602b5ceac",
   "metadata": {},
   "outputs": [],
   "source": [
    "data = feather.read_feather(results_dir + 'panel_agg_trans.feather')"
   ]
  },
  {
   "cell_type": "code",
   "execution_count": 6,
   "id": "d0c5dcdb-b4bd-41ad-866f-d7c825166f23",
   "metadata": {},
   "outputs": [],
   "source": [
    "def create_smp(data, features):\n",
    "    \"\"\"\n",
    "    Create train and test samples that are complete.\n",
    "    \"\"\"\n",
    "    smp = data[features]\n",
    "    smp.dropna(axis=0, how='any', inplace=True)\n",
    "    return smp"
   ]
  },
  {
   "cell_type": "markdown",
   "id": "06000ef4-a2d9-4d96-bc75-9c35f1b68710",
   "metadata": {},
   "source": [
    "### Train/test split"
   ]
  },
  {
   "cell_type": "code",
   "execution_count": 7,
   "id": "bf7ed85f-c229-46f8-b066-8b845fc60be6",
   "metadata": {
    "tags": []
   },
   "outputs": [],
   "source": [
    "train_agg_smp = create_smp(train_agg, select_features)\n",
    "test_agg_smp = create_smp(test_agg, select_features)"
   ]
  },
  {
   "cell_type": "code",
   "execution_count": 8,
   "id": "8bc33b86-f009-4ac6-81c6-1fdce1bdafbc",
   "metadata": {
    "papermill": {
     "duration": 0.030357,
     "end_time": "2021-08-25T04:30:54.432522",
     "exception": false,
     "start_time": "2021-08-25T04:30:54.402165",
     "status": "completed"
    },
    "tags": []
   },
   "outputs": [],
   "source": [
    "feather.write_feather(train_agg_smp, results_dir + 'train_agg_smp.feather')\n",
    "feather.write_feather(test_agg_smp, results_dir + 'test_agg_smp.feather')"
   ]
  },
  {
   "cell_type": "code",
   "execution_count": 9,
   "id": "1cf54c33-88da-44d5-878c-926ad6c6d9cd",
   "metadata": {
    "papermill": {
     "duration": 0.023873,
     "end_time": "2021-08-25T04:30:54.469044",
     "exception": false,
     "start_time": "2021-08-25T04:30:54.445171",
     "status": "completed"
    },
    "tags": []
   },
   "outputs": [],
   "source": [
    "Y_train_out = train_agg_smp[['ln.Tot_IFF_t']]\n",
    "Y_train_in = train_agg_smp[['ln.In_Tot_IFF_t']]\n",
    "X_train = train_agg_smp[features]\n",
    "Y_test_out = test_agg_smp[['ln.Tot_IFF_t']]\n",
    "Y_test_in = test_agg_smp[['ln.In_Tot_IFF_t']]\n",
    "X_test = test_agg_smp[features]"
   ]
  },
  {
   "cell_type": "code",
   "execution_count": 10,
   "id": "fbaff0be-6136-415c-9c11-b1f1e62d3a0c",
   "metadata": {},
   "outputs": [
    {
     "name": "stdout",
     "output_type": "stream",
     "text": [
      "X_train:  (7716, 42) \n",
      "X_test:  (1952, 42)\n"
     ]
    }
   ],
   "source": [
    "print('X_train: ', X_train.shape, '\\nX_test: ',  X_test.shape)"
   ]
  },
  {
   "cell_type": "markdown",
   "id": "f6a3240e-6f61-4c42-930f-43c801694af4",
   "metadata": {},
   "source": [
    "### Full sample for cross-validation"
   ]
  },
  {
   "cell_type": "code",
   "execution_count": 11,
   "id": "b51ac6c8-48d2-4ce6-ae58-53f8c8112d82",
   "metadata": {},
   "outputs": [],
   "source": [
    "data_smp = create_smp(data, select_features)"
   ]
  },
  {
   "cell_type": "code",
   "execution_count": 12,
   "id": "93054b4b-2432-4ebd-844f-6461091406f6",
   "metadata": {},
   "outputs": [],
   "source": [
    "# feather.write_feather(Y_train_out, results_dir + 'Y_train_out.feather')\n",
    "# feather.write_feather(Y_test_out, results_dir + 'Y_test_out.feather')"
   ]
  },
  {
   "cell_type": "code",
   "execution_count": 13,
   "id": "162d5e90-06b2-418b-8e9c-143989679f34",
   "metadata": {},
   "outputs": [],
   "source": [
    "Y_out = data_smp[['ln.Tot_IFF_t']]\n",
    "Y_in = data_smp[['ln.In_Tot_IFF_t']]\n",
    "X = data_smp[features]"
   ]
  },
  {
   "cell_type": "code",
   "execution_count": 14,
   "id": "9d6b722e-b6a0-4b4d-a289-d3d20fe65e27",
   "metadata": {},
   "outputs": [
    {
     "name": "stdout",
     "output_type": "stream",
     "text": [
      "X:  (9668, 42)\n"
     ]
    }
   ],
   "source": [
    "print('X: ', X.shape)"
   ]
  },
  {
   "cell_type": "markdown",
   "id": "51afba86-15dc-4121-b287-b2858a51389b",
   "metadata": {
    "papermill": {
     "duration": 0.011466,
     "end_time": "2021-08-25T04:30:54.492337",
     "exception": false,
     "start_time": "2021-08-25T04:30:54.480871",
     "status": "completed"
    },
    "tags": []
   },
   "source": [
    "## Linear regression"
   ]
  },
  {
   "cell_type": "markdown",
   "id": "4eb1b8a3-f0ba-471c-b84c-59989f9229fa",
   "metadata": {},
   "source": [
    "### Fit linear regression model"
   ]
  },
  {
   "cell_type": "code",
   "execution_count": 15,
   "id": "139e74e4-3543-459d-9488-33a700c40a2b",
   "metadata": {
    "papermill": {
     "duration": 0.037,
     "end_time": "2021-08-25T04:30:54.540674",
     "exception": false,
     "start_time": "2021-08-25T04:30:54.503674",
     "status": "completed"
    },
    "tags": []
   },
   "outputs": [
    {
     "data": {
      "text/plain": [
       "LinearRegression()"
      ]
     },
     "execution_count": 15,
     "metadata": {},
     "output_type": "execute_result"
    }
   ],
   "source": [
    "linear_mod_out = LinearRegression()  \n",
    "linear_mod_out.fit(X_train.values, Y_train_out.values)"
   ]
  },
  {
   "cell_type": "code",
   "execution_count": 16,
   "id": "63f20a44-a031-4061-951d-567235db6d1f",
   "metadata": {},
   "outputs": [
    {
     "data": {
      "text/plain": [
       "LinearRegression()"
      ]
     },
     "execution_count": 16,
     "metadata": {},
     "output_type": "execute_result"
    }
   ],
   "source": [
    "linear_mod_in = LinearRegression()  \n",
    "linear_mod_in.fit(X_train.values, Y_train_in.values)"
   ]
  },
  {
   "cell_type": "markdown",
   "id": "9be92a19-73e3-46f6-9807-862cbf86821e",
   "metadata": {},
   "source": [
    "### Print coefficients"
   ]
  },
  {
   "cell_type": "code",
   "execution_count": 17,
   "id": "ebd838fc-d161-42c6-bcb2-34265c0044a9",
   "metadata": {
    "papermill": {
     "duration": 0.034715,
     "end_time": "2021-08-25T04:30:54.596530",
     "exception": false,
     "start_time": "2021-08-25T04:30:54.561815",
     "status": "completed"
    },
    "tags": []
   },
   "outputs": [
    {
     "name": "stdout",
     "output_type": "stream",
     "text": [
      "[-33.2356004]\n",
      "[[ 1.16659442e+00  3.44650814e-01  1.54840248e-01  1.00601971e+00\n",
      "  -2.21145026e-04  2.46779807e+00  3.34143082e-01 -3.38338632e-01\n",
      "   7.22130575e-01 -2.49827837e-02  1.02921243e-01  3.09276976e-01\n",
      "  -9.71637460e-03  2.00036651e-02  2.30157383e-03  2.52801379e-02\n",
      "   1.92833790e-02 -1.48771795e-02  1.83009037e-02  5.80706229e-03\n",
      "   3.96719534e-01 -2.79359189e+00  1.98093540e+00 -2.20491279e+00\n",
      "   7.04106794e-01 -4.74850015e-01  1.41955450e-02 -1.60152637e+00\n",
      "   1.54679522e+00  8.77013319e-01  7.05045363e-02 -4.96209702e-02\n",
      "   2.45196187e-01 -1.68397531e-01 -1.04187114e-01  6.91555904e-02\n",
      "  -2.36720712e-01  4.17839859e-02  2.25095708e-02  1.31493183e-01\n",
      "  -4.95950994e-01 -4.79252114e-02]]\n"
     ]
    }
   ],
   "source": [
    "print(linear_mod_out.intercept_)\n",
    "print(linear_mod_out.coef_)"
   ]
  },
  {
   "cell_type": "code",
   "execution_count": 18,
   "id": "51bfb9c6-856f-4c92-85f4-46bb055e788f",
   "metadata": {
    "papermill": {
     "duration": 0.034715,
     "end_time": "2021-08-25T04:30:54.596530",
     "exception": false,
     "start_time": "2021-08-25T04:30:54.561815",
     "status": "completed"
    },
    "tags": []
   },
   "outputs": [
    {
     "name": "stdout",
     "output_type": "stream",
     "text": [
      "[-29.9835357]\n",
      "[[ 9.98498970e-01  2.41004610e-01  3.15533402e-01  9.59729009e-01\n",
      "  -2.75208993e-04  1.98778146e+00  5.66579244e-01  2.78365434e-01\n",
      "   1.03429765e+00 -5.95886494e-03  1.35300297e-01  3.97453835e-01\n",
      "  -1.47781837e-02  3.23077568e-02  7.43558908e-03  2.86130908e-02\n",
      "   2.99342719e-02 -2.38382873e-02  1.58414655e-02  2.17502554e-03\n",
      "   6.16257292e-01 -1.85056815e+00  7.25817571e-01 -1.86719911e+00\n",
      "   7.93799916e-01 -3.40551163e-01 -1.96570177e-01 -1.90153580e+00\n",
      "   8.18480999e-01  9.63247434e-01  8.89877753e-02 -7.26324555e-02\n",
      "   3.00805843e-01 -1.53668204e-01 -1.22830292e-01  8.40329253e-03\n",
      "  -9.42782600e-02  4.86008969e-02 -1.66252788e-01  1.96731863e-02\n",
      "  -2.23037315e-02  7.75286075e-02]]\n"
     ]
    }
   ],
   "source": [
    "print(linear_mod_in.intercept_)\n",
    "print(linear_mod_in.coef_)"
   ]
  },
  {
   "cell_type": "code",
   "execution_count": 19,
   "id": "3238d645-0834-4f5f-a4e9-ec27d7ac58b3",
   "metadata": {
    "papermill": {
     "duration": 0.289043,
     "end_time": "2021-08-25T04:30:54.907396",
     "exception": false,
     "start_time": "2021-08-25T04:30:54.618353",
     "status": "completed"
    },
    "tags": []
   },
   "outputs": [],
   "source": [
    "# Xconst = sm.add_constant(X_train)\n",
    "# est = sm.OLS(Y_train_out, Xconst)\n",
    "# est2 = est.fit()\n",
    "# print(est2.summary())"
   ]
  },
  {
   "cell_type": "code",
   "execution_count": 20,
   "id": "548c5979-cb95-4010-97cc-b1352007b938",
   "metadata": {},
   "outputs": [],
   "source": [
    "# Xconst = sm.add_constant(X_train)\n",
    "# est = sm.OLS(Y_train_in, Xconst)\n",
    "# est2 = est.fit()\n",
    "# print(est2.summary())"
   ]
  },
  {
   "cell_type": "markdown",
   "id": "98c093da-59af-4ba3-9410-1a4010a4e64b",
   "metadata": {},
   "source": [
    "### Predictions"
   ]
  },
  {
   "cell_type": "code",
   "execution_count": 21,
   "id": "7e6e9b13-5423-42ee-93b4-a26df5e213d9",
   "metadata": {
    "papermill": {
     "duration": 0.035714,
     "end_time": "2021-08-25T04:30:54.966104",
     "exception": false,
     "start_time": "2021-08-25T04:30:54.930390",
     "status": "completed"
    },
    "tags": []
   },
   "outputs": [],
   "source": [
    "preds_LM_train_out = linear_mod_out.predict(X_train)\n",
    "preds_LM_test_out = linear_mod_out.predict(X_test)"
   ]
  },
  {
   "cell_type": "code",
   "execution_count": 22,
   "id": "7ebbd45f-3469-4e54-829a-2e0242cf6d1c",
   "metadata": {
    "papermill": {
     "duration": 0.035714,
     "end_time": "2021-08-25T04:30:54.966104",
     "exception": false,
     "start_time": "2021-08-25T04:30:54.930390",
     "status": "completed"
    },
    "tags": []
   },
   "outputs": [],
   "source": [
    "preds_LM_train_in = linear_mod_in.predict(X_train)\n",
    "preds_LM_test_in = linear_mod_in.predict(X_test)"
   ]
  },
  {
   "cell_type": "code",
   "execution_count": 23,
   "id": "20c84e50-70f4-4f78-b046-89abca108c02",
   "metadata": {},
   "outputs": [],
   "source": [
    "feather.write_feather(pd.DataFrame(preds_LM_train_out), results_dir + 'preds.LM.train_out_agg.feather')\n",
    "feather.write_feather(pd.DataFrame(preds_LM_test_out), results_dir + 'preds.LM.test_out_agg.feather')"
   ]
  },
  {
   "cell_type": "code",
   "execution_count": 24,
   "id": "b8534754-dac6-42c5-af67-351df8ce9bb7",
   "metadata": {},
   "outputs": [],
   "source": [
    "feather.write_feather(pd.DataFrame(preds_LM_train_in), results_dir + 'preds.LM.train_in_agg.feather')\n",
    "feather.write_feather(pd.DataFrame(preds_LM_test_in), results_dir + 'preds.LM.test_in_agg.feather')"
   ]
  },
  {
   "cell_type": "markdown",
   "id": "db258e7b-c5ab-4de3-a250-85978442863f",
   "metadata": {},
   "source": [
    "### Predictive accuracy"
   ]
  },
  {
   "cell_type": "code",
   "execution_count": 25,
   "id": "a6e4edc9-1ecf-4572-8e1b-1c0208729f1a",
   "metadata": {
    "papermill": {
     "duration": 0.295035,
     "end_time": "2021-08-25T04:30:57.344235",
     "exception": false,
     "start_time": "2021-08-25T04:30:57.049200",
     "status": "completed"
    },
    "tags": []
   },
   "outputs": [
    {
     "name": "stdout",
     "output_type": "stream",
     "text": [
      "RMSE of the training set (outflows): 2.1109733849985695\n",
      "R^2 of the training set (outflows): 0.5740721055779541\n",
      "RMSE of the test set (outflows): 2.1263494580803624\n",
      "R^2 of the test set (outflows): 0.5663310869938217\n"
     ]
    }
   ],
   "source": [
    "print(\"RMSE of the training set (outflows):\", np.sqrt(mean_squared_error(Y_train_out, preds_LM_train_out)))\n",
    "print(\"R^2 of the training set (outflows):\", r2_score(Y_train_out, preds_LM_train_out))\n",
    "print(\"RMSE of the test set (outflows):\", np.sqrt(mean_squared_error(Y_test_out, preds_LM_test_out)))\n",
    "print(\"R^2 of the test set (outflows):\", r2_score(Y_test_out, preds_LM_test_out))"
   ]
  },
  {
   "cell_type": "code",
   "execution_count": 26,
   "id": "33ded127-d107-4d35-84b4-4efcd318249f",
   "metadata": {
    "papermill": {
     "duration": 0.295035,
     "end_time": "2021-08-25T04:30:57.344235",
     "exception": false,
     "start_time": "2021-08-25T04:30:57.049200",
     "status": "completed"
    },
    "tags": []
   },
   "outputs": [
    {
     "name": "stdout",
     "output_type": "stream",
     "text": [
      "RMSE of the training set (inflows): 2.154808997564144\n",
      "R^2 of the training set (inflows): 0.5553383401662982\n",
      "RMSE of the test set (inflows): 2.1201835586940128\n",
      "R^2 of the test set (inflows): 0.5643481351894684\n"
     ]
    }
   ],
   "source": [
    "print(\"RMSE of the training set (inflows):\", np.sqrt(mean_squared_error(Y_train_in, preds_LM_train_in)))\n",
    "print(\"R^2 of the training set (inflows):\", r2_score(Y_train_in, preds_LM_train_in))\n",
    "print(\"RMSE of the test set (inflows):\", np.sqrt(mean_squared_error(Y_test_in, preds_LM_test_in)))\n",
    "print(\"R^2 of the test set (inflows):\", r2_score(Y_test_in, preds_LM_test_in))"
   ]
  },
  {
   "cell_type": "code",
   "execution_count": 27,
   "id": "522f38b2",
   "metadata": {
    "scrolled": true
   },
   "outputs": [
    {
     "name": "stdout",
     "output_type": "stream",
     "text": [
      "Mean Absolute Error (outflows): 1.5517737574345303\n",
      "Mean Squared Error of the training set (outflows): 4.456208632172319\n",
      "Mean Squared Error of the test set (outflows): 4.52136201787865\n",
      "Dollar RMSE of the training set (outflows): 3674423795.036064\n",
      "Dollar RMSE of the test set (outflows): 2875209529427.054\n"
     ]
    }
   ],
   "source": [
    "print('Mean Absolute Error (outflows):', metrics.mean_absolute_error(Y_test_out, preds_LM_test_out))  \n",
    "print('Mean Squared Error of the training set (outflows):', mean_squared_error(Y_train_out, preds_LM_train_out))\n",
    "print('Mean Squared Error of the test set (outflows):', mean_squared_error(Y_test_out, preds_LM_test_out))\n",
    "print('Dollar RMSE of the training set (outflows):', np.mean(np.square((np.exp(Y_train_out.values)*10**3 - np.exp(preds_LM_train_out)*10**3))) / 10**9)\n",
    "print('Dollar RMSE of the test set (outflows):', np.mean(np.square((np.exp(Y_test_out.values)*10**3 - np.exp(preds_LM_test_out)*10**3))) / 10**6)"
   ]
  },
  {
   "cell_type": "code",
   "execution_count": 28,
   "id": "6fd4b8c0-8d5f-49c9-a511-a70be10269b2",
   "metadata": {
    "papermill": {
     "duration": 0.040683,
     "end_time": "2021-08-25T04:30:55.028165",
     "exception": false,
     "start_time": "2021-08-25T04:30:54.987482",
     "status": "completed"
    },
    "scrolled": true,
    "tags": []
   },
   "outputs": [
    {
     "name": "stdout",
     "output_type": "stream",
     "text": [
      "Mean Absolute Error (inflows): 1.5825367902792842\n",
      "Mean Squared Error of the training set (inflows): 4.6432018159833905\n",
      "Mean Squared Error of the test set (inflows): 4.4951783225564075\n",
      "Dollar RMSE of the test set (inflows): 1203745624.8837152\n",
      "Dollar RMSE of the test set (inflows): 1651564047.794827\n"
     ]
    }
   ],
   "source": [
    "print('Mean Absolute Error (inflows):', metrics.mean_absolute_error(Y_test_in, preds_LM_test_in))\n",
    "print('Mean Squared Error of the training set (inflows):', mean_squared_error(Y_train_in, preds_LM_train_in))\n",
    "print('Mean Squared Error of the test set (inflows):', mean_squared_error(Y_test_in, preds_LM_test_in))\n",
    "print('Dollar RMSE of the test set (inflows):', np.mean(np.square((np.exp(Y_train_in.values)*10**3 - np.exp(preds_LM_train_in)*10**3))) / 10**9)\n",
    "print('Dollar RMSE of the test set (inflows):', np.mean(np.square((np.exp(Y_test_in.values)*10**3 - np.exp(preds_LM_test_in)*10**3))) / 10**9)"
   ]
  },
  {
   "cell_type": "markdown",
   "id": "a983d1d2-8400-45bc-8583-37d2d1d307c3",
   "metadata": {},
   "source": [
    "### Cross-validation"
   ]
  },
  {
   "cell_type": "code",
   "execution_count": 29,
   "id": "a47e7909-b39e-4cee-a69d-d17da20bd061",
   "metadata": {},
   "outputs": [
    {
     "data": {
      "text/plain": [
       "LinearRegression()"
      ]
     },
     "execution_count": 29,
     "metadata": {},
     "output_type": "execute_result"
    }
   ],
   "source": [
    "linear_mod_out = LinearRegression()  \n",
    "linear_mod_out.fit(X.values, Y_out.values)"
   ]
  },
  {
   "cell_type": "code",
   "execution_count": 30,
   "id": "76505e33-b321-4a34-83b9-90b11c54f109",
   "metadata": {},
   "outputs": [
    {
     "name": "stdout",
     "output_type": "stream",
     "text": [
      "Cross-validated scores: [0.45807479 0.30130499 0.51707985 0.46344754 0.45227464 0.12578676]\n"
     ]
    }
   ],
   "source": [
    "scores = cross_val_score(linear_mod_out, X, Y_out.values.ravel(), cv = 6)\n",
    "print('Cross-validated scores:', scores)"
   ]
  },
  {
   "cell_type": "code",
   "execution_count": 31,
   "id": "98c4a2b3-c4d7-4c30-af9e-8f3240712fe1",
   "metadata": {},
   "outputs": [
    {
     "data": {
      "text/plain": [
       "0.462132437575033"
      ]
     },
     "execution_count": 31,
     "metadata": {},
     "output_type": "execute_result"
    }
   ],
   "source": [
    "predictions = cross_val_predict(linear_mod_out, X, Y_out.values.ravel(), cv = 6)\n",
    "r2_score(Y_out, predictions)"
   ]
  },
  {
   "cell_type": "markdown",
   "id": "50f9b539-e070-4e6f-8941-68faf427afe2",
   "metadata": {},
   "source": [
    "## Random Forests"
   ]
  },
  {
   "cell_type": "markdown",
   "id": "fd4e11ca-bfbd-47a9-8c85-3e8236bdcd42",
   "metadata": {},
   "source": [
    "### Fit baseline random forests regression"
   ]
  },
  {
   "cell_type": "code",
   "execution_count": 51,
   "id": "5556592f-f801-45bb-bb1c-67d9f1710024",
   "metadata": {},
   "outputs": [
    {
     "data": {
      "text/plain": [
       "RandomForestRegressor(random_state=1509)"
      ]
     },
     "execution_count": 51,
     "metadata": {},
     "output_type": "execute_result"
    }
   ],
   "source": [
    "RF_0_mod_out = RandomForestRegressor(random_state = 1509)\n",
    "RF_0_mod_out.fit(X, Y_out.values.ravel())"
   ]
  },
  {
   "cell_type": "code",
   "execution_count": 33,
   "id": "3a062aa8-f872-448e-a05e-1e42b88bad23",
   "metadata": {},
   "outputs": [
    {
     "data": {
      "text/plain": [
       "RandomForestRegressor(random_state=1509)"
      ]
     },
     "execution_count": 33,
     "metadata": {},
     "output_type": "execute_result"
    }
   ],
   "source": [
    "RF_0_mod_in = RandomForestRegressor(random_state = 1509)\n",
    "RF_0_mod_in.fit(X_train, Y_train_in.values.ravel())"
   ]
  },
  {
   "cell_type": "markdown",
   "id": "c3e699c3-a01d-452c-886b-74fd31084b5b",
   "metadata": {},
   "source": [
    "### Tune hyperparameters with randomized search"
   ]
  },
  {
   "cell_type": "code",
   "execution_count": 52,
   "id": "75fd3b0f-71a0-4e56-9459-5c4a5fa0a00b",
   "metadata": {
    "tags": []
   },
   "outputs": [
    {
     "name": "stdout",
     "output_type": "stream",
     "text": [
      "{'n_estimators': [10, 40, 70, 100, 130, 161, 191, 221, 251, 281, 312, 342, 372, 402, 432, 463, 493, 523, 553, 583, 614, 644, 674, 704, 734, 765, 795, 825, 855, 885, 916, 946, 976, 1006, 1036, 1067, 1097, 1127, 1157, 1187, 1218, 1248, 1278, 1308, 1338, 1369, 1399, 1429, 1459, 1489, 1520, 1550, 1580, 1610, 1640, 1671, 1701, 1731, 1761, 1791, 1822, 1852, 1882, 1912, 1942, 1973, 2003, 2033, 2063, 2093, 2124, 2154, 2184, 2214, 2244, 2275, 2305, 2335, 2365, 2395, 2426, 2456, 2486, 2516, 2546, 2577, 2607, 2637, 2667, 2697, 2728, 2758, 2788, 2818, 2848, 2879, 2909, 2939, 2969, 3000], 'max_depth': [5, 10, 15, 20, 25, 30, 35, 40, 45, 50, 55, 60, 65, 70, 75, 80, 85, 90, 95, 100, 105, 110, 115, 120, 125, 130, 135, 140, 145, 150, 155, 160, 165, 170, 175, 180, 185, 190, 195, 200, 205, 210, 215, 220, 225, 230, 235, 240, 245, 250, 255, 260, 265, 270, 275, 280, 285, 290, 295, 300, 305, 310, 315, 320, 325, 330, 335, 340, 345, 350, 355, 360, 365, 370, 375, 380, 385, 390, 395, 400, 405, 410, 415, 420, 425, 430, 435, 440, 445, 450, 455, 460, 465, 470, 475, 480, 485, 490, 495, 500, None], 'min_samples_split': [2, 7, 12, 18, 23, 28, 34, 39, 44, 50], 'min_samples_leaf': [1, 12, 23, 34, 45, 56, 67, 78, 89, 100], 'max_features': ['auto', 'sqrt'], 'bootstrap': [True, False]}\n"
     ]
    }
   ],
   "source": [
    "# Number of trees in random forest\n",
    "n_estimators = [int(x) for x in np.linspace(start = 10, stop = 3000, num = 100)]\n",
    "\n",
    "# Maximum number of levels in tree\n",
    "max_depth = [int(x) for x in np.linspace(5, 500, num = 100)]\n",
    "max_depth.append(None)\n",
    "\n",
    "# Minimum number of samples required to split a node\n",
    "min_samples_split = [int(x) for x in np.linspace(2, 50, num = 10)]\n",
    "\n",
    "# Minimum number of samples required at each leaf node\n",
    "min_samples_leaf = [int(x) for x in np.linspace(1, 100, num = 10)]\n",
    "\n",
    "# Number of features to consider at every split\n",
    "max_features = ['auto', 'sqrt']\n",
    "\n",
    "# Method of selecting samples for training each tree\n",
    "bootstrap = [True, False]\n",
    "\n",
    "# Create the random grid\n",
    "random_grid = {'n_estimators': n_estimators,\n",
    "               'max_depth': max_depth,\n",
    "               'min_samples_split': min_samples_split,\n",
    "               'min_samples_leaf': min_samples_leaf,\n",
    "               'max_features': max_features,\n",
    "               'bootstrap': bootstrap}\n",
    "print(random_grid)"
   ]
  },
  {
   "cell_type": "code",
   "execution_count": 53,
   "id": "72dd44d9-cb2b-4fa9-9435-55f9acfdea45",
   "metadata": {},
   "outputs": [],
   "source": [
    "# Create the base model to tune\n",
    "RF_0_mod_out = RandomForestRegressor(random_state = 1509)\n",
    "\n",
    "# Random search of parameters on base model using 3 fold cross validation \n",
    "# Search across 100 different combinations, and use all available cores\n",
    "RF_random_out = RandomizedSearchCV(random_state = 1509,\n",
    "                                   estimator = RF_0_mod_out, \n",
    "                                   param_distributions = random_grid,\n",
    "                                   scoring = 'r2',\n",
    "                                   n_iter = 100, cv = 3, \n",
    "                                   verbose = 3, n_jobs = -1)"
   ]
  },
  {
   "cell_type": "code",
   "execution_count": 54,
   "id": "97404f67-5f9c-4de9-95d6-9b81fe45ec33",
   "metadata": {},
   "outputs": [
    {
     "name": "stdout",
     "output_type": "stream",
     "text": [
      "Fitting 3 folds for each of 100 candidates, totalling 300 fits\n",
      "[CV 1/3] END bootstrap=True, max_depth=475, max_features=sqrt, min_samples_leaf=45, min_samples_split=12, n_estimators=372;, score=0.228 total time=   3.8s\n",
      "[CV 3/3] END bootstrap=True, max_depth=475, max_features=sqrt, min_samples_leaf=45, min_samples_split=12, n_estimators=372;, score=0.344 total time=   3.8s\n",
      "[CV 2/3] END bootstrap=True, max_depth=195, max_features=auto, min_samples_leaf=1, min_samples_split=12, n_estimators=1278;, score=0.214 total time= 1.9min\n",
      "[CV 1/3] END bootstrap=False, max_depth=430, max_features=auto, min_samples_leaf=78, min_samples_split=2, n_estimators=2093;, score=0.221 total time= 2.5min\n",
      "[CV 3/3] END bootstrap=False, max_depth=430, max_features=auto, min_samples_leaf=78, min_samples_split=2, n_estimators=2093;, score=0.413 total time= 2.3min\n",
      "[CV 2/3] END bootstrap=False, max_depth=290, max_features=sqrt, min_samples_leaf=78, min_samples_split=50, n_estimators=2728;, score=0.486 total time=  35.3s\n",
      "[CV 1/3] END bootstrap=True, max_depth=485, max_features=auto, min_samples_leaf=56, min_samples_split=28, n_estimators=2969;, score=0.377 total time= 2.3min\n",
      "[CV 3/3] END bootstrap=True, max_depth=485, max_features=auto, min_samples_leaf=56, min_samples_split=28, n_estimators=2969;, score=0.443 total time= 2.2min\n",
      "[CV 2/3] END bootstrap=True, max_depth=225, max_features=auto, min_samples_leaf=12, min_samples_split=44, n_estimators=1852;, score=0.354 total time= 1.9min\n",
      "[CV 1/3] END bootstrap=True, max_depth=185, max_features=sqrt, min_samples_leaf=1, min_samples_split=18, n_estimators=2667;, score=0.094 total time=  41.7s\n",
      "[CV 3/3] END bootstrap=True, max_depth=185, max_features=sqrt, min_samples_leaf=1, min_samples_split=18, n_estimators=2667;, score=0.454 total time=  40.8s\n",
      "[CV 2/3] END bootstrap=False, max_depth=170, max_features=auto, min_samples_leaf=45, min_samples_split=12, n_estimators=2275;, score=0.111 total time= 3.1min\n",
      "[CV 1/3] END bootstrap=True, max_depth=320, max_features=sqrt, min_samples_leaf=45, min_samples_split=50, n_estimators=1882;, score=0.224 total time=  19.4s\n",
      "[CV 2/3] END bootstrap=True, max_depth=320, max_features=sqrt, min_samples_leaf=45, min_samples_split=50, n_estimators=1882;, score=0.487 total time=  19.3s\n",
      "[CV 3/3] END bootstrap=True, max_depth=320, max_features=sqrt, min_samples_leaf=45, min_samples_split=50, n_estimators=1882;, score=0.345 total time=  19.0s\n",
      "[CV 1/3] END bootstrap=True, max_depth=380, max_features=auto, min_samples_leaf=23, min_samples_split=18, n_estimators=976;, score=0.390 total time=  57.1s\n",
      "[CV 2/3] END bootstrap=True, max_depth=380, max_features=auto, min_samples_leaf=23, min_samples_split=18, n_estimators=976;, score=0.406 total time=  56.6s\n",
      "[CV 1/3] END bootstrap=True, max_depth=465, max_features=auto, min_samples_leaf=78, min_samples_split=28, n_estimators=342;, score=0.368 total time=  14.6s\n",
      "[CV 2/3] END bootstrap=True, max_depth=465, max_features=auto, min_samples_leaf=78, min_samples_split=28, n_estimators=342;, score=0.426 total time=  14.5s\n",
      "[CV 1/3] END bootstrap=False, max_depth=55, max_features=sqrt, min_samples_leaf=1, min_samples_split=44, n_estimators=2124;, score=0.100 total time=  40.6s\n",
      "[CV 3/3] END bootstrap=False, max_depth=55, max_features=sqrt, min_samples_leaf=1, min_samples_split=44, n_estimators=2124;, score=0.450 total time=  39.3s\n",
      "[CV 3/3] END bootstrap=False, max_depth=320, max_features=sqrt, min_samples_leaf=23, min_samples_split=34, n_estimators=1278;, score=0.414 total time=  20.9s\n",
      "[CV 2/3] END bootstrap=False, max_depth=120, max_features=auto, min_samples_leaf=23, min_samples_split=2, n_estimators=1157;, score=0.106 total time= 1.8min\n",
      "[CV 1/3] END bootstrap=False, max_depth=25, max_features=auto, min_samples_leaf=89, min_samples_split=7, n_estimators=1882;, score=0.247 total time= 2.1min\n",
      "[CV 3/3] END bootstrap=False, max_depth=25, max_features=auto, min_samples_leaf=89, min_samples_split=7, n_estimators=1882;, score=0.417 total time= 2.0min\n",
      "[CV 3/3] END bootstrap=True, max_depth=390, max_features=sqrt, min_samples_leaf=100, min_samples_split=28, n_estimators=2395;, score=0.284 total time=  19.8s\n",
      "[CV 2/3] END bootstrap=False, max_depth=315, max_features=sqrt, min_samples_leaf=67, min_samples_split=44, n_estimators=2879;, score=0.487 total time=  38.1s\n",
      "[CV 1/3] END bootstrap=False, max_depth=355, max_features=auto, min_samples_leaf=45, min_samples_split=34, n_estimators=1973;, score=0.190 total time= 2.6min\n",
      "[CV 3/3] END bootstrap=False, max_depth=355, max_features=auto, min_samples_leaf=45, min_samples_split=34, n_estimators=1973;, score=0.414 total time= 2.5min\n",
      "[CV 1/3] END bootstrap=False, max_depth=15, max_features=sqrt, min_samples_leaf=100, min_samples_split=34, n_estimators=281;, score=0.245 total time=   3.4s\n",
      "[CV 2/3] END bootstrap=False, max_depth=15, max_features=sqrt, min_samples_leaf=100, min_samples_split=34, n_estimators=281;, score=0.479 total time=   3.4s\n",
      "[CV 3/3] END bootstrap=False, max_depth=15, max_features=sqrt, min_samples_leaf=100, min_samples_split=34, n_estimators=281;, score=0.325 total time=   3.3s\n",
      "[CV 1/3] END bootstrap=True, max_depth=130, max_features=sqrt, min_samples_leaf=89, min_samples_split=50, n_estimators=1550;, score=0.232 total time=  13.4s\n",
      "[CV 2/3] END bootstrap=True, max_depth=130, max_features=sqrt, min_samples_leaf=89, min_samples_split=50, n_estimators=1550;, score=0.462 total time=  13.4s\n",
      "[CV 3/3] END bootstrap=True, max_depth=130, max_features=sqrt, min_samples_leaf=89, min_samples_split=50, n_estimators=1550;, score=0.294 total time=  13.2s\n",
      "[CV 2/3] END bootstrap=False, max_depth=350, max_features=auto, min_samples_leaf=100, min_samples_split=2, n_estimators=251;, score=0.258 total time=  16.1s\n",
      "[CV 1/3] END bootstrap=True, max_depth=385, max_features=auto, min_samples_leaf=1, min_samples_split=18, n_estimators=40;, score=0.267 total time=   3.4s\n",
      "[CV 2/3] END bootstrap=True, max_depth=385, max_features=auto, min_samples_leaf=1, min_samples_split=18, n_estimators=40;, score=0.230 total time=   3.3s\n",
      "[CV 3/3] END bootstrap=True, max_depth=385, max_features=auto, min_samples_leaf=1, min_samples_split=18, n_estimators=40;, score=0.507 total time=   3.2s\n",
      "[CV 1/3] END bootstrap=False, max_depth=395, max_features=auto, min_samples_leaf=89, min_samples_split=7, n_estimators=1097;, score=0.247 total time= 1.2min\n",
      "[CV 1/3] END bootstrap=True, max_depth=200, max_features=auto, min_samples_leaf=67, min_samples_split=28, n_estimators=191;, score=0.373 total time=   8.5s\n",
      "[CV 2/3] END bootstrap=True, max_depth=200, max_features=auto, min_samples_leaf=67, min_samples_split=28, n_estimators=191;, score=0.432 total time=   8.4s\n",
      "[CV 3/3] END bootstrap=True, max_depth=200, max_features=auto, min_samples_leaf=67, min_samples_split=28, n_estimators=191;, score=0.427 total time=   8.1s\n",
      "[CV 1/3] END bootstrap=False, max_depth=275, max_features=auto, min_samples_leaf=67, min_samples_split=12, n_estimators=1097;, score=0.190 total time= 1.4min\n",
      "[CV 3/3] END bootstrap=False, max_depth=275, max_features=auto, min_samples_leaf=67, min_samples_split=12, n_estimators=1097;, score=0.414 total time= 1.2min\n",
      "[CV 2/3] END bootstrap=True, max_depth=455, max_features=sqrt, min_samples_leaf=12, min_samples_split=39, n_estimators=2456;, score=0.457 total time=  30.7s\n",
      "[CV 2/3] END bootstrap=True, max_depth=110, max_features=sqrt, min_samples_leaf=78, min_samples_split=18, n_estimators=2697;, score=0.473 total time=  24.0s\n",
      "[CV 1/3] END bootstrap=True, max_depth=35, max_features=sqrt, min_samples_leaf=67, min_samples_split=2, n_estimators=1278;, score=0.229 total time=  11.8s\n",
      "[CV 2/3] END bootstrap=True, max_depth=35, max_features=sqrt, min_samples_leaf=67, min_samples_split=2, n_estimators=1278;, score=0.477 total time=  11.8s\n",
      "[CV 3/3] END bootstrap=True, max_depth=35, max_features=sqrt, min_samples_leaf=67, min_samples_split=2, n_estimators=1278;, score=0.315 total time=  11.5s\n",
      "[CV 2/3] END bootstrap=False, max_depth=145, max_features=sqrt, min_samples_leaf=45, min_samples_split=39, n_estimators=976;, score=0.490 total time=  14.1s\n",
      "[CV 1/3] END bootstrap=True, max_depth=205, max_features=sqrt, min_samples_leaf=23, min_samples_split=34, n_estimators=2365;, score=0.214 total time=  27.4s\n",
      "[CV 2/3] END bootstrap=True, max_depth=475, max_features=sqrt, min_samples_leaf=45, min_samples_split=12, n_estimators=372;, score=0.481 total time=   3.8s\n",
      "[CV 1/3] END bootstrap=True, max_depth=195, max_features=auto, min_samples_leaf=1, min_samples_split=12, n_estimators=1278;, score=0.285 total time= 1.9min\n",
      "[CV 3/3] END bootstrap=True, max_depth=195, max_features=auto, min_samples_leaf=1, min_samples_split=12, n_estimators=1278;, score=0.508 total time= 1.9min\n",
      "[CV 2/3] END bootstrap=False, max_depth=430, max_features=auto, min_samples_leaf=78, min_samples_split=2, n_estimators=2093;, score=0.184 total time= 2.4min\n",
      "[CV 1/3] END bootstrap=False, max_depth=30, max_features=sqrt, min_samples_leaf=23, min_samples_split=2, n_estimators=614;, score=0.204 total time=  10.4s\n",
      "[CV 2/3] END bootstrap=False, max_depth=30, max_features=sqrt, min_samples_leaf=23, min_samples_split=2, n_estimators=614;, score=0.467 total time=  10.4s\n",
      "[CV 3/3] END bootstrap=False, max_depth=30, max_features=sqrt, min_samples_leaf=23, min_samples_split=2, n_estimators=614;, score=0.416 total time=  10.1s\n",
      "[CV 1/3] END bootstrap=False, max_depth=290, max_features=sqrt, min_samples_leaf=78, min_samples_split=50, n_estimators=2728;, score=0.223 total time=  35.5s\n",
      "[CV 3/3] END bootstrap=False, max_depth=290, max_features=sqrt, min_samples_leaf=78, min_samples_split=50, n_estimators=2728;, score=0.336 total time=  34.6s\n",
      "[CV 2/3] END bootstrap=True, max_depth=485, max_features=auto, min_samples_leaf=56, min_samples_split=28, n_estimators=2969;, score=0.433 total time= 2.3min\n",
      "[CV 1/3] END bootstrap=True, max_depth=225, max_features=auto, min_samples_leaf=12, min_samples_split=44, n_estimators=1852;, score=0.384 total time= 1.9min\n",
      "[CV 3/3] END bootstrap=True, max_depth=225, max_features=auto, min_samples_leaf=12, min_samples_split=44, n_estimators=1852;, score=0.498 total time= 1.9min\n",
      "[CV 2/3] END bootstrap=True, max_depth=185, max_features=sqrt, min_samples_leaf=1, min_samples_split=18, n_estimators=2667;, score=0.350 total time=  41.3s\n",
      "[CV 1/3] END bootstrap=False, max_depth=170, max_features=auto, min_samples_leaf=45, min_samples_split=12, n_estimators=2275;, score=0.190 total time= 3.0min\n",
      "[CV 3/3] END bootstrap=False, max_depth=170, max_features=auto, min_samples_leaf=45, min_samples_split=12, n_estimators=2275;, score=0.414 total time= 2.9min\n",
      "[CV 3/3] END bootstrap=True, max_depth=380, max_features=auto, min_samples_leaf=23, min_samples_split=18, n_estimators=976;, score=0.488 total time=  55.0s\n",
      "[CV 3/3] END bootstrap=True, max_depth=465, max_features=auto, min_samples_leaf=78, min_samples_split=28, n_estimators=342;, score=0.416 total time=  14.0s\n",
      "[CV 2/3] END bootstrap=False, max_depth=55, max_features=sqrt, min_samples_leaf=1, min_samples_split=44, n_estimators=2124;, score=0.340 total time=  40.6s\n",
      "[CV 1/3] END bootstrap=False, max_depth=320, max_features=sqrt, min_samples_leaf=23, min_samples_split=34, n_estimators=1278;, score=0.200 total time=  21.4s\n",
      "[CV 2/3] END bootstrap=False, max_depth=320, max_features=sqrt, min_samples_leaf=23, min_samples_split=34, n_estimators=1278;, score=0.470 total time=  21.4s\n",
      "[CV 1/3] END bootstrap=False, max_depth=120, max_features=auto, min_samples_leaf=23, min_samples_split=2, n_estimators=1157;, score=0.145 total time= 1.8min\n",
      "[CV 3/3] END bootstrap=False, max_depth=120, max_features=auto, min_samples_leaf=23, min_samples_split=2, n_estimators=1157;, score=0.389 total time= 1.7min\n",
      "[CV 2/3] END bootstrap=False, max_depth=25, max_features=auto, min_samples_leaf=89, min_samples_split=7, n_estimators=1882;, score=0.214 total time= 2.1min\n",
      "[CV 1/3] END bootstrap=True, max_depth=390, max_features=sqrt, min_samples_leaf=100, min_samples_split=28, n_estimators=2395;, score=0.237 total time=  20.3s\n",
      "[CV 2/3] END bootstrap=True, max_depth=390, max_features=sqrt, min_samples_leaf=100, min_samples_split=28, n_estimators=2395;, score=0.454 total time=  20.1s\n",
      "[CV 1/3] END bootstrap=False, max_depth=315, max_features=sqrt, min_samples_leaf=67, min_samples_split=44, n_estimators=2879;, score=0.219 total time=  38.2s\n",
      "[CV 3/3] END bootstrap=False, max_depth=315, max_features=sqrt, min_samples_leaf=67, min_samples_split=44, n_estimators=2879;, score=0.347 total time=  37.5s\n",
      "[CV 2/3] END bootstrap=False, max_depth=355, max_features=auto, min_samples_leaf=45, min_samples_split=34, n_estimators=1973;, score=0.111 total time= 2.7min\n",
      "[CV 1/3] END bootstrap=False, max_depth=230, max_features=sqrt, min_samples_leaf=12, min_samples_split=18, n_estimators=2848;, score=0.176 total time=  54.6s\n",
      "[CV 2/3] END bootstrap=False, max_depth=230, max_features=sqrt, min_samples_leaf=12, min_samples_split=18, n_estimators=2848;, score=0.416 total time=  54.5s\n",
      "[CV 3/3] END bootstrap=False, max_depth=230, max_features=sqrt, min_samples_leaf=12, min_samples_split=18, n_estimators=2848;, score=0.439 total time=  52.6s\n",
      "[CV 1/3] END bootstrap=False, max_depth=350, max_features=auto, min_samples_leaf=100, min_samples_split=2, n_estimators=251;, score=0.248 total time=  16.6s\n",
      "[CV 3/3] END bootstrap=False, max_depth=350, max_features=auto, min_samples_leaf=100, min_samples_split=2, n_estimators=251;, score=0.408 total time=  15.7s\n",
      "[CV 2/3] END bootstrap=False, max_depth=395, max_features=auto, min_samples_leaf=89, min_samples_split=7, n_estimators=1097;, score=0.214 total time= 1.2min\n",
      "[CV 3/3] END bootstrap=False, max_depth=395, max_features=auto, min_samples_leaf=89, min_samples_split=7, n_estimators=1097;, score=0.417 total time= 1.2min\n",
      "[CV 2/3] END bootstrap=False, max_depth=275, max_features=auto, min_samples_leaf=67, min_samples_split=12, n_estimators=1097;, score=0.154 total time= 1.3min\n",
      "[CV 1/3] END bootstrap=True, max_depth=455, max_features=sqrt, min_samples_leaf=12, min_samples_split=39, n_estimators=2456;, score=0.199 total time=  30.9s\n",
      "[CV 3/3] END bootstrap=True, max_depth=455, max_features=sqrt, min_samples_leaf=12, min_samples_split=39, n_estimators=2456;, score=0.410 total time=  30.1s\n",
      "[CV 1/3] END bootstrap=True, max_depth=110, max_features=sqrt, min_samples_leaf=78, min_samples_split=18, n_estimators=2697;, score=0.238 total time=  24.1s\n",
      "[CV 3/3] END bootstrap=True, max_depth=110, max_features=sqrt, min_samples_leaf=78, min_samples_split=18, n_estimators=2697;, score=0.303 total time=  23.8s\n",
      "[CV 1/3] END bootstrap=True, max_depth=410, max_features=sqrt, min_samples_leaf=56, min_samples_split=50, n_estimators=40;, score=0.280 total time=   0.4s\n",
      "[CV 2/3] END bootstrap=True, max_depth=410, max_features=sqrt, min_samples_leaf=56, min_samples_split=50, n_estimators=40;, score=0.491 total time=   0.4s\n",
      "[CV 3/3] END bootstrap=True, max_depth=410, max_features=sqrt, min_samples_leaf=56, min_samples_split=50, n_estimators=40;, score=0.329 total time=   0.4s\n",
      "[CV 1/3] END bootstrap=False, max_depth=145, max_features=sqrt, min_samples_leaf=45, min_samples_split=39, n_estimators=976;, score=0.225 total time=  14.1s\n",
      "[CV 3/3] END bootstrap=False, max_depth=145, max_features=sqrt, min_samples_leaf=45, min_samples_split=39, n_estimators=976;, score=0.376 total time=  13.8s\n",
      "[CV 2/3] END bootstrap=True, max_depth=205, max_features=sqrt, min_samples_leaf=23, min_samples_split=34, n_estimators=2365;, score=0.483 total time=  27.3s\n",
      "[CV 1/3] END bootstrap=False, max_depth=135, max_features=sqrt, min_samples_leaf=23, min_samples_split=44, n_estimators=2728;, score=0.202 total time=  45.7s\n",
      "[CV 3/3] END bootstrap=False, max_depth=135, max_features=sqrt, min_samples_leaf=23, min_samples_split=44, n_estimators=2728;, score=0.413 total time=  44.5s\n",
      "[CV 2/3] END bootstrap=False, max_depth=100, max_features=auto, min_samples_leaf=56, min_samples_split=34, n_estimators=2667;, score=0.134 total time= 3.4min\n",
      "[CV 1/3] END bootstrap=False, max_depth=190, max_features=sqrt, min_samples_leaf=34, min_samples_split=12, n_estimators=2456;, score=0.223 total time=  38.3s\n",
      "[CV 2/3] END bootstrap=False, max_depth=190, max_features=sqrt, min_samples_leaf=34, min_samples_split=12, n_estimators=2456;, score=0.478 total time=  38.1s\n",
      "[CV 3/3] END bootstrap=False, max_depth=190, max_features=sqrt, min_samples_leaf=34, min_samples_split=12, n_estimators=2456;, score=0.392 total time=  37.1s\n",
      "[CV 1/3] END bootstrap=True, max_depth=155, max_features=auto, min_samples_leaf=89, min_samples_split=7, n_estimators=2244;, score=0.365 total time= 1.5min\n",
      "[CV 3/3] END bootstrap=True, max_depth=155, max_features=auto, min_samples_leaf=89, min_samples_split=7, n_estimators=2244;, score=0.403 total time= 1.5min\n",
      "[CV 2/3] END bootstrap=True, max_depth=210, max_features=auto, min_samples_leaf=56, min_samples_split=12, n_estimators=765;, score=0.436 total time=  35.6s\n",
      "[CV 1/3] END bootstrap=True, max_depth=225, max_features=auto, min_samples_leaf=100, min_samples_split=39, n_estimators=2365;, score=0.362 total time= 1.6min\n",
      "[CV 3/3] END bootstrap=True, max_depth=225, max_features=auto, min_samples_leaf=100, min_samples_split=39, n_estimators=2365;, score=0.395 total time= 1.5min\n",
      "[CV 1/3] END bootstrap=True, max_depth=40, max_features=sqrt, min_samples_leaf=56, min_samples_split=12, n_estimators=2788;, score=0.220 total time=  26.9s\n",
      "[CV 3/3] END bootstrap=True, max_depth=40, max_features=sqrt, min_samples_leaf=56, min_samples_split=12, n_estimators=2788;, score=0.328 total time=  26.8s\n",
      "[CV 2/3] END bootstrap=True, max_depth=105, max_features=auto, min_samples_leaf=1, min_samples_split=28, n_estimators=553;, score=0.273 total time=  42.0s\n",
      "[CV 1/3] END bootstrap=True, max_depth=45, max_features=auto, min_samples_leaf=78, min_samples_split=34, n_estimators=1278;, score=0.366 total time=  54.4s\n",
      "[CV 3/3] END bootstrap=True, max_depth=45, max_features=auto, min_samples_leaf=78, min_samples_split=34, n_estimators=1278;, score=0.416 total time=  52.1s\n",
      "[CV 2/3] END bootstrap=True, max_depth=125, max_features=auto, min_samples_leaf=23, min_samples_split=23, n_estimators=1278;, score=0.405 total time= 1.2min\n",
      "[CV 1/3] END bootstrap=True, max_depth=420, max_features=auto, min_samples_leaf=67, min_samples_split=18, n_estimators=2486;, score=0.371 total time= 1.8min\n",
      "[CV 3/3] END bootstrap=True, max_depth=420, max_features=auto, min_samples_leaf=67, min_samples_split=18, n_estimators=2486;, score=0.428 total time= 1.8min\n",
      "[CV 1/3] END bootstrap=False, max_depth=20, max_features=sqrt, min_samples_leaf=89, min_samples_split=50, n_estimators=1791;, score=0.222 total time=  22.5s\n",
      "[CV 2/3] END bootstrap=False, max_depth=20, max_features=sqrt, min_samples_leaf=89, min_samples_split=50, n_estimators=1791;, score=0.482 total time=  22.1s\n",
      "[CV 1/3] END bootstrap=True, max_depth=325, max_features=sqrt, min_samples_leaf=12, min_samples_split=7, n_estimators=2395;, score=0.202 total time=  31.4s\n",
      "[CV 3/3] END bootstrap=True, max_depth=325, max_features=sqrt, min_samples_leaf=12, min_samples_split=7, n_estimators=2395;, score=0.416 total time=  31.1s\n",
      "[CV 2/3] END bootstrap=False, max_depth=230, max_features=auto, min_samples_leaf=34, min_samples_split=44, n_estimators=342;, score=0.057 total time=  29.4s\n",
      "[CV 2/3] END bootstrap=True, max_depth=245, max_features=sqrt, min_samples_leaf=1, min_samples_split=50, n_estimators=2093;, score=0.400 total time=  26.8s\n",
      "[CV 1/3] END bootstrap=False, max_depth=450, max_features=auto, min_samples_leaf=89, min_samples_split=44, n_estimators=130;, score=0.247 total time=   8.7s\n",
      "[CV 2/3] END bootstrap=False, max_depth=450, max_features=auto, min_samples_leaf=89, min_samples_split=44, n_estimators=130;, score=0.214 total time=   8.6s\n",
      "[CV 3/3] END bootstrap=False, max_depth=450, max_features=auto, min_samples_leaf=89, min_samples_split=44, n_estimators=130;, score=0.417 total time=   8.3s\n",
      "[CV 1/3] END bootstrap=False, max_depth=90, max_features=auto, min_samples_leaf=12, min_samples_split=23, n_estimators=2486;, score=0.009 total time= 4.5min\n",
      "[CV 1/3] END bootstrap=False, max_depth=185, max_features=sqrt, min_samples_leaf=67, min_samples_split=23, n_estimators=2697;, score=0.220 total time=  36.5s\n",
      "[CV 2/3] END bootstrap=False, max_depth=185, max_features=sqrt, min_samples_leaf=67, min_samples_split=23, n_estimators=2697;, score=0.487 total time=  36.2s\n",
      "[CV 3/3] END bootstrap=False, max_depth=185, max_features=sqrt, min_samples_leaf=67, min_samples_split=23, n_estimators=2697;, score=0.347 total time=  35.3s\n",
      "[CV 1/3] END bootstrap=False, max_depth=355, max_features=auto, min_samples_leaf=12, min_samples_split=50, n_estimators=2063;, score=0.088 total time= 3.4min\n",
      "[CV 3/3] END bootstrap=False, max_depth=355, max_features=auto, min_samples_leaf=12, min_samples_split=50, n_estimators=2063;, score=0.386 total time= 3.2min\n",
      "[CV 2/3] END bootstrap=False, max_depth=65, max_features=auto, min_samples_leaf=12, min_samples_split=7, n_estimators=2033;, score=-0.122 total time= 3.7min\n",
      "[CV 1/3] END bootstrap=True, max_depth=425, max_features=sqrt, min_samples_leaf=78, min_samples_split=23, n_estimators=1973;, score=0.238 total time=  17.8s\n",
      "[CV 2/3] END bootstrap=True, max_depth=425, max_features=sqrt, min_samples_leaf=78, min_samples_split=23, n_estimators=1973;, score=0.475 total time=  17.7s\n",
      "[CV 3/3] END bootstrap=True, max_depth=425, max_features=sqrt, min_samples_leaf=78, min_samples_split=23, n_estimators=1973;, score=0.304 total time=  17.5s\n",
      "[CV 1/3] END bootstrap=True, max_depth=485, max_features=sqrt, min_samples_leaf=67, min_samples_split=50, n_estimators=1731;, score=0.232 total time=  16.1s\n",
      "[CV 2/3] END bootstrap=True, max_depth=485, max_features=sqrt, min_samples_leaf=67, min_samples_split=50, n_estimators=1731;, score=0.479 total time=  16.2s\n",
      "[CV 3/3] END bootstrap=True, max_depth=485, max_features=sqrt, min_samples_leaf=67, min_samples_split=50, n_estimators=1731;, score=0.316 total time=  15.9s\n",
      "[CV 1/3] END bootstrap=False, max_depth=15, max_features=sqrt, min_samples_leaf=89, min_samples_split=44, n_estimators=2697;, score=0.223 total time=  34.0s\n",
      "[CV 2/3] END bootstrap=False, max_depth=15, max_features=sqrt, min_samples_leaf=89, min_samples_split=44, n_estimators=2697;, score=0.481 total time=  34.0s\n",
      "[CV 3/3] END bootstrap=False, max_depth=15, max_features=sqrt, min_samples_leaf=89, min_samples_split=44, n_estimators=2697;, score=0.328 total time=  33.0s\n",
      "[CV 2/3] END bootstrap=False, max_depth=455, max_features=auto, min_samples_leaf=67, min_samples_split=12, n_estimators=2184;, score=0.154 total time= 2.7min\n",
      "[CV 1/3] END bootstrap=False, max_depth=180, max_features=sqrt, min_samples_leaf=34, min_samples_split=34, n_estimators=100;, score=0.226 total time=   1.6s\n",
      "[CV 2/3] END bootstrap=False, max_depth=180, max_features=sqrt, min_samples_leaf=34, min_samples_split=34, n_estimators=100;, score=0.466 total time=   1.5s\n",
      "[CV 3/3] END bootstrap=False, max_depth=180, max_features=sqrt, min_samples_leaf=34, min_samples_split=34, n_estimators=100;, score=0.399 total time=   1.5s\n",
      "[CV 1/3] END bootstrap=True, max_depth=230, max_features=auto, min_samples_leaf=12, min_samples_split=23, n_estimators=1550;, score=0.382 total time= 1.7min\n",
      "[CV 2/3] END bootstrap=True, max_depth=230, max_features=auto, min_samples_leaf=12, min_samples_split=23, n_estimators=1550;, score=0.341 total time= 1.7min\n",
      "[CV 1/3] END bootstrap=True, max_depth=70, max_features=sqrt, min_samples_leaf=45, min_samples_split=50, n_estimators=1459;, score=0.220 total time=  14.8s\n",
      "[CV 2/3] END bootstrap=True, max_depth=70, max_features=sqrt, min_samples_leaf=45, min_samples_split=50, n_estimators=1459;, score=0.487 total time=  14.9s\n",
      "[CV 3/3] END bootstrap=True, max_depth=70, max_features=sqrt, min_samples_leaf=45, min_samples_split=50, n_estimators=1459;, score=0.344 total time=  14.5s\n",
      "[CV 2/3] END bootstrap=False, max_depth=185, max_features=auto, min_samples_leaf=45, min_samples_split=44, n_estimators=2124;, score=0.111 total time= 2.9min\n",
      "[CV 1/3] END bootstrap=True, max_depth=455, max_features=sqrt, min_samples_leaf=34, min_samples_split=18, n_estimators=1399;, score=0.217 total time=  15.2s\n",
      "[CV 2/3] END bootstrap=True, max_depth=455, max_features=sqrt, min_samples_leaf=34, min_samples_split=18, n_estimators=1399;, score=0.487 total time=  15.2s\n",
      "[CV 3/3] END bootstrap=True, max_depth=455, max_features=sqrt, min_samples_leaf=34, min_samples_split=18, n_estimators=1399;, score=0.360 total time=  14.8s\n",
      "[CV 1/3] END bootstrap=True, max_depth=300, max_features=sqrt, min_samples_leaf=34, min_samples_split=12, n_estimators=2788;, score=0.215 total time=  30.1s\n",
      "[CV 3/3] END bootstrap=True, max_depth=205, max_features=sqrt, min_samples_leaf=23, min_samples_split=34, n_estimators=2365;, score=0.387 total time=  27.0s\n",
      "[CV 2/3] END bootstrap=False, max_depth=135, max_features=sqrt, min_samples_leaf=23, min_samples_split=44, n_estimators=2728;, score=0.464 total time=  45.6s\n",
      "[CV 1/3] END bootstrap=False, max_depth=100, max_features=auto, min_samples_leaf=56, min_samples_split=34, n_estimators=2667;, score=0.204 total time= 3.4min\n",
      "[CV 3/3] END bootstrap=False, max_depth=100, max_features=auto, min_samples_leaf=56, min_samples_split=34, n_estimators=2667;, score=0.425 total time= 3.2min\n",
      "[CV 2/3] END bootstrap=True, max_depth=155, max_features=auto, min_samples_leaf=89, min_samples_split=7, n_estimators=2244;, score=0.423 total time= 1.5min\n",
      "[CV 1/3] END bootstrap=True, max_depth=210, max_features=auto, min_samples_leaf=56, min_samples_split=12, n_estimators=765;, score=0.376 total time=  35.5s\n",
      "[CV 3/3] END bootstrap=True, max_depth=210, max_features=auto, min_samples_leaf=56, min_samples_split=12, n_estimators=765;, score=0.442 total time=  34.0s\n",
      "[CV 2/3] END bootstrap=True, max_depth=225, max_features=auto, min_samples_leaf=100, min_samples_split=39, n_estimators=2365;, score=0.421 total time= 1.6min\n",
      "[CV 1/3] END bootstrap=True, max_depth=425, max_features=sqrt, min_samples_leaf=34, min_samples_split=39, n_estimators=2728;, score=0.215 total time=  29.5s\n",
      "[CV 2/3] END bootstrap=True, max_depth=425, max_features=sqrt, min_samples_leaf=34, min_samples_split=39, n_estimators=2728;, score=0.488 total time=  29.5s\n",
      "[CV 3/3] END bootstrap=True, max_depth=425, max_features=sqrt, min_samples_leaf=34, min_samples_split=39, n_estimators=2728;, score=0.360 total time=  29.1s\n",
      "[CV 2/3] END bootstrap=True, max_depth=40, max_features=sqrt, min_samples_leaf=56, min_samples_split=12, n_estimators=2788;, score=0.481 total time=  26.9s\n",
      "[CV 1/3] END bootstrap=True, max_depth=105, max_features=auto, min_samples_leaf=1, min_samples_split=28, n_estimators=553;, score=0.312 total time=  42.4s\n",
      "[CV 3/3] END bootstrap=True, max_depth=105, max_features=auto, min_samples_leaf=1, min_samples_split=28, n_estimators=553;, score=0.505 total time=  41.1s\n",
      "[CV 2/3] END bootstrap=True, max_depth=45, max_features=auto, min_samples_leaf=78, min_samples_split=34, n_estimators=1278;, score=0.429 total time=  54.3s\n",
      "[CV 1/3] END bootstrap=True, max_depth=125, max_features=auto, min_samples_leaf=23, min_samples_split=23, n_estimators=1278;, score=0.391 total time= 1.2min\n",
      "[CV 3/3] END bootstrap=True, max_depth=125, max_features=auto, min_samples_leaf=23, min_samples_split=23, n_estimators=1278;, score=0.488 total time= 1.2min\n",
      "[CV 2/3] END bootstrap=True, max_depth=420, max_features=auto, min_samples_leaf=67, min_samples_split=18, n_estimators=2486;, score=0.433 total time= 1.8min\n",
      "[CV 1/3] END bootstrap=True, max_depth=280, max_features=auto, min_samples_leaf=34, min_samples_split=7, n_estimators=614;, score=0.390 total time=  32.6s\n",
      "[CV 2/3] END bootstrap=True, max_depth=280, max_features=auto, min_samples_leaf=34, min_samples_split=7, n_estimators=614;, score=0.422 total time=  32.4s\n",
      "[CV 3/3] END bootstrap=True, max_depth=280, max_features=auto, min_samples_leaf=34, min_samples_split=7, n_estimators=614;, score=0.471 total time=  30.9s\n",
      "[CV 3/3] END bootstrap=False, max_depth=20, max_features=sqrt, min_samples_leaf=89, min_samples_split=50, n_estimators=1791;, score=0.329 total time=  21.6s\n",
      "[CV 2/3] END bootstrap=True, max_depth=325, max_features=sqrt, min_samples_leaf=12, min_samples_split=7, n_estimators=2395;, score=0.455 total time=  31.5s\n",
      "[CV 1/3] END bootstrap=False, max_depth=230, max_features=auto, min_samples_leaf=34, min_samples_split=44, n_estimators=342;, score=0.169 total time=  29.3s\n",
      "[CV 3/3] END bootstrap=False, max_depth=230, max_features=auto, min_samples_leaf=34, min_samples_split=44, n_estimators=342;, score=0.400 total time=  27.9s\n",
      "[CV 1/3] END bootstrap=True, max_depth=245, max_features=sqrt, min_samples_leaf=1, min_samples_split=50, n_estimators=2093;, score=0.134 total time=  26.9s\n",
      "[CV 3/3] END bootstrap=True, max_depth=245, max_features=sqrt, min_samples_leaf=1, min_samples_split=50, n_estimators=2093;, score=0.420 total time=  26.5s\n",
      "[CV 2/3] END bootstrap=False, max_depth=90, max_features=auto, min_samples_leaf=12, min_samples_split=23, n_estimators=2486;, score=-0.122 total time= 4.5min\n",
      "[CV 3/3] END bootstrap=False, max_depth=90, max_features=auto, min_samples_leaf=12, min_samples_split=23, n_estimators=2486;, score=0.376 total time= 4.2min\n",
      "[CV 2/3] END bootstrap=False, max_depth=355, max_features=auto, min_samples_leaf=12, min_samples_split=50, n_estimators=2063;, score=-0.041 total time= 3.4min\n",
      "[CV 1/3] END bootstrap=True, max_depth=15, max_features=sqrt, min_samples_leaf=78, min_samples_split=39, n_estimators=1429;, score=0.236 total time=  12.8s\n",
      "[CV 2/3] END bootstrap=True, max_depth=15, max_features=sqrt, min_samples_leaf=78, min_samples_split=39, n_estimators=1429;, score=0.475 total time=  12.8s\n",
      "[CV 3/3] END bootstrap=True, max_depth=15, max_features=sqrt, min_samples_leaf=78, min_samples_split=39, n_estimators=1429;, score=0.304 total time=  12.6s\n",
      "[CV 1/3] END bootstrap=False, max_depth=65, max_features=auto, min_samples_leaf=12, min_samples_split=7, n_estimators=2033;, score=0.009 total time= 3.7min\n",
      "[CV 3/3] END bootstrap=False, max_depth=65, max_features=auto, min_samples_leaf=12, min_samples_split=7, n_estimators=2033;, score=0.376 total time= 3.4min\n",
      "[CV 1/3] END bootstrap=False, max_depth=455, max_features=auto, min_samples_leaf=67, min_samples_split=12, n_estimators=2184;, score=0.190 total time= 2.7min\n",
      "[CV 3/3] END bootstrap=False, max_depth=455, max_features=auto, min_samples_leaf=67, min_samples_split=12, n_estimators=2184;, score=0.414 total time= 2.5min\n",
      "[CV 3/3] END bootstrap=True, max_depth=230, max_features=auto, min_samples_leaf=12, min_samples_split=23, n_estimators=1550;, score=0.507 total time= 1.7min\n",
      "[CV 1/3] END bootstrap=False, max_depth=185, max_features=auto, min_samples_leaf=45, min_samples_split=44, n_estimators=2124;, score=0.190 total time= 2.8min\n",
      "[CV 3/3] END bootstrap=False, max_depth=185, max_features=auto, min_samples_leaf=45, min_samples_split=44, n_estimators=2124;, score=0.414 total time= 2.6min\n",
      "[CV 1/3] END bootstrap=True, max_depth=60, max_features=sqrt, min_samples_leaf=67, min_samples_split=44, n_estimators=2063;, score=0.230 total time=  18.9s\n",
      "[CV 3/3] END bootstrap=True, max_depth=60, max_features=sqrt, min_samples_leaf=67, min_samples_split=44, n_estimators=2063;, score=0.315 total time=  18.7s\n",
      "[CV 3/3] END bootstrap=False, max_depth=175, max_features=sqrt, min_samples_leaf=45, min_samples_split=28, n_estimators=614;, score=0.375 total time=   8.7s\n",
      "[CV 2/3] END bootstrap=False, max_depth=410, max_features=auto, min_samples_leaf=100, min_samples_split=12, n_estimators=885;, score=0.258 total time=  56.7s\n",
      "[CV 1/3] END bootstrap=True, max_depth=495, max_features=auto, min_samples_leaf=56, min_samples_split=12, n_estimators=2365;, score=0.377 total time= 1.8min\n",
      "[CV 3/3] END bootstrap=True, max_depth=495, max_features=auto, min_samples_leaf=56, min_samples_split=12, n_estimators=2365;, score=0.443 total time= 1.7min\n",
      "[CV 1/3] END bootstrap=False, max_depth=290, max_features=auto, min_samples_leaf=56, min_samples_split=50, n_estimators=2486;, score=0.204 total time= 3.2min\n",
      "[CV 3/3] END bootstrap=False, max_depth=290, max_features=auto, min_samples_leaf=56, min_samples_split=50, n_estimators=2486;, score=0.425 total time= 3.0min\n",
      "[CV 3/3] END bootstrap=True, max_depth=15, max_features=auto, min_samples_leaf=34, min_samples_split=12, n_estimators=2093;, score=0.471 total time= 1.8min\n",
      "[CV 2/3] END bootstrap=True, max_depth=480, max_features=auto, min_samples_leaf=45, min_samples_split=28, n_estimators=2939;, score=0.426 total time= 2.4min\n",
      "[CV 1/3] END bootstrap=False, max_depth=345, max_features=auto, min_samples_leaf=1, min_samples_split=50, n_estimators=765;, score=-0.074 total time= 1.4min\n",
      "[CV 2/3] END bootstrap=False, max_depth=345, max_features=auto, min_samples_leaf=1, min_samples_split=50, n_estimators=765;, score=-0.264 total time= 1.4min\n",
      "[CV 2/3] END bootstrap=True, max_depth=300, max_features=sqrt, min_samples_leaf=34, min_samples_split=12, n_estimators=2788;, score=0.488 total time=  30.0s\n",
      "[CV 3/3] END bootstrap=True, max_depth=300, max_features=sqrt, min_samples_leaf=34, min_samples_split=12, n_estimators=2788;, score=0.360 total time=  29.5s\n",
      "[CV 1/3] END bootstrap=True, max_depth=150, max_features=sqrt, min_samples_leaf=34, min_samples_split=39, n_estimators=493;, score=0.217 total time=   5.3s\n",
      "[CV 2/3] END bootstrap=True, max_depth=150, max_features=sqrt, min_samples_leaf=34, min_samples_split=39, n_estimators=493;, score=0.486 total time=   5.4s\n",
      "[CV 3/3] END bootstrap=True, max_depth=150, max_features=sqrt, min_samples_leaf=34, min_samples_split=39, n_estimators=493;, score=0.361 total time=   5.2s\n",
      "[CV 2/3] END bootstrap=True, max_depth=60, max_features=sqrt, min_samples_leaf=67, min_samples_split=44, n_estimators=2063;, score=0.478 total time=  19.0s\n",
      "[CV 1/3] END bootstrap=False, max_depth=175, max_features=sqrt, min_samples_leaf=45, min_samples_split=28, n_estimators=614;, score=0.228 total time=   8.9s\n",
      "[CV 2/3] END bootstrap=False, max_depth=175, max_features=sqrt, min_samples_leaf=45, min_samples_split=28, n_estimators=614;, score=0.486 total time=   8.9s\n",
      "[CV 1/3] END bootstrap=False, max_depth=410, max_features=auto, min_samples_leaf=100, min_samples_split=12, n_estimators=885;, score=0.248 total time=  59.3s\n",
      "[CV 3/3] END bootstrap=False, max_depth=410, max_features=auto, min_samples_leaf=100, min_samples_split=12, n_estimators=885;, score=0.408 total time=  55.3s\n",
      "[CV 2/3] END bootstrap=True, max_depth=495, max_features=auto, min_samples_leaf=56, min_samples_split=12, n_estimators=2365;, score=0.434 total time= 1.8min\n",
      "[CV 1/3] END bootstrap=True, max_depth=375, max_features=sqrt, min_samples_leaf=34, min_samples_split=12, n_estimators=1701;, score=0.218 total time=  18.4s\n",
      "[CV 2/3] END bootstrap=True, max_depth=375, max_features=sqrt, min_samples_leaf=34, min_samples_split=12, n_estimators=1701;, score=0.488 total time=  18.4s\n",
      "[CV 3/3] END bootstrap=True, max_depth=375, max_features=sqrt, min_samples_leaf=34, min_samples_split=12, n_estimators=1701;, score=0.360 total time=  18.1s\n",
      "[CV 2/3] END bootstrap=False, max_depth=290, max_features=auto, min_samples_leaf=56, min_samples_split=50, n_estimators=2486;, score=0.134 total time= 3.2min\n",
      "[CV 1/3] END bootstrap=True, max_depth=430, max_features=sqrt, min_samples_leaf=56, min_samples_split=23, n_estimators=855;, score=0.216 total time=   8.3s\n",
      "[CV 2/3] END bootstrap=True, max_depth=430, max_features=sqrt, min_samples_leaf=56, min_samples_split=23, n_estimators=855;, score=0.485 total time=   8.3s\n",
      "[CV 3/3] END bootstrap=True, max_depth=430, max_features=sqrt, min_samples_leaf=56, min_samples_split=23, n_estimators=855;, score=0.329 total time=   8.2s\n",
      "[CV 1/3] END bootstrap=True, max_depth=15, max_features=auto, min_samples_leaf=34, min_samples_split=12, n_estimators=2093;, score=0.390 total time= 1.9min\n",
      "[CV 2/3] END bootstrap=True, max_depth=15, max_features=auto, min_samples_leaf=34, min_samples_split=12, n_estimators=2093;, score=0.421 total time= 1.9min\n",
      "[CV 1/3] END bootstrap=True, max_depth=480, max_features=auto, min_samples_leaf=45, min_samples_split=28, n_estimators=2939;, score=0.384 total time= 2.4min\n",
      "[CV 3/3] END bootstrap=True, max_depth=480, max_features=auto, min_samples_leaf=45, min_samples_split=28, n_estimators=2939;, score=0.458 total time= 2.3min\n",
      "[CV 3/3] END bootstrap=False, max_depth=345, max_features=auto, min_samples_leaf=1, min_samples_split=50, n_estimators=765;, score=0.375 total time= 1.3min\n",
      "[CV 2/3] END bootstrap=True, max_depth=395, max_features=auto, min_samples_leaf=89, min_samples_split=50, n_estimators=2003;, score=0.423 total time= 1.4min\n",
      "[CV 1/3] END bootstrap=False, max_depth=155, max_features=auto, min_samples_leaf=1, min_samples_split=18, n_estimators=1822;, score=-0.271 total time= 4.0min\n",
      "[CV 3/3] END bootstrap=False, max_depth=155, max_features=auto, min_samples_leaf=1, min_samples_split=18, n_estimators=1822;, score=0.339 total time= 3.7min\n",
      "[CV 2/3] END bootstrap=True, max_depth=205, max_features=sqrt, min_samples_leaf=100, min_samples_split=2, n_estimators=2969;, score=0.455 total time=  26.2s\n",
      "[CV 1/3] END bootstrap=False, max_depth=175, max_features=sqrt, min_samples_leaf=89, min_samples_split=23, n_estimators=2909;, score=0.222 total time=  36.0s\n",
      "[CV 3/3] END bootstrap=False, max_depth=175, max_features=sqrt, min_samples_leaf=89, min_samples_split=23, n_estimators=2909;, score=0.328 total time=  35.3s\n",
      "[CV 2/3] END bootstrap=False, max_depth=500, max_features=auto, min_samples_leaf=89, min_samples_split=50, n_estimators=2788;, score=0.214 total time= 3.1min\n",
      "[CV 1/3] END bootstrap=True, max_depth=210, max_features=sqrt, min_samples_leaf=78, min_samples_split=39, n_estimators=191;, score=0.226 total time=   1.7s\n",
      "[CV 2/3] END bootstrap=True, max_depth=210, max_features=sqrt, min_samples_leaf=78, min_samples_split=39, n_estimators=191;, score=0.474 total time=   1.7s\n",
      "[CV 3/3] END bootstrap=True, max_depth=210, max_features=sqrt, min_samples_leaf=78, min_samples_split=39, n_estimators=191;, score=0.305 total time=   1.7s\n",
      "[CV 1/3] END bootstrap=True, max_depth=110, max_features=auto, min_samples_leaf=100, min_samples_split=39, n_estimators=2214;, score=0.362 total time= 1.5min\n",
      "[CV 2/3] END bootstrap=True, max_depth=110, max_features=auto, min_samples_leaf=100, min_samples_split=39, n_estimators=2214;, score=0.421 total time= 1.5min\n",
      "[CV 1/3] END bootstrap=True, max_depth=460, max_features=auto, min_samples_leaf=89, min_samples_split=2, n_estimators=1218;, score=0.363 total time=  49.9s\n",
      "[CV 2/3] END bootstrap=True, max_depth=460, max_features=auto, min_samples_leaf=89, min_samples_split=2, n_estimators=1218;, score=0.424 total time=  49.7s\n",
      "[CV 1/3] END bootstrap=True, max_depth=470, max_features=auto, min_samples_leaf=89, min_samples_split=23, n_estimators=644;, score=0.363 total time=  26.4s\n",
      "[CV 3/3] END bootstrap=True, max_depth=470, max_features=auto, min_samples_leaf=89, min_samples_split=23, n_estimators=644;, score=0.403 total time=  25.2s\n",
      "[CV 2/3] END bootstrap=True, max_depth=340, max_features=auto, min_samples_leaf=56, min_samples_split=50, n_estimators=2728;, score=0.433 total time= 2.1min\n",
      "[CV 1/3] END bootstrap=False, max_depth=165, max_features=auto, min_samples_leaf=12, min_samples_split=39, n_estimators=614;, score=0.063 total time= 1.0min\n",
      "[CV 2/3] END bootstrap=False, max_depth=165, max_features=auto, min_samples_leaf=12, min_samples_split=39, n_estimators=614;, score=-0.062 total time= 1.0min\n",
      "[CV 1/3] END bootstrap=False, max_depth=100, max_features=auto, min_samples_leaf=12, min_samples_split=34, n_estimators=2124;, score=0.037 total time= 3.7min\n",
      "[CV 3/3] END bootstrap=False, max_depth=100, max_features=auto, min_samples_leaf=12, min_samples_split=34, n_estimators=2124;, score=0.386 total time= 3.5min\n",
      "[CV 3/3] END bootstrap=True, max_depth=375, max_features=auto, min_samples_leaf=67, min_samples_split=18, n_estimators=2758;, score=0.428 total time= 1.9min\n",
      "[CV 3/3] END bootstrap=True, max_depth=455, max_features=sqrt, min_samples_leaf=1, min_samples_split=39, n_estimators=2365;, score=0.431 total time=  30.9s\n",
      "[CV 2/3] END bootstrap=False, max_depth=285, max_features=sqrt, min_samples_leaf=100, min_samples_split=23, n_estimators=2003;, score=0.477 total time=  24.0s\n",
      "[CV 1/3] END bootstrap=False, max_depth=45, max_features=sqrt, min_samples_leaf=23, min_samples_split=18, n_estimators=523;, score=0.203 total time=   8.8s\n",
      "[CV 2/3] END bootstrap=False, max_depth=45, max_features=sqrt, min_samples_leaf=23, min_samples_split=18, n_estimators=523;, score=0.465 total time=   8.7s\n",
      "[CV 1/3] END bootstrap=False, max_depth=465, max_features=auto, min_samples_leaf=45, min_samples_split=2, n_estimators=1852;, score=0.190 total time= 2.5min\n",
      "[CV 3/3] END bootstrap=False, max_depth=465, max_features=auto, min_samples_leaf=45, min_samples_split=2, n_estimators=1852;, score=0.414 total time= 2.3min\n",
      "[CV 2/3] END bootstrap=True, max_depth=435, max_features=auto, min_samples_leaf=56, min_samples_split=18, n_estimators=2758;, score=0.433 total time= 2.1min\n"
     ]
    },
    {
     "data": {
      "text/plain": [
       "RandomizedSearchCV(cv=3, estimator=RandomForestRegressor(random_state=1509),\n",
       "                   n_iter=100, n_jobs=-1,\n",
       "                   param_distributions={'bootstrap': [True, False],\n",
       "                                        'max_depth': [5, 10, 15, 20, 25, 30, 35,\n",
       "                                                      40, 45, 50, 55, 60, 65,\n",
       "                                                      70, 75, 80, 85, 90, 95,\n",
       "                                                      100, 105, 110, 115, 120,\n",
       "                                                      125, 130, 135, 140, 145,\n",
       "                                                      150, ...],\n",
       "                                        'max_features': ['auto', 'sqrt'],\n",
       "                                        'min_samples_leaf': [1, 12, 23, 34, 45,\n",
       "                                                             56, 67, 78, 89,\n",
       "                                                             100],\n",
       "                                        'min_samples_split': [2, 7, 12, 18, 23,\n",
       "                                                              28, 34, 39, 44,\n",
       "                                                              50],\n",
       "                                        'n_estimators': [10, 40, 70, 100, 130,\n",
       "                                                         161, 191, 221, 251,\n",
       "                                                         281, 312, 342, 372,\n",
       "                                                         402, 432, 463, 493,\n",
       "                                                         523, 553, 583, 614,\n",
       "                                                         644, 674, 704, 734,\n",
       "                                                         765, 795, 825, 855,\n",
       "                                                         885, ...]},\n",
       "                   random_state=1509, scoring='r2', verbose=3)"
      ]
     },
     "execution_count": 54,
     "metadata": {},
     "output_type": "execute_result"
    },
    {
     "name": "stdout",
     "output_type": "stream",
     "text": [
      "[CV 1/3] END bootstrap=True, max_depth=390, max_features=auto, min_samples_leaf=56, min_samples_split=44, n_estimators=1912;, score=0.377 total time= 1.5min\n",
      "[CV 3/3] END bootstrap=True, max_depth=390, max_features=auto, min_samples_leaf=56, min_samples_split=44, n_estimators=1912;, score=0.443 total time= 1.4min\n",
      "[CV 2/3] END bootstrap=True, max_depth=350, max_features=auto, min_samples_leaf=23, min_samples_split=50, n_estimators=1127;, score=0.406 total time= 1.1min\n",
      "[CV 1/3] END bootstrap=True, max_depth=395, max_features=auto, min_samples_leaf=89, min_samples_split=50, n_estimators=2003;, score=0.365 total time= 1.4min\n",
      "[CV 3/3] END bootstrap=True, max_depth=395, max_features=auto, min_samples_leaf=89, min_samples_split=50, n_estimators=2003;, score=0.403 total time= 1.3min\n",
      "[CV 2/3] END bootstrap=False, max_depth=155, max_features=auto, min_samples_leaf=1, min_samples_split=18, n_estimators=1822;, score=-0.510 total time= 4.0min\n",
      "[CV 1/3] END bootstrap=True, max_depth=70, max_features=sqrt, min_samples_leaf=67, min_samples_split=23, n_estimators=40;, score=0.273 total time=   0.4s\n",
      "[CV 2/3] END bootstrap=True, max_depth=70, max_features=sqrt, min_samples_leaf=67, min_samples_split=23, n_estimators=40;, score=0.473 total time=   0.4s\n",
      "[CV 3/3] END bootstrap=True, max_depth=70, max_features=sqrt, min_samples_leaf=67, min_samples_split=23, n_estimators=40;, score=0.316 total time=   0.4s\n",
      "[CV 1/3] END bootstrap=False, max_depth=330, max_features=sqrt, min_samples_leaf=12, min_samples_split=23, n_estimators=2546;, score=0.177 total time=  49.1s\n",
      "[CV 2/3] END bootstrap=False, max_depth=330, max_features=sqrt, min_samples_leaf=12, min_samples_split=23, n_estimators=2546;, score=0.416 total time=  48.9s\n",
      "[CV 3/3] END bootstrap=False, max_depth=330, max_features=sqrt, min_samples_leaf=12, min_samples_split=23, n_estimators=2546;, score=0.439 total time=  47.8s\n",
      "[CV 1/3] END bootstrap=True, max_depth=205, max_features=sqrt, min_samples_leaf=100, min_samples_split=2, n_estimators=2969;, score=0.237 total time=  25.2s\n",
      "[CV 3/3] END bootstrap=True, max_depth=205, max_features=sqrt, min_samples_leaf=100, min_samples_split=2, n_estimators=2969;, score=0.283 total time=  25.8s\n",
      "[CV 2/3] END bootstrap=False, max_depth=175, max_features=sqrt, min_samples_leaf=89, min_samples_split=23, n_estimators=2909;, score=0.482 total time=  35.8s\n",
      "[CV 1/3] END bootstrap=False, max_depth=500, max_features=auto, min_samples_leaf=89, min_samples_split=50, n_estimators=2788;, score=0.247 total time= 3.1min\n",
      "[CV 3/3] END bootstrap=False, max_depth=500, max_features=auto, min_samples_leaf=89, min_samples_split=50, n_estimators=2788;, score=0.417 total time= 3.0min\n",
      "[CV 3/3] END bootstrap=True, max_depth=110, max_features=auto, min_samples_leaf=100, min_samples_split=39, n_estimators=2214;, score=0.395 total time= 1.4min\n",
      "[CV 3/3] END bootstrap=True, max_depth=460, max_features=auto, min_samples_leaf=89, min_samples_split=2, n_estimators=1218;, score=0.404 total time=  47.7s\n",
      "[CV 2/3] END bootstrap=True, max_depth=470, max_features=auto, min_samples_leaf=89, min_samples_split=23, n_estimators=644;, score=0.424 total time=  26.2s\n",
      "[CV 1/3] END bootstrap=True, max_depth=340, max_features=auto, min_samples_leaf=56, min_samples_split=50, n_estimators=2728;, score=0.377 total time= 2.1min\n",
      "[CV 3/3] END bootstrap=True, max_depth=340, max_features=auto, min_samples_leaf=56, min_samples_split=50, n_estimators=2728;, score=0.443 total time= 2.0min\n",
      "[CV 3/3] END bootstrap=False, max_depth=165, max_features=auto, min_samples_leaf=12, min_samples_split=39, n_estimators=614;, score=0.384 total time=  59.4s\n",
      "[CV 2/3] END bootstrap=False, max_depth=100, max_features=auto, min_samples_leaf=12, min_samples_split=34, n_estimators=2124;, score=-0.086 total time= 3.7min\n",
      "[CV 1/3] END bootstrap=True, max_depth=375, max_features=auto, min_samples_leaf=67, min_samples_split=18, n_estimators=2758;, score=0.372 total time= 2.0min\n",
      "[CV 2/3] END bootstrap=True, max_depth=375, max_features=auto, min_samples_leaf=67, min_samples_split=18, n_estimators=2758;, score=0.432 total time= 2.0min\n",
      "[CV 1/3] END bootstrap=True, max_depth=455, max_features=sqrt, min_samples_leaf=1, min_samples_split=39, n_estimators=2365;, score=0.123 total time=  32.1s\n",
      "[CV 2/3] END bootstrap=True, max_depth=455, max_features=sqrt, min_samples_leaf=1, min_samples_split=39, n_estimators=2365;, score=0.375 total time=  31.7s\n",
      "[CV 1/3] END bootstrap=False, max_depth=285, max_features=sqrt, min_samples_leaf=100, min_samples_split=23, n_estimators=2003;, score=0.227 total time=  24.2s\n",
      "[CV 3/3] END bootstrap=False, max_depth=285, max_features=sqrt, min_samples_leaf=100, min_samples_split=23, n_estimators=2003;, score=0.320 total time=  23.4s\n",
      "[CV 3/3] END bootstrap=False, max_depth=45, max_features=sqrt, min_samples_leaf=23, min_samples_split=18, n_estimators=523;, score=0.414 total time=   8.5s\n",
      "[CV 2/3] END bootstrap=False, max_depth=465, max_features=auto, min_samples_leaf=45, min_samples_split=2, n_estimators=1852;, score=0.111 total time= 2.5min\n",
      "[CV 1/3] END bootstrap=True, max_depth=225, max_features=auto, min_samples_leaf=12, min_samples_split=44, n_estimators=432;, score=0.385 total time=  26.9s\n",
      "[CV 2/3] END bootstrap=True, max_depth=225, max_features=auto, min_samples_leaf=12, min_samples_split=44, n_estimators=432;, score=0.352 total time=  26.7s\n",
      "[CV 3/3] END bootstrap=True, max_depth=225, max_features=auto, min_samples_leaf=12, min_samples_split=44, n_estimators=432;, score=0.500 total time=  26.1s\n",
      "[CV 1/3] END bootstrap=True, max_depth=435, max_features=auto, min_samples_leaf=56, min_samples_split=18, n_estimators=2758;, score=0.377 total time= 2.1min\n",
      "[CV 3/3] END bootstrap=True, max_depth=435, max_features=auto, min_samples_leaf=56, min_samples_split=18, n_estimators=2758;, score=0.443 total time= 2.0min\n",
      "[CV 2/3] END bootstrap=True, max_depth=390, max_features=auto, min_samples_leaf=56, min_samples_split=44, n_estimators=1912;, score=0.434 total time= 1.5min\n",
      "[CV 1/3] END bootstrap=True, max_depth=350, max_features=auto, min_samples_leaf=23, min_samples_split=50, n_estimators=1127;, score=0.389 total time= 1.1min\n",
      "[CV 3/3] END bootstrap=True, max_depth=350, max_features=auto, min_samples_leaf=23, min_samples_split=50, n_estimators=1127;, score=0.487 total time=  50.5s\n"
     ]
    }
   ],
   "source": [
    "# Fit the random search model\n",
    "RF_random_out.fit(X, Y_out.values.ravel())"
   ]
  },
  {
   "cell_type": "code",
   "execution_count": 92,
   "id": "ebe23e9d-578f-4645-a5d8-599d6de0509c",
   "metadata": {
    "tags": []
   },
   "outputs": [
    {
     "name": "stdout",
     "output_type": "stream",
     "text": [
      "Best Score: 0.42809867095426846\n"
     ]
    }
   ],
   "source": [
    "print('Best Score: %s' % RF_random_out.best_score_)"
   ]
  },
  {
   "cell_type": "code",
   "execution_count": 56,
   "id": "ccc92a18-8821-4751-8194-7ff67c1397a0",
   "metadata": {
    "tags": []
   },
   "outputs": [
    {
     "data": {
      "text/plain": [
       "{'n_estimators': 1278,\n",
       " 'min_samples_split': 23,\n",
       " 'min_samples_leaf': 23,\n",
       " 'max_features': 'auto',\n",
       " 'max_depth': 125,\n",
       " 'bootstrap': True}"
      ]
     },
     "execution_count": 56,
     "metadata": {},
     "output_type": "execute_result"
    }
   ],
   "source": [
    "RF_random_out.best_params_"
   ]
  },
  {
   "cell_type": "code",
   "execution_count": null,
   "id": "2ff56bff-db89-4689-90cf-e300757259c7",
   "metadata": {},
   "outputs": [],
   "source": [
    "RF_random_out.cv_results_"
   ]
  },
  {
   "cell_type": "code",
   "execution_count": 91,
   "id": "f2934fd9-73e8-4613-8664-e50867afa528",
   "metadata": {},
   "outputs": [
    {
     "name": "stdout",
     "output_type": "stream",
     "text": [
      "0.7514533672429826\n",
      "0.7524911214616127\n",
      "0.7473368933288582\n"
     ]
    }
   ],
   "source": [
    "best_random = RF_random_out.best_estimator_\n",
    "print(best_random.score(X, Y_out))\n",
    "print(best_random.score(X_train , Y_train_out))\n",
    "print(best_random.score(X_test , Y_test_out))"
   ]
  },
  {
   "cell_type": "markdown",
   "id": "008a7b43-7574-4965-a618-9994652679e9",
   "metadata": {},
   "source": [
    "### Tune hyperparameters with grid search"
   ]
  },
  {
   "cell_type": "code",
   "execution_count": 62,
   "id": "b085dd6c-1716-4dae-b3b9-8988e73756c6",
   "metadata": {},
   "outputs": [],
   "source": [
    "# Create the base model to tune (with some parameters from random search)\n",
    "RF_base_mod_out  = RandomForestRegressor(random_state = 1509,\n",
    "                                         max_features = 'auto',\n",
    "                                         bootstrap = True)\n",
    "\n",
    "# Create the parameter grid based on the results of random search \n",
    "param_grid = {\n",
    "    'n_estimators': [500, 2500],\n",
    "    'max_depth': [10, 300],\n",
    "    'min_samples_split': [8, 80],\n",
    "    'min_samples_leaf': [8, 80],\n",
    "}\n",
    "\n",
    "# Grid search of parameters on base model using 3 fold cross validation \n",
    "# Search all possible cominations, and use all available cores\n",
    "RF_grid_out = GridSearchCV(estimator = RF_base_mod_out, \n",
    "                           param_grid = param_grid,\n",
    "                           scoring = 'r2',\n",
    "                           cv = 3, \n",
    "                           verbose = 3, n_jobs = -1)"
   ]
  },
  {
   "cell_type": "code",
   "execution_count": 63,
   "id": "54639df1-5ddf-4a34-9003-2374d3a0a829",
   "metadata": {},
   "outputs": [
    {
     "name": "stdout",
     "output_type": "stream",
     "text": [
      "Fitting 3 folds for each of 16 candidates, totalling 48 fits\n"
     ]
    },
    {
     "data": {
      "text/plain": [
       "GridSearchCV(cv=3, estimator=RandomForestRegressor(random_state=1509),\n",
       "             n_jobs=-1,\n",
       "             param_grid={'max_depth': [10, 300], 'min_samples_leaf': [8, 80],\n",
       "                         'min_samples_split': [8, 80],\n",
       "                         'n_estimators': [500, 2500]},\n",
       "             scoring='r2', verbose=3)"
      ]
     },
     "execution_count": 63,
     "metadata": {},
     "output_type": "execute_result"
    },
    {
     "name": "stdout",
     "output_type": "stream",
     "text": [
      "[CV 2/3] END max_depth=10, min_samples_leaf=8, min_samples_split=8, n_estimators=500;, score=0.310 total time=  33.7s\n",
      "[CV 1/3] END max_depth=10, min_samples_leaf=8, min_samples_split=8, n_estimators=2500;, score=0.367 total time= 2.8min\n",
      "[CV 3/3] END max_depth=10, min_samples_leaf=8, min_samples_split=8, n_estimators=2500;, score=0.506 total time= 2.7min\n",
      "[CV 2/3] END max_depth=10, min_samples_leaf=8, min_samples_split=80, n_estimators=2500;, score=0.342 total time= 2.3min\n",
      "[CV 1/3] END max_depth=10, min_samples_leaf=80, min_samples_split=8, n_estimators=500;, score=0.366 total time=  21.0s\n",
      "[CV 2/3] END max_depth=10, min_samples_leaf=80, min_samples_split=8, n_estimators=500;, score=0.428 total time=  21.0s\n",
      "[CV 3/3] END max_depth=10, min_samples_leaf=80, min_samples_split=8, n_estimators=500;, score=0.413 total time=  20.2s\n",
      "[CV 1/3] END max_depth=10, min_samples_leaf=80, min_samples_split=8, n_estimators=2500;, score=0.367 total time= 1.8min\n",
      "[CV 3/3] END max_depth=10, min_samples_leaf=80, min_samples_split=8, n_estimators=2500;, score=0.413 total time= 1.7min\n",
      "[CV 2/3] END max_depth=10, min_samples_leaf=80, min_samples_split=80, n_estimators=2500;, score=0.426 total time= 1.7min\n",
      "[CV 1/3] END max_depth=300, min_samples_leaf=8, min_samples_split=8, n_estimators=500;, score=0.370 total time=  36.7s\n",
      "[CV 2/3] END max_depth=300, min_samples_leaf=8, min_samples_split=8, n_estimators=500;, score=0.308 total time=  36.5s\n",
      "[CV 3/3] END max_depth=300, min_samples_leaf=8, min_samples_split=8, n_estimators=500;, score=0.513 total time=  35.6s\n",
      "[CV 2/3] END max_depth=300, min_samples_leaf=8, min_samples_split=8, n_estimators=2500;, score=0.303 total time= 3.1min\n",
      "[CV 1/3] END max_depth=300, min_samples_leaf=8, min_samples_split=80, n_estimators=500;, score=0.376 total time=  28.8s\n",
      "[CV 2/3] END max_depth=300, min_samples_leaf=8, min_samples_split=80, n_estimators=500;, score=0.347 total time=  28.5s\n",
      "[CV 3/3] END max_depth=300, min_samples_leaf=8, min_samples_split=80, n_estimators=500;, score=0.486 total time=  27.8s\n",
      "[CV 1/3] END max_depth=300, min_samples_leaf=8, min_samples_split=80, n_estimators=2500;, score=0.374 total time= 2.4min\n",
      "[CV 3/3] END max_depth=300, min_samples_leaf=8, min_samples_split=80, n_estimators=2500;, score=0.486 total time= 2.3min\n",
      "[CV 1/3] END max_depth=300, min_samples_leaf=80, min_samples_split=8, n_estimators=2500;, score=0.367 total time= 1.8min\n",
      "[CV 3/3] END max_depth=300, min_samples_leaf=80, min_samples_split=8, n_estimators=2500;, score=0.413 total time= 1.7min\n",
      "[CV 2/3] END max_depth=300, min_samples_leaf=80, min_samples_split=80, n_estimators=2500;, score=0.426 total time= 1.7min\n",
      "[CV 1/3] END max_depth=10, min_samples_leaf=8, min_samples_split=8, n_estimators=500;, score=0.368 total time=  33.4s\n",
      "[CV 3/3] END max_depth=10, min_samples_leaf=8, min_samples_split=8, n_estimators=500;, score=0.506 total time=  33.0s\n",
      "[CV 2/3] END max_depth=10, min_samples_leaf=8, min_samples_split=8, n_estimators=2500;, score=0.304 total time= 2.8min\n",
      "[CV 1/3] END max_depth=10, min_samples_leaf=8, min_samples_split=80, n_estimators=500;, score=0.374 total time=  28.0s\n",
      "[CV 2/3] END max_depth=10, min_samples_leaf=8, min_samples_split=80, n_estimators=500;, score=0.347 total time=  28.1s\n",
      "[CV 3/3] END max_depth=10, min_samples_leaf=8, min_samples_split=80, n_estimators=500;, score=0.484 total time=  27.3s\n",
      "[CV 1/3] END max_depth=10, min_samples_leaf=8, min_samples_split=80, n_estimators=2500;, score=0.373 total time= 2.3min\n",
      "[CV 3/3] END max_depth=10, min_samples_leaf=8, min_samples_split=80, n_estimators=2500;, score=0.484 total time= 2.3min\n",
      "[CV 2/3] END max_depth=10, min_samples_leaf=80, min_samples_split=8, n_estimators=2500;, score=0.426 total time= 1.8min\n",
      "[CV 1/3] END max_depth=10, min_samples_leaf=80, min_samples_split=80, n_estimators=500;, score=0.366 total time=  21.2s\n",
      "[CV 2/3] END max_depth=10, min_samples_leaf=80, min_samples_split=80, n_estimators=500;, score=0.428 total time=  21.1s\n",
      "[CV 3/3] END max_depth=10, min_samples_leaf=80, min_samples_split=80, n_estimators=500;, score=0.413 total time=  20.3s\n",
      "[CV 1/3] END max_depth=10, min_samples_leaf=80, min_samples_split=80, n_estimators=2500;, score=0.367 total time= 1.8min\n",
      "[CV 3/3] END max_depth=10, min_samples_leaf=80, min_samples_split=80, n_estimators=2500;, score=0.413 total time= 1.7min\n",
      "[CV 1/3] END max_depth=300, min_samples_leaf=8, min_samples_split=8, n_estimators=2500;, score=0.368 total time= 3.1min\n",
      "[CV 3/3] END max_depth=300, min_samples_leaf=8, min_samples_split=8, n_estimators=2500;, score=0.512 total time= 3.0min\n",
      "[CV 2/3] END max_depth=300, min_samples_leaf=8, min_samples_split=80, n_estimators=2500;, score=0.343 total time= 2.4min\n",
      "[CV 1/3] END max_depth=300, min_samples_leaf=80, min_samples_split=8, n_estimators=500;, score=0.366 total time=  21.3s\n",
      "[CV 2/3] END max_depth=300, min_samples_leaf=80, min_samples_split=8, n_estimators=500;, score=0.428 total time=  21.1s\n",
      "[CV 3/3] END max_depth=300, min_samples_leaf=80, min_samples_split=8, n_estimators=500;, score=0.413 total time=  20.4s\n",
      "[CV 2/3] END max_depth=300, min_samples_leaf=80, min_samples_split=8, n_estimators=2500;, score=0.426 total time= 1.8min\n",
      "[CV 1/3] END max_depth=300, min_samples_leaf=80, min_samples_split=80, n_estimators=500;, score=0.366 total time=  21.1s\n",
      "[CV 2/3] END max_depth=300, min_samples_leaf=80, min_samples_split=80, n_estimators=500;, score=0.428 total time=  21.0s\n",
      "[CV 3/3] END max_depth=300, min_samples_leaf=80, min_samples_split=80, n_estimators=500;, score=0.413 total time=  20.3s\n",
      "[CV 1/3] END max_depth=300, min_samples_leaf=80, min_samples_split=80, n_estimators=2500;, score=0.367 total time= 1.8min\n",
      "[CV 3/3] END max_depth=300, min_samples_leaf=80, min_samples_split=80, n_estimators=2500;, score=0.413 total time= 1.4min\n"
     ]
    }
   ],
   "source": [
    "# Fit the grid search model\n",
    "RF_grid_out.fit(X, Y_out.values.ravel())"
   ]
  },
  {
   "cell_type": "code",
   "execution_count": 64,
   "id": "274c6405-4e0a-466d-8c9b-17c517ba3f02",
   "metadata": {},
   "outputs": [
    {
     "name": "stdout",
     "output_type": "stream",
     "text": [
      "Best Score: 0.4029395538065928\n"
     ]
    }
   ],
   "source": [
    "print('Best Score: %s' % RF_grid_out.best_score_)"
   ]
  },
  {
   "cell_type": "code",
   "execution_count": 65,
   "id": "3adb22e9-46fb-4622-ba35-11f2cc19a760",
   "metadata": {},
   "outputs": [
    {
     "data": {
      "text/plain": [
       "{'max_depth': 300,\n",
       " 'min_samples_leaf': 8,\n",
       " 'min_samples_split': 80,\n",
       " 'n_estimators': 500}"
      ]
     },
     "execution_count": 65,
     "metadata": {},
     "output_type": "execute_result"
    }
   ],
   "source": [
    "RF_grid_out.best_params_"
   ]
  },
  {
   "cell_type": "code",
   "execution_count": 66,
   "id": "e15613d1-2d2c-415a-9942-0dd6ee1a74d5",
   "metadata": {},
   "outputs": [
    {
     "name": "stdout",
     "output_type": "stream",
     "text": [
      "0.7391362919649886\n",
      "0.7340232720416157\n"
     ]
    }
   ],
   "source": [
    "best_grid = RF_grid_out.best_estimator_\n",
    "print(best_grid.score(X_train, Y_train_out))\n",
    "print(best_grid.score(X_test, Y_test_out))"
   ]
  },
  {
   "cell_type": "markdown",
   "id": "65a36a0b-f65f-4e08-bf3e-2e4c9e5fe435",
   "metadata": {},
   "source": [
    "### Manually configure hyperparameters"
   ]
  },
  {
   "cell_type": "code",
   "execution_count": 70,
   "id": "9843a3aa-a239-400d-94a6-1e304cb73c6d",
   "metadata": {},
   "outputs": [],
   "source": [
    "RF_mod_out = RandomForestRegressor(random_state = 1509,\n",
    "                                   n_estimators = 1278,\n",
    "                                   max_depth = 125,\n",
    "                                   min_samples_split = 23,\n",
    "                                   min_samples_leaf = 23,\n",
    "                                   max_features = 'auto',\n",
    "                                   bootstrap = True)"
   ]
  },
  {
   "cell_type": "code",
   "execution_count": 71,
   "id": "e962ef11-2a32-4806-b53d-b18b1668c5b4",
   "metadata": {},
   "outputs": [
    {
     "data": {
      "text/plain": [
       "RandomForestRegressor(max_depth=125, min_samples_leaf=23, min_samples_split=23,\n",
       "                      n_estimators=1278, random_state=1509)"
      ]
     },
     "execution_count": 71,
     "metadata": {},
     "output_type": "execute_result"
    }
   ],
   "source": [
    "# Fit the manually configured model\n",
    "RF_mod_out.fit(X_train, Y_train_out.values.ravel())"
   ]
  },
  {
   "cell_type": "code",
   "execution_count": 72,
   "id": "7321559c-147b-4456-a5db-25988ed3b577",
   "metadata": {},
   "outputs": [
    {
     "name": "stdout",
     "output_type": "stream",
     "text": [
      "{'bootstrap': True, 'ccp_alpha': 0.0, 'criterion': 'mse', 'max_depth': 125, 'max_features': 'auto', 'max_leaf_nodes': None, 'max_samples': None, 'min_impurity_decrease': 0.0, 'min_impurity_split': None, 'min_samples_leaf': 23, 'min_samples_split': 23, 'min_weight_fraction_leaf': 0.0, 'n_estimators': 1278, 'n_jobs': None, 'oob_score': False, 'random_state': 1509, 'verbose': 0, 'warm_start': False}\n"
     ]
    }
   ],
   "source": [
    "print(RF_mod_out.get_params())"
   ]
  },
  {
   "cell_type": "markdown",
   "id": "42fe5908-ee05-4e14-ab13-87e581d7f863",
   "metadata": {},
   "source": [
    "### Predictions"
   ]
  },
  {
   "cell_type": "code",
   "execution_count": 37,
   "id": "51c74294-93e2-4a5f-9a03-43bb21f4ffaf",
   "metadata": {},
   "outputs": [],
   "source": [
    "# Base model\n",
    "# preds_RF_train_out = RF_0.predict(X_train)\n",
    "# preds_RF_test_out = RF_0.predict(X_test)"
   ]
  },
  {
   "cell_type": "code",
   "execution_count": 95,
   "id": "48f6b206-5fcc-4442-952e-834c23aa2ffc",
   "metadata": {
    "tags": []
   },
   "outputs": [],
   "source": [
    "# Manually configured model (outflows)\n",
    "preds_RF_train_out = RF_mod_out.predict(X_train)\n",
    "preds_RF_test_out = RF_mod_out.predict(X_test)"
   ]
  },
  {
   "cell_type": "code",
   "execution_count": 97,
   "id": "bb6d4f7f-b93a-4b24-b691-f5717fb34cea",
   "metadata": {},
   "outputs": [],
   "source": [
    "# Model tuned with randomized and grid search (outflows)\n",
    "preds_RF_train_out = RF_grid_out.predict(X_train)\n",
    "preds_RF_test_out = RF_grid_out.predict(X_test)"
   ]
  },
  {
   "cell_type": "code",
   "execution_count": null,
   "id": "92e9f3f4-c5c8-42f0-86b8-f4332c95e0db",
   "metadata": {},
   "outputs": [],
   "source": [
    "# Manually configured model (inflows)\n",
    "preds_RF_train_in = RF_mod_in.predict(X_train)\n",
    "preds_RF_test_in = RF_mod_in.predict(X_test)"
   ]
  },
  {
   "cell_type": "code",
   "execution_count": 76,
   "id": "52136ead-9ace-4aef-8eaa-b02b19d0e259",
   "metadata": {},
   "outputs": [],
   "source": [
    "feather.write_feather(pd.DataFrame(preds_RF_train_out), results_dir + 'preds.RF.train_out_agg.feather')\n",
    "feather.write_feather(pd.DataFrame(preds_RF_test_out), results_dir + 'preds.RF.test_out_agg.feather')"
   ]
  },
  {
   "cell_type": "code",
   "execution_count": null,
   "id": "2d3bb413-7535-4bed-b1e4-18adcb05918e",
   "metadata": {},
   "outputs": [],
   "source": [
    "feather.write_feather(pd.DataFrame(preds_RF_train_in), results_dir + 'preds.RF.train_in_agg.feather')\n",
    "feather.write_feather(pd.DataFrame(preds_RF_test_in), results_dir + 'preds.RF.test_in_agg.feather')"
   ]
  },
  {
   "cell_type": "markdown",
   "id": "48670034-eb80-43af-a7eb-d8e445d50621",
   "metadata": {},
   "source": [
    "### Predictive accuracy"
   ]
  },
  {
   "cell_type": "code",
   "execution_count": 98,
   "id": "bba1fde2-ba27-4bd2-978d-c46f5137afa8",
   "metadata": {
    "papermill": {
     "duration": 0.295035,
     "end_time": "2021-08-25T04:30:57.344235",
     "exception": false,
     "start_time": "2021-08-25T04:30:57.049200",
     "status": "completed"
    },
    "tags": []
   },
   "outputs": [
    {
     "name": "stdout",
     "output_type": "stream",
     "text": [
      "RMSE of the training set (outflows): 1.652043763142104\n",
      "R^2 of the training set (outflows): 0.7391362919649886\n",
      "RMSE of the test set (outflows): 1.665241841617969\n",
      "R^2 of the test set (outflows): 0.7340232720416157\n"
     ]
    }
   ],
   "source": [
    "print(\"RMSE of the training set (outflows):\", np.sqrt(mean_squared_error(Y_train_out, preds_RF_train_out)))\n",
    "print(\"R^2 of the training set (outflows):\", r2_score(Y_train_out, preds_RF_train_out))\n",
    "print(\"RMSE of the test set (outflows):\", np.sqrt(mean_squared_error(Y_test_out, preds_RF_test_out)))\n",
    "print(\"R^2 of the test set (outflows):\", r2_score(Y_test_out, preds_RF_test_out))"
   ]
  },
  {
   "cell_type": "code",
   "execution_count": null,
   "id": "f3df0397-98f5-43b2-b6cc-82429c1b7bc5",
   "metadata": {},
   "outputs": [],
   "source": [
    "print(\"RMSE of the training set (inflows):\", np.sqrt(mean_squared_error(Y_train_in, preds_RF_train_in)))\n",
    "print(\"R^2 of the training set (inflows):\", r2_score(Y_train_in, preds_RF_train_in))\n",
    "print(\"RMSE of the test set (inflows):\", np.sqrt(mean_squared_error(Y_test_in, preds_RF_test_in)))\n",
    "print(\"R^2 of the test set (inflows):\", r2_score(Y_test_in, preds_RF_test_in))"
   ]
  },
  {
   "cell_type": "code",
   "execution_count": 78,
   "id": "5cf03290-1dc7-44f2-bb87-0484939cf1b2",
   "metadata": {},
   "outputs": [
    {
     "name": "stdout",
     "output_type": "stream",
     "text": [
      "Mean Absolute Error (outflows): 1.1750357264395102\n",
      "Mean Squared Error of the training set (outflows): 2.7292485953367245\n",
      "Mean Squared Error of the test set (outflows): 2.773030391075205\n"
     ]
    }
   ],
   "source": [
    "print('Mean Absolute Error (outflows):', metrics.mean_absolute_error(Y_test_out, preds_RF_test_out))\n",
    "print('Mean Squared Error of the training set (outflows):', mean_squared_error(Y_train_out, preds_RF_train_out))\n",
    "print('Mean Squared Error of the test set (outflows):', mean_squared_error(Y_test_out, preds_RF_test_out))\n",
    "# print('Dollar RMSE of the training set (outflows):', np.mean(np.square((np.exp(Y_train_out.values) - np.exp(preds_RF_train_out)))))\n",
    "# print('Dollar RMSE of the test set (outflows):', np.mean(np.square((np.exp(Y_test_out.values) - np.exp(preds_RF_test_out)))))"
   ]
  },
  {
   "cell_type": "code",
   "execution_count": null,
   "id": "e7fed726-f1b5-4b40-9fa5-77b591ce46a6",
   "metadata": {},
   "outputs": [],
   "source": [
    "print('Mean Absolute Error (inflows):', metrics.mean_absolute_error(Y_test_in, preds_RF_test_in))  \n",
    "print('Mean Squared Error of the training set (inflows):', mean_squared_error(Y_train_in, preds_RF_train_in))\n",
    "print('Mean Squared Error of the test set (inflows):', mean_squared_error(Y_test_in, preds_RF_test_in))\n",
    "#print('Dollar RMSE of the training set (inflows):', np.mean(np.square(np.exp(Y_train_in.values)/10**3 - np.exp(preds_RF_train_in)/10**3)))\n",
    "#print('Dollar RMSE of the test set (inflows):', np.mean(np.square(np.exp(Y_test_in.values)/10**3 - np.exp(preds_RF_test_in)/10**3)))"
   ]
  },
  {
   "cell_type": "markdown",
   "id": "3765c220-fe39-410f-9792-26a34b2588d0",
   "metadata": {},
   "source": [
    "### Cross-validation"
   ]
  },
  {
   "cell_type": "code",
   "execution_count": 67,
   "id": "429acb56-83da-4fba-a5ad-73cc75774060",
   "metadata": {},
   "outputs": [],
   "source": [
    "RF_mod_CV = RandomForestRegressor(random_state = 1509,\n",
    "                                  n_estimators = 1278,\n",
    "                                  max_depth = 125,\n",
    "                                  min_samples_split = 23,\n",
    "                                  min_samples_leaf = 23,\n",
    "                                  max_features = 'auto',\n",
    "                                  bootstrap = True)"
   ]
  },
  {
   "cell_type": "code",
   "execution_count": 69,
   "id": "78bb96be-1bb9-48f1-9a47-efab1a649b82",
   "metadata": {},
   "outputs": [
    {
     "name": "stdout",
     "output_type": "stream",
     "text": [
      "Cross-validated scores: [0.47272326 0.48149061 0.33351371 0.43778015 0.52023699 0.24338979]\n"
     ]
    }
   ],
   "source": [
    "scores = cross_val_score(RF_mod_CV, X, Y_out.values.ravel(), cv = 6)\n",
    "print('Cross-validated scores:', scores)"
   ]
  },
  {
   "cell_type": "code",
   "execution_count": 50,
   "id": "0dcd304d-b5d3-4927-a48a-16184c50cedb",
   "metadata": {},
   "outputs": [
    {
     "data": {
      "text/plain": [
       "0.7174854884929412"
      ]
     },
     "execution_count": 50,
     "metadata": {},
     "output_type": "execute_result"
    }
   ],
   "source": [
    "predictions = cross_val_predict(RF_mod_CV, X_train, Y_train_out.values.ravel(), cv = 6)\n",
    "r2_score(Y_train_out, predictions)"
   ]
  },
  {
   "cell_type": "code",
   "execution_count": 90,
   "id": "35a46e19-a310-4eb9-a2d5-9d9271738c45",
   "metadata": {},
   "outputs": [
    {
     "data": {
      "text/plain": [
       "0.494455408385449"
      ]
     },
     "execution_count": 90,
     "metadata": {},
     "output_type": "execute_result"
    }
   ],
   "source": [
    "predictions = cross_val_predict(RF_mod_CV, X, Y_out.values.ravel(), cv = 6)\n",
    "r2_score(Y_out, predictions)"
   ]
  },
  {
   "cell_type": "markdown",
   "id": "e37aaf38-8ff0-4364-97e8-7769611be552",
   "metadata": {},
   "source": [
    "### Visualize results"
   ]
  },
  {
   "cell_type": "code",
   "execution_count": 79,
   "id": "288fa3d7-075e-496f-8266-2b9d8e1e6fac",
   "metadata": {
    "tags": []
   },
   "outputs": [
    {
     "data": {
      "image/png": "[encoded data removed]",
      "text/plain": [
       "<Figure size 720x720 with 1 Axes>"
      ]
     },
     "metadata": {
      "needs_background": "light"
     },
     "output_type": "display_data"
    }
   ],
   "source": [
    "feat_importances = pd.Series(RF_mod_out.feature_importances_, index=X_train.columns)\n",
    "indices = np.argsort(-1*feat_importances)\n",
    "names = [X_train.columns[i] for i in indices]\n",
    "fig, ax = plt.subplots(figsize = (10, 10))\n",
    "plt.barh(range(X_train.shape[1]), feat_importances[indices], color = 'red')\n",
    "plt.yticks(range(X_train.shape[1]), names, fontsize = 12)\n",
    "plt.gca().invert_yaxis()\n",
    "ax.set_xlabel('Feature importance')\n",
    "plt.title(\"Random Forest - Feature importance for illicit outflows\", fontsize = 16)\n",
    "plt.savefig(results_dir + 'RF_feature_importance_out.png')"
   ]
  },
  {
   "cell_type": "code",
   "execution_count": null,
   "id": "9260cc6c-368c-43c0-a7d2-43643cfaeeaf",
   "metadata": {},
   "outputs": [],
   "source": [
    "feat_importances = pd.Series(RF_mod_in.feature_importances_, index=X_train.columns)\n",
    "indices = np.argsort(-1*feat_importances)\n",
    "names = [X_train.columns[i] for i in indices]\n",
    "fig, ax = plt.subplots(figsize = (10, 10))\n",
    "plt.barh(range(X_train.shape[1]), feat_importances[indices], color = 'red')\n",
    "plt.yticks(range(X_train.shape[1]), names, fontsize = 12)\n",
    "plt.gca().invert_yaxis()\n",
    "ax.set_xlabel('Feature importance')\n",
    "plt.title(\"Random Forest - Feature importance for illicit inflows\", fontsize = 16)\n",
    "plt.savefig(results_dir + 'RF_feature_importance_in.png')"
   ]
  },
  {
   "cell_type": "code",
   "execution_count": null,
   "id": "cbf4fa8f-e5d5-415b-96d3-fee7b5d6e049",
   "metadata": {
    "tags": []
   },
   "outputs": [],
   "source": [
    "tree.export_graphviz(RF_mod_out.estimators_[0])"
   ]
  },
  {
   "cell_type": "code",
   "execution_count": null,
   "id": "0d5e52a2-90c0-42f3-bf14-ef5f976a55ba",
   "metadata": {},
   "outputs": [],
   "source": [
    "tree.plot_tree(RF_mod_out.estimators_[0])"
   ]
  },
  {
   "cell_type": "markdown",
   "id": "549e2901-c77b-4274-9d6a-4982fcc397c2",
   "metadata": {},
   "source": [
    "### Nested cross-validation"
   ]
  },
  {
   "cell_type": "code",
   "execution_count": 81,
   "id": "e9fd304a-ef39-4cc2-9957-80cc29dc6ff5",
   "metadata": {},
   "outputs": [],
   "source": [
    "# Number of trees in random forest\n",
    "n_estimators = [int(x) for x in np.linspace(start = 10, stop = 3000, num = 100)]\n",
    "\n",
    "# Maximum number of levels in tree\n",
    "max_depth = [int(x) for x in np.linspace(5, 500, num = 100)]\n",
    "max_depth.append(None)\n",
    "\n",
    "# Minimum number of samples required to split a node\n",
    "min_samples_split = [int(x) for x in np.linspace(2, 50, num = 10)]\n",
    "\n",
    "# Minimum number of samples required at each leaf node\n",
    "min_samples_leaf = [int(x) for x in np.linspace(1, 100, num = 10)]\n",
    "\n",
    "# Number of features to consider at every split\n",
    "max_features = ['auto', 'sqrt']\n",
    "\n",
    "# Method of selecting samples for training each tree\n",
    "bootstrap = [True, False]\n",
    "\n",
    "# Create the parameter grid\n",
    "param_grid = {'n_estimators': n_estimators,\n",
    "              'max_depth': max_depth,\n",
    "              'min_samples_split': min_samples_split,\n",
    "              'min_samples_leaf': min_samples_leaf,\n",
    "              'max_features': max_features,\n",
    "              'bootstrap': bootstrap}"
   ]
  },
  {
   "cell_type": "code",
   "execution_count": 85,
   "id": "59a747e8-a126-4690-a8c3-f00c29efbb7c",
   "metadata": {},
   "outputs": [],
   "source": [
    "# Perform nested cross-validation\n",
    "RF_mod_NCV = NestedCV(model = RandomForestRegressor(random_state = 1509), \n",
    "                      params_grid = param_grid,\n",
    "                      outer_kfolds = 5, inner_kfolds = 5,\n",
    "#                       n_jobs = -1,\n",
    "                      cv_options={'metric': r2_score,\n",
    "                                  'randomized_search': True,\n",
    "                                  'randomized_search_iter': 10})"
   ]
  },
  {
   "cell_type": "code",
   "execution_count": 86,
   "id": "bcc57124-5678-4737-b8cc-1f2464c3df88",
   "metadata": {},
   "outputs": [],
   "source": [
    "# Fit the nested cross-validated model\n",
    "RF_mod_NCV.fit(X = X, y = Y_out.values.ravel())"
   ]
  },
  {
   "cell_type": "code",
   "execution_count": 87,
   "id": "a8d37a9d-75da-4b1e-83d9-f7715d41b54f",
   "metadata": {},
   "outputs": [
    {
     "data": {
      "text/plain": [
       "[0.5284918786914943,\n",
       " 0.4793250606757904,\n",
       " 0.5299589394875213,\n",
       " 0.5170968213306054,\n",
       " 0.5090585872718156]"
      ]
     },
     "execution_count": 87,
     "metadata": {},
     "output_type": "execute_result"
    }
   ],
   "source": [
    "RF_mod_NCV.outer_scores"
   ]
  },
  {
   "cell_type": "code",
   "execution_count": 88,
   "id": "23350025-9e01-416d-b2a9-0dd3860c155a",
   "metadata": {},
   "outputs": [
    {
     "data": {
      "text/plain": [
       "0.5127862574914455"
      ]
     },
     "execution_count": 88,
     "metadata": {},
     "output_type": "execute_result"
    }
   ],
   "source": [
    "np.mean(RF_mod_NCV.outer_scores)"
   ]
  },
  {
   "cell_type": "code",
   "execution_count": 89,
   "id": "cb8d8f24-e112-464d-9e02-64e3cc8ddad9",
   "metadata": {
    "papermill": {
     "duration": 0.295035,
     "end_time": "2021-08-25T04:30:57.344235",
     "exception": false,
     "start_time": "2021-08-25T04:30:57.049200",
     "status": "completed"
    },
    "tags": []
   },
   "outputs": [
    {
     "data": {
      "text/plain": [
       "{'n_estimators': [2848, 1369, 281, 463, 2909],\n",
       " 'min_samples_split': [34, 7],\n",
       " 'min_samples_leaf': [89, 1, 100],\n",
       " 'max_features': ['sqrt', 'auto'],\n",
       " 'max_depth': [490, 190, 285, 395],\n",
       " 'bootstrap': [True, False]}"
      ]
     },
     "execution_count": 89,
     "metadata": {},
     "output_type": "execute_result"
    }
   ],
   "source": [
    "RF_mod_NCV.best_params"
   ]
  },
  {
   "cell_type": "markdown",
   "id": "b1562274",
   "metadata": {
    "papermill": {
     "duration": 0.023734,
     "end_time": "2021-08-25T04:30:55.074967",
     "exception": false,
     "start_time": "2021-08-25T04:30:55.051233",
     "status": "completed"
    },
    "tags": []
   },
   "source": [
    "## Light GBM"
   ]
  },
  {
   "cell_type": "code",
   "execution_count": null,
   "id": "c6a76a8b",
   "metadata": {
    "papermill": {
     "duration": 0.020547,
     "end_time": "2021-08-25T04:30:55.112011",
     "exception": false,
     "start_time": "2021-08-25T04:30:55.091464",
     "status": "completed"
    },
    "tags": []
   },
   "outputs": [],
   "source": [
    "lightGBM_train_out = lgb.Dataset(X_train, Y_train_out)\n",
    "lightGBM_test_out = lgb.Dataset(X_test, Y_test_out)\n",
    "lightGBM_train_in = lgb.Dataset(X_train, Y_train_in)\n",
    "lightGBM_test_in = lgb.Dataset(X_test, Y_test_in)"
   ]
  },
  {
   "cell_type": "code",
   "execution_count": null,
   "id": "21a10b8a",
   "metadata": {
    "papermill": {
     "duration": 1.909577,
     "end_time": "2021-08-25T04:30:57.034838",
     "exception": false,
     "start_time": "2021-08-25T04:30:55.125261",
     "status": "completed"
    },
    "tags": []
   },
   "outputs": [],
   "source": [
    "params = {\n",
    "    'objective' : 'regression',\n",
    "    'metric' : 'rmse',\n",
    "    'num_leaves' : 100,\n",
    "    'max_depth': 10,\n",
    "    'learning_rate' : 0.1,\n",
    "    'feature_fraction' : 0.6,\n",
    "    'verbosity' : -1,\n",
    "    'random_state' : 1509\n",
    "}\n",
    "lightGBM_mod_out = lgb.train(\n",
    "    params,\n",
    "    lightGBM_train_out,\n",
    "    500,\n",
    "    valid_sets = [lightGBM_train_out, lightGBM_test_out],\n",
    "    valid_names = [\"train\", \"test\"],\n",
    "    early_stopping_rounds = 50,\n",
    "    verbose_eval = 500\n",
    ")"
   ]
  },
  {
   "cell_type": "code",
   "execution_count": null,
   "id": "4dba9d36",
   "metadata": {},
   "outputs": [],
   "source": [
    "params = {\n",
    "    'objective' : 'regression',\n",
    "    'metric' : 'rmse',\n",
    "    'num_leaves' : 100,\n",
    "    'max_depth': 10,\n",
    "    'learning_rate' : 0.1,\n",
    "    'feature_fraction' : 0.6,\n",
    "    'verbosity' : -1,\n",
    "    'random_state' : 1509\n",
    "}\n",
    "lightGBM_mod_in = lgb.train(\n",
    "    params,\n",
    "    lightGBM_train_in,\n",
    "    500,\n",
    "    valid_sets = [lightGBM_train_in, lightGBM_test_in],\n",
    "    valid_names = [\"train\", \"test\"],\n",
    "    early_stopping_rounds = 50,\n",
    "    verbose_eval = 500\n",
    ")"
   ]
  },
  {
   "cell_type": "code",
   "execution_count": null,
   "id": "155c4e14",
   "metadata": {
    "papermill": {
     "duration": 0.161112,
     "end_time": "2021-08-25T04:30:57.996472",
     "exception": false,
     "start_time": "2021-08-25T04:30:57.835360",
     "status": "completed"
    },
    "tags": []
   },
   "outputs": [],
   "source": [
    "preds_lightGBM_train_out = pd.DataFrame(lightGBM_mod_out.predict(X_train))\n",
    "preds_lightGBM_test_out = pd.DataFrame(lightGBM_mod_out.predict(X_test))"
   ]
  },
  {
   "cell_type": "code",
   "execution_count": null,
   "id": "bb66fbab",
   "metadata": {},
   "outputs": [],
   "source": [
    "preds_lightGBM_train_in = pd.DataFrame(lightGBM_mod_in.predict(X_train))\n",
    "preds_lightGBM_test_in = pd.DataFrame(lightGBM_mod_in.predict(X_test))"
   ]
  },
  {
   "cell_type": "code",
   "execution_count": null,
   "id": "7737bf27",
   "metadata": {
    "papermill": {
     "duration": 0.024682,
     "end_time": "2021-08-25T04:30:58.037404",
     "exception": false,
     "start_time": "2021-08-25T04:30:58.012722",
     "status": "completed"
    },
    "tags": []
   },
   "outputs": [],
   "source": [
    "feather.write_feather(preds_lightGBM_train_out, results_dir + 'preds.lightGBM.train_out_agg.feather')\n",
    "feather.write_feather(preds_lightGBM_test_out, results_dir + 'preds.lightGBM.test_out_agg.feather')"
   ]
  },
  {
   "cell_type": "code",
   "execution_count": null,
   "id": "ef229528",
   "metadata": {},
   "outputs": [],
   "source": [
    "feather.write_feather(preds_lightGBM_train_in, results_dir + 'preds.lightGBM.train_in_agg.feather')\n",
    "feather.write_feather(preds_lightGBM_test_in, results_dir + 'preds.lightGBM.test_in_agg.feather')"
   ]
  },
  {
   "cell_type": "code",
   "execution_count": null,
   "id": "1bf6d0a6",
   "metadata": {
    "papermill": {
     "duration": 0.295035,
     "end_time": "2021-08-25T04:30:57.344235",
     "exception": false,
     "start_time": "2021-08-25T04:30:57.049200",
     "status": "completed"
    },
    "tags": []
   },
   "outputs": [],
   "source": [
    "print(\"RMSE of the training set (outflows):\", np.sqrt(mean_squared_error(Y_train_out, preds_lightGBM_train_out)))\n",
    "print(\"R^2 of the training set (outflows):\", r2_score(Y_train_out, preds_lightGBM_train_out))\n",
    "print(\"RMSE of the test set (outflows):\", np.sqrt(mean_squared_error(Y_test_out, preds_lightGBM_test_out)))\n",
    "print(\"R^2 of the test set (outflows):\", r2_score(Y_test_out, preds_lightGBM_test_out))"
   ]
  },
  {
   "cell_type": "code",
   "execution_count": null,
   "id": "28599536",
   "metadata": {
    "scrolled": true
   },
   "outputs": [],
   "source": [
    "print(\"RMSE of the training set (inflows):\", np.sqrt(mean_squared_error(Y_train_in, preds_lightGBM_train_in)))\n",
    "print(\"R^2 of the training set (inflows):\", r2_score(Y_train_in, preds_lightGBM_train_in))\n",
    "print(\"RMSE of the test set (inflows):\", np.sqrt(mean_squared_error(Y_test_in, preds_lightGBM_test_in)))\n",
    "print(\"R^2 of the test set (inflows):\", r2_score(Y_test_in, preds_lightGBM_test_in))"
   ]
  },
  {
   "cell_type": "code",
   "execution_count": null,
   "id": "f65b515c",
   "metadata": {},
   "outputs": [],
   "source": [
    "print('Mean Absolute Error (outflows):', metrics.mean_absolute_error(Y_test_out, preds_lightGBM_test_out))\n",
    "print('Mean Squared Error of the training set (outflows):', mean_squared_error(Y_train_out, preds_lightGBM_train_out))\n",
    "print('Mean Squared Error of the test set (outflows):', mean_squared_error(Y_test_out, preds_lightGBM_test_out))\n",
    "#print('Dollar RMSE of the training set (outflows):', np.mean(np.square(np.exp(Y_train_out.values)*10**3 - np.exp(preds_lightGBM_train_out)*10**3)) / 10**6)\n",
    "#print('Dollar RMSE of the test set (outflows):', np.mean(np.square(np.exp(Y_test_out.values)*10**3 - np.exp(preds_lightGBM_test_out)*10**3)) / 10**6)"
   ]
  },
  {
   "cell_type": "code",
   "execution_count": null,
   "id": "41d60f8e",
   "metadata": {},
   "outputs": [],
   "source": [
    "print('Mean Absolute Error (inflows):', metrics.mean_absolute_error(Y_test_in, preds_lightGBM_test_in))\n",
    "print('Mean Squared Error of the training set (inflows):', mean_squared_error(Y_train_in, preds_lightGBM_train_in))\n",
    "print('Mean Squared Error of the test set (inflows):', mean_squared_error(Y_test_in, preds_lightGBM_test_in))\n",
    "#print('Dollar RMSE of the training set (inflows):', np.mean(np.square(np.exp(Y_train_in.values)/10**3 - np.exp(preds_lightGBM_train_in)/10**3)))\n",
    "#print('Dollar RMSE of the test set (inflows):', np.mean(np.square(np.exp(Y_test_in.values)/10**3 - np.exp(preds_lightGBM_test_in)/10**3)))"
   ]
  },
  {
   "cell_type": "code",
   "execution_count": null,
   "id": "9622c0b0",
   "metadata": {
    "papermill": {
     "duration": 0.462821,
     "end_time": "2021-08-25T04:30:57.820356",
     "exception": false,
     "start_time": "2021-08-25T04:30:57.357535",
     "status": "completed"
    },
    "tags": []
   },
   "outputs": [],
   "source": [
    "fig, ax = plt.subplots(figsize = (10, 10))\n",
    "lgb.plot_importance(lightGBM_mod_out, height = 0.8, ax = ax)\n",
    "ax.grid(False)\n",
    "plt.title(\"LightGBM - Feature importance for illicit outflows\", fontsize = 16)\n",
    "plt.savefig(results_dir + 'LightGBM_feature_importance_out.png')"
   ]
  },
  {
   "cell_type": "code",
   "execution_count": null,
   "id": "b5dc5581",
   "metadata": {
    "papermill": {
     "duration": 0.462821,
     "end_time": "2021-08-25T04:30:57.820356",
     "exception": false,
     "start_time": "2021-08-25T04:30:57.357535",
     "status": "completed"
    },
    "tags": []
   },
   "outputs": [],
   "source": [
    "fig, ax = plt.subplots(figsize = (10,10))\n",
    "lgb.plot_importance(lightGBM_mod_in, height = 0.8, ax = ax)\n",
    "ax.grid(False)\n",
    "plt.title(\"LightGBM - Feature importance for illicit inflows\", fontsize = 16)\n",
    "plt.savefig(results_dir + 'LightGBM_feature_importance_in.png')"
   ]
  },
  {
   "cell_type": "markdown",
   "id": "94310759-1589-4b81-8ca1-3a7a4683b892",
   "metadata": {},
   "source": [
    "## Support Vector Machine"
   ]
  },
  {
   "cell_type": "code",
   "execution_count": null,
   "id": "abcfd779-0faa-4276-b78d-a30c2e58c985",
   "metadata": {},
   "outputs": [],
   "source": [
    "SVM_mod = svm.SVR()\n",
    "SVM_mod.fit(X_train, Y_train.values.ravel())"
   ]
  },
  {
   "cell_type": "code",
   "execution_count": null,
   "id": "89d54095-7607-4358-ad0c-3d542d4767ce",
   "metadata": {},
   "outputs": [],
   "source": [
    "preds_SVM_train = SVM_mod.predict(X_train)\n",
    "preds_SVM_test = SVM_mod.predict(X_test)"
   ]
  },
  {
   "cell_type": "code",
   "execution_count": null,
   "id": "842505a8-c615-4f2b-9ca9-ad4cdb6314f4",
   "metadata": {},
   "outputs": [],
   "source": [
    "feather.write_feather(pd.DataFrame(preds_SVM_train), results_dir + 'preds.SVM.train_agg.feather')\n",
    "feather.write_feather(pd.DataFrame(preds_SVM_test), results_dir + 'preds.SVM.test_agg.feather')"
   ]
  },
  {
   "cell_type": "code",
   "execution_count": null,
   "id": "b0d088ee-6350-48ce-aa23-09a95f1cc6f0",
   "metadata": {},
   "outputs": [],
   "source": [
    "print(\"RMSE of the training set:\", np.sqrt(mean_squared_error(Y_train, preds_SVM_train)))\n",
    "print(\"R^2 of the training set:\", r2_score(Y_train, preds_SVM_train))"
   ]
  },
  {
   "cell_type": "code",
   "execution_count": null,
   "id": "043c8b61-fdae-450c-8e76-7fb75c4418ad",
   "metadata": {
    "papermill": {
     "duration": 0.295035,
     "end_time": "2021-08-25T04:30:57.344235",
     "exception": false,
     "start_time": "2021-08-25T04:30:57.049200",
     "status": "completed"
    },
    "tags": []
   },
   "outputs": [],
   "source": [
    "print(\"RMSE of the test set:\", np.sqrt(mean_squared_error(Y_test, preds_SVM_test)))\n",
    "print(\"R^2 of the test set:\", r2_score(Y_test, preds_SVM_test))"
   ]
  },
  {
   "cell_type": "markdown",
   "id": "7a0ef060-aa01-4029-8610-2969bbec8029",
   "metadata": {},
   "source": [
    "## Neural Networks"
   ]
  },
  {
   "cell_type": "code",
   "execution_count": null,
   "id": "1705a77b-05ce-4032-9b91-c999a2948912",
   "metadata": {},
   "outputs": [],
   "source": [
    "Y_train = train_agg_smp[['Tot_IFF_t']]\n",
    "X_train = train_agg_smp[features]\n",
    "Y_test = test_agg_smp[['Tot_IFF_t']]\n",
    "X_test = test_agg_smp[features]"
   ]
  },
  {
   "cell_type": "code",
   "execution_count": null,
   "id": "45e0fecf-42c9-4c58-baaa-f97fd09a375d",
   "metadata": {},
   "outputs": [],
   "source": [
    "std_sc = StandardScaler()\n",
    "NN_train = std_sc.fit_transform(X_train)\n",
    "NN_test = std_sc.transform(X_test)"
   ]
  },
  {
   "cell_type": "code",
   "execution_count": null,
   "id": "0cf14354-ebee-4465-9fa1-09349daebca7",
   "metadata": {
    "tags": []
   },
   "outputs": [],
   "source": [
    "NN_mod = MLPRegressor(hidden_layer_sizes = (10),\n",
    "                      activation = \"logistic\",\n",
    "                      random_state = 1, \n",
    "                      max_iter = 1000).fit(NN_train, Y_train.values.ravel())"
   ]
  },
  {
   "cell_type": "code",
   "execution_count": null,
   "id": "c443a9f0-4ab7-4aca-a993-b4db34307f24",
   "metadata": {},
   "outputs": [],
   "source": [
    "preds_NN_train = NN_mod.predict(NN_train)\n",
    "preds_NN_test = NN_mod.predict(NN_test)"
   ]
  },
  {
   "cell_type": "code",
   "execution_count": null,
   "id": "f15770c9-a899-4efb-9774-681863925c9b",
   "metadata": {},
   "outputs": [],
   "source": [
    "feather.write_feather(pd.DataFrame(preds_NN_train), results_dir + 'preds.NN.train_agg.feather')\n",
    "feather.write_feather(pd.DataFrame(preds_NN_test), results_dir + 'preds.NN.test_agg.feather')"
   ]
  },
  {
   "cell_type": "code",
   "execution_count": null,
   "id": "b69aff8e-ef6b-443f-a661-c09da937fd73",
   "metadata": {},
   "outputs": [],
   "source": [
    "print(\"RMSE of the training set:\", np.sqrt(mean_squared_error(Y_train, preds_NN_train)))\n",
    "print(\"R^2 of the training set:\", r2_score(Y_train, preds_NN_train))"
   ]
  },
  {
   "cell_type": "code",
   "execution_count": null,
   "id": "44dbe499-b30c-4a08-8494-a5412ed598fe",
   "metadata": {
    "papermill": {
     "duration": 0.295035,
     "end_time": "2021-08-25T04:30:57.344235",
     "exception": false,
     "start_time": "2021-08-25T04:30:57.049200",
     "status": "completed"
    },
    "tags": []
   },
   "outputs": [],
   "source": [
    "print(\"RMSE of the test set:\", np.sqrt(mean_squared_error(Y_test, preds_NN_test)))\n",
    "print(\"R^2 of the test set:\", r2_score(Y_test, preds_NN_test))"
   ]
  },
  {
   "cell_type": "markdown",
   "id": "31d23caf-5455-4bfd-9d80-133874c3d4db",
   "metadata": {},
   "source": [
    "### Tuning hyperparameters"
   ]
  },
  {
   "cell_type": "code",
   "execution_count": null,
   "id": "e8c0f93a-8ef5-46f7-9eca-07cbac992d13",
   "metadata": {},
   "outputs": [],
   "source": [
    "NN = MLPRegressor(max_iter = 1000)\n",
    "parameter_space = {\n",
    "    'hidden_layer_sizes': [(10,20)],\n",
    "    'activation': ['logistic', 'relu'],\n",
    "    #'solver': ['sgd', 'adam'],\n",
    "    #'alpha': [0.0001, 0.05],\n",
    "    #'learning_rate': ['constant','adaptive'],\n",
    "}"
   ]
  },
  {
   "cell_type": "code",
   "execution_count": null,
   "id": "261f1028-87c7-4d70-a397-d70da481c9b1",
   "metadata": {},
   "outputs": [],
   "source": [
    "NN_mod_tuned = GridSearchCV(NN, parameter_space, n_jobs = -1, cv = 3)"
   ]
  },
  {
   "cell_type": "code",
   "execution_count": null,
   "id": "e91cceef-36c3-4a63-b137-84ba09be23be",
   "metadata": {},
   "outputs": [],
   "source": [
    "NN_mod_tuned.fit(NN_train, Y_train.values.ravel())"
   ]
  },
  {
   "cell_type": "code",
   "execution_count": null,
   "id": "128630b9-4723-458e-a583-471118068247",
   "metadata": {},
   "outputs": [],
   "source": [
    "print('Best parameters found:\\n', NN_mod_tuned.best_params_)"
   ]
  },
  {
   "cell_type": "code",
   "execution_count": null,
   "id": "5e80f1c2-8194-405c-a7b5-da2eb98b41d0",
   "metadata": {},
   "outputs": [],
   "source": [
    "# All results\n",
    "means = NN_mod_tuned.cv_results_['mean_test_score']\n",
    "stds = NN_mod_tuned.cv_results_['std_test_score']\n",
    "for mean, std, params in zip(means, stds, NN_mod_tuned.cv_results_['params']):\n",
    "    print(\"%0.3f (+/-%0.03f) for %r\" % (mean, std * 2, params))"
   ]
  },
  {
   "cell_type": "code",
   "execution_count": null,
   "id": "c2701d02-8992-44f5-86b9-a29fa3fac1dc",
   "metadata": {},
   "outputs": [],
   "source": [
    "preds_NN_train = NN_mod_tuned.predict(NN_train)\n",
    "preds_NN_test = NN_mod_tuned.predict(NN_test)"
   ]
  },
  {
   "cell_type": "code",
   "execution_count": null,
   "id": "fdbbceb2-71db-4344-9b03-667f8866233c",
   "metadata": {},
   "outputs": [],
   "source": [
    "feather.write_feather(pd.DataFrame(preds_NN_train), results_dir + 'preds.NN.train_agg.feather')\n",
    "feather.write_feather(pd.DataFrame(preds_NN_test), results_dir + 'preds.NN.test_agg.feather')"
   ]
  },
  {
   "cell_type": "code",
   "execution_count": null,
   "id": "363b0f8c-2d6c-4aef-b206-69b59329693c",
   "metadata": {},
   "outputs": [],
   "source": [
    "print(\"RMSE of the training set:\", np.sqrt(mean_squared_error(Y_train, preds_NN_train)))\n",
    "print(\"R^2 of the training set:\", r2_score(Y_train, preds_NN_train))"
   ]
  },
  {
   "cell_type": "code",
   "execution_count": null,
   "id": "7e86c305-607f-4091-8fea-918aab40f80e",
   "metadata": {
    "papermill": {
     "duration": 0.295035,
     "end_time": "2021-08-25T04:30:57.344235",
     "exception": false,
     "start_time": "2021-08-25T04:30:57.049200",
     "status": "completed"
    },
    "tags": []
   },
   "outputs": [],
   "source": [
    "print(\"RMSE of the test set:\", np.sqrt(mean_squared_error(Y_test, preds_NN_test)))\n",
    "print(\"R^2 of the test set:\", r2_score(Y_test, preds_NN_test))"
   ]
  }
 ],
 "metadata": {
  "kernelspec": {
   "display_name": "Python 3 (ipykernel)",
   "language": "python",
   "name": "python3"
  },
  "language_info": {
   "codemirror_mode": {
    "name": "ipython",
    "version": 3
   },
   "file_extension": ".py",
   "mimetype": "text/x-python",
   "name": "python",
   "nbconvert_exporter": "python",
   "pygments_lexer": "ipython3",
   "version": "3.9.6"
  },
  "papermill": {
   "default_parameters": {},
   "duration": 8.293491,
   "end_time": "2021-08-25T04:30:59.376719",
   "environment_variables": {},
   "exception": null,
   "input_path": "Scripts/Predictions.ipynb",
   "output_path": "Scripts/Predictions.ipynb",
   "parameters": {},
   "start_time": "2021-08-25T04:30:51.083228",
   "version": "2.3.3"
  },
  "toc": {
   "base_numbering": 1,
   "nav_menu": {},
   "number_sections": true,
   "sideBar": false,
   "skip_h1_title": true,
   "title_cell": "Table of Contents",
   "title_sidebar": "Contents",
   "toc_cell": false,
   "toc_position": {
    "height": "745px",
    "left": "177px",
    "top": "218px",
    "width": "165px"
   },
   "toc_section_display": false,
   "toc_window_display": true
  }
 },
 "nbformat": 4,
 "nbformat_minor": 5
}
