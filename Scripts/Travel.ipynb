{
 "cells": [
  {
   "cell_type": "markdown",
   "id": "f07e16ef-9fec-4338-bfe9-1ac012b0ccd6",
   "metadata": {},
   "source": [
    "# Does the model travel well?"
   ]
  },
  {
   "cell_type": "markdown",
   "id": "55ecc80f-7309-48bb-bbfd-1d794a1442b4",
   "metadata": {},
   "source": [
    "## Preamble"
   ]
  },
  {
   "cell_type": "code",
   "execution_count": null,
   "id": "c7e4cb58-9458-432c-9a2e-ae03896af346",
   "metadata": {},
   "outputs": [],
   "source": [
    "# Preamble\n",
    "import pandas as pd\n",
    "import numpy as np\n",
    "pd.set_option(\"mode.chained_assignment\", None)\n",
    "import random\n",
    "random.seed(1509)\n",
    "import matplotlib.pyplot as plt\n",
    "import lightgbm as lgb\n",
    "import pyarrow.feather as feather\n",
    "from os import chdir, getcwd\n",
    "import statsmodels.api as sm\n",
    "from pprint import pprint\n",
    "from nested_cv import NestedCV\n",
    "\n",
    "# sci-kit\n",
    "from sklearn.linear_model import LinearRegression\n",
    "from sklearn.neural_network import MLPRegressor\n",
    "from sklearn.ensemble import RandomForestRegressor\n",
    "from sklearn import svm\n",
    "from sklearn.preprocessing import StandardScaler\n",
    "from sklearn.model_selection import train_test_split, GridSearchCV, RandomizedSearchCV, cross_val_score, cross_val_predict\n",
    "from sklearn import metrics\n",
    "from sklearn.metrics import r2_score, mean_squared_error, explained_variance_score\n",
    "from sklearn import tree"
   ]
  },
  {
   "cell_type": "code",
   "execution_count": null,
   "id": "e0fe8ec1-1612-4d70-b138-d632cd8810e3",
   "metadata": {},
   "outputs": [],
   "source": [
    "data_dir = '/home/jovyan/work/Data/'\n",
    "results_dir = '/home/jovyan/work/Results/'"
   ]
  },
  {
   "cell_type": "code",
   "execution_count": null,
   "id": "88d47573-b5bb-477d-aa28-8038630a1f3e",
   "metadata": {},
   "outputs": [],
   "source": [
    "select_features = ['reporter.ISO', 'partner.ISO', 'year',\n",
    "                   'ln.Tot_IFF_t', 'ln.In_Tot_IFF_t',\n",
    "                   'ln.gdp_o', 'ln.gdp_d', 'ln.pop_o', 'ln.pop_d', \n",
    "                   'dist', 'contig', \n",
    "                   'comlang', 'comcol', 'col45', \n",
    "                   'ihs.entry_cost_o', 'ihs.entry_cost_d', 'rta',\n",
    "                   'rCorrCont', 'pCorrCont',\n",
    "                   'rRegQual', 'pRegQual', \n",
    "                   'rRuleLaw', 'pRuleLaw',\n",
    "                   'pSecrecyScore',\n",
    "                   'pFSI.rank',\n",
    "                   'pKFSI13',\n",
    "                   'pKFSI17',\n",
    "                   'pKFSI20',\n",
    "                   'rFATF', 'pFATF',\n",
    "                   'ihs.tariff',\n",
    "                   'kai_o', 'kai_d', 'kao_o', 'kao_d',\n",
    "                   'cc_o', 'cc_d', 'cci_o', 'cci_d', 'cco_o', 'cco_d',\n",
    "                   'di_o', 'di_d', 'dii_o', 'dii_d', 'dio_o', 'dio_d']\n",
    "\n",
    "features = [       'ln.gdp_o', 'ln.gdp_d', 'ln.pop_o', 'ln.pop_d', \n",
    "                   'dist', 'contig', \n",
    "                   'comlang', 'comcol', 'col45', \n",
    "                   'ihs.entry_cost_o', 'ihs.entry_cost_d', 'rta',\n",
    "                   'rCorrCont', 'pCorrCont',\n",
    "                   'rRegQual', 'pRegQual', \n",
    "                   'rRuleLaw', 'pRuleLaw',\n",
    "                   'pSecrecyScore',\n",
    "                   'pFSI.rank',\n",
    "                   'pKFSI13',\n",
    "                   'pKFSI17',\n",
    "                   'pKFSI20',\n",
    "                   'rFATF', 'pFATF',\n",
    "                   'ihs.tariff',\n",
    "                   'kai_o', 'kai_d', 'kao_o', 'kao_d',\n",
    "                   'cc_o', 'cc_d', 'cci_o', 'cci_d', 'cco_o', 'cco_d',\n",
    "                   'di_o', 'di_d', 'dii_o', 'dii_d', 'dio_o', 'dio_d']\n",
    "\n",
    "ids = [       'reporter.ISO', 'partner.ISO', 'year']"
   ]
  },
  {
   "cell_type": "code",
   "execution_count": null,
   "id": "df6d7711-2c31-4f08-8730-3d873212aedb",
   "metadata": {},
   "outputs": [],
   "source": [
    "def create_smp(data, features):\n",
    "    \"\"\"\n",
    "    Create train and test samples that are complete.\n",
    "    \"\"\"\n",
    "    smp = data[features]\n",
    "    smp.dropna(axis=0, how='any', inplace=True)\n",
    "    return smp"
   ]
  },
  {
   "cell_type": "markdown",
   "id": "d0a5cdf8-9b7c-4ea5-81d7-ec702f93b34e",
   "metadata": {},
   "source": [
    "## Samples"
   ]
  },
  {
   "cell_type": "markdown",
   "id": "aeb64cc7-c287-4073-b357-67e85328daba",
   "metadata": {},
   "source": [
    "### Import full sample"
   ]
  },
  {
   "cell_type": "code",
   "execution_count": null,
   "id": "eaec2648-eaa9-45a2-b432-8fbcf60080fc",
   "metadata": {},
   "outputs": [],
   "source": [
    "data = feather.read_feather(results_dir + 'Africa_agg.feather')"
   ]
  },
  {
   "cell_type": "code",
   "execution_count": null,
   "id": "1331c556-86c9-4d76-90ff-388e460fe2f4",
   "metadata": {},
   "outputs": [],
   "source": [
    "data_smp = create_smp(data, select_features)"
   ]
  },
  {
   "cell_type": "code",
   "execution_count": null,
   "id": "0b8b1b4e-47ab-425d-af83-62c5ea76f088",
   "metadata": {
    "tags": []
   },
   "outputs": [],
   "source": [
    "idx = data_smp[ids]\n",
    "X = data_smp[features]\n",
    "Y_out = data_smp[['ln.Tot_IFF_t']]\n",
    "Y_in = data_smp[['ln.In_Tot_IFF_t']]"
   ]
  },
  {
   "cell_type": "code",
   "execution_count": null,
   "id": "ca479791-518b-4ca9-b65d-fa95f016d9eb",
   "metadata": {},
   "outputs": [],
   "source": [
    "feather.write_feather(idx, results_dir + 'idx.feather')\n",
    "feather.write_feather(X, results_dir + 'X.feather')\n",
    "feather.write_feather(Y_out, results_dir + 'Y_out.feather')\n",
    "feather.write_feather(Y_in, results_dir + 'Y_in.feather')"
   ]
  },
  {
   "cell_type": "code",
   "execution_count": null,
   "id": "916fd844-b06e-42ed-ac76-d0cdbc0ee217",
   "metadata": {},
   "outputs": [],
   "source": [
    "print('X: ', X.shape, '\\nY_out: ',  Y_out.shape)"
   ]
  },
  {
   "cell_type": "markdown",
   "id": "56802bcc-e485-40e8-840c-452c3426e8f3",
   "metadata": {},
   "source": [
    "### Import training and test sets"
   ]
  },
  {
   "cell_type": "code",
   "execution_count": null,
   "id": "8fcee08b-c51d-470b-b16f-c6216e83dc9b",
   "metadata": {},
   "outputs": [],
   "source": [
    "LMIC_agg = feather.read_feather(results_dir + 'LMIC_agg.feather')\n",
    "HIC_agg = feather.read_feather(results_dir + 'HIC_agg.feather')"
   ]
  },
  {
   "cell_type": "code",
   "execution_count": null,
   "id": "1b0a14bf-3923-422a-aa82-881c151e8579",
   "metadata": {},
   "outputs": [],
   "source": [
    "LMIC_agg_smp = create_smp(LMIC_agg, select_features)\n",
    "HIC_agg_smp = create_smp(HIC_agg, select_features)"
   ]
  },
  {
   "cell_type": "code",
   "execution_count": null,
   "id": "33d37895-4011-4a05-87e8-cca4aa495853",
   "metadata": {},
   "outputs": [],
   "source": [
    "train_agg = feather.read_feather(results_dir + 'train_agg.feather')\n",
    "test_agg = feather.read_feather(results_dir + 'test_agg.feather')"
   ]
  },
  {
   "cell_type": "code",
   "execution_count": null,
   "id": "f8a6a9c6-7b10-47a6-b7ba-e441e8fcce8b",
   "metadata": {},
   "outputs": [],
   "source": [
    "train_agg_smp = create_smp(train_agg, select_features)\n",
    "test_agg_smp = create_smp(test_agg, select_features)"
   ]
  },
  {
   "cell_type": "code",
   "execution_count": null,
   "id": "d6e3f442-5db6-46af-a727-1c7b2eaf7755",
   "metadata": {},
   "outputs": [],
   "source": [
    "feather.write_feather(train_agg_smp, results_dir + 'train_agg_smp.feather')\n",
    "feather.write_feather(test_agg_smp, results_dir + 'test_agg_smp.feather')"
   ]
  },
  {
   "cell_type": "code",
   "execution_count": null,
   "id": "4632a164-871d-400e-9fd0-f88c766e0470",
   "metadata": {},
   "outputs": [],
   "source": [
    "print('Training set: ', train_agg_smp.shape, '\\nTest set: ',  test_agg_smp.shape, '\\nLMIC set: ',  LMIC_agg_smp.shape)"
   ]
  },
  {
   "cell_type": "markdown",
   "id": "96756d55-cbea-44c6-b333-384ac36840b5",
   "metadata": {},
   "source": [
    "### Create feature set and vector of outcome labels"
   ]
  },
  {
   "cell_type": "code",
   "execution_count": null,
   "id": "ecfa3fe6-250a-486e-a01e-fc5077eaa558",
   "metadata": {},
   "outputs": [],
   "source": [
    "# Training set\n",
    "Y_train_out = train_agg_smp[['ln.Tot_IFF_t']]\n",
    "Y_train_in = train_agg_smp[['ln.In_Tot_IFF_t']]\n",
    "X_train = train_agg_smp[features]\n",
    "\n",
    "# Test set\n",
    "Y_test_out = test_agg_smp[['ln.Tot_IFF_t']]\n",
    "Y_test_in = test_agg_smp[['ln.In_Tot_IFF_t']]\n",
    "X_test = test_agg_smp[features]\n",
    "\n",
    "# LMIC test set\n",
    "Y_LMIC = LMIC_agg_smp[['ln.Tot_IFF_t']]\n",
    "X_LMIC = LMIC_agg_smp[features]\n",
    "\n",
    "# HIC test set\n",
    "Y_HIC = HIC_agg_smp[['ln.Tot_IFF_t']]\n",
    "X_HIC = HIC_agg_smp[features]"
   ]
  },
  {
   "cell_type": "code",
   "execution_count": null,
   "id": "b9b3fb7b-8985-42b1-a528-6d26804f4945",
   "metadata": {},
   "outputs": [],
   "source": [
    "idx = train_agg_smp[ids]"
   ]
  },
  {
   "cell_type": "markdown",
   "id": "4780b428-b947-49ec-acba-9b5f146d70f9",
   "metadata": {},
   "source": [
    "### Tune Random Forest model"
   ]
  },
  {
   "cell_type": "code",
   "execution_count": null,
   "id": "f4f8545d-eccf-464b-b857-10d3db83e13f",
   "metadata": {},
   "outputs": [],
   "source": [
    "# The hyperparameters were found using a cross-validation randomized search strategy on the training sample X_train\n",
    "RF_out_tuned = RandomForestRegressor(random_state = 1509,\n",
    "                                     n_estimators = 1278,\n",
    "                                     max_depth = 195,\n",
    "                                     min_samples_split = 12,\n",
    "                                     min_samples_leaf = 1,\n",
    "                                     max_features = 'auto',\n",
    "                                     bootstrap = True)"
   ]
  },
  {
   "cell_type": "markdown",
   "id": "01d59f92-0422-4709-9515-3c112dca8e3a",
   "metadata": {},
   "source": [
    "### Results on real samples"
   ]
  },
  {
   "cell_type": "code",
   "execution_count": null,
   "id": "e2e809c8-9721-482b-9dba-a68701f8005b",
   "metadata": {},
   "outputs": [],
   "source": [
    "# Fit tuned model on real training data\n",
    "RF_out_tuned.fit(X_train, Y_train_out.values.ravel())"
   ]
  },
  {
   "cell_type": "code",
   "execution_count": null,
   "id": "5abf387d-7e25-4393-ba5a-9cb597bdbb44",
   "metadata": {},
   "outputs": [],
   "source": [
    "# Training R-squared\n",
    "RF_out_tuned.score(X_train, Y_train_out)"
   ]
  },
  {
   "cell_type": "code",
   "execution_count": null,
   "id": "b6a5f979-bb10-40d7-9551-adb5e2beadc1",
   "metadata": {},
   "outputs": [],
   "source": [
    "# Test R-squared\n",
    "RF_out_tuned.score(X_test, Y_test_out)"
   ]
  },
  {
   "cell_type": "code",
   "execution_count": null,
   "id": "3faee29c-12cc-4e05-be9a-77f375948d18",
   "metadata": {},
   "outputs": [],
   "source": [
    "# Reset the estimator for cross_val_score\n",
    "RF_out_tuned_placebo = RandomForestRegressor(random_state = 1509,\n",
    "                                             n_estimators = 1278,\n",
    "                                             max_depth = 195,\n",
    "                                             min_samples_split = 12,\n",
    "                                             min_samples_leaf = 1,\n",
    "                                             max_features = 'auto',\n",
    "                                             bootstrap = True)"
   ]
  },
  {
   "cell_type": "code",
   "execution_count": null,
   "id": "8129d15a-27a8-41f5-888d-ca531fcb693d",
   "metadata": {},
   "outputs": [],
   "source": [
    "# Cross-validated R-squared on the training sample using 5 folds\n",
    "# This is the best score reported by RandomizedSearchCV\n",
    "# This is the one to report because CV doesn't need train/test split\n",
    "# X_train here is the one used in hyperparameter tuning\n",
    "# Error here is from held-out test sets so model was not fit on X_train\n",
    "CV_train_scores = cross_val_score(RF_out_tuned, X_train, Y_train_out.values.ravel())\n",
    "print('R-squared from each fold (training):', CV_train_scores)"
   ]
  },
  {
   "cell_type": "code",
   "execution_count": null,
   "id": "2e03f227-69a6-4420-96ed-eeae4a18bd9f",
   "metadata": {},
   "outputs": [],
   "source": [
    "# Mean cross-validated score\n",
    "CV_train_scores.mean()"
   ]
  },
  {
   "cell_type": "markdown",
   "id": "d3fd82c1-3a53-4cec-aa67-858b29c624f7",
   "metadata": {},
   "source": [
    "### Results on LMIC set"
   ]
  },
  {
   "cell_type": "code",
   "execution_count": null,
   "id": "cca25b76-c55a-43ca-94ef-f7f747729213",
   "metadata": {},
   "outputs": [],
   "source": [
    "# Fit tuned model on real training data\n",
    "RF_out_tuned.fit(X_train, Y_train_out.values.ravel())"
   ]
  },
  {
   "cell_type": "code",
   "execution_count": null,
   "id": "0c97afae-f388-425e-862d-a96797d9d8d1",
   "metadata": {},
   "outputs": [],
   "source": [
    "# LMIC R-squared\n",
    "RF_out_tuned.score(X_LMIC, Y_LMIC)"
   ]
  },
  {
   "cell_type": "code",
   "execution_count": null,
   "id": "5f534586-78ea-431d-98e8-bdb3a98c049f",
   "metadata": {},
   "outputs": [],
   "source": [
    "# Cross-validated R-squared on the LMIC sample using 5 folds\n",
    "CV_scores_LMIC = cross_val_score(RF_out_tuned, X_LMIC, Y_LMIC.values.ravel())\n",
    "print('R-squared from each fold :', CV_scores_LMIC)"
   ]
  },
  {
   "cell_type": "code",
   "execution_count": null,
   "id": "23c2ae3b-f58e-4879-814a-0cb389d79320",
   "metadata": {},
   "outputs": [],
   "source": [
    "# Mean cross-validated score\n",
    "CV_scores_LMIC.mean()"
   ]
  },
  {
   "cell_type": "markdown",
   "id": "a1a5641e-6c0b-41e7-96ad-9d97f0c7b387",
   "metadata": {},
   "source": [
    "### Results on HIC set"
   ]
  },
  {
   "cell_type": "code",
   "execution_count": null,
   "id": "e8775161-fcee-4db1-9c97-d0aea1c4b271",
   "metadata": {},
   "outputs": [],
   "source": [
    "# HIC R-squared\n",
    "RF_out_tuned.score(X_HIC, Y_HIC)"
   ]
  },
  {
   "cell_type": "code",
   "execution_count": null,
   "id": "0529bced-24ca-4d6c-aef5-6b2ad85aab36",
   "metadata": {},
   "outputs": [],
   "source": [
    "# Cross-validated R-squared on the HIC sample using 5 folds\n",
    "CV_scores_HIC = cross_val_score(RF_out_tuned, X_HIC, Y_HIC.values.ravel())\n",
    "print('R-squared from each fold :', CV_scores_HIC)"
   ]
  },
  {
   "cell_type": "code",
   "execution_count": null,
   "id": "121b6e56-3161-4b69-9743-684ff5887863",
   "metadata": {},
   "outputs": [],
   "source": [
    "# Mean cross-validated score\n",
    "CV_scores_HIC.mean()"
   ]
  },
  {
   "cell_type": "markdown",
   "id": "fcc353c4-b3dc-4d08-bea1-15072d676c4a",
   "metadata": {},
   "source": [
    "### Results on individual countries"
   ]
  },
  {
   "cell_type": "code",
   "execution_count": null,
   "id": "ae2c0f8a-aed9-40ac-87a5-d1118ce84689",
   "metadata": {},
   "outputs": [],
   "source": [
    "# Import without ZAF\n",
    "Africa_noZAF = feather.read_feather(results_dir + 'Africa_noZAF.feather')\n",
    "Africa_noZAF_smp = create_smp(Africa_noZAF, select_features)\n",
    "\n",
    "# Import ZAF\n",
    "ZAF = feather.read_feather(results_dir + 'ZAF.feather')\n",
    "ZAF_smp = create_smp(ZAF, select_features)\n",
    "\n",
    "# Training and test sets for Africa with no ZAF\n",
    "Y_Africa_noZAF = Africa_noZAF_smp[['ln.Tot_IFF_t']]\n",
    "X_Africa_noZAF = Africa_noZAF_smp[features]\n",
    "\n",
    "# Training and test sets for ZAF\n",
    "Y_ZAF = ZAF_smp[['ln.Tot_IFF_t']]\n",
    "X_ZAF = ZAF_smp[features]"
   ]
  },
  {
   "cell_type": "code",
   "execution_count": null,
   "id": "ba448ca5-f097-4321-ad66-13dc64d4644d",
   "metadata": {},
   "outputs": [],
   "source": [
    "# The hyperparameters were found using a cross-validation randomized search strategy on the training sample X_train\n",
    "RF_out_tuned = RandomForestRegressor(random_state = 1509,\n",
    "                                     n_estimators = 1278,\n",
    "                                     max_depth = 195,\n",
    "                                     min_samples_split = 12,\n",
    "                                     min_samples_leaf = 1,\n",
    "                                     max_features = 'auto',\n",
    "                                     bootstrap = True)"
   ]
  },
  {
   "cell_type": "code",
   "execution_count": null,
   "id": "1f0fae40-3ea3-4ce7-9a9b-37574d48091e",
   "metadata": {},
   "outputs": [],
   "source": [
    "# Fit tuned model on training data without ZAF\n",
    "RF_out_tuned.fit(X_Africa_noZAF, Y_Africa_noZAF.values.ravel())"
   ]
  },
  {
   "cell_type": "code",
   "execution_count": null,
   "id": "2f429e02-5e1e-44ef-aa1d-305937e8a4d4",
   "metadata": {},
   "outputs": [],
   "source": [
    "# ZAF R-squared\n",
    "RF_out_tuned.score(X_ZAF, Y_ZAF)"
   ]
  },
  {
   "cell_type": "code",
   "execution_count": null,
   "id": "7c7239f3-c178-4468-9d8c-31175de3e764",
   "metadata": {},
   "outputs": [],
   "source": [
    "# Cross-validated R-squared for ZAF\n",
    "CV_scores_ZAF = cross_val_score(RF_out_tuned, X_ZAF, Y_ZAF.values.ravel())\n",
    "print('R-squared from each fold :', CV_scores_ZAF)"
   ]
  },
  {
   "cell_type": "code",
   "execution_count": null,
   "id": "14078e8d-0dab-43a9-83e3-c4603a9f60b9",
   "metadata": {},
   "outputs": [],
   "source": [
    "CV_scores_ZAF.mean()"
   ]
  },
  {
   "cell_type": "markdown",
   "id": "cc9d2206-3591-4176-bd4d-56955dd7c1b0",
   "metadata": {
    "tags": []
   },
   "source": [
    "#### Egypt"
   ]
  },
  {
   "cell_type": "code",
   "execution_count": null,
   "id": "15df4552-a248-41ad-8e0c-601576f967db",
   "metadata": {},
   "outputs": [],
   "source": [
    "# Import without EGY\n",
    "Africa_noEGY = feather.read_feather(results_dir + 'Africa_noEGY.feather')\n",
    "Africa_noEGY_smp = create_smp(Africa_noEGY, select_features)\n",
    "\n",
    "# Import EGY\n",
    "EGY = feather.read_feather(results_dir + 'EGY.feather')\n",
    "EGY_smp = create_smp(EGY, select_features)\n",
    "\n",
    "# Training and test sets for Africa with no EGY\n",
    "Y_Africa_noEGY = Africa_noEGY_smp[['ln.Tot_IFF_t']]\n",
    "X_Africa_noEGY = Africa_noEGY_smp[features]\n",
    "\n",
    "# Training and test sets for EGY\n",
    "Y_EGY = EGY_smp[['ln.Tot_IFF_t']]\n",
    "X_EGY = EGY_smp[features]"
   ]
  },
  {
   "cell_type": "code",
   "execution_count": null,
   "id": "f52f4eef-e849-4457-8778-ec87d928edca",
   "metadata": {},
   "outputs": [],
   "source": [
    "# The hyperparameters were found using a cross-validation randomized search strategy on the training sample X_train\n",
    "RF_out_tuned = RandomForestRegressor(random_state = 1509,\n",
    "                                     n_estimators = 1278,\n",
    "                                     max_depth = 195,\n",
    "                                     min_samples_split = 12,\n",
    "                                     min_samples_leaf = 1,\n",
    "                                     max_features = 'auto',\n",
    "                                     bootstrap = True)"
   ]
  },
  {
   "cell_type": "code",
   "execution_count": null,
   "id": "2f405367-2ab9-48e4-b6fd-0398e392947f",
   "metadata": {},
   "outputs": [],
   "source": [
    "# Fit tuned model on training data without ZAF\n",
    "RF_out_tuned.fit(X_Africa_noEGY, Y_Africa_noEGY.values.ravel())"
   ]
  },
  {
   "cell_type": "code",
   "execution_count": null,
   "id": "97b702c1-c347-4609-b972-3abe7fa83ba1",
   "metadata": {},
   "outputs": [],
   "source": [
    "# ZAF R-squared\n",
    "RF_out_tuned.score(X_EGY, Y_EGY)"
   ]
  },
  {
   "cell_type": "code",
   "execution_count": null,
   "id": "45896bba-4635-4290-8558-00bfc0aef207",
   "metadata": {},
   "outputs": [],
   "source": [
    "# Cross-validated R-squared for EGY\n",
    "CV_scores_EGY = cross_val_score(RF_out_tuned, X_EGY, Y_EGY.values.ravel())\n",
    "print('R-squared from each fold :', CV_scores_EGY)"
   ]
  },
  {
   "cell_type": "code",
   "execution_count": null,
   "id": "7fbf1515-3b67-4302-9007-fd7196df564e",
   "metadata": {},
   "outputs": [],
   "source": [
    "CV_scores_EGY.mean()"
   ]
  }
 ],
 "metadata": {
  "kernelspec": {
   "display_name": "Python 3 (ipykernel)",
   "language": "python",
   "name": "python3"
  },
  "language_info": {
   "codemirror_mode": {
    "name": "ipython",
    "version": 3
   },
   "file_extension": ".py",
   "mimetype": "text/x-python",
   "name": "python",
   "nbconvert_exporter": "python",
   "pygments_lexer": "ipython3",
   "version": "3.9.6"
  }
 },
 "nbformat": 4,
 "nbformat_minor": 5
}
