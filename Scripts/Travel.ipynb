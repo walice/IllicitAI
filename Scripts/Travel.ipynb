{
 "cells": [
  {
   "cell_type": "markdown",
   "id": "f07e16ef-9fec-4338-bfe9-1ac012b0ccd6",
   "metadata": {},
   "source": [
    "# Does the model travel well?"
   ]
  },
  {
   "cell_type": "markdown",
   "id": "55ecc80f-7309-48bb-bbfd-1d794a1442b4",
   "metadata": {},
   "source": [
    "## Preamble"
   ]
  },
  {
   "cell_type": "code",
   "execution_count": 1,
   "id": "c7e4cb58-9458-432c-9a2e-ae03896af346",
   "metadata": {},
   "outputs": [],
   "source": [
    "# Preamble\n",
    "import pandas as pd\n",
    "import numpy as np\n",
    "pd.set_option(\"mode.chained_assignment\", None)\n",
    "import random\n",
    "random.seed(1509)\n",
    "import matplotlib.pyplot as plt\n",
    "import lightgbm as lgb\n",
    "import pyarrow.feather as feather\n",
    "from os import chdir, getcwd\n",
    "import statsmodels.api as sm\n",
    "from pprint import pprint\n",
    "from nested_cv import NestedCV\n",
    "\n",
    "# sci-kit\n",
    "from sklearn.linear_model import LinearRegression\n",
    "from sklearn.neural_network import MLPRegressor\n",
    "from sklearn.ensemble import RandomForestRegressor\n",
    "from sklearn import svm\n",
    "from sklearn.preprocessing import StandardScaler\n",
    "from sklearn.model_selection import train_test_split, GridSearchCV, RandomizedSearchCV, cross_val_score, cross_val_predict\n",
    "from sklearn import metrics\n",
    "from sklearn.metrics import r2_score, mean_squared_error, explained_variance_score\n",
    "from sklearn import tree"
   ]
  },
  {
   "cell_type": "code",
   "execution_count": 2,
   "id": "e0fe8ec1-1612-4d70-b138-d632cd8810e3",
   "metadata": {},
   "outputs": [],
   "source": [
    "data_dir = '/home/jovyan/work/Data/'\n",
    "results_dir = '/home/jovyan/work/Results/'"
   ]
  },
  {
   "cell_type": "code",
   "execution_count": 3,
   "id": "88d47573-b5bb-477d-aa28-8038630a1f3e",
   "metadata": {},
   "outputs": [],
   "source": [
    "select_features = ['reporter.ISO', 'partner.ISO', 'year',\n",
    "                   'ln.Tot_IFF_t', 'ln.In_Tot_IFF_t',\n",
    "                   'ln.gdp_o', 'ln.gdp_d', 'ln.pop_o', 'ln.pop_d', \n",
    "                   'dist', 'contig', \n",
    "                   'comlang', 'comcol', 'col45', \n",
    "                   'ihs.entry_cost_o', 'ihs.entry_cost_d', 'rta',\n",
    "                   'rCorrCont', 'pCorrCont',\n",
    "                   'rRegQual', 'pRegQual', \n",
    "                   'rRuleLaw', 'pRuleLaw',\n",
    "                   'pSecrecyScore',\n",
    "                   'pFSI.rank',\n",
    "                   'pKFSI13',\n",
    "                   'pKFSI17',\n",
    "                   'pKFSI20',\n",
    "                   'rFATF', 'pFATF',\n",
    "                   'ihs.tariff',\n",
    "                   'kai_o', 'kai_d', 'kao_o', 'kao_d',\n",
    "                   'cc_o', 'cc_d', 'cci_o', 'cci_d', 'cco_o', 'cco_d',\n",
    "                   'di_o', 'di_d', 'dii_o', 'dii_d', 'dio_o', 'dio_d']\n",
    "\n",
    "features = [       'ln.gdp_o', 'ln.gdp_d', 'ln.pop_o', 'ln.pop_d', \n",
    "                   'dist', 'contig', \n",
    "                   'comlang', 'comcol', 'col45', \n",
    "                   'ihs.entry_cost_o', 'ihs.entry_cost_d', 'rta',\n",
    "                   'rCorrCont', 'pCorrCont',\n",
    "                   'rRegQual', 'pRegQual', \n",
    "                   'rRuleLaw', 'pRuleLaw',\n",
    "                   'pSecrecyScore',\n",
    "                   'pFSI.rank',\n",
    "                   'pKFSI13',\n",
    "                   'pKFSI17',\n",
    "                   'pKFSI20',\n",
    "                   'rFATF', 'pFATF',\n",
    "                   'ihs.tariff',\n",
    "                   'kai_o', 'kai_d', 'kao_o', 'kao_d',\n",
    "                   'cc_o', 'cc_d', 'cci_o', 'cci_d', 'cco_o', 'cco_d',\n",
    "                   'di_o', 'di_d', 'dii_o', 'dii_d', 'dio_o', 'dio_d']\n",
    "\n",
    "ids = [       'reporter.ISO', 'partner.ISO', 'year']"
   ]
  },
  {
   "cell_type": "code",
   "execution_count": 4,
   "id": "df6d7711-2c31-4f08-8730-3d873212aedb",
   "metadata": {},
   "outputs": [],
   "source": [
    "def create_smp(data, features):\n",
    "    \"\"\"\n",
    "    Create train and test samples that are complete.\n",
    "    \"\"\"\n",
    "    smp = data[features]\n",
    "    smp.dropna(axis=0, how='any', inplace=True)\n",
    "    return smp"
   ]
  },
  {
   "cell_type": "markdown",
   "id": "d0a5cdf8-9b7c-4ea5-81d7-ec702f93b34e",
   "metadata": {},
   "source": [
    "## Samples"
   ]
  },
  {
   "cell_type": "markdown",
   "id": "aeb64cc7-c287-4073-b357-67e85328daba",
   "metadata": {},
   "source": [
    "### Import full sample"
   ]
  },
  {
   "cell_type": "code",
   "execution_count": 5,
   "id": "eaec2648-eaa9-45a2-b432-8fbcf60080fc",
   "metadata": {},
   "outputs": [],
   "source": [
    "data = feather.read_feather(results_dir + 'Africa_agg.feather')"
   ]
  },
  {
   "cell_type": "code",
   "execution_count": 6,
   "id": "1331c556-86c9-4d76-90ff-388e460fe2f4",
   "metadata": {},
   "outputs": [],
   "source": [
    "data_smp = create_smp(data, select_features)"
   ]
  },
  {
   "cell_type": "code",
   "execution_count": 7,
   "id": "0b8b1b4e-47ab-425d-af83-62c5ea76f088",
   "metadata": {
    "tags": []
   },
   "outputs": [],
   "source": [
    "idx = data_smp[ids]\n",
    "X = data_smp[features]\n",
    "Y_out = data_smp[['ln.Tot_IFF_t']]\n",
    "Y_in = data_smp[['ln.In_Tot_IFF_t']]"
   ]
  },
  {
   "cell_type": "code",
   "execution_count": 8,
   "id": "ca479791-518b-4ca9-b65d-fa95f016d9eb",
   "metadata": {},
   "outputs": [],
   "source": [
    "feather.write_feather(idx, results_dir + 'idx.feather')\n",
    "feather.write_feather(X, results_dir + 'X.feather')\n",
    "feather.write_feather(Y_out, results_dir + 'Y_out.feather')\n",
    "feather.write_feather(Y_in, results_dir + 'Y_in.feather')"
   ]
  },
  {
   "cell_type": "code",
   "execution_count": 9,
   "id": "916fd844-b06e-42ed-ac76-d0cdbc0ee217",
   "metadata": {},
   "outputs": [
    {
     "name": "stdout",
     "output_type": "stream",
     "text": [
      "X:  (5333, 42) \n",
      "Y_out:  (5333, 1)\n"
     ]
    }
   ],
   "source": [
    "print('X: ', X.shape, '\\nY_out: ',  Y_out.shape)"
   ]
  },
  {
   "cell_type": "markdown",
   "id": "56802bcc-e485-40e8-840c-452c3426e8f3",
   "metadata": {},
   "source": [
    "### Import training and test sets"
   ]
  },
  {
   "cell_type": "code",
   "execution_count": 10,
   "id": "8fcee08b-c51d-470b-b16f-c6216e83dc9b",
   "metadata": {},
   "outputs": [],
   "source": [
    "LMIC_agg = feather.read_feather(results_dir + 'LMIC_agg.feather')\n",
    "HIC_agg = feather.read_feather(results_dir + 'HIC_agg.feather')"
   ]
  },
  {
   "cell_type": "code",
   "execution_count": 11,
   "id": "1b0a14bf-3923-422a-aa82-881c151e8579",
   "metadata": {},
   "outputs": [],
   "source": [
    "LMIC_agg_smp = create_smp(LMIC_agg, select_features)\n",
    "HIC_agg_smp = create_smp(HIC_agg, select_features)"
   ]
  },
  {
   "cell_type": "code",
   "execution_count": 12,
   "id": "33d37895-4011-4a05-87e8-cca4aa495853",
   "metadata": {},
   "outputs": [],
   "source": [
    "train_agg = feather.read_feather(results_dir + 'train_agg.feather')\n",
    "test_agg = feather.read_feather(results_dir + 'test_agg.feather')"
   ]
  },
  {
   "cell_type": "code",
   "execution_count": 13,
   "id": "f8a6a9c6-7b10-47a6-b7ba-e441e8fcce8b",
   "metadata": {},
   "outputs": [],
   "source": [
    "train_agg_smp = create_smp(train_agg, select_features)\n",
    "test_agg_smp = create_smp(test_agg, select_features)"
   ]
  },
  {
   "cell_type": "code",
   "execution_count": 14,
   "id": "d6e3f442-5db6-46af-a727-1c7b2eaf7755",
   "metadata": {},
   "outputs": [],
   "source": [
    "feather.write_feather(train_agg_smp, results_dir + 'train_agg_smp.feather')\n",
    "feather.write_feather(test_agg_smp, results_dir + 'test_agg_smp.feather')"
   ]
  },
  {
   "cell_type": "code",
   "execution_count": 15,
   "id": "4632a164-871d-400e-9fd0-f88c766e0470",
   "metadata": {},
   "outputs": [
    {
     "name": "stdout",
     "output_type": "stream",
     "text": [
      "Training set:  (4256, 47) \n",
      "Test set:  (1077, 47) \n",
      "LMIC set:  (9668, 47)\n"
     ]
    }
   ],
   "source": [
    "print('Training set: ', train_agg_smp.shape, '\\nTest set: ',  test_agg_smp.shape, '\\nLMIC set: ',  LMIC_agg_smp.shape)"
   ]
  },
  {
   "cell_type": "markdown",
   "id": "96756d55-cbea-44c6-b333-384ac36840b5",
   "metadata": {},
   "source": [
    "### Create feature set and vector of outcome labels"
   ]
  },
  {
   "cell_type": "code",
   "execution_count": 85,
   "id": "ecfa3fe6-250a-486e-a01e-fc5077eaa558",
   "metadata": {},
   "outputs": [],
   "source": [
    "# Training set\n",
    "Y_train_out = train_agg_smp[['ln.Tot_IFF_t']]\n",
    "Y_train_in = train_agg_smp[['ln.In_Tot_IFF_t']]\n",
    "X_train = train_agg_smp[features]\n",
    "\n",
    "# Test set\n",
    "Y_test_out = test_agg_smp[['ln.Tot_IFF_t']]\n",
    "Y_test_in = test_agg_smp[['ln.In_Tot_IFF_t']]\n",
    "X_test = test_agg_smp[features]\n",
    "\n",
    "# LMIC outcome vectors and features\n",
    "Y_out_LMIC = LMIC_agg_smp[['ln.Tot_IFF_t']]\n",
    "Y_in_LMIC = LMIC_agg_smp[['ln.In_Tot_IFF_t']]\n",
    "X_LMIC = LMIC_agg_smp[features]\n",
    "\n",
    "# HIC outcome vectors and features\n",
    "Y_out_HIC = HIC_agg_smp[['ln.Tot_IFF_t']]\n",
    "Y_in_HIC = HIC_agg_smp[['ln.In_Tot_IFF_t']]\n",
    "X_HIC = HIC_agg_smp[features]"
   ]
  },
  {
   "cell_type": "code",
   "execution_count": 17,
   "id": "b9b3fb7b-8985-42b1-a528-6d26804f4945",
   "metadata": {},
   "outputs": [],
   "source": [
    "idx = train_agg_smp[ids]"
   ]
  },
  {
   "cell_type": "markdown",
   "id": "4780b428-b947-49ec-acba-9b5f146d70f9",
   "metadata": {},
   "source": [
    "### Tune Random Forest model"
   ]
  },
  {
   "cell_type": "code",
   "execution_count": 18,
   "id": "f4f8545d-eccf-464b-b857-10d3db83e13f",
   "metadata": {},
   "outputs": [],
   "source": [
    "# The hyperparameters were found using a cross-validation randomized search strategy on the training sample X_train\n",
    "RF_out_tuned = RandomForestRegressor(random_state = 1509,\n",
    "                                     n_estimators = 1278,\n",
    "                                     max_depth = 195,\n",
    "                                     min_samples_split = 12,\n",
    "                                     min_samples_leaf = 1,\n",
    "                                     max_features = 'auto',\n",
    "                                     bootstrap = True)"
   ]
  },
  {
   "cell_type": "markdown",
   "id": "01d59f92-0422-4709-9515-3c112dca8e3a",
   "metadata": {},
   "source": [
    "### Results on real samples"
   ]
  },
  {
   "cell_type": "code",
   "execution_count": 19,
   "id": "e2e809c8-9721-482b-9dba-a68701f8005b",
   "metadata": {},
   "outputs": [
    {
     "data": {
      "text/plain": [
       "RandomForestRegressor(max_depth=195, min_samples_split=12, n_estimators=1278,\n",
       "                      random_state=1509)"
      ]
     },
     "execution_count": 19,
     "metadata": {},
     "output_type": "execute_result"
    }
   ],
   "source": [
    "# Fit tuned model on real training data\n",
    "RF_out_tuned.fit(X_train, Y_train_out.values.ravel())"
   ]
  },
  {
   "cell_type": "code",
   "execution_count": 20,
   "id": "5abf387d-7e25-4393-ba5a-9cb597bdbb44",
   "metadata": {},
   "outputs": [
    {
     "data": {
      "text/plain": [
       "0.8918552097958046"
      ]
     },
     "execution_count": 20,
     "metadata": {},
     "output_type": "execute_result"
    }
   ],
   "source": [
    "# Training R-squared\n",
    "RF_out_tuned.score(X_train, Y_train_out)"
   ]
  },
  {
   "cell_type": "code",
   "execution_count": 21,
   "id": "b6a5f979-bb10-40d7-9551-adb5e2beadc1",
   "metadata": {},
   "outputs": [
    {
     "data": {
      "text/plain": [
       "0.7081047138987878"
      ]
     },
     "execution_count": 21,
     "metadata": {},
     "output_type": "execute_result"
    }
   ],
   "source": [
    "# Test R-squared\n",
    "RF_out_tuned.score(X_test, Y_test_out)"
   ]
  },
  {
   "cell_type": "code",
   "execution_count": 22,
   "id": "3faee29c-12cc-4e05-be9a-77f375948d18",
   "metadata": {},
   "outputs": [],
   "source": [
    "# Reset the estimator for cross_val_score\n",
    "RF_out_tuned = RandomForestRegressor(random_state = 1509,\n",
    "                                     n_estimators = 1278,\n",
    "                                     max_depth = 195,\n",
    "                                     min_samples_split = 12,\n",
    "                                     min_samples_leaf = 1,\n",
    "                                     max_features = 'auto',\n",
    "                                     bootstrap = True)"
   ]
  },
  {
   "cell_type": "code",
   "execution_count": 23,
   "id": "8129d15a-27a8-41f5-888d-ca531fcb693d",
   "metadata": {},
   "outputs": [
    {
     "name": "stdout",
     "output_type": "stream",
     "text": [
      "R-squared from each fold (training): [0.64624182 0.67827449 0.67677421 0.6886621  0.69110983]\n"
     ]
    }
   ],
   "source": [
    "# Cross-validated R-squared on the training sample using 5 folds\n",
    "# This is the best score reported by RandomizedSearchCV\n",
    "# This is the one to report because CV doesn't need train/test split\n",
    "# X_train here is the one used in hyperparameter tuning\n",
    "# Error here is from held-out test sets so model was not fit on X_train\n",
    "CV_train_scores = cross_val_score(RF_out_tuned, X_train, Y_train_out.values.ravel())\n",
    "print('R-squared from each fold (training):', CV_train_scores)"
   ]
  },
  {
   "cell_type": "code",
   "execution_count": 24,
   "id": "2e03f227-69a6-4420-96ed-eeae4a18bd9f",
   "metadata": {},
   "outputs": [
    {
     "data": {
      "text/plain": [
       "0.6762124915340071"
      ]
     },
     "execution_count": 24,
     "metadata": {},
     "output_type": "execute_result"
    }
   ],
   "source": [
    "# Mean cross-validated score\n",
    "CV_train_scores.mean()"
   ]
  },
  {
   "cell_type": "markdown",
   "id": "d3fd82c1-3a53-4cec-aa67-858b29c624f7",
   "metadata": {},
   "source": [
    "### Results on LMIC set (outflows)"
   ]
  },
  {
   "cell_type": "code",
   "execution_count": 25,
   "id": "cca25b76-c55a-43ca-94ef-f7f747729213",
   "metadata": {},
   "outputs": [
    {
     "data": {
      "text/plain": [
       "RandomForestRegressor(max_depth=195, min_samples_split=12, n_estimators=1278,\n",
       "                      random_state=1509)"
      ]
     },
     "execution_count": 25,
     "metadata": {},
     "output_type": "execute_result"
    }
   ],
   "source": [
    "# Fit tuned model on real training data\n",
    "RF_out_tuned.fit(X_train, Y_train_out.values.ravel())"
   ]
  },
  {
   "cell_type": "code",
   "execution_count": 26,
   "id": "0c97afae-f388-425e-862d-a96797d9d8d1",
   "metadata": {},
   "outputs": [
    {
     "data": {
      "text/plain": [
       "0.6018906625061435"
      ]
     },
     "execution_count": 26,
     "metadata": {},
     "output_type": "execute_result"
    }
   ],
   "source": [
    "# LMIC R-squared\n",
    "RF_out_tuned.score(X_LMIC, Y_out_LMIC)"
   ]
  },
  {
   "cell_type": "code",
   "execution_count": 27,
   "id": "5f534586-78ea-431d-98e8-bdb3a98c049f",
   "metadata": {},
   "outputs": [
    {
     "name": "stdout",
     "output_type": "stream",
     "text": [
      "R-squared from each fold : [0.40623784 0.19606454 0.50883527 0.32490603 0.47968467]\n"
     ]
    }
   ],
   "source": [
    "# Cross-validated R-squared on the LMIC sample using 5 folds\n",
    "CV_scores_out_LMIC = cross_val_score(RF_out_tuned, X_LMIC, Y_out_LMIC.values.ravel())\n",
    "print('R-squared from each fold :', CV_scores_out_LMIC)"
   ]
  },
  {
   "cell_type": "code",
   "execution_count": 28,
   "id": "23c2ae3b-f58e-4879-814a-0cb389d79320",
   "metadata": {},
   "outputs": [
    {
     "data": {
      "text/plain": [
       "0.3831456695816001"
      ]
     },
     "execution_count": 28,
     "metadata": {},
     "output_type": "execute_result"
    }
   ],
   "source": [
    "# Mean cross-validated score\n",
    "CV_scores_out_LMIC.mean()"
   ]
  },
  {
   "cell_type": "markdown",
   "id": "b9baaa02-3875-4e73-9d65-d24a6dbb30e3",
   "metadata": {},
   "source": [
    "### Results on LMIC set (inflows)"
   ]
  },
  {
   "cell_type": "code",
   "execution_count": 76,
   "id": "e0464eeb-05ec-443e-bcd8-8dd68178b890",
   "metadata": {},
   "outputs": [],
   "source": [
    "# Reset the estimator\n",
    "RF_in_tuned = RandomForestRegressor(random_state = 1509,\n",
    "                                    n_estimators = 1278,\n",
    "                                    max_depth = 195,\n",
    "                                    min_samples_split = 12,\n",
    "                                    min_samples_leaf = 1,\n",
    "                                    max_features = 'auto',\n",
    "                                    bootstrap = True)"
   ]
  },
  {
   "cell_type": "code",
   "execution_count": 77,
   "id": "a81870ce-5552-4284-b8a7-468f6e290e19",
   "metadata": {},
   "outputs": [
    {
     "data": {
      "text/plain": [
       "RandomForestRegressor(max_depth=195, min_samples_split=12, n_estimators=1278,\n",
       "                      random_state=1509)"
      ]
     },
     "execution_count": 77,
     "metadata": {},
     "output_type": "execute_result"
    }
   ],
   "source": [
    "# Fit tuned model on real training data\n",
    "RF_in_tuned.fit(X_train, Y_train_in.values.ravel())"
   ]
  },
  {
   "cell_type": "code",
   "execution_count": 86,
   "id": "b36bd517-31fc-41a2-83f7-48b22c95a3b7",
   "metadata": {},
   "outputs": [
    {
     "data": {
      "text/plain": [
       "0.556747215488813"
      ]
     },
     "execution_count": 86,
     "metadata": {},
     "output_type": "execute_result"
    }
   ],
   "source": [
    "# LMIC R-squared\n",
    "RF_in_tuned.score(X_LMIC, Y_in_LMIC)"
   ]
  },
  {
   "cell_type": "code",
   "execution_count": 87,
   "id": "e528b13c-7422-4747-8e10-5311fd3637cc",
   "metadata": {},
   "outputs": [
    {
     "name": "stdout",
     "output_type": "stream",
     "text": [
      "R-squared from each fold : [0.4834182  0.50600178 0.5637943  0.47190186 0.55095169]\n"
     ]
    }
   ],
   "source": [
    "# Cross-validated R-squared on the LMIC sample using 5 folds\n",
    "CV_scores_in_LMIC = cross_val_score(RF_in_tuned, X_LMIC, Y_in_LMIC.values.ravel())\n",
    "print('R-squared from each fold :', CV_scores_in_LMIC)"
   ]
  },
  {
   "cell_type": "code",
   "execution_count": 80,
   "id": "18463d19-6693-4931-b36b-ee98b2ffede3",
   "metadata": {},
   "outputs": [
    {
     "data": {
      "text/plain": [
       "0.3831456695816001"
      ]
     },
     "execution_count": 80,
     "metadata": {},
     "output_type": "execute_result"
    }
   ],
   "source": [
    "# Mean cross-validated score\n",
    "CV_scores_in_LMIC.mean()"
   ]
  },
  {
   "cell_type": "markdown",
   "id": "a1a5641e-6c0b-41e7-96ad-9d97f0c7b387",
   "metadata": {},
   "source": [
    "### Results on HIC set (outflows)"
   ]
  },
  {
   "cell_type": "code",
   "execution_count": 22,
   "id": "3fc63246-e61f-4d24-ab08-385808864e5b",
   "metadata": {},
   "outputs": [],
   "source": [
    "# Reset the estimator\n",
    "RF_out_tuned = RandomForestRegressor(random_state = 1509,\n",
    "                                     n_estimators = 1278,\n",
    "                                     max_depth = 195,\n",
    "                                     min_samples_split = 12,\n",
    "                                     min_samples_leaf = 1,\n",
    "                                     max_features = 'auto',\n",
    "                                     bootstrap = True)"
   ]
  },
  {
   "cell_type": "code",
   "execution_count": 29,
   "id": "e8775161-fcee-4db1-9c97-d0aea1c4b271",
   "metadata": {},
   "outputs": [
    {
     "data": {
      "text/plain": [
       "0.5442467500220617"
      ]
     },
     "execution_count": 29,
     "metadata": {},
     "output_type": "execute_result"
    }
   ],
   "source": [
    "# HIC R-squared\n",
    "RF_out_tuned.score(X_HIC, Y_out_HIC)"
   ]
  },
  {
   "cell_type": "code",
   "execution_count": 30,
   "id": "0529bced-24ca-4d6c-aef5-6b2ad85aab36",
   "metadata": {},
   "outputs": [
    {
     "name": "stdout",
     "output_type": "stream",
     "text": [
      "R-squared from each fold : [0.65855662 0.66300172 0.54843668 0.51804504 0.64355374]\n"
     ]
    }
   ],
   "source": [
    "# Cross-validated R-squared on the HIC sample using 5 folds\n",
    "CV_scores_out_HIC = cross_val_score(RF_out_tuned, X_HIC, Y_out_HIC.values.ravel())\n",
    "print('R-squared from each fold :', CV_scores_out_HIC)"
   ]
  },
  {
   "cell_type": "code",
   "execution_count": 31,
   "id": "121b6e56-3161-4b69-9743-684ff5887863",
   "metadata": {},
   "outputs": [
    {
     "data": {
      "text/plain": [
       "0.6063187597435487"
      ]
     },
     "execution_count": 31,
     "metadata": {},
     "output_type": "execute_result"
    }
   ],
   "source": [
    "# Mean cross-validated score\n",
    "CV_scores_out_HIC.mean()"
   ]
  },
  {
   "cell_type": "markdown",
   "id": "dda31294-e057-468f-912d-74fd97f5a1f4",
   "metadata": {},
   "source": [
    "### Results on HIC set (inflows)"
   ]
  },
  {
   "cell_type": "code",
   "execution_count": 88,
   "id": "f6e441f4-c57d-41be-8c9b-3b40d457058b",
   "metadata": {},
   "outputs": [],
   "source": [
    "# Reset the estimator\n",
    "RF_in_tuned = RandomForestRegressor(random_state = 1509,\n",
    "                                    n_estimators = 1278,\n",
    "                                    max_depth = 195,\n",
    "                                    min_samples_split = 12,\n",
    "                                    min_samples_leaf = 1,\n",
    "                                    max_features = 'auto',\n",
    "                                    bootstrap = True)"
   ]
  },
  {
   "cell_type": "code",
   "execution_count": 89,
   "id": "b45096de-8177-4bb3-8bf3-16b03e398257",
   "metadata": {},
   "outputs": [
    {
     "data": {
      "text/plain": [
       "RandomForestRegressor(max_depth=195, min_samples_split=12, n_estimators=1278,\n",
       "                      random_state=1509)"
      ]
     },
     "execution_count": 89,
     "metadata": {},
     "output_type": "execute_result"
    }
   ],
   "source": [
    "# Fit tuned model on real training data\n",
    "RF_in_tuned.fit(X_train, Y_train_in.values.ravel())"
   ]
  },
  {
   "cell_type": "code",
   "execution_count": null,
   "id": "4a133285-56a6-49cd-80cf-b5a134564fae",
   "metadata": {},
   "outputs": [],
   "source": [
    "test = RF_in_tune.predict(X_HIC)\n",
    "r2_score(test, Y_in_HIC)"
   ]
  },
  {
   "cell_type": "code",
   "execution_count": 90,
   "id": "0b760b0e-96c2-4c19-b968-ac8278a38cf8",
   "metadata": {},
   "outputs": [
    {
     "data": {
      "text/plain": [
       "0.41827836617468195"
      ]
     },
     "execution_count": 90,
     "metadata": {},
     "output_type": "execute_result"
    }
   ],
   "source": [
    "# HIC R-squared\n",
    "RF_in_tuned.score(X_HIC, Y_in_HIC)"
   ]
  },
  {
   "cell_type": "code",
   "execution_count": 91,
   "id": "913565ba-ca00-4000-a1c1-3c71be55b1ef",
   "metadata": {},
   "outputs": [
    {
     "name": "stdout",
     "output_type": "stream",
     "text": [
      "R-squared from each fold : [0.63386736 0.61708207 0.61974949 0.52931547 0.54927167]\n"
     ]
    }
   ],
   "source": [
    "# Cross-validated R-squared on the HIC sample using 5 folds\n",
    "CV_scores_in_HIC = cross_val_score(RF_in_tuned, X_HIC, Y_in_HIC.values.ravel())\n",
    "print('R-squared from each fold :', CV_scores_in_HIC)"
   ]
  },
  {
   "cell_type": "code",
   "execution_count": 92,
   "id": "cbbed42d-ce19-4b97-b213-f7d8d6021bce",
   "metadata": {},
   "outputs": [
    {
     "data": {
      "text/plain": [
       "0.5898572126667652"
      ]
     },
     "execution_count": 92,
     "metadata": {},
     "output_type": "execute_result"
    }
   ],
   "source": [
    "# Mean cross-validated score\n",
    "CV_scores_in_HIC.mean()"
   ]
  },
  {
   "cell_type": "markdown",
   "id": "fcc353c4-b3dc-4d08-bea1-15072d676c4a",
   "metadata": {
    "tags": []
   },
   "source": [
    "### Results on individual countries"
   ]
  },
  {
   "cell_type": "code",
   "execution_count": 32,
   "id": "ae2c0f8a-aed9-40ac-87a5-d1118ce84689",
   "metadata": {},
   "outputs": [],
   "source": [
    "# Import without ZAF\n",
    "Africa_noZAF = feather.read_feather(results_dir + 'Africa_noZAF.feather')\n",
    "Africa_noZAF_smp = create_smp(Africa_noZAF, select_features)\n",
    "\n",
    "# Import ZAF\n",
    "ZAF = feather.read_feather(results_dir + 'ZAF.feather')\n",
    "ZAF_smp = create_smp(ZAF, select_features)\n",
    "\n",
    "# Training and test sets for Africa with no ZAF\n",
    "Y_Africa_noZAF = Africa_noZAF_smp[['ln.Tot_IFF_t']]\n",
    "X_Africa_noZAF = Africa_noZAF_smp[features]\n",
    "\n",
    "# Training and test sets for ZAF\n",
    "Y_ZAF = ZAF_smp[['ln.Tot_IFF_t']]\n",
    "X_ZAF = ZAF_smp[features]"
   ]
  },
  {
   "cell_type": "code",
   "execution_count": 33,
   "id": "ba448ca5-f097-4321-ad66-13dc64d4644d",
   "metadata": {},
   "outputs": [],
   "source": [
    "# The hyperparameters were found using a cross-validation randomized search strategy on the training sample X_train\n",
    "RF_out_tuned = RandomForestRegressor(random_state = 1509,\n",
    "                                     n_estimators = 1278,\n",
    "                                     max_depth = 195,\n",
    "                                     min_samples_split = 12,\n",
    "                                     min_samples_leaf = 1,\n",
    "                                     max_features = 'auto',\n",
    "                                     bootstrap = True)"
   ]
  },
  {
   "cell_type": "code",
   "execution_count": 34,
   "id": "1f0fae40-3ea3-4ce7-9a9b-37574d48091e",
   "metadata": {},
   "outputs": [
    {
     "data": {
      "text/plain": [
       "RandomForestRegressor(max_depth=195, min_samples_split=12, n_estimators=1278,\n",
       "                      random_state=1509)"
      ]
     },
     "execution_count": 34,
     "metadata": {},
     "output_type": "execute_result"
    }
   ],
   "source": [
    "# Fit tuned model on training data without ZAF\n",
    "RF_out_tuned.fit(X_Africa_noZAF, Y_Africa_noZAF.values.ravel())"
   ]
  },
  {
   "cell_type": "code",
   "execution_count": 35,
   "id": "2f429e02-5e1e-44ef-aa1d-305937e8a4d4",
   "metadata": {},
   "outputs": [
    {
     "data": {
      "text/plain": [
       "-1.625300992707332"
      ]
     },
     "execution_count": 35,
     "metadata": {},
     "output_type": "execute_result"
    }
   ],
   "source": [
    "# ZAF R-squared\n",
    "RF_out_tuned.score(X_ZAF, Y_ZAF)"
   ]
  },
  {
   "cell_type": "code",
   "execution_count": 36,
   "id": "7c7239f3-c178-4468-9d8c-31175de3e764",
   "metadata": {},
   "outputs": [
    {
     "name": "stdout",
     "output_type": "stream",
     "text": [
      "R-squared from each fold : [0.80488705 0.88518689 0.92474492 0.91204537 0.86323192]\n"
     ]
    }
   ],
   "source": [
    "# Cross-validated R-squared for ZAF\n",
    "CV_scores_ZAF = cross_val_score(RF_out_tuned, X_ZAF, Y_ZAF.values.ravel())\n",
    "print('R-squared from each fold :', CV_scores_ZAF)"
   ]
  },
  {
   "cell_type": "code",
   "execution_count": 37,
   "id": "14078e8d-0dab-43a9-83e3-c4603a9f60b9",
   "metadata": {},
   "outputs": [
    {
     "data": {
      "text/plain": [
       "0.8780192320819709"
      ]
     },
     "execution_count": 37,
     "metadata": {},
     "output_type": "execute_result"
    }
   ],
   "source": [
    "CV_scores_ZAF.mean()"
   ]
  },
  {
   "cell_type": "markdown",
   "id": "cc9d2206-3591-4176-bd4d-56955dd7c1b0",
   "metadata": {
    "tags": []
   },
   "source": [
    "#### Egypt"
   ]
  },
  {
   "cell_type": "code",
   "execution_count": 38,
   "id": "15df4552-a248-41ad-8e0c-601576f967db",
   "metadata": {},
   "outputs": [],
   "source": [
    "# Import without EGY\n",
    "Africa_noEGY = feather.read_feather(results_dir + 'Africa_noEGY.feather')\n",
    "Africa_noEGY_smp = create_smp(Africa_noEGY, select_features)\n",
    "\n",
    "# Import EGY\n",
    "EGY = feather.read_feather(results_dir + 'EGY.feather')\n",
    "EGY_smp = create_smp(EGY, select_features)\n",
    "\n",
    "# Training and test sets for Africa with no EGY\n",
    "Y_Africa_noEGY = Africa_noEGY_smp[['ln.Tot_IFF_t']]\n",
    "X_Africa_noEGY = Africa_noEGY_smp[features]\n",
    "\n",
    "# Training and test sets for EGY\n",
    "Y_EGY = EGY_smp[['ln.Tot_IFF_t']]\n",
    "X_EGY = EGY_smp[features]"
   ]
  },
  {
   "cell_type": "code",
   "execution_count": 39,
   "id": "f52f4eef-e849-4457-8778-ec87d928edca",
   "metadata": {},
   "outputs": [],
   "source": [
    "# The hyperparameters were found using a cross-validation randomized search strategy on the training sample X_train\n",
    "RF_out_tuned = RandomForestRegressor(random_state = 1509,\n",
    "                                     n_estimators = 1278,\n",
    "                                     max_depth = 195,\n",
    "                                     min_samples_split = 12,\n",
    "                                     min_samples_leaf = 1,\n",
    "                                     max_features = 'auto',\n",
    "                                     bootstrap = True)"
   ]
  },
  {
   "cell_type": "code",
   "execution_count": 40,
   "id": "2f405367-2ab9-48e4-b6fd-0398e392947f",
   "metadata": {},
   "outputs": [
    {
     "data": {
      "text/plain": [
       "RandomForestRegressor(max_depth=195, min_samples_split=12, n_estimators=1278,\n",
       "                      random_state=1509)"
      ]
     },
     "execution_count": 40,
     "metadata": {},
     "output_type": "execute_result"
    }
   ],
   "source": [
    "# Fit tuned model on training data without ZAF\n",
    "RF_out_tuned.fit(X_Africa_noEGY, Y_Africa_noEGY.values.ravel())"
   ]
  },
  {
   "cell_type": "code",
   "execution_count": 41,
   "id": "97b702c1-c347-4609-b972-3abe7fa83ba1",
   "metadata": {},
   "outputs": [
    {
     "data": {
      "text/plain": [
       "0.3425570448698736"
      ]
     },
     "execution_count": 41,
     "metadata": {},
     "output_type": "execute_result"
    }
   ],
   "source": [
    "# ZAF R-squared\n",
    "RF_out_tuned.score(X_EGY, Y_EGY)"
   ]
  },
  {
   "cell_type": "code",
   "execution_count": 42,
   "id": "45896bba-4635-4290-8558-00bfc0aef207",
   "metadata": {},
   "outputs": [
    {
     "name": "stdout",
     "output_type": "stream",
     "text": [
      "R-squared from each fold : [0.50547577 0.38975005 0.72135843 0.76685198 0.48261659]\n"
     ]
    }
   ],
   "source": [
    "# Cross-validated R-squared for EGY\n",
    "CV_scores_EGY = cross_val_score(RF_out_tuned, X_EGY, Y_EGY.values.ravel())\n",
    "print('R-squared from each fold :', CV_scores_EGY)"
   ]
  },
  {
   "cell_type": "code",
   "execution_count": 43,
   "id": "7fbf1515-3b67-4302-9007-fd7196df564e",
   "metadata": {},
   "outputs": [
    {
     "data": {
      "text/plain": [
       "0.5732105632835115"
      ]
     },
     "execution_count": 43,
     "metadata": {},
     "output_type": "execute_result"
    }
   ],
   "source": [
    "CV_scores_EGY.mean()"
   ]
  },
  {
   "cell_type": "markdown",
   "id": "27822dfa-21aa-40b4-9b9a-19c850242bfd",
   "metadata": {
    "tags": []
   },
   "source": [
    "#### Nigeria inflows"
   ]
  },
  {
   "cell_type": "code",
   "execution_count": 45,
   "id": "57b7c1ec-52b9-4afd-ac09-0f4da5b7c407",
   "metadata": {},
   "outputs": [],
   "source": [
    "# Import without NGA\n",
    "Africa_noNGA = feather.read_feather(results_dir + 'Africa_noNGA.feather')\n",
    "Africa_noNGA_smp = create_smp(Africa_noNGA, select_features)\n",
    "\n",
    "# Import NGA\n",
    "NGA = feather.read_feather(results_dir + 'NGA.feather')\n",
    "NGA_smp = create_smp(NGA, select_features)\n",
    "\n",
    "# Training and test sets for Africa with no NGA\n",
    "Y_Africa_noNGA = Africa_noNGA_smp[['ln.In_Tot_IFF_t']]\n",
    "X_Africa_noNGA = Africa_noNGA_smp[features]\n",
    "\n",
    "# Training and test sets for NGA\n",
    "Y_NGA = NGA_smp[['ln.In_Tot_IFF_t']]\n",
    "X_NGA = NGA_smp[features]"
   ]
  },
  {
   "cell_type": "code",
   "execution_count": 46,
   "id": "cfcb623e-beaa-4aa6-80c7-0610d01d47f6",
   "metadata": {},
   "outputs": [],
   "source": [
    "# The hyperparameters were found using a cross-validation randomized search strategy on the training sample X_train\n",
    "RF_out_tuned = RandomForestRegressor(random_state = 1509,\n",
    "                                     n_estimators = 1278,\n",
    "                                     max_depth = 195,\n",
    "                                     min_samples_split = 12,\n",
    "                                     min_samples_leaf = 1,\n",
    "                                     max_features = 'auto',\n",
    "                                     bootstrap = True)"
   ]
  },
  {
   "cell_type": "code",
   "execution_count": 47,
   "id": "63c1f1dc-0eaa-43d3-9925-80cbd9c4f880",
   "metadata": {},
   "outputs": [
    {
     "data": {
      "text/plain": [
       "RandomForestRegressor(max_depth=195, min_samples_split=12, n_estimators=1278,\n",
       "                      random_state=1509)"
      ]
     },
     "execution_count": 47,
     "metadata": {},
     "output_type": "execute_result"
    }
   ],
   "source": [
    "# Fit tuned model on training data without NGA\n",
    "RF_out_tuned.fit(X_Africa_noNGA, Y_Africa_noNGA.values.ravel())"
   ]
  },
  {
   "cell_type": "code",
   "execution_count": 48,
   "id": "10650259-656f-4e80-9529-d8e6d5aec023",
   "metadata": {},
   "outputs": [
    {
     "data": {
      "text/plain": [
       "0.2785436385753627"
      ]
     },
     "execution_count": 48,
     "metadata": {},
     "output_type": "execute_result"
    }
   ],
   "source": [
    "# NGA R-squared\n",
    "RF_out_tuned.score(X_NGA, Y_NGA)"
   ]
  },
  {
   "cell_type": "code",
   "execution_count": 49,
   "id": "6ef77ce3-759b-40e7-bbc3-5c2d4f68a9a5",
   "metadata": {},
   "outputs": [
    {
     "name": "stdout",
     "output_type": "stream",
     "text": [
      "R-squared from each fold : [0.32530725 0.18508736 0.47920391 0.10461769 0.02040674]\n"
     ]
    }
   ],
   "source": [
    "# Cross-validated R-squared for NGA\n",
    "CV_scores_NGA = cross_val_score(RF_out_tuned, X_NGA, Y_NGA.values.ravel())\n",
    "print('R-squared from each fold :', CV_scores_NGA)"
   ]
  },
  {
   "cell_type": "code",
   "execution_count": 50,
   "id": "37fcfab8-9c1c-4785-9f80-cb1f5fff5e02",
   "metadata": {},
   "outputs": [
    {
     "data": {
      "text/plain": [
       "0.2229245913162742"
      ]
     },
     "execution_count": 50,
     "metadata": {},
     "output_type": "execute_result"
    }
   ],
   "source": [
    "CV_scores_NGA.mean()"
   ]
  },
  {
   "cell_type": "markdown",
   "id": "83cc95b5-e344-4edf-beb8-2033902bdb4a",
   "metadata": {
    "tags": []
   },
   "source": [
    "#### Algeria inflows"
   ]
  },
  {
   "cell_type": "code",
   "execution_count": 51,
   "id": "a4e31c33-a8ad-4fc8-9862-94ac5bafe51a",
   "metadata": {},
   "outputs": [],
   "source": [
    "# Import without DZA\n",
    "Africa_noDZA = feather.read_feather(results_dir + 'Africa_noDZA.feather')\n",
    "Africa_noDZA_smp = create_smp(Africa_noDZA, select_features)\n",
    "\n",
    "# Import DZA\n",
    "DZA = feather.read_feather(results_dir + 'DZA.feather')\n",
    "DZA_smp = create_smp(DZA, select_features)\n",
    "\n",
    "# Training and test sets for Africa with no DZA\n",
    "Y_Africa_noDZA = Africa_noDZA_smp[['ln.In_Tot_IFF_t']]\n",
    "X_Africa_noDZA = Africa_noDZA_smp[features]\n",
    "\n",
    "# Training and test sets for DZA\n",
    "Y_DZA = DZA_smp[['ln.In_Tot_IFF_t']]\n",
    "X_DZA = DZA_smp[features]"
   ]
  },
  {
   "cell_type": "code",
   "execution_count": 52,
   "id": "7e00a01f-a381-477a-8515-9d385f793c1d",
   "metadata": {},
   "outputs": [],
   "source": [
    "# The hyperparameters were found using a cross-validation randomized search strategy on the training sample X_train\n",
    "RF_out_tuned = RandomForestRegressor(random_state = 1509,\n",
    "                                     n_estimators = 1278,\n",
    "                                     max_depth = 195,\n",
    "                                     min_samples_split = 12,\n",
    "                                     min_samples_leaf = 1,\n",
    "                                     max_features = 'auto',\n",
    "                                     bootstrap = True)"
   ]
  },
  {
   "cell_type": "code",
   "execution_count": 53,
   "id": "089abb47-918e-43fd-9a1b-69dc103981c5",
   "metadata": {},
   "outputs": [
    {
     "data": {
      "text/plain": [
       "RandomForestRegressor(max_depth=195, min_samples_split=12, n_estimators=1278,\n",
       "                      random_state=1509)"
      ]
     },
     "execution_count": 53,
     "metadata": {},
     "output_type": "execute_result"
    }
   ],
   "source": [
    "# Fit tuned model on training data without DZA\n",
    "RF_out_tuned.fit(X_Africa_noDZA, Y_Africa_noDZA.values.ravel())"
   ]
  },
  {
   "cell_type": "code",
   "execution_count": 54,
   "id": "60a726aa-751a-4822-a320-3f899481e476",
   "metadata": {},
   "outputs": [
    {
     "data": {
      "text/plain": [
       "0.34809948394153345"
      ]
     },
     "execution_count": 54,
     "metadata": {},
     "output_type": "execute_result"
    }
   ],
   "source": [
    "# DZA R-squared\n",
    "RF_out_tuned.score(X_DZA, Y_DZA)"
   ]
  },
  {
   "cell_type": "code",
   "execution_count": 55,
   "id": "0aea9893-b6c7-47e1-8795-9548bce863e0",
   "metadata": {},
   "outputs": [
    {
     "name": "stdout",
     "output_type": "stream",
     "text": [
      "R-squared from each fold : [0.57658982 0.62844979 0.52698586 0.24954457 0.39537351]\n"
     ]
    }
   ],
   "source": [
    "# Cross-validated R-squared for DZA\n",
    "CV_scores_DZA = cross_val_score(RF_out_tuned, X_DZA, Y_DZA.values.ravel())\n",
    "print('R-squared from each fold :', CV_scores_DZA)"
   ]
  },
  {
   "cell_type": "code",
   "execution_count": 56,
   "id": "198638c9-a327-41ce-a309-98c48ca5b1cc",
   "metadata": {},
   "outputs": [
    {
     "data": {
      "text/plain": [
       "0.47538870998516114"
      ]
     },
     "execution_count": 56,
     "metadata": {},
     "output_type": "execute_result"
    }
   ],
   "source": [
    "CV_scores_DZA.mean()"
   ]
  },
  {
   "cell_type": "markdown",
   "id": "3cc2dc86-d735-4a41-92f6-666354a869dd",
   "metadata": {
    "tags": []
   },
   "source": [
    "#### Angola outflows"
   ]
  },
  {
   "cell_type": "code",
   "execution_count": 60,
   "id": "a32c01c8-c748-4096-a626-18ff69fdb370",
   "metadata": {},
   "outputs": [],
   "source": [
    "# Import without AGO\n",
    "Africa_noAGO = feather.read_feather(results_dir + 'Africa_noAGO.feather')\n",
    "Africa_noAGO_smp = create_smp(Africa_noAGO, select_features)\n",
    "\n",
    "# Import AGO\n",
    "AGO = feather.read_feather(results_dir + 'AGO.feather')\n",
    "AGO_smp = create_smp(AGO, select_features)\n",
    "\n",
    "# Training and test sets for Africa with no AGO\n",
    "Y_Africa_noAGO = Africa_noAGO_smp[['ln.Tot_IFF_t']]\n",
    "X_Africa_noAGO = Africa_noAGO_smp[features]\n",
    "\n",
    "# Training and test sets for AGO\n",
    "Y_AGO = AGO_smp[['ln.Tot_IFF_t']]\n",
    "X_AGO = AGO_smp[features]"
   ]
  },
  {
   "cell_type": "code",
   "execution_count": 61,
   "id": "357d4c42-c89b-40dc-8d89-a39dd2218b23",
   "metadata": {},
   "outputs": [],
   "source": [
    "# The hyperparameters were found using a cross-validation randomized search strategy on the training sample X_train\n",
    "RF_out_tuned = RandomForestRegressor(random_state = 1509,\n",
    "                                     n_estimators = 1278,\n",
    "                                     max_depth = 195,\n",
    "                                     min_samples_split = 12,\n",
    "                                     min_samples_leaf = 1,\n",
    "                                     max_features = 'auto',\n",
    "                                     bootstrap = True)"
   ]
  },
  {
   "cell_type": "code",
   "execution_count": 62,
   "id": "948a0abd-8a56-4976-9a3a-25932d6e6c1d",
   "metadata": {},
   "outputs": [
    {
     "data": {
      "text/plain": [
       "RandomForestRegressor(max_depth=195, min_samples_split=12, n_estimators=1278,\n",
       "                      random_state=1509)"
      ]
     },
     "execution_count": 62,
     "metadata": {},
     "output_type": "execute_result"
    }
   ],
   "source": [
    "# Fit tuned model on training data without AGO\n",
    "RF_out_tuned.fit(X_Africa_noAGO, Y_Africa_noAGO.values.ravel())"
   ]
  },
  {
   "cell_type": "code",
   "execution_count": 63,
   "id": "8e846ad5-a650-4e4c-a12a-106965f8ce7d",
   "metadata": {},
   "outputs": [
    {
     "data": {
      "text/plain": [
       "-0.38009779591092774"
      ]
     },
     "execution_count": 63,
     "metadata": {},
     "output_type": "execute_result"
    }
   ],
   "source": [
    "# AGO R-squared\n",
    "RF_out_tuned.score(X_AGO, Y_AGO)"
   ]
  },
  {
   "cell_type": "code",
   "execution_count": 64,
   "id": "3e63309e-9dca-40b4-b670-f48ff0626479",
   "metadata": {},
   "outputs": [
    {
     "name": "stdout",
     "output_type": "stream",
     "text": [
      "R-squared from each fold : [-1.19720059 -0.42828461 -0.59817001 -0.54257651  0.16855888]\n"
     ]
    }
   ],
   "source": [
    "# Cross-validated R-squared for AGO\n",
    "CV_scores_AGO = cross_val_score(RF_out_tuned, X_AGO, Y_AGO.values.ravel())\n",
    "print('R-squared from each fold :', CV_scores_AGO)"
   ]
  },
  {
   "cell_type": "code",
   "execution_count": 65,
   "id": "a4907ba2-f66b-4786-aa4c-98fb1b84aad3",
   "metadata": {},
   "outputs": [
    {
     "data": {
      "text/plain": [
       "-0.5195345692400766"
      ]
     },
     "execution_count": 65,
     "metadata": {},
     "output_type": "execute_result"
    }
   ],
   "source": [
    "CV_scores_AGO.mean()"
   ]
  },
  {
   "cell_type": "markdown",
   "id": "77b75e8b-caf7-49d2-80be-6c3fa9837777",
   "metadata": {
    "tags": []
   },
   "source": [
    "#### Morocco inflows"
   ]
  },
  {
   "cell_type": "code",
   "execution_count": 67,
   "id": "d4287cda-7cf2-4206-a48c-dab7ba94f61b",
   "metadata": {},
   "outputs": [],
   "source": [
    "# Import without MAR\n",
    "Africa_noMAR = feather.read_feather(results_dir + 'Africa_noMAR.feather')\n",
    "Africa_noMAR_smp = create_smp(Africa_noMAR, select_features)\n",
    "\n",
    "# Import MAR\n",
    "MAR = feather.read_feather(results_dir + 'MAR.feather')\n",
    "MAR_smp = create_smp(MAR, select_features)\n",
    "\n",
    "# Training and test sets for Africa with no MAR\n",
    "Y_Africa_noMAR = Africa_noMAR_smp[['ln.In_Tot_IFF_t']]\n",
    "X_Africa_noMAR = Africa_noMAR_smp[features]\n",
    "\n",
    "# Training and test sets for MAR\n",
    "Y_MAR = MAR_smp[['ln.In_Tot_IFF_t']]\n",
    "X_MAR = MAR_smp[features]"
   ]
  },
  {
   "cell_type": "code",
   "execution_count": 68,
   "id": "4e724b70-4de6-4dd4-b201-35a512719ba5",
   "metadata": {},
   "outputs": [],
   "source": [
    "# The hyperparameters were found using a cross-validation randomized search strategy on the training sample X_train\n",
    "RF_out_tuned = RandomForestRegressor(random_state = 1509,\n",
    "                                     n_estimators = 1278,\n",
    "                                     max_depth = 195,\n",
    "                                     min_samples_split = 12,\n",
    "                                     min_samples_leaf = 1,\n",
    "                                     max_features = 'auto',\n",
    "                                     bootstrap = True)"
   ]
  },
  {
   "cell_type": "code",
   "execution_count": 69,
   "id": "cbc28e55-efcd-40ff-87c8-400358ec5074",
   "metadata": {},
   "outputs": [
    {
     "data": {
      "text/plain": [
       "RandomForestRegressor(max_depth=195, min_samples_split=12, n_estimators=1278,\n",
       "                      random_state=1509)"
      ]
     },
     "execution_count": 69,
     "metadata": {},
     "output_type": "execute_result"
    }
   ],
   "source": [
    "# Fit tuned model on training data without MAR\n",
    "RF_out_tuned.fit(X_Africa_noMAR, Y_Africa_noMAR.values.ravel())"
   ]
  },
  {
   "cell_type": "code",
   "execution_count": 54,
   "id": "20c4b11f-518d-4a37-9d68-377480875cb7",
   "metadata": {},
   "outputs": [
    {
     "data": {
      "text/plain": [
       "0.34809948394153345"
      ]
     },
     "execution_count": 54,
     "metadata": {},
     "output_type": "execute_result"
    }
   ],
   "source": [
    "# MAR R-squared\n",
    "RF_out_tuned.score(X_MAR, Y_MAR)"
   ]
  },
  {
   "cell_type": "code",
   "execution_count": 55,
   "id": "aa629c28-cd18-4f45-88a9-9af88ce1b9c1",
   "metadata": {},
   "outputs": [
    {
     "name": "stdout",
     "output_type": "stream",
     "text": [
      "R-squared from each fold : [0.57658982 0.62844979 0.52698586 0.24954457 0.39537351]\n"
     ]
    }
   ],
   "source": [
    "# Cross-validated R-squared for MAR\n",
    "CV_scores_MAR = cross_val_score(RF_out_tuned, X_MAR, Y_MAR.values.ravel())\n",
    "print('R-squared from each fold :', CV_scores_MAR)"
   ]
  },
  {
   "cell_type": "code",
   "execution_count": 56,
   "id": "5466a39c-1cda-48a7-91fe-fe2f09daaf9c",
   "metadata": {},
   "outputs": [
    {
     "data": {
      "text/plain": [
       "0.47538870998516114"
      ]
     },
     "execution_count": 56,
     "metadata": {},
     "output_type": "execute_result"
    }
   ],
   "source": [
    "CV_scores_MAR.mean()"
   ]
  }
 ],
 "metadata": {
  "kernelspec": {
   "display_name": "Python 3 (ipykernel)",
   "language": "python",
   "name": "python3"
  },
  "language_info": {
   "codemirror_mode": {
    "name": "ipython",
    "version": 3
   },
   "file_extension": ".py",
   "mimetype": "text/x-python",
   "name": "python",
   "nbconvert_exporter": "python",
   "pygments_lexer": "ipython3",
   "version": "3.9.6"
  }
 },
 "nbformat": 4,
 "nbformat_minor": 5
}
