{
 "cells": [
  {
   "cell_type": "markdown",
   "id": "0dcbfa94-b9c5-435b-9f89-6f5b4c43be46",
   "metadata": {
    "papermill": {
     "duration": 0.012854,
     "end_time": "2021-08-25T04:30:52.046180",
     "exception": false,
     "start_time": "2021-08-25T04:30:52.033326",
     "status": "completed"
    },
    "tags": []
   },
   "source": [
    "# Predictions"
   ]
  },
  {
   "cell_type": "markdown",
   "id": "99c44811-2186-4277-911a-ff940e34ff01",
   "metadata": {
    "papermill": {
     "duration": 0.012582,
     "end_time": "2021-08-25T04:30:52.072441",
     "exception": false,
     "start_time": "2021-08-25T04:30:52.059859",
     "status": "completed"
    },
    "tags": []
   },
   "source": [
    "## Data wrangling"
   ]
  },
  {
   "cell_type": "code",
   "execution_count": 2,
   "id": "d2f5d343-55f4-43d0-9b14-5d79fc7094ee",
   "metadata": {
    "papermill": {
     "duration": 1.90378,
     "end_time": "2021-08-25T04:30:53.987733",
     "exception": false,
     "start_time": "2021-08-25T04:30:52.083953",
     "status": "completed"
    },
    "tags": []
   },
   "outputs": [],
   "source": [
    "# Preamble\n",
    "import pandas as pd\n",
    "import numpy as np\n",
    "pd.set_option(\"mode.chained_assignment\", None)\n",
    "import random\n",
    "random.seed(1509)\n",
    "import matplotlib.pyplot as plt\n",
    "import lightgbm as lgb\n",
    "import pyarrow.feather as feather\n",
    "from os import chdir, getcwd\n",
    "import statsmodels.api as sm\n",
    "from pprint import pprint\n",
    "from nested_cv import NestedCV\n",
    "\n",
    "# sci-kit\n",
    "from sklearn.linear_model import LinearRegression\n",
    "from sklearn.neural_network import MLPRegressor\n",
    "from sklearn.ensemble import RandomForestRegressor\n",
    "from sklearn import svm\n",
    "from sklearn.preprocessing import StandardScaler\n",
    "from sklearn.model_selection import train_test_split, GridSearchCV, RandomizedSearchCV, cross_val_score, cross_val_predict\n",
    "from sklearn import metrics\n",
    "from sklearn.metrics import r2_score, mean_squared_error, explained_variance_score\n",
    "from sklearn import tree"
   ]
  },
  {
   "cell_type": "code",
   "execution_count": 3,
   "id": "6cbed92b-623c-4293-9927-1ae51e505de2",
   "metadata": {
    "papermill": {
     "duration": 0.019207,
     "end_time": "2021-08-25T04:30:54.023305",
     "exception": false,
     "start_time": "2021-08-25T04:30:54.004098",
     "status": "completed"
    },
    "tags": []
   },
   "outputs": [],
   "source": [
    "data_dir = '/home/jovyan/work/Data/'\n",
    "results_dir = '/home/jovyan/work/Results/'"
   ]
  },
  {
   "cell_type": "code",
   "execution_count": 4,
   "id": "aa5789cf-f1d7-4d3d-a2a3-6568a164c189",
   "metadata": {},
   "outputs": [],
   "source": [
    "# select_features = ['reporter.ISO', 'partner.ISO', 'year',\n",
    "#                    'ln.Tot_IFF_t', 'ln.In_Tot_IFF_t',\n",
    "#                    'ln.gdp_o', 'ln.gdp_d', 'ln.pop_o', 'ln.pop_d', \n",
    "#                    'dist', 'contig', \n",
    "#                    'comlang', 'comcol', 'col45', \n",
    "#                    'ihs.entry_cost_o', 'ihs.entry_cost_d', 'rta',\n",
    "#                    'rCorrCont', 'pCorrCont',\n",
    "#                    'rRegQual', 'pRegQual', \n",
    "#                    'rRuleLaw', 'pRuleLaw',\n",
    "#                    'rSecrecyScore', 'pSecrecyScore',\n",
    "#                    'rFSI.rank', 'pFSI.rank',\n",
    "#                    'rKFSI13', 'pKFSI13',\n",
    "#                    'rKFSI17', 'pKFSI17',\n",
    "#                    'rKFSI20', 'pKFSI20',\n",
    "#                    'rFATF', 'pFATF',\n",
    "#                    'ihs.tariff',\n",
    "#                    'kai_o', 'kai_d', 'kao_o', 'kao_d',\n",
    "#                    'cc_o', 'cc_d', 'cci_o', 'cci_d', 'cco_o', 'cco_d',\n",
    "#                    'di_o', 'di_d', 'dii_o', 'dii_d', 'dio_o', 'dio_d']\n",
    "select_features = ['reporter.ISO', 'partner.ISO', 'year',\n",
    "                   'ln.Tot_IFF_t', 'ln.In_Tot_IFF_t',\n",
    "                   'ln.gdp_o', 'ln.gdp_d', 'ln.pop_o', 'ln.pop_d', \n",
    "                   'dist', 'contig', \n",
    "                   'comlang', 'comcol', 'col45', \n",
    "                   'ihs.entry_cost_o', 'ihs.entry_cost_d', 'rta',\n",
    "                   'rCorrCont', 'pCorrCont',\n",
    "                   'rRegQual', 'pRegQual', \n",
    "                   'rRuleLaw', 'pRuleLaw',\n",
    "                   'pSecrecyScore',\n",
    "                   'pFSI.rank',\n",
    "                   'pKFSI13',\n",
    "                   'pKFSI17',\n",
    "                   'pKFSI20',\n",
    "                   'rFATF', 'pFATF',\n",
    "                   'ihs.tariff',\n",
    "                   'kai_o', 'kai_d', 'kao_o', 'kao_d',\n",
    "                   'cc_o', 'cc_d', 'cci_o', 'cci_d', 'cco_o', 'cco_d',\n",
    "                   'di_o', 'di_d', 'dii_o', 'dii_d', 'dio_o', 'dio_d']\n",
    "\n",
    "features = [       'ln.gdp_o', 'ln.gdp_d', 'ln.pop_o', 'ln.pop_d', \n",
    "                   'dist', 'contig', \n",
    "                   'comlang', 'comcol', 'col45', \n",
    "                   'ihs.entry_cost_o', 'ihs.entry_cost_d', 'rta',\n",
    "                   'rCorrCont', 'pCorrCont',\n",
    "                   'rRegQual', 'pRegQual', \n",
    "                   'rRuleLaw', 'pRuleLaw',\n",
    "                   'pSecrecyScore',\n",
    "                   'pFSI.rank',\n",
    "                   'pKFSI13',\n",
    "                   'pKFSI17',\n",
    "                   'pKFSI20',\n",
    "                   'rFATF', 'pFATF',\n",
    "                   'ihs.tariff',\n",
    "                   'kai_o', 'kai_d', 'kao_o', 'kao_d',\n",
    "                   'cc_o', 'cc_d', 'cci_o', 'cci_d', 'cco_o', 'cco_d',\n",
    "                   'di_o', 'di_d', 'dii_o', 'dii_d', 'dio_o', 'dio_d']\n",
    "\n",
    "ids = [       'reporter.ISO', 'partner.ISO', 'year']"
   ]
  },
  {
   "cell_type": "markdown",
   "id": "a6cbf9da-0af7-4d89-9227-d63c9f5e9b04",
   "metadata": {
    "papermill": {
     "duration": 0.011902,
     "end_time": "2021-08-25T04:30:54.080630",
     "exception": false,
     "start_time": "2021-08-25T04:30:54.068728",
     "status": "completed"
    },
    "tags": []
   },
   "source": [
    "## Subset sample"
   ]
  },
  {
   "cell_type": "code",
   "execution_count": 5,
   "id": "1fde298e-5a63-4156-ab1b-60d602b5ceac",
   "metadata": {},
   "outputs": [],
   "source": [
    "data = feather.read_feather(results_dir + 'Africa_agg.feather')"
   ]
  },
  {
   "cell_type": "code",
   "execution_count": 6,
   "id": "d0c5dcdb-b4bd-41ad-866f-d7c825166f23",
   "metadata": {},
   "outputs": [],
   "source": [
    "def create_smp(data, features):\n",
    "    \"\"\"\n",
    "    Create train and test samples that are complete.\n",
    "    \"\"\"\n",
    "    smp = data[features]\n",
    "    smp.dropna(axis=0, how='any', inplace=True)\n",
    "    return smp"
   ]
  },
  {
   "cell_type": "code",
   "execution_count": 7,
   "id": "b51ac6c8-48d2-4ce6-ae58-53f8c8112d82",
   "metadata": {},
   "outputs": [],
   "source": [
    "data_smp = create_smp(data, select_features)"
   ]
  },
  {
   "cell_type": "code",
   "execution_count": 8,
   "id": "162d5e90-06b2-418b-8e9c-143989679f34",
   "metadata": {},
   "outputs": [],
   "source": [
    "idx = data_smp[ids]\n",
    "X = data_smp[features]\n",
    "Y_out = data_smp[['ln.Tot_IFF_t']]\n",
    "Y_in = data_smp[['ln.In_Tot_IFF_t']]"
   ]
  },
  {
   "cell_type": "code",
   "execution_count": 51,
   "id": "93054b4b-2432-4ebd-844f-6461091406f6",
   "metadata": {},
   "outputs": [],
   "source": [
    "feather.write_feather(idx, results_dir + 'idx.feather')\n",
    "feather.write_feather(X, results_dir + 'X.feather')\n",
    "feather.write_feather(Y_out, results_dir + 'Y_out.feather')\n",
    "feather.write_feather(Y_in, results_dir + 'Y_in.feather')"
   ]
  },
  {
   "cell_type": "code",
   "execution_count": 50,
   "id": "9d6b722e-b6a0-4b4d-a289-d3d20fe65e27",
   "metadata": {},
   "outputs": [
    {
     "name": "stdout",
     "output_type": "stream",
     "text": [
      "X:  (5333, 42)\n",
      "Y_out:  (5333, 1)\n",
      "idx:  (4256, 3)\n"
     ]
    }
   ],
   "source": [
    "print('X: ', X.shape)\n",
    "print('Y_out: ', Y_out.shape)\n",
    "print('idx: ', idx.shape)"
   ]
  },
  {
   "cell_type": "code",
   "execution_count": 381,
   "id": "99d6a299-7388-42c0-910a-516dc8181b49",
   "metadata": {},
   "outputs": [
    {
     "data": {
      "text/plain": [
       "(5333, 1)"
      ]
     },
     "execution_count": 381,
     "metadata": {},
     "output_type": "execute_result"
    }
   ],
   "source": [
    "Y_out.shape"
   ]
  },
  {
   "cell_type": "code",
   "execution_count": 382,
   "id": "51df4d3a-e3f8-42e2-be0b-4b7b4b613429",
   "metadata": {},
   "outputs": [
    {
     "data": {
      "text/plain": [
       "(5333, 1)"
      ]
     },
     "execution_count": 382,
     "metadata": {},
     "output_type": "execute_result"
    }
   ],
   "source": [
    "Y_in.shape"
   ]
  },
  {
   "cell_type": "markdown",
   "id": "bde62c3a-2860-47ad-a22e-60356599132c",
   "metadata": {},
   "source": [
    "### Train/test split"
   ]
  },
  {
   "cell_type": "code",
   "execution_count": 11,
   "id": "48ba7583-b54c-4be2-aa51-9d557a92362c",
   "metadata": {},
   "outputs": [],
   "source": [
    "train_agg = feather.read_feather(results_dir + 'train_agg.feather')\n",
    "test_agg = feather.read_feather(results_dir + 'test_agg.feather')"
   ]
  },
  {
   "cell_type": "code",
   "execution_count": 12,
   "id": "26357f19-1800-4c07-a313-05e753130740",
   "metadata": {},
   "outputs": [],
   "source": [
    "train_agg_smp = create_smp(train_agg, select_features)\n",
    "test_agg_smp = create_smp(test_agg, select_features)"
   ]
  },
  {
   "cell_type": "code",
   "execution_count": 13,
   "id": "f5eb095d-a8da-414e-80fa-84e5c43f2e09",
   "metadata": {},
   "outputs": [],
   "source": [
    "feather.write_feather(train_agg_smp, results_dir + 'train_agg_smp.feather')\n",
    "feather.write_feather(test_agg_smp, results_dir + 'test_agg_smp.feather')"
   ]
  },
  {
   "cell_type": "code",
   "execution_count": 14,
   "id": "ad700cd4-4ad0-4f2e-b2cc-85cc1fe6da19",
   "metadata": {},
   "outputs": [],
   "source": [
    "Y_train_out = train_agg_smp[['ln.Tot_IFF_t']]\n",
    "Y_train_in = train_agg_smp[['ln.In_Tot_IFF_t']]\n",
    "X_train = train_agg_smp[features]\n",
    "Y_test_out = test_agg_smp[['ln.Tot_IFF_t']]\n",
    "Y_test_in = test_agg_smp[['ln.In_Tot_IFF_t']]\n",
    "X_test = test_agg_smp[features]"
   ]
  },
  {
   "cell_type": "code",
   "execution_count": 48,
   "id": "579a3df2-79f8-457a-8397-9723f8ee8909",
   "metadata": {},
   "outputs": [],
   "source": [
    "feather.write_feather(X_train, results_dir + 'X_train.feather')\n",
    "feather.write_feather(Y_train_out, results_dir + 'Y_train_out.feather')"
   ]
  },
  {
   "cell_type": "code",
   "execution_count": 15,
   "id": "d3ce18a5-c88a-47e6-9a13-31e79574129a",
   "metadata": {},
   "outputs": [
    {
     "name": "stdout",
     "output_type": "stream",
     "text": [
      "X_train:  (4256, 42) \n",
      "X_test:  (1077, 42)\n"
     ]
    }
   ],
   "source": [
    "print('X_train: ', X_train.shape, '\\nX_test: ',  X_test.shape)"
   ]
  },
  {
   "cell_type": "code",
   "execution_count": 49,
   "id": "e2c9e446-76af-425a-8245-d6dce08fb78c",
   "metadata": {},
   "outputs": [],
   "source": [
    "idx = train_agg_smp[ids]"
   ]
  },
  {
   "cell_type": "markdown",
   "id": "51afba86-15dc-4121-b287-b2858a51389b",
   "metadata": {
    "papermill": {
     "duration": 0.011466,
     "end_time": "2021-08-25T04:30:54.492337",
     "exception": false,
     "start_time": "2021-08-25T04:30:54.480871",
     "status": "completed"
    },
    "tags": []
   },
   "source": [
    "## Linear regression"
   ]
  },
  {
   "cell_type": "markdown",
   "id": "4eb1b8a3-f0ba-471c-b84c-59989f9229fa",
   "metadata": {},
   "source": [
    "### Fit linear regression model"
   ]
  },
  {
   "cell_type": "code",
   "execution_count": 39,
   "id": "139e74e4-3543-459d-9488-33a700c40a2b",
   "metadata": {
    "papermill": {
     "duration": 0.037,
     "end_time": "2021-08-25T04:30:54.540674",
     "exception": false,
     "start_time": "2021-08-25T04:30:54.503674",
     "status": "completed"
    },
    "tags": []
   },
   "outputs": [
    {
     "data": {
      "text/plain": [
       "LinearRegression()"
      ]
     },
     "execution_count": 39,
     "metadata": {},
     "output_type": "execute_result"
    }
   ],
   "source": [
    "linear_mod_out = LinearRegression()  \n",
    "linear_mod_out.fit(X.values, Y_out.values)"
   ]
  },
  {
   "cell_type": "code",
   "execution_count": null,
   "id": "63f20a44-a031-4061-951d-567235db6d1f",
   "metadata": {},
   "outputs": [],
   "source": [
    "linear_mod_in = LinearRegression()  \n",
    "linear_mod_in.fit(X_train.values, Y_train_in.values)"
   ]
  },
  {
   "cell_type": "markdown",
   "id": "9be92a19-73e3-46f6-9807-862cbf86821e",
   "metadata": {},
   "source": [
    "### Print coefficients"
   ]
  },
  {
   "cell_type": "code",
   "execution_count": null,
   "id": "ebd838fc-d161-42c6-bcb2-34265c0044a9",
   "metadata": {
    "papermill": {
     "duration": 0.034715,
     "end_time": "2021-08-25T04:30:54.596530",
     "exception": false,
     "start_time": "2021-08-25T04:30:54.561815",
     "status": "completed"
    },
    "tags": []
   },
   "outputs": [],
   "source": [
    "print(linear_mod_out.intercept_)\n",
    "print(linear_mod_out.coef_)"
   ]
  },
  {
   "cell_type": "code",
   "execution_count": null,
   "id": "51bfb9c6-856f-4c92-85f4-46bb055e788f",
   "metadata": {
    "papermill": {
     "duration": 0.034715,
     "end_time": "2021-08-25T04:30:54.596530",
     "exception": false,
     "start_time": "2021-08-25T04:30:54.561815",
     "status": "completed"
    },
    "tags": []
   },
   "outputs": [],
   "source": [
    "print(linear_mod_in.intercept_)\n",
    "print(linear_mod_in.coef_)"
   ]
  },
  {
   "cell_type": "code",
   "execution_count": null,
   "id": "3238d645-0834-4f5f-a4e9-ec27d7ac58b3",
   "metadata": {
    "papermill": {
     "duration": 0.289043,
     "end_time": "2021-08-25T04:30:54.907396",
     "exception": false,
     "start_time": "2021-08-25T04:30:54.618353",
     "status": "completed"
    },
    "tags": []
   },
   "outputs": [],
   "source": [
    "# Xconst = sm.add_constant(X_train)\n",
    "# est = sm.OLS(Y_train_out, Xconst)\n",
    "# est2 = est.fit()\n",
    "# print(est2.summary())"
   ]
  },
  {
   "cell_type": "code",
   "execution_count": null,
   "id": "548c5979-cb95-4010-97cc-b1352007b938",
   "metadata": {},
   "outputs": [],
   "source": [
    "# Xconst = sm.add_constant(X_train)\n",
    "# est = sm.OLS(Y_train_in, Xconst)\n",
    "# est2 = est.fit()\n",
    "# print(est2.summary())"
   ]
  },
  {
   "cell_type": "markdown",
   "id": "98c093da-59af-4ba3-9410-1a4010a4e64b",
   "metadata": {},
   "source": [
    "### Predictions"
   ]
  },
  {
   "cell_type": "code",
   "execution_count": null,
   "id": "7e6e9b13-5423-42ee-93b4-a26df5e213d9",
   "metadata": {
    "papermill": {
     "duration": 0.035714,
     "end_time": "2021-08-25T04:30:54.966104",
     "exception": false,
     "start_time": "2021-08-25T04:30:54.930390",
     "status": "completed"
    },
    "tags": []
   },
   "outputs": [],
   "source": [
    "preds_LM_train_out = linear_mod_out.predict(X_train)\n",
    "preds_LM_test_out = linear_mod_out.predict(X_test)"
   ]
  },
  {
   "cell_type": "code",
   "execution_count": null,
   "id": "7ebbd45f-3469-4e54-829a-2e0242cf6d1c",
   "metadata": {
    "papermill": {
     "duration": 0.035714,
     "end_time": "2021-08-25T04:30:54.966104",
     "exception": false,
     "start_time": "2021-08-25T04:30:54.930390",
     "status": "completed"
    },
    "tags": []
   },
   "outputs": [],
   "source": [
    "preds_LM_train_in = linear_mod_in.predict(X_train)\n",
    "preds_LM_test_in = linear_mod_in.predict(X_test)"
   ]
  },
  {
   "cell_type": "code",
   "execution_count": null,
   "id": "20c84e50-70f4-4f78-b046-89abca108c02",
   "metadata": {},
   "outputs": [],
   "source": [
    "feather.write_feather(pd.DataFrame(preds_LM_train_out), results_dir + 'preds.LM.train_out_agg.feather')\n",
    "feather.write_feather(pd.DataFrame(preds_LM_test_out), results_dir + 'preds.LM.test_out_agg.feather')"
   ]
  },
  {
   "cell_type": "code",
   "execution_count": null,
   "id": "b8534754-dac6-42c5-af67-351df8ce9bb7",
   "metadata": {},
   "outputs": [],
   "source": [
    "feather.write_feather(pd.DataFrame(preds_LM_train_in), results_dir + 'preds.LM.train_in_agg.feather')\n",
    "feather.write_feather(pd.DataFrame(preds_LM_test_in), results_dir + 'preds.LM.test_in_agg.feather')"
   ]
  },
  {
   "cell_type": "markdown",
   "id": "db258e7b-c5ab-4de3-a250-85978442863f",
   "metadata": {},
   "source": [
    "### Predictive accuracy"
   ]
  },
  {
   "cell_type": "code",
   "execution_count": null,
   "id": "a6e4edc9-1ecf-4572-8e1b-1c0208729f1a",
   "metadata": {
    "papermill": {
     "duration": 0.295035,
     "end_time": "2021-08-25T04:30:57.344235",
     "exception": false,
     "start_time": "2021-08-25T04:30:57.049200",
     "status": "completed"
    },
    "tags": []
   },
   "outputs": [],
   "source": [
    "print(\"RMSE of the training set (outflows):\", np.sqrt(mean_squared_error(Y_train_out, preds_LM_train_out)))\n",
    "print(\"R^2 of the training set (outflows):\", r2_score(Y_train_out, preds_LM_train_out))\n",
    "print(\"RMSE of the test set (outflows):\", np.sqrt(mean_squared_error(Y_test_out, preds_LM_test_out)))\n",
    "print(\"R^2 of the test set (outflows):\", r2_score(Y_test_out, preds_LM_test_out))"
   ]
  },
  {
   "cell_type": "code",
   "execution_count": null,
   "id": "33ded127-d107-4d35-84b4-4efcd318249f",
   "metadata": {
    "papermill": {
     "duration": 0.295035,
     "end_time": "2021-08-25T04:30:57.344235",
     "exception": false,
     "start_time": "2021-08-25T04:30:57.049200",
     "status": "completed"
    },
    "tags": []
   },
   "outputs": [],
   "source": [
    "print(\"RMSE of the training set (inflows):\", np.sqrt(mean_squared_error(Y_train_in, preds_LM_train_in)))\n",
    "print(\"R^2 of the training set (inflows):\", r2_score(Y_train_in, preds_LM_train_in))\n",
    "print(\"RMSE of the test set (inflows):\", np.sqrt(mean_squared_error(Y_test_in, preds_LM_test_in)))\n",
    "print(\"R^2 of the test set (inflows):\", r2_score(Y_test_in, preds_LM_test_in))"
   ]
  },
  {
   "cell_type": "code",
   "execution_count": null,
   "id": "522f38b2",
   "metadata": {
    "scrolled": true
   },
   "outputs": [],
   "source": [
    "print('Mean Absolute Error (outflows):', metrics.mean_absolute_error(Y_test_out, preds_LM_test_out))  \n",
    "print('Mean Squared Error of the training set (outflows):', mean_squared_error(Y_train_out, preds_LM_train_out))\n",
    "print('Mean Squared Error of the test set (outflows):', mean_squared_error(Y_test_out, preds_LM_test_out))\n",
    "print('Dollar RMSE of the training set (outflows):', np.mean(np.square((np.exp(Y_train_out.values)*10**3 - np.exp(preds_LM_train_out)*10**3))) / 10**9)\n",
    "print('Dollar RMSE of the test set (outflows):', np.mean(np.square((np.exp(Y_test_out.values)*10**3 - np.exp(preds_LM_test_out)*10**3))) / 10**6)"
   ]
  },
  {
   "cell_type": "code",
   "execution_count": null,
   "id": "6fd4b8c0-8d5f-49c9-a511-a70be10269b2",
   "metadata": {
    "papermill": {
     "duration": 0.040683,
     "end_time": "2021-08-25T04:30:55.028165",
     "exception": false,
     "start_time": "2021-08-25T04:30:54.987482",
     "status": "completed"
    },
    "scrolled": true,
    "tags": []
   },
   "outputs": [],
   "source": [
    "print('Mean Absolute Error (inflows):', metrics.mean_absolute_error(Y_test_in, preds_LM_test_in))\n",
    "print('Mean Squared Error of the training set (inflows):', mean_squared_error(Y_train_in, preds_LM_train_in))\n",
    "print('Mean Squared Error of the test set (inflows):', mean_squared_error(Y_test_in, preds_LM_test_in))\n",
    "print('Dollar RMSE of the test set (inflows):', np.mean(np.square((np.exp(Y_train_in.values)*10**3 - np.exp(preds_LM_train_in)*10**3))) / 10**9)\n",
    "print('Dollar RMSE of the test set (inflows):', np.mean(np.square((np.exp(Y_test_in.values)*10**3 - np.exp(preds_LM_test_in)*10**3))) / 10**9)"
   ]
  },
  {
   "cell_type": "markdown",
   "id": "a983d1d2-8400-45bc-8583-37d2d1d307c3",
   "metadata": {},
   "source": [
    "### Cross-validation"
   ]
  },
  {
   "cell_type": "code",
   "execution_count": null,
   "id": "a47e7909-b39e-4cee-a69d-d17da20bd061",
   "metadata": {},
   "outputs": [],
   "source": [
    "linear_mod_out = LinearRegression()  \n",
    "linear_mod_out.fit(X.values, Y_out.values)"
   ]
  },
  {
   "cell_type": "code",
   "execution_count": 45,
   "id": "76505e33-b321-4a34-83b9-90b11c54f109",
   "metadata": {},
   "outputs": [
    {
     "name": "stdout",
     "output_type": "stream",
     "text": [
      "Cross-validated scores: [ 0.45186556  0.4127257   0.52329192  0.55024428  0.51445511  0.51008895\n",
      "  0.41924502  0.50052528  0.48595955 -0.0046091 ]\n"
     ]
    }
   ],
   "source": [
    "scores = cross_val_score(linear_mod_out, X, Y_out.values.ravel(), cv = 10)\n",
    "print('Cross-validated scores:', scores)"
   ]
  },
  {
   "cell_type": "code",
   "execution_count": 46,
   "id": "e197eb4c-914c-476e-8472-24614a648f51",
   "metadata": {},
   "outputs": [
    {
     "data": {
      "text/plain": [
       "0.43637922845408933"
      ]
     },
     "execution_count": 46,
     "metadata": {},
     "output_type": "execute_result"
    }
   ],
   "source": [
    "scores.mean()"
   ]
  },
  {
   "cell_type": "code",
   "execution_count": null,
   "id": "98c4a2b3-c4d7-4c30-af9e-8f3240712fe1",
   "metadata": {},
   "outputs": [],
   "source": [
    "predictions = cross_val_predict(linear_mod_out, X, Y_out.values.ravel(), cv = 6)\n",
    "r2_score(Y_out, predictions)"
   ]
  },
  {
   "cell_type": "code",
   "execution_count": null,
   "id": "b8c9f50e-ab62-4f5b-b375-dd65e7d8b3f5",
   "metadata": {},
   "outputs": [],
   "source": [
    "feather.write_feather(pd.DataFrame(predictions), results_dir + 'preds.LM.CV_out.feather')"
   ]
  },
  {
   "cell_type": "markdown",
   "id": "50f9b539-e070-4e6f-8941-68faf427afe2",
   "metadata": {},
   "source": [
    "## Random Forests"
   ]
  },
  {
   "cell_type": "markdown",
   "id": "fd4e11ca-bfbd-47a9-8c85-3e8236bdcd42",
   "metadata": {},
   "source": [
    "### Fit baseline random forests regression"
   ]
  },
  {
   "cell_type": "code",
   "execution_count": 10,
   "id": "5556592f-f801-45bb-bb1c-67d9f1710024",
   "metadata": {},
   "outputs": [],
   "source": [
    "RF_0_mod_out = RandomForestRegressor(random_state = 1509)\n",
    "RF_0_mod_out.fit(X, Y_out.values.ravel())"
   ]
  },
  {
   "cell_type": "code",
   "execution_count": 11,
   "id": "3a062aa8-f872-448e-a05e-1e42b88bad23",
   "metadata": {},
   "outputs": [],
   "source": [
    "RF_0_mod_in = RandomForestRegressor(random_state = 1509)\n",
    "RF_0_mod_in.fit(X, Y_in.values.ravel())"
   ]
  },
  {
   "cell_type": "markdown",
   "id": "c3e699c3-a01d-452c-886b-74fd31084b5b",
   "metadata": {},
   "source": [
    "### Tune hyperparameters with randomized search"
   ]
  },
  {
   "cell_type": "code",
   "execution_count": 17,
   "id": "75fd3b0f-71a0-4e56-9459-5c4a5fa0a00b",
   "metadata": {
    "tags": []
   },
   "outputs": [
    {
     "name": "stdout",
     "output_type": "stream",
     "text": [
      "{'n_estimators': [10, 40, 70, 100, 130, 161, 191, 221, 251, 281, 312, 342, 372, 402, 432, 463, 493, 523, 553, 583, 614, 644, 674, 704, 734, 765, 795, 825, 855, 885, 916, 946, 976, 1006, 1036, 1067, 1097, 1127, 1157, 1187, 1218, 1248, 1278, 1308, 1338, 1369, 1399, 1429, 1459, 1489, 1520, 1550, 1580, 1610, 1640, 1671, 1701, 1731, 1761, 1791, 1822, 1852, 1882, 1912, 1942, 1973, 2003, 2033, 2063, 2093, 2124, 2154, 2184, 2214, 2244, 2275, 2305, 2335, 2365, 2395, 2426, 2456, 2486, 2516, 2546, 2577, 2607, 2637, 2667, 2697, 2728, 2758, 2788, 2818, 2848, 2879, 2909, 2939, 2969, 3000], 'max_depth': [5, 10, 15, 20, 25, 30, 35, 40, 45, 50, 55, 60, 65, 70, 75, 80, 85, 90, 95, 100, 105, 110, 115, 120, 125, 130, 135, 140, 145, 150, 155, 160, 165, 170, 175, 180, 185, 190, 195, 200, 205, 210, 215, 220, 225, 230, 235, 240, 245, 250, 255, 260, 265, 270, 275, 280, 285, 290, 295, 300, 305, 310, 315, 320, 325, 330, 335, 340, 345, 350, 355, 360, 365, 370, 375, 380, 385, 390, 395, 400, 405, 410, 415, 420, 425, 430, 435, 440, 445, 450, 455, 460, 465, 470, 475, 480, 485, 490, 495, 500, None], 'min_samples_split': [2, 7, 12, 18, 23, 28, 34, 39, 44, 50], 'min_samples_leaf': [1, 12, 23, 34, 45, 56, 67, 78, 89, 100], 'max_features': ['auto', 'sqrt'], 'bootstrap': [True, False]}\n"
     ]
    }
   ],
   "source": [
    "# Number of trees in random forest\n",
    "n_estimators = [int(x) for x in np.linspace(start = 10, stop = 3000, num = 100)]\n",
    "\n",
    "# Maximum number of levels in tree\n",
    "max_depth = [int(x) for x in np.linspace(5, 500, num = 100)]\n",
    "max_depth.append(None)\n",
    "\n",
    "# Minimum number of samples required to split a node\n",
    "min_samples_split = [int(x) for x in np.linspace(2, 50, num = 10)]\n",
    "\n",
    "# Minimum number of samples required at each leaf node\n",
    "min_samples_leaf = [int(x) for x in np.linspace(1, 100, num = 10)]\n",
    "\n",
    "# Number of features to consider at every split\n",
    "max_features = ['auto', 'sqrt']\n",
    "\n",
    "# Method of selecting samples for training each tree\n",
    "bootstrap = [True, False]\n",
    "\n",
    "# Create the random grid\n",
    "random_grid = {'n_estimators': n_estimators,\n",
    "               'max_depth': max_depth,\n",
    "               'min_samples_split': min_samples_split,\n",
    "               'min_samples_leaf': min_samples_leaf,\n",
    "               'max_features': max_features,\n",
    "               'bootstrap': bootstrap}\n",
    "print(random_grid)"
   ]
  },
  {
   "cell_type": "code",
   "execution_count": 20,
   "id": "72dd44d9-cb2b-4fa9-9435-55f9acfdea45",
   "metadata": {},
   "outputs": [],
   "source": [
    "# Create the base model to tune\n",
    "RF_0_mod_out = RandomForestRegressor(random_state = 1509)\n",
    "\n",
    "# Random search of parameters on base model using 3 fold cross validation \n",
    "# Search across 100 different combinations, and use all available cores\n",
    "RF_random_out = RandomizedSearchCV(random_state = 1509,\n",
    "                                   estimator = RF_0_mod_out, \n",
    "                                   param_distributions = random_grid,\n",
    "                                   scoring = 'r2',\n",
    "                                   n_iter = 100,\n",
    "                                   verbose = 3, n_jobs = -1)"
   ]
  },
  {
   "cell_type": "code",
   "execution_count": null,
   "id": "97404f67-5f9c-4de9-95d6-9b81fe45ec33",
   "metadata": {},
   "outputs": [],
   "source": [
    "# Fit the random search model\n",
    "RF_random_out.fit(X, Y_out.values.ravel())"
   ]
  },
  {
   "cell_type": "code",
   "execution_count": 21,
   "id": "4a221472-535b-4914-a2c3-f90f65cedce3",
   "metadata": {},
   "outputs": [
    {
     "name": "stdout",
     "output_type": "stream",
     "text": [
      "Fitting 5 folds for each of 100 candidates, totalling 500 fits\n",
      "[CV 2/5] END bootstrap=True, max_depth=475, max_features=sqrt, min_samples_leaf=45, min_samples_split=12, n_estimators=372;, score=0.530 total time=   2.1s\n",
      "[CV 3/5] END bootstrap=True, max_depth=475, max_features=sqrt, min_samples_leaf=45, min_samples_split=12, n_estimators=372;, score=0.515 total time=   2.0s\n",
      "[CV 5/5] END bootstrap=True, max_depth=475, max_features=sqrt, min_samples_leaf=45, min_samples_split=12, n_estimators=372;, score=0.523 total time=   2.0s\n",
      "[CV 2/5] END bootstrap=True, max_depth=195, max_features=auto, min_samples_leaf=1, min_samples_split=12, n_estimators=1278;, score=0.678 total time=  56.0s\n",
      "[CV 4/5] END bootstrap=True, max_depth=195, max_features=auto, min_samples_leaf=1, min_samples_split=12, n_estimators=1278;, score=0.689 total time=  57.5s\n",
      "[CV 1/5] END bootstrap=False, max_depth=430, max_features=auto, min_samples_leaf=78, min_samples_split=2, n_estimators=2093;, score=0.460 total time= 1.2min\n",
      "[CV 3/5] END bootstrap=False, max_depth=430, max_features=auto, min_samples_leaf=78, min_samples_split=2, n_estimators=2093;, score=0.514 total time= 1.1min\n",
      "[CV 5/5] END bootstrap=False, max_depth=430, max_features=auto, min_samples_leaf=78, min_samples_split=2, n_estimators=2093;, score=0.508 total time= 1.1min\n",
      "[CV 3/5] END bootstrap=False, max_depth=30, max_features=sqrt, min_samples_leaf=23, min_samples_split=2, n_estimators=614;, score=0.605 total time=   5.1s\n",
      "[CV 5/5] END bootstrap=False, max_depth=30, max_features=sqrt, min_samples_leaf=23, min_samples_split=2, n_estimators=614;, score=0.613 total time=   5.1s\n",
      "[CV 2/5] END bootstrap=False, max_depth=290, max_features=sqrt, min_samples_leaf=78, min_samples_split=50, n_estimators=2728;, score=0.524 total time=  17.3s\n",
      "[CV 4/5] END bootstrap=False, max_depth=290, max_features=sqrt, min_samples_leaf=78, min_samples_split=50, n_estimators=2728;, score=0.536 total time=  17.2s\n",
      "[CV 1/5] END bootstrap=True, max_depth=485, max_features=auto, min_samples_leaf=56, min_samples_split=28, n_estimators=2969;, score=0.535 total time= 1.1min\n",
      "[CV 3/5] END bootstrap=True, max_depth=485, max_features=auto, min_samples_leaf=56, min_samples_split=28, n_estimators=2969;, score=0.545 total time= 1.1min\n",
      "[CV 5/5] END bootstrap=True, max_depth=485, max_features=auto, min_samples_leaf=56, min_samples_split=28, n_estimators=2969;, score=0.561 total time= 1.1min\n",
      "[CV 2/5] END bootstrap=True, max_depth=225, max_features=auto, min_samples_leaf=12, min_samples_split=44, n_estimators=1852;, score=0.643 total time=  54.6s\n",
      "[CV 4/5] END bootstrap=True, max_depth=225, max_features=auto, min_samples_leaf=12, min_samples_split=44, n_estimators=1852;, score=0.655 total time=  55.6s\n",
      "[CV 1/5] END bootstrap=True, max_depth=185, max_features=sqrt, min_samples_leaf=1, min_samples_split=18, n_estimators=2667;, score=0.640 total time=  21.8s\n",
      "[CV 3/5] END bootstrap=True, max_depth=185, max_features=sqrt, min_samples_leaf=1, min_samples_split=18, n_estimators=2667;, score=0.657 total time=  21.7s\n",
      "[CV 5/5] END bootstrap=True, max_depth=185, max_features=sqrt, min_samples_leaf=1, min_samples_split=18, n_estimators=2667;, score=0.665 total time=  21.8s\n",
      "[CV 2/5] END bootstrap=False, max_depth=170, max_features=auto, min_samples_leaf=45, min_samples_split=12, n_estimators=2275;, score=0.549 total time= 1.4min\n",
      "[CV 4/5] END bootstrap=False, max_depth=170, max_features=auto, min_samples_leaf=45, min_samples_split=12, n_estimators=2275;, score=0.537 total time= 1.4min\n",
      "[CV 1/5] END bootstrap=True, max_depth=320, max_features=sqrt, min_samples_leaf=45, min_samples_split=50, n_estimators=1882;, score=0.522 total time=  10.1s\n",
      "[CV 2/5] END bootstrap=True, max_depth=320, max_features=sqrt, min_samples_leaf=45, min_samples_split=50, n_estimators=1882;, score=0.531 total time=  10.1s\n",
      "[CV 3/5] END bootstrap=True, max_depth=320, max_features=sqrt, min_samples_leaf=45, min_samples_split=50, n_estimators=1882;, score=0.515 total time=  10.1s\n",
      "[CV 4/5] END bootstrap=True, max_depth=320, max_features=sqrt, min_samples_leaf=45, min_samples_split=50, n_estimators=1882;, score=0.544 total time=  10.1s\n",
      "[CV 5/5] END bootstrap=True, max_depth=320, max_features=sqrt, min_samples_leaf=45, min_samples_split=50, n_estimators=1882;, score=0.520 total time=  10.1s\n",
      "[CV 1/5] END bootstrap=True, max_depth=380, max_features=auto, min_samples_leaf=23, min_samples_split=18, n_estimators=976;, score=0.599 total time=  27.0s\n",
      "[CV 3/5] END bootstrap=True, max_depth=380, max_features=auto, min_samples_leaf=23, min_samples_split=18, n_estimators=976;, score=0.609 total time=  27.3s\n",
      "[CV 5/5] END bootstrap=True, max_depth=380, max_features=auto, min_samples_leaf=23, min_samples_split=18, n_estimators=976;, score=0.629 total time=  27.1s\n",
      "[CV 4/5] END bootstrap=True, max_depth=465, max_features=auto, min_samples_leaf=78, min_samples_split=28, n_estimators=342;, score=0.561 total time=   6.9s\n",
      "[CV 1/5] END bootstrap=False, max_depth=55, max_features=sqrt, min_samples_leaf=1, min_samples_split=44, n_estimators=2124;, score=0.632 total time=  20.1s\n",
      "[CV 3/5] END bootstrap=False, max_depth=55, max_features=sqrt, min_samples_leaf=1, min_samples_split=44, n_estimators=2124;, score=0.646 total time=  20.1s\n",
      "[CV 5/5] END bootstrap=False, max_depth=55, max_features=sqrt, min_samples_leaf=1, min_samples_split=44, n_estimators=2124;, score=0.653 total time=  20.2s\n",
      "[CV 3/5] END bootstrap=False, max_depth=320, max_features=sqrt, min_samples_leaf=23, min_samples_split=34, n_estimators=1278;, score=0.605 total time=  10.7s\n",
      "[CV 5/5] END bootstrap=False, max_depth=320, max_features=sqrt, min_samples_leaf=23, min_samples_split=34, n_estimators=1278;, score=0.612 total time=  10.8s\n",
      "[CV 2/5] END bootstrap=False, max_depth=120, max_features=auto, min_samples_leaf=23, min_samples_split=2, n_estimators=1157;, score=0.572 total time=  49.9s\n",
      "[CV 4/5] END bootstrap=False, max_depth=120, max_features=auto, min_samples_leaf=23, min_samples_split=2, n_estimators=1157;, score=0.553 total time=  52.1s\n",
      "[CV 1/5] END bootstrap=False, max_depth=25, max_features=auto, min_samples_leaf=89, min_samples_split=7, n_estimators=1882;, score=0.457 total time=  57.0s\n",
      "[CV 3/5] END bootstrap=False, max_depth=25, max_features=auto, min_samples_leaf=89, min_samples_split=7, n_estimators=1882;, score=0.481 total time=  54.6s\n",
      "[CV 5/5] END bootstrap=False, max_depth=25, max_features=auto, min_samples_leaf=89, min_samples_split=7, n_estimators=1882;, score=0.497 total time=  55.9s\n",
      "[CV 2/5] END bootstrap=True, max_depth=390, max_features=sqrt, min_samples_leaf=100, min_samples_split=28, n_estimators=2395;, score=0.448 total time=  10.7s\n",
      "[CV 4/5] END bootstrap=True, max_depth=390, max_features=sqrt, min_samples_leaf=100, min_samples_split=28, n_estimators=2395;, score=0.462 total time=  10.8s\n",
      "[CV 1/5] END bootstrap=False, max_depth=315, max_features=sqrt, min_samples_leaf=67, min_samples_split=44, n_estimators=2879;, score=0.527 total time=  18.9s\n",
      "[CV 3/5] END bootstrap=False, max_depth=315, max_features=sqrt, min_samples_leaf=67, min_samples_split=44, n_estimators=2879;, score=0.522 total time=  19.0s\n",
      "[CV 5/5] END bootstrap=False, max_depth=315, max_features=sqrt, min_samples_leaf=67, min_samples_split=44, n_estimators=2879;, score=0.527 total time=  19.2s\n",
      "[CV 2/5] END bootstrap=False, max_depth=355, max_features=auto, min_samples_leaf=45, min_samples_split=34, n_estimators=1973;, score=0.549 total time= 1.2min\n",
      "[CV 4/5] END bootstrap=False, max_depth=355, max_features=auto, min_samples_leaf=45, min_samples_split=34, n_estimators=1973;, score=0.537 total time= 1.2min\n",
      "[CV 1/5] END bootstrap=False, max_depth=230, max_features=sqrt, min_samples_leaf=12, min_samples_split=18, n_estimators=2848;, score=0.628 total time=  27.3s\n",
      "[CV 2/5] END bootstrap=False, max_depth=230, max_features=sqrt, min_samples_leaf=12, min_samples_split=18, n_estimators=2848;, score=0.665 total time=  27.4s\n",
      "[CV 4/5] END bootstrap=False, max_depth=230, max_features=sqrt, min_samples_leaf=12, min_samples_split=18, n_estimators=2848;, score=0.667 total time=  27.3s\n",
      "[CV 1/5] END bootstrap=False, max_depth=15, max_features=sqrt, min_samples_leaf=100, min_samples_split=34, n_estimators=281;, score=0.494 total time=   1.7s\n",
      "[CV 1/5] END bootstrap=True, max_depth=475, max_features=sqrt, min_samples_leaf=45, min_samples_split=12, n_estimators=372;, score=0.522 total time=   2.1s\n",
      "[CV 4/5] END bootstrap=True, max_depth=475, max_features=sqrt, min_samples_leaf=45, min_samples_split=12, n_estimators=372;, score=0.545 total time=   2.0s\n",
      "[CV 1/5] END bootstrap=True, max_depth=195, max_features=auto, min_samples_leaf=1, min_samples_split=12, n_estimators=1278;, score=0.646 total time=  56.3s\n",
      "[CV 3/5] END bootstrap=True, max_depth=195, max_features=auto, min_samples_leaf=1, min_samples_split=12, n_estimators=1278;, score=0.677 total time=  57.0s\n",
      "[CV 5/5] END bootstrap=True, max_depth=195, max_features=auto, min_samples_leaf=1, min_samples_split=12, n_estimators=1278;, score=0.691 total time= 1.0min\n",
      "[CV 2/5] END bootstrap=False, max_depth=430, max_features=auto, min_samples_leaf=78, min_samples_split=2, n_estimators=2093;, score=0.519 total time= 1.1min\n",
      "[CV 4/5] END bootstrap=False, max_depth=430, max_features=auto, min_samples_leaf=78, min_samples_split=2, n_estimators=2093;, score=0.527 total time= 1.2min\n",
      "[CV 1/5] END bootstrap=False, max_depth=30, max_features=sqrt, min_samples_leaf=23, min_samples_split=2, n_estimators=614;, score=0.597 total time=   5.2s\n",
      "[CV 2/5] END bootstrap=False, max_depth=30, max_features=sqrt, min_samples_leaf=23, min_samples_split=2, n_estimators=614;, score=0.628 total time=   5.2s\n",
      "[CV 4/5] END bootstrap=False, max_depth=30, max_features=sqrt, min_samples_leaf=23, min_samples_split=2, n_estimators=614;, score=0.630 total time=   5.2s\n",
      "[CV 1/5] END bootstrap=False, max_depth=290, max_features=sqrt, min_samples_leaf=78, min_samples_split=50, n_estimators=2728;, score=0.515 total time=  17.3s\n",
      "[CV 3/5] END bootstrap=False, max_depth=290, max_features=sqrt, min_samples_leaf=78, min_samples_split=50, n_estimators=2728;, score=0.509 total time=  17.3s\n",
      "[CV 5/5] END bootstrap=False, max_depth=290, max_features=sqrt, min_samples_leaf=78, min_samples_split=50, n_estimators=2728;, score=0.513 total time=  17.4s\n",
      "[CV 2/5] END bootstrap=True, max_depth=485, max_features=auto, min_samples_leaf=56, min_samples_split=28, n_estimators=2969;, score=0.556 total time= 1.1min\n",
      "[CV 4/5] END bootstrap=True, max_depth=485, max_features=auto, min_samples_leaf=56, min_samples_split=28, n_estimators=2969;, score=0.586 total time= 1.1min\n",
      "[CV 1/5] END bootstrap=True, max_depth=225, max_features=auto, min_samples_leaf=12, min_samples_split=44, n_estimators=1852;, score=0.612 total time=  54.7s\n",
      "[CV 3/5] END bootstrap=True, max_depth=225, max_features=auto, min_samples_leaf=12, min_samples_split=44, n_estimators=1852;, score=0.625 total time=  55.4s\n",
      "[CV 5/5] END bootstrap=True, max_depth=225, max_features=auto, min_samples_leaf=12, min_samples_split=44, n_estimators=1852;, score=0.643 total time=  55.0s\n",
      "[CV 2/5] END bootstrap=True, max_depth=185, max_features=sqrt, min_samples_leaf=1, min_samples_split=18, n_estimators=2667;, score=0.671 total time=  21.9s\n",
      "[CV 4/5] END bootstrap=True, max_depth=185, max_features=sqrt, min_samples_leaf=1, min_samples_split=18, n_estimators=2667;, score=0.675 total time=  21.8s\n",
      "[CV 1/5] END bootstrap=False, max_depth=170, max_features=auto, min_samples_leaf=45, min_samples_split=12, n_estimators=2275;, score=0.513 total time= 1.4min\n",
      "[CV 3/5] END bootstrap=False, max_depth=170, max_features=auto, min_samples_leaf=45, min_samples_split=12, n_estimators=2275;, score=0.523 total time= 1.4min\n",
      "[CV 5/5] END bootstrap=False, max_depth=170, max_features=auto, min_samples_leaf=45, min_samples_split=12, n_estimators=2275;, score=0.543 total time= 1.4min\n",
      "[CV 2/5] END bootstrap=True, max_depth=380, max_features=auto, min_samples_leaf=23, min_samples_split=18, n_estimators=976;, score=0.630 total time=  26.8s\n",
      "[CV 4/5] END bootstrap=True, max_depth=380, max_features=auto, min_samples_leaf=23, min_samples_split=18, n_estimators=976;, score=0.642 total time=  27.3s\n",
      "[CV 1/5] END bootstrap=True, max_depth=465, max_features=auto, min_samples_leaf=78, min_samples_split=28, n_estimators=342;, score=0.499 total time=   6.7s\n",
      "[CV 2/5] END bootstrap=True, max_depth=465, max_features=auto, min_samples_leaf=78, min_samples_split=28, n_estimators=342;, score=0.522 total time=   6.7s\n",
      "[CV 3/5] END bootstrap=True, max_depth=465, max_features=auto, min_samples_leaf=78, min_samples_split=28, n_estimators=342;, score=0.516 total time=   6.7s\n",
      "[CV 5/5] END bootstrap=True, max_depth=465, max_features=auto, min_samples_leaf=78, min_samples_split=28, n_estimators=342;, score=0.532 total time=   6.7s\n",
      "[CV 2/5] END bootstrap=False, max_depth=55, max_features=sqrt, min_samples_leaf=1, min_samples_split=44, n_estimators=2124;, score=0.662 total time=  20.1s\n",
      "[CV 4/5] END bootstrap=False, max_depth=55, max_features=sqrt, min_samples_leaf=1, min_samples_split=44, n_estimators=2124;, score=0.666 total time=  20.1s\n",
      "[CV 1/5] END bootstrap=False, max_depth=320, max_features=sqrt, min_samples_leaf=23, min_samples_split=34, n_estimators=1278;, score=0.597 total time=  10.6s\n",
      "[CV 2/5] END bootstrap=False, max_depth=320, max_features=sqrt, min_samples_leaf=23, min_samples_split=34, n_estimators=1278;, score=0.626 total time=  10.6s\n",
      "[CV 4/5] END bootstrap=False, max_depth=320, max_features=sqrt, min_samples_leaf=23, min_samples_split=34, n_estimators=1278;, score=0.631 total time=  10.7s\n",
      "[CV 1/5] END bootstrap=False, max_depth=120, max_features=auto, min_samples_leaf=23, min_samples_split=2, n_estimators=1157;, score=0.512 total time=  48.8s\n",
      "[CV 3/5] END bootstrap=False, max_depth=120, max_features=auto, min_samples_leaf=23, min_samples_split=2, n_estimators=1157;, score=0.517 total time=  50.6s\n",
      "[CV 5/5] END bootstrap=False, max_depth=120, max_features=auto, min_samples_leaf=23, min_samples_split=2, n_estimators=1157;, score=0.556 total time=  49.3s\n",
      "[CV 2/5] END bootstrap=False, max_depth=25, max_features=auto, min_samples_leaf=89, min_samples_split=7, n_estimators=1882;, score=0.507 total time=  56.7s\n",
      "[CV 4/5] END bootstrap=False, max_depth=25, max_features=auto, min_samples_leaf=89, min_samples_split=7, n_estimators=1882;, score=0.525 total time=  59.8s\n",
      "[CV 1/5] END bootstrap=True, max_depth=390, max_features=sqrt, min_samples_leaf=100, min_samples_split=28, n_estimators=2395;, score=0.448 total time=  10.9s\n",
      "[CV 3/5] END bootstrap=True, max_depth=390, max_features=sqrt, min_samples_leaf=100, min_samples_split=28, n_estimators=2395;, score=0.437 total time=  10.8s\n",
      "[CV 5/5] END bootstrap=True, max_depth=390, max_features=sqrt, min_samples_leaf=100, min_samples_split=28, n_estimators=2395;, score=0.439 total time=  10.9s\n",
      "[CV 2/5] END bootstrap=False, max_depth=315, max_features=sqrt, min_samples_leaf=67, min_samples_split=44, n_estimators=2879;, score=0.538 total time=  19.0s\n",
      "[CV 4/5] END bootstrap=False, max_depth=315, max_features=sqrt, min_samples_leaf=67, min_samples_split=44, n_estimators=2879;, score=0.550 total time=  19.1s\n",
      "[CV 1/5] END bootstrap=False, max_depth=355, max_features=auto, min_samples_leaf=45, min_samples_split=34, n_estimators=1973;, score=0.513 total time= 1.2min\n",
      "[CV 3/5] END bootstrap=False, max_depth=355, max_features=auto, min_samples_leaf=45, min_samples_split=34, n_estimators=1973;, score=0.523 total time= 1.2min\n",
      "[CV 5/5] END bootstrap=False, max_depth=355, max_features=auto, min_samples_leaf=45, min_samples_split=34, n_estimators=1973;, score=0.543 total time= 1.2min\n",
      "[CV 3/5] END bootstrap=False, max_depth=230, max_features=sqrt, min_samples_leaf=12, min_samples_split=18, n_estimators=2848;, score=0.646 total time=  27.4s\n",
      "[CV 5/5] END bootstrap=False, max_depth=230, max_features=sqrt, min_samples_leaf=12, min_samples_split=18, n_estimators=2848;, score=0.653 total time=  27.3s\n",
      "[CV 4/5] END bootstrap=True, max_depth=130, max_features=sqrt, min_samples_leaf=89, min_samples_split=50, n_estimators=1550;, score=0.476 total time=   7.2s\n",
      "[CV 1/5] END bootstrap=False, max_depth=350, max_features=auto, min_samples_leaf=100, min_samples_split=2, n_estimators=251;, score=0.434 total time=   7.2s\n",
      "[CV 3/5] END bootstrap=False, max_depth=350, max_features=auto, min_samples_leaf=100, min_samples_split=2, n_estimators=251;, score=0.479 total time=   7.3s\n",
      "[CV 2/5] END bootstrap=False, max_depth=15, max_features=sqrt, min_samples_leaf=100, min_samples_split=34, n_estimators=281;, score=0.501 total time=   1.7s\n",
      "[CV 3/5] END bootstrap=False, max_depth=15, max_features=sqrt, min_samples_leaf=100, min_samples_split=34, n_estimators=281;, score=0.489 total time=   1.7s\n",
      "[CV 4/5] END bootstrap=False, max_depth=15, max_features=sqrt, min_samples_leaf=100, min_samples_split=34, n_estimators=281;, score=0.513 total time=   1.7s\n",
      "[CV 5/5] END bootstrap=False, max_depth=15, max_features=sqrt, min_samples_leaf=100, min_samples_split=34, n_estimators=281;, score=0.492 total time=   1.7s\n",
      "[CV 1/5] END bootstrap=True, max_depth=130, max_features=sqrt, min_samples_leaf=89, min_samples_split=50, n_estimators=1550;, score=0.460 total time=   7.1s\n",
      "[CV 2/5] END bootstrap=True, max_depth=130, max_features=sqrt, min_samples_leaf=89, min_samples_split=50, n_estimators=1550;, score=0.462 total time=   7.1s\n",
      "[CV 3/5] END bootstrap=True, max_depth=130, max_features=sqrt, min_samples_leaf=89, min_samples_split=50, n_estimators=1550;, score=0.451 total time=   7.1s\n",
      "[CV 5/5] END bootstrap=True, max_depth=130, max_features=sqrt, min_samples_leaf=89, min_samples_split=50, n_estimators=1550;, score=0.452 total time=   7.1s\n",
      "[CV 2/5] END bootstrap=False, max_depth=350, max_features=auto, min_samples_leaf=100, min_samples_split=2, n_estimators=251;, score=0.487 total time=   7.3s\n",
      "[CV 4/5] END bootstrap=False, max_depth=350, max_features=auto, min_samples_leaf=100, min_samples_split=2, n_estimators=251;, score=0.516 total time=   7.5s\n",
      "[CV 1/5] END bootstrap=True, max_depth=385, max_features=auto, min_samples_leaf=1, min_samples_split=18, n_estimators=40;, score=0.640 total time=   1.6s\n",
      "[CV 3/5] END bootstrap=True, max_depth=385, max_features=auto, min_samples_leaf=1, min_samples_split=18, n_estimators=40;, score=0.672 total time=   1.6s\n",
      "[CV 5/5] END bootstrap=True, max_depth=385, max_features=auto, min_samples_leaf=1, min_samples_split=18, n_estimators=40;, score=0.683 total time=   1.6s\n",
      "[CV 2/5] END bootstrap=False, max_depth=395, max_features=auto, min_samples_leaf=89, min_samples_split=7, n_estimators=1097;, score=0.507 total time=  33.3s\n",
      "[CV 4/5] END bootstrap=False, max_depth=395, max_features=auto, min_samples_leaf=89, min_samples_split=7, n_estimators=1097;, score=0.525 total time=  34.7s\n",
      "[CV 1/5] END bootstrap=True, max_depth=200, max_features=auto, min_samples_leaf=67, min_samples_split=28, n_estimators=191;, score=0.513 total time=   3.9s\n",
      "[CV 2/5] END bootstrap=True, max_depth=200, max_features=auto, min_samples_leaf=67, min_samples_split=28, n_estimators=191;, score=0.538 total time=   3.9s\n",
      "[CV 3/5] END bootstrap=True, max_depth=200, max_features=auto, min_samples_leaf=67, min_samples_split=28, n_estimators=191;, score=0.530 total time=   4.0s\n",
      "[CV 4/5] END bootstrap=True, max_depth=200, max_features=auto, min_samples_leaf=67, min_samples_split=28, n_estimators=191;, score=0.571 total time=   4.0s\n",
      "[CV 5/5] END bootstrap=True, max_depth=200, max_features=auto, min_samples_leaf=67, min_samples_split=28, n_estimators=191;, score=0.544 total time=   3.9s\n",
      "[CV 1/5] END bootstrap=False, max_depth=275, max_features=auto, min_samples_leaf=67, min_samples_split=12, n_estimators=1097;, score=0.466 total time=  35.4s\n",
      "[CV 3/5] END bootstrap=False, max_depth=275, max_features=auto, min_samples_leaf=67, min_samples_split=12, n_estimators=1097;, score=0.517 total time=  36.9s\n",
      "[CV 5/5] END bootstrap=False, max_depth=275, max_features=auto, min_samples_leaf=67, min_samples_split=12, n_estimators=1097;, score=0.522 total time=  35.9s\n",
      "[CV 3/5] END bootstrap=True, max_depth=455, max_features=sqrt, min_samples_leaf=12, min_samples_split=39, n_estimators=2456;, score=0.597 total time=  16.2s\n",
      "[CV 5/5] END bootstrap=True, max_depth=455, max_features=sqrt, min_samples_leaf=12, min_samples_split=39, n_estimators=2456;, score=0.608 total time=  16.1s\n",
      "[CV 2/5] END bootstrap=True, max_depth=110, max_features=sqrt, min_samples_leaf=78, min_samples_split=18, n_estimators=2697;, score=0.477 total time=  13.0s\n",
      "[CV 4/5] END bootstrap=True, max_depth=110, max_features=sqrt, min_samples_leaf=78, min_samples_split=18, n_estimators=2697;, score=0.490 total time=  12.8s\n",
      "[CV 1/5] END bootstrap=True, max_depth=35, max_features=sqrt, min_samples_leaf=67, min_samples_split=2, n_estimators=1278;, score=0.489 total time=   6.3s\n",
      "[CV 3/5] END bootstrap=True, max_depth=35, max_features=sqrt, min_samples_leaf=67, min_samples_split=2, n_estimators=1278;, score=0.480 total time=   6.3s\n",
      "[CV 5/5] END bootstrap=True, max_depth=35, max_features=sqrt, min_samples_leaf=67, min_samples_split=2, n_estimators=1278;, score=0.483 total time=   6.3s\n",
      "[CV 2/5] END bootstrap=False, max_depth=145, max_features=sqrt, min_samples_leaf=45, min_samples_split=39, n_estimators=976;, score=0.573 total time=   7.0s\n",
      "[CV 4/5] END bootstrap=False, max_depth=145, max_features=sqrt, min_samples_leaf=45, min_samples_split=39, n_estimators=976;, score=0.583 total time=   7.0s\n",
      "[CV 1/5] END bootstrap=True, max_depth=205, max_features=sqrt, min_samples_leaf=23, min_samples_split=34, n_estimators=2365;, score=0.568 total time=  14.7s\n",
      "[CV 3/5] END bootstrap=True, max_depth=205, max_features=sqrt, min_samples_leaf=23, min_samples_split=34, n_estimators=2365;, score=0.568 total time=  14.5s\n",
      "[CV 5/5] END bootstrap=True, max_depth=205, max_features=sqrt, min_samples_leaf=23, min_samples_split=34, n_estimators=2365;, score=0.576 total time=  14.5s\n",
      "[CV 2/5] END bootstrap=False, max_depth=135, max_features=sqrt, min_samples_leaf=23, min_samples_split=44, n_estimators=2728;, score=0.627 total time=  22.7s\n",
      "[CV 4/5] END bootstrap=False, max_depth=135, max_features=sqrt, min_samples_leaf=23, min_samples_split=44, n_estimators=2728;, score=0.631 total time=  22.8s\n",
      "[CV 1/5] END bootstrap=False, max_depth=100, max_features=auto, min_samples_leaf=56, min_samples_split=34, n_estimators=2667;, score=0.486 total time= 1.5min\n",
      "[CV 3/5] END bootstrap=False, max_depth=100, max_features=auto, min_samples_leaf=56, min_samples_split=34, n_estimators=2667;, score=0.513 total time= 1.5min\n",
      "[CV 5/5] END bootstrap=False, max_depth=100, max_features=auto, min_samples_leaf=56, min_samples_split=34, n_estimators=2667;, score=0.532 total time= 1.5min\n",
      "[CV 5/5] END bootstrap=False, max_depth=190, max_features=sqrt, min_samples_leaf=34, min_samples_split=12, n_estimators=2456;, score=0.585 total time=  19.0s\n",
      "[CV 2/5] END bootstrap=True, max_depth=155, max_features=auto, min_samples_leaf=89, min_samples_split=7, n_estimators=2244;, score=0.508 total time=  41.9s\n",
      "[CV 4/5] END bootstrap=True, max_depth=155, max_features=auto, min_samples_leaf=89, min_samples_split=7, n_estimators=2244;, score=0.551 total time=  43.1s\n",
      "[CV 1/5] END bootstrap=True, max_depth=210, max_features=auto, min_samples_leaf=56, min_samples_split=12, n_estimators=765;, score=0.535 total time=  16.5s\n",
      "[CV 2/5] END bootstrap=True, max_depth=210, max_features=auto, min_samples_leaf=56, min_samples_split=12, n_estimators=765;, score=0.557 total time=  16.5s\n",
      "[CV 4/5] END bootstrap=True, max_depth=210, max_features=auto, min_samples_leaf=56, min_samples_split=12, n_estimators=765;, score=0.585 total time=  16.9s\n",
      "[CV 1/5] END bootstrap=True, max_depth=225, max_features=auto, min_samples_leaf=100, min_samples_split=39, n_estimators=2365;, score=0.482 total time=  42.8s\n",
      "[CV 3/5] END bootstrap=True, max_depth=225, max_features=auto, min_samples_leaf=100, min_samples_split=39, n_estimators=2365;, score=0.495 total time=  43.4s\n",
      "[CV 5/5] END bootstrap=True, max_depth=225, max_features=auto, min_samples_leaf=100, min_samples_split=39, n_estimators=2365;, score=0.512 total time=  43.0s\n",
      "[CV 3/5] END bootstrap=True, max_depth=425, max_features=sqrt, min_samples_leaf=34, min_samples_split=39, n_estimators=2728;, score=0.538 total time=  15.6s\n",
      "[CV 5/5] END bootstrap=True, max_depth=425, max_features=sqrt, min_samples_leaf=34, min_samples_split=39, n_estimators=2728;, score=0.545 total time=  15.6s\n",
      "[CV 2/5] END bootstrap=True, max_depth=40, max_features=sqrt, min_samples_leaf=56, min_samples_split=12, n_estimators=2788;, score=0.510 total time=  14.3s\n",
      "[CV 5/5] END bootstrap=False, max_depth=350, max_features=auto, min_samples_leaf=100, min_samples_split=2, n_estimators=251;, score=0.484 total time=   7.4s\n",
      "[CV 2/5] END bootstrap=True, max_depth=385, max_features=auto, min_samples_leaf=1, min_samples_split=18, n_estimators=40;, score=0.665 total time=   1.6s\n",
      "[CV 4/5] END bootstrap=True, max_depth=385, max_features=auto, min_samples_leaf=1, min_samples_split=18, n_estimators=40;, score=0.682 total time=   1.7s\n",
      "[CV 1/5] END bootstrap=False, max_depth=395, max_features=auto, min_samples_leaf=89, min_samples_split=7, n_estimators=1097;, score=0.457 total time=  33.4s\n",
      "[CV 3/5] END bootstrap=False, max_depth=395, max_features=auto, min_samples_leaf=89, min_samples_split=7, n_estimators=1097;, score=0.481 total time=  32.0s\n",
      "[CV 5/5] END bootstrap=False, max_depth=395, max_features=auto, min_samples_leaf=89, min_samples_split=7, n_estimators=1097;, score=0.497 total time=  32.7s\n",
      "[CV 2/5] END bootstrap=False, max_depth=275, max_features=auto, min_samples_leaf=67, min_samples_split=12, n_estimators=1097;, score=0.529 total time=  36.1s\n",
      "[CV 4/5] END bootstrap=False, max_depth=275, max_features=auto, min_samples_leaf=67, min_samples_split=12, n_estimators=1097;, score=0.535 total time=  37.2s\n",
      "[CV 1/5] END bootstrap=True, max_depth=455, max_features=sqrt, min_samples_leaf=12, min_samples_split=39, n_estimators=2456;, score=0.592 total time=  16.1s\n",
      "[CV 2/5] END bootstrap=True, max_depth=455, max_features=sqrt, min_samples_leaf=12, min_samples_split=39, n_estimators=2456;, score=0.617 total time=  16.1s\n",
      "[CV 4/5] END bootstrap=True, max_depth=455, max_features=sqrt, min_samples_leaf=12, min_samples_split=39, n_estimators=2456;, score=0.623 total time=  16.1s\n",
      "[CV 1/5] END bootstrap=True, max_depth=110, max_features=sqrt, min_samples_leaf=78, min_samples_split=18, n_estimators=2697;, score=0.473 total time=  13.0s\n",
      "[CV 3/5] END bootstrap=True, max_depth=110, max_features=sqrt, min_samples_leaf=78, min_samples_split=18, n_estimators=2697;, score=0.464 total time=  12.9s\n",
      "[CV 5/5] END bootstrap=True, max_depth=110, max_features=sqrt, min_samples_leaf=78, min_samples_split=18, n_estimators=2697;, score=0.467 total time=  12.9s\n",
      "[CV 2/5] END bootstrap=True, max_depth=35, max_features=sqrt, min_samples_leaf=67, min_samples_split=2, n_estimators=1278;, score=0.492 total time=   6.3s\n",
      "[CV 4/5] END bootstrap=True, max_depth=35, max_features=sqrt, min_samples_leaf=67, min_samples_split=2, n_estimators=1278;, score=0.505 total time=   6.3s\n",
      "[CV 1/5] END bootstrap=True, max_depth=410, max_features=sqrt, min_samples_leaf=56, min_samples_split=50, n_estimators=40;, score=0.509 total time=   0.2s\n",
      "[CV 2/5] END bootstrap=True, max_depth=410, max_features=sqrt, min_samples_leaf=56, min_samples_split=50, n_estimators=40;, score=0.514 total time=   0.2s\n",
      "[CV 3/5] END bootstrap=True, max_depth=410, max_features=sqrt, min_samples_leaf=56, min_samples_split=50, n_estimators=40;, score=0.494 total time=   0.2s\n",
      "[CV 4/5] END bootstrap=True, max_depth=410, max_features=sqrt, min_samples_leaf=56, min_samples_split=50, n_estimators=40;, score=0.521 total time=   0.2s\n",
      "[CV 5/5] END bootstrap=True, max_depth=410, max_features=sqrt, min_samples_leaf=56, min_samples_split=50, n_estimators=40;, score=0.500 total time=   0.2s\n",
      "[CV 1/5] END bootstrap=False, max_depth=145, max_features=sqrt, min_samples_leaf=45, min_samples_split=39, n_estimators=976;, score=0.558 total time=   7.1s\n",
      "[CV 3/5] END bootstrap=False, max_depth=145, max_features=sqrt, min_samples_leaf=45, min_samples_split=39, n_estimators=976;, score=0.554 total time=   7.0s\n",
      "[CV 5/5] END bootstrap=False, max_depth=145, max_features=sqrt, min_samples_leaf=45, min_samples_split=39, n_estimators=976;, score=0.561 total time=   7.0s\n",
      "[CV 2/5] END bootstrap=True, max_depth=205, max_features=sqrt, min_samples_leaf=23, min_samples_split=34, n_estimators=2365;, score=0.588 total time=  14.6s\n",
      "[CV 4/5] END bootstrap=True, max_depth=205, max_features=sqrt, min_samples_leaf=23, min_samples_split=34, n_estimators=2365;, score=0.597 total time=  14.6s\n",
      "[CV 1/5] END bootstrap=False, max_depth=135, max_features=sqrt, min_samples_leaf=23, min_samples_split=44, n_estimators=2728;, score=0.598 total time=  22.9s\n",
      "[CV 3/5] END bootstrap=False, max_depth=135, max_features=sqrt, min_samples_leaf=23, min_samples_split=44, n_estimators=2728;, score=0.605 total time=  22.9s\n",
      "[CV 5/5] END bootstrap=False, max_depth=135, max_features=sqrt, min_samples_leaf=23, min_samples_split=44, n_estimators=2728;, score=0.613 total time=  23.0s\n",
      "[CV 2/5] END bootstrap=False, max_depth=100, max_features=auto, min_samples_leaf=56, min_samples_split=34, n_estimators=2667;, score=0.547 total time= 1.5min\n",
      "[CV 4/5] END bootstrap=False, max_depth=100, max_features=auto, min_samples_leaf=56, min_samples_split=34, n_estimators=2667;, score=0.539 total time= 1.6min\n",
      "[CV 1/5] END bootstrap=False, max_depth=190, max_features=sqrt, min_samples_leaf=34, min_samples_split=12, n_estimators=2456;, score=0.575 total time=  19.1s\n",
      "[CV 2/5] END bootstrap=False, max_depth=190, max_features=sqrt, min_samples_leaf=34, min_samples_split=12, n_estimators=2456;, score=0.597 total time=  19.0s\n",
      "[CV 3/5] END bootstrap=False, max_depth=190, max_features=sqrt, min_samples_leaf=34, min_samples_split=12, n_estimators=2456;, score=0.576 total time=  19.0s\n",
      "[CV 4/5] END bootstrap=False, max_depth=190, max_features=sqrt, min_samples_leaf=34, min_samples_split=12, n_estimators=2456;, score=0.604 total time=  19.0s\n",
      "[CV 1/5] END bootstrap=True, max_depth=155, max_features=auto, min_samples_leaf=89, min_samples_split=7, n_estimators=2244;, score=0.490 total time=  42.1s\n",
      "[CV 3/5] END bootstrap=True, max_depth=155, max_features=auto, min_samples_leaf=89, min_samples_split=7, n_estimators=2244;, score=0.505 total time=  43.0s\n",
      "[CV 5/5] END bootstrap=True, max_depth=155, max_features=auto, min_samples_leaf=89, min_samples_split=7, n_estimators=2244;, score=0.521 total time=  42.5s\n",
      "[CV 3/5] END bootstrap=True, max_depth=210, max_features=auto, min_samples_leaf=56, min_samples_split=12, n_estimators=765;, score=0.544 total time=  16.8s\n",
      "[CV 5/5] END bootstrap=True, max_depth=210, max_features=auto, min_samples_leaf=56, min_samples_split=12, n_estimators=765;, score=0.561 total time=  16.7s\n",
      "[CV 2/5] END bootstrap=True, max_depth=225, max_features=auto, min_samples_leaf=100, min_samples_split=39, n_estimators=2365;, score=0.496 total time=  42.9s\n",
      "[CV 4/5] END bootstrap=True, max_depth=225, max_features=auto, min_samples_leaf=100, min_samples_split=39, n_estimators=2365;, score=0.543 total time=  43.9s\n",
      "[CV 1/5] END bootstrap=True, max_depth=425, max_features=sqrt, min_samples_leaf=34, min_samples_split=39, n_estimators=2728;, score=0.542 total time=  15.4s\n",
      "[CV 2/5] END bootstrap=True, max_depth=425, max_features=sqrt, min_samples_leaf=34, min_samples_split=39, n_estimators=2728;, score=0.556 total time=  15.4s\n",
      "[CV 4/5] END bootstrap=True, max_depth=425, max_features=sqrt, min_samples_leaf=34, min_samples_split=39, n_estimators=2728;, score=0.567 total time=  15.5s\n",
      "[CV 1/5] END bootstrap=True, max_depth=40, max_features=sqrt, min_samples_leaf=56, min_samples_split=12, n_estimators=2788;, score=0.504 total time=  14.5s\n",
      "[CV 3/5] END bootstrap=True, max_depth=40, max_features=sqrt, min_samples_leaf=56, min_samples_split=12, n_estimators=2788;, score=0.495 total time=  14.2s\n",
      "[CV 5/5] END bootstrap=True, max_depth=40, max_features=sqrt, min_samples_leaf=56, min_samples_split=12, n_estimators=2788;, score=0.500 total time=  14.3s\n",
      "[CV 2/5] END bootstrap=True, max_depth=105, max_features=auto, min_samples_leaf=1, min_samples_split=28, n_estimators=553;, score=0.665 total time=  20.2s\n",
      "[CV 4/5] END bootstrap=True, max_depth=105, max_features=auto, min_samples_leaf=1, min_samples_split=28, n_estimators=553;, score=0.679 total time=  20.7s\n",
      "[CV 1/5] END bootstrap=True, max_depth=45, max_features=auto, min_samples_leaf=78, min_samples_split=34, n_estimators=1278;, score=0.499 total time=  25.1s\n",
      "[CV 3/5] END bootstrap=True, max_depth=45, max_features=auto, min_samples_leaf=78, min_samples_split=34, n_estimators=1278;, score=0.517 total time=  25.2s\n",
      "[CV 4/5] END bootstrap=True, max_depth=40, max_features=sqrt, min_samples_leaf=56, min_samples_split=12, n_estimators=2788;, score=0.523 total time=  14.4s\n",
      "[CV 1/5] END bootstrap=True, max_depth=105, max_features=auto, min_samples_leaf=1, min_samples_split=28, n_estimators=553;, score=0.635 total time=  20.4s\n",
      "[CV 3/5] END bootstrap=True, max_depth=105, max_features=auto, min_samples_leaf=1, min_samples_split=28, n_estimators=553;, score=0.658 total time=  20.6s\n",
      "[CV 5/5] END bootstrap=True, max_depth=105, max_features=auto, min_samples_leaf=1, min_samples_split=28, n_estimators=553;, score=0.673 total time=  20.4s\n",
      "[CV 2/5] END bootstrap=True, max_depth=45, max_features=auto, min_samples_leaf=78, min_samples_split=34, n_estimators=1278;, score=0.523 total time=  25.0s\n",
      "[CV 4/5] END bootstrap=True, max_depth=45, max_features=auto, min_samples_leaf=78, min_samples_split=34, n_estimators=1278;, score=0.560 total time=  25.6s\n",
      "[CV 1/5] END bootstrap=True, max_depth=125, max_features=auto, min_samples_leaf=23, min_samples_split=23, n_estimators=1278;, score=0.599 total time=  35.1s\n",
      "[CV 3/5] END bootstrap=True, max_depth=125, max_features=auto, min_samples_leaf=23, min_samples_split=23, n_estimators=1278;, score=0.609 total time=  35.6s\n",
      "[CV 5/5] END bootstrap=True, max_depth=125, max_features=auto, min_samples_leaf=23, min_samples_split=23, n_estimators=1278;, score=0.628 total time=  35.3s\n",
      "[CV 2/5] END bootstrap=True, max_depth=420, max_features=auto, min_samples_leaf=67, min_samples_split=18, n_estimators=2486;, score=0.537 total time=  51.2s\n",
      "[CV 4/5] END bootstrap=True, max_depth=420, max_features=auto, min_samples_leaf=67, min_samples_split=18, n_estimators=2486;, score=0.572 total time=  52.1s\n",
      "[CV 1/5] END bootstrap=True, max_depth=280, max_features=auto, min_samples_leaf=34, min_samples_split=7, n_estimators=614;, score=0.572 total time=  15.4s\n",
      "[CV 2/5] END bootstrap=True, max_depth=280, max_features=auto, min_samples_leaf=34, min_samples_split=7, n_estimators=614;, score=0.601 total time=  15.3s\n",
      "[CV 4/5] END bootstrap=True, max_depth=280, max_features=auto, min_samples_leaf=34, min_samples_split=7, n_estimators=614;, score=0.618 total time=  15.6s\n",
      "[CV 1/5] END bootstrap=False, max_depth=20, max_features=sqrt, min_samples_leaf=89, min_samples_split=50, n_estimators=1791;, score=0.505 total time=  11.0s\n",
      "[CV 3/5] END bootstrap=False, max_depth=20, max_features=sqrt, min_samples_leaf=89, min_samples_split=50, n_estimators=1791;, score=0.497 total time=  11.0s\n",
      "[CV 5/5] END bootstrap=False, max_depth=20, max_features=sqrt, min_samples_leaf=89, min_samples_split=50, n_estimators=1791;, score=0.499 total time=  11.0s\n",
      "[CV 2/5] END bootstrap=True, max_depth=325, max_features=sqrt, min_samples_leaf=12, min_samples_split=7, n_estimators=2395;, score=0.633 total time=  16.7s\n",
      "[CV 4/5] END bootstrap=True, max_depth=325, max_features=sqrt, min_samples_leaf=12, min_samples_split=7, n_estimators=2395;, score=0.638 total time=  16.7s\n",
      "[CV 1/5] END bootstrap=False, max_depth=230, max_features=auto, min_samples_leaf=34, min_samples_split=44, n_estimators=342;, score=0.503 total time=  13.2s\n",
      "[CV 3/5] END bootstrap=False, max_depth=230, max_features=auto, min_samples_leaf=34, min_samples_split=44, n_estimators=342;, score=0.517 total time=  13.6s\n",
      "[CV 5/5] END bootstrap=False, max_depth=230, max_features=auto, min_samples_leaf=34, min_samples_split=44, n_estimators=342;, score=0.548 total time=  13.3s\n",
      "[CV 2/5] END bootstrap=True, max_depth=245, max_features=sqrt, min_samples_leaf=1, min_samples_split=50, n_estimators=2093;, score=0.622 total time=  14.0s\n",
      "[CV 4/5] END bootstrap=True, max_depth=245, max_features=sqrt, min_samples_leaf=1, min_samples_split=50, n_estimators=2093;, score=0.629 total time=  14.1s\n",
      "[CV 1/5] END bootstrap=False, max_depth=450, max_features=auto, min_samples_leaf=89, min_samples_split=44, n_estimators=130;, score=0.457 total time=   3.9s\n",
      "[CV 2/5] END bootstrap=False, max_depth=450, max_features=auto, min_samples_leaf=89, min_samples_split=44, n_estimators=130;, score=0.507 total time=   3.9s\n",
      "[CV 3/5] END bootstrap=False, max_depth=450, max_features=auto, min_samples_leaf=89, min_samples_split=44, n_estimators=130;, score=0.481 total time=   3.7s\n",
      "[CV 4/5] END bootstrap=False, max_depth=450, max_features=auto, min_samples_leaf=89, min_samples_split=44, n_estimators=130;, score=0.525 total time=   4.1s\n",
      "[CV 1/5] END bootstrap=False, max_depth=90, max_features=auto, min_samples_leaf=12, min_samples_split=23, n_estimators=2486;, score=0.516 total time= 2.0min\n",
      "[CV 3/5] END bootstrap=False, max_depth=90, max_features=auto, min_samples_leaf=12, min_samples_split=23, n_estimators=2486;, score=0.545 total time= 2.1min\n",
      "[CV 5/5] END bootstrap=False, max_depth=90, max_features=auto, min_samples_leaf=12, min_samples_split=23, n_estimators=2486;, score=0.548 total time= 2.0min\n",
      "[CV 2/5] END bootstrap=False, max_depth=355, max_features=auto, min_samples_leaf=12, min_samples_split=50, n_estimators=2063;, score=0.577 total time= 1.6min\n",
      "[CV 4/5] END bootstrap=False, max_depth=355, max_features=auto, min_samples_leaf=12, min_samples_split=50, n_estimators=2063;, score=0.587 total time= 1.6min\n",
      "[CV 1/5] END bootstrap=True, max_depth=15, max_features=sqrt, min_samples_leaf=78, min_samples_split=39, n_estimators=1429;, score=0.474 total time=   6.8s\n",
      "[CV 2/5] END bootstrap=True, max_depth=15, max_features=sqrt, min_samples_leaf=78, min_samples_split=39, n_estimators=1429;, score=0.476 total time=   6.8s\n",
      "[CV 3/5] END bootstrap=True, max_depth=15, max_features=sqrt, min_samples_leaf=78, min_samples_split=39, n_estimators=1429;, score=0.464 total time=   6.8s\n",
      "[CV 4/5] END bootstrap=True, max_depth=15, max_features=sqrt, min_samples_leaf=78, min_samples_split=39, n_estimators=1429;, score=0.490 total time=   6.8s\n",
      "[CV 5/5] END bootstrap=True, max_depth=15, max_features=sqrt, min_samples_leaf=78, min_samples_split=39, n_estimators=1429;, score=0.466 total time=   6.9s\n",
      "[CV 1/5] END bootstrap=False, max_depth=65, max_features=auto, min_samples_leaf=12, min_samples_split=7, n_estimators=2033;, score=0.516 total time= 1.7min\n",
      "[CV 3/5] END bootstrap=False, max_depth=65, max_features=auto, min_samples_leaf=12, min_samples_split=7, n_estimators=2033;, score=0.545 total time= 1.7min\n",
      "[CV 5/5] END bootstrap=False, max_depth=65, max_features=auto, min_samples_leaf=12, min_samples_split=7, n_estimators=2033;, score=0.548 total time= 1.6min\n",
      "[CV 4/5] END bootstrap=True, max_depth=485, max_features=sqrt, min_samples_leaf=67, min_samples_split=50, n_estimators=1731;, score=0.505 total time=   8.5s\n",
      "[CV 1/5] END bootstrap=False, max_depth=15, max_features=sqrt, min_samples_leaf=89, min_samples_split=44, n_estimators=2697;, score=0.504 total time=  16.4s\n",
      "[CV 3/5] END bootstrap=False, max_depth=15, max_features=sqrt, min_samples_leaf=89, min_samples_split=44, n_estimators=2697;, score=0.496 total time=  16.4s\n",
      "[CV 5/5] END bootstrap=False, max_depth=15, max_features=sqrt, min_samples_leaf=89, min_samples_split=44, n_estimators=2697;, score=0.500 total time=  16.5s\n",
      "[CV 2/5] END bootstrap=False, max_depth=455, max_features=auto, min_samples_leaf=67, min_samples_split=12, n_estimators=2184;, score=0.529 total time= 1.2min\n",
      "[CV 4/5] END bootstrap=False, max_depth=455, max_features=auto, min_samples_leaf=67, min_samples_split=12, n_estimators=2184;, score=0.535 total time= 1.2min\n",
      "[CV 1/5] END bootstrap=False, max_depth=180, max_features=sqrt, min_samples_leaf=34, min_samples_split=34, n_estimators=100;, score=0.576 total time=   0.8s\n",
      "[CV 2/5] END bootstrap=False, max_depth=180, max_features=sqrt, min_samples_leaf=34, min_samples_split=34, n_estimators=100;, score=0.597 total time=   0.8s\n",
      "[CV 3/5] END bootstrap=False, max_depth=180, max_features=sqrt, min_samples_leaf=34, min_samples_split=34, n_estimators=100;, score=0.574 total time=   0.8s\n",
      "[CV 4/5] END bootstrap=False, max_depth=180, max_features=sqrt, min_samples_leaf=34, min_samples_split=34, n_estimators=100;, score=0.602 total time=   0.8s\n",
      "[CV 5/5] END bootstrap=False, max_depth=180, max_features=sqrt, min_samples_leaf=34, min_samples_split=34, n_estimators=100;, score=0.585 total time=   0.8s\n",
      "[CV 5/5] END bootstrap=True, max_depth=45, max_features=auto, min_samples_leaf=78, min_samples_split=34, n_estimators=1278;, score=0.532 total time=  25.4s\n",
      "[CV 2/5] END bootstrap=True, max_depth=125, max_features=auto, min_samples_leaf=23, min_samples_split=23, n_estimators=1278;, score=0.630 total time=  35.3s\n",
      "[CV 4/5] END bootstrap=True, max_depth=125, max_features=auto, min_samples_leaf=23, min_samples_split=23, n_estimators=1278;, score=0.642 total time=  36.0s\n",
      "[CV 1/5] END bootstrap=True, max_depth=420, max_features=auto, min_samples_leaf=67, min_samples_split=18, n_estimators=2486;, score=0.513 total time=  51.4s\n",
      "[CV 3/5] END bootstrap=True, max_depth=420, max_features=auto, min_samples_leaf=67, min_samples_split=18, n_estimators=2486;, score=0.529 total time=  51.4s\n",
      "[CV 5/5] END bootstrap=True, max_depth=420, max_features=auto, min_samples_leaf=67, min_samples_split=18, n_estimators=2486;, score=0.545 total time=  51.1s\n",
      "[CV 3/5] END bootstrap=True, max_depth=280, max_features=auto, min_samples_leaf=34, min_samples_split=7, n_estimators=614;, score=0.582 total time=  15.4s\n",
      "[CV 5/5] END bootstrap=True, max_depth=280, max_features=auto, min_samples_leaf=34, min_samples_split=7, n_estimators=614;, score=0.601 total time=  15.3s\n",
      "[CV 2/5] END bootstrap=False, max_depth=20, max_features=sqrt, min_samples_leaf=89, min_samples_split=50, n_estimators=1791;, score=0.511 total time=  10.9s\n",
      "[CV 4/5] END bootstrap=False, max_depth=20, max_features=sqrt, min_samples_leaf=89, min_samples_split=50, n_estimators=1791;, score=0.523 total time=  10.9s\n",
      "[CV 1/5] END bootstrap=True, max_depth=325, max_features=sqrt, min_samples_leaf=12, min_samples_split=7, n_estimators=2395;, score=0.604 total time=  16.5s\n",
      "[CV 3/5] END bootstrap=True, max_depth=325, max_features=sqrt, min_samples_leaf=12, min_samples_split=7, n_estimators=2395;, score=0.612 total time=  16.6s\n",
      "[CV 5/5] END bootstrap=True, max_depth=325, max_features=sqrt, min_samples_leaf=12, min_samples_split=7, n_estimators=2395;, score=0.621 total time=  16.6s\n",
      "[CV 2/5] END bootstrap=False, max_depth=230, max_features=auto, min_samples_leaf=34, min_samples_split=44, n_estimators=342;, score=0.558 total time=  13.3s\n",
      "[CV 4/5] END bootstrap=False, max_depth=230, max_features=auto, min_samples_leaf=34, min_samples_split=44, n_estimators=342;, score=0.560 total time=  14.0s\n",
      "[CV 1/5] END bootstrap=True, max_depth=245, max_features=sqrt, min_samples_leaf=1, min_samples_split=50, n_estimators=2093;, score=0.599 total time=  14.1s\n",
      "[CV 3/5] END bootstrap=True, max_depth=245, max_features=sqrt, min_samples_leaf=1, min_samples_split=50, n_estimators=2093;, score=0.603 total time=  14.1s\n",
      "[CV 5/5] END bootstrap=True, max_depth=245, max_features=sqrt, min_samples_leaf=1, min_samples_split=50, n_estimators=2093;, score=0.613 total time=  14.2s\n",
      "[CV 5/5] END bootstrap=False, max_depth=450, max_features=auto, min_samples_leaf=89, min_samples_split=44, n_estimators=130;, score=0.497 total time=   3.9s\n",
      "[CV 2/5] END bootstrap=False, max_depth=90, max_features=auto, min_samples_leaf=12, min_samples_split=23, n_estimators=2486;, score=0.565 total time= 2.1min\n",
      "[CV 4/5] END bootstrap=False, max_depth=90, max_features=auto, min_samples_leaf=12, min_samples_split=23, n_estimators=2486;, score=0.587 total time= 2.2min\n",
      "[CV 1/5] END bootstrap=False, max_depth=185, max_features=sqrt, min_samples_leaf=67, min_samples_split=23, n_estimators=2697;, score=0.527 total time=  18.0s\n",
      "[CV 2/5] END bootstrap=False, max_depth=185, max_features=sqrt, min_samples_leaf=67, min_samples_split=23, n_estimators=2697;, score=0.538 total time=  18.1s\n",
      "[CV 3/5] END bootstrap=False, max_depth=185, max_features=sqrt, min_samples_leaf=67, min_samples_split=23, n_estimators=2697;, score=0.522 total time=  18.0s\n",
      "[CV 4/5] END bootstrap=False, max_depth=185, max_features=sqrt, min_samples_leaf=67, min_samples_split=23, n_estimators=2697;, score=0.550 total time=  17.9s\n",
      "[CV 5/5] END bootstrap=False, max_depth=185, max_features=sqrt, min_samples_leaf=67, min_samples_split=23, n_estimators=2697;, score=0.527 total time=  18.0s\n",
      "[CV 1/5] END bootstrap=False, max_depth=355, max_features=auto, min_samples_leaf=12, min_samples_split=50, n_estimators=2063;, score=0.496 total time= 1.5min\n",
      "[CV 3/5] END bootstrap=False, max_depth=355, max_features=auto, min_samples_leaf=12, min_samples_split=50, n_estimators=2063;, score=0.533 total time= 1.6min\n",
      "[CV 5/5] END bootstrap=False, max_depth=355, max_features=auto, min_samples_leaf=12, min_samples_split=50, n_estimators=2063;, score=0.562 total time= 1.5min\n",
      "[CV 2/5] END bootstrap=False, max_depth=65, max_features=auto, min_samples_leaf=12, min_samples_split=7, n_estimators=2033;, score=0.565 total time= 1.7min\n",
      "[CV 4/5] END bootstrap=False, max_depth=65, max_features=auto, min_samples_leaf=12, min_samples_split=7, n_estimators=2033;, score=0.587 total time= 1.8min\n",
      "[CV 1/5] END bootstrap=True, max_depth=425, max_features=sqrt, min_samples_leaf=78, min_samples_split=23, n_estimators=1973;, score=0.474 total time=   9.6s\n",
      "[CV 2/5] END bootstrap=True, max_depth=425, max_features=sqrt, min_samples_leaf=78, min_samples_split=23, n_estimators=1973;, score=0.477 total time=   9.4s\n",
      "[CV 3/5] END bootstrap=True, max_depth=425, max_features=sqrt, min_samples_leaf=78, min_samples_split=23, n_estimators=1973;, score=0.465 total time=   9.4s\n",
      "[CV 4/5] END bootstrap=True, max_depth=425, max_features=sqrt, min_samples_leaf=78, min_samples_split=23, n_estimators=1973;, score=0.490 total time=   9.4s\n",
      "[CV 5/5] END bootstrap=True, max_depth=425, max_features=sqrt, min_samples_leaf=78, min_samples_split=23, n_estimators=1973;, score=0.467 total time=   9.5s\n",
      "[CV 1/5] END bootstrap=True, max_depth=485, max_features=sqrt, min_samples_leaf=67, min_samples_split=50, n_estimators=1731;, score=0.489 total time=   8.6s\n",
      "[CV 2/5] END bootstrap=True, max_depth=485, max_features=sqrt, min_samples_leaf=67, min_samples_split=50, n_estimators=1731;, score=0.493 total time=   8.7s\n",
      "[CV 3/5] END bootstrap=True, max_depth=485, max_features=sqrt, min_samples_leaf=67, min_samples_split=50, n_estimators=1731;, score=0.480 total time=   8.6s\n",
      "[CV 5/5] END bootstrap=True, max_depth=485, max_features=sqrt, min_samples_leaf=67, min_samples_split=50, n_estimators=1731;, score=0.482 total time=   8.5s\n",
      "[CV 2/5] END bootstrap=False, max_depth=15, max_features=sqrt, min_samples_leaf=89, min_samples_split=44, n_estimators=2697;, score=0.511 total time=  16.5s\n",
      "[CV 4/5] END bootstrap=False, max_depth=15, max_features=sqrt, min_samples_leaf=89, min_samples_split=44, n_estimators=2697;, score=0.523 total time=  16.6s\n",
      "[CV 1/5] END bootstrap=False, max_depth=455, max_features=auto, min_samples_leaf=67, min_samples_split=12, n_estimators=2184;, score=0.466 total time= 1.2min\n",
      "[CV 3/5] END bootstrap=False, max_depth=455, max_features=auto, min_samples_leaf=67, min_samples_split=12, n_estimators=2184;, score=0.517 total time= 1.2min\n",
      "[CV 5/5] END bootstrap=False, max_depth=455, max_features=auto, min_samples_leaf=67, min_samples_split=12, n_estimators=2184;, score=0.522 total time= 1.2min\n",
      "[CV 3/5] END bootstrap=True, max_depth=230, max_features=auto, min_samples_leaf=12, min_samples_split=23, n_estimators=1550;, score=0.645 total time=  50.7s\n",
      "[CV 5/5] END bootstrap=True, max_depth=230, max_features=auto, min_samples_leaf=12, min_samples_split=23, n_estimators=1550;, score=0.661 total time=  50.3s\n",
      "[CV 3/5] END bootstrap=True, max_depth=70, max_features=sqrt, min_samples_leaf=45, min_samples_split=50, n_estimators=1459;, score=0.515 total time=   8.1s\n",
      "[CV 5/5] END bootstrap=True, max_depth=70, max_features=sqrt, min_samples_leaf=45, min_samples_split=50, n_estimators=1459;, score=0.520 total time=   7.8s\n",
      "[CV 2/5] END bootstrap=False, max_depth=185, max_features=auto, min_samples_leaf=45, min_samples_split=44, n_estimators=2124;, score=0.549 total time= 1.3min\n",
      "[CV 4/5] END bootstrap=False, max_depth=185, max_features=auto, min_samples_leaf=45, min_samples_split=44, n_estimators=2124;, score=0.537 total time= 1.3min\n",
      "[CV 1/5] END bootstrap=True, max_depth=455, max_features=sqrt, min_samples_leaf=34, min_samples_split=18, n_estimators=1399;, score=0.542 total time=   7.8s\n",
      "[CV 1/5] END bootstrap=True, max_depth=230, max_features=auto, min_samples_leaf=12, min_samples_split=23, n_estimators=1550;, score=0.626 total time=  49.8s\n",
      "[CV 2/5] END bootstrap=True, max_depth=230, max_features=auto, min_samples_leaf=12, min_samples_split=23, n_estimators=1550;, score=0.660 total time=  49.7s\n",
      "[CV 4/5] END bootstrap=True, max_depth=230, max_features=auto, min_samples_leaf=12, min_samples_split=23, n_estimators=1550;, score=0.669 total time=  50.8s\n",
      "[CV 1/5] END bootstrap=True, max_depth=70, max_features=sqrt, min_samples_leaf=45, min_samples_split=50, n_estimators=1459;, score=0.522 total time=   7.8s\n",
      "[CV 2/5] END bootstrap=True, max_depth=70, max_features=sqrt, min_samples_leaf=45, min_samples_split=50, n_estimators=1459;, score=0.530 total time=   8.0s\n",
      "[CV 4/5] END bootstrap=True, max_depth=70, max_features=sqrt, min_samples_leaf=45, min_samples_split=50, n_estimators=1459;, score=0.544 total time=   7.8s\n",
      "[CV 1/5] END bootstrap=False, max_depth=185, max_features=auto, min_samples_leaf=45, min_samples_split=44, n_estimators=2124;, score=0.513 total time= 1.3min\n",
      "[CV 3/5] END bootstrap=False, max_depth=185, max_features=auto, min_samples_leaf=45, min_samples_split=44, n_estimators=2124;, score=0.523 total time= 1.3min\n",
      "[CV 5/5] END bootstrap=False, max_depth=185, max_features=auto, min_samples_leaf=45, min_samples_split=44, n_estimators=2124;, score=0.543 total time= 1.3min\n",
      "[CV 4/5] END bootstrap=True, max_depth=300, max_features=sqrt, min_samples_leaf=34, min_samples_split=12, n_estimators=2788;, score=0.567 total time=  15.9s\n",
      "[CV 1/5] END bootstrap=True, max_depth=150, max_features=sqrt, min_samples_leaf=34, min_samples_split=39, n_estimators=493;, score=0.542 total time=   2.8s\n",
      "[CV 2/5] END bootstrap=True, max_depth=150, max_features=sqrt, min_samples_leaf=34, min_samples_split=39, n_estimators=493;, score=0.556 total time=   2.8s\n",
      "[CV 3/5] END bootstrap=True, max_depth=150, max_features=sqrt, min_samples_leaf=34, min_samples_split=39, n_estimators=493;, score=0.537 total time=   2.8s\n",
      "[CV 4/5] END bootstrap=True, max_depth=150, max_features=sqrt, min_samples_leaf=34, min_samples_split=39, n_estimators=493;, score=0.567 total time=   2.8s\n",
      "[CV 5/5] END bootstrap=True, max_depth=150, max_features=sqrt, min_samples_leaf=34, min_samples_split=39, n_estimators=493;, score=0.546 total time=   2.8s\n",
      "[CV 2/5] END bootstrap=True, max_depth=60, max_features=sqrt, min_samples_leaf=67, min_samples_split=44, n_estimators=2063;, score=0.493 total time=  10.3s\n",
      "[CV 4/5] END bootstrap=True, max_depth=60, max_features=sqrt, min_samples_leaf=67, min_samples_split=44, n_estimators=2063;, score=0.505 total time=  10.3s\n",
      "[CV 1/5] END bootstrap=False, max_depth=175, max_features=sqrt, min_samples_leaf=45, min_samples_split=28, n_estimators=614;, score=0.559 total time=   4.5s\n",
      "[CV 2/5] END bootstrap=False, max_depth=175, max_features=sqrt, min_samples_leaf=45, min_samples_split=28, n_estimators=614;, score=0.572 total time=   4.5s\n",
      "[CV 3/5] END bootstrap=False, max_depth=175, max_features=sqrt, min_samples_leaf=45, min_samples_split=28, n_estimators=614;, score=0.555 total time=   4.4s\n",
      "[CV 5/5] END bootstrap=False, max_depth=175, max_features=sqrt, min_samples_leaf=45, min_samples_split=28, n_estimators=614;, score=0.560 total time=   4.4s\n",
      "[CV 2/5] END bootstrap=False, max_depth=410, max_features=auto, min_samples_leaf=100, min_samples_split=12, n_estimators=885;, score=0.487 total time=  25.7s\n",
      "[CV 4/5] END bootstrap=False, max_depth=410, max_features=auto, min_samples_leaf=100, min_samples_split=12, n_estimators=885;, score=0.516 total time=  26.5s\n",
      "[CV 1/5] END bootstrap=True, max_depth=495, max_features=auto, min_samples_leaf=56, min_samples_split=12, n_estimators=2365;, score=0.535 total time=  51.6s\n",
      "[CV 3/5] END bootstrap=True, max_depth=495, max_features=auto, min_samples_leaf=56, min_samples_split=12, n_estimators=2365;, score=0.545 total time=  52.0s\n",
      "[CV 5/5] END bootstrap=True, max_depth=495, max_features=auto, min_samples_leaf=56, min_samples_split=12, n_estimators=2365;, score=0.561 total time=  51.2s\n",
      "[CV 5/5] END bootstrap=True, max_depth=375, max_features=sqrt, min_samples_leaf=34, min_samples_split=12, n_estimators=1701;, score=0.545 total time=   9.8s\n",
      "[CV 2/5] END bootstrap=False, max_depth=290, max_features=auto, min_samples_leaf=56, min_samples_split=50, n_estimators=2486;, score=0.547 total time= 1.4min\n",
      "[CV 4/5] END bootstrap=False, max_depth=290, max_features=auto, min_samples_leaf=56, min_samples_split=50, n_estimators=2486;, score=0.539 total time= 1.5min\n",
      "[CV 1/5] END bootstrap=True, max_depth=430, max_features=sqrt, min_samples_leaf=56, min_samples_split=23, n_estimators=855;, score=0.505 total time=   4.3s\n",
      "[CV 2/5] END bootstrap=True, max_depth=430, max_features=sqrt, min_samples_leaf=56, min_samples_split=23, n_estimators=855;, score=0.510 total time=   4.3s\n",
      "[CV 3/5] END bootstrap=True, max_depth=430, max_features=sqrt, min_samples_leaf=56, min_samples_split=23, n_estimators=855;, score=0.495 total time=   4.3s\n",
      "[CV 4/5] END bootstrap=True, max_depth=430, max_features=sqrt, min_samples_leaf=56, min_samples_split=23, n_estimators=855;, score=0.522 total time=   4.3s\n",
      "[CV 5/5] END bootstrap=True, max_depth=430, max_features=sqrt, min_samples_leaf=56, min_samples_split=23, n_estimators=855;, score=0.501 total time=   4.4s\n",
      "[CV 1/5] END bootstrap=True, max_depth=15, max_features=auto, min_samples_leaf=34, min_samples_split=12, n_estimators=2093;, score=0.574 total time=  52.3s\n",
      "[CV 2/5] END bootstrap=True, max_depth=15, max_features=auto, min_samples_leaf=34, min_samples_split=12, n_estimators=2093;, score=0.603 total time=  52.0s\n",
      "[CV 4/5] END bootstrap=True, max_depth=15, max_features=auto, min_samples_leaf=34, min_samples_split=12, n_estimators=2093;, score=0.618 total time=  53.0s\n",
      "[CV 1/5] END bootstrap=True, max_depth=480, max_features=auto, min_samples_leaf=45, min_samples_split=28, n_estimators=2939;, score=0.555 total time= 1.1min\n",
      "[CV 3/5] END bootstrap=True, max_depth=480, max_features=auto, min_samples_leaf=45, min_samples_split=28, n_estimators=2939;, score=0.565 total time= 1.1min\n",
      "[CV 5/5] END bootstrap=True, max_depth=480, max_features=auto, min_samples_leaf=45, min_samples_split=28, n_estimators=2939;, score=0.580 total time= 1.1min\n",
      "[CV 3/5] END bootstrap=False, max_depth=345, max_features=auto, min_samples_leaf=1, min_samples_split=50, n_estimators=765;, score=0.551 total time=  37.7s\n",
      "[CV 5/5] END bootstrap=False, max_depth=345, max_features=auto, min_samples_leaf=1, min_samples_split=50, n_estimators=765;, score=0.578 total time=  36.3s\n",
      "[CV 2/5] END bootstrap=True, max_depth=395, max_features=auto, min_samples_leaf=89, min_samples_split=50, n_estimators=2003;, score=0.507 total time=  37.6s\n",
      "[CV 4/5] END bootstrap=True, max_depth=395, max_features=auto, min_samples_leaf=89, min_samples_split=50, n_estimators=2003;, score=0.551 total time=  38.4s\n",
      "[CV 1/5] END bootstrap=False, max_depth=155, max_features=auto, min_samples_leaf=1, min_samples_split=18, n_estimators=1822;, score=0.432 total time= 1.9min\n",
      "[CV 3/5] END bootstrap=False, max_depth=155, max_features=auto, min_samples_leaf=1, min_samples_split=18, n_estimators=1822;, score=0.514 total time= 1.9min\n",
      "[CV 5/5] END bootstrap=False, max_depth=155, max_features=auto, min_samples_leaf=1, min_samples_split=18, n_estimators=1822;, score=0.510 total time= 1.8min\n",
      "[CV 5/5] END bootstrap=False, max_depth=330, max_features=sqrt, min_samples_leaf=12, min_samples_split=23, n_estimators=2546;, score=0.653 total time=  24.2s\n",
      "[CV 2/5] END bootstrap=True, max_depth=205, max_features=sqrt, min_samples_leaf=100, min_samples_split=2, n_estimators=2969;, score=0.448 total time=  13.5s\n",
      "[CV 4/5] END bootstrap=True, max_depth=205, max_features=sqrt, min_samples_leaf=100, min_samples_split=2, n_estimators=2969;, score=0.461 total time=  13.5s\n",
      "[CV 1/5] END bootstrap=False, max_depth=175, max_features=sqrt, min_samples_leaf=89, min_samples_split=23, n_estimators=2909;, score=0.504 total time=  17.9s\n",
      "[CV 3/5] END bootstrap=False, max_depth=175, max_features=sqrt, min_samples_leaf=89, min_samples_split=23, n_estimators=2909;, score=0.496 total time=  17.9s\n",
      "[CV 2/5] END bootstrap=True, max_depth=455, max_features=sqrt, min_samples_leaf=34, min_samples_split=18, n_estimators=1399;, score=0.556 total time=   7.9s\n",
      "[CV 3/5] END bootstrap=True, max_depth=455, max_features=sqrt, min_samples_leaf=34, min_samples_split=18, n_estimators=1399;, score=0.537 total time=   7.9s\n",
      "[CV 4/5] END bootstrap=True, max_depth=455, max_features=sqrt, min_samples_leaf=34, min_samples_split=18, n_estimators=1399;, score=0.568 total time=   7.9s\n",
      "[CV 5/5] END bootstrap=True, max_depth=455, max_features=sqrt, min_samples_leaf=34, min_samples_split=18, n_estimators=1399;, score=0.545 total time=   7.9s\n",
      "[CV 1/5] END bootstrap=True, max_depth=300, max_features=sqrt, min_samples_leaf=34, min_samples_split=12, n_estimators=2788;, score=0.542 total time=  16.0s\n",
      "[CV 2/5] END bootstrap=True, max_depth=300, max_features=sqrt, min_samples_leaf=34, min_samples_split=12, n_estimators=2788;, score=0.556 total time=  15.8s\n",
      "[CV 3/5] END bootstrap=True, max_depth=300, max_features=sqrt, min_samples_leaf=34, min_samples_split=12, n_estimators=2788;, score=0.538 total time=  15.9s\n",
      "[CV 5/5] END bootstrap=True, max_depth=300, max_features=sqrt, min_samples_leaf=34, min_samples_split=12, n_estimators=2788;, score=0.545 total time=  15.8s\n",
      "[CV 1/5] END bootstrap=True, max_depth=60, max_features=sqrt, min_samples_leaf=67, min_samples_split=44, n_estimators=2063;, score=0.489 total time=  10.2s\n",
      "[CV 3/5] END bootstrap=True, max_depth=60, max_features=sqrt, min_samples_leaf=67, min_samples_split=44, n_estimators=2063;, score=0.479 total time=  10.3s\n",
      "[CV 5/5] END bootstrap=True, max_depth=60, max_features=sqrt, min_samples_leaf=67, min_samples_split=44, n_estimators=2063;, score=0.483 total time=  10.2s\n",
      "[CV 4/5] END bootstrap=False, max_depth=175, max_features=sqrt, min_samples_leaf=45, min_samples_split=28, n_estimators=614;, score=0.583 total time=   4.4s\n",
      "[CV 1/5] END bootstrap=False, max_depth=410, max_features=auto, min_samples_leaf=100, min_samples_split=12, n_estimators=885;, score=0.434 total time=  25.3s\n",
      "[CV 3/5] END bootstrap=False, max_depth=410, max_features=auto, min_samples_leaf=100, min_samples_split=12, n_estimators=885;, score=0.479 total time=  25.5s\n",
      "[CV 5/5] END bootstrap=False, max_depth=410, max_features=auto, min_samples_leaf=100, min_samples_split=12, n_estimators=885;, score=0.484 total time=  25.9s\n",
      "[CV 2/5] END bootstrap=True, max_depth=495, max_features=auto, min_samples_leaf=56, min_samples_split=12, n_estimators=2365;, score=0.556 total time=  50.9s\n",
      "[CV 4/5] END bootstrap=True, max_depth=495, max_features=auto, min_samples_leaf=56, min_samples_split=12, n_estimators=2365;, score=0.586 total time=  52.2s\n",
      "[CV 1/5] END bootstrap=True, max_depth=375, max_features=sqrt, min_samples_leaf=34, min_samples_split=12, n_estimators=1701;, score=0.542 total time=   9.7s\n",
      "[CV 2/5] END bootstrap=True, max_depth=375, max_features=sqrt, min_samples_leaf=34, min_samples_split=12, n_estimators=1701;, score=0.556 total time=   9.6s\n",
      "[CV 3/5] END bootstrap=True, max_depth=375, max_features=sqrt, min_samples_leaf=34, min_samples_split=12, n_estimators=1701;, score=0.538 total time=   9.6s\n",
      "[CV 4/5] END bootstrap=True, max_depth=375, max_features=sqrt, min_samples_leaf=34, min_samples_split=12, n_estimators=1701;, score=0.568 total time=   9.8s\n",
      "[CV 1/5] END bootstrap=False, max_depth=290, max_features=auto, min_samples_leaf=56, min_samples_split=50, n_estimators=2486;, score=0.486 total time= 1.4min\n",
      "[CV 3/5] END bootstrap=False, max_depth=290, max_features=auto, min_samples_leaf=56, min_samples_split=50, n_estimators=2486;, score=0.513 total time= 1.4min\n",
      "[CV 5/5] END bootstrap=False, max_depth=290, max_features=auto, min_samples_leaf=56, min_samples_split=50, n_estimators=2486;, score=0.532 total time= 1.4min\n",
      "[CV 3/5] END bootstrap=True, max_depth=15, max_features=auto, min_samples_leaf=34, min_samples_split=12, n_estimators=2093;, score=0.582 total time=  52.8s\n",
      "[CV 5/5] END bootstrap=True, max_depth=15, max_features=auto, min_samples_leaf=34, min_samples_split=12, n_estimators=2093;, score=0.602 total time=  52.4s\n",
      "[CV 2/5] END bootstrap=True, max_depth=480, max_features=auto, min_samples_leaf=45, min_samples_split=28, n_estimators=2939;, score=0.580 total time= 1.1min\n",
      "[CV 4/5] END bootstrap=True, max_depth=480, max_features=auto, min_samples_leaf=45, min_samples_split=28, n_estimators=2939;, score=0.602 total time= 1.2min\n",
      "[CV 1/5] END bootstrap=False, max_depth=345, max_features=auto, min_samples_leaf=1, min_samples_split=50, n_estimators=765;, score=0.482 total time=  37.3s\n",
      "[CV 2/5] END bootstrap=False, max_depth=345, max_features=auto, min_samples_leaf=1, min_samples_split=50, n_estimators=765;, score=0.547 total time=  37.8s\n",
      "[CV 4/5] END bootstrap=False, max_depth=345, max_features=auto, min_samples_leaf=1, min_samples_split=50, n_estimators=765;, score=0.545 total time=  40.9s\n",
      "[CV 1/5] END bootstrap=True, max_depth=395, max_features=auto, min_samples_leaf=89, min_samples_split=50, n_estimators=2003;, score=0.490 total time=  37.8s\n",
      "[CV 3/5] END bootstrap=True, max_depth=395, max_features=auto, min_samples_leaf=89, min_samples_split=50, n_estimators=2003;, score=0.505 total time=  38.1s\n",
      "[CV 5/5] END bootstrap=True, max_depth=395, max_features=auto, min_samples_leaf=89, min_samples_split=50, n_estimators=2003;, score=0.521 total time=  37.9s\n",
      "[CV 2/5] END bootstrap=False, max_depth=155, max_features=auto, min_samples_leaf=1, min_samples_split=18, n_estimators=1822;, score=0.509 total time= 1.9min\n",
      "[CV 4/5] END bootstrap=False, max_depth=155, max_features=auto, min_samples_leaf=1, min_samples_split=18, n_estimators=1822;, score=0.476 total time= 2.0min\n",
      "[CV 1/5] END bootstrap=True, max_depth=70, max_features=sqrt, min_samples_leaf=67, min_samples_split=23, n_estimators=40;, score=0.489 total time=   0.2s\n",
      "[CV 2/5] END bootstrap=True, max_depth=70, max_features=sqrt, min_samples_leaf=67, min_samples_split=23, n_estimators=40;, score=0.493 total time=   0.2s\n",
      "[CV 3/5] END bootstrap=True, max_depth=70, max_features=sqrt, min_samples_leaf=67, min_samples_split=23, n_estimators=40;, score=0.481 total time=   0.2s\n",
      "[CV 4/5] END bootstrap=True, max_depth=70, max_features=sqrt, min_samples_leaf=67, min_samples_split=23, n_estimators=40;, score=0.505 total time=   0.2s\n",
      "[CV 5/5] END bootstrap=True, max_depth=70, max_features=sqrt, min_samples_leaf=67, min_samples_split=23, n_estimators=40;, score=0.478 total time=   0.2s\n",
      "[CV 1/5] END bootstrap=False, max_depth=330, max_features=sqrt, min_samples_leaf=12, min_samples_split=23, n_estimators=2546;, score=0.629 total time=  24.6s\n",
      "[CV 2/5] END bootstrap=False, max_depth=330, max_features=sqrt, min_samples_leaf=12, min_samples_split=23, n_estimators=2546;, score=0.665 total time=  24.6s\n",
      "[CV 3/5] END bootstrap=False, max_depth=330, max_features=sqrt, min_samples_leaf=12, min_samples_split=23, n_estimators=2546;, score=0.646 total time=  24.7s\n",
      "[CV 4/5] END bootstrap=False, max_depth=330, max_features=sqrt, min_samples_leaf=12, min_samples_split=23, n_estimators=2546;, score=0.667 total time=  24.5s\n",
      "[CV 1/5] END bootstrap=True, max_depth=205, max_features=sqrt, min_samples_leaf=100, min_samples_split=2, n_estimators=2969;, score=0.449 total time=  13.4s\n",
      "[CV 3/5] END bootstrap=True, max_depth=205, max_features=sqrt, min_samples_leaf=100, min_samples_split=2, n_estimators=2969;, score=0.436 total time=  13.4s\n",
      "[CV 5/5] END bootstrap=True, max_depth=205, max_features=sqrt, min_samples_leaf=100, min_samples_split=2, n_estimators=2969;, score=0.438 total time=  13.5s\n",
      "[CV 2/5] END bootstrap=False, max_depth=175, max_features=sqrt, min_samples_leaf=89, min_samples_split=23, n_estimators=2909;, score=0.511 total time=  17.8s\n",
      "[CV 4/5] END bootstrap=False, max_depth=175, max_features=sqrt, min_samples_leaf=89, min_samples_split=23, n_estimators=2909;, score=0.523 total time=  18.0s\n",
      "[CV 1/5] END bootstrap=False, max_depth=500, max_features=auto, min_samples_leaf=89, min_samples_split=50, n_estimators=2788;, score=0.457 total time= 1.4min\n",
      "[CV 3/5] END bootstrap=False, max_depth=500, max_features=auto, min_samples_leaf=89, min_samples_split=50, n_estimators=2788;, score=0.481 total time= 1.4min\n"
     ]
    },
    {
     "data": {
      "text/plain": [
       "RandomizedSearchCV(estimator=RandomForestRegressor(random_state=1509),\n",
       "                   n_iter=100, n_jobs=-1,\n",
       "                   param_distributions={'bootstrap': [True, False],\n",
       "                                        'max_depth': [5, 10, 15, 20, 25, 30, 35,\n",
       "                                                      40, 45, 50, 55, 60, 65,\n",
       "                                                      70, 75, 80, 85, 90, 95,\n",
       "                                                      100, 105, 110, 115, 120,\n",
       "                                                      125, 130, 135, 140, 145,\n",
       "                                                      150, ...],\n",
       "                                        'max_features': ['auto', 'sqrt'],\n",
       "                                        'min_samples_leaf': [1, 12, 23, 34, 45,\n",
       "                                                             56, 67, 78, 89,\n",
       "                                                             100],\n",
       "                                        'min_samples_split': [2, 7, 12, 18, 23,\n",
       "                                                              28, 34, 39, 44,\n",
       "                                                              50],\n",
       "                                        'n_estimators': [10, 40, 70, 100, 130,\n",
       "                                                         161, 191, 221, 251,\n",
       "                                                         281, 312, 342, 372,\n",
       "                                                         402, 432, 463, 493,\n",
       "                                                         523, 553, 583, 614,\n",
       "                                                         644, 674, 704, 734,\n",
       "                                                         765, 795, 825, 855,\n",
       "                                                         885, ...]},\n",
       "                   random_state=1509, scoring='r2', verbose=3)"
      ]
     },
     "execution_count": 21,
     "metadata": {},
     "output_type": "execute_result"
    },
    {
     "name": "stdout",
     "output_type": "stream",
     "text": [
      "[CV 5/5] END bootstrap=False, max_depth=500, max_features=auto, min_samples_leaf=89, min_samples_split=50, n_estimators=2788;, score=0.497 total time= 1.4min\n",
      "[CV 3/5] END bootstrap=True, max_depth=110, max_features=auto, min_samples_leaf=100, min_samples_split=39, n_estimators=2214;, score=0.495 total time=  40.8s\n",
      "[CV 5/5] END bootstrap=True, max_depth=110, max_features=auto, min_samples_leaf=100, min_samples_split=39, n_estimators=2214;, score=0.512 total time=  40.3s\n",
      "[CV 2/5] END bootstrap=True, max_depth=460, max_features=auto, min_samples_leaf=89, min_samples_split=2, n_estimators=1218;, score=0.508 total time=  22.7s\n",
      "[CV 4/5] END bootstrap=True, max_depth=460, max_features=auto, min_samples_leaf=89, min_samples_split=2, n_estimators=1218;, score=0.551 total time=  23.4s\n",
      "[CV 1/5] END bootstrap=True, max_depth=470, max_features=auto, min_samples_leaf=89, min_samples_split=23, n_estimators=644;, score=0.488 total time=  12.1s\n",
      "[CV 3/5] END bootstrap=True, max_depth=470, max_features=auto, min_samples_leaf=89, min_samples_split=23, n_estimators=644;, score=0.504 total time=  12.3s\n",
      "[CV 5/5] END bootstrap=True, max_depth=470, max_features=auto, min_samples_leaf=89, min_samples_split=23, n_estimators=644;, score=0.521 total time=  12.1s\n",
      "[CV 2/5] END bootstrap=True, max_depth=340, max_features=auto, min_samples_leaf=56, min_samples_split=50, n_estimators=2728;, score=0.556 total time=  58.8s\n",
      "[CV 4/5] END bootstrap=True, max_depth=340, max_features=auto, min_samples_leaf=56, min_samples_split=50, n_estimators=2728;, score=0.586 total time= 1.0min\n",
      "[CV 1/5] END bootstrap=False, max_depth=165, max_features=auto, min_samples_leaf=12, min_samples_split=39, n_estimators=614;, score=0.494 total time=  28.0s\n",
      "[CV 2/5] END bootstrap=False, max_depth=165, max_features=auto, min_samples_leaf=12, min_samples_split=39, n_estimators=614;, score=0.575 total time=  28.7s\n",
      "[CV 3/5] END bootstrap=False, max_depth=165, max_features=auto, min_samples_leaf=12, min_samples_split=39, n_estimators=614;, score=0.536 total time=  29.2s\n",
      "[CV 5/5] END bootstrap=False, max_depth=165, max_features=auto, min_samples_leaf=12, min_samples_split=39, n_estimators=614;, score=0.559 total time=  28.2s\n",
      "[CV 2/5] END bootstrap=False, max_depth=100, max_features=auto, min_samples_leaf=12, min_samples_split=34, n_estimators=2124;, score=0.564 total time= 1.7min\n",
      "[CV 4/5] END bootstrap=False, max_depth=100, max_features=auto, min_samples_leaf=12, min_samples_split=34, n_estimators=2124;, score=0.583 total time= 1.8min\n",
      "[CV 1/5] END bootstrap=True, max_depth=375, max_features=auto, min_samples_leaf=67, min_samples_split=18, n_estimators=2758;, score=0.513 total time=  56.8s\n",
      "[CV 2/5] END bootstrap=True, max_depth=375, max_features=auto, min_samples_leaf=67, min_samples_split=18, n_estimators=2758;, score=0.537 total time=  56.5s\n",
      "[CV 4/5] END bootstrap=True, max_depth=375, max_features=auto, min_samples_leaf=67, min_samples_split=18, n_estimators=2758;, score=0.572 total time=  57.5s\n",
      "[CV 1/5] END bootstrap=True, max_depth=455, max_features=sqrt, min_samples_leaf=1, min_samples_split=39, n_estimators=2365;, score=0.611 total time=  16.6s\n",
      "[CV 3/5] END bootstrap=True, max_depth=455, max_features=sqrt, min_samples_leaf=1, min_samples_split=39, n_estimators=2365;, score=0.620 total time=  16.6s\n",
      "[CV 5/5] END bootstrap=True, max_depth=455, max_features=sqrt, min_samples_leaf=1, min_samples_split=39, n_estimators=2365;, score=0.629 total time=  16.5s\n",
      "[CV 2/5] END bootstrap=False, max_depth=285, max_features=sqrt, min_samples_leaf=100, min_samples_split=23, n_estimators=2003;, score=0.500 total time=  11.9s\n",
      "[CV 4/5] END bootstrap=False, max_depth=285, max_features=sqrt, min_samples_leaf=100, min_samples_split=23, n_estimators=2003;, score=0.512 total time=  11.8s\n",
      "[CV 1/5] END bootstrap=False, max_depth=45, max_features=sqrt, min_samples_leaf=23, min_samples_split=18, n_estimators=523;, score=0.598 total time=   4.3s\n",
      "[CV 2/5] END bootstrap=False, max_depth=45, max_features=sqrt, min_samples_leaf=23, min_samples_split=18, n_estimators=523;, score=0.627 total time=   4.3s\n",
      "[CV 4/5] END bootstrap=False, max_depth=45, max_features=sqrt, min_samples_leaf=23, min_samples_split=18, n_estimators=523;, score=0.630 total time=   4.4s\n",
      "[CV 1/5] END bootstrap=False, max_depth=465, max_features=auto, min_samples_leaf=45, min_samples_split=2, n_estimators=1852;, score=0.513 total time= 1.1min\n",
      "[CV 3/5] END bootstrap=False, max_depth=465, max_features=auto, min_samples_leaf=45, min_samples_split=2, n_estimators=1852;, score=0.523 total time= 1.1min\n",
      "[CV 5/5] END bootstrap=False, max_depth=465, max_features=auto, min_samples_leaf=45, min_samples_split=2, n_estimators=1852;, score=0.543 total time= 1.1min\n",
      "[CV 1/5] END bootstrap=True, max_depth=435, max_features=auto, min_samples_leaf=56, min_samples_split=18, n_estimators=2758;, score=0.535 total time= 1.0min\n",
      "[CV 3/5] END bootstrap=True, max_depth=435, max_features=auto, min_samples_leaf=56, min_samples_split=18, n_estimators=2758;, score=0.545 total time= 1.0min\n",
      "[CV 5/5] END bootstrap=True, max_depth=435, max_features=auto, min_samples_leaf=56, min_samples_split=18, n_estimators=2758;, score=0.561 total time=  59.9s\n",
      "[CV 3/5] END bootstrap=True, max_depth=390, max_features=auto, min_samples_leaf=56, min_samples_split=44, n_estimators=1912;, score=0.545 total time=  41.9s\n",
      "[CV 5/5] END bootstrap=True, max_depth=390, max_features=auto, min_samples_leaf=56, min_samples_split=44, n_estimators=1912;, score=0.561 total time=  41.6s\n",
      "[CV 2/5] END bootstrap=True, max_depth=350, max_features=auto, min_samples_leaf=23, min_samples_split=50, n_estimators=1127;, score=0.627 total time=  30.6s\n",
      "[CV 4/5] END bootstrap=True, max_depth=350, max_features=auto, min_samples_leaf=23, min_samples_split=50, n_estimators=1127;, score=0.639 total time=  31.2s\n",
      "[CV 5/5] END bootstrap=False, max_depth=175, max_features=sqrt, min_samples_leaf=89, min_samples_split=23, n_estimators=2909;, score=0.500 total time=  17.9s\n",
      "[CV 2/5] END bootstrap=False, max_depth=500, max_features=auto, min_samples_leaf=89, min_samples_split=50, n_estimators=2788;, score=0.507 total time= 1.4min\n",
      "[CV 4/5] END bootstrap=False, max_depth=500, max_features=auto, min_samples_leaf=89, min_samples_split=50, n_estimators=2788;, score=0.525 total time= 1.5min\n",
      "[CV 1/5] END bootstrap=True, max_depth=210, max_features=sqrt, min_samples_leaf=78, min_samples_split=39, n_estimators=191;, score=0.476 total time=   0.9s\n",
      "[CV 2/5] END bootstrap=True, max_depth=210, max_features=sqrt, min_samples_leaf=78, min_samples_split=39, n_estimators=191;, score=0.476 total time=   0.9s\n",
      "[CV 3/5] END bootstrap=True, max_depth=210, max_features=sqrt, min_samples_leaf=78, min_samples_split=39, n_estimators=191;, score=0.465 total time=   0.9s\n",
      "[CV 4/5] END bootstrap=True, max_depth=210, max_features=sqrt, min_samples_leaf=78, min_samples_split=39, n_estimators=191;, score=0.490 total time=   0.9s\n",
      "[CV 5/5] END bootstrap=True, max_depth=210, max_features=sqrt, min_samples_leaf=78, min_samples_split=39, n_estimators=191;, score=0.471 total time=   0.9s\n",
      "[CV 1/5] END bootstrap=True, max_depth=110, max_features=auto, min_samples_leaf=100, min_samples_split=39, n_estimators=2214;, score=0.482 total time=  40.1s\n",
      "[CV 2/5] END bootstrap=True, max_depth=110, max_features=auto, min_samples_leaf=100, min_samples_split=39, n_estimators=2214;, score=0.496 total time=  40.2s\n",
      "[CV 4/5] END bootstrap=True, max_depth=110, max_features=auto, min_samples_leaf=100, min_samples_split=39, n_estimators=2214;, score=0.542 total time=  41.1s\n",
      "[CV 1/5] END bootstrap=True, max_depth=460, max_features=auto, min_samples_leaf=89, min_samples_split=2, n_estimators=1218;, score=0.490 total time=  22.9s\n",
      "[CV 3/5] END bootstrap=True, max_depth=460, max_features=auto, min_samples_leaf=89, min_samples_split=2, n_estimators=1218;, score=0.505 total time=  23.3s\n",
      "[CV 5/5] END bootstrap=True, max_depth=460, max_features=auto, min_samples_leaf=89, min_samples_split=2, n_estimators=1218;, score=0.521 total time=  23.1s\n",
      "[CV 2/5] END bootstrap=True, max_depth=470, max_features=auto, min_samples_leaf=89, min_samples_split=23, n_estimators=644;, score=0.507 total time=  12.1s\n",
      "[CV 4/5] END bootstrap=True, max_depth=470, max_features=auto, min_samples_leaf=89, min_samples_split=23, n_estimators=644;, score=0.550 total time=  12.4s\n",
      "[CV 1/5] END bootstrap=True, max_depth=340, max_features=auto, min_samples_leaf=56, min_samples_split=50, n_estimators=2728;, score=0.535 total time=  59.5s\n",
      "[CV 3/5] END bootstrap=True, max_depth=340, max_features=auto, min_samples_leaf=56, min_samples_split=50, n_estimators=2728;, score=0.545 total time= 1.0min\n",
      "[CV 5/5] END bootstrap=True, max_depth=340, max_features=auto, min_samples_leaf=56, min_samples_split=50, n_estimators=2728;, score=0.561 total time=  59.8s\n",
      "[CV 4/5] END bootstrap=False, max_depth=165, max_features=auto, min_samples_leaf=12, min_samples_split=39, n_estimators=614;, score=0.578 total time=  30.3s\n",
      "[CV 1/5] END bootstrap=False, max_depth=100, max_features=auto, min_samples_leaf=12, min_samples_split=34, n_estimators=2124;, score=0.505 total time= 1.7min\n",
      "[CV 3/5] END bootstrap=False, max_depth=100, max_features=auto, min_samples_leaf=12, min_samples_split=34, n_estimators=2124;, score=0.540 total time= 1.7min\n",
      "[CV 5/5] END bootstrap=False, max_depth=100, max_features=auto, min_samples_leaf=12, min_samples_split=34, n_estimators=2124;, score=0.564 total time= 1.7min\n",
      "[CV 3/5] END bootstrap=True, max_depth=375, max_features=auto, min_samples_leaf=67, min_samples_split=18, n_estimators=2758;, score=0.529 total time=  57.2s\n",
      "[CV 5/5] END bootstrap=True, max_depth=375, max_features=auto, min_samples_leaf=67, min_samples_split=18, n_estimators=2758;, score=0.545 total time=  56.8s\n",
      "[CV 2/5] END bootstrap=True, max_depth=455, max_features=sqrt, min_samples_leaf=1, min_samples_split=39, n_estimators=2365;, score=0.638 total time=  16.6s\n",
      "[CV 4/5] END bootstrap=True, max_depth=455, max_features=sqrt, min_samples_leaf=1, min_samples_split=39, n_estimators=2365;, score=0.643 total time=  16.7s\n",
      "[CV 1/5] END bootstrap=False, max_depth=285, max_features=sqrt, min_samples_leaf=100, min_samples_split=23, n_estimators=2003;, score=0.494 total time=  11.8s\n",
      "[CV 3/5] END bootstrap=False, max_depth=285, max_features=sqrt, min_samples_leaf=100, min_samples_split=23, n_estimators=2003;, score=0.486 total time=  11.9s\n",
      "[CV 5/5] END bootstrap=False, max_depth=285, max_features=sqrt, min_samples_leaf=100, min_samples_split=23, n_estimators=2003;, score=0.488 total time=  11.8s\n",
      "[CV 3/5] END bootstrap=False, max_depth=45, max_features=sqrt, min_samples_leaf=23, min_samples_split=18, n_estimators=523;, score=0.605 total time=   4.4s\n",
      "[CV 5/5] END bootstrap=False, max_depth=45, max_features=sqrt, min_samples_leaf=23, min_samples_split=18, n_estimators=523;, score=0.613 total time=   4.4s\n",
      "[CV 2/5] END bootstrap=False, max_depth=465, max_features=auto, min_samples_leaf=45, min_samples_split=2, n_estimators=1852;, score=0.549 total time= 1.1min\n",
      "[CV 4/5] END bootstrap=False, max_depth=465, max_features=auto, min_samples_leaf=45, min_samples_split=2, n_estimators=1852;, score=0.537 total time= 1.1min\n",
      "[CV 1/5] END bootstrap=True, max_depth=225, max_features=auto, min_samples_leaf=12, min_samples_split=44, n_estimators=432;, score=0.611 total time=  12.8s\n",
      "[CV 2/5] END bootstrap=True, max_depth=225, max_features=auto, min_samples_leaf=12, min_samples_split=44, n_estimators=432;, score=0.642 total time=  12.7s\n",
      "[CV 3/5] END bootstrap=True, max_depth=225, max_features=auto, min_samples_leaf=12, min_samples_split=44, n_estimators=432;, score=0.624 total time=  12.9s\n",
      "[CV 4/5] END bootstrap=True, max_depth=225, max_features=auto, min_samples_leaf=12, min_samples_split=44, n_estimators=432;, score=0.655 total time=  13.0s\n",
      "[CV 5/5] END bootstrap=True, max_depth=225, max_features=auto, min_samples_leaf=12, min_samples_split=44, n_estimators=432;, score=0.643 total time=  12.7s\n",
      "[CV 2/5] END bootstrap=True, max_depth=435, max_features=auto, min_samples_leaf=56, min_samples_split=18, n_estimators=2758;, score=0.556 total time=  59.6s\n",
      "[CV 4/5] END bootstrap=True, max_depth=435, max_features=auto, min_samples_leaf=56, min_samples_split=18, n_estimators=2758;, score=0.586 total time= 1.0min\n",
      "[CV 1/5] END bootstrap=True, max_depth=390, max_features=auto, min_samples_leaf=56, min_samples_split=44, n_estimators=1912;, score=0.535 total time=  41.4s\n",
      "[CV 2/5] END bootstrap=True, max_depth=390, max_features=auto, min_samples_leaf=56, min_samples_split=44, n_estimators=1912;, score=0.557 total time=  41.2s\n",
      "[CV 4/5] END bootstrap=True, max_depth=390, max_features=auto, min_samples_leaf=56, min_samples_split=44, n_estimators=1912;, score=0.586 total time=  42.1s\n",
      "[CV 1/5] END bootstrap=True, max_depth=350, max_features=auto, min_samples_leaf=23, min_samples_split=50, n_estimators=1127;, score=0.597 total time=  30.6s\n",
      "[CV 3/5] END bootstrap=True, max_depth=350, max_features=auto, min_samples_leaf=23, min_samples_split=50, n_estimators=1127;, score=0.607 total time=  31.0s\n",
      "[CV 5/5] END bootstrap=True, max_depth=350, max_features=auto, min_samples_leaf=23, min_samples_split=50, n_estimators=1127;, score=0.627 total time=  26.5s\n"
     ]
    }
   ],
   "source": [
    "# Fit the random search model\n",
    "RF_random_out.fit(X_train, Y_train_out.values.ravel())"
   ]
  },
  {
   "cell_type": "code",
   "execution_count": 115,
   "id": "ebe23e9d-578f-4645-a5d8-599d6de0509c",
   "metadata": {
    "tags": []
   },
   "outputs": [
    {
     "name": "stdout",
     "output_type": "stream",
     "text": [
      "Best Score: 0.6762124915340071\n"
     ]
    }
   ],
   "source": [
    "# Mean cross-validated score of the best_estimator (5-fold cross-validation by default)\n",
    "print('Best Score: %s' % RF_random_out.best_score_)"
   ]
  },
  {
   "cell_type": "code",
   "execution_count": 369,
   "id": "4d48e323-32bb-446e-a2f7-b285dfc0b485",
   "metadata": {},
   "outputs": [],
   "source": [
    "# The hyperparameters were found using a cross-validation randomized search strategy on the training sample X_train\n",
    "RF_out_tuned = RandomForestRegressor(random_state = 1509,\n",
    "                                     n_estimators = 1278,\n",
    "                                     max_depth = 195,\n",
    "                                     min_samples_split = 12,\n",
    "                                     min_samples_leaf = 1,\n",
    "                                     max_features = 'auto',\n",
    "                                     bootstrap = True)"
   ]
  },
  {
   "cell_type": "code",
   "execution_count": 370,
   "id": "9d68b075-8c10-466a-b27f-a0b84974026d",
   "metadata": {},
   "outputs": [
    {
     "data": {
      "text/plain": [
       "RandomForestRegressor(max_depth=195, min_samples_split=12, n_estimators=1278,\n",
       "                      random_state=1509)"
      ]
     },
     "execution_count": 370,
     "metadata": {},
     "output_type": "execute_result"
    }
   ],
   "source": [
    "# Fit tuned model on training data\n",
    "RF_out_tuned.fit(X_train, Y_train_out.values.ravel())"
   ]
  },
  {
   "cell_type": "code",
   "execution_count": 371,
   "id": "437fcea8-867a-4bf2-97c0-e672e7334a7d",
   "metadata": {},
   "outputs": [],
   "source": [
    "best_random = RF_out_tuned"
   ]
  },
  {
   "cell_type": "code",
   "execution_count": 116,
   "id": "d1f74e4d-36e7-4ab6-8475-8b4c6f8591a2",
   "metadata": {},
   "outputs": [],
   "source": [
    "# Save best estimator that gave highest score on left out data\n",
    "best_random = RF_random_out.best_estimator_"
   ]
  },
  {
   "cell_type": "code",
   "execution_count": 372,
   "id": "1e550956-c8a6-43dc-b437-56f0c1c7632a",
   "metadata": {},
   "outputs": [
    {
     "data": {
      "text/plain": [
       "RandomForestRegressor(max_depth=195, min_samples_split=12, n_estimators=1278,\n",
       "                      random_state=1509)"
      ]
     },
     "execution_count": 372,
     "metadata": {},
     "output_type": "execute_result"
    }
   ],
   "source": [
    "best_random"
   ]
  },
  {
   "cell_type": "code",
   "execution_count": 373,
   "id": "046b3eda-ea95-4ca4-9f39-8df277d0011b",
   "metadata": {},
   "outputs": [],
   "source": [
    "# Check and evaluate score using cross-validation (5-fold cross-validation by default)\n",
    "scores = cross_val_score(RF_random_out.best_estimator_, X_train, Y_train_out.values.ravel())"
   ]
  },
  {
   "cell_type": "code",
   "execution_count": 374,
   "id": "61946e41-50a1-40c5-8b0e-d7e8eda7f090",
   "metadata": {},
   "outputs": [
    {
     "data": {
      "text/plain": [
       "0.6762124915340071"
      ]
     },
     "execution_count": 374,
     "metadata": {},
     "output_type": "execute_result"
    }
   ],
   "source": [
    "scores.mean()"
   ]
  },
  {
   "cell_type": "code",
   "execution_count": 375,
   "id": "c42cbdd6-65df-432c-ab74-6ca4a6ff779b",
   "metadata": {},
   "outputs": [],
   "source": [
    "# Check and evaluate score using cross-validation (5-fold cross-validation by default) on full sample\n",
    "scores = cross_val_score(RF_random_out.best_estimator_, X, Y_out.values.ravel())"
   ]
  },
  {
   "cell_type": "code",
   "execution_count": 376,
   "id": "2d169d53-be89-46bb-83da-a5bfbbf71860",
   "metadata": {},
   "outputs": [
    {
     "data": {
      "text/plain": [
       "0.2998644516891945"
      ]
     },
     "execution_count": 376,
     "metadata": {},
     "output_type": "execute_result"
    }
   ],
   "source": [
    "scores.mean()"
   ]
  },
  {
   "cell_type": "code",
   "execution_count": 366,
   "id": "ccc92a18-8821-4751-8194-7ff67c1397a0",
   "metadata": {
    "tags": []
   },
   "outputs": [
    {
     "data": {
      "text/plain": [
       "{'n_estimators': 1278,\n",
       " 'min_samples_split': 12,\n",
       " 'min_samples_leaf': 1,\n",
       " 'max_features': 'auto',\n",
       " 'max_depth': 195,\n",
       " 'bootstrap': True}"
      ]
     },
     "execution_count": 366,
     "metadata": {},
     "output_type": "execute_result"
    }
   ],
   "source": [
    "RF_random_out.best_params_"
   ]
  },
  {
   "cell_type": "code",
   "execution_count": null,
   "id": "2ff56bff-db89-4689-90cf-e300757259c7",
   "metadata": {},
   "outputs": [],
   "source": [
    "RF_random_out.cv_results_"
   ]
  },
  {
   "cell_type": "code",
   "execution_count": 377,
   "id": "f2934fd9-73e8-4613-8664-e50867afa528",
   "metadata": {},
   "outputs": [
    {
     "name": "stdout",
     "output_type": "stream",
     "text": [
      "0.8918552097958046\n"
     ]
    }
   ],
   "source": [
    "print(best_random.score(X_train, Y_train_out))"
   ]
  },
  {
   "cell_type": "code",
   "execution_count": 380,
   "id": "c75bd93f-495d-487b-8b6e-f006642d16c2",
   "metadata": {},
   "outputs": [
    {
     "data": {
      "text/plain": [
       "RandomForestRegressor(max_depth=195, min_samples_split=12, n_estimators=1278,\n",
       "                      random_state=1509)"
      ]
     },
     "execution_count": 380,
     "metadata": {},
     "output_type": "execute_result"
    }
   ],
   "source": [
    "# Refit tuned and traning model on training data\n",
    "RF_out_tuned.fit(X_train, Y_train_out.values.ravel())"
   ]
  },
  {
   "cell_type": "code",
   "execution_count": 378,
   "id": "ed5ffef5-8a28-4956-b2d4-c07eacda6b10",
   "metadata": {},
   "outputs": [
    {
     "name": "stdout",
     "output_type": "stream",
     "text": [
      "0.7081047138987878\n"
     ]
    }
   ],
   "source": [
    "print(best_random.score(X_test, Y_test_out))"
   ]
  },
  {
   "cell_type": "code",
   "execution_count": 379,
   "id": "6cb9b38b-33e9-4902-9f60-ab5f7bf7eebf",
   "metadata": {},
   "outputs": [
    {
     "name": "stdout",
     "output_type": "stream",
     "text": [
      "0.8539825727395456\n"
     ]
    }
   ],
   "source": [
    "print(best_random.score(X, Y_out))"
   ]
  },
  {
   "cell_type": "code",
   "execution_count": 32,
   "id": "cc2c43ba-f726-4656-b8b5-bb2919a98057",
   "metadata": {},
   "outputs": [
    {
     "data": {
      "text/plain": [
       "array([0.64285616, 0.67522511, 0.68364949])"
      ]
     },
     "execution_count": 32,
     "metadata": {},
     "output_type": "execute_result"
    }
   ],
   "source": [
    "cross_val_score(RF_random_out.best_estimator_, X_train, Y_train_out.values.ravel(), cv = 3)"
   ]
  },
  {
   "cell_type": "code",
   "execution_count": 33,
   "id": "40f56e34-26fa-4ce1-a78b-7beded2304c1",
   "metadata": {},
   "outputs": [
    {
     "data": {
      "text/plain": [
       "array([0.64624182, 0.67827449, 0.67677421, 0.6886621 , 0.69110983])"
      ]
     },
     "execution_count": 33,
     "metadata": {},
     "output_type": "execute_result"
    }
   ],
   "source": [
    "cross_val_score(RF_random_out.best_estimator_, X_train, Y_train_out.values.ravel(), cv = 5)"
   ]
  },
  {
   "cell_type": "code",
   "execution_count": 383,
   "id": "ebf77d28-8983-4237-b2c4-9dc2048c662c",
   "metadata": {},
   "outputs": [
    {
     "data": {
      "text/plain": [
       "0.6770733080450901"
      ]
     },
     "execution_count": 383,
     "metadata": {},
     "output_type": "execute_result"
    }
   ],
   "source": [
    "predictions_CV = cross_val_predict(best_random, X_train, Y_train_out.values.ravel())\n",
    "r2_score(Y_train_out, preds.predictions_CV)"
   ]
  },
  {
   "cell_type": "code",
   "execution_count": 392,
   "id": "0703cd0d-7d57-44c0-8f32-16ecbd525aab",
   "metadata": {},
   "outputs": [
    {
     "data": {
      "text/plain": [
       "3.232962735490173"
      ]
     },
     "execution_count": 392,
     "metadata": {},
     "output_type": "execute_result"
    }
   ],
   "source": [
    "(mean_squared_error(Y_train_out, predictions_CV))"
   ]
  },
  {
   "cell_type": "code",
   "execution_count": 389,
   "id": "9912b192-b158-4e07-b2f8-63a3e35e5b2f",
   "metadata": {},
   "outputs": [],
   "source": [
    "preds_test = RF_out_tuned.predict(X_test)"
   ]
  },
  {
   "cell_type": "code",
   "execution_count": 393,
   "id": "b5d50d50-f2e1-4067-b1bc-9d7bd8bf569e",
   "metadata": {},
   "outputs": [
    {
     "data": {
      "text/plain": [
       "2.998418505852522"
      ]
     },
     "execution_count": 393,
     "metadata": {},
     "output_type": "execute_result"
    }
   ],
   "source": [
    "(mean_squared_error(Y_test_out, preds_test))"
   ]
  },
  {
   "cell_type": "code",
   "execution_count": null,
   "id": "a8300e56-577d-4bb4-85ae-c648113a6f76",
   "metadata": {},
   "outputs": [],
   "source": []
  },
  {
   "cell_type": "code",
   "execution_count": 44,
   "id": "01608c99-11a7-4f92-9c01-89aa898e7b11",
   "metadata": {},
   "outputs": [],
   "source": [
    "feather.write_feather(pd.DataFrame(predictions), results_dir + 'preds.RF.CV_out.feather')"
   ]
  },
  {
   "cell_type": "markdown",
   "id": "a7ba2ad6-7fb9-437d-8ab9-616ba03d9bad",
   "metadata": {
    "tags": []
   },
   "source": [
    "# Placebo"
   ]
  },
  {
   "cell_type": "code",
   "execution_count": 347,
   "id": "6df36516-4515-413e-a4e8-f7898f504398",
   "metadata": {},
   "outputs": [],
   "source": [
    "Xi_placebo = X_train[['ln.gdp_o', 'ln.pop_o', 'ihs.entry_cost_o', \n",
    "              'rCorrCont', 'rRegQual', 'rRuleLaw',\n",
    "              'rFATF', \n",
    "              'kai_o', 'kao_o', 'cc_o', 'cci_o', 'cco_o', 'di_o', 'dii_o', 'dio_o']]"
   ]
  },
  {
   "cell_type": "code",
   "execution_count": 348,
   "id": "db3fba82-d3c2-4f3a-9ddf-15826cfe304d",
   "metadata": {},
   "outputs": [],
   "source": [
    "Xj_placebo = X_train[['ln.gdp_d', 'ln.pop_d', 'ihs.entry_cost_d', \n",
    "                      'pCorrCont', 'pRegQual', 'pRuleLaw',\n",
    "                      'pSecrecyScore', 'pFSI.rank', 'pKFSI13', 'pKFSI17', 'pKFSI20',\n",
    "                      'pFATF', \n",
    "                      'kai_d', 'kao_d', 'cc_d', 'cci_d', 'cco_d', 'di_d', 'dii_d', 'dio_d']]"
   ]
  },
  {
   "cell_type": "code",
   "execution_count": 349,
   "id": "0c681149-b6c0-4b52-adc9-9bfa1dea4757",
   "metadata": {},
   "outputs": [],
   "source": [
    "Xij_placebo = X_train[['dist', 'contig', 'comlang', 'comcol', 'col45', 'rta',\n",
    "               'ihs.tariff']]"
   ]
  },
  {
   "cell_type": "code",
   "execution_count": 350,
   "id": "610abe65-efa6-444a-84d7-981a46ae3a93",
   "metadata": {
    "tags": []
   },
   "outputs": [],
   "source": [
    "Xi_placebo = Xi_placebo.sample(frac = 1)\n",
    "Xj_placebo = Xj_placebo.sample(frac = 1)\n",
    "Xij_placebo = Xij_placebo.sample(frac = 1)\n",
    "X_placebo = pd.concat([Xi_placebo, Xj_placebo, Xij_placebo], axis = 1, ignore_index = True)"
   ]
  },
  {
   "cell_type": "code",
   "execution_count": 334,
   "id": "2be8e535-9e62-4a99-b361-20e417600b36",
   "metadata": {},
   "outputs": [],
   "source": [
    "Y_placebo = Y_train_out.sample(frac = 1)"
   ]
  },
  {
   "cell_type": "code",
   "execution_count": null,
   "id": "8e70a069-bf67-469c-b6c7-67b091de4ed2",
   "metadata": {},
   "outputs": [],
   "source": [
    "Y_test_placebo = Y_t_out.sample(frac = 1)"
   ]
  },
  {
   "cell_type": "code",
   "execution_count": 227,
   "id": "74da5f96-f09d-49b7-a8ea-d5c76d964a76",
   "metadata": {},
   "outputs": [],
   "source": [
    "values = X_train.values"
   ]
  },
  {
   "cell_type": "code",
   "execution_count": 230,
   "id": "0d1d52b1-ca01-41fd-8d5e-e131a4a0b432",
   "metadata": {},
   "outputs": [],
   "source": [
    "X_placebo = np.apply_along_axis(np.random.permutation, 0, values)"
   ]
  },
  {
   "cell_type": "code",
   "execution_count": 233,
   "id": "f8e1305b-76d4-4351-8246-f92d7e351ba5",
   "metadata": {},
   "outputs": [],
   "source": [
    "X_placebo = pd.DataFrame(X_placebo)"
   ]
  },
  {
   "cell_type": "code",
   "execution_count": 355,
   "id": "cfbd71df-5915-4142-9e4e-b1f4732721bb",
   "metadata": {},
   "outputs": [],
   "source": [
    "X_placebo = feather.read_feather(results_dir + 'X_placebo.feather')"
   ]
  },
  {
   "cell_type": "code",
   "execution_count": 358,
   "id": "1d0be047-f402-46a9-96b6-246ca805a0be",
   "metadata": {},
   "outputs": [
    {
     "data": {
      "text/html": [
       "<div>\n",
       "<style scoped>\n",
       "    .dataframe tbody tr th:only-of-type {\n",
       "        vertical-align: middle;\n",
       "    }\n",
       "\n",
       "    .dataframe tbody tr th {\n",
       "        vertical-align: top;\n",
       "    }\n",
       "\n",
       "    .dataframe thead th {\n",
       "        text-align: right;\n",
       "    }\n",
       "</style>\n",
       "<table border=\"1\" class=\"dataframe\">\n",
       "  <thead>\n",
       "    <tr style=\"text-align: right;\">\n",
       "      <th></th>\n",
       "      <th>ln.gdp_o</th>\n",
       "      <th>ln.gdp_d</th>\n",
       "      <th>ln.pop_o</th>\n",
       "      <th>ln.pop_d</th>\n",
       "      <th>dist</th>\n",
       "      <th>contig</th>\n",
       "      <th>comlang</th>\n",
       "      <th>comcol</th>\n",
       "      <th>col45</th>\n",
       "      <th>ihs.entry_cost_o</th>\n",
       "      <th>...</th>\n",
       "      <th>cci_o</th>\n",
       "      <th>cci_d</th>\n",
       "      <th>cco_o</th>\n",
       "      <th>cco_d</th>\n",
       "      <th>di_o</th>\n",
       "      <th>di_d</th>\n",
       "      <th>dii_o</th>\n",
       "      <th>dii_d</th>\n",
       "      <th>dio_o</th>\n",
       "      <th>dio_d</th>\n",
       "    </tr>\n",
       "  </thead>\n",
       "  <tbody>\n",
       "    <tr>\n",
       "      <th>0</th>\n",
       "      <td>17.002892</td>\n",
       "      <td>20.776837</td>\n",
       "      <td>9.812471</td>\n",
       "      <td>9.964075</td>\n",
       "      <td>15950.811523</td>\n",
       "      <td>0</td>\n",
       "      <td>0</td>\n",
       "      <td>0</td>\n",
       "      <td>0</td>\n",
       "      <td>5.599176</td>\n",
       "      <td>...</td>\n",
       "      <td>0.0</td>\n",
       "      <td>0.0</td>\n",
       "      <td>1.0</td>\n",
       "      <td>1.0</td>\n",
       "      <td>0.5</td>\n",
       "      <td>0.5</td>\n",
       "      <td>0.0</td>\n",
       "      <td>1.0</td>\n",
       "      <td>1.0</td>\n",
       "      <td>0.0</td>\n",
       "    </tr>\n",
       "    <tr>\n",
       "      <th>1</th>\n",
       "      <td>18.940779</td>\n",
       "      <td>21.218547</td>\n",
       "      <td>10.745254</td>\n",
       "      <td>14.068912</td>\n",
       "      <td>12967.769531</td>\n",
       "      <td>0</td>\n",
       "      <td>0</td>\n",
       "      <td>0</td>\n",
       "      <td>0</td>\n",
       "      <td>2.936674</td>\n",
       "      <td>...</td>\n",
       "      <td>0.0</td>\n",
       "      <td>1.0</td>\n",
       "      <td>1.0</td>\n",
       "      <td>1.0</td>\n",
       "      <td>0.5</td>\n",
       "      <td>1.0</td>\n",
       "      <td>0.0</td>\n",
       "      <td>1.0</td>\n",
       "      <td>1.0</td>\n",
       "      <td>1.0</td>\n",
       "    </tr>\n",
       "    <tr>\n",
       "      <th>2</th>\n",
       "      <td>16.477952</td>\n",
       "      <td>22.194992</td>\n",
       "      <td>10.595192</td>\n",
       "      <td>11.757877</td>\n",
       "      <td>11404.291016</td>\n",
       "      <td>0</td>\n",
       "      <td>0</td>\n",
       "      <td>0</td>\n",
       "      <td>0</td>\n",
       "      <td>5.283229</td>\n",
       "      <td>...</td>\n",
       "      <td>1.0</td>\n",
       "      <td>0.0</td>\n",
       "      <td>1.0</td>\n",
       "      <td>0.0</td>\n",
       "      <td>1.0</td>\n",
       "      <td>0.0</td>\n",
       "      <td>1.0</td>\n",
       "      <td>0.0</td>\n",
       "      <td>1.0</td>\n",
       "      <td>0.0</td>\n",
       "    </tr>\n",
       "    <tr>\n",
       "      <th>3</th>\n",
       "      <td>16.477952</td>\n",
       "      <td>21.566940</td>\n",
       "      <td>10.595192</td>\n",
       "      <td>11.060651</td>\n",
       "      <td>7168.276855</td>\n",
       "      <td>0</td>\n",
       "      <td>0</td>\n",
       "      <td>0</td>\n",
       "      <td>0</td>\n",
       "      <td>5.283229</td>\n",
       "      <td>...</td>\n",
       "      <td>1.0</td>\n",
       "      <td>0.0</td>\n",
       "      <td>1.0</td>\n",
       "      <td>0.0</td>\n",
       "      <td>1.0</td>\n",
       "      <td>0.0</td>\n",
       "      <td>1.0</td>\n",
       "      <td>0.0</td>\n",
       "      <td>1.0</td>\n",
       "      <td>0.0</td>\n",
       "    </tr>\n",
       "    <tr>\n",
       "      <th>4</th>\n",
       "      <td>19.472103</td>\n",
       "      <td>20.005454</td>\n",
       "      <td>10.797742</td>\n",
       "      <td>9.121301</td>\n",
       "      <td>10380.564453</td>\n",
       "      <td>0</td>\n",
       "      <td>0</td>\n",
       "      <td>0</td>\n",
       "      <td>0</td>\n",
       "      <td>2.658165</td>\n",
       "      <td>...</td>\n",
       "      <td>0.0</td>\n",
       "      <td>0.0</td>\n",
       "      <td>1.0</td>\n",
       "      <td>0.0</td>\n",
       "      <td>0.5</td>\n",
       "      <td>0.0</td>\n",
       "      <td>0.0</td>\n",
       "      <td>0.0</td>\n",
       "      <td>1.0</td>\n",
       "      <td>0.0</td>\n",
       "    </tr>\n",
       "    <tr>\n",
       "      <th>...</th>\n",
       "      <td>...</td>\n",
       "      <td>...</td>\n",
       "      <td>...</td>\n",
       "      <td>...</td>\n",
       "      <td>...</td>\n",
       "      <td>...</td>\n",
       "      <td>...</td>\n",
       "      <td>...</td>\n",
       "      <td>...</td>\n",
       "      <td>...</td>\n",
       "      <td>...</td>\n",
       "      <td>...</td>\n",
       "      <td>...</td>\n",
       "      <td>...</td>\n",
       "      <td>...</td>\n",
       "      <td>...</td>\n",
       "      <td>...</td>\n",
       "      <td>...</td>\n",
       "      <td>...</td>\n",
       "      <td>...</td>\n",
       "      <td>...</td>\n",
       "    </tr>\n",
       "    <tr>\n",
       "      <th>4251</th>\n",
       "      <td>16.883266</td>\n",
       "      <td>21.352833</td>\n",
       "      <td>10.534197</td>\n",
       "      <td>14.040364</td>\n",
       "      <td>5691.471191</td>\n",
       "      <td>0</td>\n",
       "      <td>1</td>\n",
       "      <td>1</td>\n",
       "      <td>0</td>\n",
       "      <td>5.053736</td>\n",
       "      <td>...</td>\n",
       "      <td>0.0</td>\n",
       "      <td>1.0</td>\n",
       "      <td>0.0</td>\n",
       "      <td>1.0</td>\n",
       "      <td>0.0</td>\n",
       "      <td>1.0</td>\n",
       "      <td>0.0</td>\n",
       "      <td>1.0</td>\n",
       "      <td>0.0</td>\n",
       "      <td>1.0</td>\n",
       "    </tr>\n",
       "    <tr>\n",
       "      <th>4252</th>\n",
       "      <td>19.279345</td>\n",
       "      <td>21.354591</td>\n",
       "      <td>11.282159</td>\n",
       "      <td>14.015309</td>\n",
       "      <td>4432.625000</td>\n",
       "      <td>0</td>\n",
       "      <td>0</td>\n",
       "      <td>0</td>\n",
       "      <td>0</td>\n",
       "      <td>3.037256</td>\n",
       "      <td>...</td>\n",
       "      <td>0.0</td>\n",
       "      <td>1.0</td>\n",
       "      <td>0.0</td>\n",
       "      <td>1.0</td>\n",
       "      <td>0.0</td>\n",
       "      <td>1.0</td>\n",
       "      <td>0.0</td>\n",
       "      <td>1.0</td>\n",
       "      <td>0.0</td>\n",
       "      <td>1.0</td>\n",
       "    </tr>\n",
       "    <tr>\n",
       "      <th>4253</th>\n",
       "      <td>16.365225</td>\n",
       "      <td>19.638761</td>\n",
       "      <td>7.139608</td>\n",
       "      <td>10.316525</td>\n",
       "      <td>5478.541016</td>\n",
       "      <td>0</td>\n",
       "      <td>0</td>\n",
       "      <td>1</td>\n",
       "      <td>0</td>\n",
       "      <td>1.529660</td>\n",
       "      <td>...</td>\n",
       "      <td>0.0</td>\n",
       "      <td>1.0</td>\n",
       "      <td>0.0</td>\n",
       "      <td>1.0</td>\n",
       "      <td>0.5</td>\n",
       "      <td>1.0</td>\n",
       "      <td>1.0</td>\n",
       "      <td>1.0</td>\n",
       "      <td>0.0</td>\n",
       "      <td>1.0</td>\n",
       "    </tr>\n",
       "    <tr>\n",
       "      <th>4254</th>\n",
       "      <td>14.967163</td>\n",
       "      <td>22.232182</td>\n",
       "      <td>8.697428</td>\n",
       "      <td>14.096663</td>\n",
       "      <td>11656.857422</td>\n",
       "      <td>0</td>\n",
       "      <td>0</td>\n",
       "      <td>0</td>\n",
       "      <td>0</td>\n",
       "      <td>6.219799</td>\n",
       "      <td>...</td>\n",
       "      <td>0.0</td>\n",
       "      <td>1.0</td>\n",
       "      <td>1.0</td>\n",
       "      <td>1.0</td>\n",
       "      <td>0.5</td>\n",
       "      <td>1.0</td>\n",
       "      <td>0.0</td>\n",
       "      <td>1.0</td>\n",
       "      <td>1.0</td>\n",
       "      <td>1.0</td>\n",
       "    </tr>\n",
       "    <tr>\n",
       "      <th>4255</th>\n",
       "      <td>18.302831</td>\n",
       "      <td>21.226165</td>\n",
       "      <td>10.340295</td>\n",
       "      <td>12.164029</td>\n",
       "      <td>7665.229004</td>\n",
       "      <td>0</td>\n",
       "      <td>0</td>\n",
       "      <td>0</td>\n",
       "      <td>0</td>\n",
       "      <td>3.179785</td>\n",
       "      <td>...</td>\n",
       "      <td>0.0</td>\n",
       "      <td>0.0</td>\n",
       "      <td>1.0</td>\n",
       "      <td>0.0</td>\n",
       "      <td>0.5</td>\n",
       "      <td>1.0</td>\n",
       "      <td>0.0</td>\n",
       "      <td>1.0</td>\n",
       "      <td>1.0</td>\n",
       "      <td>1.0</td>\n",
       "    </tr>\n",
       "  </tbody>\n",
       "</table>\n",
       "<p>4256 rows × 42 columns</p>\n",
       "</div>"
      ],
      "text/plain": [
       "       ln.gdp_o   ln.gdp_d   ln.pop_o   ln.pop_d          dist  contig  \\\n",
       "0     17.002892  20.776837   9.812471   9.964075  15950.811523       0   \n",
       "1     18.940779  21.218547  10.745254  14.068912  12967.769531       0   \n",
       "2     16.477952  22.194992  10.595192  11.757877  11404.291016       0   \n",
       "3     16.477952  21.566940  10.595192  11.060651   7168.276855       0   \n",
       "4     19.472103  20.005454  10.797742   9.121301  10380.564453       0   \n",
       "...         ...        ...        ...        ...           ...     ...   \n",
       "4251  16.883266  21.352833  10.534197  14.040364   5691.471191       0   \n",
       "4252  19.279345  21.354591  11.282159  14.015309   4432.625000       0   \n",
       "4253  16.365225  19.638761   7.139608  10.316525   5478.541016       0   \n",
       "4254  14.967163  22.232182   8.697428  14.096663  11656.857422       0   \n",
       "4255  18.302831  21.226165  10.340295  12.164029   7665.229004       0   \n",
       "\n",
       "      comlang  comcol  col45  ihs.entry_cost_o  ...  cci_o  cci_d  cco_o  \\\n",
       "0           0       0      0          5.599176  ...    0.0    0.0    1.0   \n",
       "1           0       0      0          2.936674  ...    0.0    1.0    1.0   \n",
       "2           0       0      0          5.283229  ...    1.0    0.0    1.0   \n",
       "3           0       0      0          5.283229  ...    1.0    0.0    1.0   \n",
       "4           0       0      0          2.658165  ...    0.0    0.0    1.0   \n",
       "...       ...     ...    ...               ...  ...    ...    ...    ...   \n",
       "4251        1       1      0          5.053736  ...    0.0    1.0    0.0   \n",
       "4252        0       0      0          3.037256  ...    0.0    1.0    0.0   \n",
       "4253        0       1      0          1.529660  ...    0.0    1.0    0.0   \n",
       "4254        0       0      0          6.219799  ...    0.0    1.0    1.0   \n",
       "4255        0       0      0          3.179785  ...    0.0    0.0    1.0   \n",
       "\n",
       "      cco_d  di_o  di_d  dii_o  dii_d  dio_o  dio_d  \n",
       "0       1.0   0.5   0.5    0.0    1.0    1.0    0.0  \n",
       "1       1.0   0.5   1.0    0.0    1.0    1.0    1.0  \n",
       "2       0.0   1.0   0.0    1.0    0.0    1.0    0.0  \n",
       "3       0.0   1.0   0.0    1.0    0.0    1.0    0.0  \n",
       "4       0.0   0.5   0.0    0.0    0.0    1.0    0.0  \n",
       "...     ...   ...   ...    ...    ...    ...    ...  \n",
       "4251    1.0   0.0   1.0    0.0    1.0    0.0    1.0  \n",
       "4252    1.0   0.0   1.0    0.0    1.0    0.0    1.0  \n",
       "4253    1.0   0.5   1.0    1.0    1.0    0.0    1.0  \n",
       "4254    1.0   0.5   1.0    0.0    1.0    1.0    1.0  \n",
       "4255    0.0   0.5   1.0    0.0    1.0    1.0    1.0  \n",
       "\n",
       "[4256 rows x 42 columns]"
      ]
     },
     "execution_count": 358,
     "metadata": {},
     "output_type": "execute_result"
    }
   ],
   "source": [
    "X_placebo"
   ]
  },
  {
   "cell_type": "code",
   "execution_count": 335,
   "id": "086c49e8-5dab-4d04-8466-72556aa3fe2e",
   "metadata": {},
   "outputs": [
    {
     "data": {
      "text/plain": [
       "RandomForestRegressor(max_depth=195, min_samples_split=12, n_estimators=1278,\n",
       "                      random_state=1509)"
      ]
     },
     "execution_count": 335,
     "metadata": {},
     "output_type": "execute_result"
    }
   ],
   "source": [
    "# best_random is an estimator with tuned hyperparameters\n",
    "best_random"
   ]
  },
  {
   "cell_type": "code",
   "execution_count": 360,
   "id": "2cff1884-d318-46f6-b33b-0cc2c809effb",
   "metadata": {},
   "outputs": [
    {
     "data": {
      "text/plain": [
       "RandomForestRegressor(max_depth=195, min_samples_split=12, n_estimators=1278,\n",
       "                      random_state=1509)"
      ]
     },
     "execution_count": 360,
     "metadata": {},
     "output_type": "execute_result"
    }
   ],
   "source": [
    "best_random.fit(X_placebo, Y_train_out.values.ravel())"
   ]
  },
  {
   "cell_type": "code",
   "execution_count": 361,
   "id": "3b6d018d-5ede-4487-b974-1495ec7c1087",
   "metadata": {},
   "outputs": [
    {
     "data": {
      "text/plain": [
       "0.6325592235438458"
      ]
     },
     "execution_count": 361,
     "metadata": {},
     "output_type": "execute_result"
    }
   ],
   "source": [
    "# training error\n",
    "best_random.score(X_placebo, Y_train_out)"
   ]
  },
  {
   "cell_type": "code",
   "execution_count": 363,
   "id": "db49e313-f9e0-4124-b374-9309e89eda25",
   "metadata": {},
   "outputs": [
    {
     "data": {
      "text/plain": [
       "0.009554751408330175"
      ]
     },
     "execution_count": 363,
     "metadata": {},
     "output_type": "execute_result"
    }
   ],
   "source": [
    "# test error\n",
    "best_random.score(X_test, Y_test_out)"
   ]
  },
  {
   "cell_type": "code",
   "execution_count": 364,
   "id": "cd2df24b-94b2-4328-901f-974d38df13b2",
   "metadata": {},
   "outputs": [],
   "source": [
    "scores = cross_val_score(best_random, X, Y_out.values.ravel())"
   ]
  },
  {
   "cell_type": "code",
   "execution_count": 365,
   "id": "f404635a-b044-4328-96eb-66846cf1369d",
   "metadata": {},
   "outputs": [
    {
     "data": {
      "text/plain": [
       "0.2998644516891945"
      ]
     },
     "execution_count": 365,
     "metadata": {},
     "output_type": "execute_result"
    }
   ],
   "source": [
    "scores.mean()"
   ]
  },
  {
   "cell_type": "code",
   "execution_count": 222,
   "id": "57dfb8ce-aa77-4b9b-9fa9-a6617a4081ad",
   "metadata": {
    "tags": []
   },
   "outputs": [
    {
     "data": {
      "text/plain": [
       "-0.28633500762419306"
      ]
     },
     "execution_count": 222,
     "metadata": {},
     "output_type": "execute_result"
    }
   ],
   "source": [
    "best_random.score(X_test, Y_test_out)"
   ]
  },
  {
   "cell_type": "code",
   "execution_count": 136,
   "id": "1d1ccb8f-1e6b-4eeb-96ba-d1c3443b27d9",
   "metadata": {},
   "outputs": [],
   "source": [
    "r2 = []\n",
    "for i in range(100):\n",
    "    X_placebo = X_test.sample(frac = 1)\n",
    "    score = best_random.score(X_placebo, Y_test_out)\n",
    "    r2.append(score)"
   ]
  },
  {
   "cell_type": "code",
   "execution_count": 225,
   "id": "24e37da8-0cd2-4251-8681-13c40e6cac4b",
   "metadata": {},
   "outputs": [
    {
     "data": {
      "text/plain": [
       "RandomForestRegressor(max_depth=195, min_samples_split=12, n_estimators=1278,\n",
       "                      random_state=1509)"
      ]
     },
     "execution_count": 225,
     "metadata": {},
     "output_type": "execute_result"
    }
   ],
   "source": [
    "best_random.fit(shuffled_train_df, Y_train_out.values.ravel())"
   ]
  },
  {
   "cell_type": "code",
   "execution_count": 226,
   "id": "1cde048e-8e8a-4ded-9169-86cdac26605c",
   "metadata": {},
   "outputs": [
    {
     "data": {
      "text/plain": [
       "0.6339378235034976"
      ]
     },
     "execution_count": 226,
     "metadata": {},
     "output_type": "execute_result"
    }
   ],
   "source": [
    "best_random.score(shuffled_train_df, Y_train_out)"
   ]
  },
  {
   "cell_type": "markdown",
   "id": "008a7b43-7574-4965-a618-9994652679e9",
   "metadata": {},
   "source": [
    "### Tune hyperparameters with grid search"
   ]
  },
  {
   "cell_type": "code",
   "execution_count": 47,
   "id": "b085dd6c-1716-4dae-b3b9-8988e73756c6",
   "metadata": {},
   "outputs": [],
   "source": [
    "# Create the base model to tune (with some parameters from random search)\n",
    "RF_base_mod_out  = RandomForestRegressor(random_state = 1509,\n",
    "                                         max_features = 'auto',\n",
    "                                         bootstrap = True)\n",
    "\n",
    "# Create the parameter grid based on the results of random search \n",
    "param_grid = {\n",
    "    'n_estimators': [500, 2500],\n",
    "    'max_depth': [10, 300],\n",
    "    'min_samples_split': [8, 80],\n",
    "    'min_samples_leaf': [8, 80],\n",
    "}\n",
    "\n",
    "# Grid search of parameters on base model using 3 fold cross validation \n",
    "# Search all possible cominations, and use all available cores\n",
    "RF_grid_out = GridSearchCV(estimator = RF_base_mod_out, \n",
    "                           param_grid = param_grid,\n",
    "                           scoring = 'r2',\n",
    "                           verbose = 3, n_jobs = -1)"
   ]
  },
  {
   "cell_type": "code",
   "execution_count": 48,
   "id": "54639df1-5ddf-4a34-9003-2374d3a0a829",
   "metadata": {},
   "outputs": [
    {
     "name": "stdout",
     "output_type": "stream",
     "text": [
      "Fitting 5 folds for each of 16 candidates, totalling 80 fits\n"
     ]
    },
    {
     "data": {
      "text/plain": [
       "GridSearchCV(estimator=RandomForestRegressor(random_state=1509), n_jobs=-1,\n",
       "             param_grid={'max_depth': [10, 300], 'min_samples_leaf': [8, 80],\n",
       "                         'min_samples_split': [8, 80],\n",
       "                         'n_estimators': [500, 2500]},\n",
       "             scoring='r2', verbose=3)"
      ]
     },
     "execution_count": 48,
     "metadata": {},
     "output_type": "execute_result"
    },
    {
     "name": "stdout",
     "output_type": "stream",
     "text": [
      "[CV 2/5] END max_depth=10, min_samples_leaf=8, min_samples_split=8, n_estimators=500;, score=0.296 total time=  40.2s\n",
      "[CV 4/5] END max_depth=10, min_samples_leaf=8, min_samples_split=8, n_estimators=500;, score=0.381 total time=  39.9s\n",
      "[CV 1/5] END max_depth=10, min_samples_leaf=8, min_samples_split=8, n_estimators=2500;, score=0.481 total time= 3.3min\n",
      "[CV 3/5] END max_depth=10, min_samples_leaf=8, min_samples_split=8, n_estimators=2500;, score=0.552 total time= 3.3min\n",
      "[CV 5/5] END max_depth=10, min_samples_leaf=8, min_samples_split=8, n_estimators=2500;, score=0.448 total time= 3.3min\n",
      "[CV 1/5] END max_depth=10, min_samples_leaf=8, min_samples_split=80, n_estimators=2500;, score=0.490 total time= 2.8min\n",
      "[CV 3/5] END max_depth=10, min_samples_leaf=8, min_samples_split=80, n_estimators=2500;, score=0.543 total time= 2.8min\n",
      "[CV 5/5] END max_depth=10, min_samples_leaf=8, min_samples_split=80, n_estimators=2500;, score=0.417 total time= 2.8min\n",
      "[CV 2/5] END max_depth=10, min_samples_leaf=80, min_samples_split=8, n_estimators=2500;, score=0.353 total time= 2.2min\n",
      "[CV 4/5] END max_depth=10, min_samples_leaf=80, min_samples_split=8, n_estimators=2500;, score=0.350 total time= 2.2min\n",
      "[CV 1/5] END max_depth=10, min_samples_leaf=80, min_samples_split=80, n_estimators=500;, score=0.459 total time=  26.2s\n",
      "[CV 2/5] END max_depth=10, min_samples_leaf=80, min_samples_split=80, n_estimators=500;, score=0.353 total time=  25.9s\n",
      "[CV 3/5] END max_depth=10, min_samples_leaf=80, min_samples_split=80, n_estimators=500;, score=0.515 total time=  26.8s\n",
      "[CV 4/5] END max_depth=10, min_samples_leaf=80, min_samples_split=80, n_estimators=500;, score=0.351 total time=  26.7s\n",
      "[CV 5/5] END max_depth=10, min_samples_leaf=80, min_samples_split=80, n_estimators=500;, score=0.319 total time=  25.6s\n",
      "[CV 2/5] END max_depth=10, min_samples_leaf=80, min_samples_split=80, n_estimators=2500;, score=0.353 total time= 2.2min\n",
      "[CV 4/5] END max_depth=10, min_samples_leaf=80, min_samples_split=80, n_estimators=2500;, score=0.350 total time= 2.2min\n",
      "[CV 1/5] END max_depth=300, min_samples_leaf=8, min_samples_split=8, n_estimators=500;, score=0.479 total time=  44.8s\n",
      "[CV 2/5] END max_depth=300, min_samples_leaf=8, min_samples_split=8, n_estimators=500;, score=0.293 total time=  45.0s\n",
      "[CV 3/5] END max_depth=300, min_samples_leaf=8, min_samples_split=8, n_estimators=500;, score=0.555 total time=  44.4s\n",
      "[CV 5/5] END max_depth=300, min_samples_leaf=8, min_samples_split=8, n_estimators=500;, score=0.463 total time=  44.5s\n",
      "[CV 2/5] END max_depth=300, min_samples_leaf=8, min_samples_split=8, n_estimators=2500;, score=0.299 total time= 3.9min\n",
      "[CV 4/5] END max_depth=300, min_samples_leaf=8, min_samples_split=8, n_estimators=2500;, score=0.379 total time= 3.7min\n",
      "[CV 1/5] END max_depth=300, min_samples_leaf=8, min_samples_split=80, n_estimators=500;, score=0.492 total time=  35.3s\n",
      "[CV 2/5] END max_depth=300, min_samples_leaf=8, min_samples_split=80, n_estimators=500;, score=0.345 total time=  35.5s\n",
      "[CV 3/5] END max_depth=300, min_samples_leaf=8, min_samples_split=80, n_estimators=500;, score=0.545 total time=  41.8s\n",
      "[CV 4/5] END max_depth=300, min_samples_leaf=8, min_samples_split=80, n_estimators=500;, score=0.387 total time=  35.2s\n",
      "[CV 5/5] END max_depth=300, min_samples_leaf=8, min_samples_split=80, n_estimators=500;, score=0.422 total time=  37.1s\n",
      "[CV 1/5] END max_depth=300, min_samples_leaf=8, min_samples_split=80, n_estimators=2500;, score=0.492 total time= 2.9min\n",
      "[CV 3/5] END max_depth=300, min_samples_leaf=8, min_samples_split=80, n_estimators=2500;, score=0.545 total time= 2.9min\n",
      "[CV 5/5] END max_depth=300, min_samples_leaf=8, min_samples_split=80, n_estimators=2500;, score=0.422 total time= 2.9min\n",
      "[CV 2/5] END max_depth=300, min_samples_leaf=80, min_samples_split=8, n_estimators=2500;, score=0.353 total time= 2.2min\n",
      "[CV 4/5] END max_depth=300, min_samples_leaf=80, min_samples_split=8, n_estimators=2500;, score=0.350 total time= 2.2min\n",
      "[CV 1/5] END max_depth=300, min_samples_leaf=80, min_samples_split=80, n_estimators=500;, score=0.459 total time=  26.1s\n",
      "[CV 2/5] END max_depth=300, min_samples_leaf=80, min_samples_split=80, n_estimators=500;, score=0.353 total time=  25.9s\n",
      "[CV 3/5] END max_depth=300, min_samples_leaf=80, min_samples_split=80, n_estimators=500;, score=0.515 total time=  26.2s\n",
      "[CV 4/5] END max_depth=300, min_samples_leaf=80, min_samples_split=80, n_estimators=500;, score=0.351 total time=  26.3s\n",
      "[CV 5/5] END max_depth=300, min_samples_leaf=80, min_samples_split=80, n_estimators=500;, score=0.319 total time=  26.6s\n",
      "[CV 2/5] END max_depth=300, min_samples_leaf=80, min_samples_split=80, n_estimators=2500;, score=0.353 total time= 2.2min\n",
      "[CV 4/5] END max_depth=300, min_samples_leaf=80, min_samples_split=80, n_estimators=2500;, score=0.350 total time= 2.2min\n",
      "[CV 1/5] END max_depth=10, min_samples_leaf=8, min_samples_split=8, n_estimators=500;, score=0.482 total time=  39.7s\n",
      "[CV 3/5] END max_depth=10, min_samples_leaf=8, min_samples_split=8, n_estimators=500;, score=0.552 total time=  40.0s\n",
      "[CV 5/5] END max_depth=10, min_samples_leaf=8, min_samples_split=8, n_estimators=500;, score=0.448 total time=  39.5s\n",
      "[CV 2/5] END max_depth=10, min_samples_leaf=8, min_samples_split=8, n_estimators=2500;, score=0.301 total time= 3.3min\n",
      "[CV 4/5] END max_depth=10, min_samples_leaf=8, min_samples_split=8, n_estimators=2500;, score=0.380 total time= 3.3min\n",
      "[CV 1/5] END max_depth=10, min_samples_leaf=8, min_samples_split=80, n_estimators=500;, score=0.490 total time=  33.8s\n",
      "[CV 2/5] END max_depth=10, min_samples_leaf=8, min_samples_split=80, n_estimators=500;, score=0.344 total time=  36.0s\n",
      "[CV 3/5] END max_depth=10, min_samples_leaf=8, min_samples_split=80, n_estimators=500;, score=0.543 total time=  33.8s\n",
      "[CV 4/5] END max_depth=10, min_samples_leaf=8, min_samples_split=80, n_estimators=500;, score=0.387 total time=  34.0s\n",
      "[CV 5/5] END max_depth=10, min_samples_leaf=8, min_samples_split=80, n_estimators=500;, score=0.416 total time=  33.5s\n",
      "[CV 2/5] END max_depth=10, min_samples_leaf=8, min_samples_split=80, n_estimators=2500;, score=0.347 total time= 2.8min\n",
      "[CV 4/5] END max_depth=10, min_samples_leaf=8, min_samples_split=80, n_estimators=2500;, score=0.384 total time= 2.8min\n",
      "[CV 1/5] END max_depth=10, min_samples_leaf=80, min_samples_split=8, n_estimators=500;, score=0.459 total time=  26.2s\n",
      "[CV 2/5] END max_depth=10, min_samples_leaf=80, min_samples_split=8, n_estimators=500;, score=0.353 total time=  26.1s\n",
      "[CV 3/5] END max_depth=10, min_samples_leaf=80, min_samples_split=8, n_estimators=500;, score=0.515 total time=  25.9s\n",
      "[CV 4/5] END max_depth=10, min_samples_leaf=80, min_samples_split=8, n_estimators=500;, score=0.351 total time=  26.2s\n",
      "[CV 5/5] END max_depth=10, min_samples_leaf=80, min_samples_split=8, n_estimators=500;, score=0.319 total time=  25.8s\n",
      "[CV 1/5] END max_depth=10, min_samples_leaf=80, min_samples_split=8, n_estimators=2500;, score=0.459 total time= 2.2min\n",
      "[CV 3/5] END max_depth=10, min_samples_leaf=80, min_samples_split=8, n_estimators=2500;, score=0.515 total time= 2.2min\n",
      "[CV 5/5] END max_depth=10, min_samples_leaf=80, min_samples_split=8, n_estimators=2500;, score=0.319 total time= 2.2min\n",
      "[CV 1/5] END max_depth=10, min_samples_leaf=80, min_samples_split=80, n_estimators=2500;, score=0.459 total time= 2.2min\n",
      "[CV 3/5] END max_depth=10, min_samples_leaf=80, min_samples_split=80, n_estimators=2500;, score=0.515 total time= 2.2min\n",
      "[CV 5/5] END max_depth=10, min_samples_leaf=80, min_samples_split=80, n_estimators=2500;, score=0.319 total time= 2.1min\n",
      "[CV 4/5] END max_depth=300, min_samples_leaf=8, min_samples_split=8, n_estimators=500;, score=0.380 total time=  45.4s\n",
      "[CV 1/5] END max_depth=300, min_samples_leaf=8, min_samples_split=8, n_estimators=2500;, score=0.478 total time= 3.8min\n",
      "[CV 3/5] END max_depth=300, min_samples_leaf=8, min_samples_split=8, n_estimators=2500;, score=0.556 total time= 3.8min\n",
      "[CV 5/5] END max_depth=300, min_samples_leaf=8, min_samples_split=8, n_estimators=2500;, score=0.463 total time= 3.8min\n",
      "[CV 2/5] END max_depth=300, min_samples_leaf=8, min_samples_split=80, n_estimators=2500;, score=0.349 total time= 3.0min\n",
      "[CV 4/5] END max_depth=300, min_samples_leaf=8, min_samples_split=80, n_estimators=2500;, score=0.385 total time= 2.9min\n",
      "[CV 1/5] END max_depth=300, min_samples_leaf=80, min_samples_split=8, n_estimators=500;, score=0.459 total time=  26.2s\n",
      "[CV 2/5] END max_depth=300, min_samples_leaf=80, min_samples_split=8, n_estimators=500;, score=0.353 total time=  25.9s\n",
      "[CV 3/5] END max_depth=300, min_samples_leaf=80, min_samples_split=8, n_estimators=500;, score=0.515 total time=  25.9s\n",
      "[CV 4/5] END max_depth=300, min_samples_leaf=80, min_samples_split=8, n_estimators=500;, score=0.351 total time=  26.2s\n",
      "[CV 5/5] END max_depth=300, min_samples_leaf=80, min_samples_split=8, n_estimators=500;, score=0.319 total time=  25.8s\n",
      "[CV 1/5] END max_depth=300, min_samples_leaf=80, min_samples_split=8, n_estimators=2500;, score=0.459 total time= 2.2min\n",
      "[CV 3/5] END max_depth=300, min_samples_leaf=80, min_samples_split=8, n_estimators=2500;, score=0.515 total time= 2.2min\n",
      "[CV 5/5] END max_depth=300, min_samples_leaf=80, min_samples_split=8, n_estimators=2500;, score=0.319 total time= 2.2min\n",
      "[CV 1/5] END max_depth=300, min_samples_leaf=80, min_samples_split=80, n_estimators=2500;, score=0.459 total time= 2.2min\n",
      "[CV 3/5] END max_depth=300, min_samples_leaf=80, min_samples_split=80, n_estimators=2500;, score=0.515 total time= 2.2min\n",
      "[CV 5/5] END max_depth=300, min_samples_leaf=80, min_samples_split=80, n_estimators=2500;, score=0.319 total time= 1.6min\n"
     ]
    }
   ],
   "source": [
    "# Fit the grid search model\n",
    "RF_grid_out.fit(X, Y_out.values.ravel())"
   ]
  },
  {
   "cell_type": "code",
   "execution_count": 49,
   "id": "274c6405-4e0a-466d-8c9b-17c517ba3f02",
   "metadata": {},
   "outputs": [
    {
     "name": "stdout",
     "output_type": "stream",
     "text": [
      "Best Score: 0.4384566873340452\n"
     ]
    }
   ],
   "source": [
    "print('Best Score: %s' % RF_grid_out.best_score_)"
   ]
  },
  {
   "cell_type": "code",
   "execution_count": 50,
   "id": "3adb22e9-46fb-4622-ba35-11f2cc19a760",
   "metadata": {},
   "outputs": [
    {
     "data": {
      "text/plain": [
       "{'max_depth': 300,\n",
       " 'min_samples_leaf': 8,\n",
       " 'min_samples_split': 80,\n",
       " 'n_estimators': 2500}"
      ]
     },
     "execution_count": 50,
     "metadata": {},
     "output_type": "execute_result"
    }
   ],
   "source": [
    "RF_grid_out.best_params_"
   ]
  },
  {
   "cell_type": "code",
   "execution_count": 65,
   "id": "e15613d1-2d2c-415a-9942-0dd6ee1a74d5",
   "metadata": {},
   "outputs": [
    {
     "name": "stdout",
     "output_type": "stream",
     "text": [
      "0.6113986943864123\n"
     ]
    }
   ],
   "source": [
    "best_grid = RF_grid_out.best_estimator_\n",
    "print(best_grid.score(X, Y_out))"
   ]
  },
  {
   "cell_type": "code",
   "execution_count": 66,
   "id": "2588905f-f9ed-4d24-9efe-246e60c5428b",
   "metadata": {},
   "outputs": [
    {
     "data": {
      "text/plain": [
       "RandomForestRegressor(max_depth=300, min_samples_leaf=8, min_samples_split=80,\n",
       "                      n_estimators=2500, random_state=1509)"
      ]
     },
     "execution_count": 66,
     "metadata": {},
     "output_type": "execute_result"
    }
   ],
   "source": [
    "best_grid.fit(X, Y_out.values.ravel())"
   ]
  },
  {
   "cell_type": "code",
   "execution_count": 67,
   "id": "74dc8772-9af3-436c-a4ab-38c0d744a933",
   "metadata": {},
   "outputs": [
    {
     "data": {
      "text/plain": [
       "0.7057793564482469"
      ]
     },
     "execution_count": 67,
     "metadata": {},
     "output_type": "execute_result"
    }
   ],
   "source": [
    "preds_RF_out = best_grid.predict(X)\n",
    "r2_score(Y_out, preds_RF_out)"
   ]
  },
  {
   "cell_type": "code",
   "execution_count": 52,
   "id": "c4d763c4-d087-474c-989b-1d33bfe4a2f8",
   "metadata": {},
   "outputs": [
    {
     "name": "stdout",
     "output_type": "stream",
     "text": [
      "Cross-validated scores: [0.37440636 0.3426772  0.48558579]\n"
     ]
    }
   ],
   "source": [
    "scores = cross_val_score(best_grid, X, Y_out.values.ravel(), cv = 3)\n",
    "print('Cross-validated scores:', scores)"
   ]
  },
  {
   "cell_type": "code",
   "execution_count": 53,
   "id": "73787aca-c8c7-4d70-b294-53c2fc889ba0",
   "metadata": {},
   "outputs": [
    {
     "data": {
      "text/plain": [
       "0.4008897832777349"
      ]
     },
     "execution_count": 53,
     "metadata": {},
     "output_type": "execute_result"
    }
   ],
   "source": [
    "scores.mean()"
   ]
  },
  {
   "cell_type": "markdown",
   "id": "65a36a0b-f65f-4e08-bf3e-2e4c9e5fe435",
   "metadata": {},
   "source": [
    "### Manually configure hyperparameters"
   ]
  },
  {
   "cell_type": "code",
   "execution_count": 45,
   "id": "9843a3aa-a239-400d-94a6-1e304cb73c6d",
   "metadata": {},
   "outputs": [],
   "source": [
    "RF_mod_out = RandomForestRegressor(random_state = 1509,\n",
    "                                   n_estimators = 1278,\n",
    "                                   max_depth = 195,\n",
    "                                   min_samples_split = 12,\n",
    "                                   min_samples_leaf = 1,\n",
    "                                   max_features = 'auto',\n",
    "                                   bootstrap = True)"
   ]
  },
  {
   "cell_type": "code",
   "execution_count": 46,
   "id": "e962ef11-2a32-4806-b53d-b18b1668c5b4",
   "metadata": {},
   "outputs": [
    {
     "data": {
      "text/plain": [
       "RandomForestRegressor(max_depth=195, min_samples_split=12, n_estimators=1278,\n",
       "                      random_state=1509)"
      ]
     },
     "execution_count": 46,
     "metadata": {},
     "output_type": "execute_result"
    }
   ],
   "source": [
    "# Fit the manually configured model\n",
    "RF_mod_out.fit(X, Y_out.values.ravel())"
   ]
  },
  {
   "cell_type": "code",
   "execution_count": 80,
   "id": "7321559c-147b-4456-a5db-25988ed3b577",
   "metadata": {},
   "outputs": [
    {
     "name": "stdout",
     "output_type": "stream",
     "text": [
      "{'bootstrap': True, 'ccp_alpha': 0.0, 'criterion': 'mse', 'max_depth': 125, 'max_features': 'auto', 'max_leaf_nodes': None, 'max_samples': None, 'min_impurity_decrease': 0.0, 'min_impurity_split': None, 'min_samples_leaf': 23, 'min_samples_split': 23, 'min_weight_fraction_leaf': 0.0, 'n_estimators': 1278, 'n_jobs': None, 'oob_score': False, 'random_state': 1509, 'verbose': 0, 'warm_start': False}\n"
     ]
    }
   ],
   "source": [
    "print(RF_mod_out.get_params())"
   ]
  },
  {
   "cell_type": "code",
   "execution_count": 47,
   "id": "f58e5197-83f0-44e5-8a17-89d578f4bcb7",
   "metadata": {},
   "outputs": [
    {
     "data": {
      "text/plain": [
       "0.8962271032343396"
      ]
     },
     "execution_count": 47,
     "metadata": {},
     "output_type": "execute_result"
    }
   ],
   "source": [
    "preds_RF_out = RF_mod_out.predict(X)\n",
    "r2_score(Y_out, preds_RF_out)"
   ]
  },
  {
   "cell_type": "code",
   "execution_count": null,
   "id": "38bc5f1a-f41e-46f5-a469-5a4157080e7f",
   "metadata": {},
   "outputs": [],
   "source": [
    "predictions = cross_val_predict(RF_mod_out, X, Y_out.values.ravel(), cv = 6)\n",
    "r2_score(Y_out, predictions)"
   ]
  },
  {
   "cell_type": "code",
   "execution_count": 64,
   "id": "8ae3ff40-d2da-4997-b7d1-2ff5f45f97d7",
   "metadata": {},
   "outputs": [
    {
     "name": "stdout",
     "output_type": "stream",
     "text": [
      "Cross-validated scores: [ 0.17849742 -0.12171697  0.22869577]\n"
     ]
    }
   ],
   "source": [
    "scores = cross_val_score(RF_mod_out, X, Y_out.values.ravel(), cv = 3)\n",
    "print('Cross-validated scores:', scores)"
   ]
  },
  {
   "cell_type": "markdown",
   "id": "42fe5908-ee05-4e14-ab13-87e581d7f863",
   "metadata": {},
   "source": [
    "### Predictions"
   ]
  },
  {
   "cell_type": "code",
   "execution_count": null,
   "id": "51c74294-93e2-4a5f-9a03-43bb21f4ffaf",
   "metadata": {},
   "outputs": [],
   "source": [
    "# Base model\n",
    "# preds_RF_train_out = RF_0.predict(X_train)\n",
    "# preds_RF_test_out = RF_0.predict(X_test)"
   ]
  },
  {
   "cell_type": "code",
   "execution_count": null,
   "id": "48f6b206-5fcc-4442-952e-834c23aa2ffc",
   "metadata": {
    "tags": []
   },
   "outputs": [],
   "source": [
    "# Manually configured model (outflows)\n",
    "preds_RF_train_out = RF_mod_out.predict(X_train)\n",
    "preds_RF_test_out = RF_mod_out.predict(X_test)"
   ]
  },
  {
   "cell_type": "code",
   "execution_count": null,
   "id": "bb6d4f7f-b93a-4b24-b691-f5717fb34cea",
   "metadata": {
    "tags": []
   },
   "outputs": [],
   "source": [
    "# Model tuned with randomized and grid search (outflows)\n",
    "preds_RF_train_out = RF_grid_out.predict(X_train)\n",
    "preds_RF_test_out = RF_grid_out.predict(X_test)"
   ]
  },
  {
   "cell_type": "code",
   "execution_count": null,
   "id": "92e9f3f4-c5c8-42f0-86b8-f4332c95e0db",
   "metadata": {},
   "outputs": [],
   "source": [
    "# Manually configured model (inflows)\n",
    "preds_RF_train_in = RF_mod_in.predict(X_train)\n",
    "preds_RF_test_in = RF_mod_in.predict(X_test)"
   ]
  },
  {
   "cell_type": "code",
   "execution_count": null,
   "id": "52136ead-9ace-4aef-8eaa-b02b19d0e259",
   "metadata": {},
   "outputs": [],
   "source": [
    "feather.write_feather(pd.DataFrame(preds_RF_train_out), results_dir + 'preds.RF.train_out_agg.feather')\n",
    "feather.write_feather(pd.DataFrame(preds_RF_test_out), results_dir + 'preds.RF.test_out_agg.feather')"
   ]
  },
  {
   "cell_type": "code",
   "execution_count": null,
   "id": "2d3bb413-7535-4bed-b1e4-18adcb05918e",
   "metadata": {},
   "outputs": [],
   "source": [
    "feather.write_feather(pd.DataFrame(preds_RF_train_in), results_dir + 'preds.RF.train_in_agg.feather')\n",
    "feather.write_feather(pd.DataFrame(preds_RF_test_in), results_dir + 'preds.RF.test_in_agg.feather')"
   ]
  },
  {
   "cell_type": "markdown",
   "id": "48670034-eb80-43af-a7eb-d8e445d50621",
   "metadata": {},
   "source": [
    "### Predictive accuracy"
   ]
  },
  {
   "cell_type": "code",
   "execution_count": null,
   "id": "bba1fde2-ba27-4bd2-978d-c46f5137afa8",
   "metadata": {
    "papermill": {
     "duration": 0.295035,
     "end_time": "2021-08-25T04:30:57.344235",
     "exception": false,
     "start_time": "2021-08-25T04:30:57.049200",
     "status": "completed"
    },
    "tags": []
   },
   "outputs": [],
   "source": [
    "print(\"RMSE of the training set (outflows):\", np.sqrt(mean_squared_error(Y_train_out, preds_RF_train_out)))\n",
    "print(\"R^2 of the training set (outflows):\", r2_score(Y_train_out, preds_RF_train_out))\n",
    "print(\"RMSE of the test set (outflows):\", np.sqrt(mean_squared_error(Y_test_out, preds_RF_test_out)))\n",
    "print(\"R^2 of the test set (outflows):\", r2_score(Y_test_out, preds_RF_test_out))"
   ]
  },
  {
   "cell_type": "code",
   "execution_count": null,
   "id": "f3df0397-98f5-43b2-b6cc-82429c1b7bc5",
   "metadata": {},
   "outputs": [],
   "source": [
    "print(\"RMSE of the training set (inflows):\", np.sqrt(mean_squared_error(Y_train_in, preds_RF_train_in)))\n",
    "print(\"R^2 of the training set (inflows):\", r2_score(Y_train_in, preds_RF_train_in))\n",
    "print(\"RMSE of the test set (inflows):\", np.sqrt(mean_squared_error(Y_test_in, preds_RF_test_in)))\n",
    "print(\"R^2 of the test set (inflows):\", r2_score(Y_test_in, preds_RF_test_in))"
   ]
  },
  {
   "cell_type": "code",
   "execution_count": null,
   "id": "5cf03290-1dc7-44f2-bb87-0484939cf1b2",
   "metadata": {},
   "outputs": [],
   "source": [
    "print('Mean Absolute Error (outflows):', metrics.mean_absolute_error(Y_test_out, preds_RF_test_out))\n",
    "print('Mean Squared Error of the training set (outflows):', mean_squared_error(Y_train_out, preds_RF_train_out))\n",
    "print('Mean Squared Error of the test set (outflows):', mean_squared_error(Y_test_out, preds_RF_test_out))\n",
    "# print('Dollar RMSE of the training set (outflows):', np.mean(np.square((np.exp(Y_train_out.values) - np.exp(preds_RF_train_out)))))\n",
    "# print('Dollar RMSE of the test set (outflows):', np.mean(np.square((np.exp(Y_test_out.values) - np.exp(preds_RF_test_out)))))"
   ]
  },
  {
   "cell_type": "code",
   "execution_count": null,
   "id": "e7fed726-f1b5-4b40-9fa5-77b591ce46a6",
   "metadata": {},
   "outputs": [],
   "source": [
    "print('Mean Absolute Error (inflows):', metrics.mean_absolute_error(Y_test_in, preds_RF_test_in))  \n",
    "print('Mean Squared Error of the training set (inflows):', mean_squared_error(Y_train_in, preds_RF_train_in))\n",
    "print('Mean Squared Error of the test set (inflows):', mean_squared_error(Y_test_in, preds_RF_test_in))\n",
    "#print('Dollar RMSE of the training set (inflows):', np.mean(np.square(np.exp(Y_train_in.values)/10**3 - np.exp(preds_RF_train_in)/10**3)))\n",
    "#print('Dollar RMSE of the test set (inflows):', np.mean(np.square(np.exp(Y_test_in.values)/10**3 - np.exp(preds_RF_test_in)/10**3)))"
   ]
  },
  {
   "cell_type": "markdown",
   "id": "3765c220-fe39-410f-9792-26a34b2588d0",
   "metadata": {},
   "source": [
    "### Cross-validation"
   ]
  },
  {
   "cell_type": "code",
   "execution_count": null,
   "id": "429acb56-83da-4fba-a5ad-73cc75774060",
   "metadata": {},
   "outputs": [],
   "source": [
    "RF_mod_CV = RandomForestRegressor(random_state = 1509,\n",
    "                                  n_estimators = 1278,\n",
    "                                  max_depth = 125,\n",
    "                                  min_samples_split = 23,\n",
    "                                  min_samples_leaf = 23,\n",
    "                                  max_features = 'auto',\n",
    "                                  bootstrap = True)"
   ]
  },
  {
   "cell_type": "code",
   "execution_count": null,
   "id": "78bb96be-1bb9-48f1-9a47-efab1a649b82",
   "metadata": {},
   "outputs": [],
   "source": [
    "scores = cross_val_score(RF_mod_CV, X, Y_out.values.ravel(), cv = 6)\n",
    "print('Cross-validated scores:', scores)"
   ]
  },
  {
   "cell_type": "code",
   "execution_count": null,
   "id": "3a1f4c58-30de-421d-b51a-662d5044e43a",
   "metadata": {},
   "outputs": [],
   "source": [
    "scores.mean()"
   ]
  },
  {
   "cell_type": "code",
   "execution_count": 68,
   "id": "35a46e19-a310-4eb9-a2d5-9d9271738c45",
   "metadata": {},
   "outputs": [
    {
     "data": {
      "text/plain": [
       "0.21085539345854087"
      ]
     },
     "execution_count": 68,
     "metadata": {},
     "output_type": "execute_result"
    }
   ],
   "source": [
    "predictions = cross_val_predict(best_grid, X, Y_out.values.ravel(), cv = 3)\n",
    "r2_score(Y_out, predictions)"
   ]
  },
  {
   "cell_type": "code",
   "execution_count": 69,
   "id": "17d0bbef-d144-4457-b048-fe14f8f9dd86",
   "metadata": {},
   "outputs": [],
   "source": [
    "feather.write_feather(pd.DataFrame(predictions), results_dir + 'preds.RF.CV_out.feather')"
   ]
  },
  {
   "cell_type": "markdown",
   "id": "e37aaf38-8ff0-4364-97e8-7769611be552",
   "metadata": {},
   "source": [
    "### Visualize results"
   ]
  },
  {
   "cell_type": "code",
   "execution_count": null,
   "id": "288fa3d7-075e-496f-8266-2b9d8e1e6fac",
   "metadata": {
    "tags": []
   },
   "outputs": [],
   "source": [
    "feat_importances = pd.Series(best_random.feature_importances_, index = X.columns)\n",
    "indices = np.argsort(-1*feat_importances)\n",
    "names = [X_train.columns[i] for i in indices]\n",
    "fig, ax = plt.subplots(figsize = (10, 10))\n",
    "plt.barh(range(X_train.shape[1]), feat_importances[indices], color = 'red')\n",
    "plt.yticks(range(X_train.shape[1]), names, fontsize = 12)\n",
    "plt.gca().invert_yaxis()\n",
    "ax.set_xlabel('Feature importance')\n",
    "plt.title(\"Random Forest - Feature importance for illicit outflows\", fontsize = 16)\n",
    "plt.savefig(results_dir + 'RF_feature_importance_out.png')"
   ]
  },
  {
   "cell_type": "code",
   "execution_count": null,
   "id": "9260cc6c-368c-43c0-a7d2-43643cfaeeaf",
   "metadata": {},
   "outputs": [],
   "source": [
    "feat_importances = pd.Series(RF_mod_in.feature_importances_, index=X_train.columns)\n",
    "indices = np.argsort(-1*feat_importances)\n",
    "names = [X_train.columns[i] for i in indices]\n",
    "fig, ax = plt.subplots(figsize = (10, 10))\n",
    "plt.barh(range(X_train.shape[1]), feat_importances[indices], color = 'red')\n",
    "plt.yticks(range(X_train.shape[1]), names, fontsize = 12)\n",
    "plt.gca().invert_yaxis()\n",
    "ax.set_xlabel('Feature importance')\n",
    "plt.title(\"Random Forest - Feature importance for illicit inflows\", fontsize = 16)\n",
    "plt.savefig(results_dir + 'RF_feature_importance_in.png')"
   ]
  },
  {
   "cell_type": "code",
   "execution_count": null,
   "id": "cbf4fa8f-e5d5-415b-96d3-fee7b5d6e049",
   "metadata": {
    "tags": []
   },
   "outputs": [],
   "source": [
    "tree.export_graphviz(RF_mod_out.estimators_[0])"
   ]
  },
  {
   "cell_type": "code",
   "execution_count": null,
   "id": "0d5e52a2-90c0-42f3-bf14-ef5f976a55ba",
   "metadata": {},
   "outputs": [],
   "source": [
    "tree.plot_tree(RF_mod_out.estimators_[0])"
   ]
  },
  {
   "cell_type": "markdown",
   "id": "549e2901-c77b-4274-9d6a-4982fcc397c2",
   "metadata": {},
   "source": [
    "### Nested cross-validation"
   ]
  },
  {
   "cell_type": "code",
   "execution_count": null,
   "id": "e9fd304a-ef39-4cc2-9957-80cc29dc6ff5",
   "metadata": {},
   "outputs": [],
   "source": [
    "# Number of trees in random forest\n",
    "n_estimators = [int(x) for x in np.linspace(start = 10, stop = 3000, num = 100)]\n",
    "\n",
    "# Maximum number of levels in tree\n",
    "max_depth = [int(x) for x in np.linspace(5, 500, num = 100)]\n",
    "max_depth.append(None)\n",
    "\n",
    "# Minimum number of samples required to split a node\n",
    "min_samples_split = [int(x) for x in np.linspace(2, 50, num = 10)]\n",
    "\n",
    "# Minimum number of samples required at each leaf node\n",
    "min_samples_leaf = [int(x) for x in np.linspace(1, 100, num = 10)]\n",
    "\n",
    "# Number of features to consider at every split\n",
    "max_features = ['auto', 'sqrt']\n",
    "\n",
    "# Method of selecting samples for training each tree\n",
    "bootstrap = [True, False]\n",
    "\n",
    "# Create the parameter grid\n",
    "param_grid = {'n_estimators': n_estimators,\n",
    "              'max_depth': max_depth,\n",
    "              'min_samples_split': min_samples_split,\n",
    "              'min_samples_leaf': min_samples_leaf,\n",
    "              'max_features': max_features,\n",
    "              'bootstrap': bootstrap}"
   ]
  },
  {
   "cell_type": "code",
   "execution_count": null,
   "id": "59a747e8-a126-4690-a8c3-f00c29efbb7c",
   "metadata": {},
   "outputs": [],
   "source": [
    "# Perform nested cross-validation\n",
    "RF_mod_NCV = NestedCV(model = RandomForestRegressor(random_state = 1509), \n",
    "                      params_grid = param_grid,\n",
    "                      outer_kfolds = 5, inner_kfolds = 5,\n",
    "                      n_jobs = -1,\n",
    "                      cv_options={'metric': r2_score,\n",
    "                                  'randomized_search': True,\n",
    "                                  'randomized_search_iter': 10})"
   ]
  },
  {
   "cell_type": "code",
   "execution_count": null,
   "id": "bcc57124-5678-4737-b8cc-1f2464c3df88",
   "metadata": {},
   "outputs": [],
   "source": [
    "# Fit the nested cross-validated model\n",
    "RF_mod_NCV.fit(X = X, y = Y_out.values.ravel())"
   ]
  },
  {
   "cell_type": "code",
   "execution_count": null,
   "id": "a8d37a9d-75da-4b1e-83d9-f7715d41b54f",
   "metadata": {},
   "outputs": [],
   "source": [
    "RF_mod_NCV.outer_scores"
   ]
  },
  {
   "cell_type": "code",
   "execution_count": null,
   "id": "23350025-9e01-416d-b2a9-0dd3860c155a",
   "metadata": {},
   "outputs": [],
   "source": [
    "np.mean(RF_mod_NCV.outer_scores)"
   ]
  },
  {
   "cell_type": "code",
   "execution_count": null,
   "id": "cb8d8f24-e112-464d-9e02-64e3cc8ddad9",
   "metadata": {
    "papermill": {
     "duration": 0.295035,
     "end_time": "2021-08-25T04:30:57.344235",
     "exception": false,
     "start_time": "2021-08-25T04:30:57.049200",
     "status": "completed"
    },
    "tags": []
   },
   "outputs": [],
   "source": [
    "RF_mod_NCV.best_params"
   ]
  },
  {
   "cell_type": "markdown",
   "id": "b1562274",
   "metadata": {
    "papermill": {
     "duration": 0.023734,
     "end_time": "2021-08-25T04:30:55.074967",
     "exception": false,
     "start_time": "2021-08-25T04:30:55.051233",
     "status": "completed"
    },
    "tags": []
   },
   "source": [
    "## Light GBM"
   ]
  },
  {
   "cell_type": "code",
   "execution_count": null,
   "id": "c6a76a8b",
   "metadata": {
    "papermill": {
     "duration": 0.020547,
     "end_time": "2021-08-25T04:30:55.112011",
     "exception": false,
     "start_time": "2021-08-25T04:30:55.091464",
     "status": "completed"
    },
    "tags": []
   },
   "outputs": [],
   "source": [
    "lightGBM_train_out = lgb.Dataset(X_train, Y_train_out)\n",
    "lightGBM_test_out = lgb.Dataset(X_test, Y_test_out)\n",
    "lightGBM_train_in = lgb.Dataset(X_train, Y_train_in)\n",
    "lightGBM_test_in = lgb.Dataset(X_test, Y_test_in)"
   ]
  },
  {
   "cell_type": "code",
   "execution_count": null,
   "id": "21a10b8a",
   "metadata": {
    "papermill": {
     "duration": 1.909577,
     "end_time": "2021-08-25T04:30:57.034838",
     "exception": false,
     "start_time": "2021-08-25T04:30:55.125261",
     "status": "completed"
    },
    "tags": []
   },
   "outputs": [],
   "source": [
    "params = {\n",
    "    'objective' : 'regression',\n",
    "    'metric' : 'rmse',\n",
    "    'num_leaves' : 100,\n",
    "    'max_depth': 10,\n",
    "    'learning_rate' : 0.1,\n",
    "    'feature_fraction' : 0.6,\n",
    "    'verbosity' : -1,\n",
    "    'random_state' : 1509\n",
    "}\n",
    "lightGBM_mod_out = lgb.train(\n",
    "    params,\n",
    "    lightGBM_train_out,\n",
    "    500,\n",
    "    valid_sets = [lightGBM_train_out, lightGBM_test_out],\n",
    "    valid_names = [\"train\", \"test\"],\n",
    "    early_stopping_rounds = 50,\n",
    "    verbose_eval = 500\n",
    ")"
   ]
  },
  {
   "cell_type": "code",
   "execution_count": null,
   "id": "4dba9d36",
   "metadata": {},
   "outputs": [],
   "source": [
    "params = {\n",
    "    'objective' : 'regression',\n",
    "    'metric' : 'rmse',\n",
    "    'num_leaves' : 100,\n",
    "    'max_depth': 10,\n",
    "    'learning_rate' : 0.1,\n",
    "    'feature_fraction' : 0.6,\n",
    "    'verbosity' : -1,\n",
    "    'random_state' : 1509\n",
    "}\n",
    "lightGBM_mod_in = lgb.train(\n",
    "    params,\n",
    "    lightGBM_train_in,\n",
    "    500,\n",
    "    valid_sets = [lightGBM_train_in, lightGBM_test_in],\n",
    "    valid_names = [\"train\", \"test\"],\n",
    "    early_stopping_rounds = 50,\n",
    "    verbose_eval = 500\n",
    ")"
   ]
  },
  {
   "cell_type": "code",
   "execution_count": 63,
   "id": "5f5a7ed6-0a4c-4048-b270-ea981a0573b0",
   "metadata": {},
   "outputs": [
    {
     "data": {
      "text/plain": [
       "0.722053692562466"
      ]
     },
     "execution_count": 63,
     "metadata": {},
     "output_type": "execute_result"
    }
   ],
   "source": [
    "preds_lightGBM_out = lightGBM_mod_out.predict(X)\n",
    "r2_score(Y_out, preds_lightGBM_out)"
   ]
  },
  {
   "cell_type": "code",
   "execution_count": null,
   "id": "a21c6eb9-595c-47b3-a03a-720611f31d1c",
   "metadata": {},
   "outputs": [],
   "source": [
    "predictions = cross_val_predict(lightGBM_mod_out, X, Y_out.values.ravel(), cv = 6)\n",
    "r2_score(Y_out, predictions)"
   ]
  },
  {
   "cell_type": "code",
   "execution_count": 64,
   "id": "1a5023db-3d20-4454-9673-1c074aa5bf3a",
   "metadata": {},
   "outputs": [
    {
     "name": "stdout",
     "output_type": "stream",
     "text": [
      "Cross-validated scores: [ 0.17849742 -0.12171697  0.22869577]\n"
     ]
    }
   ],
   "source": [
    "scores = cross_val_score(lightGBM_mod_out, X, Y_out.values.ravel(), cv = 3)\n",
    "print('Cross-validated scores:', scores)"
   ]
  },
  {
   "cell_type": "code",
   "execution_count": null,
   "id": "155c4e14",
   "metadata": {
    "papermill": {
     "duration": 0.161112,
     "end_time": "2021-08-25T04:30:57.996472",
     "exception": false,
     "start_time": "2021-08-25T04:30:57.835360",
     "status": "completed"
    },
    "tags": []
   },
   "outputs": [],
   "source": [
    "preds_lightGBM_train_out = pd.DataFrame(lightGBM_mod_out.predict(X_train))\n",
    "preds_lightGBM_test_out = pd.DataFrame(lightGBM_mod_out.predict(X_test))"
   ]
  },
  {
   "cell_type": "code",
   "execution_count": null,
   "id": "bb66fbab",
   "metadata": {},
   "outputs": [],
   "source": [
    "preds_lightGBM_train_in = pd.DataFrame(lightGBM_mod_in.predict(X_train))\n",
    "preds_lightGBM_test_in = pd.DataFrame(lightGBM_mod_in.predict(X_test))"
   ]
  },
  {
   "cell_type": "code",
   "execution_count": null,
   "id": "7737bf27",
   "metadata": {
    "papermill": {
     "duration": 0.024682,
     "end_time": "2021-08-25T04:30:58.037404",
     "exception": false,
     "start_time": "2021-08-25T04:30:58.012722",
     "status": "completed"
    },
    "tags": []
   },
   "outputs": [],
   "source": [
    "feather.write_feather(preds_lightGBM_train_out, results_dir + 'preds.lightGBM.train_out_agg.feather')\n",
    "feather.write_feather(preds_lightGBM_test_out, results_dir + 'preds.lightGBM.test_out_agg.feather')"
   ]
  },
  {
   "cell_type": "code",
   "execution_count": null,
   "id": "ef229528",
   "metadata": {},
   "outputs": [],
   "source": [
    "feather.write_feather(preds_lightGBM_train_in, results_dir + 'preds.lightGBM.train_in_agg.feather')\n",
    "feather.write_feather(preds_lightGBM_test_in, results_dir + 'preds.lightGBM.test_in_agg.feather')"
   ]
  },
  {
   "cell_type": "code",
   "execution_count": null,
   "id": "1bf6d0a6",
   "metadata": {
    "papermill": {
     "duration": 0.295035,
     "end_time": "2021-08-25T04:30:57.344235",
     "exception": false,
     "start_time": "2021-08-25T04:30:57.049200",
     "status": "completed"
    },
    "tags": []
   },
   "outputs": [],
   "source": [
    "print(\"RMSE of the training set (outflows):\", np.sqrt(mean_squared_error(Y_train_out, preds_lightGBM_train_out)))\n",
    "print(\"R^2 of the training set (outflows):\", r2_score(Y_train_out, preds_lightGBM_train_out))\n",
    "print(\"RMSE of the test set (outflows):\", np.sqrt(mean_squared_error(Y_test_out, preds_lightGBM_test_out)))\n",
    "print(\"R^2 of the test set (outflows):\", r2_score(Y_test_out, preds_lightGBM_test_out))"
   ]
  },
  {
   "cell_type": "code",
   "execution_count": null,
   "id": "28599536",
   "metadata": {
    "scrolled": true
   },
   "outputs": [],
   "source": [
    "print(\"RMSE of the training set (inflows):\", np.sqrt(mean_squared_error(Y_train_in, preds_lightGBM_train_in)))\n",
    "print(\"R^2 of the training set (inflows):\", r2_score(Y_train_in, preds_lightGBM_train_in))\n",
    "print(\"RMSE of the test set (inflows):\", np.sqrt(mean_squared_error(Y_test_in, preds_lightGBM_test_in)))\n",
    "print(\"R^2 of the test set (inflows):\", r2_score(Y_test_in, preds_lightGBM_test_in))"
   ]
  },
  {
   "cell_type": "code",
   "execution_count": null,
   "id": "f65b515c",
   "metadata": {},
   "outputs": [],
   "source": [
    "print('Mean Absolute Error (outflows):', metrics.mean_absolute_error(Y_test_out, preds_lightGBM_test_out))\n",
    "print('Mean Squared Error of the training set (outflows):', mean_squared_error(Y_train_out, preds_lightGBM_train_out))\n",
    "print('Mean Squared Error of the test set (outflows):', mean_squared_error(Y_test_out, preds_lightGBM_test_out))\n",
    "#print('Dollar RMSE of the training set (outflows):', np.mean(np.square(np.exp(Y_train_out.values)*10**3 - np.exp(preds_lightGBM_train_out)*10**3)) / 10**6)\n",
    "#print('Dollar RMSE of the test set (outflows):', np.mean(np.square(np.exp(Y_test_out.values)*10**3 - np.exp(preds_lightGBM_test_out)*10**3)) / 10**6)"
   ]
  },
  {
   "cell_type": "code",
   "execution_count": null,
   "id": "41d60f8e",
   "metadata": {},
   "outputs": [],
   "source": [
    "print('Mean Absolute Error (inflows):', metrics.mean_absolute_error(Y_test_in, preds_lightGBM_test_in))\n",
    "print('Mean Squared Error of the training set (inflows):', mean_squared_error(Y_train_in, preds_lightGBM_train_in))\n",
    "print('Mean Squared Error of the test set (inflows):', mean_squared_error(Y_test_in, preds_lightGBM_test_in))\n",
    "#print('Dollar RMSE of the training set (inflows):', np.mean(np.square(np.exp(Y_train_in.values)/10**3 - np.exp(preds_lightGBM_train_in)/10**3)))\n",
    "#print('Dollar RMSE of the test set (inflows):', np.mean(np.square(np.exp(Y_test_in.values)/10**3 - np.exp(preds_lightGBM_test_in)/10**3)))"
   ]
  },
  {
   "cell_type": "code",
   "execution_count": null,
   "id": "9622c0b0",
   "metadata": {
    "papermill": {
     "duration": 0.462821,
     "end_time": "2021-08-25T04:30:57.820356",
     "exception": false,
     "start_time": "2021-08-25T04:30:57.357535",
     "status": "completed"
    },
    "tags": []
   },
   "outputs": [],
   "source": [
    "fig, ax = plt.subplots(figsize = (10, 10))\n",
    "lgb.plot_importance(lightGBM_mod_out, height = 0.8, ax = ax)\n",
    "ax.grid(False)\n",
    "plt.title(\"LightGBM - Feature importance for illicit outflows\", fontsize = 16)\n",
    "plt.savefig(results_dir + 'LightGBM_feature_importance_out.png')"
   ]
  },
  {
   "cell_type": "code",
   "execution_count": null,
   "id": "b5dc5581",
   "metadata": {
    "papermill": {
     "duration": 0.462821,
     "end_time": "2021-08-25T04:30:57.820356",
     "exception": false,
     "start_time": "2021-08-25T04:30:57.357535",
     "status": "completed"
    },
    "tags": []
   },
   "outputs": [],
   "source": [
    "fig, ax = plt.subplots(figsize = (10,10))\n",
    "lgb.plot_importance(lightGBM_mod_in, height = 0.8, ax = ax)\n",
    "ax.grid(False)\n",
    "plt.title(\"LightGBM - Feature importance for illicit inflows\", fontsize = 16)\n",
    "plt.savefig(results_dir + 'LightGBM_feature_importance_in.png')"
   ]
  }
 ],
 "metadata": {
  "kernelspec": {
   "display_name": "Python 3 (ipykernel)",
   "language": "python",
   "name": "python3"
  },
  "language_info": {
   "codemirror_mode": {
    "name": "ipython",
    "version": 3
   },
   "file_extension": ".py",
   "mimetype": "text/x-python",
   "name": "python",
   "nbconvert_exporter": "python",
   "pygments_lexer": "ipython3",
   "version": "3.9.6"
  },
  "papermill": {
   "default_parameters": {},
   "duration": 8.293491,
   "end_time": "2021-08-25T04:30:59.376719",
   "environment_variables": {},
   "exception": null,
   "input_path": "Scripts/Predictions.ipynb",
   "output_path": "Scripts/Predictions.ipynb",
   "parameters": {},
   "start_time": "2021-08-25T04:30:51.083228",
   "version": "2.3.3"
  },
  "toc": {
   "base_numbering": 1,
   "nav_menu": {},
   "number_sections": true,
   "sideBar": false,
   "skip_h1_title": true,
   "title_cell": "Table of Contents",
   "title_sidebar": "Contents",
   "toc_cell": false,
   "toc_position": {
    "height": "745px",
    "left": "177px",
    "top": "218px",
    "width": "165px"
   },
   "toc_section_display": false,
   "toc_window_display": true
  }
 },
 "nbformat": 4,
 "nbformat_minor": 5
}
