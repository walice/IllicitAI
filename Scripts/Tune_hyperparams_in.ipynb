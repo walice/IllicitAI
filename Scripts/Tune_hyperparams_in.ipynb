{
 "cells": [
  {
   "cell_type": "markdown",
   "id": "0dcbfa94-b9c5-435b-9f89-6f5b4c43be46",
   "metadata": {
    "papermill": {
     "duration": 0.012854,
     "end_time": "2021-08-25T04:30:52.046180",
     "exception": false,
     "start_time": "2021-08-25T04:30:52.033326",
     "status": "completed"
    },
    "tags": []
   },
   "source": [
    "# Predictions"
   ]
  },
  {
   "cell_type": "markdown",
   "id": "99c44811-2186-4277-911a-ff940e34ff01",
   "metadata": {
    "papermill": {
     "duration": 0.012582,
     "end_time": "2021-08-25T04:30:52.072441",
     "exception": false,
     "start_time": "2021-08-25T04:30:52.059859",
     "status": "completed"
    },
    "tags": []
   },
   "source": [
    "## Data wrangling"
   ]
  },
  {
   "cell_type": "code",
   "execution_count": 2,
   "id": "d2f5d343-55f4-43d0-9b14-5d79fc7094ee",
   "metadata": {
    "papermill": {
     "duration": 1.90378,
     "end_time": "2021-08-25T04:30:53.987733",
     "exception": false,
     "start_time": "2021-08-25T04:30:52.083953",
     "status": "completed"
    },
    "tags": []
   },
   "outputs": [],
   "source": [
    "# Preamble\n",
    "import pandas as pd\n",
    "import numpy as np\n",
    "pd.set_option(\"mode.chained_assignment\", None)\n",
    "import random\n",
    "random.seed(1509)\n",
    "import matplotlib.pyplot as plt\n",
    "import lightgbm as lgb\n",
    "import pyarrow.feather as feather\n",
    "from os import chdir, getcwd\n",
    "import statsmodels.api as sm\n",
    "from pprint import pprint\n",
    "from nested_cv import NestedCV\n",
    "\n",
    "# sci-kit\n",
    "from sklearn.linear_model import LinearRegression\n",
    "from sklearn.neural_network import MLPRegressor\n",
    "from sklearn.ensemble import RandomForestRegressor\n",
    "from sklearn import svm\n",
    "from sklearn.preprocessing import StandardScaler\n",
    "from sklearn.model_selection import train_test_split, GridSearchCV, RandomizedSearchCV, cross_val_score, cross_val_predict\n",
    "from sklearn import metrics\n",
    "from sklearn.metrics import r2_score, mean_squared_error, explained_variance_score\n",
    "from sklearn import tree"
   ]
  },
  {
   "cell_type": "code",
   "execution_count": 3,
   "id": "6cbed92b-623c-4293-9927-1ae51e505de2",
   "metadata": {
    "papermill": {
     "duration": 0.019207,
     "end_time": "2021-08-25T04:30:54.023305",
     "exception": false,
     "start_time": "2021-08-25T04:30:54.004098",
     "status": "completed"
    },
    "tags": []
   },
   "outputs": [],
   "source": [
    "data_dir = '/home/jovyan/work/Data/'\n",
    "results_dir = '/home/jovyan/work/Results/'"
   ]
  },
  {
   "cell_type": "code",
   "execution_count": 4,
   "id": "aa5789cf-f1d7-4d3d-a2a3-6568a164c189",
   "metadata": {},
   "outputs": [],
   "source": [
    "select_features = ['reporter.ISO', 'partner.ISO', 'year',\n",
    "                   'ln.Tot_IFF_t', 'ln.In_Tot_IFF_t',\n",
    "                   'ln.gdp_o', 'ln.gdp_d', 'ln.pop_o', 'ln.pop_d', \n",
    "                   'dist', 'contig', \n",
    "                   'comlang', 'comcol', 'col45', \n",
    "                   'ihs.entry_cost_o', 'ihs.entry_cost_d', 'rta',\n",
    "                   'rCorrCont', 'pCorrCont',\n",
    "                   'rRegQual', 'pRegQual', \n",
    "                   'rRuleLaw', 'pRuleLaw',\n",
    "                   'pSecrecyScore',\n",
    "                   'pFSI.rank',\n",
    "                   'pKFSI13',\n",
    "                   'pKFSI17',\n",
    "                   'pKFSI20',\n",
    "                   'rFATF', 'pFATF',\n",
    "                   'ihs.tariff',\n",
    "                   'kai_o', 'kai_d', 'kao_o', 'kao_d',\n",
    "                   'cc_o', 'cc_d', 'cci_o', 'cci_d', 'cco_o', 'cco_d',\n",
    "                   'di_o', 'di_d', 'dii_o', 'dii_d', 'dio_o', 'dio_d']\n",
    "\n",
    "features = [       'ln.gdp_o', 'ln.gdp_d', 'ln.pop_o', 'ln.pop_d', \n",
    "                   'dist', 'contig', \n",
    "                   'comlang', 'comcol', 'col45', \n",
    "                   'ihs.entry_cost_o', 'ihs.entry_cost_d', 'rta',\n",
    "                   'rCorrCont', 'pCorrCont',\n",
    "                   'rRegQual', 'pRegQual', \n",
    "                   'rRuleLaw', 'pRuleLaw',\n",
    "                   'pSecrecyScore',\n",
    "                   'pFSI.rank',\n",
    "                   'pKFSI13',\n",
    "                   'pKFSI17',\n",
    "                   'pKFSI20',\n",
    "                   'rFATF', 'pFATF',\n",
    "                   'ihs.tariff',\n",
    "                   'kai_o', 'kai_d', 'kao_o', 'kao_d',\n",
    "                   'cc_o', 'cc_d', 'cci_o', 'cci_d', 'cco_o', 'cco_d',\n",
    "                   'di_o', 'di_d', 'dii_o', 'dii_d', 'dio_o', 'dio_d']\n",
    "\n",
    "ids = [       'reporter.ISO', 'partner.ISO', 'year']"
   ]
  },
  {
   "cell_type": "markdown",
   "id": "a6cbf9da-0af7-4d89-9227-d63c9f5e9b04",
   "metadata": {
    "papermill": {
     "duration": 0.011902,
     "end_time": "2021-08-25T04:30:54.080630",
     "exception": false,
     "start_time": "2021-08-25T04:30:54.068728",
     "status": "completed"
    },
    "tags": []
   },
   "source": [
    "## Subset sample"
   ]
  },
  {
   "cell_type": "code",
   "execution_count": 5,
   "id": "1fde298e-5a63-4156-ab1b-60d602b5ceac",
   "metadata": {},
   "outputs": [],
   "source": [
    "data = feather.read_feather(results_dir + 'Africa_agg.feather')"
   ]
  },
  {
   "cell_type": "code",
   "execution_count": 6,
   "id": "d0c5dcdb-b4bd-41ad-866f-d7c825166f23",
   "metadata": {},
   "outputs": [],
   "source": [
    "def create_smp(data, features):\n",
    "    \"\"\"\n",
    "    Create train and test samples that are complete.\n",
    "    \"\"\"\n",
    "    smp = data[features]\n",
    "    smp.dropna(axis=0, how='any', inplace=True)\n",
    "    return smp"
   ]
  },
  {
   "cell_type": "code",
   "execution_count": 7,
   "id": "b51ac6c8-48d2-4ce6-ae58-53f8c8112d82",
   "metadata": {},
   "outputs": [],
   "source": [
    "data_smp = create_smp(data, select_features)"
   ]
  },
  {
   "cell_type": "code",
   "execution_count": 8,
   "id": "162d5e90-06b2-418b-8e9c-143989679f34",
   "metadata": {},
   "outputs": [],
   "source": [
    "idx = data_smp[ids]\n",
    "X = data_smp[features]\n",
    "# Y_out = data_smp[['ln.Tot_IFF_t']]\n",
    "Y_in = data_smp[['ln.In_Tot_IFF_t']]"
   ]
  },
  {
   "cell_type": "code",
   "execution_count": 51,
   "id": "93054b4b-2432-4ebd-844f-6461091406f6",
   "metadata": {},
   "outputs": [],
   "source": [
    "feather.write_feather(idx, results_dir + 'idx.feather')\n",
    "feather.write_feather(X, results_dir + 'X.feather')\n",
    "# feather.write_feather(Y_out, results_dir + 'Y_out.feather')\n",
    "feather.write_feather(Y_in, results_dir + 'Y_in.feather')"
   ]
  },
  {
   "cell_type": "code",
   "execution_count": 50,
   "id": "9d6b722e-b6a0-4b4d-a289-d3d20fe65e27",
   "metadata": {},
   "outputs": [
    {
     "name": "stdout",
     "output_type": "stream",
     "text": [
      "X:  (5333, 42)\n",
      "Y_out:  (5333, 1)\n",
      "idx:  (4256, 3)\n"
     ]
    }
   ],
   "source": [
    "print('X: ', X.shape)\n",
    "print('Y_in: ', Y_in.shape)\n",
    "print('idx: ', idx.shape)"
   ]
  },
  {
   "cell_type": "markdown",
   "id": "bde62c3a-2860-47ad-a22e-60356599132c",
   "metadata": {},
   "source": [
    "### Train/test split"
   ]
  },
  {
   "cell_type": "code",
   "execution_count": 11,
   "id": "48ba7583-b54c-4be2-aa51-9d557a92362c",
   "metadata": {},
   "outputs": [],
   "source": [
    "train_agg = feather.read_feather(results_dir + 'train_agg.feather')\n",
    "test_agg = feather.read_feather(results_dir + 'test_agg.feather')"
   ]
  },
  {
   "cell_type": "code",
   "execution_count": 12,
   "id": "26357f19-1800-4c07-a313-05e753130740",
   "metadata": {},
   "outputs": [],
   "source": [
    "train_agg_smp = create_smp(train_agg, select_features)\n",
    "test_agg_smp = create_smp(test_agg, select_features)"
   ]
  },
  {
   "cell_type": "code",
   "execution_count": 13,
   "id": "f5eb095d-a8da-414e-80fa-84e5c43f2e09",
   "metadata": {},
   "outputs": [],
   "source": [
    "feather.write_feather(train_agg_smp, results_dir + 'train_agg_smp.feather')\n",
    "feather.write_feather(test_agg_smp, results_dir + 'test_agg_smp.feather')"
   ]
  },
  {
   "cell_type": "code",
   "execution_count": 14,
   "id": "ad700cd4-4ad0-4f2e-b2cc-85cc1fe6da19",
   "metadata": {},
   "outputs": [],
   "source": [
    "# Y_train_out = train_agg_smp[['ln.Tot_IFF_t']]\n",
    "Y_train_in = train_agg_smp[['ln.In_Tot_IFF_t']]\n",
    "X_train = train_agg_smp[features]\n",
    "# Y_test_out = test_agg_smp[['ln.Tot_IFF_t']]\n",
    "Y_test_in = test_agg_smp[['ln.In_Tot_IFF_t']]\n",
    "X_test = test_agg_smp[features]"
   ]
  },
  {
   "cell_type": "code",
   "execution_count": 48,
   "id": "579a3df2-79f8-457a-8397-9723f8ee8909",
   "metadata": {},
   "outputs": [],
   "source": [
    "feather.write_feather(X_train, results_dir + 'X_train_in.feather')\n",
    "feather.write_feather(Y_train_out, results_dir + 'Y_train_in.feather')"
   ]
  },
  {
   "cell_type": "code",
   "execution_count": 15,
   "id": "d3ce18a5-c88a-47e6-9a13-31e79574129a",
   "metadata": {},
   "outputs": [
    {
     "name": "stdout",
     "output_type": "stream",
     "text": [
      "X_train:  (4256, 42) \n",
      "X_test:  (1077, 42)\n"
     ]
    }
   ],
   "source": [
    "print('X_train: ', X_train.shape, '\\nX_test: ',  X_test.shape)"
   ]
  },
  {
   "cell_type": "code",
   "execution_count": 49,
   "id": "e2c9e446-76af-425a-8245-d6dce08fb78c",
   "metadata": {},
   "outputs": [],
   "source": [
    "idx = train_agg_smp[ids]"
   ]
  },
  {
   "cell_type": "markdown",
   "id": "50f9b539-e070-4e6f-8941-68faf427afe2",
   "metadata": {},
   "source": [
    "## Random Forests"
   ]
  },
  {
   "cell_type": "markdown",
   "id": "fd4e11ca-bfbd-47a9-8c85-3e8236bdcd42",
   "metadata": {},
   "source": [
    "### Fit baseline random forests regression"
   ]
  },
  {
   "cell_type": "code",
   "execution_count": 11,
   "id": "3a062aa8-f872-448e-a05e-1e42b88bad23",
   "metadata": {},
   "outputs": [],
   "source": [
    "RF_0_mod_in = RandomForestRegressor(random_state = 1509)\n",
    "RF_0_mod_in.fit(X, Y_in.values.ravel())"
   ]
  },
  {
   "cell_type": "markdown",
   "id": "c3e699c3-a01d-452c-886b-74fd31084b5b",
   "metadata": {},
   "source": [
    "### Tune hyperparameters with randomized search"
   ]
  },
  {
   "cell_type": "code",
   "execution_count": 17,
   "id": "75fd3b0f-71a0-4e56-9459-5c4a5fa0a00b",
   "metadata": {
    "tags": []
   },
   "outputs": [
    {
     "name": "stdout",
     "output_type": "stream",
     "text": [
      "{'n_estimators': [10, 40, 70, 100, 130, 161, 191, 221, 251, 281, 312, 342, 372, 402, 432, 463, 493, 523, 553, 583, 614, 644, 674, 704, 734, 765, 795, 825, 855, 885, 916, 946, 976, 1006, 1036, 1067, 1097, 1127, 1157, 1187, 1218, 1248, 1278, 1308, 1338, 1369, 1399, 1429, 1459, 1489, 1520, 1550, 1580, 1610, 1640, 1671, 1701, 1731, 1761, 1791, 1822, 1852, 1882, 1912, 1942, 1973, 2003, 2033, 2063, 2093, 2124, 2154, 2184, 2214, 2244, 2275, 2305, 2335, 2365, 2395, 2426, 2456, 2486, 2516, 2546, 2577, 2607, 2637, 2667, 2697, 2728, 2758, 2788, 2818, 2848, 2879, 2909, 2939, 2969, 3000], 'max_depth': [5, 10, 15, 20, 25, 30, 35, 40, 45, 50, 55, 60, 65, 70, 75, 80, 85, 90, 95, 100, 105, 110, 115, 120, 125, 130, 135, 140, 145, 150, 155, 160, 165, 170, 175, 180, 185, 190, 195, 200, 205, 210, 215, 220, 225, 230, 235, 240, 245, 250, 255, 260, 265, 270, 275, 280, 285, 290, 295, 300, 305, 310, 315, 320, 325, 330, 335, 340, 345, 350, 355, 360, 365, 370, 375, 380, 385, 390, 395, 400, 405, 410, 415, 420, 425, 430, 435, 440, 445, 450, 455, 460, 465, 470, 475, 480, 485, 490, 495, 500, None], 'min_samples_split': [2, 7, 12, 18, 23, 28, 34, 39, 44, 50], 'min_samples_leaf': [1, 12, 23, 34, 45, 56, 67, 78, 89, 100], 'max_features': ['auto', 'sqrt'], 'bootstrap': [True, False]}\n"
     ]
    }
   ],
   "source": [
    "# Number of trees in random forest\n",
    "n_estimators = [int(x) for x in np.linspace(start = 10, stop = 3000, num = 100)]\n",
    "\n",
    "# Maximum number of levels in tree\n",
    "max_depth = [int(x) for x in np.linspace(5, 500, num = 100)]\n",
    "max_depth.append(None)\n",
    "\n",
    "# Minimum number of samples required to split a node\n",
    "min_samples_split = [int(x) for x in np.linspace(2, 50, num = 10)]\n",
    "\n",
    "# Minimum number of samples required at each leaf node\n",
    "min_samples_leaf = [int(x) for x in np.linspace(1, 100, num = 10)]\n",
    "\n",
    "# Number of features to consider at every split\n",
    "max_features = ['auto', 'sqrt']\n",
    "\n",
    "# Method of selecting samples for training each tree\n",
    "bootstrap = [True, False]\n",
    "\n",
    "# Create the random grid\n",
    "random_grid = {'n_estimators': n_estimators,\n",
    "               'max_depth': max_depth,\n",
    "               'min_samples_split': min_samples_split,\n",
    "               'min_samples_leaf': min_samples_leaf,\n",
    "               'max_features': max_features,\n",
    "               'bootstrap': bootstrap}\n",
    "print(random_grid)"
   ]
  },
  {
   "cell_type": "code",
   "execution_count": 20,
   "id": "72dd44d9-cb2b-4fa9-9435-55f9acfdea45",
   "metadata": {},
   "outputs": [],
   "source": [
    "# Create the base model to tune\n",
    "RF_0_mod_out = RandomForestRegressor(random_state = 1509)\n",
    "\n",
    "# Random search of parameters on base model using 3 fold cross validation \n",
    "# Search across 100 different combinations, and use all available cores\n",
    "RF_random_out = RandomizedSearchCV(random_state = 1509,\n",
    "                                   estimator = RF_0_mod_out, \n",
    "                                   param_distributions = random_grid,\n",
    "                                   scoring = 'r2',\n",
    "                                   n_iter = 100,\n",
    "                                   verbose = 3, n_jobs = -1)"
   ]
  },
  {
   "cell_type": "code",
   "execution_count": 21,
   "id": "4a221472-535b-4914-a2c3-f90f65cedce3",
   "metadata": {},
   "outputs": [
    {
     "name": "stdout",
     "output_type": "stream",
     "text": [
      "Fitting 5 folds for each of 100 candidates, totalling 500 fits\n",
      "[CV 2/5] END bootstrap=True, max_depth=475, max_features=sqrt, min_samples_leaf=45, min_samples_split=12, n_estimators=372;, score=0.530 total time=   2.1s\n",
      "[CV 3/5] END bootstrap=True, max_depth=475, max_features=sqrt, min_samples_leaf=45, min_samples_split=12, n_estimators=372;, score=0.515 total time=   2.0s\n",
      "[CV 5/5] END bootstrap=True, max_depth=475, max_features=sqrt, min_samples_leaf=45, min_samples_split=12, n_estimators=372;, score=0.523 total time=   2.0s\n",
      "[CV 2/5] END bootstrap=True, max_depth=195, max_features=auto, min_samples_leaf=1, min_samples_split=12, n_estimators=1278;, score=0.678 total time=  56.0s\n",
      "[CV 4/5] END bootstrap=True, max_depth=195, max_features=auto, min_samples_leaf=1, min_samples_split=12, n_estimators=1278;, score=0.689 total time=  57.5s\n",
      "[CV 1/5] END bootstrap=False, max_depth=430, max_features=auto, min_samples_leaf=78, min_samples_split=2, n_estimators=2093;, score=0.460 total time= 1.2min\n",
      "[CV 3/5] END bootstrap=False, max_depth=430, max_features=auto, min_samples_leaf=78, min_samples_split=2, n_estimators=2093;, score=0.514 total time= 1.1min\n",
      "[CV 5/5] END bootstrap=False, max_depth=430, max_features=auto, min_samples_leaf=78, min_samples_split=2, n_estimators=2093;, score=0.508 total time= 1.1min\n",
      "[CV 3/5] END bootstrap=False, max_depth=30, max_features=sqrt, min_samples_leaf=23, min_samples_split=2, n_estimators=614;, score=0.605 total time=   5.1s\n",
      "[CV 5/5] END bootstrap=False, max_depth=30, max_features=sqrt, min_samples_leaf=23, min_samples_split=2, n_estimators=614;, score=0.613 total time=   5.1s\n",
      "[CV 2/5] END bootstrap=False, max_depth=290, max_features=sqrt, min_samples_leaf=78, min_samples_split=50, n_estimators=2728;, score=0.524 total time=  17.3s\n",
      "[CV 4/5] END bootstrap=False, max_depth=290, max_features=sqrt, min_samples_leaf=78, min_samples_split=50, n_estimators=2728;, score=0.536 total time=  17.2s\n",
      "[CV 1/5] END bootstrap=True, max_depth=485, max_features=auto, min_samples_leaf=56, min_samples_split=28, n_estimators=2969;, score=0.535 total time= 1.1min\n",
      "[CV 3/5] END bootstrap=True, max_depth=485, max_features=auto, min_samples_leaf=56, min_samples_split=28, n_estimators=2969;, score=0.545 total time= 1.1min\n",
      "[CV 5/5] END bootstrap=True, max_depth=485, max_features=auto, min_samples_leaf=56, min_samples_split=28, n_estimators=2969;, score=0.561 total time= 1.1min\n",
      "[CV 2/5] END bootstrap=True, max_depth=225, max_features=auto, min_samples_leaf=12, min_samples_split=44, n_estimators=1852;, score=0.643 total time=  54.6s\n",
      "[CV 4/5] END bootstrap=True, max_depth=225, max_features=auto, min_samples_leaf=12, min_samples_split=44, n_estimators=1852;, score=0.655 total time=  55.6s\n",
      "[CV 1/5] END bootstrap=True, max_depth=185, max_features=sqrt, min_samples_leaf=1, min_samples_split=18, n_estimators=2667;, score=0.640 total time=  21.8s\n",
      "[CV 3/5] END bootstrap=True, max_depth=185, max_features=sqrt, min_samples_leaf=1, min_samples_split=18, n_estimators=2667;, score=0.657 total time=  21.7s\n",
      "[CV 5/5] END bootstrap=True, max_depth=185, max_features=sqrt, min_samples_leaf=1, min_samples_split=18, n_estimators=2667;, score=0.665 total time=  21.8s\n",
      "[CV 2/5] END bootstrap=False, max_depth=170, max_features=auto, min_samples_leaf=45, min_samples_split=12, n_estimators=2275;, score=0.549 total time= 1.4min\n",
      "[CV 4/5] END bootstrap=False, max_depth=170, max_features=auto, min_samples_leaf=45, min_samples_split=12, n_estimators=2275;, score=0.537 total time= 1.4min\n",
      "[CV 1/5] END bootstrap=True, max_depth=320, max_features=sqrt, min_samples_leaf=45, min_samples_split=50, n_estimators=1882;, score=0.522 total time=  10.1s\n",
      "[CV 2/5] END bootstrap=True, max_depth=320, max_features=sqrt, min_samples_leaf=45, min_samples_split=50, n_estimators=1882;, score=0.531 total time=  10.1s\n",
      "[CV 3/5] END bootstrap=True, max_depth=320, max_features=sqrt, min_samples_leaf=45, min_samples_split=50, n_estimators=1882;, score=0.515 total time=  10.1s\n",
      "[CV 4/5] END bootstrap=True, max_depth=320, max_features=sqrt, min_samples_leaf=45, min_samples_split=50, n_estimators=1882;, score=0.544 total time=  10.1s\n",
      "[CV 5/5] END bootstrap=True, max_depth=320, max_features=sqrt, min_samples_leaf=45, min_samples_split=50, n_estimators=1882;, score=0.520 total time=  10.1s\n",
      "[CV 1/5] END bootstrap=True, max_depth=380, max_features=auto, min_samples_leaf=23, min_samples_split=18, n_estimators=976;, score=0.599 total time=  27.0s\n",
      "[CV 3/5] END bootstrap=True, max_depth=380, max_features=auto, min_samples_leaf=23, min_samples_split=18, n_estimators=976;, score=0.609 total time=  27.3s\n",
      "[CV 5/5] END bootstrap=True, max_depth=380, max_features=auto, min_samples_leaf=23, min_samples_split=18, n_estimators=976;, score=0.629 total time=  27.1s\n",
      "[CV 4/5] END bootstrap=True, max_depth=465, max_features=auto, min_samples_leaf=78, min_samples_split=28, n_estimators=342;, score=0.561 total time=   6.9s\n",
      "[CV 1/5] END bootstrap=False, max_depth=55, max_features=sqrt, min_samples_leaf=1, min_samples_split=44, n_estimators=2124;, score=0.632 total time=  20.1s\n",
      "[CV 3/5] END bootstrap=False, max_depth=55, max_features=sqrt, min_samples_leaf=1, min_samples_split=44, n_estimators=2124;, score=0.646 total time=  20.1s\n",
      "[CV 5/5] END bootstrap=False, max_depth=55, max_features=sqrt, min_samples_leaf=1, min_samples_split=44, n_estimators=2124;, score=0.653 total time=  20.2s\n",
      "[CV 3/5] END bootstrap=False, max_depth=320, max_features=sqrt, min_samples_leaf=23, min_samples_split=34, n_estimators=1278;, score=0.605 total time=  10.7s\n",
      "[CV 5/5] END bootstrap=False, max_depth=320, max_features=sqrt, min_samples_leaf=23, min_samples_split=34, n_estimators=1278;, score=0.612 total time=  10.8s\n",
      "[CV 2/5] END bootstrap=False, max_depth=120, max_features=auto, min_samples_leaf=23, min_samples_split=2, n_estimators=1157;, score=0.572 total time=  49.9s\n",
      "[CV 4/5] END bootstrap=False, max_depth=120, max_features=auto, min_samples_leaf=23, min_samples_split=2, n_estimators=1157;, score=0.553 total time=  52.1s\n",
      "[CV 1/5] END bootstrap=False, max_depth=25, max_features=auto, min_samples_leaf=89, min_samples_split=7, n_estimators=1882;, score=0.457 total time=  57.0s\n",
      "[CV 3/5] END bootstrap=False, max_depth=25, max_features=auto, min_samples_leaf=89, min_samples_split=7, n_estimators=1882;, score=0.481 total time=  54.6s\n",
      "[CV 5/5] END bootstrap=False, max_depth=25, max_features=auto, min_samples_leaf=89, min_samples_split=7, n_estimators=1882;, score=0.497 total time=  55.9s\n",
      "[CV 2/5] END bootstrap=True, max_depth=390, max_features=sqrt, min_samples_leaf=100, min_samples_split=28, n_estimators=2395;, score=0.448 total time=  10.7s\n",
      "[CV 4/5] END bootstrap=True, max_depth=390, max_features=sqrt, min_samples_leaf=100, min_samples_split=28, n_estimators=2395;, score=0.462 total time=  10.8s\n",
      "[CV 1/5] END bootstrap=False, max_depth=315, max_features=sqrt, min_samples_leaf=67, min_samples_split=44, n_estimators=2879;, score=0.527 total time=  18.9s\n",
      "[CV 3/5] END bootstrap=False, max_depth=315, max_features=sqrt, min_samples_leaf=67, min_samples_split=44, n_estimators=2879;, score=0.522 total time=  19.0s\n",
      "[CV 5/5] END bootstrap=False, max_depth=315, max_features=sqrt, min_samples_leaf=67, min_samples_split=44, n_estimators=2879;, score=0.527 total time=  19.2s\n",
      "[CV 2/5] END bootstrap=False, max_depth=355, max_features=auto, min_samples_leaf=45, min_samples_split=34, n_estimators=1973;, score=0.549 total time= 1.2min\n",
      "[CV 4/5] END bootstrap=False, max_depth=355, max_features=auto, min_samples_leaf=45, min_samples_split=34, n_estimators=1973;, score=0.537 total time= 1.2min\n",
      "[CV 1/5] END bootstrap=False, max_depth=230, max_features=sqrt, min_samples_leaf=12, min_samples_split=18, n_estimators=2848;, score=0.628 total time=  27.3s\n",
      "[CV 2/5] END bootstrap=False, max_depth=230, max_features=sqrt, min_samples_leaf=12, min_samples_split=18, n_estimators=2848;, score=0.665 total time=  27.4s\n",
      "[CV 4/5] END bootstrap=False, max_depth=230, max_features=sqrt, min_samples_leaf=12, min_samples_split=18, n_estimators=2848;, score=0.667 total time=  27.3s\n",
      "[CV 1/5] END bootstrap=False, max_depth=15, max_features=sqrt, min_samples_leaf=100, min_samples_split=34, n_estimators=281;, score=0.494 total time=   1.7s\n",
      "[CV 1/5] END bootstrap=True, max_depth=475, max_features=sqrt, min_samples_leaf=45, min_samples_split=12, n_estimators=372;, score=0.522 total time=   2.1s\n",
      "[CV 4/5] END bootstrap=True, max_depth=475, max_features=sqrt, min_samples_leaf=45, min_samples_split=12, n_estimators=372;, score=0.545 total time=   2.0s\n",
      "[CV 1/5] END bootstrap=True, max_depth=195, max_features=auto, min_samples_leaf=1, min_samples_split=12, n_estimators=1278;, score=0.646 total time=  56.3s\n",
      "[CV 3/5] END bootstrap=True, max_depth=195, max_features=auto, min_samples_leaf=1, min_samples_split=12, n_estimators=1278;, score=0.677 total time=  57.0s\n",
      "[CV 5/5] END bootstrap=True, max_depth=195, max_features=auto, min_samples_leaf=1, min_samples_split=12, n_estimators=1278;, score=0.691 total time= 1.0min\n",
      "[CV 2/5] END bootstrap=False, max_depth=430, max_features=auto, min_samples_leaf=78, min_samples_split=2, n_estimators=2093;, score=0.519 total time= 1.1min\n",
      "[CV 4/5] END bootstrap=False, max_depth=430, max_features=auto, min_samples_leaf=78, min_samples_split=2, n_estimators=2093;, score=0.527 total time= 1.2min\n",
      "[CV 1/5] END bootstrap=False, max_depth=30, max_features=sqrt, min_samples_leaf=23, min_samples_split=2, n_estimators=614;, score=0.597 total time=   5.2s\n",
      "[CV 2/5] END bootstrap=False, max_depth=30, max_features=sqrt, min_samples_leaf=23, min_samples_split=2, n_estimators=614;, score=0.628 total time=   5.2s\n",
      "[CV 4/5] END bootstrap=False, max_depth=30, max_features=sqrt, min_samples_leaf=23, min_samples_split=2, n_estimators=614;, score=0.630 total time=   5.2s\n",
      "[CV 1/5] END bootstrap=False, max_depth=290, max_features=sqrt, min_samples_leaf=78, min_samples_split=50, n_estimators=2728;, score=0.515 total time=  17.3s\n",
      "[CV 3/5] END bootstrap=False, max_depth=290, max_features=sqrt, min_samples_leaf=78, min_samples_split=50, n_estimators=2728;, score=0.509 total time=  17.3s\n",
      "[CV 5/5] END bootstrap=False, max_depth=290, max_features=sqrt, min_samples_leaf=78, min_samples_split=50, n_estimators=2728;, score=0.513 total time=  17.4s\n",
      "[CV 2/5] END bootstrap=True, max_depth=485, max_features=auto, min_samples_leaf=56, min_samples_split=28, n_estimators=2969;, score=0.556 total time= 1.1min\n",
      "[CV 4/5] END bootstrap=True, max_depth=485, max_features=auto, min_samples_leaf=56, min_samples_split=28, n_estimators=2969;, score=0.586 total time= 1.1min\n",
      "[CV 1/5] END bootstrap=True, max_depth=225, max_features=auto, min_samples_leaf=12, min_samples_split=44, n_estimators=1852;, score=0.612 total time=  54.7s\n",
      "[CV 3/5] END bootstrap=True, max_depth=225, max_features=auto, min_samples_leaf=12, min_samples_split=44, n_estimators=1852;, score=0.625 total time=  55.4s\n",
      "[CV 5/5] END bootstrap=True, max_depth=225, max_features=auto, min_samples_leaf=12, min_samples_split=44, n_estimators=1852;, score=0.643 total time=  55.0s\n",
      "[CV 2/5] END bootstrap=True, max_depth=185, max_features=sqrt, min_samples_leaf=1, min_samples_split=18, n_estimators=2667;, score=0.671 total time=  21.9s\n",
      "[CV 4/5] END bootstrap=True, max_depth=185, max_features=sqrt, min_samples_leaf=1, min_samples_split=18, n_estimators=2667;, score=0.675 total time=  21.8s\n",
      "[CV 1/5] END bootstrap=False, max_depth=170, max_features=auto, min_samples_leaf=45, min_samples_split=12, n_estimators=2275;, score=0.513 total time= 1.4min\n",
      "[CV 3/5] END bootstrap=False, max_depth=170, max_features=auto, min_samples_leaf=45, min_samples_split=12, n_estimators=2275;, score=0.523 total time= 1.4min\n",
      "[CV 5/5] END bootstrap=False, max_depth=170, max_features=auto, min_samples_leaf=45, min_samples_split=12, n_estimators=2275;, score=0.543 total time= 1.4min\n",
      "[CV 2/5] END bootstrap=True, max_depth=380, max_features=auto, min_samples_leaf=23, min_samples_split=18, n_estimators=976;, score=0.630 total time=  26.8s\n",
      "[CV 4/5] END bootstrap=True, max_depth=380, max_features=auto, min_samples_leaf=23, min_samples_split=18, n_estimators=976;, score=0.642 total time=  27.3s\n",
      "[CV 1/5] END bootstrap=True, max_depth=465, max_features=auto, min_samples_leaf=78, min_samples_split=28, n_estimators=342;, score=0.499 total time=   6.7s\n",
      "[CV 2/5] END bootstrap=True, max_depth=465, max_features=auto, min_samples_leaf=78, min_samples_split=28, n_estimators=342;, score=0.522 total time=   6.7s\n",
      "[CV 3/5] END bootstrap=True, max_depth=465, max_features=auto, min_samples_leaf=78, min_samples_split=28, n_estimators=342;, score=0.516 total time=   6.7s\n",
      "[CV 5/5] END bootstrap=True, max_depth=465, max_features=auto, min_samples_leaf=78, min_samples_split=28, n_estimators=342;, score=0.532 total time=   6.7s\n",
      "[CV 2/5] END bootstrap=False, max_depth=55, max_features=sqrt, min_samples_leaf=1, min_samples_split=44, n_estimators=2124;, score=0.662 total time=  20.1s\n",
      "[CV 4/5] END bootstrap=False, max_depth=55, max_features=sqrt, min_samples_leaf=1, min_samples_split=44, n_estimators=2124;, score=0.666 total time=  20.1s\n",
      "[CV 1/5] END bootstrap=False, max_depth=320, max_features=sqrt, min_samples_leaf=23, min_samples_split=34, n_estimators=1278;, score=0.597 total time=  10.6s\n",
      "[CV 2/5] END bootstrap=False, max_depth=320, max_features=sqrt, min_samples_leaf=23, min_samples_split=34, n_estimators=1278;, score=0.626 total time=  10.6s\n",
      "[CV 4/5] END bootstrap=False, max_depth=320, max_features=sqrt, min_samples_leaf=23, min_samples_split=34, n_estimators=1278;, score=0.631 total time=  10.7s\n",
      "[CV 1/5] END bootstrap=False, max_depth=120, max_features=auto, min_samples_leaf=23, min_samples_split=2, n_estimators=1157;, score=0.512 total time=  48.8s\n",
      "[CV 3/5] END bootstrap=False, max_depth=120, max_features=auto, min_samples_leaf=23, min_samples_split=2, n_estimators=1157;, score=0.517 total time=  50.6s\n",
      "[CV 5/5] END bootstrap=False, max_depth=120, max_features=auto, min_samples_leaf=23, min_samples_split=2, n_estimators=1157;, score=0.556 total time=  49.3s\n",
      "[CV 2/5] END bootstrap=False, max_depth=25, max_features=auto, min_samples_leaf=89, min_samples_split=7, n_estimators=1882;, score=0.507 total time=  56.7s\n",
      "[CV 4/5] END bootstrap=False, max_depth=25, max_features=auto, min_samples_leaf=89, min_samples_split=7, n_estimators=1882;, score=0.525 total time=  59.8s\n",
      "[CV 1/5] END bootstrap=True, max_depth=390, max_features=sqrt, min_samples_leaf=100, min_samples_split=28, n_estimators=2395;, score=0.448 total time=  10.9s\n",
      "[CV 3/5] END bootstrap=True, max_depth=390, max_features=sqrt, min_samples_leaf=100, min_samples_split=28, n_estimators=2395;, score=0.437 total time=  10.8s\n",
      "[CV 5/5] END bootstrap=True, max_depth=390, max_features=sqrt, min_samples_leaf=100, min_samples_split=28, n_estimators=2395;, score=0.439 total time=  10.9s\n",
      "[CV 2/5] END bootstrap=False, max_depth=315, max_features=sqrt, min_samples_leaf=67, min_samples_split=44, n_estimators=2879;, score=0.538 total time=  19.0s\n",
      "[CV 4/5] END bootstrap=False, max_depth=315, max_features=sqrt, min_samples_leaf=67, min_samples_split=44, n_estimators=2879;, score=0.550 total time=  19.1s\n",
      "[CV 1/5] END bootstrap=False, max_depth=355, max_features=auto, min_samples_leaf=45, min_samples_split=34, n_estimators=1973;, score=0.513 total time= 1.2min\n",
      "[CV 3/5] END bootstrap=False, max_depth=355, max_features=auto, min_samples_leaf=45, min_samples_split=34, n_estimators=1973;, score=0.523 total time= 1.2min\n",
      "[CV 5/5] END bootstrap=False, max_depth=355, max_features=auto, min_samples_leaf=45, min_samples_split=34, n_estimators=1973;, score=0.543 total time= 1.2min\n",
      "[CV 3/5] END bootstrap=False, max_depth=230, max_features=sqrt, min_samples_leaf=12, min_samples_split=18, n_estimators=2848;, score=0.646 total time=  27.4s\n",
      "[CV 5/5] END bootstrap=False, max_depth=230, max_features=sqrt, min_samples_leaf=12, min_samples_split=18, n_estimators=2848;, score=0.653 total time=  27.3s\n",
      "[CV 4/5] END bootstrap=True, max_depth=130, max_features=sqrt, min_samples_leaf=89, min_samples_split=50, n_estimators=1550;, score=0.476 total time=   7.2s\n",
      "[CV 1/5] END bootstrap=False, max_depth=350, max_features=auto, min_samples_leaf=100, min_samples_split=2, n_estimators=251;, score=0.434 total time=   7.2s\n",
      "[CV 3/5] END bootstrap=False, max_depth=350, max_features=auto, min_samples_leaf=100, min_samples_split=2, n_estimators=251;, score=0.479 total time=   7.3s\n",
      "[CV 2/5] END bootstrap=False, max_depth=15, max_features=sqrt, min_samples_leaf=100, min_samples_split=34, n_estimators=281;, score=0.501 total time=   1.7s\n",
      "[CV 3/5] END bootstrap=False, max_depth=15, max_features=sqrt, min_samples_leaf=100, min_samples_split=34, n_estimators=281;, score=0.489 total time=   1.7s\n",
      "[CV 4/5] END bootstrap=False, max_depth=15, max_features=sqrt, min_samples_leaf=100, min_samples_split=34, n_estimators=281;, score=0.513 total time=   1.7s\n",
      "[CV 5/5] END bootstrap=False, max_depth=15, max_features=sqrt, min_samples_leaf=100, min_samples_split=34, n_estimators=281;, score=0.492 total time=   1.7s\n",
      "[CV 1/5] END bootstrap=True, max_depth=130, max_features=sqrt, min_samples_leaf=89, min_samples_split=50, n_estimators=1550;, score=0.460 total time=   7.1s\n",
      "[CV 2/5] END bootstrap=True, max_depth=130, max_features=sqrt, min_samples_leaf=89, min_samples_split=50, n_estimators=1550;, score=0.462 total time=   7.1s\n",
      "[CV 3/5] END bootstrap=True, max_depth=130, max_features=sqrt, min_samples_leaf=89, min_samples_split=50, n_estimators=1550;, score=0.451 total time=   7.1s\n",
      "[CV 5/5] END bootstrap=True, max_depth=130, max_features=sqrt, min_samples_leaf=89, min_samples_split=50, n_estimators=1550;, score=0.452 total time=   7.1s\n",
      "[CV 2/5] END bootstrap=False, max_depth=350, max_features=auto, min_samples_leaf=100, min_samples_split=2, n_estimators=251;, score=0.487 total time=   7.3s\n",
      "[CV 4/5] END bootstrap=False, max_depth=350, max_features=auto, min_samples_leaf=100, min_samples_split=2, n_estimators=251;, score=0.516 total time=   7.5s\n",
      "[CV 1/5] END bootstrap=True, max_depth=385, max_features=auto, min_samples_leaf=1, min_samples_split=18, n_estimators=40;, score=0.640 total time=   1.6s\n",
      "[CV 3/5] END bootstrap=True, max_depth=385, max_features=auto, min_samples_leaf=1, min_samples_split=18, n_estimators=40;, score=0.672 total time=   1.6s\n",
      "[CV 5/5] END bootstrap=True, max_depth=385, max_features=auto, min_samples_leaf=1, min_samples_split=18, n_estimators=40;, score=0.683 total time=   1.6s\n",
      "[CV 2/5] END bootstrap=False, max_depth=395, max_features=auto, min_samples_leaf=89, min_samples_split=7, n_estimators=1097;, score=0.507 total time=  33.3s\n",
      "[CV 4/5] END bootstrap=False, max_depth=395, max_features=auto, min_samples_leaf=89, min_samples_split=7, n_estimators=1097;, score=0.525 total time=  34.7s\n",
      "[CV 1/5] END bootstrap=True, max_depth=200, max_features=auto, min_samples_leaf=67, min_samples_split=28, n_estimators=191;, score=0.513 total time=   3.9s\n",
      "[CV 2/5] END bootstrap=True, max_depth=200, max_features=auto, min_samples_leaf=67, min_samples_split=28, n_estimators=191;, score=0.538 total time=   3.9s\n",
      "[CV 3/5] END bootstrap=True, max_depth=200, max_features=auto, min_samples_leaf=67, min_samples_split=28, n_estimators=191;, score=0.530 total time=   4.0s\n",
      "[CV 4/5] END bootstrap=True, max_depth=200, max_features=auto, min_samples_leaf=67, min_samples_split=28, n_estimators=191;, score=0.571 total time=   4.0s\n",
      "[CV 5/5] END bootstrap=True, max_depth=200, max_features=auto, min_samples_leaf=67, min_samples_split=28, n_estimators=191;, score=0.544 total time=   3.9s\n",
      "[CV 1/5] END bootstrap=False, max_depth=275, max_features=auto, min_samples_leaf=67, min_samples_split=12, n_estimators=1097;, score=0.466 total time=  35.4s\n",
      "[CV 3/5] END bootstrap=False, max_depth=275, max_features=auto, min_samples_leaf=67, min_samples_split=12, n_estimators=1097;, score=0.517 total time=  36.9s\n",
      "[CV 5/5] END bootstrap=False, max_depth=275, max_features=auto, min_samples_leaf=67, min_samples_split=12, n_estimators=1097;, score=0.522 total time=  35.9s\n",
      "[CV 3/5] END bootstrap=True, max_depth=455, max_features=sqrt, min_samples_leaf=12, min_samples_split=39, n_estimators=2456;, score=0.597 total time=  16.2s\n",
      "[CV 5/5] END bootstrap=True, max_depth=455, max_features=sqrt, min_samples_leaf=12, min_samples_split=39, n_estimators=2456;, score=0.608 total time=  16.1s\n",
      "[CV 2/5] END bootstrap=True, max_depth=110, max_features=sqrt, min_samples_leaf=78, min_samples_split=18, n_estimators=2697;, score=0.477 total time=  13.0s\n",
      "[CV 4/5] END bootstrap=True, max_depth=110, max_features=sqrt, min_samples_leaf=78, min_samples_split=18, n_estimators=2697;, score=0.490 total time=  12.8s\n",
      "[CV 1/5] END bootstrap=True, max_depth=35, max_features=sqrt, min_samples_leaf=67, min_samples_split=2, n_estimators=1278;, score=0.489 total time=   6.3s\n",
      "[CV 3/5] END bootstrap=True, max_depth=35, max_features=sqrt, min_samples_leaf=67, min_samples_split=2, n_estimators=1278;, score=0.480 total time=   6.3s\n",
      "[CV 5/5] END bootstrap=True, max_depth=35, max_features=sqrt, min_samples_leaf=67, min_samples_split=2, n_estimators=1278;, score=0.483 total time=   6.3s\n",
      "[CV 2/5] END bootstrap=False, max_depth=145, max_features=sqrt, min_samples_leaf=45, min_samples_split=39, n_estimators=976;, score=0.573 total time=   7.0s\n",
      "[CV 4/5] END bootstrap=False, max_depth=145, max_features=sqrt, min_samples_leaf=45, min_samples_split=39, n_estimators=976;, score=0.583 total time=   7.0s\n",
      "[CV 1/5] END bootstrap=True, max_depth=205, max_features=sqrt, min_samples_leaf=23, min_samples_split=34, n_estimators=2365;, score=0.568 total time=  14.7s\n",
      "[CV 3/5] END bootstrap=True, max_depth=205, max_features=sqrt, min_samples_leaf=23, min_samples_split=34, n_estimators=2365;, score=0.568 total time=  14.5s\n",
      "[CV 5/5] END bootstrap=True, max_depth=205, max_features=sqrt, min_samples_leaf=23, min_samples_split=34, n_estimators=2365;, score=0.576 total time=  14.5s\n",
      "[CV 2/5] END bootstrap=False, max_depth=135, max_features=sqrt, min_samples_leaf=23, min_samples_split=44, n_estimators=2728;, score=0.627 total time=  22.7s\n",
      "[CV 4/5] END bootstrap=False, max_depth=135, max_features=sqrt, min_samples_leaf=23, min_samples_split=44, n_estimators=2728;, score=0.631 total time=  22.8s\n",
      "[CV 1/5] END bootstrap=False, max_depth=100, max_features=auto, min_samples_leaf=56, min_samples_split=34, n_estimators=2667;, score=0.486 total time= 1.5min\n",
      "[CV 3/5] END bootstrap=False, max_depth=100, max_features=auto, min_samples_leaf=56, min_samples_split=34, n_estimators=2667;, score=0.513 total time= 1.5min\n",
      "[CV 5/5] END bootstrap=False, max_depth=100, max_features=auto, min_samples_leaf=56, min_samples_split=34, n_estimators=2667;, score=0.532 total time= 1.5min\n",
      "[CV 5/5] END bootstrap=False, max_depth=190, max_features=sqrt, min_samples_leaf=34, min_samples_split=12, n_estimators=2456;, score=0.585 total time=  19.0s\n",
      "[CV 2/5] END bootstrap=True, max_depth=155, max_features=auto, min_samples_leaf=89, min_samples_split=7, n_estimators=2244;, score=0.508 total time=  41.9s\n",
      "[CV 4/5] END bootstrap=True, max_depth=155, max_features=auto, min_samples_leaf=89, min_samples_split=7, n_estimators=2244;, score=0.551 total time=  43.1s\n",
      "[CV 1/5] END bootstrap=True, max_depth=210, max_features=auto, min_samples_leaf=56, min_samples_split=12, n_estimators=765;, score=0.535 total time=  16.5s\n",
      "[CV 2/5] END bootstrap=True, max_depth=210, max_features=auto, min_samples_leaf=56, min_samples_split=12, n_estimators=765;, score=0.557 total time=  16.5s\n",
      "[CV 4/5] END bootstrap=True, max_depth=210, max_features=auto, min_samples_leaf=56, min_samples_split=12, n_estimators=765;, score=0.585 total time=  16.9s\n",
      "[CV 1/5] END bootstrap=True, max_depth=225, max_features=auto, min_samples_leaf=100, min_samples_split=39, n_estimators=2365;, score=0.482 total time=  42.8s\n",
      "[CV 3/5] END bootstrap=True, max_depth=225, max_features=auto, min_samples_leaf=100, min_samples_split=39, n_estimators=2365;, score=0.495 total time=  43.4s\n",
      "[CV 5/5] END bootstrap=True, max_depth=225, max_features=auto, min_samples_leaf=100, min_samples_split=39, n_estimators=2365;, score=0.512 total time=  43.0s\n",
      "[CV 3/5] END bootstrap=True, max_depth=425, max_features=sqrt, min_samples_leaf=34, min_samples_split=39, n_estimators=2728;, score=0.538 total time=  15.6s\n",
      "[CV 5/5] END bootstrap=True, max_depth=425, max_features=sqrt, min_samples_leaf=34, min_samples_split=39, n_estimators=2728;, score=0.545 total time=  15.6s\n",
      "[CV 2/5] END bootstrap=True, max_depth=40, max_features=sqrt, min_samples_leaf=56, min_samples_split=12, n_estimators=2788;, score=0.510 total time=  14.3s\n",
      "[CV 5/5] END bootstrap=False, max_depth=350, max_features=auto, min_samples_leaf=100, min_samples_split=2, n_estimators=251;, score=0.484 total time=   7.4s\n",
      "[CV 2/5] END bootstrap=True, max_depth=385, max_features=auto, min_samples_leaf=1, min_samples_split=18, n_estimators=40;, score=0.665 total time=   1.6s\n",
      "[CV 4/5] END bootstrap=True, max_depth=385, max_features=auto, min_samples_leaf=1, min_samples_split=18, n_estimators=40;, score=0.682 total time=   1.7s\n",
      "[CV 1/5] END bootstrap=False, max_depth=395, max_features=auto, min_samples_leaf=89, min_samples_split=7, n_estimators=1097;, score=0.457 total time=  33.4s\n",
      "[CV 3/5] END bootstrap=False, max_depth=395, max_features=auto, min_samples_leaf=89, min_samples_split=7, n_estimators=1097;, score=0.481 total time=  32.0s\n",
      "[CV 5/5] END bootstrap=False, max_depth=395, max_features=auto, min_samples_leaf=89, min_samples_split=7, n_estimators=1097;, score=0.497 total time=  32.7s\n",
      "[CV 2/5] END bootstrap=False, max_depth=275, max_features=auto, min_samples_leaf=67, min_samples_split=12, n_estimators=1097;, score=0.529 total time=  36.1s\n",
      "[CV 4/5] END bootstrap=False, max_depth=275, max_features=auto, min_samples_leaf=67, min_samples_split=12, n_estimators=1097;, score=0.535 total time=  37.2s\n",
      "[CV 1/5] END bootstrap=True, max_depth=455, max_features=sqrt, min_samples_leaf=12, min_samples_split=39, n_estimators=2456;, score=0.592 total time=  16.1s\n",
      "[CV 2/5] END bootstrap=True, max_depth=455, max_features=sqrt, min_samples_leaf=12, min_samples_split=39, n_estimators=2456;, score=0.617 total time=  16.1s\n",
      "[CV 4/5] END bootstrap=True, max_depth=455, max_features=sqrt, min_samples_leaf=12, min_samples_split=39, n_estimators=2456;, score=0.623 total time=  16.1s\n",
      "[CV 1/5] END bootstrap=True, max_depth=110, max_features=sqrt, min_samples_leaf=78, min_samples_split=18, n_estimators=2697;, score=0.473 total time=  13.0s\n",
      "[CV 3/5] END bootstrap=True, max_depth=110, max_features=sqrt, min_samples_leaf=78, min_samples_split=18, n_estimators=2697;, score=0.464 total time=  12.9s\n",
      "[CV 5/5] END bootstrap=True, max_depth=110, max_features=sqrt, min_samples_leaf=78, min_samples_split=18, n_estimators=2697;, score=0.467 total time=  12.9s\n",
      "[CV 2/5] END bootstrap=True, max_depth=35, max_features=sqrt, min_samples_leaf=67, min_samples_split=2, n_estimators=1278;, score=0.492 total time=   6.3s\n",
      "[CV 4/5] END bootstrap=True, max_depth=35, max_features=sqrt, min_samples_leaf=67, min_samples_split=2, n_estimators=1278;, score=0.505 total time=   6.3s\n",
      "[CV 1/5] END bootstrap=True, max_depth=410, max_features=sqrt, min_samples_leaf=56, min_samples_split=50, n_estimators=40;, score=0.509 total time=   0.2s\n",
      "[CV 2/5] END bootstrap=True, max_depth=410, max_features=sqrt, min_samples_leaf=56, min_samples_split=50, n_estimators=40;, score=0.514 total time=   0.2s\n",
      "[CV 3/5] END bootstrap=True, max_depth=410, max_features=sqrt, min_samples_leaf=56, min_samples_split=50, n_estimators=40;, score=0.494 total time=   0.2s\n",
      "[CV 4/5] END bootstrap=True, max_depth=410, max_features=sqrt, min_samples_leaf=56, min_samples_split=50, n_estimators=40;, score=0.521 total time=   0.2s\n",
      "[CV 5/5] END bootstrap=True, max_depth=410, max_features=sqrt, min_samples_leaf=56, min_samples_split=50, n_estimators=40;, score=0.500 total time=   0.2s\n",
      "[CV 1/5] END bootstrap=False, max_depth=145, max_features=sqrt, min_samples_leaf=45, min_samples_split=39, n_estimators=976;, score=0.558 total time=   7.1s\n",
      "[CV 3/5] END bootstrap=False, max_depth=145, max_features=sqrt, min_samples_leaf=45, min_samples_split=39, n_estimators=976;, score=0.554 total time=   7.0s\n",
      "[CV 5/5] END bootstrap=False, max_depth=145, max_features=sqrt, min_samples_leaf=45, min_samples_split=39, n_estimators=976;, score=0.561 total time=   7.0s\n",
      "[CV 2/5] END bootstrap=True, max_depth=205, max_features=sqrt, min_samples_leaf=23, min_samples_split=34, n_estimators=2365;, score=0.588 total time=  14.6s\n",
      "[CV 4/5] END bootstrap=True, max_depth=205, max_features=sqrt, min_samples_leaf=23, min_samples_split=34, n_estimators=2365;, score=0.597 total time=  14.6s\n",
      "[CV 1/5] END bootstrap=False, max_depth=135, max_features=sqrt, min_samples_leaf=23, min_samples_split=44, n_estimators=2728;, score=0.598 total time=  22.9s\n",
      "[CV 3/5] END bootstrap=False, max_depth=135, max_features=sqrt, min_samples_leaf=23, min_samples_split=44, n_estimators=2728;, score=0.605 total time=  22.9s\n",
      "[CV 5/5] END bootstrap=False, max_depth=135, max_features=sqrt, min_samples_leaf=23, min_samples_split=44, n_estimators=2728;, score=0.613 total time=  23.0s\n",
      "[CV 2/5] END bootstrap=False, max_depth=100, max_features=auto, min_samples_leaf=56, min_samples_split=34, n_estimators=2667;, score=0.547 total time= 1.5min\n",
      "[CV 4/5] END bootstrap=False, max_depth=100, max_features=auto, min_samples_leaf=56, min_samples_split=34, n_estimators=2667;, score=0.539 total time= 1.6min\n",
      "[CV 1/5] END bootstrap=False, max_depth=190, max_features=sqrt, min_samples_leaf=34, min_samples_split=12, n_estimators=2456;, score=0.575 total time=  19.1s\n",
      "[CV 2/5] END bootstrap=False, max_depth=190, max_features=sqrt, min_samples_leaf=34, min_samples_split=12, n_estimators=2456;, score=0.597 total time=  19.0s\n",
      "[CV 3/5] END bootstrap=False, max_depth=190, max_features=sqrt, min_samples_leaf=34, min_samples_split=12, n_estimators=2456;, score=0.576 total time=  19.0s\n",
      "[CV 4/5] END bootstrap=False, max_depth=190, max_features=sqrt, min_samples_leaf=34, min_samples_split=12, n_estimators=2456;, score=0.604 total time=  19.0s\n",
      "[CV 1/5] END bootstrap=True, max_depth=155, max_features=auto, min_samples_leaf=89, min_samples_split=7, n_estimators=2244;, score=0.490 total time=  42.1s\n",
      "[CV 3/5] END bootstrap=True, max_depth=155, max_features=auto, min_samples_leaf=89, min_samples_split=7, n_estimators=2244;, score=0.505 total time=  43.0s\n",
      "[CV 5/5] END bootstrap=True, max_depth=155, max_features=auto, min_samples_leaf=89, min_samples_split=7, n_estimators=2244;, score=0.521 total time=  42.5s\n",
      "[CV 3/5] END bootstrap=True, max_depth=210, max_features=auto, min_samples_leaf=56, min_samples_split=12, n_estimators=765;, score=0.544 total time=  16.8s\n",
      "[CV 5/5] END bootstrap=True, max_depth=210, max_features=auto, min_samples_leaf=56, min_samples_split=12, n_estimators=765;, score=0.561 total time=  16.7s\n",
      "[CV 2/5] END bootstrap=True, max_depth=225, max_features=auto, min_samples_leaf=100, min_samples_split=39, n_estimators=2365;, score=0.496 total time=  42.9s\n",
      "[CV 4/5] END bootstrap=True, max_depth=225, max_features=auto, min_samples_leaf=100, min_samples_split=39, n_estimators=2365;, score=0.543 total time=  43.9s\n",
      "[CV 1/5] END bootstrap=True, max_depth=425, max_features=sqrt, min_samples_leaf=34, min_samples_split=39, n_estimators=2728;, score=0.542 total time=  15.4s\n",
      "[CV 2/5] END bootstrap=True, max_depth=425, max_features=sqrt, min_samples_leaf=34, min_samples_split=39, n_estimators=2728;, score=0.556 total time=  15.4s\n",
      "[CV 4/5] END bootstrap=True, max_depth=425, max_features=sqrt, min_samples_leaf=34, min_samples_split=39, n_estimators=2728;, score=0.567 total time=  15.5s\n",
      "[CV 1/5] END bootstrap=True, max_depth=40, max_features=sqrt, min_samples_leaf=56, min_samples_split=12, n_estimators=2788;, score=0.504 total time=  14.5s\n",
      "[CV 3/5] END bootstrap=True, max_depth=40, max_features=sqrt, min_samples_leaf=56, min_samples_split=12, n_estimators=2788;, score=0.495 total time=  14.2s\n",
      "[CV 5/5] END bootstrap=True, max_depth=40, max_features=sqrt, min_samples_leaf=56, min_samples_split=12, n_estimators=2788;, score=0.500 total time=  14.3s\n",
      "[CV 2/5] END bootstrap=True, max_depth=105, max_features=auto, min_samples_leaf=1, min_samples_split=28, n_estimators=553;, score=0.665 total time=  20.2s\n",
      "[CV 4/5] END bootstrap=True, max_depth=105, max_features=auto, min_samples_leaf=1, min_samples_split=28, n_estimators=553;, score=0.679 total time=  20.7s\n",
      "[CV 1/5] END bootstrap=True, max_depth=45, max_features=auto, min_samples_leaf=78, min_samples_split=34, n_estimators=1278;, score=0.499 total time=  25.1s\n",
      "[CV 3/5] END bootstrap=True, max_depth=45, max_features=auto, min_samples_leaf=78, min_samples_split=34, n_estimators=1278;, score=0.517 total time=  25.2s\n",
      "[CV 4/5] END bootstrap=True, max_depth=40, max_features=sqrt, min_samples_leaf=56, min_samples_split=12, n_estimators=2788;, score=0.523 total time=  14.4s\n",
      "[CV 1/5] END bootstrap=True, max_depth=105, max_features=auto, min_samples_leaf=1, min_samples_split=28, n_estimators=553;, score=0.635 total time=  20.4s\n",
      "[CV 3/5] END bootstrap=True, max_depth=105, max_features=auto, min_samples_leaf=1, min_samples_split=28, n_estimators=553;, score=0.658 total time=  20.6s\n",
      "[CV 5/5] END bootstrap=True, max_depth=105, max_features=auto, min_samples_leaf=1, min_samples_split=28, n_estimators=553;, score=0.673 total time=  20.4s\n",
      "[CV 2/5] END bootstrap=True, max_depth=45, max_features=auto, min_samples_leaf=78, min_samples_split=34, n_estimators=1278;, score=0.523 total time=  25.0s\n",
      "[CV 4/5] END bootstrap=True, max_depth=45, max_features=auto, min_samples_leaf=78, min_samples_split=34, n_estimators=1278;, score=0.560 total time=  25.6s\n",
      "[CV 1/5] END bootstrap=True, max_depth=125, max_features=auto, min_samples_leaf=23, min_samples_split=23, n_estimators=1278;, score=0.599 total time=  35.1s\n",
      "[CV 3/5] END bootstrap=True, max_depth=125, max_features=auto, min_samples_leaf=23, min_samples_split=23, n_estimators=1278;, score=0.609 total time=  35.6s\n",
      "[CV 5/5] END bootstrap=True, max_depth=125, max_features=auto, min_samples_leaf=23, min_samples_split=23, n_estimators=1278;, score=0.628 total time=  35.3s\n",
      "[CV 2/5] END bootstrap=True, max_depth=420, max_features=auto, min_samples_leaf=67, min_samples_split=18, n_estimators=2486;, score=0.537 total time=  51.2s\n",
      "[CV 4/5] END bootstrap=True, max_depth=420, max_features=auto, min_samples_leaf=67, min_samples_split=18, n_estimators=2486;, score=0.572 total time=  52.1s\n",
      "[CV 1/5] END bootstrap=True, max_depth=280, max_features=auto, min_samples_leaf=34, min_samples_split=7, n_estimators=614;, score=0.572 total time=  15.4s\n",
      "[CV 2/5] END bootstrap=True, max_depth=280, max_features=auto, min_samples_leaf=34, min_samples_split=7, n_estimators=614;, score=0.601 total time=  15.3s\n",
      "[CV 4/5] END bootstrap=True, max_depth=280, max_features=auto, min_samples_leaf=34, min_samples_split=7, n_estimators=614;, score=0.618 total time=  15.6s\n",
      "[CV 1/5] END bootstrap=False, max_depth=20, max_features=sqrt, min_samples_leaf=89, min_samples_split=50, n_estimators=1791;, score=0.505 total time=  11.0s\n",
      "[CV 3/5] END bootstrap=False, max_depth=20, max_features=sqrt, min_samples_leaf=89, min_samples_split=50, n_estimators=1791;, score=0.497 total time=  11.0s\n",
      "[CV 5/5] END bootstrap=False, max_depth=20, max_features=sqrt, min_samples_leaf=89, min_samples_split=50, n_estimators=1791;, score=0.499 total time=  11.0s\n",
      "[CV 2/5] END bootstrap=True, max_depth=325, max_features=sqrt, min_samples_leaf=12, min_samples_split=7, n_estimators=2395;, score=0.633 total time=  16.7s\n",
      "[CV 4/5] END bootstrap=True, max_depth=325, max_features=sqrt, min_samples_leaf=12, min_samples_split=7, n_estimators=2395;, score=0.638 total time=  16.7s\n",
      "[CV 1/5] END bootstrap=False, max_depth=230, max_features=auto, min_samples_leaf=34, min_samples_split=44, n_estimators=342;, score=0.503 total time=  13.2s\n",
      "[CV 3/5] END bootstrap=False, max_depth=230, max_features=auto, min_samples_leaf=34, min_samples_split=44, n_estimators=342;, score=0.517 total time=  13.6s\n",
      "[CV 5/5] END bootstrap=False, max_depth=230, max_features=auto, min_samples_leaf=34, min_samples_split=44, n_estimators=342;, score=0.548 total time=  13.3s\n",
      "[CV 2/5] END bootstrap=True, max_depth=245, max_features=sqrt, min_samples_leaf=1, min_samples_split=50, n_estimators=2093;, score=0.622 total time=  14.0s\n",
      "[CV 4/5] END bootstrap=True, max_depth=245, max_features=sqrt, min_samples_leaf=1, min_samples_split=50, n_estimators=2093;, score=0.629 total time=  14.1s\n",
      "[CV 1/5] END bootstrap=False, max_depth=450, max_features=auto, min_samples_leaf=89, min_samples_split=44, n_estimators=130;, score=0.457 total time=   3.9s\n",
      "[CV 2/5] END bootstrap=False, max_depth=450, max_features=auto, min_samples_leaf=89, min_samples_split=44, n_estimators=130;, score=0.507 total time=   3.9s\n",
      "[CV 3/5] END bootstrap=False, max_depth=450, max_features=auto, min_samples_leaf=89, min_samples_split=44, n_estimators=130;, score=0.481 total time=   3.7s\n",
      "[CV 4/5] END bootstrap=False, max_depth=450, max_features=auto, min_samples_leaf=89, min_samples_split=44, n_estimators=130;, score=0.525 total time=   4.1s\n",
      "[CV 1/5] END bootstrap=False, max_depth=90, max_features=auto, min_samples_leaf=12, min_samples_split=23, n_estimators=2486;, score=0.516 total time= 2.0min\n",
      "[CV 3/5] END bootstrap=False, max_depth=90, max_features=auto, min_samples_leaf=12, min_samples_split=23, n_estimators=2486;, score=0.545 total time= 2.1min\n",
      "[CV 5/5] END bootstrap=False, max_depth=90, max_features=auto, min_samples_leaf=12, min_samples_split=23, n_estimators=2486;, score=0.548 total time= 2.0min\n",
      "[CV 2/5] END bootstrap=False, max_depth=355, max_features=auto, min_samples_leaf=12, min_samples_split=50, n_estimators=2063;, score=0.577 total time= 1.6min\n",
      "[CV 4/5] END bootstrap=False, max_depth=355, max_features=auto, min_samples_leaf=12, min_samples_split=50, n_estimators=2063;, score=0.587 total time= 1.6min\n",
      "[CV 1/5] END bootstrap=True, max_depth=15, max_features=sqrt, min_samples_leaf=78, min_samples_split=39, n_estimators=1429;, score=0.474 total time=   6.8s\n",
      "[CV 2/5] END bootstrap=True, max_depth=15, max_features=sqrt, min_samples_leaf=78, min_samples_split=39, n_estimators=1429;, score=0.476 total time=   6.8s\n",
      "[CV 3/5] END bootstrap=True, max_depth=15, max_features=sqrt, min_samples_leaf=78, min_samples_split=39, n_estimators=1429;, score=0.464 total time=   6.8s\n",
      "[CV 4/5] END bootstrap=True, max_depth=15, max_features=sqrt, min_samples_leaf=78, min_samples_split=39, n_estimators=1429;, score=0.490 total time=   6.8s\n",
      "[CV 5/5] END bootstrap=True, max_depth=15, max_features=sqrt, min_samples_leaf=78, min_samples_split=39, n_estimators=1429;, score=0.466 total time=   6.9s\n",
      "[CV 1/5] END bootstrap=False, max_depth=65, max_features=auto, min_samples_leaf=12, min_samples_split=7, n_estimators=2033;, score=0.516 total time= 1.7min\n",
      "[CV 3/5] END bootstrap=False, max_depth=65, max_features=auto, min_samples_leaf=12, min_samples_split=7, n_estimators=2033;, score=0.545 total time= 1.7min\n",
      "[CV 5/5] END bootstrap=False, max_depth=65, max_features=auto, min_samples_leaf=12, min_samples_split=7, n_estimators=2033;, score=0.548 total time= 1.6min\n",
      "[CV 4/5] END bootstrap=True, max_depth=485, max_features=sqrt, min_samples_leaf=67, min_samples_split=50, n_estimators=1731;, score=0.505 total time=   8.5s\n",
      "[CV 1/5] END bootstrap=False, max_depth=15, max_features=sqrt, min_samples_leaf=89, min_samples_split=44, n_estimators=2697;, score=0.504 total time=  16.4s\n",
      "[CV 3/5] END bootstrap=False, max_depth=15, max_features=sqrt, min_samples_leaf=89, min_samples_split=44, n_estimators=2697;, score=0.496 total time=  16.4s\n",
      "[CV 5/5] END bootstrap=False, max_depth=15, max_features=sqrt, min_samples_leaf=89, min_samples_split=44, n_estimators=2697;, score=0.500 total time=  16.5s\n",
      "[CV 2/5] END bootstrap=False, max_depth=455, max_features=auto, min_samples_leaf=67, min_samples_split=12, n_estimators=2184;, score=0.529 total time= 1.2min\n",
      "[CV 4/5] END bootstrap=False, max_depth=455, max_features=auto, min_samples_leaf=67, min_samples_split=12, n_estimators=2184;, score=0.535 total time= 1.2min\n",
      "[CV 1/5] END bootstrap=False, max_depth=180, max_features=sqrt, min_samples_leaf=34, min_samples_split=34, n_estimators=100;, score=0.576 total time=   0.8s\n",
      "[CV 2/5] END bootstrap=False, max_depth=180, max_features=sqrt, min_samples_leaf=34, min_samples_split=34, n_estimators=100;, score=0.597 total time=   0.8s\n",
      "[CV 3/5] END bootstrap=False, max_depth=180, max_features=sqrt, min_samples_leaf=34, min_samples_split=34, n_estimators=100;, score=0.574 total time=   0.8s\n",
      "[CV 4/5] END bootstrap=False, max_depth=180, max_features=sqrt, min_samples_leaf=34, min_samples_split=34, n_estimators=100;, score=0.602 total time=   0.8s\n",
      "[CV 5/5] END bootstrap=False, max_depth=180, max_features=sqrt, min_samples_leaf=34, min_samples_split=34, n_estimators=100;, score=0.585 total time=   0.8s\n",
      "[CV 5/5] END bootstrap=True, max_depth=45, max_features=auto, min_samples_leaf=78, min_samples_split=34, n_estimators=1278;, score=0.532 total time=  25.4s\n",
      "[CV 2/5] END bootstrap=True, max_depth=125, max_features=auto, min_samples_leaf=23, min_samples_split=23, n_estimators=1278;, score=0.630 total time=  35.3s\n",
      "[CV 4/5] END bootstrap=True, max_depth=125, max_features=auto, min_samples_leaf=23, min_samples_split=23, n_estimators=1278;, score=0.642 total time=  36.0s\n",
      "[CV 1/5] END bootstrap=True, max_depth=420, max_features=auto, min_samples_leaf=67, min_samples_split=18, n_estimators=2486;, score=0.513 total time=  51.4s\n",
      "[CV 3/5] END bootstrap=True, max_depth=420, max_features=auto, min_samples_leaf=67, min_samples_split=18, n_estimators=2486;, score=0.529 total time=  51.4s\n",
      "[CV 5/5] END bootstrap=True, max_depth=420, max_features=auto, min_samples_leaf=67, min_samples_split=18, n_estimators=2486;, score=0.545 total time=  51.1s\n",
      "[CV 3/5] END bootstrap=True, max_depth=280, max_features=auto, min_samples_leaf=34, min_samples_split=7, n_estimators=614;, score=0.582 total time=  15.4s\n",
      "[CV 5/5] END bootstrap=True, max_depth=280, max_features=auto, min_samples_leaf=34, min_samples_split=7, n_estimators=614;, score=0.601 total time=  15.3s\n",
      "[CV 2/5] END bootstrap=False, max_depth=20, max_features=sqrt, min_samples_leaf=89, min_samples_split=50, n_estimators=1791;, score=0.511 total time=  10.9s\n",
      "[CV 4/5] END bootstrap=False, max_depth=20, max_features=sqrt, min_samples_leaf=89, min_samples_split=50, n_estimators=1791;, score=0.523 total time=  10.9s\n",
      "[CV 1/5] END bootstrap=True, max_depth=325, max_features=sqrt, min_samples_leaf=12, min_samples_split=7, n_estimators=2395;, score=0.604 total time=  16.5s\n",
      "[CV 3/5] END bootstrap=True, max_depth=325, max_features=sqrt, min_samples_leaf=12, min_samples_split=7, n_estimators=2395;, score=0.612 total time=  16.6s\n",
      "[CV 5/5] END bootstrap=True, max_depth=325, max_features=sqrt, min_samples_leaf=12, min_samples_split=7, n_estimators=2395;, score=0.621 total time=  16.6s\n",
      "[CV 2/5] END bootstrap=False, max_depth=230, max_features=auto, min_samples_leaf=34, min_samples_split=44, n_estimators=342;, score=0.558 total time=  13.3s\n",
      "[CV 4/5] END bootstrap=False, max_depth=230, max_features=auto, min_samples_leaf=34, min_samples_split=44, n_estimators=342;, score=0.560 total time=  14.0s\n",
      "[CV 1/5] END bootstrap=True, max_depth=245, max_features=sqrt, min_samples_leaf=1, min_samples_split=50, n_estimators=2093;, score=0.599 total time=  14.1s\n",
      "[CV 3/5] END bootstrap=True, max_depth=245, max_features=sqrt, min_samples_leaf=1, min_samples_split=50, n_estimators=2093;, score=0.603 total time=  14.1s\n",
      "[CV 5/5] END bootstrap=True, max_depth=245, max_features=sqrt, min_samples_leaf=1, min_samples_split=50, n_estimators=2093;, score=0.613 total time=  14.2s\n",
      "[CV 5/5] END bootstrap=False, max_depth=450, max_features=auto, min_samples_leaf=89, min_samples_split=44, n_estimators=130;, score=0.497 total time=   3.9s\n",
      "[CV 2/5] END bootstrap=False, max_depth=90, max_features=auto, min_samples_leaf=12, min_samples_split=23, n_estimators=2486;, score=0.565 total time= 2.1min\n",
      "[CV 4/5] END bootstrap=False, max_depth=90, max_features=auto, min_samples_leaf=12, min_samples_split=23, n_estimators=2486;, score=0.587 total time= 2.2min\n",
      "[CV 1/5] END bootstrap=False, max_depth=185, max_features=sqrt, min_samples_leaf=67, min_samples_split=23, n_estimators=2697;, score=0.527 total time=  18.0s\n",
      "[CV 2/5] END bootstrap=False, max_depth=185, max_features=sqrt, min_samples_leaf=67, min_samples_split=23, n_estimators=2697;, score=0.538 total time=  18.1s\n",
      "[CV 3/5] END bootstrap=False, max_depth=185, max_features=sqrt, min_samples_leaf=67, min_samples_split=23, n_estimators=2697;, score=0.522 total time=  18.0s\n",
      "[CV 4/5] END bootstrap=False, max_depth=185, max_features=sqrt, min_samples_leaf=67, min_samples_split=23, n_estimators=2697;, score=0.550 total time=  17.9s\n",
      "[CV 5/5] END bootstrap=False, max_depth=185, max_features=sqrt, min_samples_leaf=67, min_samples_split=23, n_estimators=2697;, score=0.527 total time=  18.0s\n",
      "[CV 1/5] END bootstrap=False, max_depth=355, max_features=auto, min_samples_leaf=12, min_samples_split=50, n_estimators=2063;, score=0.496 total time= 1.5min\n",
      "[CV 3/5] END bootstrap=False, max_depth=355, max_features=auto, min_samples_leaf=12, min_samples_split=50, n_estimators=2063;, score=0.533 total time= 1.6min\n",
      "[CV 5/5] END bootstrap=False, max_depth=355, max_features=auto, min_samples_leaf=12, min_samples_split=50, n_estimators=2063;, score=0.562 total time= 1.5min\n",
      "[CV 2/5] END bootstrap=False, max_depth=65, max_features=auto, min_samples_leaf=12, min_samples_split=7, n_estimators=2033;, score=0.565 total time= 1.7min\n",
      "[CV 4/5] END bootstrap=False, max_depth=65, max_features=auto, min_samples_leaf=12, min_samples_split=7, n_estimators=2033;, score=0.587 total time= 1.8min\n",
      "[CV 1/5] END bootstrap=True, max_depth=425, max_features=sqrt, min_samples_leaf=78, min_samples_split=23, n_estimators=1973;, score=0.474 total time=   9.6s\n",
      "[CV 2/5] END bootstrap=True, max_depth=425, max_features=sqrt, min_samples_leaf=78, min_samples_split=23, n_estimators=1973;, score=0.477 total time=   9.4s\n",
      "[CV 3/5] END bootstrap=True, max_depth=425, max_features=sqrt, min_samples_leaf=78, min_samples_split=23, n_estimators=1973;, score=0.465 total time=   9.4s\n",
      "[CV 4/5] END bootstrap=True, max_depth=425, max_features=sqrt, min_samples_leaf=78, min_samples_split=23, n_estimators=1973;, score=0.490 total time=   9.4s\n",
      "[CV 5/5] END bootstrap=True, max_depth=425, max_features=sqrt, min_samples_leaf=78, min_samples_split=23, n_estimators=1973;, score=0.467 total time=   9.5s\n",
      "[CV 1/5] END bootstrap=True, max_depth=485, max_features=sqrt, min_samples_leaf=67, min_samples_split=50, n_estimators=1731;, score=0.489 total time=   8.6s\n",
      "[CV 2/5] END bootstrap=True, max_depth=485, max_features=sqrt, min_samples_leaf=67, min_samples_split=50, n_estimators=1731;, score=0.493 total time=   8.7s\n",
      "[CV 3/5] END bootstrap=True, max_depth=485, max_features=sqrt, min_samples_leaf=67, min_samples_split=50, n_estimators=1731;, score=0.480 total time=   8.6s\n",
      "[CV 5/5] END bootstrap=True, max_depth=485, max_features=sqrt, min_samples_leaf=67, min_samples_split=50, n_estimators=1731;, score=0.482 total time=   8.5s\n",
      "[CV 2/5] END bootstrap=False, max_depth=15, max_features=sqrt, min_samples_leaf=89, min_samples_split=44, n_estimators=2697;, score=0.511 total time=  16.5s\n",
      "[CV 4/5] END bootstrap=False, max_depth=15, max_features=sqrt, min_samples_leaf=89, min_samples_split=44, n_estimators=2697;, score=0.523 total time=  16.6s\n",
      "[CV 1/5] END bootstrap=False, max_depth=455, max_features=auto, min_samples_leaf=67, min_samples_split=12, n_estimators=2184;, score=0.466 total time= 1.2min\n",
      "[CV 3/5] END bootstrap=False, max_depth=455, max_features=auto, min_samples_leaf=67, min_samples_split=12, n_estimators=2184;, score=0.517 total time= 1.2min\n",
      "[CV 5/5] END bootstrap=False, max_depth=455, max_features=auto, min_samples_leaf=67, min_samples_split=12, n_estimators=2184;, score=0.522 total time= 1.2min\n",
      "[CV 3/5] END bootstrap=True, max_depth=230, max_features=auto, min_samples_leaf=12, min_samples_split=23, n_estimators=1550;, score=0.645 total time=  50.7s\n",
      "[CV 5/5] END bootstrap=True, max_depth=230, max_features=auto, min_samples_leaf=12, min_samples_split=23, n_estimators=1550;, score=0.661 total time=  50.3s\n",
      "[CV 3/5] END bootstrap=True, max_depth=70, max_features=sqrt, min_samples_leaf=45, min_samples_split=50, n_estimators=1459;, score=0.515 total time=   8.1s\n",
      "[CV 5/5] END bootstrap=True, max_depth=70, max_features=sqrt, min_samples_leaf=45, min_samples_split=50, n_estimators=1459;, score=0.520 total time=   7.8s\n",
      "[CV 2/5] END bootstrap=False, max_depth=185, max_features=auto, min_samples_leaf=45, min_samples_split=44, n_estimators=2124;, score=0.549 total time= 1.3min\n",
      "[CV 4/5] END bootstrap=False, max_depth=185, max_features=auto, min_samples_leaf=45, min_samples_split=44, n_estimators=2124;, score=0.537 total time= 1.3min\n",
      "[CV 1/5] END bootstrap=True, max_depth=455, max_features=sqrt, min_samples_leaf=34, min_samples_split=18, n_estimators=1399;, score=0.542 total time=   7.8s\n",
      "[CV 1/5] END bootstrap=True, max_depth=230, max_features=auto, min_samples_leaf=12, min_samples_split=23, n_estimators=1550;, score=0.626 total time=  49.8s\n",
      "[CV 2/5] END bootstrap=True, max_depth=230, max_features=auto, min_samples_leaf=12, min_samples_split=23, n_estimators=1550;, score=0.660 total time=  49.7s\n",
      "[CV 4/5] END bootstrap=True, max_depth=230, max_features=auto, min_samples_leaf=12, min_samples_split=23, n_estimators=1550;, score=0.669 total time=  50.8s\n",
      "[CV 1/5] END bootstrap=True, max_depth=70, max_features=sqrt, min_samples_leaf=45, min_samples_split=50, n_estimators=1459;, score=0.522 total time=   7.8s\n",
      "[CV 2/5] END bootstrap=True, max_depth=70, max_features=sqrt, min_samples_leaf=45, min_samples_split=50, n_estimators=1459;, score=0.530 total time=   8.0s\n",
      "[CV 4/5] END bootstrap=True, max_depth=70, max_features=sqrt, min_samples_leaf=45, min_samples_split=50, n_estimators=1459;, score=0.544 total time=   7.8s\n",
      "[CV 1/5] END bootstrap=False, max_depth=185, max_features=auto, min_samples_leaf=45, min_samples_split=44, n_estimators=2124;, score=0.513 total time= 1.3min\n",
      "[CV 3/5] END bootstrap=False, max_depth=185, max_features=auto, min_samples_leaf=45, min_samples_split=44, n_estimators=2124;, score=0.523 total time= 1.3min\n",
      "[CV 5/5] END bootstrap=False, max_depth=185, max_features=auto, min_samples_leaf=45, min_samples_split=44, n_estimators=2124;, score=0.543 total time= 1.3min\n",
      "[CV 4/5] END bootstrap=True, max_depth=300, max_features=sqrt, min_samples_leaf=34, min_samples_split=12, n_estimators=2788;, score=0.567 total time=  15.9s\n",
      "[CV 1/5] END bootstrap=True, max_depth=150, max_features=sqrt, min_samples_leaf=34, min_samples_split=39, n_estimators=493;, score=0.542 total time=   2.8s\n",
      "[CV 2/5] END bootstrap=True, max_depth=150, max_features=sqrt, min_samples_leaf=34, min_samples_split=39, n_estimators=493;, score=0.556 total time=   2.8s\n",
      "[CV 3/5] END bootstrap=True, max_depth=150, max_features=sqrt, min_samples_leaf=34, min_samples_split=39, n_estimators=493;, score=0.537 total time=   2.8s\n",
      "[CV 4/5] END bootstrap=True, max_depth=150, max_features=sqrt, min_samples_leaf=34, min_samples_split=39, n_estimators=493;, score=0.567 total time=   2.8s\n",
      "[CV 5/5] END bootstrap=True, max_depth=150, max_features=sqrt, min_samples_leaf=34, min_samples_split=39, n_estimators=493;, score=0.546 total time=   2.8s\n",
      "[CV 2/5] END bootstrap=True, max_depth=60, max_features=sqrt, min_samples_leaf=67, min_samples_split=44, n_estimators=2063;, score=0.493 total time=  10.3s\n",
      "[CV 4/5] END bootstrap=True, max_depth=60, max_features=sqrt, min_samples_leaf=67, min_samples_split=44, n_estimators=2063;, score=0.505 total time=  10.3s\n",
      "[CV 1/5] END bootstrap=False, max_depth=175, max_features=sqrt, min_samples_leaf=45, min_samples_split=28, n_estimators=614;, score=0.559 total time=   4.5s\n",
      "[CV 2/5] END bootstrap=False, max_depth=175, max_features=sqrt, min_samples_leaf=45, min_samples_split=28, n_estimators=614;, score=0.572 total time=   4.5s\n",
      "[CV 3/5] END bootstrap=False, max_depth=175, max_features=sqrt, min_samples_leaf=45, min_samples_split=28, n_estimators=614;, score=0.555 total time=   4.4s\n",
      "[CV 5/5] END bootstrap=False, max_depth=175, max_features=sqrt, min_samples_leaf=45, min_samples_split=28, n_estimators=614;, score=0.560 total time=   4.4s\n",
      "[CV 2/5] END bootstrap=False, max_depth=410, max_features=auto, min_samples_leaf=100, min_samples_split=12, n_estimators=885;, score=0.487 total time=  25.7s\n",
      "[CV 4/5] END bootstrap=False, max_depth=410, max_features=auto, min_samples_leaf=100, min_samples_split=12, n_estimators=885;, score=0.516 total time=  26.5s\n",
      "[CV 1/5] END bootstrap=True, max_depth=495, max_features=auto, min_samples_leaf=56, min_samples_split=12, n_estimators=2365;, score=0.535 total time=  51.6s\n",
      "[CV 3/5] END bootstrap=True, max_depth=495, max_features=auto, min_samples_leaf=56, min_samples_split=12, n_estimators=2365;, score=0.545 total time=  52.0s\n",
      "[CV 5/5] END bootstrap=True, max_depth=495, max_features=auto, min_samples_leaf=56, min_samples_split=12, n_estimators=2365;, score=0.561 total time=  51.2s\n",
      "[CV 5/5] END bootstrap=True, max_depth=375, max_features=sqrt, min_samples_leaf=34, min_samples_split=12, n_estimators=1701;, score=0.545 total time=   9.8s\n",
      "[CV 2/5] END bootstrap=False, max_depth=290, max_features=auto, min_samples_leaf=56, min_samples_split=50, n_estimators=2486;, score=0.547 total time= 1.4min\n",
      "[CV 4/5] END bootstrap=False, max_depth=290, max_features=auto, min_samples_leaf=56, min_samples_split=50, n_estimators=2486;, score=0.539 total time= 1.5min\n",
      "[CV 1/5] END bootstrap=True, max_depth=430, max_features=sqrt, min_samples_leaf=56, min_samples_split=23, n_estimators=855;, score=0.505 total time=   4.3s\n",
      "[CV 2/5] END bootstrap=True, max_depth=430, max_features=sqrt, min_samples_leaf=56, min_samples_split=23, n_estimators=855;, score=0.510 total time=   4.3s\n",
      "[CV 3/5] END bootstrap=True, max_depth=430, max_features=sqrt, min_samples_leaf=56, min_samples_split=23, n_estimators=855;, score=0.495 total time=   4.3s\n",
      "[CV 4/5] END bootstrap=True, max_depth=430, max_features=sqrt, min_samples_leaf=56, min_samples_split=23, n_estimators=855;, score=0.522 total time=   4.3s\n",
      "[CV 5/5] END bootstrap=True, max_depth=430, max_features=sqrt, min_samples_leaf=56, min_samples_split=23, n_estimators=855;, score=0.501 total time=   4.4s\n",
      "[CV 1/5] END bootstrap=True, max_depth=15, max_features=auto, min_samples_leaf=34, min_samples_split=12, n_estimators=2093;, score=0.574 total time=  52.3s\n",
      "[CV 2/5] END bootstrap=True, max_depth=15, max_features=auto, min_samples_leaf=34, min_samples_split=12, n_estimators=2093;, score=0.603 total time=  52.0s\n",
      "[CV 4/5] END bootstrap=True, max_depth=15, max_features=auto, min_samples_leaf=34, min_samples_split=12, n_estimators=2093;, score=0.618 total time=  53.0s\n",
      "[CV 1/5] END bootstrap=True, max_depth=480, max_features=auto, min_samples_leaf=45, min_samples_split=28, n_estimators=2939;, score=0.555 total time= 1.1min\n",
      "[CV 3/5] END bootstrap=True, max_depth=480, max_features=auto, min_samples_leaf=45, min_samples_split=28, n_estimators=2939;, score=0.565 total time= 1.1min\n",
      "[CV 5/5] END bootstrap=True, max_depth=480, max_features=auto, min_samples_leaf=45, min_samples_split=28, n_estimators=2939;, score=0.580 total time= 1.1min\n",
      "[CV 3/5] END bootstrap=False, max_depth=345, max_features=auto, min_samples_leaf=1, min_samples_split=50, n_estimators=765;, score=0.551 total time=  37.7s\n",
      "[CV 5/5] END bootstrap=False, max_depth=345, max_features=auto, min_samples_leaf=1, min_samples_split=50, n_estimators=765;, score=0.578 total time=  36.3s\n",
      "[CV 2/5] END bootstrap=True, max_depth=395, max_features=auto, min_samples_leaf=89, min_samples_split=50, n_estimators=2003;, score=0.507 total time=  37.6s\n",
      "[CV 4/5] END bootstrap=True, max_depth=395, max_features=auto, min_samples_leaf=89, min_samples_split=50, n_estimators=2003;, score=0.551 total time=  38.4s\n",
      "[CV 1/5] END bootstrap=False, max_depth=155, max_features=auto, min_samples_leaf=1, min_samples_split=18, n_estimators=1822;, score=0.432 total time= 1.9min\n",
      "[CV 3/5] END bootstrap=False, max_depth=155, max_features=auto, min_samples_leaf=1, min_samples_split=18, n_estimators=1822;, score=0.514 total time= 1.9min\n",
      "[CV 5/5] END bootstrap=False, max_depth=155, max_features=auto, min_samples_leaf=1, min_samples_split=18, n_estimators=1822;, score=0.510 total time= 1.8min\n",
      "[CV 5/5] END bootstrap=False, max_depth=330, max_features=sqrt, min_samples_leaf=12, min_samples_split=23, n_estimators=2546;, score=0.653 total time=  24.2s\n",
      "[CV 2/5] END bootstrap=True, max_depth=205, max_features=sqrt, min_samples_leaf=100, min_samples_split=2, n_estimators=2969;, score=0.448 total time=  13.5s\n",
      "[CV 4/5] END bootstrap=True, max_depth=205, max_features=sqrt, min_samples_leaf=100, min_samples_split=2, n_estimators=2969;, score=0.461 total time=  13.5s\n",
      "[CV 1/5] END bootstrap=False, max_depth=175, max_features=sqrt, min_samples_leaf=89, min_samples_split=23, n_estimators=2909;, score=0.504 total time=  17.9s\n",
      "[CV 3/5] END bootstrap=False, max_depth=175, max_features=sqrt, min_samples_leaf=89, min_samples_split=23, n_estimators=2909;, score=0.496 total time=  17.9s\n",
      "[CV 2/5] END bootstrap=True, max_depth=455, max_features=sqrt, min_samples_leaf=34, min_samples_split=18, n_estimators=1399;, score=0.556 total time=   7.9s\n",
      "[CV 3/5] END bootstrap=True, max_depth=455, max_features=sqrt, min_samples_leaf=34, min_samples_split=18, n_estimators=1399;, score=0.537 total time=   7.9s\n",
      "[CV 4/5] END bootstrap=True, max_depth=455, max_features=sqrt, min_samples_leaf=34, min_samples_split=18, n_estimators=1399;, score=0.568 total time=   7.9s\n",
      "[CV 5/5] END bootstrap=True, max_depth=455, max_features=sqrt, min_samples_leaf=34, min_samples_split=18, n_estimators=1399;, score=0.545 total time=   7.9s\n",
      "[CV 1/5] END bootstrap=True, max_depth=300, max_features=sqrt, min_samples_leaf=34, min_samples_split=12, n_estimators=2788;, score=0.542 total time=  16.0s\n",
      "[CV 2/5] END bootstrap=True, max_depth=300, max_features=sqrt, min_samples_leaf=34, min_samples_split=12, n_estimators=2788;, score=0.556 total time=  15.8s\n",
      "[CV 3/5] END bootstrap=True, max_depth=300, max_features=sqrt, min_samples_leaf=34, min_samples_split=12, n_estimators=2788;, score=0.538 total time=  15.9s\n",
      "[CV 5/5] END bootstrap=True, max_depth=300, max_features=sqrt, min_samples_leaf=34, min_samples_split=12, n_estimators=2788;, score=0.545 total time=  15.8s\n",
      "[CV 1/5] END bootstrap=True, max_depth=60, max_features=sqrt, min_samples_leaf=67, min_samples_split=44, n_estimators=2063;, score=0.489 total time=  10.2s\n",
      "[CV 3/5] END bootstrap=True, max_depth=60, max_features=sqrt, min_samples_leaf=67, min_samples_split=44, n_estimators=2063;, score=0.479 total time=  10.3s\n",
      "[CV 5/5] END bootstrap=True, max_depth=60, max_features=sqrt, min_samples_leaf=67, min_samples_split=44, n_estimators=2063;, score=0.483 total time=  10.2s\n",
      "[CV 4/5] END bootstrap=False, max_depth=175, max_features=sqrt, min_samples_leaf=45, min_samples_split=28, n_estimators=614;, score=0.583 total time=   4.4s\n",
      "[CV 1/5] END bootstrap=False, max_depth=410, max_features=auto, min_samples_leaf=100, min_samples_split=12, n_estimators=885;, score=0.434 total time=  25.3s\n",
      "[CV 3/5] END bootstrap=False, max_depth=410, max_features=auto, min_samples_leaf=100, min_samples_split=12, n_estimators=885;, score=0.479 total time=  25.5s\n",
      "[CV 5/5] END bootstrap=False, max_depth=410, max_features=auto, min_samples_leaf=100, min_samples_split=12, n_estimators=885;, score=0.484 total time=  25.9s\n",
      "[CV 2/5] END bootstrap=True, max_depth=495, max_features=auto, min_samples_leaf=56, min_samples_split=12, n_estimators=2365;, score=0.556 total time=  50.9s\n",
      "[CV 4/5] END bootstrap=True, max_depth=495, max_features=auto, min_samples_leaf=56, min_samples_split=12, n_estimators=2365;, score=0.586 total time=  52.2s\n",
      "[CV 1/5] END bootstrap=True, max_depth=375, max_features=sqrt, min_samples_leaf=34, min_samples_split=12, n_estimators=1701;, score=0.542 total time=   9.7s\n",
      "[CV 2/5] END bootstrap=True, max_depth=375, max_features=sqrt, min_samples_leaf=34, min_samples_split=12, n_estimators=1701;, score=0.556 total time=   9.6s\n",
      "[CV 3/5] END bootstrap=True, max_depth=375, max_features=sqrt, min_samples_leaf=34, min_samples_split=12, n_estimators=1701;, score=0.538 total time=   9.6s\n",
      "[CV 4/5] END bootstrap=True, max_depth=375, max_features=sqrt, min_samples_leaf=34, min_samples_split=12, n_estimators=1701;, score=0.568 total time=   9.8s\n",
      "[CV 1/5] END bootstrap=False, max_depth=290, max_features=auto, min_samples_leaf=56, min_samples_split=50, n_estimators=2486;, score=0.486 total time= 1.4min\n",
      "[CV 3/5] END bootstrap=False, max_depth=290, max_features=auto, min_samples_leaf=56, min_samples_split=50, n_estimators=2486;, score=0.513 total time= 1.4min\n",
      "[CV 5/5] END bootstrap=False, max_depth=290, max_features=auto, min_samples_leaf=56, min_samples_split=50, n_estimators=2486;, score=0.532 total time= 1.4min\n",
      "[CV 3/5] END bootstrap=True, max_depth=15, max_features=auto, min_samples_leaf=34, min_samples_split=12, n_estimators=2093;, score=0.582 total time=  52.8s\n",
      "[CV 5/5] END bootstrap=True, max_depth=15, max_features=auto, min_samples_leaf=34, min_samples_split=12, n_estimators=2093;, score=0.602 total time=  52.4s\n",
      "[CV 2/5] END bootstrap=True, max_depth=480, max_features=auto, min_samples_leaf=45, min_samples_split=28, n_estimators=2939;, score=0.580 total time= 1.1min\n",
      "[CV 4/5] END bootstrap=True, max_depth=480, max_features=auto, min_samples_leaf=45, min_samples_split=28, n_estimators=2939;, score=0.602 total time= 1.2min\n",
      "[CV 1/5] END bootstrap=False, max_depth=345, max_features=auto, min_samples_leaf=1, min_samples_split=50, n_estimators=765;, score=0.482 total time=  37.3s\n",
      "[CV 2/5] END bootstrap=False, max_depth=345, max_features=auto, min_samples_leaf=1, min_samples_split=50, n_estimators=765;, score=0.547 total time=  37.8s\n",
      "[CV 4/5] END bootstrap=False, max_depth=345, max_features=auto, min_samples_leaf=1, min_samples_split=50, n_estimators=765;, score=0.545 total time=  40.9s\n",
      "[CV 1/5] END bootstrap=True, max_depth=395, max_features=auto, min_samples_leaf=89, min_samples_split=50, n_estimators=2003;, score=0.490 total time=  37.8s\n",
      "[CV 3/5] END bootstrap=True, max_depth=395, max_features=auto, min_samples_leaf=89, min_samples_split=50, n_estimators=2003;, score=0.505 total time=  38.1s\n",
      "[CV 5/5] END bootstrap=True, max_depth=395, max_features=auto, min_samples_leaf=89, min_samples_split=50, n_estimators=2003;, score=0.521 total time=  37.9s\n",
      "[CV 2/5] END bootstrap=False, max_depth=155, max_features=auto, min_samples_leaf=1, min_samples_split=18, n_estimators=1822;, score=0.509 total time= 1.9min\n",
      "[CV 4/5] END bootstrap=False, max_depth=155, max_features=auto, min_samples_leaf=1, min_samples_split=18, n_estimators=1822;, score=0.476 total time= 2.0min\n",
      "[CV 1/5] END bootstrap=True, max_depth=70, max_features=sqrt, min_samples_leaf=67, min_samples_split=23, n_estimators=40;, score=0.489 total time=   0.2s\n",
      "[CV 2/5] END bootstrap=True, max_depth=70, max_features=sqrt, min_samples_leaf=67, min_samples_split=23, n_estimators=40;, score=0.493 total time=   0.2s\n",
      "[CV 3/5] END bootstrap=True, max_depth=70, max_features=sqrt, min_samples_leaf=67, min_samples_split=23, n_estimators=40;, score=0.481 total time=   0.2s\n",
      "[CV 4/5] END bootstrap=True, max_depth=70, max_features=sqrt, min_samples_leaf=67, min_samples_split=23, n_estimators=40;, score=0.505 total time=   0.2s\n",
      "[CV 5/5] END bootstrap=True, max_depth=70, max_features=sqrt, min_samples_leaf=67, min_samples_split=23, n_estimators=40;, score=0.478 total time=   0.2s\n",
      "[CV 1/5] END bootstrap=False, max_depth=330, max_features=sqrt, min_samples_leaf=12, min_samples_split=23, n_estimators=2546;, score=0.629 total time=  24.6s\n",
      "[CV 2/5] END bootstrap=False, max_depth=330, max_features=sqrt, min_samples_leaf=12, min_samples_split=23, n_estimators=2546;, score=0.665 total time=  24.6s\n",
      "[CV 3/5] END bootstrap=False, max_depth=330, max_features=sqrt, min_samples_leaf=12, min_samples_split=23, n_estimators=2546;, score=0.646 total time=  24.7s\n",
      "[CV 4/5] END bootstrap=False, max_depth=330, max_features=sqrt, min_samples_leaf=12, min_samples_split=23, n_estimators=2546;, score=0.667 total time=  24.5s\n",
      "[CV 1/5] END bootstrap=True, max_depth=205, max_features=sqrt, min_samples_leaf=100, min_samples_split=2, n_estimators=2969;, score=0.449 total time=  13.4s\n",
      "[CV 3/5] END bootstrap=True, max_depth=205, max_features=sqrt, min_samples_leaf=100, min_samples_split=2, n_estimators=2969;, score=0.436 total time=  13.4s\n",
      "[CV 5/5] END bootstrap=True, max_depth=205, max_features=sqrt, min_samples_leaf=100, min_samples_split=2, n_estimators=2969;, score=0.438 total time=  13.5s\n",
      "[CV 2/5] END bootstrap=False, max_depth=175, max_features=sqrt, min_samples_leaf=89, min_samples_split=23, n_estimators=2909;, score=0.511 total time=  17.8s\n",
      "[CV 4/5] END bootstrap=False, max_depth=175, max_features=sqrt, min_samples_leaf=89, min_samples_split=23, n_estimators=2909;, score=0.523 total time=  18.0s\n",
      "[CV 1/5] END bootstrap=False, max_depth=500, max_features=auto, min_samples_leaf=89, min_samples_split=50, n_estimators=2788;, score=0.457 total time= 1.4min\n",
      "[CV 3/5] END bootstrap=False, max_depth=500, max_features=auto, min_samples_leaf=89, min_samples_split=50, n_estimators=2788;, score=0.481 total time= 1.4min\n"
     ]
    },
    {
     "data": {
      "text/plain": [
       "RandomizedSearchCV(estimator=RandomForestRegressor(random_state=1509),\n",
       "                   n_iter=100, n_jobs=-1,\n",
       "                   param_distributions={'bootstrap': [True, False],\n",
       "                                        'max_depth': [5, 10, 15, 20, 25, 30, 35,\n",
       "                                                      40, 45, 50, 55, 60, 65,\n",
       "                                                      70, 75, 80, 85, 90, 95,\n",
       "                                                      100, 105, 110, 115, 120,\n",
       "                                                      125, 130, 135, 140, 145,\n",
       "                                                      150, ...],\n",
       "                                        'max_features': ['auto', 'sqrt'],\n",
       "                                        'min_samples_leaf': [1, 12, 23, 34, 45,\n",
       "                                                             56, 67, 78, 89,\n",
       "                                                             100],\n",
       "                                        'min_samples_split': [2, 7, 12, 18, 23,\n",
       "                                                              28, 34, 39, 44,\n",
       "                                                              50],\n",
       "                                        'n_estimators': [10, 40, 70, 100, 130,\n",
       "                                                         161, 191, 221, 251,\n",
       "                                                         281, 312, 342, 372,\n",
       "                                                         402, 432, 463, 493,\n",
       "                                                         523, 553, 583, 614,\n",
       "                                                         644, 674, 704, 734,\n",
       "                                                         765, 795, 825, 855,\n",
       "                                                         885, ...]},\n",
       "                   random_state=1509, scoring='r2', verbose=3)"
      ]
     },
     "execution_count": 21,
     "metadata": {},
     "output_type": "execute_result"
    },
    {
     "name": "stdout",
     "output_type": "stream",
     "text": [
      "[CV 5/5] END bootstrap=False, max_depth=500, max_features=auto, min_samples_leaf=89, min_samples_split=50, n_estimators=2788;, score=0.497 total time= 1.4min\n",
      "[CV 3/5] END bootstrap=True, max_depth=110, max_features=auto, min_samples_leaf=100, min_samples_split=39, n_estimators=2214;, score=0.495 total time=  40.8s\n",
      "[CV 5/5] END bootstrap=True, max_depth=110, max_features=auto, min_samples_leaf=100, min_samples_split=39, n_estimators=2214;, score=0.512 total time=  40.3s\n",
      "[CV 2/5] END bootstrap=True, max_depth=460, max_features=auto, min_samples_leaf=89, min_samples_split=2, n_estimators=1218;, score=0.508 total time=  22.7s\n",
      "[CV 4/5] END bootstrap=True, max_depth=460, max_features=auto, min_samples_leaf=89, min_samples_split=2, n_estimators=1218;, score=0.551 total time=  23.4s\n",
      "[CV 1/5] END bootstrap=True, max_depth=470, max_features=auto, min_samples_leaf=89, min_samples_split=23, n_estimators=644;, score=0.488 total time=  12.1s\n",
      "[CV 3/5] END bootstrap=True, max_depth=470, max_features=auto, min_samples_leaf=89, min_samples_split=23, n_estimators=644;, score=0.504 total time=  12.3s\n",
      "[CV 5/5] END bootstrap=True, max_depth=470, max_features=auto, min_samples_leaf=89, min_samples_split=23, n_estimators=644;, score=0.521 total time=  12.1s\n",
      "[CV 2/5] END bootstrap=True, max_depth=340, max_features=auto, min_samples_leaf=56, min_samples_split=50, n_estimators=2728;, score=0.556 total time=  58.8s\n",
      "[CV 4/5] END bootstrap=True, max_depth=340, max_features=auto, min_samples_leaf=56, min_samples_split=50, n_estimators=2728;, score=0.586 total time= 1.0min\n",
      "[CV 1/5] END bootstrap=False, max_depth=165, max_features=auto, min_samples_leaf=12, min_samples_split=39, n_estimators=614;, score=0.494 total time=  28.0s\n",
      "[CV 2/5] END bootstrap=False, max_depth=165, max_features=auto, min_samples_leaf=12, min_samples_split=39, n_estimators=614;, score=0.575 total time=  28.7s\n",
      "[CV 3/5] END bootstrap=False, max_depth=165, max_features=auto, min_samples_leaf=12, min_samples_split=39, n_estimators=614;, score=0.536 total time=  29.2s\n",
      "[CV 5/5] END bootstrap=False, max_depth=165, max_features=auto, min_samples_leaf=12, min_samples_split=39, n_estimators=614;, score=0.559 total time=  28.2s\n",
      "[CV 2/5] END bootstrap=False, max_depth=100, max_features=auto, min_samples_leaf=12, min_samples_split=34, n_estimators=2124;, score=0.564 total time= 1.7min\n",
      "[CV 4/5] END bootstrap=False, max_depth=100, max_features=auto, min_samples_leaf=12, min_samples_split=34, n_estimators=2124;, score=0.583 total time= 1.8min\n",
      "[CV 1/5] END bootstrap=True, max_depth=375, max_features=auto, min_samples_leaf=67, min_samples_split=18, n_estimators=2758;, score=0.513 total time=  56.8s\n",
      "[CV 2/5] END bootstrap=True, max_depth=375, max_features=auto, min_samples_leaf=67, min_samples_split=18, n_estimators=2758;, score=0.537 total time=  56.5s\n",
      "[CV 4/5] END bootstrap=True, max_depth=375, max_features=auto, min_samples_leaf=67, min_samples_split=18, n_estimators=2758;, score=0.572 total time=  57.5s\n",
      "[CV 1/5] END bootstrap=True, max_depth=455, max_features=sqrt, min_samples_leaf=1, min_samples_split=39, n_estimators=2365;, score=0.611 total time=  16.6s\n",
      "[CV 3/5] END bootstrap=True, max_depth=455, max_features=sqrt, min_samples_leaf=1, min_samples_split=39, n_estimators=2365;, score=0.620 total time=  16.6s\n",
      "[CV 5/5] END bootstrap=True, max_depth=455, max_features=sqrt, min_samples_leaf=1, min_samples_split=39, n_estimators=2365;, score=0.629 total time=  16.5s\n",
      "[CV 2/5] END bootstrap=False, max_depth=285, max_features=sqrt, min_samples_leaf=100, min_samples_split=23, n_estimators=2003;, score=0.500 total time=  11.9s\n",
      "[CV 4/5] END bootstrap=False, max_depth=285, max_features=sqrt, min_samples_leaf=100, min_samples_split=23, n_estimators=2003;, score=0.512 total time=  11.8s\n",
      "[CV 1/5] END bootstrap=False, max_depth=45, max_features=sqrt, min_samples_leaf=23, min_samples_split=18, n_estimators=523;, score=0.598 total time=   4.3s\n",
      "[CV 2/5] END bootstrap=False, max_depth=45, max_features=sqrt, min_samples_leaf=23, min_samples_split=18, n_estimators=523;, score=0.627 total time=   4.3s\n",
      "[CV 4/5] END bootstrap=False, max_depth=45, max_features=sqrt, min_samples_leaf=23, min_samples_split=18, n_estimators=523;, score=0.630 total time=   4.4s\n",
      "[CV 1/5] END bootstrap=False, max_depth=465, max_features=auto, min_samples_leaf=45, min_samples_split=2, n_estimators=1852;, score=0.513 total time= 1.1min\n",
      "[CV 3/5] END bootstrap=False, max_depth=465, max_features=auto, min_samples_leaf=45, min_samples_split=2, n_estimators=1852;, score=0.523 total time= 1.1min\n",
      "[CV 5/5] END bootstrap=False, max_depth=465, max_features=auto, min_samples_leaf=45, min_samples_split=2, n_estimators=1852;, score=0.543 total time= 1.1min\n",
      "[CV 1/5] END bootstrap=True, max_depth=435, max_features=auto, min_samples_leaf=56, min_samples_split=18, n_estimators=2758;, score=0.535 total time= 1.0min\n",
      "[CV 3/5] END bootstrap=True, max_depth=435, max_features=auto, min_samples_leaf=56, min_samples_split=18, n_estimators=2758;, score=0.545 total time= 1.0min\n",
      "[CV 5/5] END bootstrap=True, max_depth=435, max_features=auto, min_samples_leaf=56, min_samples_split=18, n_estimators=2758;, score=0.561 total time=  59.9s\n",
      "[CV 3/5] END bootstrap=True, max_depth=390, max_features=auto, min_samples_leaf=56, min_samples_split=44, n_estimators=1912;, score=0.545 total time=  41.9s\n",
      "[CV 5/5] END bootstrap=True, max_depth=390, max_features=auto, min_samples_leaf=56, min_samples_split=44, n_estimators=1912;, score=0.561 total time=  41.6s\n",
      "[CV 2/5] END bootstrap=True, max_depth=350, max_features=auto, min_samples_leaf=23, min_samples_split=50, n_estimators=1127;, score=0.627 total time=  30.6s\n",
      "[CV 4/5] END bootstrap=True, max_depth=350, max_features=auto, min_samples_leaf=23, min_samples_split=50, n_estimators=1127;, score=0.639 total time=  31.2s\n",
      "[CV 5/5] END bootstrap=False, max_depth=175, max_features=sqrt, min_samples_leaf=89, min_samples_split=23, n_estimators=2909;, score=0.500 total time=  17.9s\n",
      "[CV 2/5] END bootstrap=False, max_depth=500, max_features=auto, min_samples_leaf=89, min_samples_split=50, n_estimators=2788;, score=0.507 total time= 1.4min\n",
      "[CV 4/5] END bootstrap=False, max_depth=500, max_features=auto, min_samples_leaf=89, min_samples_split=50, n_estimators=2788;, score=0.525 total time= 1.5min\n",
      "[CV 1/5] END bootstrap=True, max_depth=210, max_features=sqrt, min_samples_leaf=78, min_samples_split=39, n_estimators=191;, score=0.476 total time=   0.9s\n",
      "[CV 2/5] END bootstrap=True, max_depth=210, max_features=sqrt, min_samples_leaf=78, min_samples_split=39, n_estimators=191;, score=0.476 total time=   0.9s\n",
      "[CV 3/5] END bootstrap=True, max_depth=210, max_features=sqrt, min_samples_leaf=78, min_samples_split=39, n_estimators=191;, score=0.465 total time=   0.9s\n",
      "[CV 4/5] END bootstrap=True, max_depth=210, max_features=sqrt, min_samples_leaf=78, min_samples_split=39, n_estimators=191;, score=0.490 total time=   0.9s\n",
      "[CV 5/5] END bootstrap=True, max_depth=210, max_features=sqrt, min_samples_leaf=78, min_samples_split=39, n_estimators=191;, score=0.471 total time=   0.9s\n",
      "[CV 1/5] END bootstrap=True, max_depth=110, max_features=auto, min_samples_leaf=100, min_samples_split=39, n_estimators=2214;, score=0.482 total time=  40.1s\n",
      "[CV 2/5] END bootstrap=True, max_depth=110, max_features=auto, min_samples_leaf=100, min_samples_split=39, n_estimators=2214;, score=0.496 total time=  40.2s\n",
      "[CV 4/5] END bootstrap=True, max_depth=110, max_features=auto, min_samples_leaf=100, min_samples_split=39, n_estimators=2214;, score=0.542 total time=  41.1s\n",
      "[CV 1/5] END bootstrap=True, max_depth=460, max_features=auto, min_samples_leaf=89, min_samples_split=2, n_estimators=1218;, score=0.490 total time=  22.9s\n",
      "[CV 3/5] END bootstrap=True, max_depth=460, max_features=auto, min_samples_leaf=89, min_samples_split=2, n_estimators=1218;, score=0.505 total time=  23.3s\n",
      "[CV 5/5] END bootstrap=True, max_depth=460, max_features=auto, min_samples_leaf=89, min_samples_split=2, n_estimators=1218;, score=0.521 total time=  23.1s\n",
      "[CV 2/5] END bootstrap=True, max_depth=470, max_features=auto, min_samples_leaf=89, min_samples_split=23, n_estimators=644;, score=0.507 total time=  12.1s\n",
      "[CV 4/5] END bootstrap=True, max_depth=470, max_features=auto, min_samples_leaf=89, min_samples_split=23, n_estimators=644;, score=0.550 total time=  12.4s\n",
      "[CV 1/5] END bootstrap=True, max_depth=340, max_features=auto, min_samples_leaf=56, min_samples_split=50, n_estimators=2728;, score=0.535 total time=  59.5s\n",
      "[CV 3/5] END bootstrap=True, max_depth=340, max_features=auto, min_samples_leaf=56, min_samples_split=50, n_estimators=2728;, score=0.545 total time= 1.0min\n",
      "[CV 5/5] END bootstrap=True, max_depth=340, max_features=auto, min_samples_leaf=56, min_samples_split=50, n_estimators=2728;, score=0.561 total time=  59.8s\n",
      "[CV 4/5] END bootstrap=False, max_depth=165, max_features=auto, min_samples_leaf=12, min_samples_split=39, n_estimators=614;, score=0.578 total time=  30.3s\n",
      "[CV 1/5] END bootstrap=False, max_depth=100, max_features=auto, min_samples_leaf=12, min_samples_split=34, n_estimators=2124;, score=0.505 total time= 1.7min\n",
      "[CV 3/5] END bootstrap=False, max_depth=100, max_features=auto, min_samples_leaf=12, min_samples_split=34, n_estimators=2124;, score=0.540 total time= 1.7min\n",
      "[CV 5/5] END bootstrap=False, max_depth=100, max_features=auto, min_samples_leaf=12, min_samples_split=34, n_estimators=2124;, score=0.564 total time= 1.7min\n",
      "[CV 3/5] END bootstrap=True, max_depth=375, max_features=auto, min_samples_leaf=67, min_samples_split=18, n_estimators=2758;, score=0.529 total time=  57.2s\n",
      "[CV 5/5] END bootstrap=True, max_depth=375, max_features=auto, min_samples_leaf=67, min_samples_split=18, n_estimators=2758;, score=0.545 total time=  56.8s\n",
      "[CV 2/5] END bootstrap=True, max_depth=455, max_features=sqrt, min_samples_leaf=1, min_samples_split=39, n_estimators=2365;, score=0.638 total time=  16.6s\n",
      "[CV 4/5] END bootstrap=True, max_depth=455, max_features=sqrt, min_samples_leaf=1, min_samples_split=39, n_estimators=2365;, score=0.643 total time=  16.7s\n",
      "[CV 1/5] END bootstrap=False, max_depth=285, max_features=sqrt, min_samples_leaf=100, min_samples_split=23, n_estimators=2003;, score=0.494 total time=  11.8s\n",
      "[CV 3/5] END bootstrap=False, max_depth=285, max_features=sqrt, min_samples_leaf=100, min_samples_split=23, n_estimators=2003;, score=0.486 total time=  11.9s\n",
      "[CV 5/5] END bootstrap=False, max_depth=285, max_features=sqrt, min_samples_leaf=100, min_samples_split=23, n_estimators=2003;, score=0.488 total time=  11.8s\n",
      "[CV 3/5] END bootstrap=False, max_depth=45, max_features=sqrt, min_samples_leaf=23, min_samples_split=18, n_estimators=523;, score=0.605 total time=   4.4s\n",
      "[CV 5/5] END bootstrap=False, max_depth=45, max_features=sqrt, min_samples_leaf=23, min_samples_split=18, n_estimators=523;, score=0.613 total time=   4.4s\n",
      "[CV 2/5] END bootstrap=False, max_depth=465, max_features=auto, min_samples_leaf=45, min_samples_split=2, n_estimators=1852;, score=0.549 total time= 1.1min\n",
      "[CV 4/5] END bootstrap=False, max_depth=465, max_features=auto, min_samples_leaf=45, min_samples_split=2, n_estimators=1852;, score=0.537 total time= 1.1min\n",
      "[CV 1/5] END bootstrap=True, max_depth=225, max_features=auto, min_samples_leaf=12, min_samples_split=44, n_estimators=432;, score=0.611 total time=  12.8s\n",
      "[CV 2/5] END bootstrap=True, max_depth=225, max_features=auto, min_samples_leaf=12, min_samples_split=44, n_estimators=432;, score=0.642 total time=  12.7s\n",
      "[CV 3/5] END bootstrap=True, max_depth=225, max_features=auto, min_samples_leaf=12, min_samples_split=44, n_estimators=432;, score=0.624 total time=  12.9s\n",
      "[CV 4/5] END bootstrap=True, max_depth=225, max_features=auto, min_samples_leaf=12, min_samples_split=44, n_estimators=432;, score=0.655 total time=  13.0s\n",
      "[CV 5/5] END bootstrap=True, max_depth=225, max_features=auto, min_samples_leaf=12, min_samples_split=44, n_estimators=432;, score=0.643 total time=  12.7s\n",
      "[CV 2/5] END bootstrap=True, max_depth=435, max_features=auto, min_samples_leaf=56, min_samples_split=18, n_estimators=2758;, score=0.556 total time=  59.6s\n",
      "[CV 4/5] END bootstrap=True, max_depth=435, max_features=auto, min_samples_leaf=56, min_samples_split=18, n_estimators=2758;, score=0.586 total time= 1.0min\n",
      "[CV 1/5] END bootstrap=True, max_depth=390, max_features=auto, min_samples_leaf=56, min_samples_split=44, n_estimators=1912;, score=0.535 total time=  41.4s\n",
      "[CV 2/5] END bootstrap=True, max_depth=390, max_features=auto, min_samples_leaf=56, min_samples_split=44, n_estimators=1912;, score=0.557 total time=  41.2s\n",
      "[CV 4/5] END bootstrap=True, max_depth=390, max_features=auto, min_samples_leaf=56, min_samples_split=44, n_estimators=1912;, score=0.586 total time=  42.1s\n",
      "[CV 1/5] END bootstrap=True, max_depth=350, max_features=auto, min_samples_leaf=23, min_samples_split=50, n_estimators=1127;, score=0.597 total time=  30.6s\n",
      "[CV 3/5] END bootstrap=True, max_depth=350, max_features=auto, min_samples_leaf=23, min_samples_split=50, n_estimators=1127;, score=0.607 total time=  31.0s\n",
      "[CV 5/5] END bootstrap=True, max_depth=350, max_features=auto, min_samples_leaf=23, min_samples_split=50, n_estimators=1127;, score=0.627 total time=  26.5s\n"
     ]
    }
   ],
   "source": [
    "# Fit the random search model\n",
    "RF_random_out.fit(X_train, Y_train_in.values.ravel())"
   ]
  },
  {
   "cell_type": "code",
   "execution_count": 115,
   "id": "ebe23e9d-578f-4645-a5d8-599d6de0509c",
   "metadata": {
    "tags": []
   },
   "outputs": [
    {
     "name": "stdout",
     "output_type": "stream",
     "text": [
      "Best Score: 0.6762124915340071\n"
     ]
    }
   ],
   "source": [
    "# Mean cross-validated score of the best_estimator (5-fold cross-validation by default)\n",
    "print('Best Score: %s' % RF_random_in.best_score_)"
   ]
  },
  {
   "cell_type": "code",
   "execution_count": 116,
   "id": "d1f74e4d-36e7-4ab6-8475-8b4c6f8591a2",
   "metadata": {},
   "outputs": [],
   "source": [
    "# Save best estimator that gave highest score on left out data\n",
    "best_random = RF_random_in.best_estimator_"
   ]
  },
  {
   "cell_type": "code",
   "execution_count": 35,
   "id": "046b3eda-ea95-4ca4-9f39-8df277d0011b",
   "metadata": {},
   "outputs": [],
   "source": [
    "# Check and evaluate score using cross-validation (5-fold cross-validation by default)\n",
    "scores = cross_val_score(RF_random_in.best_estimator_, X_train, Y_train_in.values.ravel())"
   ]
  },
  {
   "cell_type": "code",
   "execution_count": 117,
   "id": "61946e41-50a1-40c5-8b0e-d7e8eda7f090",
   "metadata": {},
   "outputs": [
    {
     "data": {
      "text/plain": [
       "0.6762124915340071"
      ]
     },
     "execution_count": 117,
     "metadata": {},
     "output_type": "execute_result"
    }
   ],
   "source": [
    "scores.mean()"
   ]
  },
  {
   "cell_type": "code",
   "execution_count": 52,
   "id": "c42cbdd6-65df-432c-ab74-6ca4a6ff779b",
   "metadata": {},
   "outputs": [],
   "source": [
    "# Check and evaluate score using cross-validation (5-fold cross-validation by default) on full sample\n",
    "scores = cross_val_score(RF_random_in.best_estimator_, X, Y_in.values.ravel())"
   ]
  },
  {
   "cell_type": "code",
   "execution_count": 117,
   "id": "4e5cb019-60e7-4947-8fa4-16529c74615e",
   "metadata": {},
   "outputs": [
    {
     "data": {
      "text/plain": [
       "0.6762124915340071"
      ]
     },
     "execution_count": 117,
     "metadata": {},
     "output_type": "execute_result"
    }
   ],
   "source": [
    "scores.mean()"
   ]
  },
  {
   "cell_type": "code",
   "execution_count": 366,
   "id": "ccc92a18-8821-4751-8194-7ff67c1397a0",
   "metadata": {
    "tags": []
   },
   "outputs": [
    {
     "data": {
      "text/plain": [
       "{'n_estimators': 1278,\n",
       " 'min_samples_split': 12,\n",
       " 'min_samples_leaf': 1,\n",
       " 'max_features': 'auto',\n",
       " 'max_depth': 195,\n",
       " 'bootstrap': True}"
      ]
     },
     "execution_count": 366,
     "metadata": {},
     "output_type": "execute_result"
    }
   ],
   "source": [
    "RF_random_in.best_params_"
   ]
  },
  {
   "cell_type": "code",
   "execution_count": 121,
   "id": "f2934fd9-73e8-4613-8664-e50867afa528",
   "metadata": {},
   "outputs": [
    {
     "name": "stdout",
     "output_type": "stream",
     "text": [
      "0.8918552097958046\n"
     ]
    }
   ],
   "source": [
    "print(best_random.score(X_train, Y_train_in))"
   ]
  },
  {
   "cell_type": "code",
   "execution_count": 122,
   "id": "ed5ffef5-8a28-4956-b2d4-c07eacda6b10",
   "metadata": {},
   "outputs": [
    {
     "name": "stdout",
     "output_type": "stream",
     "text": [
      "0.7081047138987878\n"
     ]
    }
   ],
   "source": [
    "print(best_random.score(X_test, Y_test_in))"
   ]
  },
  {
   "cell_type": "code",
   "execution_count": 123,
   "id": "6cb9b38b-33e9-4902-9f60-ab5f7bf7eebf",
   "metadata": {},
   "outputs": [
    {
     "name": "stdout",
     "output_type": "stream",
     "text": [
      "0.8539825727395456\n"
     ]
    }
   ],
   "source": [
    "print(best_random.score(X, Y_in))"
   ]
  },
  {
   "cell_type": "code",
   "execution_count": 43,
   "id": "ebf77d28-8983-4237-b2c4-9dc2048c662c",
   "metadata": {},
   "outputs": [
    {
     "data": {
      "text/plain": [
       "0.6770733080450901"
      ]
     },
     "execution_count": 43,
     "metadata": {},
     "output_type": "execute_result"
    }
   ],
   "source": [
    "predictions = cross_val_predict(best_random, X_train, Y_train_in.values.ravel())\n",
    "r2_score(Y_train_in, predictions)"
   ]
  },
  {
   "cell_type": "code",
   "execution_count": 44,
   "id": "01608c99-11a7-4f92-9c01-89aa898e7b11",
   "metadata": {},
   "outputs": [],
   "source": [
    "feather.write_feather(pd.DataFrame(predictions), results_dir + 'preds.RF.CV_in.feather')"
   ]
  }
 ],
 "metadata": {
  "kernelspec": {
   "display_name": "Python 3 (ipykernel)",
   "language": "python",
   "name": "python3"
  },
  "language_info": {
   "codemirror_mode": {
    "name": "ipython",
    "version": 3
   },
   "file_extension": ".py",
   "mimetype": "text/x-python",
   "name": "python",
   "nbconvert_exporter": "python",
   "pygments_lexer": "ipython3",
   "version": "3.9.6"
  },
  "papermill": {
   "default_parameters": {},
   "duration": 8.293491,
   "end_time": "2021-08-25T04:30:59.376719",
   "environment_variables": {},
   "exception": null,
   "input_path": "Scripts/Predictions.ipynb",
   "output_path": "Scripts/Predictions.ipynb",
   "parameters": {},
   "start_time": "2021-08-25T04:30:51.083228",
   "version": "2.3.3"
  },
  "toc": {
   "base_numbering": 1,
   "nav_menu": {},
   "number_sections": true,
   "sideBar": false,
   "skip_h1_title": true,
   "title_cell": "Table of Contents",
   "title_sidebar": "Contents",
   "toc_cell": false,
   "toc_position": {
    "height": "745px",
    "left": "177px",
    "top": "218px",
    "width": "165px"
   },
   "toc_section_display": false,
   "toc_window_display": true
  }
 },
 "nbformat": 4,
 "nbformat_minor": 5
}
