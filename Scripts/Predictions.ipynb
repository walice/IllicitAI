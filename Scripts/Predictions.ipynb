{
 "cells": [
  {
   "cell_type": "markdown",
   "id": "0dcbfa94-b9c5-435b-9f89-6f5b4c43be46",
   "metadata": {
    "papermill": {
     "duration": 0.027134,
     "end_time": "2021-08-30T22:15:13.569058",
     "exception": false,
     "start_time": "2021-08-30T22:15:13.541924",
     "status": "completed"
    },
    "tags": []
   },
   "source": [
    "# Predictions"
   ]
  },
  {
   "cell_type": "markdown",
   "id": "99c44811-2186-4277-911a-ff940e34ff01",
   "metadata": {
    "papermill": {
     "duration": 0.025128,
     "end_time": "2021-08-30T22:15:13.619653",
     "exception": false,
     "start_time": "2021-08-30T22:15:13.594525",
     "status": "completed"
    },
    "tags": []
   },
   "source": [
    "## Data wrangling"
   ]
  },
  {
   "cell_type": "code",
   "execution_count": 1,
   "id": "d2f5d343-55f4-43d0-9b14-5d79fc7094ee",
   "metadata": {
    "papermill": {
     "duration": 3.03393,
     "end_time": "2021-08-30T22:15:16.679153",
     "exception": false,
     "start_time": "2021-08-30T22:15:13.645223",
     "status": "completed"
    },
    "tags": []
   },
   "outputs": [],
   "source": [
    "# Preamble\n",
    "import pandas as pd\n",
    "import numpy as np\n",
    "pd.set_option(\"mode.chained_assignment\", None)\n",
    "import matplotlib.pyplot as plt\n",
    "import lightgbm as lgb\n",
    "import pyarrow.feather as feather\n",
    "from os import chdir, getcwd\n",
    "\n",
    "# sci-kit\n",
    "from sklearn.linear_model import LinearRegression\n",
    "from sklearn.neural_network import MLPRegressor\n",
    "from sklearn.ensemble import RandomForestRegressor\n",
    "from sklearn import svm\n",
    "from sklearn.preprocessing import StandardScaler\n",
    "from sklearn.model_selection import GridSearchCV\n",
    "from sklearn import metrics\n",
    "from sklearn.metrics import r2_score\n",
    "from sklearn.metrics import mean_squared_error"
   ]
  },
  {
   "cell_type": "code",
   "execution_count": 2,
   "id": "6cbed92b-623c-4293-9927-1ae51e505de2",
   "metadata": {
    "papermill": {
     "duration": 0.034141,
     "end_time": "2021-08-30T22:15:16.739128",
     "exception": false,
     "start_time": "2021-08-30T22:15:16.704987",
     "status": "completed"
    },
    "tags": []
   },
   "outputs": [],
   "source": [
    "data_dir = '/home/jovyan/work/Data/'\n",
    "results_dir = '/home/jovyan/work/Results/'"
   ]
  },
  {
   "cell_type": "code",
   "execution_count": null,
   "id": "80df2e0e-89ce-43cd-9b51-ecc16b7e2e4f",
   "metadata": {
    "papermill": {
     "duration": 0.036105,
     "end_time": "2021-08-30T22:15:16.800011",
     "exception": false,
     "start_time": "2021-08-30T22:15:16.763906",
     "status": "completed"
    },
    "tags": []
   },
   "outputs": [],
   "source": [
    "select_features = ['reporter.ISO', 'partner.ISO', 'year', \n",
    "                   'commodity.code', 'section', 'section.code', 'SITC.section', 'SITC.code',\n",
    "                   'Net_Tot_IFF', 'GER_Tot_IFF', 'In_GER_Tot_IFF', 'ln.GER_Tot_IFF', 'ln.In_GER_Tot_IFF',\n",
    "                   'dist',\n",
    "                   'gdp_o', 'gdp_d', 'pop_o', 'pop_d',\n",
    "                   'entry_cost_o', 'entry_cost_d',\n",
    "                   'tariff',\n",
    "                   'rSecrecyScore', 'pSecrecyScore',\n",
    "                   'rCorrCont', 'pCorrCont',\n",
    "                   'rRegQual', 'pRegQual', \n",
    "                   'rRuleLaw', 'pRuleLaw',\n",
    "                   'Import_value', 'NetExport_value']\n",
    "features = ['dist',\n",
    "            'gdp_o', 'gdp_d', 'pop_o', 'pop_d',\n",
    "            'entry_cost_o', 'entry_cost_d',\n",
    "            'tariff',\n",
    "            'rSecrecyScore', 'pSecrecyScore',\n",
    "            'rCorrCont', 'pCorrCont',\n",
    "            'rRegQual', 'pRegQual', \n",
    "            'rRuleLaw', 'pRuleLaw',\n",
    "            'Import_value', 'NetExport_value',\n",
    "            'SITC.code']"
   ]
  },
  {
   "cell_type": "markdown",
   "id": "a6cbf9da-0af7-4d89-9227-d63c9f5e9b04",
   "metadata": {
    "papermill": {
     "duration": 0.026034,
     "end_time": "2021-08-30T22:15:16.851950",
     "exception": false,
     "start_time": "2021-08-30T22:15:16.825916",
     "status": "completed"
    },
    "tags": []
   },
   "source": [
    "## Split into training and test samples"
   ]
  },
  {
   "cell_type": "code",
   "execution_count": null,
   "id": "33ac487b-644b-4af0-a233-1bedf9b5a998",
   "metadata": {
    "papermill": {
     "duration": 9.625437,
     "end_time": "2021-08-30T22:15:26.502365",
     "exception": false,
     "start_time": "2021-08-30T22:15:16.876928",
     "status": "completed"
    },
    "tags": []
   },
   "outputs": [],
   "source": [
    "train = feather.read_feather(results_dir + 'train.feather')\n",
    "test = feather.read_feather(results_dir + 'test.feather')"
   ]
  },
  {
   "cell_type": "code",
   "execution_count": null,
   "id": "d0c5dcdb-b4bd-41ad-866f-d7c825166f23",
   "metadata": {
    "papermill": {
     "duration": 0.036805,
     "end_time": "2021-08-30T22:15:26.565024",
     "exception": false,
     "start_time": "2021-08-30T22:15:26.528219",
     "status": "completed"
    },
    "tags": []
   },
   "outputs": [],
   "source": [
    "def create_smp(data, features):\n",
    "    \"\"\"\n",
    "    Create train and test samples that are complete.\n",
    "    \"\"\"\n",
    "    smp = data[features]\n",
    "    smp.dropna(axis=0, how='any', inplace=True)\n",
    "    return smp"
   ]
  },
  {
   "cell_type": "code",
   "execution_count": null,
   "id": "bf7ed85f-c229-46f8-b066-8b845fc60be6",
   "metadata": {
    "papermill": {
     "duration": 0.902723,
     "end_time": "2021-08-30T22:15:27.493588",
     "exception": false,
     "start_time": "2021-08-30T22:15:26.590865",
     "status": "completed"
    },
    "tags": []
   },
   "outputs": [],
   "source": [
    "train_smp = create_smp(train, select_features)\n",
    "test_smp = create_smp(test, select_features)"
   ]
  },
  {
   "cell_type": "code",
   "execution_count": null,
   "id": "8bc33b86-f009-4ac6-81c6-1fdce1bdafbc",
   "metadata": {
    "papermill": {
     "duration": 0.629718,
     "end_time": "2021-08-30T22:15:28.148209",
     "exception": false,
     "start_time": "2021-08-30T22:15:27.518491",
     "status": "completed"
    },
    "tags": []
   },
   "outputs": [],
   "source": [
    "feather.write_feather(train_smp, results_dir + 'train_smp.feather')\n",
    "feather.write_feather(test_smp, results_dir + 'test_smp.feather')"
   ]
  },
  {
   "cell_type": "code",
   "execution_count": null,
   "id": "1cf54c33-88da-44d5-878c-926ad6c6d9cd",
   "metadata": {
    "papermill": {
     "duration": 0.096098,
     "end_time": "2021-08-30T22:15:28.273217",
     "exception": false,
     "start_time": "2021-08-30T22:15:28.177119",
     "status": "completed"
    },
    "tags": []
   },
   "outputs": [],
   "source": [
    "Y_train = train_smp[['GER_Tot_IFF']]\n",
    "X_train = train_smp[features]\n",
    "Y_test = test_smp[['GER_Tot_IFF']]\n",
    "X_test = test_smp[features]"
   ]
  },
  {
   "cell_type": "code",
   "execution_count": null,
   "id": "fbaff0be-6136-415c-9c11-b1f1e62d3a0c",
   "metadata": {
    "papermill": {
     "duration": 0.03533,
     "end_time": "2021-08-30T22:15:28.341260",
     "exception": false,
     "start_time": "2021-08-30T22:15:28.305930",
     "status": "completed"
    },
    "tags": []
   },
   "outputs": [],
   "source": [
    "print('X_train: ', X_train.shape, '\\nX_test: ',  X_test.shape)"
   ]
  },
  {
   "cell_type": "markdown",
   "id": "51afba86-15dc-4121-b287-b2858a51389b",
   "metadata": {
    "papermill": {
     "duration": 0.025673,
     "end_time": "2021-08-30T22:15:28.393010",
     "exception": false,
     "start_time": "2021-08-30T22:15:28.367337",
     "status": "completed"
    },
    "tags": []
   },
   "source": [
    "## Linear regression"
   ]
  },
  {
   "cell_type": "code",
   "execution_count": null,
   "id": "139e74e4-3543-459d-9488-33a700c40a2b",
   "metadata": {
    "papermill": {
     "duration": 1.725938,
     "end_time": "2021-08-30T22:15:30.146616",
     "exception": false,
     "start_time": "2021-08-30T22:15:28.420678",
     "status": "completed"
    },
    "tags": []
   },
   "outputs": [],
   "source": [
    "linear_mod = LinearRegression()  \n",
    "linear_mod.fit(X_train.values, Y_train.values)"
   ]
  },
  {
   "cell_type": "code",
   "execution_count": null,
   "id": "ebd838fc-d161-42c6-bcb2-34265c0044a9",
   "metadata": {
    "papermill": {
     "duration": 0.037084,
     "end_time": "2021-08-30T22:15:30.210816",
     "exception": false,
     "start_time": "2021-08-30T22:15:30.173732",
     "status": "completed"
    },
    "tags": []
   },
   "outputs": [],
   "source": [
    "print(linear_mod.intercept_)\n",
    "print(linear_mod.coef_)"
   ]
  },
  {
   "cell_type": "markdown",
   "id": "e21c5e92",
   "metadata": {
    "tags": [
     "papermill-error-cell-tag"
    ]
   },
   "source": [
    "<span id=\"papermill-error-cell\" style=\"color:red; font-family:Helvetica Neue, Helvetica, Arial, sans-serif; font-size:2em;\">Execution using papermill encountered an exception here and stopped:</span>"
   ]
  },
  {
   "cell_type": "code",
   "execution_count": null,
   "id": "3238d645-0834-4f5f-a4e9-ec27d7ac58b3",
   "metadata": {
    "papermill": {
     "duration": 1.403996,
     "end_time": "2021-08-30T22:15:31.641456",
     "exception": true,
     "start_time": "2021-08-30T22:15:30.237460",
     "status": "failed"
    },
    "tags": []
   },
   "outputs": [],
   "source": [
    "import statsmodels.api as sm\n",
    "Xconst = sm.add_constant(X_train)\n",
    "est = sm.OLS(Y_train, Xconst)\n",
    "est2 = est.fit()\n",
    "print(est2.summary())"
   ]
  },
  {
   "cell_type": "code",
   "execution_count": null,
   "id": "7e6e9b13-5423-42ee-93b4-a26df5e213d9",
   "metadata": {
    "papermill": {
     "duration": null,
     "end_time": null,
     "exception": null,
     "start_time": null,
     "status": "pending"
    },
    "tags": []
   },
   "outputs": [],
   "source": [
    "preds_LM_train = linear_mod.predict(X_train)\n",
    "preds_LM_test = linear_mod.predict(X_test)"
   ]
  },
  {
   "cell_type": "code",
   "execution_count": null,
   "id": "20c84e50-70f4-4f78-b046-89abca108c02",
   "metadata": {
    "papermill": {
     "duration": null,
     "end_time": null,
     "exception": null,
     "start_time": null,
     "status": "pending"
    },
    "tags": []
   },
   "outputs": [],
   "source": [
    "feather.write_feather(pd.DataFrame(preds_LM_train), results_dir + 'preds.LM.train.feather')\n",
    "feather.write_feather(pd.DataFrame(preds_LM_test), results_dir + 'preds.LM.test.feather')"
   ]
  },
  {
   "cell_type": "code",
   "execution_count": null,
   "id": "375b2663-16df-46b1-bbce-489c9a7021e4",
   "metadata": {
    "papermill": {
     "duration": null,
     "end_time": null,
     "exception": null,
     "start_time": null,
     "status": "pending"
    },
    "tags": []
   },
   "outputs": [],
   "source": [
    "print(\"RMSE of the training set:\", np.sqrt(mean_squared_error(Y_train, preds_LM_train)))\n",
    "print(\"R^2 of the training set:\", r2_score(Y_train, preds_LM_train))"
   ]
  },
  {
   "cell_type": "code",
   "execution_count": null,
   "id": "3cb993bb-427d-4181-b630-331ba4b1f970",
   "metadata": {
    "papermill": {
     "duration": null,
     "end_time": null,
     "exception": null,
     "start_time": null,
     "status": "pending"
    },
    "tags": []
   },
   "outputs": [],
   "source": [
    "print(\"RMSE of the test set:\", np.sqrt(mean_squared_error(Y_test, preds_LM_test)))\n",
    "print(\"R^2 of the test set:\", r2_score(Y_test, preds_LM_test))"
   ]
  },
  {
   "cell_type": "code",
   "execution_count": null,
   "id": "c228299d-c84c-4218-839a-5f5b9422f010",
   "metadata": {
    "papermill": {
     "duration": null,
     "end_time": null,
     "exception": null,
     "start_time": null,
     "status": "pending"
    },
    "tags": []
   },
   "outputs": [],
   "source": [
    "print('Mean Absolute Error:', metrics.mean_absolute_error(Y_test, preds_LM_test))  \n",
    "print('Mean Squared Error:', mean_squared_error(Y_test, preds_LM_test))  "
   ]
  },
  {
   "cell_type": "markdown",
   "id": "8ef95a54-1665-41a1-8495-a60d4a5ea881",
   "metadata": {
    "papermill": {
     "duration": null,
     "end_time": null,
     "exception": null,
     "start_time": null,
     "status": "pending"
    },
    "tags": []
   },
   "source": [
    "## Light GBM"
   ]
  },
  {
   "cell_type": "code",
   "execution_count": null,
   "id": "217c2af6-ce0a-434a-bf19-a5f65cedc355",
   "metadata": {
    "papermill": {
     "duration": null,
     "end_time": null,
     "exception": null,
     "start_time": null,
     "status": "pending"
    },
    "tags": []
   },
   "outputs": [],
   "source": [
    "Y_train = train_smp[['GER_Tot_IFF']]\n",
    "X_train = train_smp[features]\n",
    "Y_test = test_smp[['GER_Tot_IFF']]\n",
    "X_test = test_smp[features]"
   ]
  },
  {
   "cell_type": "code",
   "execution_count": null,
   "id": "357fe607-33d1-4ad1-a266-74c0fefda200",
   "metadata": {
    "papermill": {
     "duration": null,
     "end_time": null,
     "exception": null,
     "start_time": null,
     "status": "pending"
    },
    "tags": []
   },
   "outputs": [],
   "source": [
    "lightGBM_train = lgb.Dataset(X_train, Y_train)\n",
    "lightGBM_test = lgb.Dataset(X_test, Y_test)"
   ]
  },
  {
   "cell_type": "code",
   "execution_count": null,
   "id": "78d8f53c-faeb-49f1-b7ad-3d31a6fb8e97",
   "metadata": {
    "papermill": {
     "duration": null,
     "end_time": null,
     "exception": null,
     "start_time": null,
     "status": "pending"
    },
    "tags": []
   },
   "outputs": [],
   "source": [
    "params = {\n",
    "    'objective' : 'regression',\n",
    "    'metric' : 'rmse',\n",
    "    'num_leaves' : 100,\n",
    "    'max_depth': 10,\n",
    "    'learning_rate' : 0.1,\n",
    "    'feature_fraction' : 0.6,\n",
    "    'verbosity' : -1\n",
    "}\n",
    "lightGBM_mod = lgb.train(\n",
    "    params,\n",
    "    lightGBM_train,\n",
    "    500,\n",
    "    valid_sets = [lightGBM_train, lightGBM_test],\n",
    "    valid_names = [\"train\", \"test\"],\n",
    "    early_stopping_rounds = 50,\n",
    "    verbose_eval = 500\n",
    ")"
   ]
  },
  {
   "cell_type": "code",
   "execution_count": null,
   "id": "fa979ff7-2bfa-45b9-90a3-586b98265885",
   "metadata": {
    "papermill": {
     "duration": null,
     "end_time": null,
     "exception": null,
     "start_time": null,
     "status": "pending"
    },
    "tags": []
   },
   "outputs": [],
   "source": [
    "preds_lightGBM_train = pd.DataFrame(lightGBM_mod.predict(X_train))\n",
    "preds_lightGBM_test = pd.DataFrame(lightGBM_mod.predict(X_test))"
   ]
  },
  {
   "cell_type": "code",
   "execution_count": null,
   "id": "93e9d44a-dc72-470c-8791-eb37221bfed6",
   "metadata": {
    "papermill": {
     "duration": null,
     "end_time": null,
     "exception": null,
     "start_time": null,
     "status": "pending"
    },
    "tags": []
   },
   "outputs": [],
   "source": [
    "feather.write_feather(preds_lightGBM_train, results_dir + 'preds.lightGBM.train.feather')\n",
    "feather.write_feather(preds_lightGBM_test, results_dir + 'preds.lightGBM.test.feather')"
   ]
  },
  {
   "cell_type": "code",
   "execution_count": null,
   "id": "d8df4914-dbce-4532-8cb2-bfb452610389",
   "metadata": {
    "papermill": {
     "duration": null,
     "end_time": null,
     "exception": null,
     "start_time": null,
     "status": "pending"
    },
    "tags": []
   },
   "outputs": [],
   "source": [
    "print(\"RMSE of the training set:\", np.sqrt(mean_squared_error(Y_train, preds_lightGBM_train)))\n",
    "print(\"R^2 of the training set:\", r2_score(Y_train, preds_lightGBM_train))"
   ]
  },
  {
   "cell_type": "code",
   "execution_count": null,
   "id": "091b14b2-4c65-4dd3-a637-40403bc9f772",
   "metadata": {
    "papermill": {
     "duration": null,
     "end_time": null,
     "exception": null,
     "start_time": null,
     "status": "pending"
    },
    "tags": []
   },
   "outputs": [],
   "source": [
    "print(\"RMSE of the test set:\", np.sqrt(mean_squared_error(Y_test, preds_lightGBM_test)))\n",
    "print(\"R^2 of the test set:\", r2_score(Y_test, preds_lightGBM_test))"
   ]
  },
  {
   "cell_type": "code",
   "execution_count": null,
   "id": "1df252cc-2d7d-40f3-9bce-ccb275ec1c3a",
   "metadata": {
    "papermill": {
     "duration": null,
     "end_time": null,
     "exception": null,
     "start_time": null,
     "status": "pending"
    },
    "tags": []
   },
   "outputs": [],
   "source": [
    "fig, ax = plt.subplots(figsize = (10,10))\n",
    "lgb.plot_importance(lightGBM_mod, height = 0.8, ax = ax)\n",
    "ax.grid(False)\n",
    "plt.title(\"LightGBM - Feature Importance\", fontsize = 15)\n",
    "plt.show()"
   ]
  },
  {
   "cell_type": "markdown",
   "id": "f740ea20-aebd-45dd-9725-6656e0287aac",
   "metadata": {
    "papermill": {
     "duration": null,
     "end_time": null,
     "exception": null,
     "start_time": null,
     "status": "pending"
    },
    "tags": []
   },
   "source": [
    "## Neural Networks"
   ]
  },
  {
   "cell_type": "code",
   "execution_count": null,
   "id": "8f6a5338-8227-4a55-9696-6c0f78826b31",
   "metadata": {
    "papermill": {
     "duration": null,
     "end_time": null,
     "exception": null,
     "start_time": null,
     "status": "pending"
    },
    "tags": []
   },
   "outputs": [],
   "source": [
    "Y_train = train_smp[['GER_Tot_IFF']]\n",
    "X_train = train_smp[features]\n",
    "Y_test = test_smp[['GER_Tot_IFF']]\n",
    "X_test = test_smp[features]"
   ]
  },
  {
   "cell_type": "code",
   "execution_count": null,
   "id": "e4323aed-87af-4ed5-bbb0-bc9b4304176d",
   "metadata": {
    "papermill": {
     "duration": null,
     "end_time": null,
     "exception": null,
     "start_time": null,
     "status": "pending"
    },
    "tags": []
   },
   "outputs": [],
   "source": [
    "std_sc = StandardScaler()\n",
    "NN_train = std_sc.fit_transform(X_train)\n",
    "NN_test = std_sc.transform(X_test)"
   ]
  },
  {
   "cell_type": "code",
   "execution_count": null,
   "id": "291db1e3-52dc-4283-a4c1-513390b32875",
   "metadata": {
    "papermill": {
     "duration": null,
     "end_time": null,
     "exception": null,
     "start_time": null,
     "status": "pending"
    },
    "tags": []
   },
   "outputs": [],
   "source": [
    "NN_mod = MLPRegressor(hidden_layer_sizes = (10),\n",
    "                      activation = \"logistic\",\n",
    "                      random_state = 1, \n",
    "                      max_iter = 1000).fit(NN_train, Y_train.values.ravel())"
   ]
  },
  {
   "cell_type": "code",
   "execution_count": null,
   "id": "83904370-9308-4cc0-9672-bab7e0f0968e",
   "metadata": {
    "papermill": {
     "duration": null,
     "end_time": null,
     "exception": null,
     "start_time": null,
     "status": "pending"
    },
    "tags": []
   },
   "outputs": [],
   "source": [
    "preds_NN_train = NN_mod.predict(NN_train)\n",
    "preds_NN_test = NN_mod.predict(NN_test)"
   ]
  },
  {
   "cell_type": "code",
   "execution_count": null,
   "id": "4511d9d0-8785-4fd0-81ce-3fc60fedbed7",
   "metadata": {
    "papermill": {
     "duration": null,
     "end_time": null,
     "exception": null,
     "start_time": null,
     "status": "pending"
    },
    "tags": []
   },
   "outputs": [],
   "source": [
    "feather.write_feather(pd.DataFrame(preds_NN_train), results_dir + 'preds.NN.train.feather')\n",
    "feather.write_feather(pd.DataFrame(preds_NN_test), results_dir + 'preds.NN.test.feather')"
   ]
  },
  {
   "cell_type": "code",
   "execution_count": null,
   "id": "6ae8f1a6-89c2-4f42-b6bb-4d996a534fa0",
   "metadata": {
    "papermill": {
     "duration": null,
     "end_time": null,
     "exception": null,
     "start_time": null,
     "status": "pending"
    },
    "tags": []
   },
   "outputs": [],
   "source": [
    "print(\"RMSE of the training set:\", np.sqrt(mean_squared_error(Y_train, preds_NN_train)))\n",
    "print(\"R^2 of the training set:\", r2_score(Y_train, preds_NN_train))"
   ]
  },
  {
   "cell_type": "code",
   "execution_count": null,
   "id": "dff9934d-7b0c-4f24-8876-57bc2d57792f",
   "metadata": {
    "papermill": {
     "duration": null,
     "end_time": null,
     "exception": null,
     "start_time": null,
     "status": "pending"
    },
    "tags": []
   },
   "outputs": [],
   "source": [
    "print(\"RMSE of the test set:\", np.sqrt(mean_squared_error(Y_test, preds_NN_test)))\n",
    "print(\"R^2 of the test set:\", r2_score(Y_test, preds_NN_test))"
   ]
  },
  {
   "cell_type": "markdown",
   "id": "7c56947b-4442-4fd6-8d36-1bc9cd34663f",
   "metadata": {
    "papermill": {
     "duration": null,
     "end_time": null,
     "exception": null,
     "start_time": null,
     "status": "pending"
    },
    "tags": []
   },
   "source": [
    "### Tuning hyperparameters"
   ]
  },
  {
   "cell_type": "code",
   "execution_count": null,
   "id": "556adf38-f70f-475a-ac1b-8f3d68831875",
   "metadata": {
    "papermill": {
     "duration": null,
     "end_time": null,
     "exception": null,
     "start_time": null,
     "status": "pending"
    },
    "tags": []
   },
   "outputs": [],
   "source": [
    "NN = MLPRegressor(max_iter = 1000)\n",
    "parameter_space = {\n",
    "    'hidden_layer_sizes': [(10,20)],\n",
    "    'activation': ['logistic', 'relu'],\n",
    "    #'solver': ['sgd', 'adam'],\n",
    "    #'alpha': [0.0001, 0.05],\n",
    "    #'learning_rate': ['constant','adaptive'],\n",
    "}"
   ]
  },
  {
   "cell_type": "code",
   "execution_count": null,
   "id": "9a5a3d53-c2a3-4aa8-9983-c3560bf6e976",
   "metadata": {
    "papermill": {
     "duration": null,
     "end_time": null,
     "exception": null,
     "start_time": null,
     "status": "pending"
    },
    "tags": []
   },
   "outputs": [],
   "source": [
    "NN_mod_tuned = GridSearchCV(NN, parameter_space, n_jobs = -1, cv = 3)"
   ]
  },
  {
   "cell_type": "code",
   "execution_count": null,
   "id": "135e7771-458a-41c2-8eeb-a74199e7d2a2",
   "metadata": {
    "papermill": {
     "duration": null,
     "end_time": null,
     "exception": null,
     "start_time": null,
     "status": "pending"
    },
    "tags": []
   },
   "outputs": [],
   "source": [
    "NN_mod_tuned.fit(NN_train, Y_train.values.ravel())"
   ]
  },
  {
   "cell_type": "code",
   "execution_count": null,
   "id": "b18e4362-f1a8-4cfa-bb51-55ef44fdd692",
   "metadata": {
    "papermill": {
     "duration": null,
     "end_time": null,
     "exception": null,
     "start_time": null,
     "status": "pending"
    },
    "tags": []
   },
   "outputs": [],
   "source": [
    "print('Best parameters found:\\n', NN_mod_tuned.best_params_)"
   ]
  },
  {
   "cell_type": "code",
   "execution_count": null,
   "id": "aa7996e5-616f-4123-bd56-a9a72c749a72",
   "metadata": {
    "papermill": {
     "duration": null,
     "end_time": null,
     "exception": null,
     "start_time": null,
     "status": "pending"
    },
    "tags": []
   },
   "outputs": [],
   "source": [
    "# All results\n",
    "means = NN_mod_tuned.cv_results_['mean_test_score']\n",
    "stds = NN_mod_tuned.cv_results_['std_test_score']\n",
    "for mean, std, params in zip(means, stds, NN_mod_tuned.cv_results_['params']):\n",
    "    print(\"%0.3f (+/-%0.03f) for %r\" % (mean, std * 2, params))"
   ]
  },
  {
   "cell_type": "code",
   "execution_count": null,
   "id": "d1a394bb-977b-45b4-b072-7e04b69fdba0",
   "metadata": {
    "papermill": {
     "duration": null,
     "end_time": null,
     "exception": null,
     "start_time": null,
     "status": "pending"
    },
    "tags": []
   },
   "outputs": [],
   "source": [
    "preds_NN_train = NN_mod_tuned.predict(NN_train)\n",
    "preds_NN_test = NN_mod_tuned.predict(NN_test)"
   ]
  },
  {
   "cell_type": "code",
   "execution_count": null,
   "id": "82df7e77-fa56-49c5-97b7-834df4d24103",
   "metadata": {
    "papermill": {
     "duration": null,
     "end_time": null,
     "exception": null,
     "start_time": null,
     "status": "pending"
    },
    "tags": []
   },
   "outputs": [],
   "source": [
    "feather.write_feather(pd.DataFrame(preds_NN_train), results_dir + 'preds.NN.train.feather')\n",
    "feather.write_feather(pd.DataFrame(preds_NN_test), results_dir + 'preds.NN.test.feather')"
   ]
  },
  {
   "cell_type": "code",
   "execution_count": null,
   "id": "aa239306-a191-47dd-aace-c5302c85ace0",
   "metadata": {
    "papermill": {
     "duration": null,
     "end_time": null,
     "exception": null,
     "start_time": null,
     "status": "pending"
    },
    "tags": []
   },
   "outputs": [],
   "source": [
    "print(\"RMSE of the training set:\", np.sqrt(mean_squared_error(Y_train, preds_NN_train)))\n",
    "print(\"R^2 of the training set:\", r2_score(Y_train, preds_NN_train))"
   ]
  },
  {
   "cell_type": "code",
   "execution_count": null,
   "id": "1aae62e4-4e53-4bb0-9a75-fa982d7c20cb",
   "metadata": {
    "papermill": {
     "duration": null,
     "end_time": null,
     "exception": null,
     "start_time": null,
     "status": "pending"
    },
    "tags": []
   },
   "outputs": [],
   "source": [
    "print(\"RMSE of the test set:\", np.sqrt(mean_squared_error(Y_test, preds_NN_test)))\n",
    "print(\"R^2 of the test set:\", r2_score(Y_test, preds_NN_test))"
   ]
  },
  {
   "cell_type": "markdown",
   "id": "c8ae901a-2c79-4b41-a8fe-3bb62d571e7b",
   "metadata": {
    "papermill": {
     "duration": null,
     "end_time": null,
     "exception": null,
     "start_time": null,
     "status": "pending"
    },
    "tags": []
   },
   "source": [
    "## Support Vector Machine"
   ]
  },
  {
   "cell_type": "code",
   "execution_count": null,
   "id": "462e7b05-9ad0-42fe-811e-b9df2787dd9e",
   "metadata": {
    "papermill": {
     "duration": null,
     "end_time": null,
     "exception": null,
     "start_time": null,
     "status": "pending"
    },
    "tags": []
   },
   "outputs": [],
   "source": [
    "SVM_mod = svm.SVR()\n",
    "SVM_mod.fit(X_train, Y_train.values.ravel())"
   ]
  },
  {
   "cell_type": "code",
   "execution_count": null,
   "id": "0b181af9-2544-4728-b9e4-21bc1f54abb0",
   "metadata": {
    "papermill": {
     "duration": null,
     "end_time": null,
     "exception": null,
     "start_time": null,
     "status": "pending"
    },
    "tags": []
   },
   "outputs": [],
   "source": [
    "preds_SVM_train = SVM_mod.predict(X_train)\n",
    "preds_SVM_test = SVM_mod.predict(X_test)"
   ]
  },
  {
   "cell_type": "code",
   "execution_count": null,
   "id": "e33a3529-3773-478b-8218-a2321a37807b",
   "metadata": {
    "papermill": {
     "duration": null,
     "end_time": null,
     "exception": null,
     "start_time": null,
     "status": "pending"
    },
    "tags": []
   },
   "outputs": [],
   "source": [
    "feather.write_feather(pd.DataFrame(preds_SVM_train), results_dir + 'preds.SVM.train.feather')\n",
    "feather.write_feather(pd.DataFrame(preds_SVM_test), results_dir + 'preds.SVM.test.feather')"
   ]
  },
  {
   "cell_type": "code",
   "execution_count": null,
   "id": "f4d395d6-d76e-4292-8c8f-6006ec6c459d",
   "metadata": {
    "papermill": {
     "duration": null,
     "end_time": null,
     "exception": null,
     "start_time": null,
     "status": "pending"
    },
    "tags": []
   },
   "outputs": [],
   "source": [
    "print(\"RMSE of the training set:\", np.sqrt(mean_squared_error(Y_train, preds_SVM_train)))\n",
    "print(\"R^2 of the training set:\", r2_score(Y_train, preds_SVM_train))"
   ]
  },
  {
   "cell_type": "code",
   "execution_count": null,
   "id": "dbb68fd7-8089-4f61-aecc-174d32847b4b",
   "metadata": {
    "papermill": {
     "duration": null,
     "end_time": null,
     "exception": null,
     "start_time": null,
     "status": "pending"
    },
    "tags": []
   },
   "outputs": [],
   "source": [
    "print(\"RMSE of the test set:\", np.sqrt(mean_squared_error(Y_test, preds_SVM_test)))\n",
    "print(\"R^2 of the test set:\", r2_score(Y_test, preds_SVM_test))"
   ]
  },
  {
   "cell_type": "markdown",
   "id": "50f9b539-e070-4e6f-8941-68faf427afe2",
   "metadata": {
    "papermill": {
     "duration": null,
     "end_time": null,
     "exception": null,
     "start_time": null,
     "status": "pending"
    },
    "tags": []
   },
   "source": [
    "## Random Forests"
   ]
  },
  {
   "cell_type": "code",
   "execution_count": null,
   "id": "5556592f-f801-45bb-bb1c-67d9f1710024",
   "metadata": {
    "papermill": {
     "duration": null,
     "end_time": null,
     "exception": null,
     "start_time": null,
     "status": "pending"
    },
    "tags": []
   },
   "outputs": [],
   "source": [
    "RF_mod = RandomForestRegressor(max_depth = 10, random_state = 1)\n",
    "RF_mod.fit(X_train, Y_train.values.ravel())"
   ]
  },
  {
   "cell_type": "code",
   "execution_count": null,
   "id": "bb6d4f7f-b93a-4b24-b691-f5717fb34cea",
   "metadata": {
    "papermill": {
     "duration": null,
     "end_time": null,
     "exception": null,
     "start_time": null,
     "status": "pending"
    },
    "tags": []
   },
   "outputs": [],
   "source": [
    "preds_RF_train = RF_mod.predict(X_train)\n",
    "preds_RF_test = RF_mod.predict(X_test)"
   ]
  },
  {
   "cell_type": "code",
   "execution_count": null,
   "id": "52136ead-9ace-4aef-8eaa-b02b19d0e259",
   "metadata": {
    "papermill": {
     "duration": null,
     "end_time": null,
     "exception": null,
     "start_time": null,
     "status": "pending"
    },
    "tags": []
   },
   "outputs": [],
   "source": [
    "feather.write_feather(pd.DataFrame(preds_RF_train), results_dir + 'preds.RF.train.feather')\n",
    "feather.write_feather(pd.DataFrame(preds_RF_test), results_dir + 'preds.RF.test.feather')"
   ]
  },
  {
   "cell_type": "code",
   "execution_count": null,
   "id": "21eac590-c2e5-460f-b693-e235c51ecdad",
   "metadata": {
    "papermill": {
     "duration": null,
     "end_time": null,
     "exception": null,
     "start_time": null,
     "status": "pending"
    },
    "tags": []
   },
   "outputs": [],
   "source": [
    "print(\"RMSE of the training set:\", np.sqrt(mean_squared_error(Y_train, preds_RF_train)))\n",
    "print(\"R^2 of the training set:\", r2_score(Y_train, preds_RF_train))"
   ]
  },
  {
   "cell_type": "code",
   "execution_count": null,
   "id": "32fcd47d-5f3e-42b5-98b1-157bc04f0a15",
   "metadata": {
    "papermill": {
     "duration": null,
     "end_time": null,
     "exception": null,
     "start_time": null,
     "status": "pending"
    },
    "tags": []
   },
   "outputs": [],
   "source": [
    "print(\"RMSE of the test set:\", np.sqrt(mean_squared_error(Y_test, preds_RF_test)))\n",
    "print(\"R^2 of the test set:\", r2_score(Y_test, preds_RF_test))"
   ]
  }
 ],
 "metadata": {
  "kernelspec": {
   "display_name": "Python 3 (ipykernel)",
   "language": "python",
   "name": "python3"
  },
  "language_info": {
   "codemirror_mode": {
    "name": "ipython",
    "version": 3
   },
   "file_extension": ".py",
   "mimetype": "text/x-python",
   "name": "python",
   "nbconvert_exporter": "python",
   "pygments_lexer": "ipython3",
   "version": "3.9.6"
  },
  "papermill": {
   "default_parameters": {},
   "duration": 20.146106,
   "end_time": "2021-08-30T22:15:32.482249",
   "environment_variables": {},
   "exception": true,
   "input_path": "Scripts/Predictions.ipynb",
   "output_path": "Scripts/Predictions.ipynb",
   "parameters": {},
   "start_time": "2021-08-30T22:15:12.336143",
   "version": "2.3.3"
  },
  "toc": {
   "base_numbering": 1,
   "nav_menu": {},
   "number_sections": true,
   "sideBar": true,
   "skip_h1_title": true,
   "title_cell": "Table of Contents",
   "title_sidebar": "Contents",
   "toc_cell": false,
   "toc_position": {},
   "toc_section_display": true,
   "toc_window_display": true
  }
 },
 "nbformat": 4,
 "nbformat_minor": 5
}
