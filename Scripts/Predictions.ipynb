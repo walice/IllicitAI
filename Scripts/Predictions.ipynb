{
 "cells": [
  {
   "cell_type": "markdown",
   "id": "0dcbfa94-b9c5-435b-9f89-6f5b4c43be46",
   "metadata": {
    "papermill": {
     "duration": 0.012854,
     "end_time": "2021-08-25T04:30:52.046180",
     "exception": false,
     "start_time": "2021-08-25T04:30:52.033326",
     "status": "completed"
    },
    "tags": []
   },
   "source": [
    "# Predictions"
   ]
  },
  {
   "cell_type": "markdown",
   "id": "99c44811-2186-4277-911a-ff940e34ff01",
   "metadata": {
    "papermill": {
     "duration": 0.012582,
     "end_time": "2021-08-25T04:30:52.072441",
     "exception": false,
     "start_time": "2021-08-25T04:30:52.059859",
     "status": "completed"
    },
    "tags": []
   },
   "source": [
    "## Data wrangling"
   ]
  },
  {
   "cell_type": "code",
   "execution_count": 1,
   "id": "d2f5d343-55f4-43d0-9b14-5d79fc7094ee",
   "metadata": {
    "papermill": {
     "duration": 1.90378,
     "end_time": "2021-08-25T04:30:53.987733",
     "exception": false,
     "start_time": "2021-08-25T04:30:52.083953",
     "status": "completed"
    },
    "tags": []
   },
   "outputs": [],
   "source": [
    "# Preamble\n",
    "import pandas as pd\n",
    "import numpy as np\n",
    "import matplotlib.pyplot as plt\n",
    "from sklearn.linear_model import LinearRegression\n",
    "from sklearn import metrics\n",
    "from sklearn.metrics import r2_score\n",
    "import lightgbm as lgb\n",
    "import pyarrow.feather as feather\n",
    "from os import chdir, getcwd"
   ]
  },
  {
   "cell_type": "code",
   "execution_count": 2,
   "id": "6cbed92b-623c-4293-9927-1ae51e505de2",
   "metadata": {
    "papermill": {
     "duration": 0.019207,
     "end_time": "2021-08-25T04:30:54.023305",
     "exception": false,
     "start_time": "2021-08-25T04:30:54.004098",
     "status": "completed"
    },
    "tags": []
   },
   "outputs": [],
   "source": [
    "data_dir = '/home/jovyan/work/Data/'\n",
    "results_dir = '/home/jovyan/work/Results/'"
   ]
  },
  {
   "cell_type": "code",
   "execution_count": 3,
   "id": "80df2e0e-89ce-43cd-9b51-ecc16b7e2e4f",
   "metadata": {
    "papermill": {
     "duration": 0.021781,
     "end_time": "2021-08-25T04:30:54.056771",
     "exception": false,
     "start_time": "2021-08-25T04:30:54.034990",
     "status": "completed"
    },
    "tags": []
   },
   "outputs": [],
   "source": [
    "select_features = ['year',\n",
    "                   'ln.Tot_IFF',\n",
    "                   'dist', 'contig', 'comcol', 'col45', 'comlang_off', 'comleg_posttrans',\n",
    "                   'gdp_o', 'gdp_d', 'pop_o', 'pop_d',\n",
    "                   'entry_cost_o', 'entry_cost_d',\n",
    "                   'rta', 'tariff',\n",
    "                   'ka_o', 'ka_d', 'kai_o', 'kao_o', 'kai_d', 'kao_d',\n",
    "                   'rSecrecyScore', 'pSecrecyScore',\n",
    "                   'rCPI', 'pCPI',\n",
    "                   'rCorrCont', 'pCorrCont',\n",
    "                   'rRegQual', 'pRegQual', \n",
    "                   'rRuleLaw', 'pRuleLaw']\n",
    "features = ['dist', 'contig', 'comcol', 'col45', 'comlang_off', 'comleg_posttrans',\n",
    "            'gdp_o', 'gdp_d', 'pop_o', 'pop_d',\n",
    "            'entry_cost_o', 'entry_cost_d',\n",
    "            'rta', 'tariff',\n",
    "            'ka_o', 'ka_d', 'kai_o', 'kao_o', 'kai_d', 'kao_d',\n",
    "            'rSecrecyScore', 'pSecrecyScore',\n",
    "            'rCPI', 'pCPI',\n",
    "            'rCorrCont', 'pCorrCont',\n",
    "            'rRegQual', 'pRegQual', \n",
    "            'rRuleLaw', 'pRuleLaw']"
   ]
  },
  {
   "cell_type": "markdown",
   "id": "a6cbf9da-0af7-4d89-9227-d63c9f5e9b04",
   "metadata": {
    "papermill": {
     "duration": 0.011902,
     "end_time": "2021-08-25T04:30:54.080630",
     "exception": false,
     "start_time": "2021-08-25T04:30:54.068728",
     "status": "completed"
    },
    "tags": []
   },
   "source": [
    "## Split into training and test samples"
   ]
  },
  {
   "cell_type": "code",
   "execution_count": 4,
   "id": "33ac487b-644b-4af0-a233-1bedf9b5a998",
   "metadata": {
    "papermill": {
     "duration": 0.198678,
     "end_time": "2021-08-25T04:30:54.291158",
     "exception": false,
     "start_time": "2021-08-25T04:30:54.092480",
     "status": "completed"
    },
    "tags": []
   },
   "outputs": [],
   "source": [
    "train_smp = feather.read_feather(results_dir + 'train_smp.feather')\n",
    "test_smp = feather.read_feather(results_dir + 'test_smp.feather')"
   ]
  },
  {
   "cell_type": "code",
   "execution_count": 5,
   "id": "9594c49a-50ae-4d02-bb31-6ea3a8287eb9",
   "metadata": {
    "papermill": {
     "duration": 0.037581,
     "end_time": "2021-08-25T04:30:54.340903",
     "exception": false,
     "start_time": "2021-08-25T04:30:54.303322",
     "status": "completed"
    },
    "tags": []
   },
   "outputs": [],
   "source": [
    "train_smp = train_smp[select_features]\n",
    "test_smp = test_smp[select_features]"
   ]
  },
  {
   "cell_type": "code",
   "execution_count": 6,
   "id": "bba28788-c431-4af8-811b-fab0f9b784dc",
   "metadata": {
    "papermill": {
     "duration": 0.0379,
     "end_time": "2021-08-25T04:30:54.390543",
     "exception": false,
     "start_time": "2021-08-25T04:30:54.352643",
     "status": "completed"
    },
    "tags": []
   },
   "outputs": [],
   "source": [
    "train_smp.dropna(axis=0, how='any', inplace=True)\n",
    "test_smp.dropna(axis=0, how='any', inplace=True)"
   ]
  },
  {
   "cell_type": "code",
   "execution_count": 7,
   "id": "8bc33b86-f009-4ac6-81c6-1fdce1bdafbc",
   "metadata": {
    "papermill": {
     "duration": 0.030357,
     "end_time": "2021-08-25T04:30:54.432522",
     "exception": false,
     "start_time": "2021-08-25T04:30:54.402165",
     "status": "completed"
    },
    "tags": []
   },
   "outputs": [],
   "source": [
    "feather.write_feather(test_smp, results_dir + 'test_smp_trans.feather')"
   ]
  },
  {
   "cell_type": "code",
   "execution_count": 8,
   "id": "1cf54c33-88da-44d5-878c-926ad6c6d9cd",
   "metadata": {
    "papermill": {
     "duration": 0.023873,
     "end_time": "2021-08-25T04:30:54.469044",
     "exception": false,
     "start_time": "2021-08-25T04:30:54.445171",
     "status": "completed"
    },
    "tags": []
   },
   "outputs": [],
   "source": [
    "Y_train = train_smp[['ln.Tot_IFF']]\n",
    "X_train = train_smp[features]\n",
    "Y_test = test_smp[['ln.Tot_IFF']]\n",
    "X_test = test_smp[features]\n",
    "Y_val = Y_train.values\n",
    "X_val = X_train.values"
   ]
  },
  {
   "cell_type": "markdown",
   "id": "51afba86-15dc-4121-b287-b2858a51389b",
   "metadata": {
    "papermill": {
     "duration": 0.011466,
     "end_time": "2021-08-25T04:30:54.492337",
     "exception": false,
     "start_time": "2021-08-25T04:30:54.480871",
     "status": "completed"
    },
    "tags": []
   },
   "source": [
    "## Linear regression"
   ]
  },
  {
   "cell_type": "code",
   "execution_count": 9,
   "id": "139e74e4-3543-459d-9488-33a700c40a2b",
   "metadata": {
    "papermill": {
     "duration": 0.037,
     "end_time": "2021-08-25T04:30:54.540674",
     "exception": false,
     "start_time": "2021-08-25T04:30:54.503674",
     "status": "completed"
    },
    "tags": []
   },
   "outputs": [
    {
     "data": {
      "text/plain": [
       "LinearRegression()"
      ]
     },
     "execution_count": 9,
     "metadata": {},
     "output_type": "execute_result"
    }
   ],
   "source": [
    "linear_mod = LinearRegression()  \n",
    "linear_mod.fit(X_val, Y_val)"
   ]
  },
  {
   "cell_type": "code",
   "execution_count": 10,
   "id": "ebd838fc-d161-42c6-bcb2-34265c0044a9",
   "metadata": {
    "papermill": {
     "duration": 0.034715,
     "end_time": "2021-08-25T04:30:54.596530",
     "exception": false,
     "start_time": "2021-08-25T04:30:54.561815",
     "status": "completed"
    },
    "tags": []
   },
   "outputs": [
    {
     "name": "stdout",
     "output_type": "stream",
     "text": [
      "[16.26257313]\n",
      "[[-1.17002780e-04  2.62274567e+00 -1.00012048e+00  4.17285903e-01\n",
      "   2.22174082e-01  5.31360318e-01  2.03010060e-10  2.85245650e-10\n",
      "   1.81116399e-06  3.43907388e-06 -5.14521572e-02 -3.60551419e-02\n",
      "   7.43672175e-02  5.94965674e-02  9.36752978e-02  3.57915606e-02\n",
      "  -1.67930387e+00  1.86665445e+00 -2.35517004e+00  2.42675321e+00\n",
      "  -2.00463414e-02 -4.56039445e-02  5.02227601e-02  2.89230938e-02\n",
      "  -2.47176466e-02 -1.13009572e-02  4.43590568e-02  5.31556693e-02\n",
      "  -3.36375721e-02 -4.13317508e-02]]\n"
     ]
    }
   ],
   "source": [
    "print(linear_mod.intercept_)\n",
    "print(linear_mod.coef_)"
   ]
  },
  {
   "cell_type": "code",
   "execution_count": 11,
   "id": "3238d645-0834-4f5f-a4e9-ec27d7ac58b3",
   "metadata": {
    "papermill": {
     "duration": 0.289043,
     "end_time": "2021-08-25T04:30:54.907396",
     "exception": false,
     "start_time": "2021-08-25T04:30:54.618353",
     "status": "completed"
    },
    "tags": []
   },
   "outputs": [
    {
     "name": "stdout",
     "output_type": "stream",
     "text": [
      "                            OLS Regression Results                            \n",
      "==============================================================================\n",
      "Dep. Variable:             ln.Tot_IFF   R-squared:                       0.379\n",
      "Model:                            OLS   Adj. R-squared:                  0.377\n",
      "Method:                 Least Squares   F-statistic:                     144.3\n",
      "Date:                Wed, 25 Aug 2021   Prob (F-statistic):               0.00\n",
      "Time:                        07:22:44   Log-Likelihood:                -15851.\n",
      "No. Observations:                6637   AIC:                         3.176e+04\n",
      "Df Residuals:                    6608   BIC:                         3.196e+04\n",
      "Df Model:                          28                                         \n",
      "Covariance Type:            nonrobust                                         \n",
      "====================================================================================\n",
      "                       coef    std err          t      P>|t|      [0.025      0.975]\n",
      "------------------------------------------------------------------------------------\n",
      "const               16.2626      0.545     29.827      0.000      15.194      17.331\n",
      "dist                -0.0001   8.37e-06    -13.975      0.000      -0.000      -0.000\n",
      "contig               2.6227      0.227     11.576      0.000       2.179       3.067\n",
      "comcol              -1.0001      0.192     -5.202      0.000      -1.377      -0.623\n",
      "col45                0.4173      0.302      1.382      0.167      -0.175       1.009\n",
      "comlang_off          0.2222      0.109      2.034      0.042       0.008       0.436\n",
      "comleg_posttrans     0.5314      0.080      6.624      0.000       0.374       0.689\n",
      "gdp_o              2.03e-10   1.41e-11     14.425      0.000    1.75e-10    2.31e-10\n",
      "gdp_d             2.852e-10   1.41e-11     20.273      0.000    2.58e-10    3.13e-10\n",
      "pop_o             1.811e-06   2.29e-07      7.906      0.000    1.36e-06    2.26e-06\n",
      "pop_d             3.439e-06   2.29e-07     15.027      0.000    2.99e-06    3.89e-06\n",
      "entry_cost_o        -0.0515      0.004    -12.815      0.000      -0.059      -0.044\n",
      "entry_cost_d        -0.0361      0.004     -9.210      0.000      -0.044      -0.028\n",
      "rta                  0.0744      0.082      0.908      0.364      -0.086       0.235\n",
      "tariff               0.0595      0.008      7.398      0.000       0.044       0.075\n",
      "ka_o                 0.0937      0.053      1.760      0.078      -0.011       0.198\n",
      "ka_d                 0.0358      0.053      0.674      0.500      -0.068       0.140\n",
      "kai_o               -1.6793      0.222     -7.549      0.000      -2.115      -1.243\n",
      "kao_o                1.8667      0.183     10.227      0.000       1.509       2.224\n",
      "kai_d               -2.3552      0.222    -10.617      0.000      -2.790      -1.920\n",
      "kao_d                2.4268      0.182     13.347      0.000       2.070       2.783\n",
      "rSecrecyScore       -0.0200      0.004     -5.082      0.000      -0.028      -0.012\n",
      "pSecrecyScore       -0.0456      0.004    -11.540      0.000      -0.053      -0.038\n",
      "rCPI                 0.0502      0.006      8.258      0.000       0.038       0.062\n",
      "pCPI                 0.0289      0.006      4.761      0.000       0.017       0.041\n",
      "rCorrCont           -0.0247      0.006     -4.025      0.000      -0.037      -0.013\n",
      "pCorrCont           -0.0113      0.006     -1.846      0.065      -0.023       0.001\n",
      "rRegQual             0.0444      0.006      7.518      0.000       0.033       0.056\n",
      "pRegQual             0.0532      0.006      9.163      0.000       0.042       0.065\n",
      "rRuleLaw            -0.0336      0.006     -5.406      0.000      -0.046      -0.021\n",
      "pRuleLaw            -0.0413      0.006     -6.730      0.000      -0.053      -0.029\n",
      "==============================================================================\n",
      "Omnibus:                      854.023   Durbin-Watson:                   1.566\n",
      "Prob(Omnibus):                  0.000   Jarque-Bera (JB):             1816.818\n",
      "Skew:                          -0.785   Prob(JB):                         0.00\n",
      "Kurtosis:                       5.026   Cond. No.                     1.20e+16\n",
      "==============================================================================\n",
      "\n",
      "Notes:\n",
      "[1] Standard Errors assume that the covariance matrix of the errors is correctly specified.\n",
      "[2] The condition number is large, 1.2e+16. This might indicate that there are\n",
      "strong multicollinearity or other numerical problems.\n"
     ]
    },
    {
     "name": "stderr",
     "output_type": "stream",
     "text": [
      "/opt/conda/lib/python3.9/site-packages/statsmodels/tsa/tsatools.py:142: FutureWarning: In a future version of pandas all arguments of concat except for the argument 'objs' will be keyword-only\n",
      "  x = pd.concat(x[::order], 1)\n"
     ]
    }
   ],
   "source": [
    "import statsmodels.api as sm\n",
    "Xconst = sm.add_constant(X_train)\n",
    "est = sm.OLS(Y_train, Xconst)\n",
    "est2 = est.fit()\n",
    "print(est2.summary())"
   ]
  },
  {
   "cell_type": "code",
   "execution_count": 12,
   "id": "7e6e9b13-5423-42ee-93b4-a26df5e213d9",
   "metadata": {
    "papermill": {
     "duration": 0.035714,
     "end_time": "2021-08-25T04:30:54.966104",
     "exception": false,
     "start_time": "2021-08-25T04:30:54.930390",
     "status": "completed"
    },
    "tags": []
   },
   "outputs": [],
   "source": [
    "y_pred = linear_mod.predict(X_test)"
   ]
  },
  {
   "cell_type": "code",
   "execution_count": 13,
   "id": "c228299d-c84c-4218-839a-5f5b9422f010",
   "metadata": {
    "papermill": {
     "duration": 0.040683,
     "end_time": "2021-08-25T04:30:55.028165",
     "exception": false,
     "start_time": "2021-08-25T04:30:54.987482",
     "status": "completed"
    },
    "tags": []
   },
   "outputs": [
    {
     "name": "stdout",
     "output_type": "stream",
     "text": [
      "Mean Absolute Error: 2.036397230385591\n",
      "Mean Squared Error: 7.369767931014205\n",
      "Root Mean Squared Error: 2.714731649908367\n"
     ]
    }
   ],
   "source": [
    "print('Mean Absolute Error:', metrics.mean_absolute_error(Y_test, y_pred))  \n",
    "print('Mean Squared Error:', metrics.mean_squared_error(Y_test, y_pred))  \n",
    "print('Root Mean Squared Error:', np.sqrt(metrics.mean_squared_error(Y_test, y_pred)))"
   ]
  },
  {
   "cell_type": "markdown",
   "id": "8ef95a54-1665-41a1-8495-a60d4a5ea881",
   "metadata": {
    "papermill": {
     "duration": 0.023734,
     "end_time": "2021-08-25T04:30:55.074967",
     "exception": false,
     "start_time": "2021-08-25T04:30:55.051233",
     "status": "completed"
    },
    "tags": []
   },
   "source": [
    "## Light GBM"
   ]
  },
  {
   "cell_type": "code",
   "execution_count": 14,
   "id": "357fe607-33d1-4ad1-a266-74c0fefda200",
   "metadata": {
    "papermill": {
     "duration": 0.020547,
     "end_time": "2021-08-25T04:30:55.112011",
     "exception": false,
     "start_time": "2021-08-25T04:30:55.091464",
     "status": "completed"
    },
    "tags": []
   },
   "outputs": [],
   "source": [
    "lgbtrain = lgb.Dataset(X_train, Y_train)\n",
    "lgbvalid = lgb.Dataset(X_test, Y_test)"
   ]
  },
  {
   "cell_type": "code",
   "execution_count": 15,
   "id": "78d8f53c-faeb-49f1-b7ad-3d31a6fb8e97",
   "metadata": {
    "papermill": {
     "duration": 1.909577,
     "end_time": "2021-08-25T04:30:57.034838",
     "exception": false,
     "start_time": "2021-08-25T04:30:55.125261",
     "status": "completed"
    },
    "tags": []
   },
   "outputs": [
    {
     "name": "stdout",
     "output_type": "stream",
     "text": [
      "Training until validation scores don't improve for 50 rounds\n",
      "Early stopping, best iteration is:\n",
      "[276]\ttrain's rmse: 0.540953\tvalid's rmse: 1.48092\n"
     ]
    }
   ],
   "source": [
    "params = {\n",
    "    'objective' : 'regression',\n",
    "    'metric' : 'rmse',\n",
    "    'num_leaves' : 100,\n",
    "    'max_depth': 10,\n",
    "    'learning_rate' : 0.1,\n",
    "    'feature_fraction' : 0.6,\n",
    "    'verbosity' : -1\n",
    "}\n",
    "lgb_clf = lgb.train(\n",
    "    params,\n",
    "    lgbtrain,\n",
    "    500,\n",
    "    valid_sets=[lgbtrain, lgbvalid],\n",
    "    valid_names=[\"train\", \"valid\"],\n",
    "    early_stopping_rounds=50,\n",
    "    verbose_eval=500\n",
    ")"
   ]
  },
  {
   "cell_type": "code",
   "execution_count": 16,
   "id": "091b14b2-4c65-4dd3-a637-40403bc9f772",
   "metadata": {
    "papermill": {
     "duration": 0.295035,
     "end_time": "2021-08-25T04:30:57.344235",
     "exception": false,
     "start_time": "2021-08-25T04:30:57.049200",
     "status": "completed"
    },
    "tags": []
   },
   "outputs": [
    {
     "name": "stdout",
     "output_type": "stream",
     "text": [
      "RMSE of the validation set: 1.480915105591873\n",
      "R^2 of the validation set: 0.8050333771705789\n"
     ]
    }
   ],
   "source": [
    "print(\"RMSE of the validation set:\", np.sqrt(metrics.mean_squared_error(Y_test, lgb_clf.predict(X_test))))\n",
    "print(\"R^2 of the validation set:\", r2_score(Y_test, lgb_clf.predict(X_test)))"
   ]
  },
  {
   "cell_type": "code",
   "execution_count": 17,
   "id": "1df252cc-2d7d-40f3-9bce-ccb275ec1c3a",
   "metadata": {
    "papermill": {
     "duration": 0.462821,
     "end_time": "2021-08-25T04:30:57.820356",
     "exception": false,
     "start_time": "2021-08-25T04:30:57.357535",
     "status": "completed"
    },
    "tags": []
   },
   "outputs": [
    {
     "data": {
      "image/png": "[encoded data removed]",
      "text/plain": [
       "<Figure size 720x720 with 1 Axes>"
      ]
     },
     "metadata": {
      "needs_background": "light"
     },
     "output_type": "display_data"
    }
   ],
   "source": [
    "fig, ax = plt.subplots(figsize=(10,10))\n",
    "lgb.plot_importance(lgb_clf,height=0.8, ax=ax)\n",
    "ax.grid(False)\n",
    "plt.title(\"LightGBM - Feature Importance\", fontsize=15)\n",
    "plt.show()"
   ]
  },
  {
   "cell_type": "code",
   "execution_count": 18,
   "id": "3339b309-1fb5-4daf-a8d9-35e30de19b21",
   "metadata": {
    "papermill": {
     "duration": 0.161112,
     "end_time": "2021-08-25T04:30:57.996472",
     "exception": false,
     "start_time": "2021-08-25T04:30:57.835360",
     "status": "completed"
    },
    "tags": []
   },
   "outputs": [],
   "source": [
    "preds = pd.DataFrame(lgb_clf.predict(X_test))"
   ]
  },
  {
   "cell_type": "code",
   "execution_count": 19,
   "id": "2928cad8-a4a1-4a7f-a8af-20a226caaa1f",
   "metadata": {
    "papermill": {
     "duration": 0.024682,
     "end_time": "2021-08-25T04:30:58.037404",
     "exception": false,
     "start_time": "2021-08-25T04:30:58.012722",
     "status": "completed"
    },
    "tags": []
   },
   "outputs": [],
   "source": [
    "feather.write_feather(preds, results_dir + 'preds.feather')"
   ]
  }
 ],
 "metadata": {
  "kernelspec": {
   "display_name": "Python 3 (ipykernel)",
   "language": "python",
   "name": "python3"
  },
  "language_info": {
   "codemirror_mode": {
    "name": "ipython",
    "version": 3
   },
   "file_extension": ".py",
   "mimetype": "text/x-python",
   "name": "python",
   "nbconvert_exporter": "python",
   "pygments_lexer": "ipython3",
   "version": "3.9.6"
  },
  "papermill": {
   "default_parameters": {},
   "duration": 8.293491,
   "end_time": "2021-08-25T04:30:59.376719",
   "environment_variables": {},
   "exception": null,
   "input_path": "Scripts/Predictions.ipynb",
   "output_path": "Scripts/Predictions.ipynb",
   "parameters": {},
   "start_time": "2021-08-25T04:30:51.083228",
   "version": "2.3.3"
  }
 },
 "nbformat": 4,
 "nbformat_minor": 5
}
