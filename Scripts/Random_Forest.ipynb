{
 "cells": [
  {
   "cell_type": "markdown",
   "id": "f07e16ef-9fec-4338-bfe9-1ac012b0ccd6",
   "metadata": {},
   "source": [
    "# Placebo trials"
   ]
  },
  {
   "cell_type": "markdown",
   "id": "55ecc80f-7309-48bb-bbfd-1d794a1442b4",
   "metadata": {},
   "source": [
    "## Preamble"
   ]
  },
  {
   "cell_type": "code",
   "execution_count": null,
   "id": "c7e4cb58-9458-432c-9a2e-ae03896af346",
   "metadata": {},
   "outputs": [],
   "source": [
    "# Preamble\n",
    "import pandas as pd\n",
    "import numpy as np\n",
    "pd.set_option(\"mode.chained_assignment\", None)\n",
    "import random\n",
    "random.seed(1509)\n",
    "import matplotlib.pyplot as plt\n",
    "import lightgbm as lgb\n",
    "import pyarrow.feather as feather\n",
    "from os import chdir, getcwd\n",
    "import statsmodels.api as sm\n",
    "from pprint import pprint\n",
    "from nested_cv import NestedCV\n",
    "\n",
    "# sci-kit\n",
    "from sklearn.linear_model import LinearRegression\n",
    "from sklearn.neural_network import MLPRegressor\n",
    "from sklearn.ensemble import RandomForestRegressor\n",
    "from sklearn import svm\n",
    "from sklearn.preprocessing import StandardScaler\n",
    "from sklearn.model_selection import train_test_split, GridSearchCV, RandomizedSearchCV, cross_val_score, cross_val_predict\n",
    "from sklearn import metrics\n",
    "from sklearn.metrics import r2_score, mean_squared_error, explained_variance_score\n",
    "from sklearn import tree"
   ]
  },
  {
   "cell_type": "code",
   "execution_count": null,
   "id": "e0fe8ec1-1612-4d70-b138-d632cd8810e3",
   "metadata": {},
   "outputs": [],
   "source": [
    "data_dir = '/home/jovyan/work/Data/'\n",
    "results_dir = '/home/jovyan/work/Results/'"
   ]
  },
  {
   "cell_type": "code",
   "execution_count": null,
   "id": "88d47573-b5bb-477d-aa28-8038630a1f3e",
   "metadata": {},
   "outputs": [],
   "source": [
    "select_features = ['reporter.ISO', 'partner.ISO', 'year',\n",
    "                   'ln.Tot_IFF_t', 'ln.In_Tot_IFF_t',\n",
    "                   'ln.gdp_o', 'ln.gdp_d', 'ln.pop_o', 'ln.pop_d', \n",
    "                   'dist', 'contig', \n",
    "                   'comlang', 'comcol', 'col45', \n",
    "                   'ihs.entry_cost_o', 'ihs.entry_cost_d', 'rta',\n",
    "                   'rCorrCont', 'pCorrCont',\n",
    "                   'rRegQual', 'pRegQual', \n",
    "                   'rRuleLaw', 'pRuleLaw',\n",
    "                   'pSecrecyScore',\n",
    "                   'pFSI.rank',\n",
    "                   'pKFSI13',\n",
    "                   'pKFSI17',\n",
    "                   'pKFSI20',\n",
    "                   'rFATF', 'pFATF',\n",
    "                   'ihs.tariff',\n",
    "                   'kai_o', 'kai_d', 'kao_o', 'kao_d',\n",
    "                   'cc_o', 'cc_d', 'cci_o', 'cci_d', 'cco_o', 'cco_d',\n",
    "                   'di_o', 'di_d', 'dii_o', 'dii_d', 'dio_o', 'dio_d']\n",
    "\n",
    "features = [       'ln.gdp_o', 'ln.gdp_d', 'ln.pop_o', 'ln.pop_d', \n",
    "                   'dist', 'contig', \n",
    "                   'comlang', 'comcol', 'col45', \n",
    "                   'ihs.entry_cost_o', 'ihs.entry_cost_d', 'rta',\n",
    "                   'rCorrCont', 'pCorrCont',\n",
    "                   'rRegQual', 'pRegQual', \n",
    "                   'rRuleLaw', 'pRuleLaw',\n",
    "                   'pSecrecyScore',\n",
    "                   'pFSI.rank',\n",
    "                   'pKFSI13',\n",
    "                   'pKFSI17',\n",
    "                   'pKFSI20',\n",
    "                   'rFATF', 'pFATF',\n",
    "                   'ihs.tariff',\n",
    "                   'kai_o', 'kai_d', 'kao_o', 'kao_d',\n",
    "                   'cc_o', 'cc_d', 'cci_o', 'cci_d', 'cco_o', 'cco_d',\n",
    "                   'di_o', 'di_d', 'dii_o', 'dii_d', 'dio_o', 'dio_d']\n",
    "\n",
    "ids = [       'reporter.ISO', 'partner.ISO', 'year']"
   ]
  },
  {
   "cell_type": "code",
   "execution_count": null,
   "id": "df6d7711-2c31-4f08-8730-3d873212aedb",
   "metadata": {},
   "outputs": [],
   "source": [
    "def create_smp(data, features):\n",
    "    \"\"\"\n",
    "    Create train and test samples that are complete.\n",
    "    \"\"\"\n",
    "    smp = data[features]\n",
    "    smp.dropna(axis=0, how='any', inplace=True)\n",
    "    return smp"
   ]
  },
  {
   "cell_type": "markdown",
   "id": "d0a5cdf8-9b7c-4ea5-81d7-ec702f93b34e",
   "metadata": {},
   "source": [
    "## Samples"
   ]
  },
  {
   "cell_type": "markdown",
   "id": "aeb64cc7-c287-4073-b357-67e85328daba",
   "metadata": {},
   "source": [
    "### Import full sample"
   ]
  },
  {
   "cell_type": "code",
   "execution_count": null,
   "id": "eaec2648-eaa9-45a2-b432-8fbcf60080fc",
   "metadata": {},
   "outputs": [],
   "source": [
    "data = feather.read_feather(results_dir + 'Africa_agg.feather')"
   ]
  },
  {
   "cell_type": "code",
   "execution_count": null,
   "id": "1331c556-86c9-4d76-90ff-388e460fe2f4",
   "metadata": {},
   "outputs": [],
   "source": [
    "data_smp = create_smp(data, select_features)"
   ]
  },
  {
   "cell_type": "code",
   "execution_count": null,
   "id": "0b8b1b4e-47ab-425d-af83-62c5ea76f088",
   "metadata": {
    "tags": []
   },
   "outputs": [],
   "source": [
    "idx = data_smp[ids]\n",
    "X = data_smp[features]\n",
    "Y_out = data_smp[['ln.Tot_IFF_t']]\n",
    "Y_in = data_smp[['ln.In_Tot_IFF_t']]"
   ]
  },
  {
   "cell_type": "code",
   "execution_count": null,
   "id": "ca479791-518b-4ca9-b65d-fa95f016d9eb",
   "metadata": {},
   "outputs": [],
   "source": [
    "feather.write_feather(idx, results_dir + 'idx.feather')\n",
    "feather.write_feather(X, results_dir + 'X.feather')\n",
    "feather.write_feather(Y_out, results_dir + 'Y_out.feather')\n",
    "feather.write_feather(Y_in, results_dir + 'Y_in.feather')"
   ]
  },
  {
   "cell_type": "code",
   "execution_count": null,
   "id": "916fd844-b06e-42ed-ac76-d0cdbc0ee217",
   "metadata": {},
   "outputs": [],
   "source": [
    "print('X: ', X.shape, '\\nY_out: ',  Y_out.shape)"
   ]
  },
  {
   "cell_type": "markdown",
   "id": "56802bcc-e485-40e8-840c-452c3426e8f3",
   "metadata": {},
   "source": [
    "### Import training and test sets"
   ]
  },
  {
   "cell_type": "code",
   "execution_count": null,
   "id": "33d37895-4011-4a05-87e8-cca4aa495853",
   "metadata": {},
   "outputs": [],
   "source": [
    "train_agg = feather.read_feather(results_dir + 'train_agg.feather')\n",
    "test_agg = feather.read_feather(results_dir + 'test_agg.feather')"
   ]
  },
  {
   "cell_type": "code",
   "execution_count": null,
   "id": "f8a6a9c6-7b10-47a6-b7ba-e441e8fcce8b",
   "metadata": {},
   "outputs": [],
   "source": [
    "train_agg_smp = create_smp(train_agg, select_features)\n",
    "test_agg_smp = create_smp(test_agg, select_features)"
   ]
  },
  {
   "cell_type": "code",
   "execution_count": null,
   "id": "d6e3f442-5db6-46af-a727-1c7b2eaf7755",
   "metadata": {},
   "outputs": [],
   "source": [
    "feather.write_feather(train_agg_smp, results_dir + 'train_agg_smp.feather')\n",
    "feather.write_feather(test_agg_smp, results_dir + 'test_agg_smp.feather')"
   ]
  },
  {
   "cell_type": "code",
   "execution_count": null,
   "id": "4632a164-871d-400e-9fd0-f88c766e0470",
   "metadata": {},
   "outputs": [],
   "source": [
    "print('Training set: ', train_agg_smp.shape, '\\nTest set: ',  test_agg_smp.shape)"
   ]
  },
  {
   "cell_type": "markdown",
   "id": "96756d55-cbea-44c6-b333-384ac36840b5",
   "metadata": {},
   "source": [
    "### Create feature set and vector of outcome labels"
   ]
  },
  {
   "cell_type": "code",
   "execution_count": null,
   "id": "ecfa3fe6-250a-486e-a01e-fc5077eaa558",
   "metadata": {},
   "outputs": [],
   "source": [
    "# Training set\n",
    "Y_train_out = train_agg_smp[['ln.Tot_IFF_t']]\n",
    "Y_train_in = train_agg_smp[['ln.In_Tot_IFF_t']]\n",
    "X_train = train_agg_smp[features]\n",
    "\n",
    "# Test set\n",
    "Y_test_out = test_agg_smp[['ln.Tot_IFF_t']]\n",
    "Y_test_in = test_agg_smp[['ln.In_Tot_IFF_t']]\n",
    "X_test = test_agg_smp[features]"
   ]
  },
  {
   "cell_type": "code",
   "execution_count": null,
   "id": "b9b3fb7b-8985-42b1-a528-6d26804f4945",
   "metadata": {},
   "outputs": [],
   "source": [
    "idx = train_agg_smp[ids]"
   ]
  },
  {
   "cell_type": "markdown",
   "id": "a962f774-30da-4129-aa6e-fc640a92d9c4",
   "metadata": {},
   "source": [
    "### Create placebo samples"
   ]
  },
  {
   "cell_type": "code",
   "execution_count": null,
   "id": "9229d88d-3319-4d40-b7eb-ec99b55cfbd7",
   "metadata": {},
   "outputs": [],
   "source": [
    "# Unilateral features of reporter i\n",
    "Xi = X_train[['ln.gdp_o', 'ln.pop_o', 'ihs.entry_cost_o', \n",
    "              'rCorrCont', 'rRegQual', 'rRuleLaw',\n",
    "              'rFATF', \n",
    "              'kai_o', 'kao_o', 'cc_o', 'cci_o', 'cco_o', 'di_o', 'dii_o', 'dio_o']]"
   ]
  },
  {
   "cell_type": "code",
   "execution_count": null,
   "id": "fbc091a9-6f0a-4091-acd7-94741e49c0c9",
   "metadata": {},
   "outputs": [],
   "source": [
    "# Unilateral features of partner j\n",
    "Xj = X_train[['ln.gdp_d', 'ln.pop_d', 'ihs.entry_cost_d', \n",
    "              'pCorrCont', 'pRegQual', 'pRuleLaw',\n",
    "              'pSecrecyScore', 'pFSI.rank', 'pKFSI13', 'pKFSI17', 'pKFSI20',\n",
    "              'pFATF', \n",
    "              'kai_d', 'kao_d', 'cc_d', 'cci_d', 'cco_d', 'di_d', 'dii_d', 'dio_d']]"
   ]
  },
  {
   "cell_type": "code",
   "execution_count": null,
   "id": "ecd4ca65-676b-4a6b-a348-ed31ccb3152d",
   "metadata": {},
   "outputs": [],
   "source": [
    "# Bilateral features of i and j\n",
    "Xij = X_train[['dist', 'contig', 'comlang', 'comcol', 'col45', 'rta', 'ihs.tariff']]"
   ]
  },
  {
   "cell_type": "markdown",
   "id": "e2a38f8b-9c88-4454-94aa-426363a96a22",
   "metadata": {},
   "source": [
    "#### Randomly re-assign partner j"
   ]
  },
  {
   "cell_type": "code",
   "execution_count": null,
   "id": "8662b350-ed2d-42a6-bcde-05285bf8d5b6",
   "metadata": {},
   "outputs": [],
   "source": [
    "# Shuffle partners j, keeping same unilateral characteristics, but randomly assigned to reporter i\n",
    "Xj_shuffle = Xj.sample(frac = 1)"
   ]
  },
  {
   "cell_type": "code",
   "execution_count": null,
   "id": "1d75c54b-1b31-4c02-95a0-c02604b78815",
   "metadata": {},
   "outputs": [],
   "source": [
    "# Combine all features into placebo predictor matrix\n",
    "Xj_placebo = pd.concat([Xi, Xj_shuffle, Xij], axis = 1, ignore_index = True)"
   ]
  },
  {
   "cell_type": "code",
   "execution_count": null,
   "id": "b15c9818-2b6c-4b7a-9f7e-16b6490fa7a5",
   "metadata": {},
   "outputs": [],
   "source": [
    "print('Xi: ', Xi.shape, '\\nXj_shuffle: ',  Xj_shuffle.shape, '\\nXij: ',  Xij.shape)\n",
    "print('X_train: ', X_train.shape, '\\nXj_placebo: ',  Xj_placebo.shape)"
   ]
  },
  {
   "cell_type": "markdown",
   "id": "984bdb8d-4a9b-413f-b7e9-b43f469f8f58",
   "metadata": {},
   "source": [
    "#### Randomly shuffle all bilateral transactions"
   ]
  },
  {
   "cell_type": "code",
   "execution_count": null,
   "id": "9b8f4285-b583-4411-91d7-fe2cc9608cc0",
   "metadata": {},
   "outputs": [],
   "source": [
    "# Shuffle all rows in the feature set\n",
    "X_placebo = X_train.sample(frac = 1)"
   ]
  },
  {
   "cell_type": "code",
   "execution_count": null,
   "id": "7bb9453b-c90e-4958-9847-e309ad90c12c",
   "metadata": {},
   "outputs": [],
   "source": [
    "print('X_train: ', X_train.shape, '\\nX_placebo: ',  X_placebo.shape)"
   ]
  },
  {
   "cell_type": "markdown",
   "id": "4780b428-b947-49ec-acba-9b5f146d70f9",
   "metadata": {},
   "source": [
    "### Tune Random Forest model"
   ]
  },
  {
   "cell_type": "code",
   "execution_count": null,
   "id": "f4f8545d-eccf-464b-b857-10d3db83e13f",
   "metadata": {},
   "outputs": [],
   "source": [
    "# The hyperparameters were found using a cross-validation randomized search strategy on the training sample X_train\n",
    "RF_out_tuned = RandomForestRegressor(random_state = 1509,\n",
    "                                     n_estimators = 1278,\n",
    "                                     max_depth = 195,\n",
    "                                     min_samples_split = 12,\n",
    "                                     min_samples_leaf = 1,\n",
    "                                     max_features = 'auto',\n",
    "                                     bootstrap = True)\n",
    "\n",
    "# Set up another RF estimator for placebo tests (exactly the same as above) to not confuse them\n",
    "RF_out_tuned_placebo = RandomForestRegressor(random_state = 1509,\n",
    "                                             n_estimators = 1278,\n",
    "                                             max_depth = 195,\n",
    "                                             min_samples_split = 12,\n",
    "                                             min_samples_leaf = 1,\n",
    "                                             max_features = 'auto',\n",
    "                                             bootstrap = True)"
   ]
  },
  {
   "cell_type": "markdown",
   "id": "01d59f92-0422-4709-9515-3c112dca8e3a",
   "metadata": {},
   "source": [
    "### Results on real samples"
   ]
  },
  {
   "cell_type": "code",
   "execution_count": null,
   "id": "e2e809c8-9721-482b-9dba-a68701f8005b",
   "metadata": {},
   "outputs": [],
   "source": [
    "# Fit tuned model on real training data\n",
    "RF_out_tuned.fit(X_train, Y_train_out.values.ravel())"
   ]
  },
  {
   "cell_type": "code",
   "execution_count": null,
   "id": "5abf387d-7e25-4393-ba5a-9cb597bdbb44",
   "metadata": {},
   "outputs": [],
   "source": [
    "# Training R-squared\n",
    "RF_out_tuned.score(X_train, Y_train_out)"
   ]
  },
  {
   "cell_type": "code",
   "execution_count": null,
   "id": "b6a5f979-bb10-40d7-9551-adb5e2beadc1",
   "metadata": {},
   "outputs": [],
   "source": [
    "# Test R-squared\n",
    "RF_out_tuned.score(X_test, Y_test_out)"
   ]
  },
  {
   "cell_type": "code",
   "execution_count": null,
   "id": "3faee29c-12cc-4e05-be9a-77f375948d18",
   "metadata": {},
   "outputs": [],
   "source": [
    "# Reset the estimator for cross_val_score\n",
    "RF_out_tuned_placebo = RandomForestRegressor(random_state = 1509,\n",
    "                                             n_estimators = 1278,\n",
    "                                             max_depth = 195,\n",
    "                                             min_samples_split = 12,\n",
    "                                             min_samples_leaf = 1,\n",
    "                                             max_features = 'auto',\n",
    "                                             bootstrap = True)"
   ]
  },
  {
   "cell_type": "code",
   "execution_count": null,
   "id": "55a62fde-527d-47e2-85c4-da3a0a9dbe09",
   "metadata": {},
   "outputs": [],
   "source": [
    "# Cross-validated R-squared on the full sample using 5 folds\n",
    "CV_scores = cross_val_score(RF_out_tuned, X, Y_out.values.ravel())\n",
    "print('R-squared from each fold :', CV_scores)"
   ]
  },
  {
   "cell_type": "code",
   "execution_count": null,
   "id": "d309c903-8842-464e-8f80-6da210c5872e",
   "metadata": {},
   "outputs": [],
   "source": [
    "# Mean cross-validated score\n",
    "CV_scores.mean()"
   ]
  },
  {
   "cell_type": "code",
   "execution_count": null,
   "id": "8129d15a-27a8-41f5-888d-ca531fcb693d",
   "metadata": {},
   "outputs": [],
   "source": [
    "# Cross-validated R-squared on the training sample using 5 folds\n",
    "# This is the best score reported by RandomizedSearchCV\n",
    "# This is the one to report because CV doesn't need train/test split\n",
    "# X_train here is the one used in hyperparameter tuning\n",
    "# Error here is from held-out test sets so model was not fit on X_train\n",
    "CV_train_scores = cross_val_score(RF_out_tuned, X_train, Y_train_out.values.ravel())\n",
    "print('R-squared from each fold (training):', CV_train_scores)"
   ]
  },
  {
   "cell_type": "code",
   "execution_count": null,
   "id": "2e03f227-69a6-4420-96ed-eeae4a18bd9f",
   "metadata": {},
   "outputs": [],
   "source": [
    "# Mean cross-validated score\n",
    "CV_train_scores.mean()"
   ]
  },
  {
   "cell_type": "code",
   "execution_count": null,
   "id": "26213071-a993-43a0-b33a-d2cbc3d949fb",
   "metadata": {
    "tags": []
   },
   "outputs": [],
   "source": [
    "# Cross-validated R-squared on the test sample using 5 folds\n",
    "CV_test_scores = cross_val_score(RF_out_tuned, X_test, Y_test_out.values.ravel())\n",
    "print('R-squared from each fold (test):', CV_test_scores)"
   ]
  },
  {
   "cell_type": "code",
   "execution_count": null,
   "id": "9fdc3b51-7389-4c3c-8125-30e9e864a873",
   "metadata": {},
   "outputs": [],
   "source": [
    "# Mean cross-validated score\n",
    "CV_test_scores.mean()"
   ]
  },
  {
   "cell_type": "markdown",
   "id": "b4048885-4434-4b70-87bd-4bf754ae5336",
   "metadata": {},
   "source": [
    "### Results on placebo data where partners are shuffled"
   ]
  },
  {
   "cell_type": "code",
   "execution_count": null,
   "id": "8c6b9993-8258-4a45-a16a-e3f8c38435ea",
   "metadata": {},
   "outputs": [],
   "source": [
    "# Fit tuned model on placebo data where partners j have been randomly re-assigned\n",
    "RF_out_tuned_placebo.fit(Xj_placebo, Y_train_out.values.ravel())"
   ]
  },
  {
   "cell_type": "code",
   "execution_count": null,
   "id": "96fcaf91-8fbc-4840-81a6-bb480a739673",
   "metadata": {},
   "outputs": [],
   "source": [
    "# Training R-squared\n",
    "RF_out_tuned_placebo.score(Xj_placebo, Y_train_out)"
   ]
  },
  {
   "cell_type": "code",
   "execution_count": null,
   "id": "133ba75a-fedd-4c58-a925-762edd8c9de6",
   "metadata": {},
   "outputs": [],
   "source": [
    "# Test R-squared\n",
    "RF_out_tuned_placebo.score(X_test, Y_test_out)"
   ]
  },
  {
   "cell_type": "code",
   "execution_count": null,
   "id": "15542127-6d04-4791-aa68-e4d94ea4b606",
   "metadata": {},
   "outputs": [],
   "source": [
    "# Reset the estimator for cross_val_score\n",
    "RF_out_tuned_placebo = RandomForestRegressor(random_state = 1509,\n",
    "                                             n_estimators = 1278,\n",
    "                                             max_depth = 195,\n",
    "                                             min_samples_split = 12,\n",
    "                                             min_samples_leaf = 1,\n",
    "                                             max_features = 'auto',\n",
    "                                             bootstrap = True)"
   ]
  },
  {
   "cell_type": "code",
   "execution_count": null,
   "id": "c839a648-2253-459f-aabe-65e7fc7286b7",
   "metadata": {},
   "outputs": [],
   "source": [
    "# Cross-validated R-squared on the full sample using 5 folds\n",
    "CV_scores_placebo = cross_val_score(RF_out_tuned_placebo, X, Y_out.values.ravel())\n",
    "print('R-squared from each fold :', CV_scores_placebo)"
   ]
  },
  {
   "cell_type": "code",
   "execution_count": null,
   "id": "8c958d1c-cfc4-4aa2-b16b-af9aa6307e71",
   "metadata": {},
   "outputs": [],
   "source": [
    "CV_scores_placebo.mean()"
   ]
  },
  {
   "cell_type": "code",
   "execution_count": null,
   "id": "2aba1d5d-41c2-4866-86fd-3a266f379dcd",
   "metadata": {},
   "outputs": [],
   "source": [
    "# Cross-validated R-squared on the training sample using 5 folds\n",
    "CV_train_scores_placebo = cross_val_score(RF_out_tuned_placebo, Xj_placebo, Y_train_out.values.ravel())\n",
    "print('R-squared from each fold (training):', CV_train_scores_placebo)"
   ]
  },
  {
   "cell_type": "code",
   "execution_count": null,
   "id": "7c9fb29d-380d-4210-89c6-86a9e83466e1",
   "metadata": {},
   "outputs": [],
   "source": [
    "# Mean cross-validated score\n",
    "CV_train_scores_placebo.mean()"
   ]
  },
  {
   "cell_type": "code",
   "execution_count": null,
   "id": "52a295fa-9350-4933-9af3-5cf44315738b",
   "metadata": {},
   "outputs": [],
   "source": [
    "# Cross-validated R-squared on the test sample using 5 folds\n",
    "CV_test_scores_placebo = cross_val_score(RF_out_tuned_placebo, X_test, Y_test_out.values.ravel())\n",
    "print('R-squared from each fold (test):', CV_test_scores_placebo)"
   ]
  },
  {
   "cell_type": "code",
   "execution_count": null,
   "id": "7789b5ac-521b-40f6-bb9e-edb859e0ff4d",
   "metadata": {},
   "outputs": [],
   "source": [
    "CV_test_scores_placebo.mean()"
   ]
  },
  {
   "cell_type": "markdown",
   "id": "30f8100a-4a5d-44b2-b47b-dd3ecf4185d8",
   "metadata": {},
   "source": [
    "### Results on placebo data where bilateral trades are reshuffled"
   ]
  },
  {
   "cell_type": "code",
   "execution_count": null,
   "id": "b531851f-c84b-4f70-a5f4-4cfbc942c230",
   "metadata": {},
   "outputs": [],
   "source": [
    "# Fit tuned model on placebo data where rows \n",
    "RF_out_tuned_placebo.fit(X_placebo, Y_train_out.values.ravel())"
   ]
  },
  {
   "cell_type": "code",
   "execution_count": null,
   "id": "e421d043-7c4f-4264-8ef4-a88028af04a4",
   "metadata": {},
   "outputs": [],
   "source": [
    "# Training R-squared\n",
    "RF_out_tuned_placebo.score(X_placebo, Y_train_out)"
   ]
  },
  {
   "cell_type": "code",
   "execution_count": null,
   "id": "f9f56f2c-2462-44dc-952f-c1b4c0a3f2b9",
   "metadata": {},
   "outputs": [],
   "source": [
    "# Test R-squared\n",
    "RF_out_tuned_placebo.score(X_test, Y_test_out)"
   ]
  },
  {
   "cell_type": "code",
   "execution_count": null,
   "id": "3963d413-ad16-4728-822f-f9123070aa94",
   "metadata": {},
   "outputs": [],
   "source": [
    "# Reset the estimator for cross_val_score\n",
    "RF_out_tuned_placebo = RandomForestRegressor(random_state = 1509,\n",
    "                                             n_estimators = 1278,\n",
    "                                             max_depth = 195,\n",
    "                                             min_samples_split = 12,\n",
    "                                             min_samples_leaf = 1,\n",
    "                                             max_features = 'auto',\n",
    "                                             bootstrap = True)"
   ]
  },
  {
   "cell_type": "code",
   "execution_count": null,
   "id": "2d51be1a-509d-4e57-b285-466a0ab92753",
   "metadata": {},
   "outputs": [],
   "source": [
    "# Cross-validated R-squared on the full sample using 5 folds\n",
    "CV_scores_placebo = cross_val_score(RF_out_tuned_placebo, X, Y_out.values.ravel())\n",
    "print('R-squared from each fold :', CV_scores_placebo)"
   ]
  },
  {
   "cell_type": "code",
   "execution_count": null,
   "id": "af5503da-2e22-460a-9fbd-4b3d1a1cb0a2",
   "metadata": {},
   "outputs": [],
   "source": [
    "CV_scores_placebo.mean()"
   ]
  },
  {
   "cell_type": "code",
   "execution_count": null,
   "id": "a03a61fb-4146-495d-8007-71c4915aad5b",
   "metadata": {},
   "outputs": [],
   "source": [
    "# Cross-validated R-squared on the training sample using 5 folds\n",
    "CV_train_scores_placebo = cross_val_score(RF_out_tuned_placebo, X_placebo, Y_train_out.values.ravel())\n",
    "print('R-squared from each fold (training):', CV_train_scores_placebo)"
   ]
  },
  {
   "cell_type": "code",
   "execution_count": null,
   "id": "c2c83e3f-9995-4844-89ab-a3797b75154f",
   "metadata": {},
   "outputs": [],
   "source": [
    "# Mean cross-validated score\n",
    "CV_train_scores_placebo.mean()"
   ]
  },
  {
   "cell_type": "code",
   "execution_count": null,
   "id": "9fff9ac9-501f-4dde-8555-762e3f4b36cf",
   "metadata": {},
   "outputs": [],
   "source": [
    "# Cross-validated R-squared on the test sample using 5 folds\n",
    "CV_test_scores_placebo = cross_val_score(RF_out_tuned_placebo, X_test, Y_test_out.values.ravel())\n",
    "print('R-squared from each fold (test):', CV_test_scores_placebo)"
   ]
  },
  {
   "cell_type": "code",
   "execution_count": null,
   "id": "69c1fd47-e0fb-40ba-a6d1-b2b0b0097576",
   "metadata": {},
   "outputs": [],
   "source": [
    "CV_test_scores_placebo.mean()"
   ]
  },
  {
   "cell_type": "markdown",
   "id": "3455de7f-21df-41b4-b2e6-d91a6de2a46c",
   "metadata": {
    "tags": []
   },
   "source": [
    "### Placebo trials"
   ]
  },
  {
   "cell_type": "code",
   "execution_count": null,
   "id": "acb91a36-cb0e-4032-9b51-93ad6c94f67f",
   "metadata": {},
   "outputs": [],
   "source": [
    "# Reset the estimator for cross_val_score\n",
    "RF_out_tuned_placebo = RandomForestRegressor(random_state = 1509,\n",
    "                                             n_estimators = 1278,\n",
    "                                             max_depth = 195,\n",
    "                                             min_samples_split = 12,\n",
    "                                             min_samples_leaf = 1,\n",
    "                                             max_features = 'auto',\n",
    "                                             bootstrap = True)"
   ]
  },
  {
   "cell_type": "code",
   "execution_count": null,
   "id": "03660e5e-23f9-4af0-bfb9-ebf0ff01e00a",
   "metadata": {},
   "outputs": [],
   "source": [
    "def placebo_trials(estimator, X_train, Y_train, X_test, Y_test, trials):\n",
    "    \"\"\"\n",
    "    Run placebo trials where RF model is refit on placebo training data\n",
    "    and performance is evaluated on a test set\n",
    "    \"\"\"\n",
    "    r2_scores = np.empty((0,3))\n",
    "    \n",
    "    for i in range(trials):\n",
    "        # Shuffle all rows in the feature set\n",
    "        X_placebo = X_train.sample(frac = 1)\n",
    "        \n",
    "        # Fit model\n",
    "        estimator.fit(X_placebo, Y_train.values.ravel())\n",
    "        \n",
    "        # Get predictions on training\n",
    "#         preds = estimator.predict(X_placebo)\n",
    "        \n",
    "        # Get predictions on test\n",
    "        preds_tst = estimator.predict(X_test)\n",
    "        \n",
    "        # Get test MSE\n",
    "        MSE_tst = mean_squared_error(Y_test, preds_tst)\n",
    "        \n",
    "        # Get training scores\n",
    "        r2_trn = estimator.score(X_placebo, Y_train)\n",
    "        \n",
    "        # Get test scores\n",
    "        r2_tst = estimator.score(X_test, Y_test)\n",
    "        \n",
    "        # Keep track of scores\n",
    "        r2_scores = np.append(r2_scores, np.array([[r2_trn, r2_tst, MSE_tst]]), 0)\n",
    "    return r2_scores"
   ]
  },
  {
   "cell_type": "code",
   "execution_count": null,
   "id": "75a98793-c07e-455f-ba70-ef7d0909014e",
   "metadata": {},
   "outputs": [],
   "source": [
    "placebo_trials(RF_out_tuned_placebo, X_train, Y_train_out, X_test, Y_test_out, 2)"
   ]
  }
 ],
 "metadata": {
  "kernelspec": {
   "display_name": "Python 3 (ipykernel)",
   "language": "python",
   "name": "python3"
  },
  "language_info": {
   "codemirror_mode": {
    "name": "ipython",
    "version": 3
   },
   "file_extension": ".py",
   "mimetype": "text/x-python",
   "name": "python",
   "nbconvert_exporter": "python",
   "pygments_lexer": "ipython3",
   "version": "3.9.6"
  }
 },
 "nbformat": 4,
 "nbformat_minor": 5
}
